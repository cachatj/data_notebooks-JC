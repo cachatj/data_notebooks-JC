{
 "cells": [
  {
   "cell_type": "markdown",
   "metadata": {
    "id": "DBFxRKFNxv3t"
   },
   "source": [
    "# pandas Data Wrangling Complete Guide - 2021\n",
    "\n",
    "Handling and Manipulating pd.DataFrames"
   ]
  },
  {
   "cell_type": "code",
   "execution_count": null,
   "metadata": {
    "colab": {
     "base_uri": "https://localhost:8080/"
    },
    "executionInfo": {
     "elapsed": 18646,
     "status": "ok",
     "timestamp": 1658558606915,
     "user": {
      "displayName": "Jonathan Cachat, PhD",
      "userId": "05286476128459685219"
     },
     "user_tz": 240
    },
    "id": "urKuhYCpyKEN",
    "outputId": "d95a1d05-f9be-4155-d4b0-4511398e2cdf",
    "tags": []
   },
   "outputs": [],
   "source": [
    "#Connect to gDrive Files\n",
    "from google.colab import drive\n",
    "drive.mount('/content/drive')"
   ]
  },
  {
   "cell_type": "markdown",
   "metadata": {},
   "source": [
    "### Import CSV, Load Head"
   ]
  },
  {
   "cell_type": "code",
   "execution_count": null,
   "metadata": {
    "colab": {
     "base_uri": "https://localhost:8080/",
     "height": 206
    },
    "executionInfo": {
     "elapsed": 613,
     "status": "ok",
     "timestamp": 1658558711931,
     "user": {
      "displayName": "Jonathan Cachat, PhD",
      "userId": "05286476128459685219"
     },
     "user_tz": 240
    },
    "id": "3P_71rRxxv4H",
    "outputId": "b19c58bc-0bdc-49d6-c9bb-05d06ec9c471",
    "tags": []
   },
   "outputs": [],
   "source": [
    "#import, Load CSV & First 5 Rows\n",
    "\n",
    "import pandas as pd\n",
    "\n",
    "mpg_df = pd.read_csv('/Users/JCachat/Google Drive/JupyterNB-JC/pandas_datawrangling_complete_guide-2021/data/mpg_dataset - Clip.csv')\n",
    "\n",
    "mpg_df.head()"
   ]
  },
  {
   "cell_type": "markdown",
   "metadata": {},
   "source": [
    "## Basics"
   ]
  },
  {
   "cell_type": "code",
   "execution_count": null,
   "metadata": {
    "colab": {
     "base_uri": "https://localhost:8080/"
    },
    "executionInfo": {
     "elapsed": 181,
     "status": "ok",
     "timestamp": 1658558895013,
     "user": {
      "displayName": "Jonathan Cachat, PhD",
      "userId": "05286476128459685219"
     },
     "user_tz": 240
    },
    "id": "Ojuy2xjvxv4N",
    "outputId": "7ba85e1f-b4b0-4f1b-deaf-74b50e34713f"
   },
   "outputs": [],
   "source": [
    "# View the columns\n",
    "mpg_df.columns"
   ]
  },
  {
   "cell_type": "code",
   "execution_count": null,
   "metadata": {
    "colab": {
     "base_uri": "https://localhost:8080/"
    },
    "executionInfo": {
     "elapsed": 181,
     "status": "ok",
     "timestamp": 1658558897817,
     "user": {
      "displayName": "Jonathan Cachat, PhD",
      "userId": "05286476128459685219"
     },
     "user_tz": 240
    },
    "id": "WpooDWk2xv4O",
    "outputId": "784d8be7-651a-4a0f-bed2-d5ccd89d3257"
   },
   "outputs": [],
   "source": [
    "# Shape (rows/observations vs columns)\n",
    "mpg_df.shape"
   ]
  },
  {
   "cell_type": "code",
   "execution_count": null,
   "metadata": {
    "colab": {
     "base_uri": "https://localhost:8080/"
    },
    "executionInfo": {
     "elapsed": 165,
     "status": "ok",
     "timestamp": 1658558919611,
     "user": {
      "displayName": "Jonathan Cachat, PhD",
      "userId": "05286476128459685219"
     },
     "user_tz": 240
    },
    "id": "zhhujmwsxv4P",
    "outputId": "2d390b2a-8d6a-48ca-cf89-31c8e81eb76b"
   },
   "outputs": [],
   "source": [
    "# Info (null counts, data types)\n",
    "mpg_df.info()"
   ]
  },
  {
   "cell_type": "code",
   "execution_count": null,
   "metadata": {
    "id": "BFvqykNqxv4Q",
    "outputId": "3496f7c7-a60e-431c-cb90-672a1da4a6dc"
   },
   "outputs": [],
   "source": [
    "# Accessing a column from the DataFrame\n",
    "mpg_df.mpg\n",
    "mpg_df['mpg']"
   ]
  },
  {
   "cell_type": "code",
   "execution_count": null,
   "metadata": {
    "id": "dtELHCd3xv4S",
    "outputId": "6a5016ea-4bfe-4a31-ff38-4a432c92e651"
   },
   "outputs": [],
   "source": [
    "# pandas Object details\n",
    "\n",
    "type(mpg_df['mpg'])"
   ]
  },
  {
   "cell_type": "code",
   "execution_count": null,
   "metadata": {
    "id": "jytjmnqxxv4T",
    "outputId": "2a9d0019-e09d-47c5-c598-1a80a48d1252"
   },
   "outputs": [],
   "source": [
    "#UNKNOWN\n",
    "#mpg_df[['mpg']]"
   ]
  },
  {
   "cell_type": "code",
   "execution_count": null,
   "metadata": {
    "id": "uEu5iJKlxv4T",
    "outputId": "9ebf77e6-10d1-4b1d-8bc1-deb196b50dc3"
   },
   "outputs": [],
   "source": [
    "# View data type of each column in the DF\n",
    "mpg_df.dtypes"
   ]
  },
  {
   "cell_type": "markdown",
   "metadata": {},
   "source": [
    "## df Summary Statistics"
   ]
  },
  {
   "cell_type": "code",
   "execution_count": null,
   "metadata": {
    "id": "hCspGjZ8xv4U",
    "outputId": "812f7f1e-3d2a-46bb-c7e4-385f52bd26b8"
   },
   "outputs": [],
   "source": [
    "# All Column Summary Stats (count, mean, std, min, max)\n",
    "mpg_df.describe()"
   ]
  },
  {
   "cell_type": "code",
   "execution_count": null,
   "metadata": {
    "id": "Dw-t02I_xv4V",
    "outputId": "fa2bb413-a7d6-4a50-e0d9-2f501c20acd3"
   },
   "outputs": [],
   "source": [
    "# Column Summary Stats\n",
    "\n",
    "mpg_df.model_year.describe()"
   ]
  },
  {
   "cell_type": "code",
   "execution_count": null,
   "metadata": {
    "id": "xZ4S80uexv5e",
    "outputId": "fd94673e-e107-472f-f87b-df009816aef1"
   },
   "outputs": [],
   "source": [
    "#  Column values count (list unique values and count)\n",
    "mpg_df.mpg.value_counts()"
   ]
  },
  {
   "cell_type": "code",
   "execution_count": null,
   "metadata": {
    "id": "VpRsNU28xv5g",
    "outputId": "d58aa6e8-0469-4b82-fe22-9af87f78c1b9"
   },
   "outputs": [],
   "source": [
    "# Any Missing Values? All Columns\n",
    "mpg_df.isna().sum()"
   ]
  },
  {
   "cell_type": "markdown",
   "metadata": {},
   "source": [
    "## Copy & Compare DataFrame"
   ]
  },
  {
   "cell_type": "code",
   "execution_count": null,
   "metadata": {
    "id": "P6De9YO4xv5h",
    "outputId": "80d54d5c-5298-4d86-9890-318fd61c2f2e"
   },
   "outputs": [],
   "source": [
    "# Copy DataFrame & Logical Comparison btw DataFrames\n",
    "cdf = mpg_df.copy()\n",
    "id(cdf)==id(mpg_df)"
   ]
  },
  {
   "cell_type": "code",
   "execution_count": null,
   "metadata": {
    "id": "vrbHH3gSxv5n",
    "outputId": "873e70f3-9544-471e-fefa-43bf42c99de0"
   },
   "outputs": [],
   "source": [
    "# Scan Column for min/max/avg value and return entire row\n",
    "cdf[cdf['mpg']==cdf['mpg'].min()]"
   ]
  },
  {
   "cell_type": "code",
   "execution_count": null,
   "metadata": {
    "id": "69BzPRJPxv5q",
    "outputId": "55ba40b6-59b4-466d-fb64-83f77ad78844"
   },
   "outputs": [],
   "source": [
    "# Scan Select Columns for min/max/avg value and return entire row\n",
    "cdf[['mpg','horsepower','origin']][cdf['mpg']==cdf['mpg'].min()]"
   ]
  },
  {
   "cell_type": "code",
   "execution_count": null,
   "metadata": {
    "id": "ocCxpxXMxv5_",
    "outputId": "db5129f3-c756-4cb9-8b6c-7934c9330a22"
   },
   "outputs": [],
   "source": [
    "# Setting mpg value based on condition using loc\n",
    "cdf.loc[cdf['mpg']==cdf['mpg'].max(),'mpg'] = 9.005\n",
    "cdf.loc[cdf['mpg']==cdf['mpg'].min()]"
   ]
  },
  {
   "cell_type": "code",
   "execution_count": null,
   "metadata": {
    "id": "NDyyOPxExv5_",
    "outputId": "24a60cab-22bd-495c-caab-4a209df6ccc6"
   },
   "outputs": [],
   "source": [
    "# Setting mpg value based on condition using loc\n",
    "cdf.loc[cdf['mpg']==cdf['mpg'].min(),['mpg','weight','name']] = 9.005,4733,'fordtorino'\n",
    "cdf.loc[cdf['mpg']==cdf['mpg'].min()]"
   ]
  },
  {
   "cell_type": "code",
   "execution_count": null,
   "metadata": {
    "id": "jUnWqF70xv6A",
    "outputId": "46654b86-3ce0-44f9-9d25-8084126d5b0b"
   },
   "outputs": [],
   "source": [
    "# Get Specifc Row based on Index\n",
    "mpg_df.iloc[28]"
   ]
  },
  {
   "cell_type": "code",
   "execution_count": null,
   "metadata": {
    "id": "vbanBITixv6A",
    "outputId": "876bf560-af9c-468c-a53e-078b80f75de0"
   },
   "outputs": [],
   "source": [
    "#Get Specific Rows based on Range of Index\n",
    "cdf.loc[2:15,'mpg':'displacement']"
   ]
  },
  {
   "cell_type": "code",
   "execution_count": null,
   "metadata": {
    "id": "tD1kg0joxv6A",
    "outputId": "5d1e78a1-b3be-4f64-faa4-c5f793100f92"
   },
   "outputs": [],
   "source": [
    "# Get Section of DF based on Position\n",
    "cdf.loc[[1,3,5],['mpg','displacement']]"
   ]
  },
  {
   "cell_type": "code",
   "execution_count": null,
   "metadata": {
    "id": "Zl_lk2PIxv6G",
    "outputId": "29dede33-420a-410a-9a9e-70d5f470bde5"
   },
   "outputs": [],
   "source": [
    "# New df with name column as index (row labels)\n",
    "abc_df = cdf.set_index(\"name\")\n",
    "abc_df.head()"
   ]
  },
  {
   "cell_type": "code",
   "execution_count": null,
   "metadata": {
    "id": "wT_j7c-oxv6G",
    "outputId": "c969d243-9059-4d44-b075-ce1f8172b6ec"
   },
   "outputs": [],
   "source": [
    "# Retrieve row based on index label (name, not location)\n",
    "abc_df.loc['buick skylark 320']"
   ]
  },
  {
   "cell_type": "code",
   "execution_count": null,
   "metadata": {
    "id": "6bOw0Qguxv6G",
    "outputId": "5d2e7f1b-1792-41c4-f7ee-f58e7c0657fb"
   },
   "outputs": [],
   "source": [
    "# Retrieve all rows/observations based on value of specified column\n",
    "rdf = cdf.loc[cdf['mpg']>17]\n",
    "rdf.head()"
   ]
  },
  {
   "cell_type": "code",
   "execution_count": null,
   "metadata": {
    "id": "JpCh2jupxv6I",
    "outputId": "ff2e11cd-4531-47ae-82a6-07a0b9dba88e"
   },
   "outputs": [],
   "source": [
    "# Reset Index\n",
    "rdf.reset_index(inplace=True)\n",
    "rdf.head()"
   ]
  },
  {
   "cell_type": "code",
   "execution_count": null,
   "metadata": {
    "id": "kFFZZcOpxv6I",
    "outputId": "b45a0157-743c-472e-87f5-d36aba19a60d"
   },
   "outputs": [],
   "source": [
    "# Reset Index & Drop Column\n",
    "abc_df.reset_index(inplace=True,drop=True)\n",
    "abc_df.head()"
   ]
  },
  {
   "cell_type": "code",
   "execution_count": null,
   "metadata": {
    "id": "fk0jgmmcxv6I",
    "outputId": "c4537650-145d-4072-cc76-2767c0bec3ce"
   },
   "outputs": [],
   "source": [
    "# New Columns Based on Calculated Values\n",
    "abc_df['name'] = 'xxx'\n",
    "abc_df['calc'] = abc_df['cylinders']*abc_df['mpg']\n",
    "abc_df.head()"
   ]
  },
  {
   "cell_type": "code",
   "execution_count": null,
   "metadata": {
    "id": "32xkhkzQxv6K",
    "outputId": "50c13da2-12dc-4db7-9179-6d913a9aa8b0"
   },
   "outputs": [],
   "source": [
    "# Rename Columns\n",
    "\n",
    "rdf = rdf.rename(columns={\n",
    "    'acceleration':'acc',\n",
    "    'model_year':'year'\n",
    "})\n",
    "rdf.head()"
   ]
  },
  {
   "cell_type": "code",
   "execution_count": null,
   "metadata": {
    "id": "EHC3vD4qxv6K",
    "outputId": "8ca7fa8d-384f-4f1e-8eab-dfa30b315c61"
   },
   "outputs": [],
   "source": [
    "# Sort Values\n",
    "\n",
    "weight_sorted_df = mpg_df.sort_values(by=['weight'],ascending=True)\n",
    "weight_sorted_df.head()"
   ]
  },
  {
   "cell_type": "markdown",
   "metadata": {},
   "source": [
    "## Looping thru Dataframes"
   ]
  },
  {
   "cell_type": "markdown",
   "metadata": {},
   "source": [
    "recommend restarting here with clear idea of dataframes"
   ]
  },
  {
   "cell_type": "code",
   "execution_count": null,
   "metadata": {
    "id": "20qFWuMBxv6L",
    "outputId": "f45ec2b5-cde4-4337-8bba-c94fa282e0d2"
   },
   "outputs": [],
   "source": [
    "# Loop thru each unique value in Origin column, and when value is found print price (new column and observations)\n",
    "\n",
    "for i in cdf['origin']: # for all rows (i) in dataframe column (origin)\n",
    "    if i == 'japan': # if origin is usa\n",
    "        cdf['price'] = 8888888 # set price to 50000\n",
    "    elif i == 'usa':\n",
    "        cdf['price'] = 10000\n",
    "    elif i == 'europe':\n",
    "        cdf['price'] = 9999999\n",
    "cdf.head(20)"
   ]
  },
  {
   "cell_type": "code",
   "execution_count": null,
   "metadata": {
    "id": "MCAGI30Vxv6L",
    "outputId": "57fe8bb6-03fd-486f-aa7c-e6997e9b65ed"
   },
   "outputs": [],
   "source": [
    "for i in cdf['origin']:\n",
    "    if i == 'usa':\n",
    "        cdf['price'] = 50000\n",
    "    elif i == 'japan':\n",
    "        cdf['price'] = 85000\n",
    "    elif i == 'europe':\n",
    "        cdf['price'] = 45000\n",
    "cdf.head(20)"
   ]
  },
  {
   "cell_type": "markdown",
   "metadata": {},
   "source": [
    "## Defining Functions"
   ]
  },
  {
   "cell_type": "code",
   "execution_count": null,
   "metadata": {
    "id": "p9wQRPRTxv6O",
    "outputId": "ab830469-a320-4209-8902-48761a69c7de"
   },
   "outputs": [],
   "source": [
    "# Function defined to calculate the price\n",
    "def calc_price(df):\n",
    "    if df['origin'] == 'usa':\n",
    "        df['price'] = 50000\n",
    "    elif df['origin'] == 'japan':\n",
    "        df['price'] = 85000\n",
    "    elif df['origin'] == 'europe':\n",
    "        df['price'] = 45000\n",
    "    return df\n",
    "weight_sorted_df = weight_sorted_df.apply(calc_price,axis=1)\n",
    "weight_sorted_df.head(20)"
   ]
  },
  {
   "cell_type": "code",
   "execution_count": null,
   "metadata": {
    "id": "ntWCstUIxv6O",
    "outputId": "3d866854-0668-48ce-8e91-36e9ca76638b"
   },
   "outputs": [],
   "source": [
    "# Creating a DF using a dictionary with list of prices & country\n",
    "price_dict = {'country': ['usa','japan','europe'],\n",
    "              'price': [50000,85000,45000]}\n",
    "price_df = pd.DataFrame(price_dict)\n",
    "print(price_df)"
   ]
  },
  {
   "cell_type": "markdown",
   "metadata": {},
   "source": [
    "## df.merge (JOIN, LEFT, RIGHT)"
   ]
  },
  {
   "cell_type": "code",
   "execution_count": null,
   "metadata": {
    "id": "smqlaW8_xv6h",
    "outputId": "fb79faf9-08e5-4bd8-9164-27df4f0c8232"
   },
   "outputs": [],
   "source": [
    "rdf = pd.merge(\n",
    "    rdf,\n",
    "    price_df,\n",
    "    left_on = 'origin',\n",
    "    right_on = 'country',\n",
    "    how = 'left'\n",
    ")\n",
    "rdf.head()"
   ]
  },
  {
   "cell_type": "code",
   "execution_count": null,
   "metadata": {
    "id": "QHAKIoQsxv6j",
    "outputId": "1970a051-97d3-4067-e222-156e5c3934de"
   },
   "outputs": [],
   "source": [
    "abc_df.loc[abc_df['origin']=='usa','price'] = 50000\n",
    "abc_df.loc[abc_df['origin']=='europe','price'] = 45000\n",
    "abc_df.loc[abc_df['origin']=='japan','price'] = 85000\n",
    "abc_df.head(20)"
   ]
  },
  {
   "cell_type": "code",
   "execution_count": null,
   "metadata": {
    "id": "XHV1Dr1fxv6k",
    "outputId": "0dd309a3-c236-4cd6-e5ab-48a94a2c793c"
   },
   "outputs": [],
   "source": [
    "p_dict = {'usa':500000,'europe':45000,'japan':85000}\n",
    "mpg_df['price']=mpg_df['origin'].map(p_dict)\n",
    "mpg_df.head()"
   ]
  },
  {
   "cell_type": "code",
   "execution_count": null,
   "metadata": {
    "id": "MUBao-jBxv6k",
    "outputId": "361ae8f2-caf3-40e2-bb41-fe914cbfe9e1"
   },
   "outputs": [],
   "source": [
    "dk = mpg_df.copy()\n",
    "pk_dict = {'mpg':50,'cylinders':10,'displacement':300,'horsepower':190,'weight':3500,'acceleration':14,'model_year':99,'name':'Suzuki'}\n",
    "pk = pd.DataFrame(pk_dict,columns=['mpg','cylinders','displacement','horsepower','weight','acceleration','model_year','name'],index=[0])\n",
    "pk.head()"
   ]
  },
  {
   "cell_type": "markdown",
   "metadata": {},
   "source": [
    "## df.append"
   ]
  },
  {
   "cell_type": "code",
   "execution_count": null,
   "metadata": {
    "id": "RhdtDZXYxv6k",
    "outputId": "aef89661-d03a-4f26-aa9e-31803e097b4e",
    "scrolled": true
   },
   "outputs": [],
   "source": [
    "# append dataframes together\n",
    "dk.append(pk).tail()"
   ]
  },
  {
   "cell_type": "code",
   "execution_count": null,
   "metadata": {
    "id": "DQ_S5-Xtxv6k",
    "outputId": "bd8098c0-af48-42e7-f519-ce8ff093b1b2"
   },
   "outputs": [],
   "source": [
    "dk.append(pk,ignore_index=True).tail()"
   ]
  },
  {
   "cell_type": "code",
   "execution_count": null,
   "metadata": {
    "id": "qqR5-o1bxv6t",
    "outputId": "c62161c9-bccd-4d94-82a3-e3f1695c01e6"
   },
   "outputs": [],
   "source": [
    "pd.concat([pk,mpg_df],ignore_index=True).head()"
   ]
  },
  {
   "cell_type": "markdown",
   "metadata": {},
   "source": [
    "## String Operations"
   ]
  },
  {
   "cell_type": "code",
   "execution_count": null,
   "metadata": {
    "id": "Jlcc95faxv6u",
    "outputId": "dd6d02aa-6c8d-4df1-b852-58365a355bf1"
   },
   "outputs": [],
   "source": [
    "# String operations\n",
    "kdf = mpg_df.copy()\n",
    "kdf['origin'] = kdf['origin'].str.strip()\n",
    "kdf['origin'] = kdf['origin'].str.upper()\n",
    "kdf.origin.unique()"
   ]
  },
  {
   "cell_type": "code",
   "execution_count": null,
   "metadata": {
    "id": "tY6kIEZ0xv6v",
    "outputId": "1bdea423-cefc-40df-bbd9-0e13ff41999e"
   },
   "outputs": [],
   "source": [
    "kdf[kdf['origin'].str.contains('eur',case=False)].head()"
   ]
  },
  {
   "cell_type": "markdown",
   "metadata": {},
   "source": [
    "## isna() % fillna()"
   ]
  },
  {
   "cell_type": "code",
   "execution_count": null,
   "metadata": {
    "id": "2N861HsNxv6w",
    "outputId": "6faef067-8bff-473a-b5b6-6b60fd6aa8c9"
   },
   "outputs": [],
   "source": [
    "#isna() to count missing values\n",
    "mpg_df.isna().sum()"
   ]
  },
  {
   "cell_type": "code",
   "execution_count": null,
   "metadata": {
    "id": "KuMWqGI9xv6x"
   },
   "outputs": [],
   "source": [
    "# fillna() to fill missing values\n",
    "mpg_df['price'] = mpg_df['price'].fillna(0)"
   ]
  },
  {
   "cell_type": "code",
   "execution_count": null,
   "metadata": {
    "id": "t_t2s3T7xv6x",
    "outputId": "b9c4758e-3b03-48ce-99f3-231470dd48d6"
   },
   "outputs": [],
   "source": [
    "mpg_df.isna().sum()"
   ]
  },
  {
   "cell_type": "code",
   "execution_count": null,
   "metadata": {
    "id": "YyNzu1kmxv6x"
   },
   "outputs": [],
   "source": [
    "mpg_df[['price','horsepower']] = mpg_df[['price','horsepower']].fillna(0)"
   ]
  },
  {
   "cell_type": "code",
   "execution_count": null,
   "metadata": {
    "id": "7XRljwTNxv6x",
    "outputId": "85fa07e4-8466-473a-dd1d-f5349a9f78c5"
   },
   "outputs": [],
   "source": [
    "mpg_df.isna().sum()"
   ]
  },
  {
   "cell_type": "markdown",
   "metadata": {},
   "source": [
    "## df.groupby()"
   ]
  },
  {
   "cell_type": "code",
   "execution_count": null,
   "metadata": {
    "id": "WEtinXHuxv6y",
    "outputId": "095efd44-adcf-490e-9eff-d921c3ea5a6d"
   },
   "outputs": [],
   "source": [
    "mpg_df.groupby('origin').mean()"
   ]
  },
  {
   "cell_type": "code",
   "execution_count": null,
   "metadata": {
    "id": "cFZ6D6DExv6y",
    "outputId": "befbfd4a-7299-4bee-a0f9-b8daaf088653"
   },
   "outputs": [],
   "source": [
    "mpg_df.groupby(['origin','price'])['cylinders'].sum()"
   ]
  },
  {
   "cell_type": "code",
   "execution_count": null,
   "metadata": {
    "id": "gy7rNTxSxv61",
    "outputId": "f2be02d1-78cc-4e7e-d6b0-09f7d383554b"
   },
   "outputs": [],
   "source": [
    "mpg_df.groupby(['origin','name'])['name'].count()"
   ]
  },
  {
   "cell_type": "code",
   "execution_count": null,
   "metadata": {
    "id": "yjmbPZpzxv67",
    "outputId": "69fdfbb7-ef49-47eb-e940-83e9bd7313d5"
   },
   "outputs": [],
   "source": [
    "mpg_df.groupby(['origin','price'])[['cylinders']].sum()"
   ]
  }
 ],
 "metadata": {
  "colab": {
   "collapsed_sections": [
    "y4brrG7Bxv67"
   ],
   "name": "pandas_datawrangling_complete_guide-2021 jc.ipynb",
   "provenance": [
    {
     "file_id": "1Oy-JOv27pBTI-emgGEu3X4eLQUPzvwnW",
     "timestamp": 1658558556628
    }
   ],
   "toc_visible": true
  },
  "kernelspec": {
   "display_name": "Python 3 (ipykernel)",
   "language": "python",
   "name": "python3"
  },
  "language_info": {
   "codemirror_mode": {
    "name": "ipython",
    "version": 3
   },
   "file_extension": ".py",
   "mimetype": "text/x-python",
   "name": "python",
   "nbconvert_exporter": "python",
   "pygments_lexer": "ipython3",
   "version": "3.8.13"
  },
  "vscode": {
   "interpreter": {
    "hash": "4b8d2e4912e898a856cbea02b8ffdafbc23e792ced81b5346975c6b1c7f009e8"
   }
  }
 },
 "nbformat": 4,
 "nbformat_minor": 4
}
