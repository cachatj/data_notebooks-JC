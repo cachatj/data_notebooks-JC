{
 "cells": [
  {
   "cell_type": "markdown",
   "id": "bb2dd5fa-a43a-444b-bde0-cdfc370df870",
   "metadata": {},
   "source": [
    "## authenticate with Service Account & Load packages"
   ]
  },
  {
   "cell_type": "code",
   "execution_count": 4,
   "id": "8863fa2d-c186-41b5-8e94-64c9eeb0c878",
   "metadata": {
    "tags": []
   },
   "outputs": [],
   "source": [
    "from google.oauth2 import service_account\n",
    "import pandas_gbq\n",
    "import pandas\n",
    "\n",
    "credentials = service_account.Credentials.from_service_account_file(\n",
    "    '/Users/jcachat/Downloads/innate-choir-321900-b0cdb8518f36.json',\n",
    ")"
   ]
  },
  {
   "cell_type": "markdown",
   "id": "c4377749-6813-46f9-a23d-4741344f05aa",
   "metadata": {},
   "source": [
    "## Reading data from BigQuery"
   ]
  },
  {
   "cell_type": "code",
   "execution_count": 8,
   "id": "c4363bff-8b7c-4fde-9307-2d8aba89b9d5",
   "metadata": {},
   "outputs": [
    {
     "name": "stderr",
     "output_type": "stream",
     "text": [
      "Downloading: 100%|██████████| 15/15 [00:01<00:00, 10.75rows/s]\n"
     ]
    },
    {
     "data": {
      "text/html": [
       "<div>\n",
       "<style scoped>\n",
       "    .dataframe tbody tr th:only-of-type {\n",
       "        vertical-align: middle;\n",
       "    }\n",
       "\n",
       "    .dataframe tbody tr th {\n",
       "        vertical-align: top;\n",
       "    }\n",
       "\n",
       "    .dataframe thead th {\n",
       "        text-align: right;\n",
       "    }\n",
       "</style>\n",
       "<table border=\"1\" class=\"dataframe\">\n",
       "  <thead>\n",
       "    <tr style=\"text-align: right;\">\n",
       "      <th></th>\n",
       "      <th>country_name</th>\n",
       "      <th>alpha_2_code</th>\n",
       "    </tr>\n",
       "  </thead>\n",
       "  <tbody>\n",
       "    <tr>\n",
       "      <th>0</th>\n",
       "      <td>Angola</td>\n",
       "      <td>AO</td>\n",
       "    </tr>\n",
       "    <tr>\n",
       "      <th>1</th>\n",
       "      <td>Antarctica</td>\n",
       "      <td>AQ</td>\n",
       "    </tr>\n",
       "    <tr>\n",
       "      <th>2</th>\n",
       "      <td>United Arab Emirates</td>\n",
       "      <td>AE</td>\n",
       "    </tr>\n",
       "    <tr>\n",
       "      <th>3</th>\n",
       "      <td>Armenia</td>\n",
       "      <td>AM</td>\n",
       "    </tr>\n",
       "    <tr>\n",
       "      <th>4</th>\n",
       "      <td>Azerbaijan</td>\n",
       "      <td>AZ</td>\n",
       "    </tr>\n",
       "  </tbody>\n",
       "</table>\n",
       "</div>"
      ],
      "text/plain": [
       "           country_name alpha_2_code\n",
       "0                Angola           AO\n",
       "1            Antarctica           AQ\n",
       "2  United Arab Emirates           AE\n",
       "3               Armenia           AM\n",
       "4            Azerbaijan           AZ"
      ]
     },
     "execution_count": 8,
     "metadata": {},
     "output_type": "execute_result"
    }
   ],
   "source": [
    "sql = \"\"\"\n",
    "SELECT country_name, alpha_2_code\n",
    "FROM `bigquery-public-data.utility_us.country_code_iso`\n",
    "WHERE alpha_2_code LIKE 'A%'\n",
    "\"\"\"\n",
    "\n",
    "df = pandas_gbq.read_gbq(sql, project_id=\"innate-choir-321900\", credentials=credentials)\n",
    "\n",
    "df.head()"
   ]
  },
  {
   "cell_type": "markdown",
   "id": "f09b6be4-a5b4-49cb-8194-88a58a0b89a6",
   "metadata": {},
   "source": [
    "## Writing data to BigQuery"
   ]
  },
  {
   "cell_type": "code",
   "execution_count": 10,
   "id": "b7f5f903-a920-4c4f-b0df-d95da2d843e2",
   "metadata": {},
   "outputs": [
    {
     "name": "stderr",
     "output_type": "stream",
     "text": [
      "1it [00:07,  7.16s/it]\n"
     ]
    }
   ],
   "source": [
    "#Set project_id to your Google Cloud Platform project ID.\n",
    "project_id = \"innate-choir-321900\"\n",
    "\n",
    "#Set table_id to the full destination table ID (including the dataset ID).\n",
    "table_id = 'jbNotebook.my_table'\n",
    "\n",
    "df = pandas.DataFrame(\n",
    "    {\n",
    "        \"my_string\": [\"a\", \"b\", \"c\"],\n",
    "        \"my_int64\": [1, 2, 3],\n",
    "        \"my_float64\": [4.0, 5.0, 6.0],\n",
    "        \"my_bool1\": [True, False, True],\n",
    "        \"my_bool2\": [False, True, False],\n",
    "        \"my_dates\": pandas.date_range(\"now\", periods=3),\n",
    "    }\n",
    ")\n",
    "\n",
    "pandas_gbq.to_gbq(df, table_id, project_id=project_id)"
   ]
  },
  {
   "cell_type": "code",
   "execution_count": null,
   "id": "8e3d847e-c6c0-4c32-8478-a7dd90cad34e",
   "metadata": {},
   "outputs": [],
   "source": []
  }
 ],
 "metadata": {
  "kernelspec": {
   "display_name": "Python 3",
   "language": "python",
   "name": "python3"
  },
  "language_info": {
   "codemirror_mode": {
    "name": "ipython",
    "version": 3
   },
   "file_extension": ".py",
   "mimetype": "text/x-python",
   "name": "python",
   "nbconvert_exporter": "python",
   "pygments_lexer": "ipython3",
   "version": "3.8.8"
  }
 },
 "nbformat": 4,
 "nbformat_minor": 5
}
