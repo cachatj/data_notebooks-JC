{
 "cells": [
  {
   "cell_type": "markdown",
   "source": "# Errors and Exceptions\n\nWhile executing a python program we may encounter errors. There are 2 types of errors:\n\n1. Syntax Errors - When you don't follow the proper structure of the python program (Like missing a quote during initialising a string).\n2. Exceptions - Sometimes even when the syntax is correct, errors may occur when the program is run or executed. These run time errors are called Exceptions (like trying to divide by zero or file does not exist).\n\nIf Exceptions are not handled properly, the program will crash and come to a sudden & unexpected halt.",
   "metadata": {
    "cell_id": "63533862-a5b0-4f36-8bab-45ea78d481b4",
    "deepnote_cell_type": "markdown",
    "deepnote_cell_height": 263.390625
   }
  },
  {
   "cell_type": "markdown",
   "source": "### Syntax Errors",
   "metadata": {
    "cell_id": "00001-014221a9-f3f5-40ea-9f5f-e70cea14a3de",
    "deepnote_cell_type": "markdown",
    "deepnote_cell_height": 62
   }
  },
  {
   "cell_type": "code",
   "metadata": {
    "cell_id": "00002-3fc15370-abe3-4398-a8c2-009daee595e2",
    "deepnote_cell_type": "code",
    "deepnote_cell_height": 144.1875
   },
   "source": "print('Hello)",
   "outputs": [
    {
     "ename": "SyntaxError",
     "evalue": "EOL while scanning string literal (<ipython-input-1-683e48a9a7a9>, line 1)",
     "output_type": "error",
     "traceback": [
      "\u001b[0;36m  File \u001b[0;32m\"<ipython-input-1-683e48a9a7a9>\"\u001b[0;36m, line \u001b[0;32m1\u001b[0m\n\u001b[0;31m    print('Hello)\u001b[0m\n\u001b[0m                 ^\u001b[0m\n\u001b[0;31mSyntaxError\u001b[0m\u001b[0;31m:\u001b[0m EOL while scanning string literal\n"
     ]
    }
   ],
   "execution_count": null
  },
  {
   "cell_type": "markdown",
   "source": "### Exceptions",
   "metadata": {
    "cell_id": "00003-f8e6f565-1404-4e5b-83f2-c3004c5eb4f0",
    "deepnote_cell_type": "markdown",
    "deepnote_cell_height": 62
   }
  },
  {
   "cell_type": "code",
   "metadata": {
    "cell_id": "00004-1fc751ae-3c88-47ca-987d-d1cc072f01f2",
    "deepnote_cell_type": "code",
    "deepnote_cell_height": 144.1875
   },
   "source": "1 / 0",
   "outputs": [
    {
     "ename": "ZeroDivisionError",
     "evalue": "division by zero",
     "output_type": "error",
     "traceback": [
      "\u001b[0;31m---------------------------------------------------------------------------\u001b[0m",
      "\u001b[0;31mZeroDivisionError\u001b[0m                         Traceback (most recent call last)",
      "\u001b[0;32m<ipython-input-2-b710d87c980c>\u001b[0m in \u001b[0;36m<module>\u001b[0;34m()\u001b[0m\n\u001b[0;32m----> 1\u001b[0;31m \u001b[0;36m1\u001b[0m \u001b[0;34m/\u001b[0m \u001b[0;36m0\u001b[0m\u001b[0;34m\u001b[0m\u001b[0m\n\u001b[0m",
      "\u001b[0;31mZeroDivisionError\u001b[0m: division by zero"
     ]
    }
   ],
   "execution_count": null
  },
  {
   "cell_type": "code",
   "metadata": {
    "cell_id": "00005-80a7e763-1422-404b-ba0d-b5462ea16159",
    "deepnote_cell_type": "code",
    "deepnote_cell_height": 144.1875
   },
   "source": "open('doesnotexistfile.txt')",
   "outputs": [
    {
     "ename": "FileNotFoundError",
     "evalue": "[Errno 2] No such file or directory: 'doesnotexistfile.txt'",
     "output_type": "error",
     "traceback": [
      "\u001b[0;31m---------------------------------------------------------------------------\u001b[0m",
      "\u001b[0;31mFileNotFoundError\u001b[0m                         Traceback (most recent call last)",
      "\u001b[0;32m<ipython-input-3-c5316aff5424>\u001b[0m in \u001b[0;36m<module>\u001b[0;34m()\u001b[0m\n\u001b[0;32m----> 1\u001b[0;31m \u001b[0mopen\u001b[0m\u001b[0;34m(\u001b[0m\u001b[0;34m'doesnotexistfile.txt'\u001b[0m\u001b[0;34m)\u001b[0m\u001b[0;34m\u001b[0m\u001b[0m\n\u001b[0m",
      "\u001b[0;31mFileNotFoundError\u001b[0m: [Errno 2] No such file or directory: 'doesnotexistfile.txt'"
     ]
    }
   ],
   "execution_count": null
  },
  {
   "cell_type": "markdown",
   "source": "### Built-in Exceptions\n\nPython creates an Exception object whenever a runtime error occurs. There are a number of built-in exceptions.",
   "metadata": {
    "cell_id": "00006-43be2b47-c1b6-4c68-bf0d-9c5a6a460d03",
    "deepnote_cell_type": "markdown",
    "deepnote_cell_height": 100.390625
   }
  },
  {
   "cell_type": "code",
   "metadata": {
    "cell_id": "00007-a032e5e1-64cd-48a7-8cd0-2968ce5b3863",
    "deepnote_cell_type": "code",
    "deepnote_cell_height": 111.6875
   },
   "source": "print(locals()['__builtins__'])",
   "outputs": [
    {
     "name": "stdout",
     "output_type": "stream",
     "text": "<module 'builtins' (built-in)>\n"
    }
   ],
   "execution_count": null
  },
  {
   "cell_type": "markdown",
   "source": "Following are some of the built-in exceptions.\n\n* ZeroDivisionError - Raised when you try to divide a number by zero\n* FileNotFoundError - Raised when a file required does not exist\n* SyntaxError - Raised when proper syntax is not applied\n* NameError - Raised when a variable is not found in local or global scope\n* KeyError - Raised when a key is not found in a dictionary",
   "metadata": {
    "cell_id": "00008-431330e7-779d-4ff4-aff8-da24d9927be9",
    "deepnote_cell_type": "markdown",
    "deepnote_cell_height": 204.390625
   }
  },
  {
   "cell_type": "markdown",
   "source": "### Handling Exceptions",
   "metadata": {
    "cell_id": "00009-481828d8-5424-431c-9014-d4f00247d41d",
    "deepnote_cell_type": "markdown",
    "deepnote_cell_height": 62
   }
  },
  {
   "cell_type": "markdown",
   "source": "Python provides 'try/except' statements to handle the exceptions. The operation which can raise exception is placed inside the 'try' statement and code that handles exception is written in the 'except' clause.",
   "metadata": {
    "cell_id": "00010-8c40ae0d-b18a-4dea-88b0-9307554c79c8",
    "deepnote_cell_type": "markdown",
    "deepnote_cell_height": 74.796875
   }
  },
  {
   "cell_type": "code",
   "metadata": {
    "cell_id": "00011-a18faec7-a73d-435a-aa34-3cd4abf14d15",
    "deepnote_cell_type": "code",
    "deepnote_cell_height": 255.6875
   },
   "source": "import sys\ndef divide(a,b):\n    try:\n        return a / b\n    except: \n        print(sys.exc_info()[0])\n        \ndivide (1,2)\ndivide (2,0) # This will be captured by the 'except' clause",
   "outputs": [
    {
     "name": "stdout",
     "output_type": "stream",
     "text": "<class 'ZeroDivisionError'>\n"
    }
   ],
   "execution_count": null
  },
  {
   "cell_type": "code",
   "metadata": {
    "cell_id": "00012-69695c89-0264-42d1-95ea-eb8717c84b95",
    "deepnote_cell_type": "code",
    "deepnote_cell_height": 255.6875
   },
   "source": "# print custom error message\ndef divide(a,b):\n    try:\n        return a / b\n    except: \n        print('Error occured',sys.exc_info()[0])\n        \ndivide (1,2)\ndivide (2,0) # This will be captured by the 'except' clause",
   "outputs": [
    {
     "name": "stdout",
     "output_type": "stream",
     "text": "Error occured <class 'ZeroDivisionError'>\n"
    }
   ],
   "execution_count": null
  },
  {
   "cell_type": "markdown",
   "source": "#### Catching Specific Exceptions\n\nA try clause can have any number of except clause to capture specific exceptions and only one will be executed in case an exception occurs. We can use tuple of values to specify multiple exceptions in an exception clause",
   "metadata": {
    "cell_id": "00013-8b335256-1358-4bab-b52e-a6b8ab12a3d2",
    "deepnote_cell_type": "markdown",
    "deepnote_cell_height": 110.796875
   }
  },
  {
   "cell_type": "code",
   "metadata": {
    "cell_id": "00014-897d53ab-73a2-4a43-8fdf-29c07f458d74",
    "deepnote_cell_type": "code",
    "deepnote_cell_height": 311.390625
   },
   "source": "def divide(a,b):\n    try:\n        return a / b\n    except (ZeroDivisionError): \n        print('Number cannot be divided by zero or non-integer')\n    except:\n        print('Error Occured',sys.exc_info()[0])\n        \ndivide (1,2)\ndivide (2,0) # This will be captured by the 'except - zero division error' clause\ndivide (2,'a') # This will be captured by the generic 'except' clause",
   "outputs": [
    {
     "name": "stdout",
     "output_type": "stream",
     "text": "Number cannot be divided by zero or non-integer\nError Occured <class 'TypeError'>\n"
    }
   ],
   "execution_count": null
  },
  {
   "cell_type": "code",
   "metadata": {
    "cell_id": "00015-51612a3f-d257-482b-98ad-5edcc86fb9ef",
    "deepnote_cell_type": "code",
    "deepnote_cell_height": 311.390625
   },
   "source": "def divide(a,b):\n    try:\n        return a / b\n    except (ZeroDivisionError, TypeError): # use a tuple to capture multiple errors\n        print('Number cannot be divided by zero or non-integer')\n    except:\n        print('Error Occured',sys.exc_info()[0])\n        \ndivide (1,2)\ndivide (2,0) # This will be captured by the 'except - zero division error' clause\ndivide (2,'a') # This will be captured by the generic 'except' clause",
   "outputs": [
    {
     "name": "stdout",
     "output_type": "stream",
     "text": "Number cannot be divided by zero or non-integer\nNumber cannot be divided by zero or non-integer\n"
    }
   ],
   "execution_count": null
  },
  {
   "cell_type": "markdown",
   "source": "The last except clause may omit the exception name(s), to serve as a wildcard. Use this with extreme caution, since it is easy to mask a real programming error in this way! It can also be used to print an error message and then re-raise the exception (allowing a caller to handle the exception as well):",
   "metadata": {
    "cell_id": "00016-d2876be2-5fe2-4106-bd6a-1b34d06cbcb4",
    "deepnote_cell_type": "markdown",
    "deepnote_cell_height": 97.1875
   }
  },
  {
   "cell_type": "code",
   "metadata": {
    "cell_id": "00017-da1e9285-b57c-4bc8-a55b-7cd0b6c63ee6",
    "deepnote_cell_type": "code",
    "deepnote_cell_height": 327.6875
   },
   "source": "import sys\n\ntry:\n    f = open('myfile.txt')\n    s = f.readline()\n    i = int(s.strip())\nexcept OSError as err:\n    print(\"OS error: {0}\".format(err))\nexcept ValueError:\n    print(\"Could not convert data to an integer.\")\nexcept:\n    print(\"Unexpected error:\", sys.exc_info()[0])\n    raise",
   "outputs": [
    {
     "name": "stdout",
     "output_type": "stream",
     "text": "OS error: [Errno 2] No such file or directory: 'myfile.txt'\n"
    }
   ],
   "execution_count": null
  },
  {
   "cell_type": "markdown",
   "source": "The try … except statement has an optional else clause, which, when present, must follow all except clauses. It is useful for code that must be executed if the try clause does not raise an exception. For example:",
   "metadata": {
    "cell_id": "00018-388f5c30-0328-4106-9f3e-c7b6a6a30b22",
    "deepnote_cell_type": "markdown",
    "deepnote_cell_height": 74.796875
   }
  },
  {
   "cell_type": "code",
   "metadata": {
    "cell_id": "00019-2772d2e3-5772-460c-94d5-d4eb19ea41c5",
    "deepnote_cell_type": "code",
    "deepnote_cell_height": 257.390625
   },
   "source": "for arg in sys.argv[1:]:\n    try:\n        f = open(arg, 'r')\n    except OSError:\n        print('cannot open', arg)\n    else:\n        print(arg, 'has', len(f.readlines()), 'lines')\n        f.close()",
   "outputs": [
    {
     "name": "stdout",
     "output_type": "stream",
     "text": "cannot open -f\n/Users/cnc/Library/Jupyter/runtime/kernel-7c3ac5b3-b13f-4801-bd7c-2495eafdfe0b.json has 12 lines\n"
    }
   ],
   "execution_count": null
  },
  {
   "cell_type": "markdown",
   "source": "The use of the else clause is better than adding additional code to the try clause because it avoids accidentally catching an exception that wasn’t raised by the code being protected by the try … except statement.",
   "metadata": {
    "cell_id": "00020-bd2469d3-073c-41bc-8648-e365d3d0be08",
    "deepnote_cell_type": "markdown",
    "deepnote_cell_height": 74.796875
   }
  },
  {
   "cell_type": "markdown",
   "source": "#### Exception Instances\n\nThe except clause may specify a variable after the exception name. The variable is bound to an exception instance with the arguments stored in instance.args. For convenience, the exception instance defines __str__() so the arguments can be printed directly without having to reference .args. ",
   "metadata": {
    "cell_id": "00021-25f94e63-dc3c-4745-9956-2f5a02b913fd",
    "deepnote_cell_type": "markdown",
    "deepnote_cell_height": 133.1875
   }
  },
  {
   "cell_type": "code",
   "metadata": {
    "cell_id": "00022-fb060f7e-b977-4d93-a191-7a185f0685ad",
    "deepnote_cell_type": "code",
    "deepnote_cell_height": 334.46875
   },
   "source": "try:\n    raise Exception('1002','Custom Exception Occured')\nexcept Exception as inst:\n    print(type(inst))\n    print(inst)\n    print(inst.args)\n    errno, errdesc = inst.args\n    print('Error Number:',errno)\n    print('Error Description:',errdesc)",
   "outputs": [
    {
     "name": "stdout",
     "output_type": "stream",
     "text": "<class 'Exception'>\n('1002', 'Custom Exception Occured')\n('1002', 'Custom Exception Occured')\nError Number: 1002\nError Description: Custom Exception Occured\n"
    }
   ],
   "execution_count": null
  },
  {
   "cell_type": "markdown",
   "source": "Exception handlers don’t just handle exceptions if they occur immediately in the try clause, but also if they occur inside functions that are called (even indirectly) in the try clause. For example:",
   "metadata": {
    "cell_id": "00023-234360b6-ef9a-461e-a72c-dcf27609f288",
    "deepnote_cell_type": "markdown",
    "deepnote_cell_height": 74.796875
   }
  },
  {
   "cell_type": "code",
   "metadata": {
    "cell_id": "00024-ed0ec492-cbfc-4128-9cd3-6e77d146e455",
    "deepnote_cell_type": "code",
    "deepnote_cell_height": 219.6875
   },
   "source": "def func_will_fail():\n    return 1 / 0\n\ntry:\n    func_will_fail()\nexcept ZeroDivisionError as err:\n    print('Handling Error - ',err)",
   "outputs": [
    {
     "name": "stdout",
     "output_type": "stream",
     "text": "Handling Error -  division by zero\n"
    }
   ],
   "execution_count": null
  },
  {
   "cell_type": "markdown",
   "source": "### Raise Exceptions\n\nThe **raise** statement allows the programmer to force a specified exception to occur. For example:",
   "metadata": {
    "cell_id": "00025-3427a61a-6378-40e2-ad01-ec88a5a4062f",
    "deepnote_cell_type": "markdown",
    "deepnote_cell_height": 100.390625
   }
  },
  {
   "cell_type": "code",
   "metadata": {
    "cell_id": "00026-09d97fbf-5ca8-4473-a51a-116631bc4882",
    "deepnote_cell_type": "code",
    "deepnote_cell_height": 144.1875
   },
   "source": "raise NameError('Error Occured')",
   "outputs": [
    {
     "ename": "NameError",
     "evalue": "Error Occured",
     "output_type": "error",
     "traceback": [
      "\u001b[0;31m---------------------------------------------------------------------------\u001b[0m",
      "\u001b[0;31mNameError\u001b[0m                                 Traceback (most recent call last)",
      "\u001b[0;32m<ipython-input-35-d3d2da6432b8>\u001b[0m in \u001b[0;36m<module>\u001b[0;34m()\u001b[0m\n\u001b[0;32m----> 1\u001b[0;31m \u001b[0;32mraise\u001b[0m \u001b[0mNameError\u001b[0m\u001b[0;34m(\u001b[0m\u001b[0;34m'Error Occured'\u001b[0m\u001b[0;34m)\u001b[0m\u001b[0;34m\u001b[0m\u001b[0m\n\u001b[0m",
      "\u001b[0;31mNameError\u001b[0m: Error Occured"
     ]
    }
   ],
   "execution_count": null
  },
  {
   "cell_type": "markdown",
   "source": "If you need to determine whether an exception was raised but don’t intend to handle it, a simpler form of the raise statement allows you to re-raise the exception:",
   "metadata": {
    "cell_id": "00027-3eca522b-e4f1-4507-8f88-19285a21d065",
    "deepnote_cell_type": "markdown",
    "deepnote_cell_height": 74.796875
   }
  },
  {
   "cell_type": "code",
   "metadata": {
    "cell_id": "00028-ab9db5d7-89ca-4e4d-89d2-d43ca09417bd",
    "deepnote_cell_type": "code",
    "deepnote_cell_height": 279.890625
   },
   "source": "try:\n    raise NameError('Error Captured')\nexcept NameError:\n    print('Captured Exception')\n    raise\n    ",
   "outputs": [
    {
     "name": "stdout",
     "output_type": "stream",
     "text": "Captured Exception\n"
    },
    {
     "ename": "NameError",
     "evalue": "Error Captured",
     "output_type": "error",
     "traceback": [
      "\u001b[0;31m---------------------------------------------------------------------------\u001b[0m",
      "\u001b[0;31mNameError\u001b[0m                                 Traceback (most recent call last)",
      "\u001b[0;32m<ipython-input-36-7df1e345bdc8>\u001b[0m in \u001b[0;36m<module>\u001b[0;34m()\u001b[0m\n\u001b[1;32m      1\u001b[0m \u001b[0;32mtry\u001b[0m\u001b[0;34m:\u001b[0m\u001b[0;34m\u001b[0m\u001b[0m\n\u001b[0;32m----> 2\u001b[0;31m     \u001b[0;32mraise\u001b[0m \u001b[0mNameError\u001b[0m\u001b[0;34m(\u001b[0m\u001b[0;34m'Error Captured'\u001b[0m\u001b[0;34m)\u001b[0m\u001b[0;34m\u001b[0m\u001b[0m\n\u001b[0m\u001b[1;32m      3\u001b[0m \u001b[0;32mexcept\u001b[0m \u001b[0mNameError\u001b[0m\u001b[0;34m:\u001b[0m\u001b[0;34m\u001b[0m\u001b[0m\n\u001b[1;32m      4\u001b[0m     \u001b[0mprint\u001b[0m\u001b[0;34m(\u001b[0m\u001b[0;34m'Captured Exception'\u001b[0m\u001b[0;34m)\u001b[0m\u001b[0;34m\u001b[0m\u001b[0m\n\u001b[1;32m      5\u001b[0m     \u001b[0;32mraise\u001b[0m\u001b[0;34m\u001b[0m\u001b[0m\n",
      "\u001b[0;31mNameError\u001b[0m: Error Captured"
     ]
    }
   ],
   "execution_count": null
  },
  {
   "cell_type": "markdown",
   "source": "### User Exceptions\n\nPython has many built-in exceptions which forces your program to output an error when something in it goes wrong.\n\nHowever, sometimes you may need to create custom exceptions that serves your purpose.\n\nIn Python, users can define such exceptions by creating a new class. This exception class has to be derived, either directly or indirectly, from Exception class. Most of the built-in exceptions are also derived form this class.",
   "metadata": {
    "cell_id": "00029-aa223d17-156f-43ce-8d04-586f584b8c90",
    "deepnote_cell_type": "markdown",
    "deepnote_cell_height": 195.59375
   }
  },
  {
   "cell_type": "code",
   "metadata": {
    "collapsed": true,
    "cell_id": "00030-c2f7a481-78b9-4f95-be8a-7ded757cd8b7",
    "deepnote_cell_type": "code",
    "deepnote_cell_height": 84
   },
   "source": "class CustomError(Exception):\n    pass",
   "outputs": [],
   "execution_count": null
  },
  {
   "cell_type": "code",
   "metadata": {
    "cell_id": "00031-d85657a1-ea29-44e7-8bf0-18829e95b4fb",
    "deepnote_cell_type": "code",
    "deepnote_cell_height": 144.1875
   },
   "source": "raise CustomError()",
   "outputs": [
    {
     "ename": "CustomError",
     "evalue": "",
     "output_type": "error",
     "traceback": [
      "\u001b[0;31m---------------------------------------------------------------------------\u001b[0m",
      "\u001b[0;31mCustomError\u001b[0m                               Traceback (most recent call last)",
      "\u001b[0;32m<ipython-input-31-59d3a407da42>\u001b[0m in \u001b[0;36m<module>\u001b[0;34m()\u001b[0m\n\u001b[0;32m----> 1\u001b[0;31m \u001b[0;32mraise\u001b[0m \u001b[0mCustomError\u001b[0m\u001b[0;34m(\u001b[0m\u001b[0;34m)\u001b[0m\u001b[0;34m\u001b[0m\u001b[0m\n\u001b[0m",
      "\u001b[0;31mCustomError\u001b[0m: "
     ]
    }
   ],
   "execution_count": null
  },
  {
   "cell_type": "code",
   "metadata": {
    "cell_id": "00032-7f601172-0fa9-4f4e-89bb-ff130bbd820b",
    "deepnote_cell_type": "code",
    "deepnote_cell_height": 144.1875
   },
   "source": "raise CustomError('Unexpected Error Occured')",
   "outputs": [
    {
     "ename": "CustomError",
     "evalue": "Unexpected Error Occured",
     "output_type": "error",
     "traceback": [
      "\u001b[0;31m---------------------------------------------------------------------------\u001b[0m",
      "\u001b[0;31mCustomError\u001b[0m                               Traceback (most recent call last)",
      "\u001b[0;32m<ipython-input-32-1b2beb538761>\u001b[0m in \u001b[0;36m<module>\u001b[0;34m()\u001b[0m\n\u001b[0;32m----> 1\u001b[0;31m \u001b[0;32mraise\u001b[0m \u001b[0mCustomError\u001b[0m\u001b[0;34m(\u001b[0m\u001b[0;34m'Unexpected Error Occured'\u001b[0m\u001b[0;34m)\u001b[0m\u001b[0;34m\u001b[0m\u001b[0m\n\u001b[0m",
      "\u001b[0;31mCustomError\u001b[0m: Unexpected Error Occured"
     ]
    }
   ],
   "execution_count": null
  },
  {
   "cell_type": "markdown",
   "source": "Here, we have created a user-defined exception called CustomError which is derived from the Exception class. This new exception can be raised, like other exceptions, using the raise statement with an optional error message.\n\n",
   "metadata": {
    "cell_id": "00033-f3bfd70d-b4da-4531-b53e-72660ccdfc4a",
    "deepnote_cell_type": "markdown",
    "deepnote_cell_height": 74.796875
   }
  },
  {
   "cell_type": "markdown",
   "source": "#### Point to Note\n\nWhen we are developing a large Python program, it is a good practice to place all the user-defined exceptions that our program raises in a separate file. Many standard modules do this. They define their exceptions separately as exceptions.py or errors.py (generally but not always).\n\nMost exceptions are defined with names that end in “Error,” similar to the naming of the standard exceptions.",
   "metadata": {
    "cell_id": "00034-033e2613-50e5-4207-9bf2-5e1be267070b",
    "deepnote_cell_type": "markdown",
    "deepnote_cell_height": 169.59375
   }
  },
  {
   "cell_type": "code",
   "metadata": {
    "cell_id": "00035-9d1627d4-8a3b-4668-a4b2-900ce46511aa",
    "deepnote_cell_type": "code",
    "deepnote_cell_height": 802.46875
   },
   "source": "# define Python user-defined exceptions\nclass Error(Exception):\n   \"\"\"Base class for other exceptions\"\"\"\n   pass\n\nclass ValueTooSmallError(Error):\n   \"\"\"Raised when the input value is too small\"\"\"\n   pass\n\nclass ValueTooLargeError(Error):\n   \"\"\"Raised when the input value is too large\"\"\"\n   pass\n\n# our main program\n# user guesses a number until he/she gets it right\n\n# you need to guess this number\nnumber = 10\n\nwhile True:\n   try:\n       i_num = int(input(\"Enter a number: \"))\n       if i_num < number:\n           raise ValueTooSmallError\n       elif i_num > number:\n           raise ValueTooLargeError\n       break\n   except ValueTooSmallError:\n       print(\"This value is too small, try again!\")\n       print()\n   except ValueTooLargeError:\n       print(\"This value is too large, try again!\")\n       print()\n\nprint(\"Congratulations! You guessed it correctly.\")",
   "outputs": [
    {
     "name": "stdout",
     "output_type": "stream",
     "text": "Enter a number: 5\nThis value is too small, try again!\n\nEnter a number: 10\nCongratulations! You guessed it correctly.\n"
    }
   ],
   "execution_count": null
  },
  {
   "cell_type": "markdown",
   "source": "Here, we have defined a base class called Error.\n\nThe other two exceptions (ValueTooSmallError and ValueTooLargeError) that are actually raised by our program are derived from this class. This is the standard way to define user-defined exceptions in Python programming.",
   "metadata": {
    "cell_id": "00036-98496aa0-a3e1-451d-9c98-509ed72ff363",
    "deepnote_cell_type": "markdown",
    "deepnote_cell_height": 111.1875
   }
  },
  {
   "cell_type": "markdown",
   "source": "Many standard modules define their own exceptions to report errors that may occur in functions they define. A detailed example is given below:",
   "metadata": {
    "cell_id": "00037-2d563f20-a793-4462-867e-15a09dca24cd",
    "deepnote_cell_type": "markdown",
    "deepnote_cell_height": 74.796875
   }
  },
  {
   "cell_type": "code",
   "metadata": {
    "collapsed": true,
    "cell_id": "00038-dfd09580-1c0f-4081-9353-3562a6552c40",
    "deepnote_cell_type": "code",
    "deepnote_cell_height": 588
   },
   "source": "class Error(Exception):\n    \"\"\"Base class for exceptions in this module.\"\"\"\n    pass\n\nclass InputError(Error):\n    \"\"\"Exception raised for errors in the input.\n\n    Attributes:\n        expression -- input expression in which the error occurred\n        message -- explanation of the error\n    \"\"\"\n\n    def __init__(self, expression, message):\n        self.expression = expression\n        self.message = message\n\nclass TransitionError(Error):\n    \"\"\"Raised when an operation attempts a state transition that's not\n    allowed.\n\n    Attributes:\n        previous -- state at beginning of transition\n        next -- attempted new state\n        message -- explanation of why the specific transition is not allowed\n    \"\"\"\n\n    def __init__(self, previous, next, message):\n        self.previous = previous\n        self.next = next\n        self.message = message",
   "outputs": [],
   "execution_count": null
  },
  {
   "cell_type": "markdown",
   "source": "### Clean up Actions",
   "metadata": {
    "cell_id": "00039-94021635-2e8d-4fc0-adc0-0a59398a5202",
    "deepnote_cell_type": "markdown",
    "deepnote_cell_height": 62
   }
  },
  {
   "cell_type": "markdown",
   "source": "The **try** statement in Python can have an optional **finally** clause. This clause is executed no matter what, and is generally used to release external resources.\n\nA finally clause is always executed before leaving the try statement, whether an exception has occurred or not. When an exception has occurred in the try clause and has not been handled by an except clause (or it has occurred in an except or else clause), it is re-raised after the finally clause has been executed. \n\nThe finally clause is also executed “on the way out” when any other clause of the try statement is left via a break, continue or return statement.",
   "metadata": {
    "cell_id": "00040-7b5c7118-d444-4690-a688-fc41ce5f6e83",
    "deepnote_cell_type": "markdown",
    "deepnote_cell_height": 214.78125
   }
  },
  {
   "cell_type": "code",
   "metadata": {
    "cell_id": "00041-e255eadb-7382-4d71-b7f7-3ca77ecd7b22",
    "deepnote_cell_type": "code",
    "deepnote_cell_height": 243.890625
   },
   "source": "try:\n    raise KeyBoardInterrupt\nfinally:\n    print('Bye')",
   "outputs": [
    {
     "name": "stdout",
     "output_type": "stream",
     "text": "Bye\n"
    },
    {
     "ename": "NameError",
     "evalue": "name 'KeyBoardInterrupt' is not defined",
     "output_type": "error",
     "traceback": [
      "\u001b[0;31m---------------------------------------------------------------------------\u001b[0m",
      "\u001b[0;31mNameError\u001b[0m                                 Traceback (most recent call last)",
      "\u001b[0;32m<ipython-input-24-9d554bc1c68d>\u001b[0m in \u001b[0;36m<module>\u001b[0;34m()\u001b[0m\n\u001b[1;32m      1\u001b[0m \u001b[0;32mtry\u001b[0m\u001b[0;34m:\u001b[0m\u001b[0;34m\u001b[0m\u001b[0m\n\u001b[0;32m----> 2\u001b[0;31m     \u001b[0;32mraise\u001b[0m \u001b[0mKeyBoardInterrupt\u001b[0m\u001b[0;34m\u001b[0m\u001b[0m\n\u001b[0m\u001b[1;32m      3\u001b[0m \u001b[0;32mfinally\u001b[0m\u001b[0;34m:\u001b[0m\u001b[0;34m\u001b[0m\u001b[0m\n\u001b[1;32m      4\u001b[0m     \u001b[0mprint\u001b[0m\u001b[0;34m(\u001b[0m\u001b[0;34m'Bye'\u001b[0m\u001b[0;34m)\u001b[0m\u001b[0;34m\u001b[0m\u001b[0m\n",
      "\u001b[0;31mNameError\u001b[0m: name 'KeyBoardInterrupt' is not defined"
     ]
    }
   ],
   "execution_count": null
  },
  {
   "cell_type": "code",
   "metadata": {
    "collapsed": true,
    "cell_id": "00042-4bf32102-b8f3-45d4-b09a-0abc1fede446",
    "deepnote_cell_type": "code",
    "deepnote_cell_height": 228
   },
   "source": "def divide(a,b):\n    try:\n        result = a / b\n    except ZeroDivisionError:\n        print('Number cannot be divided by zero')\n    else:\n        print('Result',result)\n    finally:\n        print('Executed Finally Clause')\n        ",
   "outputs": [],
   "execution_count": null
  },
  {
   "cell_type": "code",
   "metadata": {
    "cell_id": "00043-47a6147e-fce1-469f-ab03-8be00346ef34",
    "deepnote_cell_type": "code",
    "deepnote_cell_height": 131.390625
   },
   "source": "divide(2,1)",
   "outputs": [
    {
     "name": "stdout",
     "output_type": "stream",
     "text": "Result 2.0\nExecuted Finally Clause\n"
    }
   ],
   "execution_count": null
  },
  {
   "cell_type": "code",
   "metadata": {
    "cell_id": "00044-e4512045-2349-4f62-99c0-91aae76d0570",
    "deepnote_cell_type": "code",
    "deepnote_cell_height": 131.390625
   },
   "source": "divide(2,0)",
   "outputs": [
    {
     "name": "stdout",
     "output_type": "stream",
     "text": "Number cannot be divided by zero\nExecuted Finally Clause\n"
    }
   ],
   "execution_count": null
  },
  {
   "cell_type": "code",
   "metadata": {
    "cell_id": "00045-6b9fc7cd-49a8-43aa-a53d-15bfd91bf1e9",
    "deepnote_cell_type": "code",
    "deepnote_cell_height": 189.890625
   },
   "source": "divide('1','2')",
   "outputs": [
    {
     "name": "stdout",
     "output_type": "stream",
     "text": "Executed Finally Clause\n"
    },
    {
     "ename": "TypeError",
     "evalue": "unsupported operand type(s) for /: 'str' and 'str'",
     "output_type": "error",
     "traceback": [
      "\u001b[0;31m---------------------------------------------------------------------------\u001b[0m",
      "\u001b[0;31mTypeError\u001b[0m                                 Traceback (most recent call last)",
      "\u001b[0;32m<ipython-input-29-fc217289e134>\u001b[0m in \u001b[0;36m<module>\u001b[0;34m()\u001b[0m\n\u001b[0;32m----> 1\u001b[0;31m \u001b[0mdivide\u001b[0m\u001b[0;34m(\u001b[0m\u001b[0;34m'1'\u001b[0m\u001b[0;34m,\u001b[0m\u001b[0;34m'2'\u001b[0m\u001b[0;34m)\u001b[0m\u001b[0;34m\u001b[0m\u001b[0m\n\u001b[0m",
      "\u001b[0;32m<ipython-input-26-c2a4f470101a>\u001b[0m in \u001b[0;36mdivide\u001b[0;34m(a, b)\u001b[0m\n\u001b[1;32m      1\u001b[0m \u001b[0;32mdef\u001b[0m \u001b[0mdivide\u001b[0m\u001b[0;34m(\u001b[0m\u001b[0ma\u001b[0m\u001b[0;34m,\u001b[0m\u001b[0mb\u001b[0m\u001b[0;34m)\u001b[0m\u001b[0;34m:\u001b[0m\u001b[0;34m\u001b[0m\u001b[0m\n\u001b[1;32m      2\u001b[0m     \u001b[0;32mtry\u001b[0m\u001b[0;34m:\u001b[0m\u001b[0;34m\u001b[0m\u001b[0m\n\u001b[0;32m----> 3\u001b[0;31m         \u001b[0mresult\u001b[0m \u001b[0;34m=\u001b[0m \u001b[0ma\u001b[0m \u001b[0;34m/\u001b[0m \u001b[0mb\u001b[0m\u001b[0;34m\u001b[0m\u001b[0m\n\u001b[0m\u001b[1;32m      4\u001b[0m     \u001b[0;32mexcept\u001b[0m \u001b[0mZeroDivisionError\u001b[0m\u001b[0;34m:\u001b[0m\u001b[0;34m\u001b[0m\u001b[0m\n\u001b[1;32m      5\u001b[0m         \u001b[0mprint\u001b[0m\u001b[0;34m(\u001b[0m\u001b[0;34m'Number cannot be divided by zero'\u001b[0m\u001b[0;34m)\u001b[0m\u001b[0;34m\u001b[0m\u001b[0m\n",
      "\u001b[0;31mTypeError\u001b[0m: unsupported operand type(s) for /: 'str' and 'str'"
     ]
    }
   ],
   "execution_count": null
  },
  {
   "cell_type": "markdown",
   "source": "Please note that the **TypeError** raised by dividing two strings is not handled by the except clause and therefore re-raised after the finally clause has been executed.",
   "metadata": {
    "cell_id": "00046-f984225e-cb47-4ccb-a7c5-ea9321f9ad77",
    "deepnote_cell_type": "markdown",
    "deepnote_cell_height": 74.796875
   }
  },
  {
   "cell_type": "markdown",
   "source": "### Pre Clean up Actions\n\nSome objects define standard clean-up actions to be undertaken when the object is no longer needed.\n\nLook at the following example, which tries to open a file and print its contents to the screen.",
   "metadata": {
    "cell_id": "00047-ff3df65e-eb5a-4e9e-8ccf-9f4ac78ea4d8",
    "deepnote_cell_type": "markdown",
    "deepnote_cell_height": 136.796875
   }
  },
  {
   "cell_type": "code",
   "metadata": {
    "collapsed": true,
    "cell_id": "00048-0c261a46-d7fd-4928-95b6-1cb5a39f5f1d",
    "deepnote_cell_type": "code",
    "deepnote_cell_height": 84
   },
   "source": "for line in open(\"myfile.txt\"):\n    print(line, end=\"\")",
   "execution_count": null,
   "outputs": []
  },
  {
   "cell_type": "markdown",
   "source": "The problem with this code is that it leaves the file open for an indeterminate amount of time after this part of the code has finished executing. This is not a best practice.",
   "metadata": {
    "cell_id": "00049-57d57479-f468-4ed6-8827-d26ec0ceab6d",
    "deepnote_cell_type": "markdown",
    "deepnote_cell_height": 74.796875
   }
  },
  {
   "cell_type": "code",
   "metadata": {
    "cell_id": "00050-af283ece-4d29-44c0-90f7-5337e010aabc",
    "deepnote_cell_type": "code",
    "deepnote_cell_height": 147.6875
   },
   "source": "with open(\"test.txt\") as f:\n    for line in f:\n        print(line, end=\"\")",
   "outputs": [
    {
     "name": "stdout",
     "output_type": "stream",
     "text": "This is a test file"
    }
   ],
   "execution_count": null
  },
  {
   "cell_type": "markdown",
   "source": "The **with** statement allows objects like files to be used in a way that ensures they are always cleaned up promptly and correctly.\n\nAfter the statement is executed, the file f is always closed, even if a problem was encountered while processing the lines.",
   "metadata": {
    "cell_id": "00051-98aec4dd-1e6b-4ec4-b62b-ff1abaefeedd",
    "deepnote_cell_type": "markdown",
    "deepnote_cell_height": 88.796875
   }
  },
  {
   "cell_type": "markdown",
   "source": "### References\n\n[Python Errors and Exception Handling - Official Documentation](https://docs.python.org/3/tutorial/errors.html)\n\n[Python Exception Handling - By Programiz.com](https://www.programiz.com/python-programming/exception-handling)",
   "metadata": {
    "cell_id": "00052-18c94cd8-8b9b-4b58-9279-fe3086117bde",
    "deepnote_cell_type": "markdown",
    "deepnote_cell_height": 136.796875
   }
  },
  {
   "cell_type": "markdown",
   "source": "<a style='text-decoration:none;line-height:16px;display:flex;color:#5B5B62;padding:10px;justify-content:end;' href='https://deepnote.com?utm_source=created-in-deepnote-cell&projectId=30b5f66f-e6a5-4e83-8134-c70f8eed277d' target=\"_blank\">\n<img alt='Created in deepnote.com' style='display:inline;max-height:16px;margin:0px;margin-right:7.5px;' src='data:image/svg+xml;base64,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' > </img>\nCreated in <span style='font-weight:600;margin-left:4px;'>Deepnote</span></a>",
   "metadata": {
    "tags": [],
    "created_in_deepnote_cell": true,
    "deepnote_cell_type": "markdown"
   }
  }
 ],
 "nbformat": 4,
 "nbformat_minor": 2,
 "metadata": {
  "kernelspec": {
   "display_name": "Python 3",
   "language": "python",
   "name": "python3"
  },
  "language_info": {
   "codemirror_mode": {
    "name": "ipython",
    "version": 3
   },
   "file_extension": ".py",
   "mimetype": "text/x-python",
   "name": "python",
   "nbconvert_exporter": "python",
   "pygments_lexer": "ipython3",
   "version": "3.6.1"
  },
  "deepnote_notebook_id": "7a0d441c-b609-48b7-986e-d87aaf489675",
  "deepnote": {},
  "deepnote_execution_queue": []
 }
}