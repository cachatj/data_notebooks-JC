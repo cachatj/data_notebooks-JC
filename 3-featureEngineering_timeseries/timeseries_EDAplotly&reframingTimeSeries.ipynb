{
 "cells": [
  {
   "cell_type": "markdown",
   "metadata": {
    "papermill": {
     "duration": 0.043819,
     "end_time": "2020-10-20T12:36:38.254739",
     "exception": false,
     "start_time": "2020-10-20T12:36:38.210920",
     "status": "completed"
    },
    "tags": []
   },
   "source": [
    "# Predict Future Sales\n",
    "\n",
    "Notes from the competition host:\n",
    "\n",
    "*This challenge serves as final project for the \"How to win a data science competition\" Coursera course.*\n",
    "\n",
    "*In this competition you will work with a challenging time-series dataset consisting of daily sales data, kindly provided by one of the largest Russian software firms - 1C Company.*\n",
    "\n",
    "*We are asking you to predict total sales for every product and store in the next month. By solving this competition you will be able to apply and enhance your data science skills.*\n",
    "\n",
    "*Submissions are evaluated by root mean squared error (RMSE). **True target values are clipped into [0,20] range**.*\n",
    "\n",
    "*For each id in the test set, you must predict a total number of sales.*"
   ]
  },
  {
   "cell_type": "markdown",
   "metadata": {
    "papermill": {
     "duration": 0.040856,
     "end_time": "2020-10-20T12:36:38.337129",
     "exception": false,
     "start_time": "2020-10-20T12:36:38.296273",
     "status": "completed"
    },
    "tags": []
   },
   "source": [
    "# Import Libraries, First Steps of Analysis"
   ]
  },
  {
   "cell_type": "code",
   "execution_count": 1,
   "metadata": {
    "_kg_hide-input": true,
    "_kg_hide-output": true,
    "execution": {
     "iopub.execute_input": "2020-10-20T12:36:38.437811Z",
     "iopub.status.busy": "2020-10-20T12:36:38.437037Z",
     "iopub.status.idle": "2020-10-20T12:36:40.440698Z",
     "shell.execute_reply": "2020-10-20T12:36:40.439975Z"
    },
    "papermill": {
     "duration": 2.059071,
     "end_time": "2020-10-20T12:36:40.440827",
     "exception": false,
     "start_time": "2020-10-20T12:36:38.381756",
     "status": "completed"
    },
    "tags": []
   },
   "outputs": [],
   "source": [
    "# This Python 3 environment comes with many helpful analytics libraries installed\n",
    "# It is defined by the kaggle/python Docker image: https://github.com/kaggle/docker-python\n",
    "# For example, here's several helpful packages to load\n",
    "\n",
    "import numpy as np  # linear algebra\n",
    "import pandas as pd\n",
    "\n",
    "pd.set_option(\"display.float_format\", lambda x: \"%.2f\" % x)\n",
    "pd.set_option(\"display.max_columns\", 500)\n",
    "pd.set_option(\"display.max_rows\", 1500)\n",
    "\n",
    "import warnings\n",
    "\n",
    "import sys\n",
    "import calendar\n",
    "import datetime\n",
    "import os\n",
    "\n",
    "# Input data files are available in the read-only '../input/' directory\n",
    "# For example, running this (by clicking run or pressing Shift+Enter) will list all files under the input directory\n",
    "from itertools import product\n",
    "import random\n",
    "import gc\n",
    "import matplotlib.pyplot as plt\n",
    "import matplotlib.ticker as mticker\n",
    "import plotly\n",
    "import plotly.express as px\n",
    "import plotly.graph_objects as go\n",
    "import seaborn as sns\n",
    "from lightgbm import LGBMRegressor,plot_importance\n",
    "from plotly.subplots import make_subplots\n",
    "from sklearn.feature_extraction.text import TfidfVectorizer\n",
    "from sklearn.metrics.pairwise import cosine_similarity\n",
    "from sklearn.preprocessing import StandardScaler,OrdinalEncoder\n",
    "from sklearn.preprocessing import KBinsDiscretizer\n",
    "# You can write up to 5GB to the current directory (/kaggle/working/) that gets preserved as output when you create a version using 'Save & Run All'\n",
    "# You can also write temporary files to /kaggle/temp/, but they won't be saved outside of the current session\n",
    "%matplotlib inline"
   ]
  },
  {
   "cell_type": "code",
   "execution_count": 2,
   "metadata": {
    "_cell_guid": "79c7e3d0-c299-4dcb-8224-4455121ee9b0",
    "_kg_hide-input": true,
    "_uuid": "d629ff2d2480ee46fbb7e2d37f6b5fab8052498a",
    "execution": {
     "iopub.execute_input": "2020-10-20T12:36:40.533787Z",
     "iopub.status.busy": "2020-10-20T12:36:40.533101Z",
     "iopub.status.idle": "2020-10-20T12:36:40.537408Z",
     "shell.execute_reply": "2020-10-20T12:36:40.536919Z"
    },
    "papermill": {
     "duration": 0.052591,
     "end_time": "2020-10-20T12:36:40.537520",
     "exception": false,
     "start_time": "2020-10-20T12:36:40.484929",
     "status": "completed"
    },
    "tags": []
   },
   "outputs": [
    {
     "data": {
      "application/javascript": "IPython.OutputArea.auto_scroll_threshold = 9999;\n",
      "text/plain": [
       "<IPython.core.display.Javascript object>"
      ]
     },
     "metadata": {},
     "output_type": "display_data"
    }
   ],
   "source": [
    "%%javascript\n",
    "IPython.OutputArea.auto_scroll_threshold = 9999;"
   ]
  },
  {
   "cell_type": "markdown",
   "metadata": {
    "papermill": {
     "duration": 0.043168,
     "end_time": "2020-10-20T12:36:40.623166",
     "exception": false,
     "start_time": "2020-10-20T12:36:40.579998",
     "status": "completed"
    },
    "tags": []
   },
   "source": [
    "Loading only train and test sets here.<br> We have more input data than these two; however, due to high memory use of these files, I will import the others later, right when I need them.<br> Additionally, to utilize the use of local variables and reduce memory footprint, I wrapped most of the code in functions."
   ]
  },
  {
   "cell_type": "code",
   "execution_count": 3,
   "metadata": {
    "_kg_hide-input": true,
    "execution": {
     "iopub.execute_input": "2020-10-20T12:36:40.716615Z",
     "iopub.status.busy": "2020-10-20T12:36:40.715837Z",
     "iopub.status.idle": "2020-10-20T12:36:42.782719Z",
     "shell.execute_reply": "2020-10-20T12:36:42.781902Z"
    },
    "papermill": {
     "duration": 2.11605,
     "end_time": "2020-10-20T12:36:42.782868",
     "exception": false,
     "start_time": "2020-10-20T12:36:40.666818",
     "status": "completed"
    },
    "tags": []
   },
   "outputs": [],
   "source": [
    "random.seed(35)\n",
    "  \n",
    "train = pd.read_csv('../input/competitive-data-science-predict-future-sales/sales_train.csv')\n",
    "test = pd.read_csv('../input/competitive-data-science-predict-future-sales/test.csv')"
   ]
  },
  {
   "cell_type": "markdown",
   "metadata": {
    "papermill": {
     "duration": 0.041916,
     "end_time": "2020-10-20T12:36:42.867458",
     "exception": false,
     "start_time": "2020-10-20T12:36:42.825542",
     "status": "completed"
    },
    "tags": []
   },
   "source": [
    "A small utility function to downcast dataframe throughout the notebook as we're working with large amount of data."
   ]
  },
  {
   "cell_type": "code",
   "execution_count": 4,
   "metadata": {
    "execution": {
     "iopub.execute_input": "2020-10-20T12:36:42.970878Z",
     "iopub.status.busy": "2020-10-20T12:36:42.961997Z",
     "iopub.status.idle": "2020-10-20T12:36:43.635942Z",
     "shell.execute_reply": "2020-10-20T12:36:43.635134Z"
    },
    "papermill": {
     "duration": 0.726495,
     "end_time": "2020-10-20T12:36:43.636098",
     "exception": false,
     "start_time": "2020-10-20T12:36:42.909603",
     "status": "completed"
    },
    "tags": []
   },
   "outputs": [
    {
     "name": "stdout",
     "output_type": "stream",
     "text": [
      "Downcasting: \n",
      "                    before     after  reduction(%)\n",
      "Index                128       128          0.00\n",
      "date            23486792  23486792          0.00\n",
      "date_block_num  23486792   2935849         87.50\n",
      "shop_id         23486792   2935849         87.50\n",
      "item_id         23486792   5871698         75.00\n",
      "item_price      23486792  11743396         50.00\n",
      "item_cnt_day    23486792  11743396         50.00\n",
      "\n",
      "\n",
      "Downcasting: \n",
      "            before   after  reduction(%)\n",
      "Index        128     128          0.00\n",
      "ID       1713600  856800         50.00\n",
      "shop_id  1713600  214200         87.50\n",
      "item_id  1713600  428400         75.00\n",
      "\n",
      "\n"
     ]
    }
   ],
   "source": [
    "def downcast_df(df):\n",
    "\n",
    "    before = df.memory_usage()\n",
    "    # skip any columns with nan to prevent crash\n",
    "    cols_to_skip = df.isna().sum()[df.isna().sum() > 0].index\n",
    "    numcols = [\n",
    "        col for col in df.select_dtypes(\"number\").columns if col not in cols_to_skip\n",
    "    ]\n",
    "    ints = df.select_dtypes(int).columns\n",
    "    floats = df.select_dtypes(float).columns\n",
    "\n",
    "    for col in ints:\n",
    "        df[col] = pd.to_numeric(df[col].values, downcast=\"integer\")\n",
    "    for col in floats:\n",
    "        df[col] = pd.to_numeric(df[col].values, downcast=\"float\")\n",
    "\n",
    "    after = df.memory_usage()\n",
    "    reduction = (before - after) / before * 100\n",
    "\n",
    "    comparison = pd.concat([before, after, reduction], axis=1)\n",
    "    comparison.columns = [\n",
    "        \"before\",\n",
    "        \"after\",\n",
    "        \"reduction(%)\",\n",
    "    ]\n",
    "\n",
    "    print(f\"Downcasting: \\n  {comparison}\\n\\n\")\n",
    "\n",
    "    return df\n",
    "\n",
    "\n",
    "df = downcast_df(train)\n",
    "df = downcast_df(test)\n"
   ]
  },
  {
   "cell_type": "code",
   "execution_count": 5,
   "metadata": {
    "_kg_hide-input": true,
    "execution": {
     "iopub.execute_input": "2020-10-20T12:36:43.733202Z",
     "iopub.status.busy": "2020-10-20T12:36:43.732224Z",
     "iopub.status.idle": "2020-10-20T12:36:43.735494Z",
     "shell.execute_reply": "2020-10-20T12:36:43.735991Z"
    },
    "papermill": {
     "duration": 0.05516,
     "end_time": "2020-10-20T12:36:43.736135",
     "exception": false,
     "start_time": "2020-10-20T12:36:43.680975",
     "status": "completed"
    },
    "tags": []
   },
   "outputs": [
    {
     "name": "stdout",
     "output_type": "stream",
     "text": [
      "Train set contains 2935849 rows,6 columns. \n",
      "Test set contains 214200 rows, 3 columns.\n",
      "\n",
      "These are the features in TRAIN and NOT in TEST ->{'date', 'item_price', 'date_block_num', 'item_cnt_day'}.\n",
      "These are the features in TEST and NOT in TRAIN -> {'ID'}\n"
     ]
    }
   ],
   "source": [
    "print(f'Train set contains {train.shape[0]} rows,{train.shape[1]} columns. \\nTest set contains {test.shape[0]} rows, {test.shape[1]} columns.\\n')\n",
    "print(f'These are the features in TRAIN and NOT in TEST ->{set(train.columns) - set(test.columns)}.\\nThese are the features in TEST and NOT in TRAIN -> {set(test.columns) - set(train.columns)}')"
   ]
  },
  {
   "cell_type": "markdown",
   "metadata": {
    "papermill": {
     "duration": 0.043232,
     "end_time": "2020-10-20T12:36:43.824186",
     "exception": false,
     "start_time": "2020-10-20T12:36:43.780954",
     "status": "completed"
    },
    "tags": []
   },
   "source": [
    "Checking the data types and missing value counts in train and test sets"
   ]
  },
  {
   "cell_type": "code",
   "execution_count": 6,
   "metadata": {
    "_kg_hide-input": true,
    "execution": {
     "iopub.execute_input": "2020-10-20T12:36:43.920947Z",
     "iopub.status.busy": "2020-10-20T12:36:43.919884Z",
     "iopub.status.idle": "2020-10-20T12:36:44.092441Z",
     "shell.execute_reply": "2020-10-20T12:36:44.093244Z"
    },
    "papermill": {
     "duration": 0.223373,
     "end_time": "2020-10-20T12:36:44.093481",
     "exception": false,
     "start_time": "2020-10-20T12:36:43.870108",
     "status": "completed"
    },
    "tags": []
   },
   "outputs": [
    {
     "name": "stdout",
     "output_type": "stream",
     "text": [
      "<class 'pandas.core.frame.DataFrame'>\n",
      "RangeIndex: 2935849 entries, 0 to 2935848\n",
      "Data columns (total 6 columns):\n",
      " #   Column          Non-Null Count    Dtype  \n",
      "---  ------          --------------    -----  \n",
      " 0   date            2935849 non-null  object \n",
      " 1   date_block_num  2935849 non-null  int8   \n",
      " 2   shop_id         2935849 non-null  int8   \n",
      " 3   item_id         2935849 non-null  int16  \n",
      " 4   item_price      2935849 non-null  float32\n",
      " 5   item_cnt_day    2935849 non-null  float32\n",
      "dtypes: float32(2), int16(1), int8(2), object(1)\n",
      "memory usage: 56.0+ MB\n"
     ]
    }
   ],
   "source": [
    "train.info(verbose=True, null_counts=True)"
   ]
  },
  {
   "cell_type": "code",
   "execution_count": 7,
   "metadata": {
    "_kg_hide-input": true,
    "execution": {
     "iopub.execute_input": "2020-10-20T12:36:44.193432Z",
     "iopub.status.busy": "2020-10-20T12:36:44.192727Z",
     "iopub.status.idle": "2020-10-20T12:36:44.202988Z",
     "shell.execute_reply": "2020-10-20T12:36:44.203759Z"
    },
    "papermill": {
     "duration": 0.062037,
     "end_time": "2020-10-20T12:36:44.203951",
     "exception": false,
     "start_time": "2020-10-20T12:36:44.141914",
     "status": "completed"
    },
    "tags": []
   },
   "outputs": [
    {
     "name": "stdout",
     "output_type": "stream",
     "text": [
      "<class 'pandas.core.frame.DataFrame'>\n",
      "RangeIndex: 214200 entries, 0 to 214199\n",
      "Data columns (total 3 columns):\n",
      " #   Column   Non-Null Count   Dtype\n",
      "---  ------   --------------   -----\n",
      " 0   ID       214200 non-null  int32\n",
      " 1   shop_id  214200 non-null  int8 \n",
      " 2   item_id  214200 non-null  int16\n",
      "dtypes: int16(1), int32(1), int8(1)\n",
      "memory usage: 1.4 MB\n"
     ]
    }
   ],
   "source": [
    "test.info(verbose=True, null_counts=True)"
   ]
  },
  {
   "cell_type": "markdown",
   "metadata": {
    "papermill": {
     "duration": 0.044561,
     "end_time": "2020-10-20T12:36:44.294207",
     "exception": false,
     "start_time": "2020-10-20T12:36:44.249646",
     "status": "completed"
    },
    "tags": []
   },
   "source": [
    "Looking at a sample of records from train and test sets"
   ]
  },
  {
   "cell_type": "code",
   "execution_count": 8,
   "metadata": {
    "_kg_hide-input": true,
    "execution": {
     "iopub.execute_input": "2020-10-20T12:36:44.387275Z",
     "iopub.status.busy": "2020-10-20T12:36:44.386636Z",
     "iopub.status.idle": "2020-10-20T12:36:44.541751Z",
     "shell.execute_reply": "2020-10-20T12:36:44.541006Z"
    },
    "papermill": {
     "duration": 0.203674,
     "end_time": "2020-10-20T12:36:44.541881",
     "exception": false,
     "start_time": "2020-10-20T12:36:44.338207",
     "status": "completed"
    },
    "tags": []
   },
   "outputs": [
    {
     "data": {
      "text/html": [
       "<div>\n",
       "<style scoped>\n",
       "    .dataframe tbody tr th:only-of-type {\n",
       "        vertical-align: middle;\n",
       "    }\n",
       "\n",
       "    .dataframe tbody tr th {\n",
       "        vertical-align: top;\n",
       "    }\n",
       "\n",
       "    .dataframe thead th {\n",
       "        text-align: right;\n",
       "    }\n",
       "</style>\n",
       "<table border=\"1\" class=\"dataframe\">\n",
       "  <thead>\n",
       "    <tr style=\"text-align: right;\">\n",
       "      <th></th>\n",
       "      <th>date</th>\n",
       "      <th>date_block_num</th>\n",
       "      <th>shop_id</th>\n",
       "      <th>item_id</th>\n",
       "      <th>item_price</th>\n",
       "      <th>item_cnt_day</th>\n",
       "    </tr>\n",
       "  </thead>\n",
       "  <tbody>\n",
       "    <tr>\n",
       "      <th>1863025</th>\n",
       "      <td>05.07.2014</td>\n",
       "      <td>18</td>\n",
       "      <td>25</td>\n",
       "      <td>4573</td>\n",
       "      <td>299.00</td>\n",
       "      <td>1.00</td>\n",
       "    </tr>\n",
       "    <tr>\n",
       "      <th>1639187</th>\n",
       "      <td>08.05.2014</td>\n",
       "      <td>16</td>\n",
       "      <td>30</td>\n",
       "      <td>3934</td>\n",
       "      <td>2799.00</td>\n",
       "      <td>1.00</td>\n",
       "    </tr>\n",
       "    <tr>\n",
       "      <th>703535</th>\n",
       "      <td>18.07.2013</td>\n",
       "      <td>6</td>\n",
       "      <td>58</td>\n",
       "      <td>3267</td>\n",
       "      <td>299.00</td>\n",
       "      <td>1.00</td>\n",
       "    </tr>\n",
       "    <tr>\n",
       "      <th>162219</th>\n",
       "      <td>13.02.2013</td>\n",
       "      <td>1</td>\n",
       "      <td>22</td>\n",
       "      <td>19345</td>\n",
       "      <td>400.00</td>\n",
       "      <td>1.00</td>\n",
       "    </tr>\n",
       "    <tr>\n",
       "      <th>71339</th>\n",
       "      <td>23.01.2013</td>\n",
       "      <td>0</td>\n",
       "      <td>31</td>\n",
       "      <td>14447</td>\n",
       "      <td>499.00</td>\n",
       "      <td>2.00</td>\n",
       "    </tr>\n",
       "  </tbody>\n",
       "</table>\n",
       "</div>"
      ],
      "text/plain": [
       "               date  date_block_num  shop_id  item_id  item_price  \\\n",
       "1863025  05.07.2014              18       25     4573      299.00   \n",
       "1639187  08.05.2014              16       30     3934     2799.00   \n",
       "703535   18.07.2013               6       58     3267      299.00   \n",
       "162219   13.02.2013               1       22    19345      400.00   \n",
       "71339    23.01.2013               0       31    14447      499.00   \n",
       "\n",
       "         item_cnt_day  \n",
       "1863025          1.00  \n",
       "1639187          1.00  \n",
       "703535           1.00  \n",
       "162219           1.00  \n",
       "71339            2.00  "
      ]
     },
     "execution_count": 8,
     "metadata": {},
     "output_type": "execute_result"
    }
   ],
   "source": [
    "train.sample(5)"
   ]
  },
  {
   "cell_type": "code",
   "execution_count": 9,
   "metadata": {
    "_kg_hide-input": true,
    "execution": {
     "iopub.execute_input": "2020-10-20T12:36:44.643183Z",
     "iopub.status.busy": "2020-10-20T12:36:44.637261Z",
     "iopub.status.idle": "2020-10-20T12:36:44.653402Z",
     "shell.execute_reply": "2020-10-20T12:36:44.652735Z"
    },
    "papermill": {
     "duration": 0.066531,
     "end_time": "2020-10-20T12:36:44.653567",
     "exception": false,
     "start_time": "2020-10-20T12:36:44.587036",
     "status": "completed"
    },
    "tags": []
   },
   "outputs": [
    {
     "data": {
      "text/html": [
       "<div>\n",
       "<style scoped>\n",
       "    .dataframe tbody tr th:only-of-type {\n",
       "        vertical-align: middle;\n",
       "    }\n",
       "\n",
       "    .dataframe tbody tr th {\n",
       "        vertical-align: top;\n",
       "    }\n",
       "\n",
       "    .dataframe thead th {\n",
       "        text-align: right;\n",
       "    }\n",
       "</style>\n",
       "<table border=\"1\" class=\"dataframe\">\n",
       "  <thead>\n",
       "    <tr style=\"text-align: right;\">\n",
       "      <th></th>\n",
       "      <th>ID</th>\n",
       "      <th>shop_id</th>\n",
       "      <th>item_id</th>\n",
       "    </tr>\n",
       "  </thead>\n",
       "  <tbody>\n",
       "    <tr>\n",
       "      <th>6008</th>\n",
       "      <td>6008</td>\n",
       "      <td>4</td>\n",
       "      <td>20404</td>\n",
       "    </tr>\n",
       "    <tr>\n",
       "      <th>60159</th>\n",
       "      <td>60159</td>\n",
       "      <td>25</td>\n",
       "      <td>2700</td>\n",
       "    </tr>\n",
       "    <tr>\n",
       "      <th>40069</th>\n",
       "      <td>40069</td>\n",
       "      <td>12</td>\n",
       "      <td>5768</td>\n",
       "    </tr>\n",
       "    <tr>\n",
       "      <th>150458</th>\n",
       "      <td>150458</td>\n",
       "      <td>59</td>\n",
       "      <td>5539</td>\n",
       "    </tr>\n",
       "    <tr>\n",
       "      <th>213148</th>\n",
       "      <td>213148</td>\n",
       "      <td>45</td>\n",
       "      <td>10944</td>\n",
       "    </tr>\n",
       "  </tbody>\n",
       "</table>\n",
       "</div>"
      ],
      "text/plain": [
       "            ID  shop_id  item_id\n",
       "6008      6008        4    20404\n",
       "60159    60159       25     2700\n",
       "40069    40069       12     5768\n",
       "150458  150458       59     5539\n",
       "213148  213148       45    10944"
      ]
     },
     "execution_count": 9,
     "metadata": {},
     "output_type": "execute_result"
    }
   ],
   "source": [
    "test.sample(5)"
   ]
  },
  {
   "cell_type": "markdown",
   "metadata": {
    "papermill": {
     "duration": 0.044261,
     "end_time": "2020-10-20T12:36:44.744209",
     "exception": false,
     "start_time": "2020-10-20T12:36:44.699948",
     "status": "completed"
    },
    "tags": []
   },
   "source": [
    "Descriptive statistics as follows:"
   ]
  },
  {
   "cell_type": "code",
   "execution_count": 10,
   "metadata": {
    "_kg_hide-input": true,
    "execution": {
     "iopub.execute_input": "2020-10-20T12:36:44.839518Z",
     "iopub.status.busy": "2020-10-20T12:36:44.838802Z",
     "iopub.status.idle": "2020-10-20T12:36:45.098119Z",
     "shell.execute_reply": "2020-10-20T12:36:45.097567Z"
    },
    "papermill": {
     "duration": 0.30945,
     "end_time": "2020-10-20T12:36:45.098240",
     "exception": false,
     "start_time": "2020-10-20T12:36:44.788790",
     "status": "completed"
    },
    "tags": []
   },
   "outputs": [
    {
     "data": {
      "text/html": [
       "<div>\n",
       "<style scoped>\n",
       "    .dataframe tbody tr th:only-of-type {\n",
       "        vertical-align: middle;\n",
       "    }\n",
       "\n",
       "    .dataframe tbody tr th {\n",
       "        vertical-align: top;\n",
       "    }\n",
       "\n",
       "    .dataframe thead th {\n",
       "        text-align: right;\n",
       "    }\n",
       "</style>\n",
       "<table border=\"1\" class=\"dataframe\">\n",
       "  <thead>\n",
       "    <tr style=\"text-align: right;\">\n",
       "      <th></th>\n",
       "      <th>date_block_num</th>\n",
       "      <th>item_price</th>\n",
       "      <th>item_cnt_day</th>\n",
       "    </tr>\n",
       "  </thead>\n",
       "  <tbody>\n",
       "    <tr>\n",
       "      <th>count</th>\n",
       "      <td>2935849.00</td>\n",
       "      <td>2935849.00</td>\n",
       "      <td>2935849.00</td>\n",
       "    </tr>\n",
       "    <tr>\n",
       "      <th>mean</th>\n",
       "      <td>14.57</td>\n",
       "      <td>890.62</td>\n",
       "      <td>1.24</td>\n",
       "    </tr>\n",
       "    <tr>\n",
       "      <th>std</th>\n",
       "      <td>9.42</td>\n",
       "      <td>1726.44</td>\n",
       "      <td>2.61</td>\n",
       "    </tr>\n",
       "    <tr>\n",
       "      <th>min</th>\n",
       "      <td>0.00</td>\n",
       "      <td>-1.00</td>\n",
       "      <td>-22.00</td>\n",
       "    </tr>\n",
       "    <tr>\n",
       "      <th>25%</th>\n",
       "      <td>7.00</td>\n",
       "      <td>249.00</td>\n",
       "      <td>1.00</td>\n",
       "    </tr>\n",
       "    <tr>\n",
       "      <th>50%</th>\n",
       "      <td>14.00</td>\n",
       "      <td>399.00</td>\n",
       "      <td>1.00</td>\n",
       "    </tr>\n",
       "    <tr>\n",
       "      <th>75%</th>\n",
       "      <td>23.00</td>\n",
       "      <td>999.00</td>\n",
       "      <td>1.00</td>\n",
       "    </tr>\n",
       "    <tr>\n",
       "      <th>max</th>\n",
       "      <td>33.00</td>\n",
       "      <td>307980.00</td>\n",
       "      <td>2169.00</td>\n",
       "    </tr>\n",
       "  </tbody>\n",
       "</table>\n",
       "</div>"
      ],
      "text/plain": [
       "       date_block_num  item_price  item_cnt_day\n",
       "count      2935849.00  2935849.00    2935849.00\n",
       "mean            14.57      890.62          1.24\n",
       "std              9.42     1726.44          2.61\n",
       "min              0.00       -1.00        -22.00\n",
       "25%              7.00      249.00          1.00\n",
       "50%             14.00      399.00          1.00\n",
       "75%             23.00      999.00          1.00\n",
       "max             33.00   307980.00       2169.00"
      ]
     },
     "execution_count": 10,
     "metadata": {},
     "output_type": "execute_result"
    }
   ],
   "source": [
    "train.drop(columns=['item_id','shop_id']).describe()"
   ]
  },
  {
   "cell_type": "markdown",
   "metadata": {
    "papermill": {
     "duration": 0.045748,
     "end_time": "2020-10-20T12:36:45.190740",
     "exception": false,
     "start_time": "2020-10-20T12:36:45.144992",
     "status": "completed"
    },
    "tags": []
   },
   "source": [
    "-> There are negative sales quantities (item_cnt_day). I assume they indicate returns. <br>\n",
    "-> There is also negative item price. I assume this is an error and needs to be corrected."
   ]
  },
  {
   "cell_type": "markdown",
   "metadata": {
    "papermill": {
     "duration": 0.045096,
     "end_time": "2020-10-20T12:36:45.282381",
     "exception": false,
     "start_time": "2020-10-20T12:36:45.237285",
     "status": "completed"
    },
    "tags": []
   },
   "source": [
    "Modifying the test dataframe so that the columns align with train df."
   ]
  },
  {
   "cell_type": "code",
   "execution_count": 11,
   "metadata": {
    "execution": {
     "iopub.execute_input": "2020-10-20T12:36:45.384270Z",
     "iopub.status.busy": "2020-10-20T12:36:45.383627Z",
     "iopub.status.idle": "2020-10-20T12:36:45.389191Z",
     "shell.execute_reply": "2020-10-20T12:36:45.388687Z"
    },
    "papermill": {
     "duration": 0.060699,
     "end_time": "2020-10-20T12:36:45.389310",
     "exception": false,
     "start_time": "2020-10-20T12:36:45.328611",
     "status": "completed"
    },
    "tags": []
   },
   "outputs": [],
   "source": [
    "test = test.drop('ID', axis=1)\n",
    "\n",
    "test['date'] = '01.11.2015'\n",
    "test['date_block_num'] = 34\n",
    "test['item_cnt_day'] = np.nan\n",
    "test['item_price'] = np.nan"
   ]
  },
  {
   "cell_type": "markdown",
   "metadata": {
    "papermill": {
     "duration": 0.045666,
     "end_time": "2020-10-20T12:36:45.486718",
     "exception": false,
     "start_time": "2020-10-20T12:36:45.441052",
     "status": "completed"
    },
    "tags": []
   },
   "source": [
    "Taking a closer look at the record(s) with the negative item price."
   ]
  },
  {
   "cell_type": "code",
   "execution_count": 12,
   "metadata": {
    "execution": {
     "iopub.execute_input": "2020-10-20T12:36:45.585382Z",
     "iopub.status.busy": "2020-10-20T12:36:45.584658Z",
     "iopub.status.idle": "2020-10-20T12:36:45.596893Z",
     "shell.execute_reply": "2020-10-20T12:36:45.596223Z"
    },
    "papermill": {
     "duration": 0.064189,
     "end_time": "2020-10-20T12:36:45.597013",
     "exception": false,
     "start_time": "2020-10-20T12:36:45.532824",
     "status": "completed"
    },
    "tags": []
   },
   "outputs": [
    {
     "data": {
      "text/html": [
       "<div>\n",
       "<style scoped>\n",
       "    .dataframe tbody tr th:only-of-type {\n",
       "        vertical-align: middle;\n",
       "    }\n",
       "\n",
       "    .dataframe tbody tr th {\n",
       "        vertical-align: top;\n",
       "    }\n",
       "\n",
       "    .dataframe thead th {\n",
       "        text-align: right;\n",
       "    }\n",
       "</style>\n",
       "<table border=\"1\" class=\"dataframe\">\n",
       "  <thead>\n",
       "    <tr style=\"text-align: right;\">\n",
       "      <th></th>\n",
       "      <th>date</th>\n",
       "      <th>date_block_num</th>\n",
       "      <th>shop_id</th>\n",
       "      <th>item_id</th>\n",
       "      <th>item_price</th>\n",
       "      <th>item_cnt_day</th>\n",
       "    </tr>\n",
       "  </thead>\n",
       "  <tbody>\n",
       "    <tr>\n",
       "      <th>484683</th>\n",
       "      <td>15.05.2013</td>\n",
       "      <td>4</td>\n",
       "      <td>32</td>\n",
       "      <td>2973</td>\n",
       "      <td>-1.00</td>\n",
       "      <td>1.00</td>\n",
       "    </tr>\n",
       "  </tbody>\n",
       "</table>\n",
       "</div>"
      ],
      "text/plain": [
       "              date  date_block_num  shop_id  item_id  item_price  item_cnt_day\n",
       "484683  15.05.2013               4       32     2973       -1.00          1.00"
      ]
     },
     "execution_count": 12,
     "metadata": {},
     "output_type": "execute_result"
    }
   ],
   "source": [
    "train[train['item_price']<0]"
   ]
  },
  {
   "cell_type": "markdown",
   "metadata": {
    "papermill": {
     "duration": 0.045472,
     "end_time": "2020-10-20T12:36:45.688315",
     "exception": false,
     "start_time": "2020-10-20T12:36:45.642843",
     "status": "completed"
    },
    "tags": []
   },
   "source": [
    "Only one item shows negative price. Checking other records for the same item/shop to see the other prices used."
   ]
  },
  {
   "cell_type": "code",
   "execution_count": 13,
   "metadata": {
    "execution": {
     "iopub.execute_input": "2020-10-20T12:36:45.786504Z",
     "iopub.status.busy": "2020-10-20T12:36:45.785822Z",
     "iopub.status.idle": "2020-10-20T12:36:45.803517Z",
     "shell.execute_reply": "2020-10-20T12:36:45.802843Z"
    },
    "papermill": {
     "duration": 0.068525,
     "end_time": "2020-10-20T12:36:45.803638",
     "exception": false,
     "start_time": "2020-10-20T12:36:45.735113",
     "status": "completed"
    },
    "tags": []
   },
   "outputs": [
    {
     "data": {
      "text/html": [
       "<div>\n",
       "<style scoped>\n",
       "    .dataframe tbody tr th:only-of-type {\n",
       "        vertical-align: middle;\n",
       "    }\n",
       "\n",
       "    .dataframe tbody tr th {\n",
       "        vertical-align: top;\n",
       "    }\n",
       "\n",
       "    .dataframe thead th {\n",
       "        text-align: right;\n",
       "    }\n",
       "</style>\n",
       "<table border=\"1\" class=\"dataframe\">\n",
       "  <thead>\n",
       "    <tr style=\"text-align: right;\">\n",
       "      <th></th>\n",
       "      <th>date</th>\n",
       "      <th>date_block_num</th>\n",
       "      <th>shop_id</th>\n",
       "      <th>item_id</th>\n",
       "      <th>item_price</th>\n",
       "      <th>item_cnt_day</th>\n",
       "    </tr>\n",
       "  </thead>\n",
       "  <tbody>\n",
       "    <tr>\n",
       "      <th>67427</th>\n",
       "      <td>29.01.2013</td>\n",
       "      <td>0</td>\n",
       "      <td>32</td>\n",
       "      <td>2973</td>\n",
       "      <td>2499.00</td>\n",
       "      <td>1.00</td>\n",
       "    </tr>\n",
       "    <tr>\n",
       "      <th>67428</th>\n",
       "      <td>25.01.2013</td>\n",
       "      <td>0</td>\n",
       "      <td>32</td>\n",
       "      <td>2973</td>\n",
       "      <td>2499.00</td>\n",
       "      <td>1.00</td>\n",
       "    </tr>\n",
       "    <tr>\n",
       "      <th>67429</th>\n",
       "      <td>22.01.2013</td>\n",
       "      <td>0</td>\n",
       "      <td>32</td>\n",
       "      <td>2973</td>\n",
       "      <td>2499.00</td>\n",
       "      <td>1.00</td>\n",
       "    </tr>\n",
       "    <tr>\n",
       "      <th>67430</th>\n",
       "      <td>21.01.2013</td>\n",
       "      <td>0</td>\n",
       "      <td>32</td>\n",
       "      <td>2973</td>\n",
       "      <td>2499.00</td>\n",
       "      <td>1.00</td>\n",
       "    </tr>\n",
       "    <tr>\n",
       "      <th>67431</th>\n",
       "      <td>18.01.2013</td>\n",
       "      <td>0</td>\n",
       "      <td>32</td>\n",
       "      <td>2973</td>\n",
       "      <td>2499.00</td>\n",
       "      <td>1.00</td>\n",
       "    </tr>\n",
       "    <tr>\n",
       "      <th>67432</th>\n",
       "      <td>17.01.2013</td>\n",
       "      <td>0</td>\n",
       "      <td>32</td>\n",
       "      <td>2973</td>\n",
       "      <td>2499.00</td>\n",
       "      <td>1.00</td>\n",
       "    </tr>\n",
       "    <tr>\n",
       "      <th>67433</th>\n",
       "      <td>15.01.2013</td>\n",
       "      <td>0</td>\n",
       "      <td>32</td>\n",
       "      <td>2973</td>\n",
       "      <td>2499.00</td>\n",
       "      <td>3.00</td>\n",
       "    </tr>\n",
       "    <tr>\n",
       "      <th>187844</th>\n",
       "      <td>05.02.2013</td>\n",
       "      <td>1</td>\n",
       "      <td>32</td>\n",
       "      <td>2973</td>\n",
       "      <td>2499.00</td>\n",
       "      <td>1.00</td>\n",
       "    </tr>\n",
       "    <tr>\n",
       "      <th>187845</th>\n",
       "      <td>14.02.2013</td>\n",
       "      <td>1</td>\n",
       "      <td>32</td>\n",
       "      <td>2973</td>\n",
       "      <td>2499.00</td>\n",
       "      <td>1.00</td>\n",
       "    </tr>\n",
       "    <tr>\n",
       "      <th>484682</th>\n",
       "      <td>23.05.2013</td>\n",
       "      <td>4</td>\n",
       "      <td>32</td>\n",
       "      <td>2973</td>\n",
       "      <td>1249.00</td>\n",
       "      <td>1.00</td>\n",
       "    </tr>\n",
       "    <tr>\n",
       "      <th>484683</th>\n",
       "      <td>15.05.2013</td>\n",
       "      <td>4</td>\n",
       "      <td>32</td>\n",
       "      <td>2973</td>\n",
       "      <td>-1.00</td>\n",
       "      <td>1.00</td>\n",
       "    </tr>\n",
       "    <tr>\n",
       "      <th>484684</th>\n",
       "      <td>06.05.2013</td>\n",
       "      <td>4</td>\n",
       "      <td>32</td>\n",
       "      <td>2973</td>\n",
       "      <td>2499.00</td>\n",
       "      <td>1.00</td>\n",
       "    </tr>\n",
       "    <tr>\n",
       "      <th>555026</th>\n",
       "      <td>05.06.2013</td>\n",
       "      <td>5</td>\n",
       "      <td>32</td>\n",
       "      <td>2973</td>\n",
       "      <td>1249.50</td>\n",
       "      <td>1.00</td>\n",
       "    </tr>\n",
       "  </tbody>\n",
       "</table>\n",
       "</div>"
      ],
      "text/plain": [
       "              date  date_block_num  shop_id  item_id  item_price  item_cnt_day\n",
       "67427   29.01.2013               0       32     2973     2499.00          1.00\n",
       "67428   25.01.2013               0       32     2973     2499.00          1.00\n",
       "67429   22.01.2013               0       32     2973     2499.00          1.00\n",
       "67430   21.01.2013               0       32     2973     2499.00          1.00\n",
       "67431   18.01.2013               0       32     2973     2499.00          1.00\n",
       "67432   17.01.2013               0       32     2973     2499.00          1.00\n",
       "67433   15.01.2013               0       32     2973     2499.00          3.00\n",
       "187844  05.02.2013               1       32     2973     2499.00          1.00\n",
       "187845  14.02.2013               1       32     2973     2499.00          1.00\n",
       "484682  23.05.2013               4       32     2973     1249.00          1.00\n",
       "484683  15.05.2013               4       32     2973       -1.00          1.00\n",
       "484684  06.05.2013               4       32     2973     2499.00          1.00\n",
       "555026  05.06.2013               5       32     2973     1249.50          1.00"
      ]
     },
     "execution_count": 13,
     "metadata": {},
     "output_type": "execute_result"
    }
   ],
   "source": [
    "train[(train['item_id']==2973)&(train['shop_id']==32)]"
   ]
  },
  {
   "cell_type": "markdown",
   "metadata": {
    "papermill": {
     "duration": 0.046098,
     "end_time": "2020-10-20T12:36:45.896859",
     "exception": false,
     "start_time": "2020-10-20T12:36:45.850761",
     "status": "completed"
    },
    "tags": []
   },
   "source": [
    "Imputing the negative item price with the most common occurrance -> 2499"
   ]
  },
  {
   "cell_type": "code",
   "execution_count": 14,
   "metadata": {
    "execution": {
     "iopub.execute_input": "2020-10-20T12:36:45.998375Z",
     "iopub.status.busy": "2020-10-20T12:36:45.997660Z",
     "iopub.status.idle": "2020-10-20T12:36:46.012683Z",
     "shell.execute_reply": "2020-10-20T12:36:46.011708Z"
    },
    "papermill": {
     "duration": 0.069343,
     "end_time": "2020-10-20T12:36:46.012835",
     "exception": false,
     "start_time": "2020-10-20T12:36:45.943492",
     "status": "completed"
    },
    "tags": []
   },
   "outputs": [],
   "source": [
    "train.loc[train['item_price']<0,'item_price'] = 2499"
   ]
  },
  {
   "cell_type": "markdown",
   "metadata": {
    "papermill": {
     "duration": 0.049233,
     "end_time": "2020-10-20T12:36:46.110530",
     "exception": false,
     "start_time": "2020-10-20T12:36:46.061297",
     "status": "completed"
    },
    "tags": []
   },
   "source": [
    "Applying grouping to train and test dataframes so that they show monthly sales qty instead of daily.<br> This is because we're asked to provide the forecast at a monthly level.<br> I am also clipping the target variable between 0 and 20 per the instructions."
   ]
  },
  {
   "cell_type": "code",
   "execution_count": 15,
   "metadata": {
    "execution": {
     "iopub.execute_input": "2020-10-20T12:36:46.215865Z",
     "iopub.status.busy": "2020-10-20T12:36:46.214275Z",
     "iopub.status.idle": "2020-10-20T12:36:47.363317Z",
     "shell.execute_reply": "2020-10-20T12:36:47.362740Z"
    },
    "papermill": {
     "duration": 1.205686,
     "end_time": "2020-10-20T12:36:47.363455",
     "exception": false,
     "start_time": "2020-10-20T12:36:46.157769",
     "status": "completed"
    },
    "tags": []
   },
   "outputs": [],
   "source": [
    "train = train.groupby(by=[\"date_block_num\", \"shop_id\", \"item_id\"], as_index=False).agg(\n",
    "    {\"item_cnt_day\": \"sum\", \"item_price\": \"mean\", \"date\": \"first\"})\n",
    "\n",
    "train = train.rename(columns={\"item_cnt_day\": \"item_cnt_month\"})\n",
    "test = test.rename(columns={\"item_cnt_day\": \"item_cnt_month\"})\n",
    "\n",
    "train[\"item_cnt_month\"] = train[\"item_cnt_month\"].clip(0, 20)"
   ]
  },
  {
   "cell_type": "markdown",
   "metadata": {
    "papermill": {
     "duration": 0.047304,
     "end_time": "2020-10-20T12:36:47.459421",
     "exception": false,
     "start_time": "2020-10-20T12:36:47.412117",
     "status": "completed"
    },
    "tags": []
   },
   "source": [
    "# Detect Outliers\n",
    "\n",
    "Checking the item price for outliers below."
   ]
  },
  {
   "cell_type": "code",
   "execution_count": 16,
   "metadata": {
    "_kg_hide-input": true,
    "execution": {
     "iopub.execute_input": "2020-10-20T12:36:47.564972Z",
     "iopub.status.busy": "2020-10-20T12:36:47.564131Z",
     "iopub.status.idle": "2020-10-20T12:36:48.039946Z",
     "shell.execute_reply": "2020-10-20T12:36:48.039295Z"
    },
    "papermill": {
     "duration": 0.531198,
     "end_time": "2020-10-20T12:36:48.040070",
     "exception": false,
     "start_time": "2020-10-20T12:36:47.508872",
     "status": "completed"
    },
    "tags": []
   },
   "outputs": [
    {
     "data": {
      "image/png": "[encoded data removed]",
      "text/plain": [
       "<Figure size 1152x504 with 1 Axes>"
      ]
     },
     "metadata": {},
     "output_type": "display_data"
    }
   ],
   "source": [
    "def plot_for_outlier(ft, name):\n",
    "    plt.style.use(\"ggplot\")\n",
    "    params = {\n",
    "        \"axes.labelsize\": 20,\n",
    "        \"xtick.labelsize\": 14,\n",
    "    }\n",
    "    plt.rcParams.update(params)\n",
    "\n",
    "    fig, ax = plt.subplots(figsize=(16, 7))\n",
    "\n",
    "    plot1 = sns.boxplot(x=train[ft])\n",
    "\n",
    "    plot1.set_xlabel(name)\n",
    "\n",
    "    return fig.show()\n",
    "\n",
    "\n",
    "plot_for_outlier(\"item_price\", \"Item Price\")"
   ]
  },
  {
   "cell_type": "code",
   "execution_count": 17,
   "metadata": {
    "execution": {
     "iopub.execute_input": "2020-10-20T12:36:48.143447Z",
     "iopub.status.busy": "2020-10-20T12:36:48.141806Z",
     "iopub.status.idle": "2020-10-20T12:36:48.171478Z",
     "shell.execute_reply": "2020-10-20T12:36:48.170827Z"
    },
    "papermill": {
     "duration": 0.083675,
     "end_time": "2020-10-20T12:36:48.171593",
     "exception": false,
     "start_time": "2020-10-20T12:36:48.087918",
     "status": "completed"
    },
    "tags": []
   },
   "outputs": [
    {
     "data": {
      "text/html": [
       "<div>\n",
       "<style scoped>\n",
       "    .dataframe tbody tr th:only-of-type {\n",
       "        vertical-align: middle;\n",
       "    }\n",
       "\n",
       "    .dataframe tbody tr th {\n",
       "        vertical-align: top;\n",
       "    }\n",
       "\n",
       "    .dataframe thead th {\n",
       "        text-align: right;\n",
       "    }\n",
       "</style>\n",
       "<table border=\"1\" class=\"dataframe\">\n",
       "  <thead>\n",
       "    <tr style=\"text-align: right;\">\n",
       "      <th></th>\n",
       "      <th>date_block_num</th>\n",
       "      <th>shop_id</th>\n",
       "      <th>item_id</th>\n",
       "      <th>item_cnt_month</th>\n",
       "      <th>item_price</th>\n",
       "      <th>date</th>\n",
       "    </tr>\n",
       "  </thead>\n",
       "  <tbody>\n",
       "    <tr>\n",
       "      <th>629348</th>\n",
       "      <td>11</td>\n",
       "      <td>12</td>\n",
       "      <td>6066</td>\n",
       "      <td>1.00</td>\n",
       "      <td>307980.00</td>\n",
       "      <td>13.12.2013</td>\n",
       "    </tr>\n",
       "  </tbody>\n",
       "</table>\n",
       "</div>"
      ],
      "text/plain": [
       "        date_block_num  shop_id  item_id  item_cnt_month  item_price  \\\n",
       "629348              11       12     6066            1.00   307980.00   \n",
       "\n",
       "              date  \n",
       "629348  13.12.2013  "
      ]
     },
     "execution_count": 17,
     "metadata": {},
     "output_type": "execute_result"
    }
   ],
   "source": [
    "train[train[\"item_price\"] > 100000]"
   ]
  },
  {
   "cell_type": "markdown",
   "metadata": {
    "papermill": {
     "duration": 0.047487,
     "end_time": "2020-10-20T12:36:48.269064",
     "exception": false,
     "start_time": "2020-10-20T12:36:48.221577",
     "status": "completed"
    },
    "tags": []
   },
   "source": [
    "Removing one extreme outlier from the equation."
   ]
  },
  {
   "cell_type": "code",
   "execution_count": 18,
   "metadata": {
    "execution": {
     "iopub.execute_input": "2020-10-20T12:36:48.374656Z",
     "iopub.status.busy": "2020-10-20T12:36:48.373810Z",
     "iopub.status.idle": "2020-10-20T12:36:48.434760Z",
     "shell.execute_reply": "2020-10-20T12:36:48.434165Z"
    },
    "papermill": {
     "duration": 0.117828,
     "end_time": "2020-10-20T12:36:48.434901",
     "exception": false,
     "start_time": "2020-10-20T12:36:48.317073",
     "status": "completed"
    },
    "tags": []
   },
   "outputs": [],
   "source": [
    "train = train[train[\"item_price\"] < 100000]"
   ]
  },
  {
   "cell_type": "markdown",
   "metadata": {
    "papermill": {
     "duration": 0.049816,
     "end_time": "2020-10-20T12:36:48.534824",
     "exception": false,
     "start_time": "2020-10-20T12:36:48.485008",
     "status": "completed"
    },
    "tags": []
   },
   "source": [
    "Visualizing the item price again to see the changes."
   ]
  },
  {
   "cell_type": "code",
   "execution_count": 19,
   "metadata": {
    "_kg_hide-input": true,
    "execution": {
     "iopub.execute_input": "2020-10-20T12:36:48.655127Z",
     "iopub.status.busy": "2020-10-20T12:36:48.650757Z",
     "iopub.status.idle": "2020-10-20T12:36:49.066878Z",
     "shell.execute_reply": "2020-10-20T12:36:49.066327Z"
    },
    "papermill": {
     "duration": 0.481824,
     "end_time": "2020-10-20T12:36:49.066998",
     "exception": false,
     "start_time": "2020-10-20T12:36:48.585174",
     "status": "completed"
    },
    "tags": []
   },
   "outputs": [
    {
     "data": {
      "image/png": "[encoded data removed]",
      "text/plain": [
       "<Figure size 1152x504 with 1 Axes>"
      ]
     },
     "metadata": {},
     "output_type": "display_data"
    }
   ],
   "source": [
    "plot_for_outlier('item_price','Item Price')"
   ]
  },
  {
   "cell_type": "markdown",
   "metadata": {
    "papermill": {
     "duration": 0.050638,
     "end_time": "2020-10-20T12:36:49.217225",
     "exception": false,
     "start_time": "2020-10-20T12:36:49.166587",
     "status": "completed"
    },
    "tags": []
   },
   "source": [
    "Looks a bit better.<br>"
   ]
  },
  {
   "cell_type": "markdown",
   "metadata": {
    "papermill": {
     "duration": 0.049133,
     "end_time": "2020-10-20T12:36:49.317383",
     "exception": false,
     "start_time": "2020-10-20T12:36:49.268250",
     "status": "completed"
    },
    "tags": []
   },
   "source": [
    "# Univariate Vizualization\n",
    "\n",
    "In the next two steps, I'll visualize value distributions for item_cnt_month and shop_id."
   ]
  },
  {
   "cell_type": "code",
   "execution_count": 20,
   "metadata": {
    "_kg_hide-input": true,
    "execution": {
     "iopub.execute_input": "2020-10-20T12:36:49.429652Z",
     "iopub.status.busy": "2020-10-20T12:36:49.428912Z",
     "iopub.status.idle": "2020-10-20T12:36:50.628062Z",
     "shell.execute_reply": "2020-10-20T12:36:50.627297Z"
    },
    "papermill": {
     "duration": 1.260659,
     "end_time": "2020-10-20T12:36:50.628194",
     "exception": false,
     "start_time": "2020-10-20T12:36:49.367535",
     "status": "completed"
    },
    "tags": []
   },
   "outputs": [
    {
     "data": {
      "text/html": [
       "        <script type=\"text/javascript\">\n",
       "        window.PlotlyConfig = {MathJaxConfig: 'local'};\n",
       "        if (window.MathJax) {MathJax.Hub.Config({SVG: {font: \"STIX-Web\"}});}\n",
       "        if (typeof require !== 'undefined') {\n",
       "        require.undef(\"plotly\");\n",
       "        requirejs.config({\n",
       "            paths: {\n",
       "                'plotly': ['https://cdn.plot.ly/plotly-latest.min']\n",
       "            }\n",
       "        });\n",
       "        require(['plotly'], function(Plotly) {\n",
       "            window._Plotly = Plotly;\n",
       "        });\n",
       "        }\n",
       "        </script>\n",
       "        "
      ]
     },
     "metadata": {},
     "output_type": "display_data"
    },
    {
     "data": {
      "text/html": [
       "<div>                            <div id=\"a6d02ede-0eea-46a2-910a-a9f30a4bbc71\" class=\"plotly-graph-div\" style=\"height:500px; width:800px;\"></div>            <script type=\"text/javascript\">                require([\"plotly\"], function(Plotly) {                    window.PLOTLYENV=window.PLOTLYENV || {};                                    if (document.getElementById(\"a6d02ede-0eea-46a2-910a-a9f30a4bbc71\")) {                    Plotly.newPlot(                        \"a6d02ede-0eea-46a2-910a-a9f30a4bbc71\",                        [{\"marker\": {\"color\": \"darkblue\", \"line\": {\"color\": \"white\", \"width\": 2}}, \"opacity\": 0.6, \"text\": [1058824.0, 265502.0, 103227.0, 53327.0, 31974.0, 20731.0, 14060.0, 12492.0, 10430.0, 7540.0, 6013.0, 4483.0, 3714.0, 3498.0, 3051.0, 2448.0, 2076.0, 1750.0, 1577.0, 1297.0, 1109.0], \"textfont\": {\"size\": 18}, \"textposition\": \"inside\", \"texttemplate\": \"%{text:.2s}\", \"type\": \"bar\", \"width\": 1.2, \"x\": [1.0, 2.0, 3.0, 4.0, 5.0, 6.0, 7.0, 20.0, 8.0, 9.0, 10.0, 11.0, 12.0, 0.0, 13.0, 14.0, 15.0, 16.0, 17.0, 18.0, 19.0], \"y\": [1058824, 265502, 103227, 53327, 31974, 20731, 14060, 12492, 10430, 7540, 6013, 4483, 3714, 3498, 3051, 2448, 2076, 1750, 1577, 1297, 1109]}],                        {\"height\": 500, \"template\": {\"data\": {\"bar\": [{\"error_x\": {\"color\": \"rgb(51,51,51)\"}, \"error_y\": {\"color\": \"rgb(51,51,51)\"}, \"marker\": {\"line\": {\"color\": \"rgb(237,237,237)\", \"width\": 0.5}}, \"type\": \"bar\"}], \"barpolar\": [{\"marker\": {\"line\": {\"color\": \"rgb(237,237,237)\", \"width\": 0.5}}, \"type\": \"barpolar\"}], \"carpet\": [{\"aaxis\": {\"endlinecolor\": \"rgb(51,51,51)\", \"gridcolor\": \"white\", \"linecolor\": \"white\", \"minorgridcolor\": \"white\", \"startlinecolor\": \"rgb(51,51,51)\"}, \"baxis\": {\"endlinecolor\": \"rgb(51,51,51)\", \"gridcolor\": \"white\", \"linecolor\": \"white\", \"minorgridcolor\": \"white\", \"startlinecolor\": \"rgb(51,51,51)\"}, \"type\": \"carpet\"}], \"choropleth\": [{\"colorbar\": {\"outlinewidth\": 0, \"tickcolor\": \"rgb(237,237,237)\", \"ticklen\": 6, \"ticks\": \"inside\"}, \"type\": \"choropleth\"}], \"contour\": [{\"colorbar\": {\"outlinewidth\": 0, \"tickcolor\": \"rgb(237,237,237)\", \"ticklen\": 6, \"ticks\": \"inside\"}, \"colorscale\": [[0, \"rgb(20,44,66)\"], [1, \"rgb(90,179,244)\"]], \"type\": \"contour\"}], \"contourcarpet\": [{\"colorbar\": {\"outlinewidth\": 0, \"tickcolor\": \"rgb(237,237,237)\", \"ticklen\": 6, \"ticks\": \"inside\"}, \"type\": \"contourcarpet\"}], \"heatmap\": [{\"colorbar\": {\"outlinewidth\": 0, \"tickcolor\": \"rgb(237,237,237)\", \"ticklen\": 6, \"ticks\": \"inside\"}, \"colorscale\": [[0, \"rgb(20,44,66)\"], [1, \"rgb(90,179,244)\"]], \"type\": \"heatmap\"}], \"heatmapgl\": [{\"colorbar\": {\"outlinewidth\": 0, \"tickcolor\": \"rgb(237,237,237)\", \"ticklen\": 6, \"ticks\": \"inside\"}, \"colorscale\": [[0, \"rgb(20,44,66)\"], [1, \"rgb(90,179,244)\"]], \"type\": \"heatmapgl\"}], \"histogram\": [{\"marker\": {\"colorbar\": {\"outlinewidth\": 0, \"tickcolor\": \"rgb(237,237,237)\", \"ticklen\": 6, \"ticks\": \"inside\"}}, \"type\": \"histogram\"}], \"histogram2d\": [{\"colorbar\": {\"outlinewidth\": 0, \"tickcolor\": \"rgb(237,237,237)\", \"ticklen\": 6, \"ticks\": \"inside\"}, \"colorscale\": [[0, \"rgb(20,44,66)\"], [1, \"rgb(90,179,244)\"]], \"type\": \"histogram2d\"}], \"histogram2dcontour\": [{\"colorbar\": {\"outlinewidth\": 0, \"tickcolor\": \"rgb(237,237,237)\", \"ticklen\": 6, \"ticks\": \"inside\"}, \"colorscale\": [[0, \"rgb(20,44,66)\"], [1, \"rgb(90,179,244)\"]], \"type\": \"histogram2dcontour\"}], \"mesh3d\": [{\"colorbar\": {\"outlinewidth\": 0, \"tickcolor\": \"rgb(237,237,237)\", \"ticklen\": 6, \"ticks\": \"inside\"}, \"type\": \"mesh3d\"}], \"parcoords\": [{\"line\": {\"colorbar\": {\"outlinewidth\": 0, \"tickcolor\": \"rgb(237,237,237)\", \"ticklen\": 6, \"ticks\": \"inside\"}}, \"type\": \"parcoords\"}], \"pie\": [{\"automargin\": true, \"type\": \"pie\"}], \"scatter\": [{\"marker\": {\"colorbar\": {\"outlinewidth\": 0, \"tickcolor\": \"rgb(237,237,237)\", \"ticklen\": 6, \"ticks\": \"inside\"}}, \"type\": \"scatter\"}], \"scatter3d\": [{\"line\": {\"colorbar\": {\"outlinewidth\": 0, \"tickcolor\": \"rgb(237,237,237)\", \"ticklen\": 6, \"ticks\": \"inside\"}}, \"marker\": {\"colorbar\": {\"outlinewidth\": 0, \"tickcolor\": \"rgb(237,237,237)\", \"ticklen\": 6, \"ticks\": \"inside\"}}, \"type\": \"scatter3d\"}], \"scattercarpet\": [{\"marker\": {\"colorbar\": {\"outlinewidth\": 0, \"tickcolor\": \"rgb(237,237,237)\", \"ticklen\": 6, \"ticks\": \"inside\"}}, \"type\": \"scattercarpet\"}], \"scattergeo\": [{\"marker\": {\"colorbar\": {\"outlinewidth\": 0, \"tickcolor\": \"rgb(237,237,237)\", \"ticklen\": 6, \"ticks\": \"inside\"}}, \"type\": \"scattergeo\"}], \"scattergl\": [{\"marker\": {\"colorbar\": {\"outlinewidth\": 0, \"tickcolor\": \"rgb(237,237,237)\", \"ticklen\": 6, \"ticks\": \"inside\"}}, \"type\": \"scattergl\"}], \"scattermapbox\": [{\"marker\": {\"colorbar\": {\"outlinewidth\": 0, \"tickcolor\": \"rgb(237,237,237)\", \"ticklen\": 6, \"ticks\": \"inside\"}}, \"type\": \"scattermapbox\"}], \"scatterpolar\": [{\"marker\": {\"colorbar\": {\"outlinewidth\": 0, \"tickcolor\": \"rgb(237,237,237)\", \"ticklen\": 6, \"ticks\": \"inside\"}}, \"type\": \"scatterpolar\"}], \"scatterpolargl\": [{\"marker\": {\"colorbar\": {\"outlinewidth\": 0, \"tickcolor\": \"rgb(237,237,237)\", \"ticklen\": 6, \"ticks\": \"inside\"}}, \"type\": \"scatterpolargl\"}], \"scatterternary\": [{\"marker\": {\"colorbar\": {\"outlinewidth\": 0, \"tickcolor\": \"rgb(237,237,237)\", \"ticklen\": 6, \"ticks\": \"inside\"}}, \"type\": \"scatterternary\"}], \"surface\": [{\"colorbar\": {\"outlinewidth\": 0, \"tickcolor\": \"rgb(237,237,237)\", \"ticklen\": 6, \"ticks\": \"inside\"}, \"colorscale\": [[0, \"rgb(20,44,66)\"], [1, \"rgb(90,179,244)\"]], \"type\": \"surface\"}], \"table\": [{\"cells\": {\"fill\": {\"color\": \"rgb(237,237,237)\"}, \"line\": {\"color\": \"white\"}}, \"header\": {\"fill\": {\"color\": \"rgb(217,217,217)\"}, \"line\": {\"color\": \"white\"}}, \"type\": \"table\"}]}, \"layout\": {\"annotationdefaults\": {\"arrowhead\": 0, \"arrowwidth\": 1}, \"coloraxis\": {\"colorbar\": {\"outlinewidth\": 0, \"tickcolor\": \"rgb(237,237,237)\", \"ticklen\": 6, \"ticks\": \"inside\"}}, \"colorscale\": {\"sequential\": [[0, \"rgb(20,44,66)\"], [1, \"rgb(90,179,244)\"]], \"sequentialminus\": [[0, \"rgb(20,44,66)\"], [1, \"rgb(90,179,244)\"]]}, \"colorway\": [\"#F8766D\", \"#A3A500\", \"#00BF7D\", \"#00B0F6\", \"#E76BF3\"], \"font\": {\"color\": \"rgb(51,51,51)\"}, \"geo\": {\"bgcolor\": \"white\", \"lakecolor\": \"white\", \"landcolor\": \"rgb(237,237,237)\", \"showlakes\": true, \"showland\": true, \"subunitcolor\": \"white\"}, \"hoverlabel\": {\"align\": \"left\"}, \"hovermode\": \"closest\", \"paper_bgcolor\": \"white\", \"plot_bgcolor\": \"rgb(237,237,237)\", \"polar\": {\"angularaxis\": {\"gridcolor\": \"white\", \"linecolor\": \"white\", \"showgrid\": true, \"tickcolor\": \"rgb(51,51,51)\", \"ticks\": \"outside\"}, \"bgcolor\": \"rgb(237,237,237)\", \"radialaxis\": {\"gridcolor\": \"white\", \"linecolor\": \"white\", \"showgrid\": true, \"tickcolor\": \"rgb(51,51,51)\", \"ticks\": \"outside\"}}, \"scene\": {\"xaxis\": {\"backgroundcolor\": \"rgb(237,237,237)\", \"gridcolor\": \"white\", \"gridwidth\": 2, \"linecolor\": \"white\", \"showbackground\": true, \"showgrid\": true, \"tickcolor\": \"rgb(51,51,51)\", \"ticks\": \"outside\", \"zerolinecolor\": \"white\"}, \"yaxis\": {\"backgroundcolor\": \"rgb(237,237,237)\", \"gridcolor\": \"white\", \"gridwidth\": 2, \"linecolor\": \"white\", \"showbackground\": true, \"showgrid\": true, \"tickcolor\": \"rgb(51,51,51)\", \"ticks\": \"outside\", \"zerolinecolor\": \"white\"}, \"zaxis\": {\"backgroundcolor\": \"rgb(237,237,237)\", \"gridcolor\": \"white\", \"gridwidth\": 2, \"linecolor\": \"white\", \"showbackground\": true, \"showgrid\": true, \"tickcolor\": \"rgb(51,51,51)\", \"ticks\": \"outside\", \"zerolinecolor\": \"white\"}}, \"shapedefaults\": {\"fillcolor\": \"black\", \"line\": {\"width\": 0}, \"opacity\": 0.3}, \"ternary\": {\"aaxis\": {\"gridcolor\": \"white\", \"linecolor\": \"white\", \"showgrid\": true, \"tickcolor\": \"rgb(51,51,51)\", \"ticks\": \"outside\"}, \"baxis\": {\"gridcolor\": \"white\", \"linecolor\": \"white\", \"showgrid\": true, \"tickcolor\": \"rgb(51,51,51)\", \"ticks\": \"outside\"}, \"bgcolor\": \"rgb(237,237,237)\", \"caxis\": {\"gridcolor\": \"white\", \"linecolor\": \"white\", \"showgrid\": true, \"tickcolor\": \"rgb(51,51,51)\", \"ticks\": \"outside\"}}, \"xaxis\": {\"automargin\": true, \"gridcolor\": \"white\", \"linecolor\": \"white\", \"showgrid\": true, \"tickcolor\": \"rgb(51,51,51)\", \"ticks\": \"outside\", \"title\": {\"standoff\": 15}, \"zerolinecolor\": \"white\"}, \"yaxis\": {\"automargin\": true, \"gridcolor\": \"white\", \"linecolor\": \"white\", \"showgrid\": true, \"tickcolor\": \"rgb(51,51,51)\", \"ticks\": \"outside\", \"title\": {\"standoff\": 15}, \"zerolinecolor\": \"white\"}}}, \"title\": {\"font\": {\"color\": \"darkslateblue\", \"size\": 20}, \"text\": \"Item Cnt Month - Value Distribution\"}, \"width\": 800, \"xaxis\": {\"nticks\": 20, \"tickfont\": {\"size\": 16}, \"title\": {\"font\": {\"size\": 18}, \"text\": \"Item Cnt Month\"}}, \"yaxis\": {\"tickfont\": {\"size\": 16}, \"title\": {\"font\": {\"size\": 18}, \"text\": \"Value Counts\"}}},                        {\"responsive\": true}                    ).then(function(){\n",
       "                            \n",
       "var gd = document.getElementById('a6d02ede-0eea-46a2-910a-a9f30a4bbc71');\n",
       "var x = new MutationObserver(function (mutations, observer) {{\n",
       "        var display = window.getComputedStyle(gd).display;\n",
       "        if (!display || display === 'none') {{\n",
       "            console.log([gd, 'removed!']);\n",
       "            Plotly.purge(gd);\n",
       "            observer.disconnect();\n",
       "        }}\n",
       "}});\n",
       "\n",
       "// Listen for the removal of the full notebook cells\n",
       "var notebookContainer = gd.closest('#notebook-container');\n",
       "if (notebookContainer) {{\n",
       "    x.observe(notebookContainer, {childList: true});\n",
       "}}\n",
       "\n",
       "// Listen for the clearing of the current output cell\n",
       "var outputEl = gd.closest('.output');\n",
       "if (outputEl) {{\n",
       "    x.observe(outputEl, {childList: true});\n",
       "}}\n",
       "\n",
       "                        })                };                });            </script>        </div>"
      ]
     },
     "metadata": {},
     "output_type": "display_data"
    }
   ],
   "source": [
    "def plot_value_dist(df, var, name):\n",
    "\n",
    "    x = df[var].value_counts().index\n",
    "    y = df[var].value_counts().values\n",
    "\n",
    "    fig = go.Figure(data=[go.Bar(x=x, y=y, text=y, textposition=\"outside\")])\n",
    "\n",
    "    fig.update_traces(\n",
    "        marker_color=\"darkblue\",\n",
    "        marker_line_color=\"white\",\n",
    "        texttemplate=\"%{text:.2s}\",\n",
    "        width=1.2,\n",
    "        textfont=dict(size=18),\n",
    "        textposition=\"inside\",\n",
    "        marker_line_width=2,\n",
    "        opacity=0.6,\n",
    "    )\n",
    "\n",
    "    fig.update_xaxes(\n",
    "        title_text=name, titlefont=dict(size=18), nticks=20, tickfont=dict(size=16)\n",
    "    )\n",
    "    fig.update_yaxes(\n",
    "        title_text=\"Value Counts\", titlefont=dict(size=18), tickfont=dict(size=16)\n",
    "    )\n",
    "\n",
    "    fig.update_layout(\n",
    "        height=500,\n",
    "        width=800,\n",
    "        template=\"ggplot2\",\n",
    "        title=go.layout.Title(\n",
    "            text=name + \" - Value Distribution\", font=dict(size=20, color=\"darkslateblue\")\n",
    "        ),\n",
    "    )\n",
    "\n",
    "    return fig.show()\n",
    "\n",
    "\n",
    "plot_value_dist(train, \"item_cnt_month\", \"Item Cnt Month\")"
   ]
  },
  {
   "cell_type": "markdown",
   "metadata": {
    "papermill": {
     "duration": 0.055485,
     "end_time": "2020-10-20T12:36:50.738209",
     "exception": false,
     "start_time": "2020-10-20T12:36:50.682724",
     "status": "completed"
    },
    "tags": []
   },
   "source": [
    "A large majority of the monthly sales quantity are 1.<br> There are zero values. These came to surface because we clipped the sales quantity in the previous steps. They were most likely negative sales quantities before clipping."
   ]
  },
  {
   "cell_type": "code",
   "execution_count": 21,
   "metadata": {
    "execution": {
     "iopub.execute_input": "2020-10-20T12:36:50.846101Z",
     "iopub.status.busy": "2020-10-20T12:36:50.845396Z",
     "iopub.status.idle": "2020-10-20T12:36:50.912030Z",
     "shell.execute_reply": "2020-10-20T12:36:50.911476Z"
    },
    "papermill": {
     "duration": 0.121516,
     "end_time": "2020-10-20T12:36:50.912145",
     "exception": false,
     "start_time": "2020-10-20T12:36:50.790629",
     "status": "completed"
    },
    "tags": []
   },
   "outputs": [
    {
     "data": {
      "text/html": [
       "<div>                            <div id=\"a66a52d5-9ccb-4a95-8c56-5ea7ac920e5d\" class=\"plotly-graph-div\" style=\"height:500px; width:800px;\"></div>            <script type=\"text/javascript\">                require([\"plotly\"], function(Plotly) {                    window.PLOTLYENV=window.PLOTLYENV || {};                                    if (document.getElementById(\"a66a52d5-9ccb-4a95-8c56-5ea7ac920e5d\")) {                    Plotly.newPlot(                        \"a66a52d5-9ccb-4a95-8c56-5ea7ac920e5d\",                        [{\"marker\": {\"color\": \"darkblue\", \"line\": {\"color\": \"white\", \"width\": 2}}, \"opacity\": 0.6, \"text\": [99241.0, 87977.0, 70471.0, 64639.0, 59972.0, 56861.0, 48438.0, 47250.0, 43876.0, 37954.0, 36830.0, 36659.0, 36630.0, 36203.0, 34187.0, 32700.0, 32386.0, 32033.0, 31784.0, 31303.0, 30980.0, 30594.0, 30166.0, 29890.0, 29141.0, 27855.0, 27544.0, 27085.0, 26109.0, 25699.0, 25316.0, 25088.0, 24720.0, 24108.0, 23741.0, 23156.0, 22853.0, 21720.0, 20741.0, 16827.0, 15553.0, 15125.0, 14917.0, 13580.0, 12766.0, 12105.0, 11120.0, 9781.0, 5525.0, 4821.0, 4427.0, 4135.0, 3544.0, 3282.0, 2465.0, 2235.0, 1591.0, 795.0, 371.0, 258.0], \"textfont\": {\"size\": 18}, \"textposition\": \"inside\", \"texttemplate\": \"%{text:.2s}\", \"type\": \"bar\", \"width\": 1.2, \"x\": [31, 25, 54, 28, 57, 42, 27, 6, 56, 58, 21, 46, 19, 50, 35, 7, 26, 47, 15, 16, 30, 18, 53, 51, 24, 52, 29, 44, 38, 37, 41, 59, 22, 5, 4, 45, 14, 43, 12, 3, 2, 17, 10, 48, 55, 13, 49, 39, 32, 0, 23, 34, 33, 1, 8, 40, 9, 20, 11, 36], \"y\": [99241, 87977, 70471, 64639, 59972, 56861, 48438, 47250, 43876, 37954, 36830, 36659, 36630, 36203, 34187, 32700, 32386, 32033, 31784, 31303, 30980, 30594, 30166, 29890, 29141, 27855, 27544, 27085, 26109, 25699, 25316, 25088, 24720, 24108, 23741, 23156, 22853, 21720, 20741, 16827, 15553, 15125, 14917, 13580, 12766, 12105, 11120, 9781, 5525, 4821, 4427, 4135, 3544, 3282, 2465, 2235, 1591, 795, 371, 258]}],                        {\"height\": 500, \"template\": {\"data\": {\"bar\": [{\"error_x\": {\"color\": \"rgb(51,51,51)\"}, \"error_y\": {\"color\": \"rgb(51,51,51)\"}, \"marker\": {\"line\": {\"color\": \"rgb(237,237,237)\", \"width\": 0.5}}, \"type\": \"bar\"}], \"barpolar\": [{\"marker\": {\"line\": {\"color\": \"rgb(237,237,237)\", \"width\": 0.5}}, \"type\": \"barpolar\"}], \"carpet\": [{\"aaxis\": {\"endlinecolor\": \"rgb(51,51,51)\", \"gridcolor\": \"white\", \"linecolor\": \"white\", \"minorgridcolor\": \"white\", \"startlinecolor\": \"rgb(51,51,51)\"}, \"baxis\": {\"endlinecolor\": \"rgb(51,51,51)\", \"gridcolor\": \"white\", \"linecolor\": \"white\", \"minorgridcolor\": \"white\", \"startlinecolor\": \"rgb(51,51,51)\"}, \"type\": \"carpet\"}], \"choropleth\": [{\"colorbar\": {\"outlinewidth\": 0, \"tickcolor\": \"rgb(237,237,237)\", \"ticklen\": 6, \"ticks\": \"inside\"}, \"type\": \"choropleth\"}], \"contour\": [{\"colorbar\": {\"outlinewidth\": 0, \"tickcolor\": \"rgb(237,237,237)\", \"ticklen\": 6, \"ticks\": \"inside\"}, \"colorscale\": [[0, \"rgb(20,44,66)\"], [1, \"rgb(90,179,244)\"]], \"type\": \"contour\"}], \"contourcarpet\": [{\"colorbar\": {\"outlinewidth\": 0, \"tickcolor\": \"rgb(237,237,237)\", \"ticklen\": 6, \"ticks\": \"inside\"}, \"type\": \"contourcarpet\"}], \"heatmap\": [{\"colorbar\": {\"outlinewidth\": 0, \"tickcolor\": \"rgb(237,237,237)\", \"ticklen\": 6, \"ticks\": \"inside\"}, \"colorscale\": [[0, \"rgb(20,44,66)\"], [1, \"rgb(90,179,244)\"]], \"type\": \"heatmap\"}], \"heatmapgl\": [{\"colorbar\": {\"outlinewidth\": 0, \"tickcolor\": \"rgb(237,237,237)\", \"ticklen\": 6, \"ticks\": \"inside\"}, \"colorscale\": [[0, \"rgb(20,44,66)\"], [1, \"rgb(90,179,244)\"]], \"type\": \"heatmapgl\"}], \"histogram\": [{\"marker\": {\"colorbar\": {\"outlinewidth\": 0, \"tickcolor\": \"rgb(237,237,237)\", \"ticklen\": 6, \"ticks\": \"inside\"}}, \"type\": \"histogram\"}], \"histogram2d\": [{\"colorbar\": {\"outlinewidth\": 0, \"tickcolor\": \"rgb(237,237,237)\", \"ticklen\": 6, \"ticks\": \"inside\"}, \"colorscale\": [[0, \"rgb(20,44,66)\"], [1, \"rgb(90,179,244)\"]], \"type\": \"histogram2d\"}], \"histogram2dcontour\": [{\"colorbar\": {\"outlinewidth\": 0, \"tickcolor\": \"rgb(237,237,237)\", \"ticklen\": 6, \"ticks\": \"inside\"}, \"colorscale\": [[0, \"rgb(20,44,66)\"], [1, \"rgb(90,179,244)\"]], \"type\": \"histogram2dcontour\"}], \"mesh3d\": [{\"colorbar\": {\"outlinewidth\": 0, \"tickcolor\": \"rgb(237,237,237)\", \"ticklen\": 6, \"ticks\": \"inside\"}, \"type\": \"mesh3d\"}], \"parcoords\": [{\"line\": {\"colorbar\": {\"outlinewidth\": 0, \"tickcolor\": \"rgb(237,237,237)\", \"ticklen\": 6, \"ticks\": \"inside\"}}, \"type\": \"parcoords\"}], \"pie\": [{\"automargin\": true, \"type\": \"pie\"}], \"scatter\": [{\"marker\": {\"colorbar\": {\"outlinewidth\": 0, \"tickcolor\": \"rgb(237,237,237)\", \"ticklen\": 6, \"ticks\": \"inside\"}}, \"type\": \"scatter\"}], \"scatter3d\": [{\"line\": {\"colorbar\": {\"outlinewidth\": 0, \"tickcolor\": \"rgb(237,237,237)\", \"ticklen\": 6, \"ticks\": \"inside\"}}, \"marker\": {\"colorbar\": {\"outlinewidth\": 0, \"tickcolor\": \"rgb(237,237,237)\", \"ticklen\": 6, \"ticks\": \"inside\"}}, \"type\": \"scatter3d\"}], \"scattercarpet\": [{\"marker\": {\"colorbar\": {\"outlinewidth\": 0, \"tickcolor\": \"rgb(237,237,237)\", \"ticklen\": 6, \"ticks\": \"inside\"}}, \"type\": \"scattercarpet\"}], \"scattergeo\": [{\"marker\": {\"colorbar\": {\"outlinewidth\": 0, \"tickcolor\": \"rgb(237,237,237)\", \"ticklen\": 6, \"ticks\": \"inside\"}}, \"type\": \"scattergeo\"}], \"scattergl\": [{\"marker\": {\"colorbar\": {\"outlinewidth\": 0, \"tickcolor\": \"rgb(237,237,237)\", \"ticklen\": 6, \"ticks\": \"inside\"}}, \"type\": \"scattergl\"}], \"scattermapbox\": [{\"marker\": {\"colorbar\": {\"outlinewidth\": 0, \"tickcolor\": \"rgb(237,237,237)\", \"ticklen\": 6, \"ticks\": \"inside\"}}, \"type\": \"scattermapbox\"}], \"scatterpolar\": [{\"marker\": {\"colorbar\": {\"outlinewidth\": 0, \"tickcolor\": \"rgb(237,237,237)\", \"ticklen\": 6, \"ticks\": \"inside\"}}, \"type\": \"scatterpolar\"}], \"scatterpolargl\": [{\"marker\": {\"colorbar\": {\"outlinewidth\": 0, \"tickcolor\": \"rgb(237,237,237)\", \"ticklen\": 6, \"ticks\": \"inside\"}}, \"type\": \"scatterpolargl\"}], \"scatterternary\": [{\"marker\": {\"colorbar\": {\"outlinewidth\": 0, \"tickcolor\": \"rgb(237,237,237)\", \"ticklen\": 6, \"ticks\": \"inside\"}}, \"type\": \"scatterternary\"}], \"surface\": [{\"colorbar\": {\"outlinewidth\": 0, \"tickcolor\": \"rgb(237,237,237)\", \"ticklen\": 6, \"ticks\": \"inside\"}, \"colorscale\": [[0, \"rgb(20,44,66)\"], [1, \"rgb(90,179,244)\"]], \"type\": \"surface\"}], \"table\": [{\"cells\": {\"fill\": {\"color\": \"rgb(237,237,237)\"}, \"line\": {\"color\": \"white\"}}, \"header\": {\"fill\": {\"color\": \"rgb(217,217,217)\"}, \"line\": {\"color\": \"white\"}}, \"type\": \"table\"}]}, \"layout\": {\"annotationdefaults\": {\"arrowhead\": 0, \"arrowwidth\": 1}, \"coloraxis\": {\"colorbar\": {\"outlinewidth\": 0, \"tickcolor\": \"rgb(237,237,237)\", \"ticklen\": 6, \"ticks\": \"inside\"}}, \"colorscale\": {\"sequential\": [[0, \"rgb(20,44,66)\"], [1, \"rgb(90,179,244)\"]], \"sequentialminus\": [[0, \"rgb(20,44,66)\"], [1, \"rgb(90,179,244)\"]]}, \"colorway\": [\"#F8766D\", \"#A3A500\", \"#00BF7D\", \"#00B0F6\", \"#E76BF3\"], \"font\": {\"color\": \"rgb(51,51,51)\"}, \"geo\": {\"bgcolor\": \"white\", \"lakecolor\": \"white\", \"landcolor\": \"rgb(237,237,237)\", \"showlakes\": true, \"showland\": true, \"subunitcolor\": \"white\"}, \"hoverlabel\": {\"align\": \"left\"}, \"hovermode\": \"closest\", \"paper_bgcolor\": \"white\", \"plot_bgcolor\": \"rgb(237,237,237)\", \"polar\": {\"angularaxis\": {\"gridcolor\": \"white\", \"linecolor\": \"white\", \"showgrid\": true, \"tickcolor\": \"rgb(51,51,51)\", \"ticks\": \"outside\"}, \"bgcolor\": \"rgb(237,237,237)\", \"radialaxis\": {\"gridcolor\": \"white\", \"linecolor\": \"white\", \"showgrid\": true, \"tickcolor\": \"rgb(51,51,51)\", \"ticks\": \"outside\"}}, \"scene\": {\"xaxis\": {\"backgroundcolor\": \"rgb(237,237,237)\", \"gridcolor\": \"white\", \"gridwidth\": 2, \"linecolor\": \"white\", \"showbackground\": true, \"showgrid\": true, \"tickcolor\": \"rgb(51,51,51)\", \"ticks\": \"outside\", \"zerolinecolor\": \"white\"}, \"yaxis\": {\"backgroundcolor\": \"rgb(237,237,237)\", \"gridcolor\": \"white\", \"gridwidth\": 2, \"linecolor\": \"white\", \"showbackground\": true, \"showgrid\": true, \"tickcolor\": \"rgb(51,51,51)\", \"ticks\": \"outside\", \"zerolinecolor\": \"white\"}, \"zaxis\": {\"backgroundcolor\": \"rgb(237,237,237)\", \"gridcolor\": \"white\", \"gridwidth\": 2, \"linecolor\": \"white\", \"showbackground\": true, \"showgrid\": true, \"tickcolor\": \"rgb(51,51,51)\", \"ticks\": \"outside\", \"zerolinecolor\": \"white\"}}, \"shapedefaults\": {\"fillcolor\": \"black\", \"line\": {\"width\": 0}, \"opacity\": 0.3}, \"ternary\": {\"aaxis\": {\"gridcolor\": \"white\", \"linecolor\": \"white\", \"showgrid\": true, \"tickcolor\": \"rgb(51,51,51)\", \"ticks\": \"outside\"}, \"baxis\": {\"gridcolor\": \"white\", \"linecolor\": \"white\", \"showgrid\": true, \"tickcolor\": \"rgb(51,51,51)\", \"ticks\": \"outside\"}, \"bgcolor\": \"rgb(237,237,237)\", \"caxis\": {\"gridcolor\": \"white\", \"linecolor\": \"white\", \"showgrid\": true, \"tickcolor\": \"rgb(51,51,51)\", \"ticks\": \"outside\"}}, \"xaxis\": {\"automargin\": true, \"gridcolor\": \"white\", \"linecolor\": \"white\", \"showgrid\": true, \"tickcolor\": \"rgb(51,51,51)\", \"ticks\": \"outside\", \"title\": {\"standoff\": 15}, \"zerolinecolor\": \"white\"}, \"yaxis\": {\"automargin\": true, \"gridcolor\": \"white\", \"linecolor\": \"white\", \"showgrid\": true, \"tickcolor\": \"rgb(51,51,51)\", \"ticks\": \"outside\", \"title\": {\"standoff\": 15}, \"zerolinecolor\": \"white\"}}}, \"title\": {\"font\": {\"color\": \"darkslateblue\", \"size\": 20}, \"text\": \"Shop ID - Value Distribution\"}, \"width\": 800, \"xaxis\": {\"nticks\": 20, \"tickfont\": {\"size\": 16}, \"title\": {\"font\": {\"size\": 18}, \"text\": \"Shop ID\"}}, \"yaxis\": {\"tickfont\": {\"size\": 16}, \"title\": {\"font\": {\"size\": 18}, \"text\": \"Value Counts\"}}},                        {\"responsive\": true}                    ).then(function(){\n",
       "                            \n",
       "var gd = document.getElementById('a66a52d5-9ccb-4a95-8c56-5ea7ac920e5d');\n",
       "var x = new MutationObserver(function (mutations, observer) {{\n",
       "        var display = window.getComputedStyle(gd).display;\n",
       "        if (!display || display === 'none') {{\n",
       "            console.log([gd, 'removed!']);\n",
       "            Plotly.purge(gd);\n",
       "            observer.disconnect();\n",
       "        }}\n",
       "}});\n",
       "\n",
       "// Listen for the removal of the full notebook cells\n",
       "var notebookContainer = gd.closest('#notebook-container');\n",
       "if (notebookContainer) {{\n",
       "    x.observe(notebookContainer, {childList: true});\n",
       "}}\n",
       "\n",
       "// Listen for the clearing of the current output cell\n",
       "var outputEl = gd.closest('.output');\n",
       "if (outputEl) {{\n",
       "    x.observe(outputEl, {childList: true});\n",
       "}}\n",
       "\n",
       "                        })                };                });            </script>        </div>"
      ]
     },
     "metadata": {},
     "output_type": "display_data"
    }
   ],
   "source": [
    "plot_value_dist(train, \"shop_id\", \"Shop ID\")"
   ]
  },
  {
   "cell_type": "markdown",
   "metadata": {
    "papermill": {
     "duration": 0.05027,
     "end_time": "2020-10-20T12:36:51.014114",
     "exception": false,
     "start_time": "2020-10-20T12:36:50.963844",
     "status": "completed"
    },
    "tags": []
   },
   "source": [
    "There seems to be great variation in terms of the number of transactions per shop.<br> Does this high variance indicate the potential significance of the independent variable for the model ?"
   ]
  },
  {
   "cell_type": "markdown",
   "metadata": {
    "papermill": {
     "duration": 0.050571,
     "end_time": "2020-10-20T12:36:51.116212",
     "exception": false,
     "start_time": "2020-10-20T12:36:51.065641",
     "status": "completed"
    },
    "tags": []
   },
   "source": [
    "# Bivariate Visualization"
   ]
  },
  {
   "cell_type": "markdown",
   "metadata": {
    "papermill": {
     "duration": 0.053053,
     "end_time": "2020-10-20T12:36:51.220529",
     "exception": false,
     "start_time": "2020-10-20T12:36:51.167476",
     "status": "completed"
    },
    "tags": []
   },
   "source": [
    "Plotting unique item counts, unique shop counts, and unique item/shop combinations per date block. Blue bar represents the test set."
   ]
  },
  {
   "cell_type": "code",
   "execution_count": 22,
   "metadata": {
    "_kg_hide-input": true,
    "execution": {
     "iopub.execute_input": "2020-10-20T12:36:51.334030Z",
     "iopub.status.busy": "2020-10-20T12:36:51.331403Z",
     "iopub.status.idle": "2020-10-20T12:36:51.336786Z",
     "shell.execute_reply": "2020-10-20T12:36:51.337274Z"
    },
    "papermill": {
     "duration": 0.065558,
     "end_time": "2020-10-20T12:36:51.337442",
     "exception": false,
     "start_time": "2020-10-20T12:36:51.271884",
     "status": "completed"
    },
    "tags": []
   },
   "outputs": [],
   "source": [
    "def plot_counts(ft, name):\n",
    "    fig = plotly.graph_objects.Figure()\n",
    "\n",
    "    vizdata = (\n",
    "        train.append(test, ignore_index=True)\n",
    "        .groupby(by=[\"date_block_num\"], as_index=False)[ft]\n",
    "        .nunique()\n",
    "    )\n",
    "\n",
    "    colors = [\n",
    "        \"indianred\",\n",
    "    ] * vizdata.shape[0]\n",
    "    colors[-1] = \"blue\"\n",
    "\n",
    "    fig.add_trace(\n",
    "        go.Bar(\n",
    "            x=vizdata[\"date_block_num\"],\n",
    "            y=vizdata[ft],\n",
    "            width=0.9,\n",
    "            marker_color=colors,\n",
    "            name=\"Unique\" + name + \"Count\",\n",
    "        )\n",
    "    )\n",
    "\n",
    "    fig.update_xaxes(\n",
    "        title_text=\"Date Block\", titlefont=dict(size=20), tickfont=dict(size=16)\n",
    "    )\n",
    "    fig.update_yaxes(\n",
    "        title_text=\"Total Unique \" + name + \" Count\",\n",
    "        titlefont=dict(size=20),\n",
    "        nticks=8,\n",
    "        tickfont=dict(size=16),\n",
    "    )\n",
    "\n",
    "    fig.update_layout(\n",
    "        height=500,\n",
    "        width=750,\n",
    "        template=\"ggplot2\",\n",
    "        title=go.layout.Title(\n",
    "            text=\"Unique \" + name + \" Counts by Date Block (Incl. Test data)\",\n",
    "            font=dict(size=20, color=\"darkslateblue\"),\n",
    "        ),\n",
    "    )\n",
    "\n",
    "    return fig.show()\n"
   ]
  },
  {
   "cell_type": "code",
   "execution_count": 23,
   "metadata": {
    "_kg_hide-input": true,
    "execution": {
     "iopub.execute_input": "2020-10-20T12:36:51.449952Z",
     "iopub.status.busy": "2020-10-20T12:36:51.449098Z",
     "iopub.status.idle": "2020-10-20T12:36:51.992652Z",
     "shell.execute_reply": "2020-10-20T12:36:51.992020Z"
    },
    "papermill": {
     "duration": 0.60223,
     "end_time": "2020-10-20T12:36:51.992781",
     "exception": false,
     "start_time": "2020-10-20T12:36:51.390551",
     "status": "completed"
    },
    "tags": []
   },
   "outputs": [
    {
     "data": {
      "text/html": [
       "<div>                            <div id=\"ff0c9b59-e3b8-427e-8bc0-100bdd6ed369\" class=\"plotly-graph-div\" style=\"height:500px; width:750px;\"></div>            <script type=\"text/javascript\">                require([\"plotly\"], function(Plotly) {                    window.PLOTLYENV=window.PLOTLYENV || {};                                    if (document.getElementById(\"ff0c9b59-e3b8-427e-8bc0-100bdd6ed369\")) {                    Plotly.newPlot(                        \"ff0c9b59-e3b8-427e-8bc0-100bdd6ed369\",                        [{\"marker\": {\"color\": [\"indianred\", \"indianred\", \"indianred\", \"indianred\", \"indianred\", \"indianred\", \"indianred\", \"indianred\", \"indianred\", \"indianred\", \"indianred\", \"indianred\", \"indianred\", \"indianred\", \"indianred\", \"indianred\", \"indianred\", \"indianred\", \"indianred\", \"indianred\", \"indianred\", \"indianred\", \"indianred\", \"indianred\", \"indianred\", \"indianred\", \"indianred\", \"indianred\", \"indianred\", \"indianred\", \"indianred\", \"indianred\", \"indianred\", \"indianred\", \"blue\"]}, \"name\": \"UniqueItemCount\", \"type\": \"bar\", \"width\": 0.9, \"x\": [0, 1, 2, 3, 4, 5, 6, 7, 8, 9, 10, 11, 12, 13, 14, 15, 16, 17, 18, 19, 20, 21, 22, 23, 24, 25, 26, 27, 28, 29, 30, 31, 32, 33, 34], \"y\": [8115, 8168, 8302, 8145, 8339, 8478, 8405, 8031, 7876, 8039, 8089, 8473, 7551, 7134, 7142, 6774, 6685, 6681, 6611, 6363, 6071, 6334, 6322, 6605, 6139, 6053, 6082, 5476, 5283, 5216, 5323, 5108, 5085, 5413, 5100]}],                        {\"height\": 500, \"template\": {\"data\": {\"bar\": [{\"error_x\": {\"color\": \"rgb(51,51,51)\"}, \"error_y\": {\"color\": \"rgb(51,51,51)\"}, \"marker\": {\"line\": {\"color\": \"rgb(237,237,237)\", \"width\": 0.5}}, \"type\": \"bar\"}], \"barpolar\": [{\"marker\": {\"line\": {\"color\": \"rgb(237,237,237)\", \"width\": 0.5}}, \"type\": \"barpolar\"}], \"carpet\": [{\"aaxis\": {\"endlinecolor\": \"rgb(51,51,51)\", \"gridcolor\": \"white\", \"linecolor\": \"white\", \"minorgridcolor\": \"white\", \"startlinecolor\": \"rgb(51,51,51)\"}, \"baxis\": {\"endlinecolor\": \"rgb(51,51,51)\", \"gridcolor\": \"white\", \"linecolor\": \"white\", \"minorgridcolor\": \"white\", \"startlinecolor\": \"rgb(51,51,51)\"}, \"type\": \"carpet\"}], \"choropleth\": [{\"colorbar\": {\"outlinewidth\": 0, \"tickcolor\": \"rgb(237,237,237)\", \"ticklen\": 6, \"ticks\": \"inside\"}, \"type\": \"choropleth\"}], \"contour\": [{\"colorbar\": {\"outlinewidth\": 0, \"tickcolor\": \"rgb(237,237,237)\", \"ticklen\": 6, \"ticks\": \"inside\"}, \"colorscale\": [[0, \"rgb(20,44,66)\"], [1, \"rgb(90,179,244)\"]], \"type\": \"contour\"}], \"contourcarpet\": [{\"colorbar\": {\"outlinewidth\": 0, \"tickcolor\": \"rgb(237,237,237)\", \"ticklen\": 6, \"ticks\": \"inside\"}, \"type\": \"contourcarpet\"}], \"heatmap\": [{\"colorbar\": {\"outlinewidth\": 0, \"tickcolor\": \"rgb(237,237,237)\", \"ticklen\": 6, \"ticks\": \"inside\"}, \"colorscale\": [[0, \"rgb(20,44,66)\"], [1, \"rgb(90,179,244)\"]], \"type\": \"heatmap\"}], \"heatmapgl\": [{\"colorbar\": {\"outlinewidth\": 0, \"tickcolor\": \"rgb(237,237,237)\", \"ticklen\": 6, \"ticks\": \"inside\"}, \"colorscale\": [[0, \"rgb(20,44,66)\"], [1, \"rgb(90,179,244)\"]], \"type\": \"heatmapgl\"}], \"histogram\": [{\"marker\": {\"colorbar\": {\"outlinewidth\": 0, \"tickcolor\": \"rgb(237,237,237)\", \"ticklen\": 6, \"ticks\": \"inside\"}}, \"type\": \"histogram\"}], \"histogram2d\": [{\"colorbar\": {\"outlinewidth\": 0, \"tickcolor\": \"rgb(237,237,237)\", \"ticklen\": 6, \"ticks\": \"inside\"}, \"colorscale\": [[0, \"rgb(20,44,66)\"], [1, \"rgb(90,179,244)\"]], \"type\": \"histogram2d\"}], \"histogram2dcontour\": [{\"colorbar\": {\"outlinewidth\": 0, \"tickcolor\": \"rgb(237,237,237)\", \"ticklen\": 6, \"ticks\": \"inside\"}, \"colorscale\": [[0, \"rgb(20,44,66)\"], [1, \"rgb(90,179,244)\"]], \"type\": \"histogram2dcontour\"}], \"mesh3d\": [{\"colorbar\": {\"outlinewidth\": 0, \"tickcolor\": \"rgb(237,237,237)\", \"ticklen\": 6, \"ticks\": \"inside\"}, \"type\": \"mesh3d\"}], \"parcoords\": [{\"line\": {\"colorbar\": {\"outlinewidth\": 0, \"tickcolor\": \"rgb(237,237,237)\", \"ticklen\": 6, \"ticks\": \"inside\"}}, \"type\": \"parcoords\"}], \"pie\": [{\"automargin\": true, \"type\": \"pie\"}], \"scatter\": [{\"marker\": {\"colorbar\": {\"outlinewidth\": 0, \"tickcolor\": \"rgb(237,237,237)\", \"ticklen\": 6, \"ticks\": \"inside\"}}, \"type\": \"scatter\"}], \"scatter3d\": [{\"line\": {\"colorbar\": {\"outlinewidth\": 0, \"tickcolor\": \"rgb(237,237,237)\", \"ticklen\": 6, \"ticks\": \"inside\"}}, \"marker\": {\"colorbar\": {\"outlinewidth\": 0, \"tickcolor\": \"rgb(237,237,237)\", \"ticklen\": 6, \"ticks\": \"inside\"}}, \"type\": \"scatter3d\"}], \"scattercarpet\": [{\"marker\": {\"colorbar\": {\"outlinewidth\": 0, \"tickcolor\": \"rgb(237,237,237)\", \"ticklen\": 6, \"ticks\": \"inside\"}}, \"type\": \"scattercarpet\"}], \"scattergeo\": [{\"marker\": {\"colorbar\": {\"outlinewidth\": 0, \"tickcolor\": \"rgb(237,237,237)\", \"ticklen\": 6, \"ticks\": \"inside\"}}, \"type\": \"scattergeo\"}], \"scattergl\": [{\"marker\": {\"colorbar\": {\"outlinewidth\": 0, \"tickcolor\": \"rgb(237,237,237)\", \"ticklen\": 6, \"ticks\": \"inside\"}}, \"type\": \"scattergl\"}], \"scattermapbox\": [{\"marker\": {\"colorbar\": {\"outlinewidth\": 0, \"tickcolor\": \"rgb(237,237,237)\", \"ticklen\": 6, \"ticks\": \"inside\"}}, \"type\": \"scattermapbox\"}], \"scatterpolar\": [{\"marker\": {\"colorbar\": {\"outlinewidth\": 0, \"tickcolor\": \"rgb(237,237,237)\", \"ticklen\": 6, \"ticks\": \"inside\"}}, \"type\": \"scatterpolar\"}], \"scatterpolargl\": [{\"marker\": {\"colorbar\": {\"outlinewidth\": 0, \"tickcolor\": \"rgb(237,237,237)\", \"ticklen\": 6, \"ticks\": \"inside\"}}, \"type\": \"scatterpolargl\"}], \"scatterternary\": [{\"marker\": {\"colorbar\": {\"outlinewidth\": 0, \"tickcolor\": \"rgb(237,237,237)\", \"ticklen\": 6, \"ticks\": \"inside\"}}, \"type\": \"scatterternary\"}], \"surface\": [{\"colorbar\": {\"outlinewidth\": 0, \"tickcolor\": \"rgb(237,237,237)\", \"ticklen\": 6, \"ticks\": \"inside\"}, \"colorscale\": [[0, \"rgb(20,44,66)\"], [1, \"rgb(90,179,244)\"]], \"type\": \"surface\"}], \"table\": [{\"cells\": {\"fill\": {\"color\": \"rgb(237,237,237)\"}, \"line\": {\"color\": \"white\"}}, \"header\": {\"fill\": {\"color\": \"rgb(217,217,217)\"}, \"line\": {\"color\": \"white\"}}, \"type\": \"table\"}]}, \"layout\": {\"annotationdefaults\": {\"arrowhead\": 0, \"arrowwidth\": 1}, \"coloraxis\": {\"colorbar\": {\"outlinewidth\": 0, \"tickcolor\": \"rgb(237,237,237)\", \"ticklen\": 6, \"ticks\": \"inside\"}}, \"colorscale\": {\"sequential\": [[0, \"rgb(20,44,66)\"], [1, \"rgb(90,179,244)\"]], \"sequentialminus\": [[0, \"rgb(20,44,66)\"], [1, \"rgb(90,179,244)\"]]}, \"colorway\": [\"#F8766D\", \"#A3A500\", \"#00BF7D\", \"#00B0F6\", \"#E76BF3\"], \"font\": {\"color\": \"rgb(51,51,51)\"}, \"geo\": {\"bgcolor\": \"white\", \"lakecolor\": \"white\", \"landcolor\": \"rgb(237,237,237)\", \"showlakes\": true, \"showland\": true, \"subunitcolor\": \"white\"}, \"hoverlabel\": {\"align\": \"left\"}, \"hovermode\": \"closest\", \"paper_bgcolor\": \"white\", \"plot_bgcolor\": \"rgb(237,237,237)\", \"polar\": {\"angularaxis\": {\"gridcolor\": \"white\", \"linecolor\": \"white\", \"showgrid\": true, \"tickcolor\": \"rgb(51,51,51)\", \"ticks\": \"outside\"}, \"bgcolor\": \"rgb(237,237,237)\", \"radialaxis\": {\"gridcolor\": \"white\", \"linecolor\": \"white\", \"showgrid\": true, \"tickcolor\": \"rgb(51,51,51)\", \"ticks\": \"outside\"}}, \"scene\": {\"xaxis\": {\"backgroundcolor\": \"rgb(237,237,237)\", \"gridcolor\": \"white\", \"gridwidth\": 2, \"linecolor\": \"white\", \"showbackground\": true, \"showgrid\": true, \"tickcolor\": \"rgb(51,51,51)\", \"ticks\": \"outside\", \"zerolinecolor\": \"white\"}, \"yaxis\": {\"backgroundcolor\": \"rgb(237,237,237)\", \"gridcolor\": \"white\", \"gridwidth\": 2, \"linecolor\": \"white\", \"showbackground\": true, \"showgrid\": true, \"tickcolor\": \"rgb(51,51,51)\", \"ticks\": \"outside\", \"zerolinecolor\": \"white\"}, \"zaxis\": {\"backgroundcolor\": \"rgb(237,237,237)\", \"gridcolor\": \"white\", \"gridwidth\": 2, \"linecolor\": \"white\", \"showbackground\": true, \"showgrid\": true, \"tickcolor\": \"rgb(51,51,51)\", \"ticks\": \"outside\", \"zerolinecolor\": \"white\"}}, \"shapedefaults\": {\"fillcolor\": \"black\", \"line\": {\"width\": 0}, \"opacity\": 0.3}, \"ternary\": {\"aaxis\": {\"gridcolor\": \"white\", \"linecolor\": \"white\", \"showgrid\": true, \"tickcolor\": \"rgb(51,51,51)\", \"ticks\": \"outside\"}, \"baxis\": {\"gridcolor\": \"white\", \"linecolor\": \"white\", \"showgrid\": true, \"tickcolor\": \"rgb(51,51,51)\", \"ticks\": \"outside\"}, \"bgcolor\": \"rgb(237,237,237)\", \"caxis\": {\"gridcolor\": \"white\", \"linecolor\": \"white\", \"showgrid\": true, \"tickcolor\": \"rgb(51,51,51)\", \"ticks\": \"outside\"}}, \"xaxis\": {\"automargin\": true, \"gridcolor\": \"white\", \"linecolor\": \"white\", \"showgrid\": true, \"tickcolor\": \"rgb(51,51,51)\", \"ticks\": \"outside\", \"title\": {\"standoff\": 15}, \"zerolinecolor\": \"white\"}, \"yaxis\": {\"automargin\": true, \"gridcolor\": \"white\", \"linecolor\": \"white\", \"showgrid\": true, \"tickcolor\": \"rgb(51,51,51)\", \"ticks\": \"outside\", \"title\": {\"standoff\": 15}, \"zerolinecolor\": \"white\"}}}, \"title\": {\"font\": {\"color\": \"darkslateblue\", \"size\": 20}, \"text\": \"Unique Item Counts by Date Block (Incl. Test data)\"}, \"width\": 750, \"xaxis\": {\"tickfont\": {\"size\": 16}, \"title\": {\"font\": {\"size\": 20}, \"text\": \"Date Block\"}}, \"yaxis\": {\"nticks\": 8, \"tickfont\": {\"size\": 16}, \"title\": {\"font\": {\"size\": 20}, \"text\": \"Total Unique Item Count\"}}},                        {\"responsive\": true}                    ).then(function(){\n",
       "                            \n",
       "var gd = document.getElementById('ff0c9b59-e3b8-427e-8bc0-100bdd6ed369');\n",
       "var x = new MutationObserver(function (mutations, observer) {{\n",
       "        var display = window.getComputedStyle(gd).display;\n",
       "        if (!display || display === 'none') {{\n",
       "            console.log([gd, 'removed!']);\n",
       "            Plotly.purge(gd);\n",
       "            observer.disconnect();\n",
       "        }}\n",
       "}});\n",
       "\n",
       "// Listen for the removal of the full notebook cells\n",
       "var notebookContainer = gd.closest('#notebook-container');\n",
       "if (notebookContainer) {{\n",
       "    x.observe(notebookContainer, {childList: true});\n",
       "}}\n",
       "\n",
       "// Listen for the clearing of the current output cell\n",
       "var outputEl = gd.closest('.output');\n",
       "if (outputEl) {{\n",
       "    x.observe(outputEl, {childList: true});\n",
       "}}\n",
       "\n",
       "                        })                };                });            </script>        </div>"
      ]
     },
     "metadata": {},
     "output_type": "display_data"
    }
   ],
   "source": [
    "plot_counts(ft = 'item_id', name='Item')"
   ]
  },
  {
   "cell_type": "code",
   "execution_count": 24,
   "metadata": {
    "_kg_hide-input": true,
    "execution": {
     "iopub.execute_input": "2020-10-20T12:36:52.105778Z",
     "iopub.status.busy": "2020-10-20T12:36:52.105048Z",
     "iopub.status.idle": "2020-10-20T12:36:52.342834Z",
     "shell.execute_reply": "2020-10-20T12:36:52.342264Z"
    },
    "papermill": {
     "duration": 0.296796,
     "end_time": "2020-10-20T12:36:52.342945",
     "exception": false,
     "start_time": "2020-10-20T12:36:52.046149",
     "status": "completed"
    },
    "tags": []
   },
   "outputs": [
    {
     "data": {
      "text/html": [
       "<div>                            <div id=\"134ba89f-9a55-4197-b174-c60a2129a226\" class=\"plotly-graph-div\" style=\"height:500px; width:750px;\"></div>            <script type=\"text/javascript\">                require([\"plotly\"], function(Plotly) {                    window.PLOTLYENV=window.PLOTLYENV || {};                                    if (document.getElementById(\"134ba89f-9a55-4197-b174-c60a2129a226\")) {                    Plotly.newPlot(                        \"134ba89f-9a55-4197-b174-c60a2129a226\",                        [{\"marker\": {\"color\": [\"indianred\", \"indianred\", \"indianred\", \"indianred\", \"indianred\", \"indianred\", \"indianred\", \"indianred\", \"indianred\", \"indianred\", \"indianred\", \"indianred\", \"indianred\", \"indianred\", \"indianred\", \"indianred\", \"indianred\", \"indianred\", \"indianred\", \"indianred\", \"indianred\", \"indianred\", \"indianred\", \"indianred\", \"indianred\", \"indianred\", \"indianred\", \"indianred\", \"indianred\", \"indianred\", \"indianred\", \"indianred\", \"indianred\", \"indianred\", \"blue\"]}, \"name\": \"UniqueShopCount\", \"type\": \"bar\", \"width\": 0.9, \"x\": [0, 1, 2, 3, 4, 5, 6, 7, 8, 9, 10, 11, 12, 13, 14, 15, 16, 17, 18, 19, 20, 21, 22, 23, 24, 25, 26, 27, 28, 29, 30, 31, 32, 33, 34], \"y\": [45, 46, 46, 46, 45, 46, 46, 45, 45, 46, 45, 46, 46, 46, 48, 49, 49, 49, 50, 51, 50, 52, 50, 50, 50, 47, 46, 47, 44, 43, 43, 42, 43, 44, 42]}],                        {\"height\": 500, \"template\": {\"data\": {\"bar\": [{\"error_x\": {\"color\": \"rgb(51,51,51)\"}, \"error_y\": {\"color\": \"rgb(51,51,51)\"}, \"marker\": {\"line\": {\"color\": \"rgb(237,237,237)\", \"width\": 0.5}}, \"type\": \"bar\"}], \"barpolar\": [{\"marker\": {\"line\": {\"color\": \"rgb(237,237,237)\", \"width\": 0.5}}, \"type\": \"barpolar\"}], \"carpet\": [{\"aaxis\": {\"endlinecolor\": \"rgb(51,51,51)\", \"gridcolor\": \"white\", \"linecolor\": \"white\", \"minorgridcolor\": \"white\", \"startlinecolor\": \"rgb(51,51,51)\"}, \"baxis\": {\"endlinecolor\": \"rgb(51,51,51)\", \"gridcolor\": \"white\", \"linecolor\": \"white\", \"minorgridcolor\": \"white\", \"startlinecolor\": \"rgb(51,51,51)\"}, \"type\": \"carpet\"}], \"choropleth\": [{\"colorbar\": {\"outlinewidth\": 0, \"tickcolor\": \"rgb(237,237,237)\", \"ticklen\": 6, \"ticks\": \"inside\"}, \"type\": \"choropleth\"}], \"contour\": [{\"colorbar\": {\"outlinewidth\": 0, \"tickcolor\": \"rgb(237,237,237)\", \"ticklen\": 6, \"ticks\": \"inside\"}, \"colorscale\": [[0, \"rgb(20,44,66)\"], [1, \"rgb(90,179,244)\"]], \"type\": \"contour\"}], \"contourcarpet\": [{\"colorbar\": {\"outlinewidth\": 0, \"tickcolor\": \"rgb(237,237,237)\", \"ticklen\": 6, \"ticks\": \"inside\"}, \"type\": \"contourcarpet\"}], \"heatmap\": [{\"colorbar\": {\"outlinewidth\": 0, \"tickcolor\": \"rgb(237,237,237)\", \"ticklen\": 6, \"ticks\": \"inside\"}, \"colorscale\": [[0, \"rgb(20,44,66)\"], [1, \"rgb(90,179,244)\"]], \"type\": \"heatmap\"}], \"heatmapgl\": [{\"colorbar\": {\"outlinewidth\": 0, \"tickcolor\": \"rgb(237,237,237)\", \"ticklen\": 6, \"ticks\": \"inside\"}, \"colorscale\": [[0, \"rgb(20,44,66)\"], [1, \"rgb(90,179,244)\"]], \"type\": \"heatmapgl\"}], \"histogram\": [{\"marker\": {\"colorbar\": {\"outlinewidth\": 0, \"tickcolor\": \"rgb(237,237,237)\", \"ticklen\": 6, \"ticks\": \"inside\"}}, \"type\": \"histogram\"}], \"histogram2d\": [{\"colorbar\": {\"outlinewidth\": 0, \"tickcolor\": \"rgb(237,237,237)\", \"ticklen\": 6, \"ticks\": \"inside\"}, \"colorscale\": [[0, \"rgb(20,44,66)\"], [1, \"rgb(90,179,244)\"]], \"type\": \"histogram2d\"}], \"histogram2dcontour\": [{\"colorbar\": {\"outlinewidth\": 0, \"tickcolor\": \"rgb(237,237,237)\", \"ticklen\": 6, \"ticks\": \"inside\"}, \"colorscale\": [[0, \"rgb(20,44,66)\"], [1, \"rgb(90,179,244)\"]], \"type\": \"histogram2dcontour\"}], \"mesh3d\": [{\"colorbar\": {\"outlinewidth\": 0, \"tickcolor\": \"rgb(237,237,237)\", \"ticklen\": 6, \"ticks\": \"inside\"}, \"type\": \"mesh3d\"}], \"parcoords\": [{\"line\": {\"colorbar\": {\"outlinewidth\": 0, \"tickcolor\": \"rgb(237,237,237)\", \"ticklen\": 6, \"ticks\": \"inside\"}}, \"type\": \"parcoords\"}], \"pie\": [{\"automargin\": true, \"type\": \"pie\"}], \"scatter\": [{\"marker\": {\"colorbar\": {\"outlinewidth\": 0, \"tickcolor\": \"rgb(237,237,237)\", \"ticklen\": 6, \"ticks\": \"inside\"}}, \"type\": \"scatter\"}], \"scatter3d\": [{\"line\": {\"colorbar\": {\"outlinewidth\": 0, \"tickcolor\": \"rgb(237,237,237)\", \"ticklen\": 6, \"ticks\": \"inside\"}}, \"marker\": {\"colorbar\": {\"outlinewidth\": 0, \"tickcolor\": \"rgb(237,237,237)\", \"ticklen\": 6, \"ticks\": \"inside\"}}, \"type\": \"scatter3d\"}], \"scattercarpet\": [{\"marker\": {\"colorbar\": {\"outlinewidth\": 0, \"tickcolor\": \"rgb(237,237,237)\", \"ticklen\": 6, \"ticks\": \"inside\"}}, \"type\": \"scattercarpet\"}], \"scattergeo\": [{\"marker\": {\"colorbar\": {\"outlinewidth\": 0, \"tickcolor\": \"rgb(237,237,237)\", \"ticklen\": 6, \"ticks\": \"inside\"}}, \"type\": \"scattergeo\"}], \"scattergl\": [{\"marker\": {\"colorbar\": {\"outlinewidth\": 0, \"tickcolor\": \"rgb(237,237,237)\", \"ticklen\": 6, \"ticks\": \"inside\"}}, \"type\": \"scattergl\"}], \"scattermapbox\": [{\"marker\": {\"colorbar\": {\"outlinewidth\": 0, \"tickcolor\": \"rgb(237,237,237)\", \"ticklen\": 6, \"ticks\": \"inside\"}}, \"type\": \"scattermapbox\"}], \"scatterpolar\": [{\"marker\": {\"colorbar\": {\"outlinewidth\": 0, \"tickcolor\": \"rgb(237,237,237)\", \"ticklen\": 6, \"ticks\": \"inside\"}}, \"type\": \"scatterpolar\"}], \"scatterpolargl\": [{\"marker\": {\"colorbar\": {\"outlinewidth\": 0, \"tickcolor\": \"rgb(237,237,237)\", \"ticklen\": 6, \"ticks\": \"inside\"}}, \"type\": \"scatterpolargl\"}], \"scatterternary\": [{\"marker\": {\"colorbar\": {\"outlinewidth\": 0, \"tickcolor\": \"rgb(237,237,237)\", \"ticklen\": 6, \"ticks\": \"inside\"}}, \"type\": \"scatterternary\"}], \"surface\": [{\"colorbar\": {\"outlinewidth\": 0, \"tickcolor\": \"rgb(237,237,237)\", \"ticklen\": 6, \"ticks\": \"inside\"}, \"colorscale\": [[0, \"rgb(20,44,66)\"], [1, \"rgb(90,179,244)\"]], \"type\": \"surface\"}], \"table\": [{\"cells\": {\"fill\": {\"color\": \"rgb(237,237,237)\"}, \"line\": {\"color\": \"white\"}}, \"header\": {\"fill\": {\"color\": \"rgb(217,217,217)\"}, \"line\": {\"color\": \"white\"}}, \"type\": \"table\"}]}, \"layout\": {\"annotationdefaults\": {\"arrowhead\": 0, \"arrowwidth\": 1}, \"coloraxis\": {\"colorbar\": {\"outlinewidth\": 0, \"tickcolor\": \"rgb(237,237,237)\", \"ticklen\": 6, \"ticks\": \"inside\"}}, \"colorscale\": {\"sequential\": [[0, \"rgb(20,44,66)\"], [1, \"rgb(90,179,244)\"]], \"sequentialminus\": [[0, \"rgb(20,44,66)\"], [1, \"rgb(90,179,244)\"]]}, \"colorway\": [\"#F8766D\", \"#A3A500\", \"#00BF7D\", \"#00B0F6\", \"#E76BF3\"], \"font\": {\"color\": \"rgb(51,51,51)\"}, \"geo\": {\"bgcolor\": \"white\", \"lakecolor\": \"white\", \"landcolor\": \"rgb(237,237,237)\", \"showlakes\": true, \"showland\": true, \"subunitcolor\": \"white\"}, \"hoverlabel\": {\"align\": \"left\"}, \"hovermode\": \"closest\", \"paper_bgcolor\": \"white\", \"plot_bgcolor\": \"rgb(237,237,237)\", \"polar\": {\"angularaxis\": {\"gridcolor\": \"white\", \"linecolor\": \"white\", \"showgrid\": true, \"tickcolor\": \"rgb(51,51,51)\", \"ticks\": \"outside\"}, \"bgcolor\": \"rgb(237,237,237)\", \"radialaxis\": {\"gridcolor\": \"white\", \"linecolor\": \"white\", \"showgrid\": true, \"tickcolor\": \"rgb(51,51,51)\", \"ticks\": \"outside\"}}, \"scene\": {\"xaxis\": {\"backgroundcolor\": \"rgb(237,237,237)\", \"gridcolor\": \"white\", \"gridwidth\": 2, \"linecolor\": \"white\", \"showbackground\": true, \"showgrid\": true, \"tickcolor\": \"rgb(51,51,51)\", \"ticks\": \"outside\", \"zerolinecolor\": \"white\"}, \"yaxis\": {\"backgroundcolor\": \"rgb(237,237,237)\", \"gridcolor\": \"white\", \"gridwidth\": 2, \"linecolor\": \"white\", \"showbackground\": true, \"showgrid\": true, \"tickcolor\": \"rgb(51,51,51)\", \"ticks\": \"outside\", \"zerolinecolor\": \"white\"}, \"zaxis\": {\"backgroundcolor\": \"rgb(237,237,237)\", \"gridcolor\": \"white\", \"gridwidth\": 2, \"linecolor\": \"white\", \"showbackground\": true, \"showgrid\": true, \"tickcolor\": \"rgb(51,51,51)\", \"ticks\": \"outside\", \"zerolinecolor\": \"white\"}}, \"shapedefaults\": {\"fillcolor\": \"black\", \"line\": {\"width\": 0}, \"opacity\": 0.3}, \"ternary\": {\"aaxis\": {\"gridcolor\": \"white\", \"linecolor\": \"white\", \"showgrid\": true, \"tickcolor\": \"rgb(51,51,51)\", \"ticks\": \"outside\"}, \"baxis\": {\"gridcolor\": \"white\", \"linecolor\": \"white\", \"showgrid\": true, \"tickcolor\": \"rgb(51,51,51)\", \"ticks\": \"outside\"}, \"bgcolor\": \"rgb(237,237,237)\", \"caxis\": {\"gridcolor\": \"white\", \"linecolor\": \"white\", \"showgrid\": true, \"tickcolor\": \"rgb(51,51,51)\", \"ticks\": \"outside\"}}, \"xaxis\": {\"automargin\": true, \"gridcolor\": \"white\", \"linecolor\": \"white\", \"showgrid\": true, \"tickcolor\": \"rgb(51,51,51)\", \"ticks\": \"outside\", \"title\": {\"standoff\": 15}, \"zerolinecolor\": \"white\"}, \"yaxis\": {\"automargin\": true, \"gridcolor\": \"white\", \"linecolor\": \"white\", \"showgrid\": true, \"tickcolor\": \"rgb(51,51,51)\", \"ticks\": \"outside\", \"title\": {\"standoff\": 15}, \"zerolinecolor\": \"white\"}}}, \"title\": {\"font\": {\"color\": \"darkslateblue\", \"size\": 20}, \"text\": \"Unique Shop Counts by Date Block (Incl. Test data)\"}, \"width\": 750, \"xaxis\": {\"tickfont\": {\"size\": 16}, \"title\": {\"font\": {\"size\": 20}, \"text\": \"Date Block\"}}, \"yaxis\": {\"nticks\": 8, \"tickfont\": {\"size\": 16}, \"title\": {\"font\": {\"size\": 20}, \"text\": \"Total Unique Shop Count\"}}},                        {\"responsive\": true}                    ).then(function(){\n",
       "                            \n",
       "var gd = document.getElementById('134ba89f-9a55-4197-b174-c60a2129a226');\n",
       "var x = new MutationObserver(function (mutations, observer) {{\n",
       "        var display = window.getComputedStyle(gd).display;\n",
       "        if (!display || display === 'none') {{\n",
       "            console.log([gd, 'removed!']);\n",
       "            Plotly.purge(gd);\n",
       "            observer.disconnect();\n",
       "        }}\n",
       "}});\n",
       "\n",
       "// Listen for the removal of the full notebook cells\n",
       "var notebookContainer = gd.closest('#notebook-container');\n",
       "if (notebookContainer) {{\n",
       "    x.observe(notebookContainer, {childList: true});\n",
       "}}\n",
       "\n",
       "// Listen for the clearing of the current output cell\n",
       "var outputEl = gd.closest('.output');\n",
       "if (outputEl) {{\n",
       "    x.observe(outputEl, {childList: true});\n",
       "}}\n",
       "\n",
       "                        })                };                });            </script>        </div>"
      ]
     },
     "metadata": {},
     "output_type": "display_data"
    }
   ],
   "source": [
    "plot_counts(ft = 'shop_id', name='Shop')"
   ]
  },
  {
   "cell_type": "code",
   "execution_count": 25,
   "metadata": {
    "_kg_hide-input": true,
    "execution": {
     "iopub.execute_input": "2020-10-20T12:36:52.465842Z",
     "iopub.status.busy": "2020-10-20T12:36:52.460696Z",
     "iopub.status.idle": "2020-10-20T12:36:52.588480Z",
     "shell.execute_reply": "2020-10-20T12:36:52.587889Z"
    },
    "papermill": {
     "duration": 0.191863,
     "end_time": "2020-10-20T12:36:52.588616",
     "exception": false,
     "start_time": "2020-10-20T12:36:52.396753",
     "status": "completed"
    },
    "tags": []
   },
   "outputs": [
    {
     "data": {
      "text/html": [
       "<div>                            <div id=\"a13cb16f-39b4-4c3d-94bf-abb241961ca8\" class=\"plotly-graph-div\" style=\"height:500px; width:750px;\"></div>            <script type=\"text/javascript\">                require([\"plotly\"], function(Plotly) {                    window.PLOTLYENV=window.PLOTLYENV || {};                                    if (document.getElementById(\"a13cb16f-39b4-4c3d-94bf-abb241961ca8\")) {                    Plotly.newPlot(                        \"a13cb16f-39b4-4c3d-94bf-abb241961ca8\",                        [{\"marker\": {\"color\": [\"indianred\", \"indianred\", \"indianred\", \"indianred\", \"indianred\", \"indianred\", \"indianred\", \"indianred\", \"indianred\", \"indianred\", \"indianred\", \"indianred\", \"indianred\", \"indianred\", \"indianred\", \"indianred\", \"indianred\", \"indianred\", \"indianred\", \"indianred\", \"indianred\", \"indianred\", \"indianred\", \"indianred\", \"indianred\", \"indianred\", \"indianred\", \"indianred\", \"indianred\", \"indianred\", \"indianred\", \"indianred\", \"indianred\", \"indianred\", \"blue\"]}, \"name\": \"Unique Item Count\", \"type\": \"bar\", \"width\": 0.9, \"x\": [0, 1, 2, 3, 4, 5, 6, 7, 8, 9, 10, 11, 12, 13, 14, 15, 16, 17, 18, 19, 20, 21, 22, 23, 24, 25, 26, 27, 28, 29, 30, 31, 32, 33, 34], \"y\": [63224, 59935, 63977, 54638, 53296, 56196, 58035, 58022, 51575, 51090, 51460, 66275, 53320, 47704, 49291, 44740, 45766, 46481, 45756, 46439, 40423, 42595, 45755, 59275, 46775, 41390, 40464, 32875, 32220, 31909, 33527, 33486, 29678, 31531, 214200]}],                        {\"height\": 500, \"template\": {\"data\": {\"bar\": [{\"error_x\": {\"color\": \"rgb(51,51,51)\"}, \"error_y\": {\"color\": \"rgb(51,51,51)\"}, \"marker\": {\"line\": {\"color\": \"rgb(237,237,237)\", \"width\": 0.5}}, \"type\": \"bar\"}], \"barpolar\": [{\"marker\": {\"line\": {\"color\": \"rgb(237,237,237)\", \"width\": 0.5}}, \"type\": \"barpolar\"}], \"carpet\": [{\"aaxis\": {\"endlinecolor\": \"rgb(51,51,51)\", \"gridcolor\": \"white\", \"linecolor\": \"white\", \"minorgridcolor\": \"white\", \"startlinecolor\": \"rgb(51,51,51)\"}, \"baxis\": {\"endlinecolor\": \"rgb(51,51,51)\", \"gridcolor\": \"white\", \"linecolor\": \"white\", \"minorgridcolor\": \"white\", \"startlinecolor\": \"rgb(51,51,51)\"}, \"type\": \"carpet\"}], \"choropleth\": [{\"colorbar\": {\"outlinewidth\": 0, \"tickcolor\": \"rgb(237,237,237)\", \"ticklen\": 6, \"ticks\": \"inside\"}, \"type\": \"choropleth\"}], \"contour\": [{\"colorbar\": {\"outlinewidth\": 0, \"tickcolor\": \"rgb(237,237,237)\", \"ticklen\": 6, \"ticks\": \"inside\"}, \"colorscale\": [[0, \"rgb(20,44,66)\"], [1, \"rgb(90,179,244)\"]], \"type\": \"contour\"}], \"contourcarpet\": [{\"colorbar\": {\"outlinewidth\": 0, \"tickcolor\": \"rgb(237,237,237)\", \"ticklen\": 6, \"ticks\": \"inside\"}, \"type\": \"contourcarpet\"}], \"heatmap\": [{\"colorbar\": {\"outlinewidth\": 0, \"tickcolor\": \"rgb(237,237,237)\", \"ticklen\": 6, \"ticks\": \"inside\"}, \"colorscale\": [[0, \"rgb(20,44,66)\"], [1, \"rgb(90,179,244)\"]], \"type\": \"heatmap\"}], \"heatmapgl\": [{\"colorbar\": {\"outlinewidth\": 0, \"tickcolor\": \"rgb(237,237,237)\", \"ticklen\": 6, \"ticks\": \"inside\"}, \"colorscale\": [[0, \"rgb(20,44,66)\"], [1, \"rgb(90,179,244)\"]], \"type\": \"heatmapgl\"}], \"histogram\": [{\"marker\": {\"colorbar\": {\"outlinewidth\": 0, \"tickcolor\": \"rgb(237,237,237)\", \"ticklen\": 6, \"ticks\": \"inside\"}}, \"type\": \"histogram\"}], \"histogram2d\": [{\"colorbar\": {\"outlinewidth\": 0, \"tickcolor\": \"rgb(237,237,237)\", \"ticklen\": 6, \"ticks\": \"inside\"}, \"colorscale\": [[0, \"rgb(20,44,66)\"], [1, \"rgb(90,179,244)\"]], \"type\": \"histogram2d\"}], \"histogram2dcontour\": [{\"colorbar\": {\"outlinewidth\": 0, \"tickcolor\": \"rgb(237,237,237)\", \"ticklen\": 6, \"ticks\": \"inside\"}, \"colorscale\": [[0, \"rgb(20,44,66)\"], [1, \"rgb(90,179,244)\"]], \"type\": \"histogram2dcontour\"}], \"mesh3d\": [{\"colorbar\": {\"outlinewidth\": 0, \"tickcolor\": \"rgb(237,237,237)\", \"ticklen\": 6, \"ticks\": \"inside\"}, \"type\": \"mesh3d\"}], \"parcoords\": [{\"line\": {\"colorbar\": {\"outlinewidth\": 0, \"tickcolor\": \"rgb(237,237,237)\", \"ticklen\": 6, \"ticks\": \"inside\"}}, \"type\": \"parcoords\"}], \"pie\": [{\"automargin\": true, \"type\": \"pie\"}], \"scatter\": [{\"marker\": {\"colorbar\": {\"outlinewidth\": 0, \"tickcolor\": \"rgb(237,237,237)\", \"ticklen\": 6, \"ticks\": \"inside\"}}, \"type\": \"scatter\"}], \"scatter3d\": [{\"line\": {\"colorbar\": {\"outlinewidth\": 0, \"tickcolor\": \"rgb(237,237,237)\", \"ticklen\": 6, \"ticks\": \"inside\"}}, \"marker\": {\"colorbar\": {\"outlinewidth\": 0, \"tickcolor\": \"rgb(237,237,237)\", \"ticklen\": 6, \"ticks\": \"inside\"}}, \"type\": \"scatter3d\"}], \"scattercarpet\": [{\"marker\": {\"colorbar\": {\"outlinewidth\": 0, \"tickcolor\": \"rgb(237,237,237)\", \"ticklen\": 6, \"ticks\": \"inside\"}}, \"type\": \"scattercarpet\"}], \"scattergeo\": [{\"marker\": {\"colorbar\": {\"outlinewidth\": 0, \"tickcolor\": \"rgb(237,237,237)\", \"ticklen\": 6, \"ticks\": \"inside\"}}, \"type\": \"scattergeo\"}], \"scattergl\": [{\"marker\": {\"colorbar\": {\"outlinewidth\": 0, \"tickcolor\": \"rgb(237,237,237)\", \"ticklen\": 6, \"ticks\": \"inside\"}}, \"type\": \"scattergl\"}], \"scattermapbox\": [{\"marker\": {\"colorbar\": {\"outlinewidth\": 0, \"tickcolor\": \"rgb(237,237,237)\", \"ticklen\": 6, \"ticks\": \"inside\"}}, \"type\": \"scattermapbox\"}], \"scatterpolar\": [{\"marker\": {\"colorbar\": {\"outlinewidth\": 0, \"tickcolor\": \"rgb(237,237,237)\", \"ticklen\": 6, \"ticks\": \"inside\"}}, \"type\": \"scatterpolar\"}], \"scatterpolargl\": [{\"marker\": {\"colorbar\": {\"outlinewidth\": 0, \"tickcolor\": \"rgb(237,237,237)\", \"ticklen\": 6, \"ticks\": \"inside\"}}, \"type\": \"scatterpolargl\"}], \"scatterternary\": [{\"marker\": {\"colorbar\": {\"outlinewidth\": 0, \"tickcolor\": \"rgb(237,237,237)\", \"ticklen\": 6, \"ticks\": \"inside\"}}, \"type\": \"scatterternary\"}], \"surface\": [{\"colorbar\": {\"outlinewidth\": 0, \"tickcolor\": \"rgb(237,237,237)\", \"ticklen\": 6, \"ticks\": \"inside\"}, \"colorscale\": [[0, \"rgb(20,44,66)\"], [1, \"rgb(90,179,244)\"]], \"type\": \"surface\"}], \"table\": [{\"cells\": {\"fill\": {\"color\": \"rgb(237,237,237)\"}, \"line\": {\"color\": \"white\"}}, \"header\": {\"fill\": {\"color\": \"rgb(217,217,217)\"}, \"line\": {\"color\": \"white\"}}, \"type\": \"table\"}]}, \"layout\": {\"annotationdefaults\": {\"arrowhead\": 0, \"arrowwidth\": 1}, \"coloraxis\": {\"colorbar\": {\"outlinewidth\": 0, \"tickcolor\": \"rgb(237,237,237)\", \"ticklen\": 6, \"ticks\": \"inside\"}}, \"colorscale\": {\"sequential\": [[0, \"rgb(20,44,66)\"], [1, \"rgb(90,179,244)\"]], \"sequentialminus\": [[0, \"rgb(20,44,66)\"], [1, \"rgb(90,179,244)\"]]}, \"colorway\": [\"#F8766D\", \"#A3A500\", \"#00BF7D\", \"#00B0F6\", \"#E76BF3\"], \"font\": {\"color\": \"rgb(51,51,51)\"}, \"geo\": {\"bgcolor\": \"white\", \"lakecolor\": \"white\", \"landcolor\": \"rgb(237,237,237)\", \"showlakes\": true, \"showland\": true, \"subunitcolor\": \"white\"}, \"hoverlabel\": {\"align\": \"left\"}, \"hovermode\": \"closest\", \"paper_bgcolor\": \"white\", \"plot_bgcolor\": \"rgb(237,237,237)\", \"polar\": {\"angularaxis\": {\"gridcolor\": \"white\", \"linecolor\": \"white\", \"showgrid\": true, \"tickcolor\": \"rgb(51,51,51)\", \"ticks\": \"outside\"}, \"bgcolor\": \"rgb(237,237,237)\", \"radialaxis\": {\"gridcolor\": \"white\", \"linecolor\": \"white\", \"showgrid\": true, \"tickcolor\": \"rgb(51,51,51)\", \"ticks\": \"outside\"}}, \"scene\": {\"xaxis\": {\"backgroundcolor\": \"rgb(237,237,237)\", \"gridcolor\": \"white\", \"gridwidth\": 2, \"linecolor\": \"white\", \"showbackground\": true, \"showgrid\": true, \"tickcolor\": \"rgb(51,51,51)\", \"ticks\": \"outside\", \"zerolinecolor\": \"white\"}, \"yaxis\": {\"backgroundcolor\": \"rgb(237,237,237)\", \"gridcolor\": \"white\", \"gridwidth\": 2, \"linecolor\": \"white\", \"showbackground\": true, \"showgrid\": true, \"tickcolor\": \"rgb(51,51,51)\", \"ticks\": \"outside\", \"zerolinecolor\": \"white\"}, \"zaxis\": {\"backgroundcolor\": \"rgb(237,237,237)\", \"gridcolor\": \"white\", \"gridwidth\": 2, \"linecolor\": \"white\", \"showbackground\": true, \"showgrid\": true, \"tickcolor\": \"rgb(51,51,51)\", \"ticks\": \"outside\", \"zerolinecolor\": \"white\"}}, \"shapedefaults\": {\"fillcolor\": \"black\", \"line\": {\"width\": 0}, \"opacity\": 0.3}, \"ternary\": {\"aaxis\": {\"gridcolor\": \"white\", \"linecolor\": \"white\", \"showgrid\": true, \"tickcolor\": \"rgb(51,51,51)\", \"ticks\": \"outside\"}, \"baxis\": {\"gridcolor\": \"white\", \"linecolor\": \"white\", \"showgrid\": true, \"tickcolor\": \"rgb(51,51,51)\", \"ticks\": \"outside\"}, \"bgcolor\": \"rgb(237,237,237)\", \"caxis\": {\"gridcolor\": \"white\", \"linecolor\": \"white\", \"showgrid\": true, \"tickcolor\": \"rgb(51,51,51)\", \"ticks\": \"outside\"}}, \"xaxis\": {\"automargin\": true, \"gridcolor\": \"white\", \"linecolor\": \"white\", \"showgrid\": true, \"tickcolor\": \"rgb(51,51,51)\", \"ticks\": \"outside\", \"title\": {\"standoff\": 15}, \"zerolinecolor\": \"white\"}, \"yaxis\": {\"automargin\": true, \"gridcolor\": \"white\", \"linecolor\": \"white\", \"showgrid\": true, \"tickcolor\": \"rgb(51,51,51)\", \"ticks\": \"outside\", \"title\": {\"standoff\": 15}, \"zerolinecolor\": \"white\"}}}, \"title\": {\"font\": {\"color\": \"darkslateblue\", \"size\": 20}, \"text\": \"Item-Shop Combination Counts by Date Block (Incl. Test data)\"}, \"width\": 750, \"xaxis\": {\"tickfont\": {\"size\": 16}, \"title\": {\"font\": {\"size\": 20}, \"text\": \"Date Block\"}}, \"yaxis\": {\"nticks\": 8, \"tickfont\": {\"size\": 16}, \"title\": {\"font\": {\"size\": 20}, \"text\": \"Total Unique Item Count\"}}},                        {\"responsive\": true}                    ).then(function(){\n",
       "                            \n",
       "var gd = document.getElementById('a13cb16f-39b4-4c3d-94bf-abb241961ca8');\n",
       "var x = new MutationObserver(function (mutations, observer) {{\n",
       "        var display = window.getComputedStyle(gd).display;\n",
       "        if (!display || display === 'none') {{\n",
       "            console.log([gd, 'removed!']);\n",
       "            Plotly.purge(gd);\n",
       "            observer.disconnect();\n",
       "        }}\n",
       "}});\n",
       "\n",
       "// Listen for the removal of the full notebook cells\n",
       "var notebookContainer = gd.closest('#notebook-container');\n",
       "if (notebookContainer) {{\n",
       "    x.observe(notebookContainer, {childList: true});\n",
       "}}\n",
       "\n",
       "// Listen for the clearing of the current output cell\n",
       "var outputEl = gd.closest('.output');\n",
       "if (outputEl) {{\n",
       "    x.observe(outputEl, {childList: true});\n",
       "}}\n",
       "\n",
       "                        })                };                });            </script>        </div>"
      ]
     },
     "metadata": {},
     "output_type": "display_data"
    }
   ],
   "source": [
    "def plot_combined():\n",
    "    fig = plotly.graph_objects.Figure()\n",
    "\n",
    "    vizdata = (\n",
    "        train.append(test, ignore_index=True)\n",
    "        .groupby(by=[\"date_block_num\"], as_index=False)\n",
    "        .size()\n",
    "    )\n",
    "\n",
    "    colors = [\n",
    "        \"indianred\",\n",
    "    ] * vizdata.shape[0]\n",
    "    colors[-1] = \"blue\"\n",
    "\n",
    "    fig.add_trace(\n",
    "        go.Bar(\n",
    "            x=vizdata[\"date_block_num\"],\n",
    "            y=vizdata[\"size\"],\n",
    "            width=0.9,\n",
    "            marker_color=colors,\n",
    "            name=\"Unique Item Count\",\n",
    "        )\n",
    "    )\n",
    "\n",
    "    fig.update_xaxes(\n",
    "        title_text=\"Date Block\", titlefont=dict(size=20), tickfont=dict(size=16)\n",
    "    )\n",
    "    fig.update_yaxes(\n",
    "        title_text=\"Total Unique Item Count\",\n",
    "        titlefont=dict(size=20),\n",
    "        nticks=8,\n",
    "        tickfont=dict(size=16),\n",
    "    )\n",
    "\n",
    "    fig.update_layout(\n",
    "        height=500,\n",
    "        width=750,\n",
    "        template=\"ggplot2\",\n",
    "        title=go.layout.Title(\n",
    "            text=\"Item-Shop Combination Counts by Date Block (Incl. Test data)\",\n",
    "            font=dict(size=20, color=\"darkslateblue\"),\n",
    "        ),\n",
    "    )\n",
    "\n",
    "    return fig.show()\n",
    "\n",
    "\n",
    "plot_combined()\n"
   ]
  },
  {
   "cell_type": "markdown",
   "metadata": {
    "papermill": {
     "duration": 0.053122,
     "end_time": "2020-10-20T12:36:52.696955",
     "exception": false,
     "start_time": "2020-10-20T12:36:52.643833",
     "status": "completed"
    },
    "tags": []
   },
   "source": [
    "Test set contains all item/shop combinations, unlike the train set where **only** item/shop combinations **with sales** are included.<br><br> Below I'll be extending the train dataframe to include all item/shop combinations just like the test set.<br> Applying cartesian multiplication to each unique item and shop set per date block."
   ]
  },
  {
   "cell_type": "code",
   "execution_count": 26,
   "metadata": {
    "execution": {
     "iopub.execute_input": "2020-10-20T12:36:52.816668Z",
     "iopub.status.busy": "2020-10-20T12:36:52.815938Z",
     "iopub.status.idle": "2020-10-20T12:37:37.187060Z",
     "shell.execute_reply": "2020-10-20T12:37:37.187674Z"
    },
    "papermill": {
     "duration": 44.435952,
     "end_time": "2020-10-20T12:37:37.187845",
     "exception": false,
     "start_time": "2020-10-20T12:36:52.751893",
     "status": "completed"
    },
    "tags": []
   },
   "outputs": [
    {
     "name": "stdout",
     "output_type": "stream",
     "text": [
      "CPU times: user 37.7 s, sys: 6.87 s, total: 44.6 s\n",
      "Wall time: 44.3 s\n"
     ]
    }
   ],
   "source": [
    "%%time\n",
    "\n",
    "def extend_train():\n",
    "    '''\n",
    "    1) Obtain set of date blocks\n",
    "    2) Establish date and price lookup tables\n",
    "    3) Get artesian product of shop/item pairs \n",
    "        and append them to train_extended_list\n",
    "    4) Lookup the existing information from train set to the extended train set:\n",
    "        Item_cnt_month nan --> fill with zero\n",
    "        Item price nan --> fill with avg. price for the date block\n",
    "        Sale date --> Lookup based on date block num\n",
    "    '''\n",
    "    dblocklist = train[\"date_block_num\"].unique()\n",
    "    dblock_month = (\n",
    "        train[[\"date_block_num\", \"date\"]]\n",
    "        .drop_duplicates()\n",
    "        .set_index(\"date_block_num\")\n",
    "        .to_dict()[\"date\"]\n",
    "    )\n",
    "    item_price = train.groupby(by=[\"item_id\", \"date_block_num\"])[\"item_price\"].mean()\n",
    "\n",
    "    \n",
    "    train_extended_list = []\n",
    "    for dblock in dblocklist:\n",
    "        shops_dblock = train.loc[train[\"date_block_num\"] == dblock, \"shop_id\"].unique()\n",
    "        items_dblock = train.loc[train[\"date_block_num\"] == dblock, \"item_id\"].unique()\n",
    "        cartesian_prod = list(product(*[items_dblock, shops_dblock, [dblock]]))\n",
    "        train_extended_list.append(np.array(cartesian_prod))\n",
    "\n",
    "    train_extended_list = np.vstack(train_extended_list)\n",
    "\n",
    "    train_extended = pd.DataFrame(\n",
    "        train_extended_list, columns=[\"item_id\", \"shop_id\", \"date_block_num\"]\n",
    "    )\n",
    "    train_extended = train_extended.merge(\n",
    "        train, on=[\"item_id\", \"shop_id\", \"date_block_num\"], how=\"left\"\n",
    "    )\n",
    "    train_extended[\"item_cnt_month\"].fillna(0, inplace=True)\n",
    "\n",
    "    train_extended[\"date\"] = train_extended[\"date_block_num\"].map(dblock_month)\n",
    "    train_extended[\"item_price\"] = train_extended.set_index(\n",
    "        [\"item_id\", \"date_block_num\"]\n",
    "    ).index.map(item_price)\n",
    "\n",
    "    train_extended[\"train\"] = 1\n",
    "    test[\"train\"] = 0\n",
    "\n",
    "    return train_extended.append(test).reset_index(drop=True)\n",
    "\n",
    "\n",
    "df = extend_train()\n",
    "\n",
    "del train, test"
   ]
  },
  {
   "cell_type": "markdown",
   "metadata": {
    "papermill": {
     "duration": 0.053452,
     "end_time": "2020-10-20T12:37:37.304289",
     "exception": false,
     "start_time": "2020-10-20T12:37:37.250837",
     "status": "completed"
    },
    "tags": []
   },
   "source": [
    "In the following step I'll obtain supplamental item category and shop data, and map them back to our dataframe.<br> In addition, I'll be extracting month and year info from the date column."
   ]
  },
  {
   "cell_type": "code",
   "execution_count": 27,
   "metadata": {
    "execution": {
     "iopub.execute_input": "2020-10-20T12:37:37.427454Z",
     "iopub.status.busy": "2020-10-20T12:37:37.426675Z",
     "iopub.status.idle": "2020-10-20T12:37:52.711971Z",
     "shell.execute_reply": "2020-10-20T12:37:52.711448Z"
    },
    "papermill": {
     "duration": 15.351187,
     "end_time": "2020-10-20T12:37:52.712123",
     "exception": false,
     "start_time": "2020-10-20T12:37:37.360936",
     "status": "completed"
    },
    "tags": []
   },
   "outputs": [
    {
     "name": "stdout",
     "output_type": "stream",
     "text": [
      "CPU times: user 13 s, sys: 2.29 s, total: 15.3 s\n",
      "Wall time: 15.3 s\n"
     ]
    }
   ],
   "source": [
    "%%time\n",
    "\n",
    "def get_cat_shop_info(df):\n",
    "    '''\n",
    "    1) Load items, shops, and itemcategories files\n",
    "    2) Map item category id, item category name, shop name\n",
    "    '''\n",
    "    \n",
    "    itemsdf = pd.read_csv(\n",
    "        \"../input/competitive-data-science-predict-future-sales/items.csv\")\n",
    "    shopsdf = pd.read_csv(\"../input/filestranslated/shops-translated.csv\")\n",
    "    itemcatsdf = pd.read_csv(\"../input/filestranslated/categories_translated.csv\")\n",
    "\n",
    "    item_cat = dict(zip(itemsdf[\"item_id\"], itemsdf[\"item_category_id\"]))\n",
    "    item_cat_name = dict(\n",
    "        zip(itemcatsdf[\"item_category_id\"], itemcatsdf[\"item_category_name\"]))\n",
    "    shop_name = dict(zip(shopsdf[\"shop_id\"], shopsdf[\"shop_name_translated\"]))\n",
    "    \n",
    "    df[\"item_cat_id\"] = df[\"item_id\"].map(item_cat)\n",
    "    df[\"item_cat_name\"] = df[\"item_cat_id\"].map(item_cat_name)\n",
    "    df[\"shop_name\"] = df[\"shop_id\"].map(shop_name)\n",
    "\n",
    "    return df\n",
    "\n",
    "\n",
    "def extract_month_year(df):\n",
    "    '''\n",
    "    Extract month and year from date string\n",
    "    '''\n",
    "    df[\"month\"] = df[\"date\"].apply(lambda x: x.split(\".\")[1]).astype(int)\n",
    "    df[\"year\"] = df[\"date\"].apply(lambda x: x.split(\".\")[2]).astype(int)\n",
    "\n",
    "    df.drop(columns=\"date\", inplace=True)\n",
    "\n",
    "    return df\n",
    "\n",
    "\n",
    "\n",
    "df = get_cat_shop_info(df)\n",
    "df = extract_month_year(df)"
   ]
  },
  {
   "cell_type": "markdown",
   "metadata": {
    "papermill": {
     "duration": 0.053988,
     "end_time": "2020-10-20T12:37:52.822215",
     "exception": false,
     "start_time": "2020-10-20T12:37:52.768227",
     "status": "completed"
    },
    "tags": []
   },
   "source": [
    "New features added, downcasting df again."
   ]
  },
  {
   "cell_type": "code",
   "execution_count": 28,
   "metadata": {
    "_kg_hide-input": false,
    "_kg_hide-output": false,
    "execution": {
     "iopub.execute_input": "2020-10-20T12:37:53.036573Z",
     "iopub.status.busy": "2020-10-20T12:37:53.035852Z",
     "iopub.status.idle": "2020-10-20T12:37:58.084855Z",
     "shell.execute_reply": "2020-10-20T12:37:58.085533Z"
    },
    "papermill": {
     "duration": 5.209323,
     "end_time": "2020-10-20T12:37:58.085727",
     "exception": false,
     "start_time": "2020-10-20T12:37:52.876404",
     "status": "completed"
    },
    "tags": []
   },
   "outputs": [
    {
     "name": "stdout",
     "output_type": "stream",
     "text": [
      "Downcasting: \n",
      "                    before     after  reduction(%)\n",
      "Index                128       128          0.00\n",
      "item_id         89024032  22256008         75.00\n",
      "shop_id         89024032  11128004         87.50\n",
      "date_block_num  89024032  11128004         87.50\n",
      "item_cnt_month  44512016  44512016          0.00\n",
      "item_price      89024032  44512016         50.00\n",
      "train           89024032  11128004         87.50\n",
      "item_cat_id     89024032  11128004         87.50\n",
      "item_cat_name   89024032  89024032          0.00\n",
      "shop_name       89024032  89024032          0.00\n",
      "month           89024032  11128004         87.50\n",
      "year            89024032  22256008         75.00\n",
      "\n",
      "\n"
     ]
    }
   ],
   "source": [
    "gc.collect()\n",
    "df = downcast_df(df)"
   ]
  },
  {
   "cell_type": "markdown",
   "metadata": {
    "papermill": {
     "duration": 0.057057,
     "end_time": "2020-10-20T12:37:58.198326",
     "exception": false,
     "start_time": "2020-10-20T12:37:58.141269",
     "status": "completed"
    },
    "tags": []
   },
   "source": [
    "Combining duplicate/relocated shop ids and names"
   ]
  },
  {
   "cell_type": "code",
   "execution_count": 29,
   "metadata": {
    "execution": {
     "iopub.execute_input": "2020-10-20T12:37:58.318891Z",
     "iopub.status.busy": "2020-10-20T12:37:58.318144Z",
     "iopub.status.idle": "2020-10-20T12:37:59.749485Z",
     "shell.execute_reply": "2020-10-20T12:37:59.748916Z"
    },
    "papermill": {
     "duration": 1.494806,
     "end_time": "2020-10-20T12:37:59.749610",
     "exception": false,
     "start_time": "2020-10-20T12:37:58.254804",
     "status": "completed"
    },
    "tags": []
   },
   "outputs": [],
   "source": [
    "df.loc[df[\"shop_id\"] == 11, \"shop_id\"] = 10\n",
    "df.loc[df[\"shop_id\"] == 10, \"shop_name\"] = \"Zhukovsky st. Chkalov 39m?\"\n",
    "df.loc[df[\"shop_id\"] == 0, \"shop_id\"] = 57\n",
    "df.loc[df[\"shop_id\"] == 57, \"shop_name\"] = \"Yakutsk Ordzhonikidze, 56\"\n",
    "df.loc[df[\"shop_id\"] == 1, \"shop_id\"] = 58\n",
    "df.loc[df[\"shop_id\"] == 58, \"shop_name\"] = 'Yakutsk TC \"Central\"'\n",
    "df.loc[df[\"shop_id\"] == 40, \"shop_id\"] = 39\n",
    "df.loc[df[\"shop_id\"] == 39, \"shop_name\"] = \"Rostov-on-Don Megacenter Horizon\""
   ]
  },
  {
   "cell_type": "markdown",
   "metadata": {
    "papermill": {
     "duration": 0.055268,
     "end_time": "2020-10-20T12:37:59.861600",
     "exception": false,
     "start_time": "2020-10-20T12:37:59.806332",
     "status": "completed"
    },
    "tags": []
   },
   "source": [
    "# Item Price Imputation\n",
    "\n",
    "In the following step, I'll be imputing the missing item prices on test df.<br> Before the imputation, though, I want to see item prices per category - since I'll be using item category to infer item prices (for test items that don't exist in train)."
   ]
  },
  {
   "cell_type": "code",
   "execution_count": 30,
   "metadata": {
    "_kg_hide-input": true,
    "execution": {
     "iopub.execute_input": "2020-10-20T12:37:59.996437Z",
     "iopub.status.busy": "2020-10-20T12:37:59.986571Z",
     "iopub.status.idle": "2020-10-20T12:38:03.828718Z",
     "shell.execute_reply": "2020-10-20T12:38:03.829225Z"
    },
    "papermill": {
     "duration": 3.911583,
     "end_time": "2020-10-20T12:38:03.829409",
     "exception": false,
     "start_time": "2020-10-20T12:37:59.917826",
     "status": "completed"
    },
    "tags": []
   },
   "outputs": [
    {
     "data": {
      "image/png": "[encoded data removed]",
      "text/plain": [
       "<Figure size 720x1440 with 1 Axes>"
      ]
     },
     "metadata": {},
     "output_type": "display_data"
    }
   ],
   "source": [
    "def plot_price_per_cat_shop(df, priceby, name):\n",
    "    train_prices = df.loc[df[\"item_cnt_month\"] > 0,[\"item_price\", \"shop_name\", \"item_cat_name\"]]\n",
    "\n",
    "    plt.style.use(\"ggplot\")\n",
    "    params = {\n",
    "        \"axes.labelsize\": 24,\n",
    "        \"xtick.labelsize\": 12,\n",
    "        \"ytick.labelsize\": 12,\n",
    "    }\n",
    "    plt.rcParams.update(params)\n",
    "    fig, ax = plt.subplots(nrows=1, ncols=1, figsize=(10, 20))\n",
    "\n",
    "    ordered = (\n",
    "        df.groupby(by=priceby)[\"item_price\"].median().sort_values(ascending=False).index\n",
    "    )\n",
    "\n",
    "    plot = sns.boxplot(\n",
    "        y=train_prices[priceby],\n",
    "        x=train_prices[\"item_price\"],\n",
    "        order=ordered,\n",
    "        fliersize=2,\n",
    "    )\n",
    "\n",
    "    plot.set_xlabel(\"Item Price\")\n",
    "    plot.set_ylabel(name)\n",
    "\n",
    "    return fig\n",
    "\n",
    "plot_price_per_cat_shop(df, priceby=\"item_cat_name\", name=\"Item Category\").show()"
   ]
  },
  {
   "cell_type": "markdown",
   "metadata": {
    "papermill": {
     "duration": 0.060928,
     "end_time": "2020-10-20T12:38:03.952016",
     "exception": false,
     "start_time": "2020-10-20T12:38:03.891088",
     "status": "completed"
    },
    "tags": []
   },
   "source": [
    "Imputing iteratively to make the most of the available information."
   ]
  },
  {
   "cell_type": "code",
   "execution_count": 31,
   "metadata": {
    "execution": {
     "iopub.execute_input": "2020-10-20T12:38:04.099223Z",
     "iopub.status.busy": "2020-10-20T12:38:04.093893Z",
     "iopub.status.idle": "2020-10-20T12:38:06.439966Z",
     "shell.execute_reply": "2020-10-20T12:38:06.439040Z"
    },
    "papermill": {
     "duration": 2.422448,
     "end_time": "2020-10-20T12:38:06.440135",
     "exception": false,
     "start_time": "2020-10-20T12:38:04.017687",
     "status": "completed"
    },
    "tags": []
   },
   "outputs": [
    {
     "name": "stdout",
     "output_type": "stream",
     "text": [
      "Remaining nan counts after imputation using price per item and shop: 102731\n",
      "Remaining nan counts after imputation using price per item: 15246\n",
      "Remaining nan counts after imputation using price per category and shop: 2228\n",
      "No more missing values!\n",
      "No more missing values!\n"
     ]
    }
   ],
   "source": [
    "def get_nan_count(df, imputee):\n",
    "    nancount = df[\"item_price\"].isna().sum()\n",
    "    if nancount > 0:\n",
    "        print(\n",
    "            f\"Remaining nan counts after imputation using price per {imputee}: {nancount}\"\n",
    "        )\n",
    "    elif nancount == 0:\n",
    "        print(\"No more missing values!\")\n",
    "\n",
    "\n",
    "def impute_test_prices(df):\n",
    "    '''\n",
    "    1) Sort the train dataframe to show most recent records at the top\n",
    "    2) Obtain the most recent avg. price per item/shop\n",
    "    3) Obtain the most recent avg. price per item regardless of shop\n",
    "    4) Obtain the most recent avg. price per category/shop\n",
    "    5) Obtain the most recent avg. price per category, regardless of shop\n",
    "    6) Impute the missing item prices incrementally (same order as above)\n",
    "    '''\n",
    "    \n",
    "    sorted_train = df[(df[\"train\"] == 1) & (df[\"item_cnt_month\"] > 0)].sort_values(\n",
    "        by=[\"date_block_num\"], ascending=False\n",
    "    )\n",
    "    \n",
    "    itemNshop_price = sorted_train.groupby(by=[\"item_id\", \"shop_id\"], sort=False)[\n",
    "        \"item_price\"\n",
    "    ].first()\n",
    "\n",
    "    \n",
    "    item_price = sorted_train.groupby(\n",
    "        by=[\"item_id\", \"date_block_num\"], as_index=False, sort=False\n",
    "    )[\"item_price\"].mean()\n",
    "    item_price = item_price.groupby(by=[\"item_id\"], sort=False)[\"item_price\"].first()\n",
    "\n",
    "    \n",
    "    catNshop_price = sorted_train.groupby(\n",
    "        by=[\"item_cat_id\", \"shop_id\", \"date_block_num\"], as_index=False, sort=False\n",
    "    )[\"item_price\"].mean()\n",
    "    catNshop_price = catNshop_price.groupby(by=[\"item_cat_id\", \"shop_id\"], sort=False)[\n",
    "        \"item_price\"\n",
    "    ].first()\n",
    "    \n",
    "    cat_price = sorted_train.groupby(\n",
    "        by=[\"item_cat_id\", \"date_block_num\"], as_index=False, sort=False\n",
    "    )[\"item_price\"].mean()\n",
    "    cat_price = cat_price.groupby(by=[\"item_cat_id\"], sort=False)[\"item_price\"].first()\n",
    "    \n",
    "    df.loc[df[\"item_price\"].isna(), \"item_price\"] = (\n",
    "        df.loc[df[\"item_price\"].isna()]\n",
    "        .set_index([\"item_id\", \"shop_id\"])\n",
    "        .index.map(itemNshop_price)\n",
    "        .values\n",
    "    )\n",
    "    get_nan_count(df, imputee=\"item and shop\")\n",
    "\n",
    "    df.loc[df[\"item_price\"].isna(), \"item_price\"] = (\n",
    "        df.loc[df[\"item_price\"].isna()]\n",
    "        .set_index([\"item_id\"])\n",
    "        .index.map(item_price)\n",
    "        .values\n",
    "    )\n",
    "    get_nan_count(df, imputee=\"item\")\n",
    "\n",
    "    df.loc[df[\"item_price\"].isna(), \"item_price\"] = (\n",
    "        df.loc[df[\"item_price\"].isna()]\n",
    "        .set_index([\"item_cat_id\", \"shop_id\"])\n",
    "        .index.map(catNshop_price)\n",
    "        .values\n",
    "    )\n",
    "    get_nan_count(df, imputee=\"category and shop\")\n",
    "\n",
    "    df.loc[df[\"item_price\"].isna(), \"item_price\"] = (\n",
    "        df.loc[df[\"item_price\"].isna()]\n",
    "        .set_index([\"item_cat_id\"])\n",
    "        .index.map(cat_price)\n",
    "        .values\n",
    "    )\n",
    "    get_nan_count(df, imputee=\"category\")\n",
    "\n",
    "    df.loc[df[\"item_price\"].isna(), \"item_price\"] = df[\"item_price\"].mean()\n",
    "    get_nan_count(df, imputee=\"item (overall)\")\n",
    "\n",
    "    return df\n",
    "\n",
    "df = impute_test_prices(df)"
   ]
  },
  {
   "cell_type": "markdown",
   "metadata": {
    "papermill": {
     "duration": 0.06519,
     "end_time": "2020-10-20T12:38:06.574713",
     "exception": false,
     "start_time": "2020-10-20T12:38:06.509523",
     "status": "completed"
    },
    "tags": []
   },
   "source": [
    "# Group the Categoricals\n",
    "\n",
    "Creating higher level groups of item categories and extracting city information from shops below.<br>"
   ]
  },
  {
   "cell_type": "code",
   "execution_count": 32,
   "metadata": {
    "_kg_hide-input": false,
    "execution": {
     "iopub.execute_input": "2020-10-20T12:38:06.726050Z",
     "iopub.status.busy": "2020-10-20T12:38:06.724555Z",
     "iopub.status.idle": "2020-10-20T12:38:07.913064Z",
     "shell.execute_reply": "2020-10-20T12:38:07.912452Z"
    },
    "papermill": {
     "duration": 1.274767,
     "end_time": "2020-10-20T12:38:07.913214",
     "exception": false,
     "start_time": "2020-10-20T12:38:06.638447",
     "status": "completed"
    },
    "tags": []
   },
   "outputs": [],
   "source": [
    "def map_cat_shop(df):\n",
    "    '''\n",
    "    map each item category to a higher level/more general group\n",
    "    map each shop to the city it is located at\n",
    "    '''\n",
    "\n",
    "    category_mapping = {\n",
    "        1: \"Console Accessories\",2: \"Console Accessories\",\n",
    "        3: \"Console Accessories\",4: \"Console Accessories\",\n",
    "        5: \"Console Accessories\",6: \"Console Accessories\",\n",
    "        7: \"Console Accessories\",25: \"Game Accessories\",\n",
    "        8: \"Tickets\",\n",
    "        42: \"Books\",43: \"Books\",44: \"Books\",45: \"Books\",\n",
    "        47: \"Books\",49: \"Books\",54: \"Books\",46: \"Books\",\n",
    "        48: \"Books\",50: \"Books\",51: \"Books\",52: \"Books\",\n",
    "        53: \"Books\",\n",
    "        11: \"Game Consoles\",12: \"Game Consoles\",15: \"Game Consoles\",\n",
    "        16: \"Game Consoles\",10: \"Game Consoles\",13: \"Game Consoles\",\n",
    "        14: \"Game Consoles\",17: \"Game Consoles\",\n",
    "        18: \"Games\",24: \"Games\",19: \"Games\",20: \"Games\",\n",
    "        21: \"Games\",22: \"Games\",23: \"Games\",28: \"Games\",\n",
    "        29: \"Games\",30: \"Games\",31: \"Games\",\n",
    "        26: \"Mobile Games\",27: \"Mobile Games\",\n",
    "        61: \"Gifts\",71: \"Gifts\",64: \"Gifts\",65: \"Gifts\",\n",
    "        67: \"Gifts\",62: \"Gifts\",72: \"Gifts\",69: \"Gifts\",\n",
    "        70: \"Gifts\",63: \"Gifts\",66: \"Gifts\",68: \"Gifts\",\n",
    "        37: \"Movies\",40: \"Movies\",38: \"Movies\",41: \"Movies\",\n",
    "        39: \"Movies\",\n",
    "        60: \"Music\",57: \"Music\",58: \"Music\",56: \"Music\",\n",
    "        55: \"Music\",59: \"Music\",\n",
    "        32: \"Payment Cards\",33: \"Payment Cards\",\n",
    "        34: \"Payment Cards\",35: \"Payment Cards\",\n",
    "        36: \"Payment Cards\",\n",
    "        73: \"Programs\",74: \"Programs\",\n",
    "        75: \"Programs\",76: \"Programs\",\n",
    "        77: \"Programs\",78: \"Programs\",\n",
    "        83: \"Misc\",9: \"Misc\",0: \"Misc\",80: \"Misc\",\n",
    "        79: \"Office\",\n",
    "        81: \"Blank Media\",82: \"Blank Media\",\n",
    "    }\n",
    "    shop_mapping = {\n",
    "        0: \"Yakutsk\",1: \"Yakutsk\",\n",
    "        2: \"Maykop\",\n",
    "        3: \"Balashikha\",\n",
    "        56: \"Chekhov\",\n",
    "        55: \"Online\",12: \"Online\",\n",
    "        15: \"Kaluga\",\n",
    "        13: \"Kazan\",14: \"Kazan\",\n",
    "        54: \"Khimki\",\n",
    "        16: \"Kolomna\",\n",
    "        18: \"Krasnoyarsk\",17: \"Krasnoyarsk\",\n",
    "        19: \"Kursk\",\n",
    "        20: \"Moscow\",21: \"Moscow\",\n",
    "        30: \"Moscow\",22: \"Moscow\",\n",
    "        26: \"Moscow\",24: \"Moscow\",\n",
    "        27: \"Moscow\",28: \"Moscow\",\n",
    "        31: \"Moscow\",23: \"Moscow\",\n",
    "        25: \"Moscow\",29: \"Moscow\",\n",
    "        32: \"Moscow\",\n",
    "        33: \"Mytishchi\",\n",
    "        34: \"Nizhny Novgorod\",35: \"Nizhny Novgorod\",\n",
    "        36: \"Novosibirsk\",37: \"Novosibirsk\",\n",
    "        9: \"Other\",\n",
    "        38: \"Omsk\",\n",
    "        40: \"Rostov-on-Don\",39: \"Rostov-on-Don\",\n",
    "        41: \"Rostov-on-Don\",\n",
    "        42: \"Saint Petersburg\",43: \"Saint Petersburg\",\n",
    "        44: \"Samara\",45: \"Samara\",\n",
    "        46: \"Sergiyev Posad\",\n",
    "        47: \"Surgut\",\n",
    "        48: \"Tomsk\",\n",
    "        49: \"Tyumen\",50: \"Tyumen\",51: \"Tyumen\",\n",
    "        52: \"Ufa\",53: \"Ufa\",\n",
    "        5: \"Vologda\",\n",
    "        4: \"Volzhsky\",\n",
    "        6: \"Voronezh\",7: \"Voronezh\",8: \"Voronezh\",\n",
    "        57: \"Yakutsk\",58: \"Yakutsk\",\n",
    "        59: \"Yaroslavl\",\n",
    "        10: \"Zhukovsky\",11: \"Zhukovsky\",\n",
    "    }\n",
    "    df[\"item_cat_group\"] = df[\"item_cat_id\"].map(category_mapping)\n",
    "    df[\"city\"] = df[\"shop_id\"].astype(int).map(shop_mapping)\n",
    "    return df\n",
    "\n",
    "\n",
    "df = map_cat_shop(df)"
   ]
  },
  {
   "cell_type": "markdown",
   "metadata": {
    "papermill": {
     "duration": 0.065817,
     "end_time": "2020-10-20T12:38:08.044431",
     "exception": false,
     "start_time": "2020-10-20T12:38:07.978614",
     "status": "completed"
    },
    "tags": []
   },
   "source": [
    "# Sales Quantity Analysis\n",
    "\n",
    "Plotting the sales numbers against date blocks, then against year and month.<br> "
   ]
  },
  {
   "cell_type": "code",
   "execution_count": 33,
   "metadata": {
    "_kg_hide-input": true,
    "execution": {
     "iopub.execute_input": "2020-10-20T12:38:08.190868Z",
     "iopub.status.busy": "2020-10-20T12:38:08.180027Z",
     "iopub.status.idle": "2020-10-20T12:38:10.196397Z",
     "shell.execute_reply": "2020-10-20T12:38:10.195834Z"
    },
    "papermill": {
     "duration": 2.087904,
     "end_time": "2020-10-20T12:38:10.196513",
     "exception": false,
     "start_time": "2020-10-20T12:38:08.108609",
     "status": "completed"
    },
    "tags": []
   },
   "outputs": [
    {
     "data": {
      "text/html": [
       "<div>                            <div id=\"9595d1d3-3b0a-44d0-8ec6-960fd2eddb67\" class=\"plotly-graph-div\" style=\"height:500px; width:800px;\"></div>            <script type=\"text/javascript\">                require([\"plotly\"], function(Plotly) {                    window.PLOTLYENV=window.PLOTLYENV || {};                                    if (document.getElementById(\"9595d1d3-3b0a-44d0-8ec6-960fd2eddb67\")) {                    Plotly.newPlot(                        \"9595d1d3-3b0a-44d0-8ec6-960fd2eddb67\",                        [{\"marker\": {\"color\": \"orangered\"}, \"mode\": \"lines+markers\", \"name\": \"Total Sales Qty\", \"type\": \"scatter\", \"x\": [0, 1, 2, 3, 4, 5, 6, 7, 8, 9, 10, 11, 12, 13, 14, 15, 16, 17, 18, 19, 20, 21, 22, 23, 24, 25, 26, 27, 28, 29, 30, 31, 32, 33], \"y\": [126780.0, 121890.0, 135783.0, 103165.0, 99521.0, 110435.0, 107052.0, 114457.0, 109207.0, 107274.0, 110388.0, 160307.0, 108147.0, 100902.0, 102858.0, 84818.0, 88059.0, 89515.0, 84197.0, 94272.0, 82661.0, 92327.0, 98404.0, 146626.0, 97433.0, 79141.0, 76797.0, 62550.0, 60331.0, 59274.0, 59335.0, 61784.0, 57672.0, 61583.0]}],                        {\"height\": 500, \"template\": {\"data\": {\"bar\": [{\"error_x\": {\"color\": \"rgb(51,51,51)\"}, \"error_y\": {\"color\": \"rgb(51,51,51)\"}, \"marker\": {\"line\": {\"color\": \"rgb(237,237,237)\", \"width\": 0.5}}, \"type\": \"bar\"}], \"barpolar\": [{\"marker\": {\"line\": {\"color\": \"rgb(237,237,237)\", \"width\": 0.5}}, \"type\": \"barpolar\"}], \"carpet\": [{\"aaxis\": {\"endlinecolor\": \"rgb(51,51,51)\", \"gridcolor\": \"white\", \"linecolor\": \"white\", \"minorgridcolor\": \"white\", \"startlinecolor\": \"rgb(51,51,51)\"}, \"baxis\": {\"endlinecolor\": \"rgb(51,51,51)\", \"gridcolor\": \"white\", \"linecolor\": \"white\", \"minorgridcolor\": \"white\", \"startlinecolor\": \"rgb(51,51,51)\"}, \"type\": \"carpet\"}], \"choropleth\": [{\"colorbar\": {\"outlinewidth\": 0, \"tickcolor\": \"rgb(237,237,237)\", \"ticklen\": 6, \"ticks\": \"inside\"}, \"type\": \"choropleth\"}], \"contour\": [{\"colorbar\": {\"outlinewidth\": 0, \"tickcolor\": \"rgb(237,237,237)\", \"ticklen\": 6, \"ticks\": \"inside\"}, \"colorscale\": [[0, \"rgb(20,44,66)\"], [1, \"rgb(90,179,244)\"]], \"type\": \"contour\"}], \"contourcarpet\": [{\"colorbar\": {\"outlinewidth\": 0, \"tickcolor\": \"rgb(237,237,237)\", \"ticklen\": 6, \"ticks\": \"inside\"}, \"type\": \"contourcarpet\"}], \"heatmap\": [{\"colorbar\": {\"outlinewidth\": 0, \"tickcolor\": \"rgb(237,237,237)\", \"ticklen\": 6, \"ticks\": \"inside\"}, \"colorscale\": [[0, \"rgb(20,44,66)\"], [1, \"rgb(90,179,244)\"]], \"type\": \"heatmap\"}], \"heatmapgl\": [{\"colorbar\": {\"outlinewidth\": 0, \"tickcolor\": \"rgb(237,237,237)\", \"ticklen\": 6, \"ticks\": \"inside\"}, \"colorscale\": [[0, \"rgb(20,44,66)\"], [1, \"rgb(90,179,244)\"]], \"type\": \"heatmapgl\"}], \"histogram\": [{\"marker\": {\"colorbar\": {\"outlinewidth\": 0, \"tickcolor\": \"rgb(237,237,237)\", \"ticklen\": 6, \"ticks\": \"inside\"}}, \"type\": \"histogram\"}], \"histogram2d\": [{\"colorbar\": {\"outlinewidth\": 0, \"tickcolor\": \"rgb(237,237,237)\", \"ticklen\": 6, \"ticks\": \"inside\"}, \"colorscale\": [[0, \"rgb(20,44,66)\"], [1, \"rgb(90,179,244)\"]], \"type\": \"histogram2d\"}], \"histogram2dcontour\": [{\"colorbar\": {\"outlinewidth\": 0, \"tickcolor\": \"rgb(237,237,237)\", \"ticklen\": 6, \"ticks\": \"inside\"}, \"colorscale\": [[0, \"rgb(20,44,66)\"], [1, \"rgb(90,179,244)\"]], \"type\": \"histogram2dcontour\"}], \"mesh3d\": [{\"colorbar\": {\"outlinewidth\": 0, \"tickcolor\": \"rgb(237,237,237)\", \"ticklen\": 6, \"ticks\": \"inside\"}, \"type\": \"mesh3d\"}], \"parcoords\": [{\"line\": {\"colorbar\": {\"outlinewidth\": 0, \"tickcolor\": \"rgb(237,237,237)\", \"ticklen\": 6, \"ticks\": \"inside\"}}, \"type\": \"parcoords\"}], \"pie\": [{\"automargin\": true, \"type\": \"pie\"}], \"scatter\": [{\"marker\": {\"colorbar\": {\"outlinewidth\": 0, \"tickcolor\": \"rgb(237,237,237)\", \"ticklen\": 6, \"ticks\": \"inside\"}}, \"type\": \"scatter\"}], \"scatter3d\": [{\"line\": {\"colorbar\": {\"outlinewidth\": 0, \"tickcolor\": \"rgb(237,237,237)\", \"ticklen\": 6, \"ticks\": \"inside\"}}, \"marker\": {\"colorbar\": {\"outlinewidth\": 0, \"tickcolor\": \"rgb(237,237,237)\", \"ticklen\": 6, \"ticks\": \"inside\"}}, \"type\": \"scatter3d\"}], \"scattercarpet\": [{\"marker\": {\"colorbar\": {\"outlinewidth\": 0, \"tickcolor\": \"rgb(237,237,237)\", \"ticklen\": 6, \"ticks\": \"inside\"}}, \"type\": \"scattercarpet\"}], \"scattergeo\": [{\"marker\": {\"colorbar\": {\"outlinewidth\": 0, \"tickcolor\": \"rgb(237,237,237)\", \"ticklen\": 6, \"ticks\": \"inside\"}}, \"type\": \"scattergeo\"}], \"scattergl\": [{\"marker\": {\"colorbar\": {\"outlinewidth\": 0, \"tickcolor\": \"rgb(237,237,237)\", \"ticklen\": 6, \"ticks\": \"inside\"}}, \"type\": \"scattergl\"}], \"scattermapbox\": [{\"marker\": {\"colorbar\": {\"outlinewidth\": 0, \"tickcolor\": \"rgb(237,237,237)\", \"ticklen\": 6, \"ticks\": \"inside\"}}, \"type\": \"scattermapbox\"}], \"scatterpolar\": [{\"marker\": {\"colorbar\": {\"outlinewidth\": 0, \"tickcolor\": \"rgb(237,237,237)\", \"ticklen\": 6, \"ticks\": \"inside\"}}, \"type\": \"scatterpolar\"}], \"scatterpolargl\": [{\"marker\": {\"colorbar\": {\"outlinewidth\": 0, \"tickcolor\": \"rgb(237,237,237)\", \"ticklen\": 6, \"ticks\": \"inside\"}}, \"type\": \"scatterpolargl\"}], \"scatterternary\": [{\"marker\": {\"colorbar\": {\"outlinewidth\": 0, \"tickcolor\": \"rgb(237,237,237)\", \"ticklen\": 6, \"ticks\": \"inside\"}}, \"type\": \"scatterternary\"}], \"surface\": [{\"colorbar\": {\"outlinewidth\": 0, \"tickcolor\": \"rgb(237,237,237)\", \"ticklen\": 6, \"ticks\": \"inside\"}, \"colorscale\": [[0, \"rgb(20,44,66)\"], [1, \"rgb(90,179,244)\"]], \"type\": \"surface\"}], \"table\": [{\"cells\": {\"fill\": {\"color\": \"rgb(237,237,237)\"}, \"line\": {\"color\": \"white\"}}, \"header\": {\"fill\": {\"color\": \"rgb(217,217,217)\"}, \"line\": {\"color\": \"white\"}}, \"type\": \"table\"}]}, \"layout\": {\"annotationdefaults\": {\"arrowhead\": 0, \"arrowwidth\": 1}, \"coloraxis\": {\"colorbar\": {\"outlinewidth\": 0, \"tickcolor\": \"rgb(237,237,237)\", \"ticklen\": 6, \"ticks\": \"inside\"}}, \"colorscale\": {\"sequential\": [[0, \"rgb(20,44,66)\"], [1, \"rgb(90,179,244)\"]], \"sequentialminus\": [[0, \"rgb(20,44,66)\"], [1, \"rgb(90,179,244)\"]]}, \"colorway\": [\"#F8766D\", \"#A3A500\", \"#00BF7D\", \"#00B0F6\", \"#E76BF3\"], \"font\": {\"color\": \"rgb(51,51,51)\"}, \"geo\": {\"bgcolor\": \"white\", \"lakecolor\": \"white\", \"landcolor\": \"rgb(237,237,237)\", \"showlakes\": true, \"showland\": true, \"subunitcolor\": \"white\"}, \"hoverlabel\": {\"align\": \"left\"}, \"hovermode\": \"closest\", \"paper_bgcolor\": \"white\", \"plot_bgcolor\": \"rgb(237,237,237)\", \"polar\": {\"angularaxis\": {\"gridcolor\": \"white\", \"linecolor\": \"white\", \"showgrid\": true, \"tickcolor\": \"rgb(51,51,51)\", \"ticks\": \"outside\"}, \"bgcolor\": \"rgb(237,237,237)\", \"radialaxis\": {\"gridcolor\": \"white\", \"linecolor\": \"white\", \"showgrid\": true, \"tickcolor\": \"rgb(51,51,51)\", \"ticks\": \"outside\"}}, \"scene\": {\"xaxis\": {\"backgroundcolor\": \"rgb(237,237,237)\", \"gridcolor\": \"white\", \"gridwidth\": 2, \"linecolor\": \"white\", \"showbackground\": true, \"showgrid\": true, \"tickcolor\": \"rgb(51,51,51)\", \"ticks\": \"outside\", \"zerolinecolor\": \"white\"}, \"yaxis\": {\"backgroundcolor\": \"rgb(237,237,237)\", \"gridcolor\": \"white\", \"gridwidth\": 2, \"linecolor\": \"white\", \"showbackground\": true, \"showgrid\": true, \"tickcolor\": \"rgb(51,51,51)\", \"ticks\": \"outside\", \"zerolinecolor\": \"white\"}, \"zaxis\": {\"backgroundcolor\": \"rgb(237,237,237)\", \"gridcolor\": \"white\", \"gridwidth\": 2, \"linecolor\": \"white\", \"showbackground\": true, \"showgrid\": true, \"tickcolor\": \"rgb(51,51,51)\", \"ticks\": \"outside\", \"zerolinecolor\": \"white\"}}, \"shapedefaults\": {\"fillcolor\": \"black\", \"line\": {\"width\": 0}, \"opacity\": 0.3}, \"ternary\": {\"aaxis\": {\"gridcolor\": \"white\", \"linecolor\": \"white\", \"showgrid\": true, \"tickcolor\": \"rgb(51,51,51)\", \"ticks\": \"outside\"}, \"baxis\": {\"gridcolor\": \"white\", \"linecolor\": \"white\", \"showgrid\": true, \"tickcolor\": \"rgb(51,51,51)\", \"ticks\": \"outside\"}, \"bgcolor\": \"rgb(237,237,237)\", \"caxis\": {\"gridcolor\": \"white\", \"linecolor\": \"white\", \"showgrid\": true, \"tickcolor\": \"rgb(51,51,51)\", \"ticks\": \"outside\"}}, \"xaxis\": {\"automargin\": true, \"gridcolor\": \"white\", \"linecolor\": \"white\", \"showgrid\": true, \"tickcolor\": \"rgb(51,51,51)\", \"ticks\": \"outside\", \"title\": {\"standoff\": 15}, \"zerolinecolor\": \"white\"}, \"yaxis\": {\"automargin\": true, \"gridcolor\": \"white\", \"linecolor\": \"white\", \"showgrid\": true, \"tickcolor\": \"rgb(51,51,51)\", \"ticks\": \"outside\", \"title\": {\"standoff\": 15}, \"zerolinecolor\": \"white\"}}}, \"title\": {\"font\": {\"color\": \"darkslateblue\", \"size\": 20}, \"text\": \"Sales by Date Block\"}, \"width\": 800, \"xaxis\": {\"tickfont\": {\"size\": 16}, \"title\": {\"font\": {\"size\": 20}, \"text\": \"Date Block\"}}, \"yaxis\": {\"nticks\": 8, \"tickfont\": {\"size\": 16}, \"title\": {\"font\": {\"size\": 20}, \"text\": \"Total Units Sold\"}}},                        {\"responsive\": true}                    ).then(function(){\n",
       "                            \n",
       "var gd = document.getElementById('9595d1d3-3b0a-44d0-8ec6-960fd2eddb67');\n",
       "var x = new MutationObserver(function (mutations, observer) {{\n",
       "        var display = window.getComputedStyle(gd).display;\n",
       "        if (!display || display === 'none') {{\n",
       "            console.log([gd, 'removed!']);\n",
       "            Plotly.purge(gd);\n",
       "            observer.disconnect();\n",
       "        }}\n",
       "}});\n",
       "\n",
       "// Listen for the removal of the full notebook cells\n",
       "var notebookContainer = gd.closest('#notebook-container');\n",
       "if (notebookContainer) {{\n",
       "    x.observe(notebookContainer, {childList: true});\n",
       "}}\n",
       "\n",
       "// Listen for the clearing of the current output cell\n",
       "var outputEl = gd.closest('.output');\n",
       "if (outputEl) {{\n",
       "    x.observe(outputEl, {childList: true});\n",
       "}}\n",
       "\n",
       "                        })                };                });            </script>        </div>"
      ]
     },
     "metadata": {},
     "output_type": "display_data"
    }
   ],
   "source": [
    "def plot_sales_per_dblock():\n",
    "    fig = plotly.graph_objects.Figure()\n",
    "    # group the dataframe before plotting. \n",
    "    # This way works much faster than letting plotly do the grouping\n",
    "    vizdata = df[df[\"item_cnt_month\"]>0].groupby(by=[\"date_block_num\"], as_index=False).sum()\n",
    "\n",
    "    fig.add_trace(\n",
    "        go.Scatter(\n",
    "            x=vizdata[\"date_block_num\"],\n",
    "            y=vizdata[\"item_cnt_month\"],\n",
    "            marker_color=\"orangered\",\n",
    "            mode=\"lines+markers\",\n",
    "            name=\"Total Sales Qty\",\n",
    "        )\n",
    "    )\n",
    "\n",
    "    fig.update_xaxes(\n",
    "        title_text=\"Date Block\", titlefont=dict(size=20), tickfont=dict(size=16)\n",
    "    )\n",
    "    fig.update_yaxes(\n",
    "        title_text=\"Total Units Sold\",\n",
    "        titlefont=dict(size=20),\n",
    "        nticks=8,\n",
    "        tickfont=dict(size=16),\n",
    "    )\n",
    "\n",
    "    fig.update_layout(\n",
    "        height=500,\n",
    "        width=800,\n",
    "        template=\"ggplot2\",\n",
    "        title=go.layout.Title(\n",
    "            text=\"Sales by Date Block\", font=dict(size=20, color=\"darkslateblue\")\n",
    "        ),\n",
    "    )\n",
    "\n",
    "    return fig\n",
    "\n",
    "plot_sales_per_dblock().show()"
   ]
  },
  {
   "cell_type": "markdown",
   "metadata": {
    "papermill": {
     "duration": 0.063139,
     "end_time": "2020-10-20T12:38:10.323609",
     "exception": false,
     "start_time": "2020-10-20T12:38:10.260470",
     "status": "completed"
    },
    "tags": []
   },
   "source": [
    "There is an overall downward trend, and seasonality that shows peak sales around December.\n",
    "\n",
    "In the next step I'll plot monthly/yearly sales to understand the seasonality better.<br>\n",
    "We have 12 months worth of data for 2013 and 2014. For 2015, we are missing November and December data. This will cause a misleading graph if I just plot total sales qty by month. To overcome that, I plot **average** sales qty for monthly and yearly visualization."
   ]
  },
  {
   "cell_type": "code",
   "execution_count": 34,
   "metadata": {
    "_kg_hide-input": true,
    "execution": {
     "iopub.execute_input": "2020-10-20T12:38:10.464994Z",
     "iopub.status.busy": "2020-10-20T12:38:10.457487Z",
     "iopub.status.idle": "2020-10-20T12:38:15.741024Z",
     "shell.execute_reply": "2020-10-20T12:38:15.740485Z"
    },
    "papermill": {
     "duration": 5.354713,
     "end_time": "2020-10-20T12:38:15.741150",
     "exception": false,
     "start_time": "2020-10-20T12:38:10.386437",
     "status": "completed"
    },
    "tags": []
   },
   "outputs": [
    {
     "data": {
      "text/html": [
       "<div>                            <div id=\"bc26981f-18fa-4ba4-b014-131985f8fca3\" class=\"plotly-graph-div\" style=\"height:800px; width:800px;\"></div>            <script type=\"text/javascript\">                require([\"plotly\"], function(Plotly) {                    window.PLOTLYENV=window.PLOTLYENV || {};                                    if (document.getElementById(\"bc26981f-18fa-4ba4-b014-131985f8fca3\")) {                    Plotly.newPlot(                        \"bc26981f-18fa-4ba4-b014-131985f8fca3\",                        [{\"marker\": {\"color\": \"indianred\"}, \"mode\": \"lines+markers\", \"name\": \"avg sales_by_month\", \"type\": \"scatter\", \"x\": [1, 2, 3, 4, 5, 6, 7, 8, 9, 10, 11, 12], \"xaxis\": \"x\", \"y\": [0.3260122239589691, 0.30548179149627686, 0.3140311539173126, 0.2598976194858551, 0.2650683522224426, 0.275288462638855, 0.2648686170578003, 0.300421804189682, 0.2846599221229553, 0.2786456048488617, 0.30699965357780457, 0.4262911081314087], \"yaxis\": \"y\"}, {\"marker\": {\"color\": \"royalblue\", \"line\": {\"width\": 2}}, \"name\": \"avg sales_by_year\", \"text\": [0.31328800320625305, 0.29769790172576904, 0.2719288170337677], \"textfont\": {\"size\": 18}, \"textposition\": \"inside\", \"texttemplate\": \"%{text:.2f}\", \"type\": \"bar\", \"width\": 1.2, \"x\": [2013, 2014, 2015], \"xaxis\": \"x2\", \"y\": [0.31328800320625305, 0.29769790172576904, 0.2719288170337677], \"yaxis\": \"y2\"}],                        {\"height\": 800, \"showlegend\": false, \"template\": {\"data\": {\"bar\": [{\"error_x\": {\"color\": \"rgb(51,51,51)\"}, \"error_y\": {\"color\": \"rgb(51,51,51)\"}, \"marker\": {\"line\": {\"color\": \"rgb(237,237,237)\", \"width\": 0.5}}, \"type\": \"bar\"}], \"barpolar\": [{\"marker\": {\"line\": {\"color\": \"rgb(237,237,237)\", \"width\": 0.5}}, \"type\": \"barpolar\"}], \"carpet\": [{\"aaxis\": {\"endlinecolor\": \"rgb(51,51,51)\", \"gridcolor\": \"white\", \"linecolor\": \"white\", \"minorgridcolor\": \"white\", \"startlinecolor\": \"rgb(51,51,51)\"}, \"baxis\": {\"endlinecolor\": \"rgb(51,51,51)\", \"gridcolor\": \"white\", \"linecolor\": \"white\", \"minorgridcolor\": \"white\", \"startlinecolor\": \"rgb(51,51,51)\"}, \"type\": \"carpet\"}], \"choropleth\": [{\"colorbar\": {\"outlinewidth\": 0, \"tickcolor\": \"rgb(237,237,237)\", \"ticklen\": 6, \"ticks\": \"inside\"}, \"type\": \"choropleth\"}], \"contour\": [{\"colorbar\": {\"outlinewidth\": 0, \"tickcolor\": \"rgb(237,237,237)\", \"ticklen\": 6, \"ticks\": \"inside\"}, \"colorscale\": [[0, \"rgb(20,44,66)\"], [1, \"rgb(90,179,244)\"]], \"type\": \"contour\"}], \"contourcarpet\": [{\"colorbar\": {\"outlinewidth\": 0, \"tickcolor\": \"rgb(237,237,237)\", \"ticklen\": 6, \"ticks\": \"inside\"}, \"type\": \"contourcarpet\"}], \"heatmap\": [{\"colorbar\": {\"outlinewidth\": 0, \"tickcolor\": \"rgb(237,237,237)\", \"ticklen\": 6, \"ticks\": \"inside\"}, \"colorscale\": [[0, \"rgb(20,44,66)\"], [1, \"rgb(90,179,244)\"]], \"type\": \"heatmap\"}], \"heatmapgl\": [{\"colorbar\": {\"outlinewidth\": 0, \"tickcolor\": \"rgb(237,237,237)\", \"ticklen\": 6, \"ticks\": \"inside\"}, \"colorscale\": [[0, \"rgb(20,44,66)\"], [1, \"rgb(90,179,244)\"]], \"type\": \"heatmapgl\"}], \"histogram\": [{\"marker\": {\"colorbar\": {\"outlinewidth\": 0, \"tickcolor\": \"rgb(237,237,237)\", \"ticklen\": 6, \"ticks\": \"inside\"}}, \"type\": \"histogram\"}], \"histogram2d\": [{\"colorbar\": {\"outlinewidth\": 0, \"tickcolor\": \"rgb(237,237,237)\", \"ticklen\": 6, \"ticks\": \"inside\"}, \"colorscale\": [[0, \"rgb(20,44,66)\"], [1, \"rgb(90,179,244)\"]], \"type\": \"histogram2d\"}], \"histogram2dcontour\": [{\"colorbar\": {\"outlinewidth\": 0, \"tickcolor\": \"rgb(237,237,237)\", \"ticklen\": 6, \"ticks\": \"inside\"}, \"colorscale\": [[0, \"rgb(20,44,66)\"], [1, \"rgb(90,179,244)\"]], \"type\": \"histogram2dcontour\"}], \"mesh3d\": [{\"colorbar\": {\"outlinewidth\": 0, \"tickcolor\": \"rgb(237,237,237)\", \"ticklen\": 6, \"ticks\": \"inside\"}, \"type\": \"mesh3d\"}], \"parcoords\": [{\"line\": {\"colorbar\": {\"outlinewidth\": 0, \"tickcolor\": \"rgb(237,237,237)\", \"ticklen\": 6, \"ticks\": \"inside\"}}, \"type\": \"parcoords\"}], \"pie\": [{\"automargin\": true, \"type\": \"pie\"}], \"scatter\": [{\"marker\": {\"colorbar\": {\"outlinewidth\": 0, \"tickcolor\": \"rgb(237,237,237)\", \"ticklen\": 6, \"ticks\": \"inside\"}}, \"type\": \"scatter\"}], \"scatter3d\": [{\"line\": {\"colorbar\": {\"outlinewidth\": 0, \"tickcolor\": \"rgb(237,237,237)\", \"ticklen\": 6, \"ticks\": \"inside\"}}, \"marker\": {\"colorbar\": {\"outlinewidth\": 0, \"tickcolor\": \"rgb(237,237,237)\", \"ticklen\": 6, \"ticks\": \"inside\"}}, \"type\": \"scatter3d\"}], \"scattercarpet\": [{\"marker\": {\"colorbar\": {\"outlinewidth\": 0, \"tickcolor\": \"rgb(237,237,237)\", \"ticklen\": 6, \"ticks\": \"inside\"}}, \"type\": \"scattercarpet\"}], \"scattergeo\": [{\"marker\": {\"colorbar\": {\"outlinewidth\": 0, \"tickcolor\": \"rgb(237,237,237)\", \"ticklen\": 6, \"ticks\": \"inside\"}}, \"type\": \"scattergeo\"}], \"scattergl\": [{\"marker\": {\"colorbar\": {\"outlinewidth\": 0, \"tickcolor\": \"rgb(237,237,237)\", \"ticklen\": 6, \"ticks\": \"inside\"}}, \"type\": \"scattergl\"}], \"scattermapbox\": [{\"marker\": {\"colorbar\": {\"outlinewidth\": 0, \"tickcolor\": \"rgb(237,237,237)\", \"ticklen\": 6, \"ticks\": \"inside\"}}, \"type\": \"scattermapbox\"}], \"scatterpolar\": [{\"marker\": {\"colorbar\": {\"outlinewidth\": 0, \"tickcolor\": \"rgb(237,237,237)\", \"ticklen\": 6, \"ticks\": \"inside\"}}, \"type\": \"scatterpolar\"}], \"scatterpolargl\": [{\"marker\": {\"colorbar\": {\"outlinewidth\": 0, \"tickcolor\": \"rgb(237,237,237)\", \"ticklen\": 6, \"ticks\": \"inside\"}}, \"type\": \"scatterpolargl\"}], \"scatterternary\": [{\"marker\": {\"colorbar\": {\"outlinewidth\": 0, \"tickcolor\": \"rgb(237,237,237)\", \"ticklen\": 6, \"ticks\": \"inside\"}}, \"type\": \"scatterternary\"}], \"surface\": [{\"colorbar\": {\"outlinewidth\": 0, \"tickcolor\": \"rgb(237,237,237)\", \"ticklen\": 6, \"ticks\": \"inside\"}, \"colorscale\": [[0, \"rgb(20,44,66)\"], [1, \"rgb(90,179,244)\"]], \"type\": \"surface\"}], \"table\": [{\"cells\": {\"fill\": {\"color\": \"rgb(237,237,237)\"}, \"line\": {\"color\": \"white\"}}, \"header\": {\"fill\": {\"color\": \"rgb(217,217,217)\"}, \"line\": {\"color\": \"white\"}}, \"type\": \"table\"}]}, \"layout\": {\"annotationdefaults\": {\"arrowhead\": 0, \"arrowwidth\": 1}, \"coloraxis\": {\"colorbar\": {\"outlinewidth\": 0, \"tickcolor\": \"rgb(237,237,237)\", \"ticklen\": 6, \"ticks\": \"inside\"}}, \"colorscale\": {\"sequential\": [[0, \"rgb(20,44,66)\"], [1, \"rgb(90,179,244)\"]], \"sequentialminus\": [[0, \"rgb(20,44,66)\"], [1, \"rgb(90,179,244)\"]]}, \"colorway\": [\"#F8766D\", \"#A3A500\", \"#00BF7D\", \"#00B0F6\", \"#E76BF3\"], \"font\": {\"color\": \"rgb(51,51,51)\"}, \"geo\": {\"bgcolor\": \"white\", \"lakecolor\": \"white\", \"landcolor\": \"rgb(237,237,237)\", \"showlakes\": true, \"showland\": true, \"subunitcolor\": \"white\"}, \"hoverlabel\": {\"align\": \"left\"}, \"hovermode\": \"closest\", \"paper_bgcolor\": \"white\", \"plot_bgcolor\": \"rgb(237,237,237)\", \"polar\": {\"angularaxis\": {\"gridcolor\": \"white\", \"linecolor\": \"white\", \"showgrid\": true, \"tickcolor\": \"rgb(51,51,51)\", \"ticks\": \"outside\"}, \"bgcolor\": \"rgb(237,237,237)\", \"radialaxis\": {\"gridcolor\": \"white\", \"linecolor\": \"white\", \"showgrid\": true, \"tickcolor\": \"rgb(51,51,51)\", \"ticks\": \"outside\"}}, \"scene\": {\"xaxis\": {\"backgroundcolor\": \"rgb(237,237,237)\", \"gridcolor\": \"white\", \"gridwidth\": 2, \"linecolor\": \"white\", \"showbackground\": true, \"showgrid\": true, \"tickcolor\": \"rgb(51,51,51)\", \"ticks\": \"outside\", \"zerolinecolor\": \"white\"}, \"yaxis\": {\"backgroundcolor\": \"rgb(237,237,237)\", \"gridcolor\": \"white\", \"gridwidth\": 2, \"linecolor\": \"white\", \"showbackground\": true, \"showgrid\": true, \"tickcolor\": \"rgb(51,51,51)\", \"ticks\": \"outside\", \"zerolinecolor\": \"white\"}, \"zaxis\": {\"backgroundcolor\": \"rgb(237,237,237)\", \"gridcolor\": \"white\", \"gridwidth\": 2, \"linecolor\": \"white\", \"showbackground\": true, \"showgrid\": true, \"tickcolor\": \"rgb(51,51,51)\", \"ticks\": \"outside\", \"zerolinecolor\": \"white\"}}, \"shapedefaults\": {\"fillcolor\": \"black\", \"line\": {\"width\": 0}, \"opacity\": 0.3}, \"ternary\": {\"aaxis\": {\"gridcolor\": \"white\", \"linecolor\": \"white\", \"showgrid\": true, \"tickcolor\": \"rgb(51,51,51)\", \"ticks\": \"outside\"}, \"baxis\": {\"gridcolor\": \"white\", \"linecolor\": \"white\", \"showgrid\": true, \"tickcolor\": \"rgb(51,51,51)\", \"ticks\": \"outside\"}, \"bgcolor\": \"rgb(237,237,237)\", \"caxis\": {\"gridcolor\": \"white\", \"linecolor\": \"white\", \"showgrid\": true, \"tickcolor\": \"rgb(51,51,51)\", \"ticks\": \"outside\"}}, \"xaxis\": {\"automargin\": true, \"gridcolor\": \"white\", \"linecolor\": \"white\", \"showgrid\": true, \"tickcolor\": \"rgb(51,51,51)\", \"ticks\": \"outside\", \"title\": {\"standoff\": 15}, \"zerolinecolor\": \"white\"}, \"yaxis\": {\"automargin\": true, \"gridcolor\": \"white\", \"linecolor\": \"white\", \"showgrid\": true, \"tickcolor\": \"rgb(51,51,51)\", \"ticks\": \"outside\", \"title\": {\"standoff\": 15}, \"zerolinecolor\": \"white\"}}}, \"title\": {\"font\": {\"color\": \"darkslateblue\", \"size\": 20}, \"text\": \"Sales by Month / Year\"}, \"width\": 800, \"xaxis\": {\"anchor\": \"y\", \"domain\": [0.0, 1.0], \"tickangle\": 45, \"tickfont\": {\"size\": 14}, \"title\": {\"font\": {\"size\": 16}, \"text\": \"Month\"}}, \"xaxis2\": {\"anchor\": \"y2\", \"domain\": [0.0, 1.0], \"nticks\": 6, \"tickfont\": {\"size\": 14}, \"tickformat\": \".0f\", \"title\": {\"font\": {\"size\": 16}, \"text\": \"Year\"}}, \"yaxis\": {\"anchor\": \"x\", \"domain\": [0.6000000000000001, 1.0], \"tickfont\": {\"size\": 14}, \"title\": {\"font\": {\"size\": 16}, \"text\": \"Avg. Units Sold\"}}, \"yaxis2\": {\"anchor\": \"x2\", \"domain\": [0.0, 0.4], \"tickfont\": {\"size\": 14}, \"title\": {\"font\": {\"size\": 16}, \"text\": \"Avg. Units Sold\"}}},                        {\"responsive\": true}                    ).then(function(){\n",
       "                            \n",
       "var gd = document.getElementById('bc26981f-18fa-4ba4-b014-131985f8fca3');\n",
       "var x = new MutationObserver(function (mutations, observer) {{\n",
       "        var display = window.getComputedStyle(gd).display;\n",
       "        if (!display || display === 'none') {{\n",
       "            console.log([gd, 'removed!']);\n",
       "            Plotly.purge(gd);\n",
       "            observer.disconnect();\n",
       "        }}\n",
       "}});\n",
       "\n",
       "// Listen for the removal of the full notebook cells\n",
       "var notebookContainer = gd.closest('#notebook-container');\n",
       "if (notebookContainer) {{\n",
       "    x.observe(notebookContainer, {childList: true});\n",
       "}}\n",
       "\n",
       "// Listen for the clearing of the current output cell\n",
       "var outputEl = gd.closest('.output');\n",
       "if (outputEl) {{\n",
       "    x.observe(outputEl, {childList: true});\n",
       "}}\n",
       "\n",
       "                        })                };                });            </script>        </div>"
      ]
     },
     "metadata": {},
     "output_type": "display_data"
    }
   ],
   "source": [
    "def plot_sales_per_mo_yr():\n",
    "    fig = make_subplots(rows=2, cols=1, vertical_spacing=0.2)\n",
    "\n",
    "    vizdata1 = (\n",
    "        df[df[\"train\"] == 1]\n",
    "        .groupby(by=[\"month\"])\n",
    "        .mean()[\"item_cnt_month\"]\n",
    "    )\n",
    "\n",
    "    vizdata2 = (\n",
    "        df[df[\"train\"] == 1].groupby(by=[\"year\"]).mean()[\"item_cnt_month\"]\n",
    "    )\n",
    "\n",
    "    fig.add_trace(\n",
    "        go.Scatter(\n",
    "            x=vizdata1.index,\n",
    "            y=vizdata1.values,\n",
    "            marker_color=\"indianred\",\n",
    "            mode=\"lines+markers\",\n",
    "            name=\"avg sales_by_month\",\n",
    "        ),\n",
    "        row=1,\n",
    "        col=1,\n",
    "    )\n",
    "\n",
    "    fig.add_trace(\n",
    "        go.Bar(\n",
    "            x=vizdata2.index,\n",
    "            y=vizdata2.values,\n",
    "            text=vizdata2.values,\n",
    "            texttemplate=\"%{text:.2f}\",\n",
    "            width=1.2,\n",
    "            textfont=dict(size=18),\n",
    "            textposition=\"inside\",\n",
    "            marker_line_width=2,\n",
    "            marker_color=\"royalblue\",\n",
    "            name=\"avg sales_by_year\",\n",
    "        ),\n",
    "        row=2,\n",
    "        col=1,\n",
    "    )\n",
    "\n",
    "    ticksize = 14\n",
    "    xstitlesize = 16\n",
    "\n",
    "    fig.update_xaxes(\n",
    "        title_text=\"Month\",\n",
    "        titlefont=dict(size=xstitlesize),\n",
    "        tickfont=dict(size=ticksize),\n",
    "        tickangle=45,\n",
    "        row=1,\n",
    "        col=1,\n",
    "    )\n",
    "\n",
    "    fig.update_xaxes(\n",
    "        title_text=\"Year\",\n",
    "        titlefont=dict(size=xstitlesize),\n",
    "        tickfont=dict(size=ticksize),\n",
    "        nticks=6,\n",
    "        row=2,\n",
    "        col=1,\n",
    "        tickformat=\".0f\",\n",
    "    )\n",
    "\n",
    "\n",
    "    fig.update_yaxes(\n",
    "        title_text=\"Avg. Units Sold\",\n",
    "        titlefont=dict(size=xstitlesize),\n",
    "        tickfont=dict(size=ticksize),\n",
    "        row=1,\n",
    "        col=1,\n",
    "    )\n",
    "\n",
    "    fig.update_yaxes(\n",
    "        title_text=\"Avg. Units Sold\",\n",
    "        titlefont=dict(size=xstitlesize),\n",
    "        tickfont=dict(size=ticksize),\n",
    "        row=2,\n",
    "        col=1,\n",
    "    )\n",
    "\n",
    "    fig.update_layout(\n",
    "        height=800,\n",
    "        width=800,\n",
    "        showlegend=False,\n",
    "        template=\"ggplot2\",\n",
    "        title=go.layout.Title(\n",
    "            text=\"Sales by Month / Year\", font=dict(size=20, color=\"darkslateblue\")\n",
    "        ),\n",
    "    )\n",
    "\n",
    "    return fig.show()\n",
    "\n",
    "\n",
    "plot_sales_per_mo_yr()"
   ]
  },
  {
   "cell_type": "markdown",
   "metadata": {
    "papermill": {
     "duration": 0.068613,
     "end_time": "2020-10-20T12:38:15.874684",
     "exception": false,
     "start_time": "2020-10-20T12:38:15.806071",
     "status": "completed"
    },
    "tags": []
   },
   "source": [
    "Visualizing sales quantities per item categories and shops in the next steps"
   ]
  },
  {
   "cell_type": "code",
   "execution_count": 35,
   "metadata": {
    "_kg_hide-input": true,
    "execution": {
     "iopub.execute_input": "2020-10-20T12:38:16.014377Z",
     "iopub.status.busy": "2020-10-20T12:38:16.013195Z",
     "iopub.status.idle": "2020-10-20T12:38:21.084184Z",
     "shell.execute_reply": "2020-10-20T12:38:21.083370Z"
    },
    "papermill": {
     "duration": 5.14629,
     "end_time": "2020-10-20T12:38:21.084387",
     "exception": false,
     "start_time": "2020-10-20T12:38:15.938097",
     "status": "completed"
    },
    "tags": []
   },
   "outputs": [
    {
     "data": {
      "text/html": [
       "<div>                            <div id=\"d2c931dd-ad01-4488-b96e-7a1a42317e02\" class=\"plotly-graph-div\" style=\"height:800px; width:800px;\"></div>            <script type=\"text/javascript\">                require([\"plotly\"], function(Plotly) {                    window.PLOTLYENV=window.PLOTLYENV || {};                                    if (document.getElementById(\"d2c931dd-ad01-4488-b96e-7a1a42317e02\")) {                    Plotly.newPlot(                        \"d2c931dd-ad01-4488-b96e-7a1a42317e02\",                        [{\"labels\": [\"Blank Media\", \"Books\", \"Console Accessories\", \"Game Accessories\", \"Game Consoles\", \"Games\", \"Gifts\", \"Misc\", \"Mobile Games\", \"Movies\", \"Music\", \"Office\", \"Payment Cards\", \"Programs\", \"Tickets\", \"Blank media (piece)\", \"Blank media (spire)\", \"Books - Artbooks, encyclopedias\", \"Books - Audiobooks\", \"Books - Audiobooks (Digital)\", \"Books - Audiobooks 1C\", \"Books - Business Literature\", \"Books - Comics, manga\", \"Books - Computer Literature\", \"Books - Educational literature\", \"Books - Fiction\", \"Books - Guides\", \"Books - Methodical materials 1C\", \"Books - Number\", \"Books - Postcards\", \"Accessories - PS2\", \"Accessories - PS3\", \"Accessories - PS4\", \"Accessories - PSP\", \"Accessories - PSVita\", \"Accessories - XBOX 360\", \"Accessories - XBOX ONE\", \"Games - Game Accessories\", \"Game Consoles - Other\", \"Game consoles - PS2\", \"Game consoles - PS3\", \"Game consoles - PS4\", \"Game consoles - PSP\", \"Game consoles - PSVita\", \"Game consoles - XBOX 360\", \"Game consoles - XBOX ONE\", \"Games - PS2\", \"Games - PS3\", \"Games - PS4\", \"Games - PSP\", \"Games - PSVita\", \"Games - XBOX 360\", \"PC Games - Additional Editions\", \"PC Games - Collector's Editions\", \"PC Games - Number\", \"PC Games - Standard Editions\", \"\\u0418\\u0433\\u0440\\u044b - XBOX ONE\", \"Gifts - Attributes\", \"Gifts - Bags, Albums, Mouse Pads\", \"Gifts - Board Games\", \"Gifts - Board Games (Compact)\", \"Gifts - Certificates, services\", \"Gifts - Development\", \"Gifts - Figures\", \"Gifts - Gadgets, Robots, Sports\", \"Gifts - Postcards, stickers\", \"Gifts - Souvenirs\", \"Gifts - Souvenirs (hinged)\", \"Gifts - Stuffed Toys\", \"Batteries\", \"Delivery of goods\", \"PC - Headsets / Headphones\", \"Service - Tickets\", \"Android Games - Number\", \"MAC Games - Number\", \"Cinema - Blu-Ray 3D\", \"Cinema - Blu-Ray 4K\", \"Cinema - Collector's\", \"Movie - Blu-Ray\", \"Movie - DVD\", \"Music - Gift Editions\", \"Music - MP3\", \"Music - Music video\", \"Music - Vinyl\", \"Music - branded CD\", \"Music - locally produced CD\", \"Service\", \"Payment Cards - Windows (Digital)\", \"Payment cards (Cinema, Music, Games)\", \"Payment cards - Live!\", \"Payment cards - Live! (Numeral)\", \"Payment cards - PSN\", \"Programs - 1C: Enterprise 8\", \"Programs - Educational\", \"Programs - Educational (Digital)\", \"Programs - For Home and Office\", \"Programs - For Home and Office (Digital)\", \"Programs - MAC (Digit)\", \"Tickets (Number)\"], \"parents\": [\"\", \"\", \"\", \"\", \"\", \"\", \"\", \"\", \"\", \"\", \"\", \"\", \"\", \"\", \"\", \"Blank Media\", \"Blank Media\", \"Books\", \"Books\", \"Books\", \"Books\", \"Books\", \"Books\", \"Books\", \"Books\", \"Books\", \"Books\", \"Books\", \"Books\", \"Books\", \"Console Accessories\", \"Console Accessories\", \"Console Accessories\", \"Console Accessories\", \"Console Accessories\", \"Console Accessories\", \"Console Accessories\", \"Game Accessories\", \"Game Consoles\", \"Game Consoles\", \"Game Consoles\", \"Game Consoles\", \"Game Consoles\", \"Game Consoles\", \"Game Consoles\", \"Game Consoles\", \"Games\", \"Games\", \"Games\", \"Games\", \"Games\", \"Games\", \"Games\", \"Games\", \"Games\", \"Games\", \"Games\", \"Gifts\", \"Gifts\", \"Gifts\", \"Gifts\", \"Gifts\", \"Gifts\", \"Gifts\", \"Gifts\", \"Gifts\", \"Gifts\", \"Gifts\", \"Gifts\", \"Misc\", \"Misc\", \"Misc\", \"Misc\", \"Mobile Games\", \"Mobile Games\", \"Movies\", \"Movies\", \"Movies\", \"Movies\", \"Movies\", \"Music\", \"Music\", \"Music\", \"Music\", \"Music\", \"Music\", \"Office\", \"Payment Cards\", \"Payment Cards\", \"Payment Cards\", \"Payment Cards\", \"Payment Cards\", \"Programs\", \"Programs\", \"Programs\", \"Programs\", \"Programs\", \"Programs\", \"Tickets\"], \"type\": \"sunburst\", \"values\": [9311.0, 74478.0, 83662.0, 19494.0, 28709.0, 1178188.0, 412454.0, 16897.0, 115.0, 890167.0, 410663.0, 11247.0, 45540.0, 71151.0, 2869.0, 8346.0, 965.0, 3543.0, 26599.0, 252.0, 5237.0, 15.0, 6485.0, 6.0, 1.0, 3.0, 3.0, 26268.0, 6063.0, 3.0, 2.0, 19528.0, 28919.0, 2411.0, 7416.0, 20309.0, 5077.0, 19494.0, 299.0, 1.0, 6406.0, 9922.0, 362.0, 3079.0, 5897.0, 2743.0, 11.0, 235958.0, 104494.0, 33084.0, 25003.0, 162984.0, 148700.0, 18076.0, 24331.0, 408753.0, 16794.0, 14828.0, 25544.0, 39284.0, 70203.0, 129.0, 44170.0, 51161.0, 28835.0, 5738.0, 30541.0, 42433.0, 59588.0, 11516.0, 3395.0, 3.0, 1983.0, 107.0, 8.0, 44956.0, 646.0, 33820.0, 202083.0, 608662.0, 1501.0, 32688.0, 6613.0, 13656.0, 8215.0, 347990.0, 11247.0, 22.0, 6136.0, 8595.0, 1554.0, 29233.0, 14233.0, 3904.0, 2510.0, 46539.0, 3906.0, 59.0, 2869.0]}],                        {\"height\": 800, \"template\": {\"data\": {\"bar\": [{\"error_x\": {\"color\": \"rgb(51,51,51)\"}, \"error_y\": {\"color\": \"rgb(51,51,51)\"}, \"marker\": {\"line\": {\"color\": \"rgb(237,237,237)\", \"width\": 0.5}}, \"type\": \"bar\"}], \"barpolar\": [{\"marker\": {\"line\": {\"color\": \"rgb(237,237,237)\", \"width\": 0.5}}, \"type\": \"barpolar\"}], \"carpet\": [{\"aaxis\": {\"endlinecolor\": \"rgb(51,51,51)\", \"gridcolor\": \"white\", \"linecolor\": \"white\", \"minorgridcolor\": \"white\", \"startlinecolor\": \"rgb(51,51,51)\"}, \"baxis\": {\"endlinecolor\": \"rgb(51,51,51)\", \"gridcolor\": \"white\", \"linecolor\": \"white\", \"minorgridcolor\": \"white\", \"startlinecolor\": \"rgb(51,51,51)\"}, \"type\": \"carpet\"}], \"choropleth\": [{\"colorbar\": {\"outlinewidth\": 0, \"tickcolor\": \"rgb(237,237,237)\", \"ticklen\": 6, \"ticks\": \"inside\"}, \"type\": \"choropleth\"}], \"contour\": [{\"colorbar\": {\"outlinewidth\": 0, \"tickcolor\": \"rgb(237,237,237)\", \"ticklen\": 6, \"ticks\": \"inside\"}, \"colorscale\": [[0, \"rgb(20,44,66)\"], [1, \"rgb(90,179,244)\"]], \"type\": \"contour\"}], \"contourcarpet\": [{\"colorbar\": {\"outlinewidth\": 0, \"tickcolor\": \"rgb(237,237,237)\", \"ticklen\": 6, \"ticks\": \"inside\"}, \"type\": \"contourcarpet\"}], \"heatmap\": [{\"colorbar\": {\"outlinewidth\": 0, \"tickcolor\": \"rgb(237,237,237)\", \"ticklen\": 6, \"ticks\": \"inside\"}, \"colorscale\": [[0, \"rgb(20,44,66)\"], [1, \"rgb(90,179,244)\"]], \"type\": \"heatmap\"}], \"heatmapgl\": [{\"colorbar\": {\"outlinewidth\": 0, \"tickcolor\": \"rgb(237,237,237)\", \"ticklen\": 6, \"ticks\": \"inside\"}, \"colorscale\": [[0, \"rgb(20,44,66)\"], [1, \"rgb(90,179,244)\"]], \"type\": \"heatmapgl\"}], \"histogram\": [{\"marker\": {\"colorbar\": {\"outlinewidth\": 0, \"tickcolor\": \"rgb(237,237,237)\", \"ticklen\": 6, \"ticks\": \"inside\"}}, \"type\": \"histogram\"}], \"histogram2d\": [{\"colorbar\": {\"outlinewidth\": 0, \"tickcolor\": \"rgb(237,237,237)\", \"ticklen\": 6, \"ticks\": \"inside\"}, \"colorscale\": [[0, \"rgb(20,44,66)\"], [1, \"rgb(90,179,244)\"]], \"type\": \"histogram2d\"}], \"histogram2dcontour\": [{\"colorbar\": {\"outlinewidth\": 0, \"tickcolor\": \"rgb(237,237,237)\", \"ticklen\": 6, \"ticks\": \"inside\"}, \"colorscale\": [[0, \"rgb(20,44,66)\"], [1, \"rgb(90,179,244)\"]], \"type\": \"histogram2dcontour\"}], \"mesh3d\": [{\"colorbar\": {\"outlinewidth\": 0, \"tickcolor\": \"rgb(237,237,237)\", \"ticklen\": 6, \"ticks\": \"inside\"}, \"type\": \"mesh3d\"}], \"parcoords\": [{\"line\": {\"colorbar\": {\"outlinewidth\": 0, \"tickcolor\": \"rgb(237,237,237)\", \"ticklen\": 6, \"ticks\": \"inside\"}}, \"type\": \"parcoords\"}], \"pie\": [{\"automargin\": true, \"type\": \"pie\"}], \"scatter\": [{\"marker\": {\"colorbar\": {\"outlinewidth\": 0, \"tickcolor\": \"rgb(237,237,237)\", \"ticklen\": 6, \"ticks\": \"inside\"}}, \"type\": \"scatter\"}], \"scatter3d\": [{\"line\": {\"colorbar\": {\"outlinewidth\": 0, \"tickcolor\": \"rgb(237,237,237)\", \"ticklen\": 6, \"ticks\": \"inside\"}}, \"marker\": {\"colorbar\": {\"outlinewidth\": 0, \"tickcolor\": \"rgb(237,237,237)\", \"ticklen\": 6, \"ticks\": \"inside\"}}, \"type\": \"scatter3d\"}], \"scattercarpet\": [{\"marker\": {\"colorbar\": {\"outlinewidth\": 0, \"tickcolor\": \"rgb(237,237,237)\", \"ticklen\": 6, \"ticks\": \"inside\"}}, \"type\": \"scattercarpet\"}], \"scattergeo\": [{\"marker\": {\"colorbar\": {\"outlinewidth\": 0, \"tickcolor\": \"rgb(237,237,237)\", \"ticklen\": 6, \"ticks\": \"inside\"}}, \"type\": \"scattergeo\"}], \"scattergl\": [{\"marker\": {\"colorbar\": {\"outlinewidth\": 0, \"tickcolor\": \"rgb(237,237,237)\", \"ticklen\": 6, \"ticks\": \"inside\"}}, \"type\": \"scattergl\"}], \"scattermapbox\": [{\"marker\": {\"colorbar\": {\"outlinewidth\": 0, \"tickcolor\": \"rgb(237,237,237)\", \"ticklen\": 6, \"ticks\": \"inside\"}}, \"type\": \"scattermapbox\"}], \"scatterpolar\": [{\"marker\": {\"colorbar\": {\"outlinewidth\": 0, \"tickcolor\": \"rgb(237,237,237)\", \"ticklen\": 6, \"ticks\": \"inside\"}}, \"type\": \"scatterpolar\"}], \"scatterpolargl\": [{\"marker\": {\"colorbar\": {\"outlinewidth\": 0, \"tickcolor\": \"rgb(237,237,237)\", \"ticklen\": 6, \"ticks\": \"inside\"}}, \"type\": \"scatterpolargl\"}], \"scatterternary\": [{\"marker\": {\"colorbar\": {\"outlinewidth\": 0, \"tickcolor\": \"rgb(237,237,237)\", \"ticklen\": 6, \"ticks\": \"inside\"}}, \"type\": \"scatterternary\"}], \"surface\": [{\"colorbar\": {\"outlinewidth\": 0, \"tickcolor\": \"rgb(237,237,237)\", \"ticklen\": 6, \"ticks\": \"inside\"}, \"colorscale\": [[0, \"rgb(20,44,66)\"], [1, \"rgb(90,179,244)\"]], \"type\": \"surface\"}], \"table\": [{\"cells\": {\"fill\": {\"color\": \"rgb(237,237,237)\"}, \"line\": {\"color\": \"white\"}}, \"header\": {\"fill\": {\"color\": \"rgb(217,217,217)\"}, \"line\": {\"color\": \"white\"}}, \"type\": \"table\"}]}, \"layout\": {\"annotationdefaults\": {\"arrowhead\": 0, \"arrowwidth\": 1}, \"coloraxis\": {\"colorbar\": {\"outlinewidth\": 0, \"tickcolor\": \"rgb(237,237,237)\", \"ticklen\": 6, \"ticks\": \"inside\"}}, \"colorscale\": {\"sequential\": [[0, \"rgb(20,44,66)\"], [1, \"rgb(90,179,244)\"]], \"sequentialminus\": [[0, \"rgb(20,44,66)\"], [1, \"rgb(90,179,244)\"]]}, \"colorway\": [\"#F8766D\", \"#A3A500\", \"#00BF7D\", \"#00B0F6\", \"#E76BF3\"], \"font\": {\"color\": \"rgb(51,51,51)\"}, \"geo\": {\"bgcolor\": \"white\", \"lakecolor\": \"white\", \"landcolor\": \"rgb(237,237,237)\", \"showlakes\": true, \"showland\": true, \"subunitcolor\": \"white\"}, \"hoverlabel\": {\"align\": \"left\"}, \"hovermode\": \"closest\", \"paper_bgcolor\": \"white\", \"plot_bgcolor\": \"rgb(237,237,237)\", \"polar\": {\"angularaxis\": {\"gridcolor\": \"white\", \"linecolor\": \"white\", \"showgrid\": true, \"tickcolor\": \"rgb(51,51,51)\", \"ticks\": \"outside\"}, \"bgcolor\": \"rgb(237,237,237)\", \"radialaxis\": {\"gridcolor\": \"white\", \"linecolor\": \"white\", \"showgrid\": true, \"tickcolor\": \"rgb(51,51,51)\", \"ticks\": \"outside\"}}, \"scene\": {\"xaxis\": {\"backgroundcolor\": \"rgb(237,237,237)\", \"gridcolor\": \"white\", \"gridwidth\": 2, \"linecolor\": \"white\", \"showbackground\": true, \"showgrid\": true, \"tickcolor\": \"rgb(51,51,51)\", \"ticks\": \"outside\", \"zerolinecolor\": \"white\"}, \"yaxis\": {\"backgroundcolor\": \"rgb(237,237,237)\", \"gridcolor\": \"white\", \"gridwidth\": 2, \"linecolor\": \"white\", \"showbackground\": true, \"showgrid\": true, \"tickcolor\": \"rgb(51,51,51)\", \"ticks\": \"outside\", \"zerolinecolor\": \"white\"}, \"zaxis\": {\"backgroundcolor\": \"rgb(237,237,237)\", \"gridcolor\": \"white\", \"gridwidth\": 2, \"linecolor\": \"white\", \"showbackground\": true, \"showgrid\": true, \"tickcolor\": \"rgb(51,51,51)\", \"ticks\": \"outside\", \"zerolinecolor\": \"white\"}}, \"shapedefaults\": {\"fillcolor\": \"black\", \"line\": {\"width\": 0}, \"opacity\": 0.3}, \"ternary\": {\"aaxis\": {\"gridcolor\": \"white\", \"linecolor\": \"white\", \"showgrid\": true, \"tickcolor\": \"rgb(51,51,51)\", \"ticks\": \"outside\"}, \"baxis\": {\"gridcolor\": \"white\", \"linecolor\": \"white\", \"showgrid\": true, \"tickcolor\": \"rgb(51,51,51)\", \"ticks\": \"outside\"}, \"bgcolor\": \"rgb(237,237,237)\", \"caxis\": {\"gridcolor\": \"white\", \"linecolor\": \"white\", \"showgrid\": true, \"tickcolor\": \"rgb(51,51,51)\", \"ticks\": \"outside\"}}, \"xaxis\": {\"automargin\": true, \"gridcolor\": \"white\", \"linecolor\": \"white\", \"showgrid\": true, \"tickcolor\": \"rgb(51,51,51)\", \"ticks\": \"outside\", \"title\": {\"standoff\": 15}, \"zerolinecolor\": \"white\"}, \"yaxis\": {\"automargin\": true, \"gridcolor\": \"white\", \"linecolor\": \"white\", \"showgrid\": true, \"tickcolor\": \"rgb(51,51,51)\", \"ticks\": \"outside\", \"title\": {\"standoff\": 15}, \"zerolinecolor\": \"white\"}}}, \"title\": {\"font\": {\"color\": \"darkslateblue\", \"size\": 20}, \"text\": \"Sales Qty by Item Category Group - Item Category\"}, \"width\": 800},                        {\"responsive\": true}                    ).then(function(){\n",
       "                            \n",
       "var gd = document.getElementById('d2c931dd-ad01-4488-b96e-7a1a42317e02');\n",
       "var x = new MutationObserver(function (mutations, observer) {{\n",
       "        var display = window.getComputedStyle(gd).display;\n",
       "        if (!display || display === 'none') {{\n",
       "            console.log([gd, 'removed!']);\n",
       "            Plotly.purge(gd);\n",
       "            observer.disconnect();\n",
       "        }}\n",
       "}});\n",
       "\n",
       "// Listen for the removal of the full notebook cells\n",
       "var notebookContainer = gd.closest('#notebook-container');\n",
       "if (notebookContainer) {{\n",
       "    x.observe(notebookContainer, {childList: true});\n",
       "}}\n",
       "\n",
       "// Listen for the clearing of the current output cell\n",
       "var outputEl = gd.closest('.output');\n",
       "if (outputEl) {{\n",
       "    x.observe(outputEl, {childList: true});\n",
       "}}\n",
       "\n",
       "                        })                };                });            </script>        </div>"
      ]
     },
     "metadata": {},
     "output_type": "display_data"
    }
   ],
   "source": [
    "def plot_grouped_features(lvl1, lvl1name, lvl2, lvl2name):\n",
    "    \n",
    "    vizdata = df.loc[df[\"train\"] == 1].groupby(by=[lvl2, lvl1], as_index=False).sum()\n",
    "\n",
    "    labels = [*vizdata[lvl2].unique()]\n",
    "    labels.extend([*vizdata[lvl1].values])\n",
    "\n",
    "    parents = [\"\"] * len([*vizdata[lvl2].unique()])\n",
    "    parents.extend([*vizdata[lvl2].values])\n",
    "\n",
    "    values = [*vizdata.groupby(by=lvl2)[\"item_cnt_month\"].sum().values]\n",
    "    values.extend([*vizdata[\"item_cnt_month\"].values])\n",
    "\n",
    "    fig = go.Figure(data=go.Sunburst(labels=labels, parents=parents, values=values))\n",
    "\n",
    "    fig.update_layout(\n",
    "        width=800,\n",
    "        height=800,\n",
    "        template=\"ggplot2\",\n",
    "        title=go.layout.Title(\n",
    "            text=f\"Sales Qty by {lvl2name} - {lvl1name}\",\n",
    "            font=dict(size=20, color=\"darkslateblue\"),\n",
    "        ),\n",
    "    )\n",
    "\n",
    "    return fig.show()\n",
    "\n",
    "\n",
    "plot_grouped_features(\n",
    "    \"item_cat_name\", \"Item Category\", \"item_cat_group\", \"Item Category Group\"\n",
    ")\n"
   ]
  },
  {
   "cell_type": "markdown",
   "metadata": {
    "papermill": {
     "duration": 0.067127,
     "end_time": "2020-10-20T12:38:21.231916",
     "exception": false,
     "start_time": "2020-10-20T12:38:21.164789",
     "status": "completed"
    },
    "tags": []
   },
   "source": [
    "Games and Movies make up the majority of the sales. This is normal considering the fact that the provider of the dataset is a software/electronics company. "
   ]
  },
  {
   "cell_type": "code",
   "execution_count": 36,
   "metadata": {
    "_kg_hide-input": true,
    "execution": {
     "iopub.execute_input": "2020-10-20T12:38:21.372573Z",
     "iopub.status.busy": "2020-10-20T12:38:21.371852Z",
     "iopub.status.idle": "2020-10-20T12:38:26.587789Z",
     "shell.execute_reply": "2020-10-20T12:38:26.587080Z"
    },
    "papermill": {
     "duration": 5.285472,
     "end_time": "2020-10-20T12:38:26.587915",
     "exception": false,
     "start_time": "2020-10-20T12:38:21.302443",
     "status": "completed"
    },
    "tags": []
   },
   "outputs": [
    {
     "data": {
      "text/html": [
       "<div>                            <div id=\"6b66ba9e-39f8-476d-8dd7-f7d811ace253\" class=\"plotly-graph-div\" style=\"height:800px; width:800px;\"></div>            <script type=\"text/javascript\">                require([\"plotly\"], function(Plotly) {                    window.PLOTLYENV=window.PLOTLYENV || {};                                    if (document.getElementById(\"6b66ba9e-39f8-476d-8dd7-f7d811ace253\")) {                    Plotly.newPlot(                        \"6b66ba9e-39f8-476d-8dd7-f7d811ace253\",                        [{\"labels\": [\"Balashikha\", \"Chekhov\", \"Kaluga\", \"Kazan\", \"Khimki\", \"Kolomna\", \"Krasnoyarsk\", \"Kursk\", \"Maykop\", \"Moscow\", \"Mytishchi\", \"Nizhny Novgorod\", \"Novosibirsk\", \"Omsk\", \"Online\", \"Other\", \"Rostov-on-Don\", \"Saint Petersburg\", \"Samara\", \"Sergiyev Posad\", \"Surgut\", \"Tomsk\", \"Tyumen\", \"Ufa\", \"Vologda\", \"Volzhsky\", \"Voronezh\", \"Yakutsk\", \"Yaroslavl\", \"Zhukovsky\", \"Balashikha TRK \\\"October-Kinomir\\\"\", \"Chekhov SEC \\\"Carnival\\\"\", \"Kaluga TRC \\\"XXI Century\\\"\", \"Kazan TC \\\"Behetle\\\"\", \"Kazan TC \\\"ParkHaus\\\" II\", \"Khimki \\u0422\\u0426 \\\"Mega\\\"\", \"Colosseum \\\"Rio\\\"\", \"Krasnoyarsk Shopping center \\\"June\\\"\", \"Krasnoyarsk Shopping center \\\"Vzletka Plaza\\\"\", \"Kursk TC \\\"Pushkinsky\\\"\", \"Adygea Shopping Center \\\"Mega\\\"\", \"Moscow \\\"Sale\\\"\", \"Moscow MTRTS \\\"Afi Mall\\\"\", \"Moscow Shop \\u042121\", \"Moscow Shopping Center \\\"Silver House\\\"\", \"Moscow TC \\\"Budenovskiy\\\" (pav.A2)\", \"Moscow TC \\\"Budenovskiy\\\" (pav.K7)\", \"Moscow TC \\\"New Century\\\" (Novokosino)\", \"Moscow TP TPP \\\"Perlovski\\\"\", \"Moscow TRK \\\"Atrium\\\"\", \"Moscow Trade Center \\\"Areal\\\" (Belyaevo)\", \"Moscow \\u0422\\u0426 \\\"MEGA Belaya Dacha II\\\"\", \"Moscow \\u0422\\u0426 \\\"MEGA Teply Stan\\\" II\", \"Moscow \\u0422\\u0426 \\\"\\u0421\\u0435\\u043c\\u0435\\u043d\\u043e\\u0432\\u0441\\u043a\\u0438\\u0439\\\"\", \"Mytischi TRK \\\"XL-3\\\"\", \"N.Novgorod TRC \\\"RIO\\\"\", \"Nizhny Novgorod shopping mall \\\"Fantastic\\\"\", \"Novosibirsk TC \\\"Mega\\\"\", \"Novosibirsk TRC \\\"Gallery Novosibirsk\\\"\", \"Omsk TC \\\"Mega\\\"\", \"Digital warehouse 1C-Online\", \"Online shop Emergency\", \"Outbound Trade\", \"Rostov-on-Don Megacenter Horizon\", \"RostovNaDonu TC \\\"Mega\\\"\", \"SPb TC \\\"Nevsky Center\\\"\", \"SPb TK \\\"Sennaya\\\"\", \"Samara TC \\\"ParkHaus\\\"\", \"Samara TP \\\"Melody\\\"\", \"Sergiev Posad TC \\\"7YA\\\"\", \"Surgut shopping and entertainment center \\\"City Mall\\\"\", \"Tomsk SEC \\\"Emerald City\\\"\", \"Tyumen SEC \\\"Crystal\\\"\", \"Tyumen Shopping Center \\\"Green Beach\\\"\", \"Tyumen shopping center \\\"Goodwin\\\"\", \"Ufa TC \\\"Central\\\"\", \"Ufa TC \\\"Family\\\" 2\", \"Vologda Shopping and Entertainment Center \\\"Marmalade\\\"\", \"Volzhsky shopping center \\\"Volga Mall\\\"\", \"Voronezh (Plekhanovskaya, 13)\", \"Voronezh TRC \\\"Maksimir\\\"\", \"Voronezh TRC City-Park \\\"Grad\\\"\", \"Yakutsk Ordzhonikidze, 56\", \"Yakutsk TC \\\"Central\\\"\", \"Yaroslavl Shopping center \\\"Altair\\\"\", \"Zhukovsky st. Chkalov 39m?\"], \"parents\": [\"\", \"\", \"\", \"\", \"\", \"\", \"\", \"\", \"\", \"\", \"\", \"\", \"\", \"\", \"\", \"\", \"\", \"\", \"\", \"\", \"\", \"\", \"\", \"\", \"\", \"\", \"\", \"\", \"\", \"\", \"Balashikha\", \"Chekhov\", \"Kaluga\", \"Kazan\", \"Kazan\", \"Khimki\", \"Kolomna\", \"Krasnoyarsk\", \"Krasnoyarsk\", \"Kursk\", \"Maykop\", \"Moscow\", \"Moscow\", \"Moscow\", \"Moscow\", \"Moscow\", \"Moscow\", \"Moscow\", \"Moscow\", \"Moscow\", \"Moscow\", \"Moscow\", \"Moscow\", \"Moscow\", \"Mytishchi\", \"Nizhny Novgorod\", \"Nizhny Novgorod\", \"Novosibirsk\", \"Novosibirsk\", \"Omsk\", \"Online\", \"Online\", \"Other\", \"Rostov-on-Don\", \"Rostov-on-Don\", \"Saint Petersburg\", \"Saint Petersburg\", \"Samara\", \"Samara\", \"Sergiyev Posad\", \"Surgut\", \"Tomsk\", \"Tyumen\", \"Tyumen\", \"Tyumen\", \"Ufa\", \"Ufa\", \"Vologda\", \"Volzhsky\", \"Voronezh\", \"Voronezh\", \"Voronezh\", \"Yakutsk\", \"Yakutsk\", \"Yaroslavl\", \"Zhukovsky\"], \"type\": \"sunburst\", \"values\": [27386.0, 74269.0, 65357.0, 60806.0, 161163.0, 57335.0, 83920.0, 69634.0, 28890.0, 1115723.0, 5253.0, 70039.0, 43204.0, 50662.0, 82433.0, 10770.0, 65647.0, 166899.0, 82888.0, 72712.0, 61956.0, 23257.0, 135579.0, 104357.0, 40738.0, 41195.0, 157217.0, 225562.0, 46254.0, 23840.0, 27386.0, 74269.0, 65357.0, 18957.0, 41849.0, 161163.0, 57335.0, 59400.0, 24520.0, 69634.0, 28890.0, 4838.0, 63110.0, 52404.0, 8514.0, 7553.0, 58780.0, 54338.0, 55747.0, 207885.0, 60654.0, 119732.0, 160454.0, 261714.0, 5253.0, 6303.0, 63736.0, 42874.0, 330.0, 50662.0, 39344.0, 43089.0, 10770.0, 19271.0, 46376.0, 122450.0, 44449.0, 39684.0, 43204.0, 72712.0, 61956.0, 23257.0, 16775.0, 47058.0, 71746.0, 47279.0, 57078.0, 40738.0, 41195.0, 90992.0, 62627.0, 3598.0, 141306.0, 84256.0, 46254.0, 23840.0]}],                        {\"height\": 800, \"template\": {\"data\": {\"bar\": [{\"error_x\": {\"color\": \"rgb(51,51,51)\"}, \"error_y\": {\"color\": \"rgb(51,51,51)\"}, \"marker\": {\"line\": {\"color\": \"rgb(237,237,237)\", \"width\": 0.5}}, \"type\": \"bar\"}], \"barpolar\": [{\"marker\": {\"line\": {\"color\": \"rgb(237,237,237)\", \"width\": 0.5}}, \"type\": \"barpolar\"}], \"carpet\": [{\"aaxis\": {\"endlinecolor\": \"rgb(51,51,51)\", \"gridcolor\": \"white\", \"linecolor\": \"white\", \"minorgridcolor\": \"white\", \"startlinecolor\": \"rgb(51,51,51)\"}, \"baxis\": {\"endlinecolor\": \"rgb(51,51,51)\", \"gridcolor\": \"white\", \"linecolor\": \"white\", \"minorgridcolor\": \"white\", \"startlinecolor\": \"rgb(51,51,51)\"}, \"type\": \"carpet\"}], \"choropleth\": [{\"colorbar\": {\"outlinewidth\": 0, \"tickcolor\": \"rgb(237,237,237)\", \"ticklen\": 6, \"ticks\": \"inside\"}, \"type\": \"choropleth\"}], \"contour\": [{\"colorbar\": {\"outlinewidth\": 0, \"tickcolor\": \"rgb(237,237,237)\", \"ticklen\": 6, \"ticks\": \"inside\"}, \"colorscale\": [[0, \"rgb(20,44,66)\"], [1, \"rgb(90,179,244)\"]], \"type\": \"contour\"}], \"contourcarpet\": [{\"colorbar\": {\"outlinewidth\": 0, \"tickcolor\": \"rgb(237,237,237)\", \"ticklen\": 6, \"ticks\": \"inside\"}, \"type\": \"contourcarpet\"}], \"heatmap\": [{\"colorbar\": {\"outlinewidth\": 0, \"tickcolor\": \"rgb(237,237,237)\", \"ticklen\": 6, \"ticks\": \"inside\"}, \"colorscale\": [[0, \"rgb(20,44,66)\"], [1, \"rgb(90,179,244)\"]], \"type\": \"heatmap\"}], \"heatmapgl\": [{\"colorbar\": {\"outlinewidth\": 0, \"tickcolor\": \"rgb(237,237,237)\", \"ticklen\": 6, \"ticks\": \"inside\"}, \"colorscale\": [[0, \"rgb(20,44,66)\"], [1, \"rgb(90,179,244)\"]], \"type\": \"heatmapgl\"}], \"histogram\": [{\"marker\": {\"colorbar\": {\"outlinewidth\": 0, \"tickcolor\": \"rgb(237,237,237)\", \"ticklen\": 6, \"ticks\": \"inside\"}}, \"type\": \"histogram\"}], \"histogram2d\": [{\"colorbar\": {\"outlinewidth\": 0, \"tickcolor\": \"rgb(237,237,237)\", \"ticklen\": 6, \"ticks\": \"inside\"}, \"colorscale\": [[0, \"rgb(20,44,66)\"], [1, \"rgb(90,179,244)\"]], \"type\": \"histogram2d\"}], \"histogram2dcontour\": [{\"colorbar\": {\"outlinewidth\": 0, \"tickcolor\": \"rgb(237,237,237)\", \"ticklen\": 6, \"ticks\": \"inside\"}, \"colorscale\": [[0, \"rgb(20,44,66)\"], [1, \"rgb(90,179,244)\"]], \"type\": \"histogram2dcontour\"}], \"mesh3d\": [{\"colorbar\": {\"outlinewidth\": 0, \"tickcolor\": \"rgb(237,237,237)\", \"ticklen\": 6, \"ticks\": \"inside\"}, \"type\": \"mesh3d\"}], \"parcoords\": [{\"line\": {\"colorbar\": {\"outlinewidth\": 0, \"tickcolor\": \"rgb(237,237,237)\", \"ticklen\": 6, \"ticks\": \"inside\"}}, \"type\": \"parcoords\"}], \"pie\": [{\"automargin\": true, \"type\": \"pie\"}], \"scatter\": [{\"marker\": {\"colorbar\": {\"outlinewidth\": 0, \"tickcolor\": \"rgb(237,237,237)\", \"ticklen\": 6, \"ticks\": \"inside\"}}, \"type\": \"scatter\"}], \"scatter3d\": [{\"line\": {\"colorbar\": {\"outlinewidth\": 0, \"tickcolor\": \"rgb(237,237,237)\", \"ticklen\": 6, \"ticks\": \"inside\"}}, \"marker\": {\"colorbar\": {\"outlinewidth\": 0, \"tickcolor\": \"rgb(237,237,237)\", \"ticklen\": 6, \"ticks\": \"inside\"}}, \"type\": \"scatter3d\"}], \"scattercarpet\": [{\"marker\": {\"colorbar\": {\"outlinewidth\": 0, \"tickcolor\": \"rgb(237,237,237)\", \"ticklen\": 6, \"ticks\": \"inside\"}}, \"type\": \"scattercarpet\"}], \"scattergeo\": [{\"marker\": {\"colorbar\": {\"outlinewidth\": 0, \"tickcolor\": \"rgb(237,237,237)\", \"ticklen\": 6, \"ticks\": \"inside\"}}, \"type\": \"scattergeo\"}], \"scattergl\": [{\"marker\": {\"colorbar\": {\"outlinewidth\": 0, \"tickcolor\": \"rgb(237,237,237)\", \"ticklen\": 6, \"ticks\": \"inside\"}}, \"type\": \"scattergl\"}], \"scattermapbox\": [{\"marker\": {\"colorbar\": {\"outlinewidth\": 0, \"tickcolor\": \"rgb(237,237,237)\", \"ticklen\": 6, \"ticks\": \"inside\"}}, \"type\": \"scattermapbox\"}], \"scatterpolar\": [{\"marker\": {\"colorbar\": {\"outlinewidth\": 0, \"tickcolor\": \"rgb(237,237,237)\", \"ticklen\": 6, \"ticks\": \"inside\"}}, \"type\": \"scatterpolar\"}], \"scatterpolargl\": [{\"marker\": {\"colorbar\": {\"outlinewidth\": 0, \"tickcolor\": \"rgb(237,237,237)\", \"ticklen\": 6, \"ticks\": \"inside\"}}, \"type\": \"scatterpolargl\"}], \"scatterternary\": [{\"marker\": {\"colorbar\": {\"outlinewidth\": 0, \"tickcolor\": \"rgb(237,237,237)\", \"ticklen\": 6, \"ticks\": \"inside\"}}, \"type\": \"scatterternary\"}], \"surface\": [{\"colorbar\": {\"outlinewidth\": 0, \"tickcolor\": \"rgb(237,237,237)\", \"ticklen\": 6, \"ticks\": \"inside\"}, \"colorscale\": [[0, \"rgb(20,44,66)\"], [1, \"rgb(90,179,244)\"]], \"type\": \"surface\"}], \"table\": [{\"cells\": {\"fill\": {\"color\": \"rgb(237,237,237)\"}, \"line\": {\"color\": \"white\"}}, \"header\": {\"fill\": {\"color\": \"rgb(217,217,217)\"}, \"line\": {\"color\": \"white\"}}, \"type\": \"table\"}]}, \"layout\": {\"annotationdefaults\": {\"arrowhead\": 0, \"arrowwidth\": 1}, \"coloraxis\": {\"colorbar\": {\"outlinewidth\": 0, \"tickcolor\": \"rgb(237,237,237)\", \"ticklen\": 6, \"ticks\": \"inside\"}}, \"colorscale\": {\"sequential\": [[0, \"rgb(20,44,66)\"], [1, \"rgb(90,179,244)\"]], \"sequentialminus\": [[0, \"rgb(20,44,66)\"], [1, \"rgb(90,179,244)\"]]}, \"colorway\": [\"#F8766D\", \"#A3A500\", \"#00BF7D\", \"#00B0F6\", \"#E76BF3\"], \"font\": {\"color\": \"rgb(51,51,51)\"}, \"geo\": {\"bgcolor\": \"white\", \"lakecolor\": \"white\", \"landcolor\": \"rgb(237,237,237)\", \"showlakes\": true, \"showland\": true, \"subunitcolor\": \"white\"}, \"hoverlabel\": {\"align\": \"left\"}, \"hovermode\": \"closest\", \"paper_bgcolor\": \"white\", \"plot_bgcolor\": \"rgb(237,237,237)\", \"polar\": {\"angularaxis\": {\"gridcolor\": \"white\", \"linecolor\": \"white\", \"showgrid\": true, \"tickcolor\": \"rgb(51,51,51)\", \"ticks\": \"outside\"}, \"bgcolor\": \"rgb(237,237,237)\", \"radialaxis\": {\"gridcolor\": \"white\", \"linecolor\": \"white\", \"showgrid\": true, \"tickcolor\": \"rgb(51,51,51)\", \"ticks\": \"outside\"}}, \"scene\": {\"xaxis\": {\"backgroundcolor\": \"rgb(237,237,237)\", \"gridcolor\": \"white\", \"gridwidth\": 2, \"linecolor\": \"white\", \"showbackground\": true, \"showgrid\": true, \"tickcolor\": \"rgb(51,51,51)\", \"ticks\": \"outside\", \"zerolinecolor\": \"white\"}, \"yaxis\": {\"backgroundcolor\": \"rgb(237,237,237)\", \"gridcolor\": \"white\", \"gridwidth\": 2, \"linecolor\": \"white\", \"showbackground\": true, \"showgrid\": true, \"tickcolor\": \"rgb(51,51,51)\", \"ticks\": \"outside\", \"zerolinecolor\": \"white\"}, \"zaxis\": {\"backgroundcolor\": \"rgb(237,237,237)\", \"gridcolor\": \"white\", \"gridwidth\": 2, \"linecolor\": \"white\", \"showbackground\": true, \"showgrid\": true, \"tickcolor\": \"rgb(51,51,51)\", \"ticks\": \"outside\", \"zerolinecolor\": \"white\"}}, \"shapedefaults\": {\"fillcolor\": \"black\", \"line\": {\"width\": 0}, \"opacity\": 0.3}, \"ternary\": {\"aaxis\": {\"gridcolor\": \"white\", \"linecolor\": \"white\", \"showgrid\": true, \"tickcolor\": \"rgb(51,51,51)\", \"ticks\": \"outside\"}, \"baxis\": {\"gridcolor\": \"white\", \"linecolor\": \"white\", \"showgrid\": true, \"tickcolor\": \"rgb(51,51,51)\", \"ticks\": \"outside\"}, \"bgcolor\": \"rgb(237,237,237)\", \"caxis\": {\"gridcolor\": \"white\", \"linecolor\": \"white\", \"showgrid\": true, \"tickcolor\": \"rgb(51,51,51)\", \"ticks\": \"outside\"}}, \"xaxis\": {\"automargin\": true, \"gridcolor\": \"white\", \"linecolor\": \"white\", \"showgrid\": true, \"tickcolor\": \"rgb(51,51,51)\", \"ticks\": \"outside\", \"title\": {\"standoff\": 15}, \"zerolinecolor\": \"white\"}, \"yaxis\": {\"automargin\": true, \"gridcolor\": \"white\", \"linecolor\": \"white\", \"showgrid\": true, \"tickcolor\": \"rgb(51,51,51)\", \"ticks\": \"outside\", \"title\": {\"standoff\": 15}, \"zerolinecolor\": \"white\"}}}, \"title\": {\"font\": {\"color\": \"darkslateblue\", \"size\": 20}, \"text\": \"Sales Qty by City - Shop\"}, \"width\": 800},                        {\"responsive\": true}                    ).then(function(){\n",
       "                            \n",
       "var gd = document.getElementById('6b66ba9e-39f8-476d-8dd7-f7d811ace253');\n",
       "var x = new MutationObserver(function (mutations, observer) {{\n",
       "        var display = window.getComputedStyle(gd).display;\n",
       "        if (!display || display === 'none') {{\n",
       "            console.log([gd, 'removed!']);\n",
       "            Plotly.purge(gd);\n",
       "            observer.disconnect();\n",
       "        }}\n",
       "}});\n",
       "\n",
       "// Listen for the removal of the full notebook cells\n",
       "var notebookContainer = gd.closest('#notebook-container');\n",
       "if (notebookContainer) {{\n",
       "    x.observe(notebookContainer, {childList: true});\n",
       "}}\n",
       "\n",
       "// Listen for the clearing of the current output cell\n",
       "var outputEl = gd.closest('.output');\n",
       "if (outputEl) {{\n",
       "    x.observe(outputEl, {childList: true});\n",
       "}}\n",
       "\n",
       "                        })                };                });            </script>        </div>"
      ]
     },
     "metadata": {},
     "output_type": "display_data"
    }
   ],
   "source": [
    "plot_grouped_features('shop_name','Shop','city','City')"
   ]
  },
  {
   "cell_type": "markdown",
   "metadata": {
    "papermill": {
     "duration": 0.065472,
     "end_time": "2020-10-20T12:38:26.719871",
     "exception": false,
     "start_time": "2020-10-20T12:38:26.654399",
     "status": "completed"
    },
    "tags": []
   },
   "source": [
    "Most of the sales takes place around Moscow area. Moscow is the cosmopolitan capital and the most populated city of Russia. So the graph above make sense to me."
   ]
  },
  {
   "cell_type": "markdown",
   "metadata": {
    "papermill": {
     "duration": 0.064516,
     "end_time": "2020-10-20T12:38:26.849512",
     "exception": false,
     "start_time": "2020-10-20T12:38:26.784996",
     "status": "completed"
    },
    "tags": []
   },
   "source": [
    "# Bin Item Prices\n",
    "\n",
    "Binning the item price with the help of KBinsDiscretizer. This is mainly for visualization/analysis purposes."
   ]
  },
  {
   "cell_type": "code",
   "execution_count": 37,
   "metadata": {
    "execution": {
     "iopub.execute_input": "2020-10-20T12:38:26.993082Z",
     "iopub.status.busy": "2020-10-20T12:38:26.991916Z",
     "iopub.status.idle": "2020-10-20T12:38:29.840016Z",
     "shell.execute_reply": "2020-10-20T12:38:29.839358Z"
    },
    "papermill": {
     "duration": 2.925521,
     "end_time": "2020-10-20T12:38:29.840131",
     "exception": false,
     "start_time": "2020-10-20T12:38:26.914610",
     "status": "completed"
    },
    "tags": []
   },
   "outputs": [],
   "source": [
    "def bin_prices(df):\n",
    "    kbd = KBinsDiscretizer(n_bins=10, encode=\"ordinal\", strategy=\"quantile\")\n",
    "    df.loc[df[\"train\"] == 1, \"binned_item_price\"] = kbd.fit_transform(\n",
    "        df.loc[df[\"train\"] == 1, \"item_price\"].values.reshape(-1, 1)\n",
    "    )\n",
    "    df.loc[df[\"train\"] == 0, \"binned_item_price\"] = kbd.transform(\n",
    "        df.loc[df[\"train\"] == 0, \"item_price\"].values.reshape(-1, 1)\n",
    "    )\n",
    "    # Getting the lower edge of bins to be used later during plotting\n",
    "    item_lvl_bin_edges = dict(zip(range(kbd.n_bins), kbd.bin_edges_[0].astype(int)))\n",
    "\n",
    "    return df, item_lvl_bin_edges\n",
    "\n",
    "\n",
    "df, bin_edges = bin_prices(df)"
   ]
  },
  {
   "cell_type": "markdown",
   "metadata": {
    "papermill": {
     "duration": 0.067785,
     "end_time": "2020-10-20T12:38:29.972309",
     "exception": false,
     "start_time": "2020-10-20T12:38:29.904524",
     "status": "completed"
    },
    "tags": []
   },
   "source": [
    "Let's visualize monthly average sales numbers and color code the bar chart by binned item prices. The intent here is to see the effect of seasonality on consumer behavior. Does the consumer behaviour as to how much they want to spend change based on month/season ?"
   ]
  },
  {
   "cell_type": "code",
   "execution_count": 38,
   "metadata": {
    "_kg_hide-input": true,
    "execution": {
     "iopub.execute_input": "2020-10-20T12:38:30.123553Z",
     "iopub.status.busy": "2020-10-20T12:38:30.120922Z",
     "iopub.status.idle": "2020-10-20T12:38:33.349756Z",
     "shell.execute_reply": "2020-10-20T12:38:33.349185Z"
    },
    "papermill": {
     "duration": 3.308799,
     "end_time": "2020-10-20T12:38:33.349873",
     "exception": false,
     "start_time": "2020-10-20T12:38:30.041074",
     "status": "completed"
    },
    "tags": []
   },
   "outputs": [
    {
     "data": {
      "text/html": [
       "<div>                            <div id=\"e039fca2-31a9-499b-8078-eb9e1631cf83\" class=\"plotly-graph-div\" style=\"height:800px; width:800px;\"></div>            <script type=\"text/javascript\">                require([\"plotly\"], function(Plotly) {                    window.PLOTLYENV=window.PLOTLYENV || {};                                    if (document.getElementById(\"e039fca2-31a9-499b-8078-eb9e1631cf83\")) {                    Plotly.newPlot(                        \"e039fca2-31a9-499b-8078-eb9e1631cf83\",                        [{\"alignmentgroup\": \"True\", \"hovertemplate\": \"month=%{x}<br>item_cnt_month=%{y}<br>Binned Item Price=%{marker.color}<extra></extra>\", \"legendgroup\": \"\", \"marker\": {\"color\": [0, 0, 0, 0, 0, 0, 0, 0, 0, 0, 0, 0, 124, 124, 124, 124, 124, 124, 124, 124, 124, 124, 124, 124, 149, 149, 149, 149, 149, 149, 149, 149, 149, 149, 149, 149, 199, 199, 199, 199, 199, 199, 199, 199, 199, 199, 199, 199, 249, 249, 249, 249, 249, 249, 249, 249, 249, 249, 249, 249, 299, 299, 299, 299, 299, 299, 299, 299, 299, 299, 299, 299, 398, 398, 398, 398, 398, 398, 398, 398, 398, 398, 398, 398, 549, 549, 549, 549, 549, 549, 549, 549, 549, 549, 549, 549, 899, 899, 899, 899, 899, 899, 899, 899, 899, 899, 899, 899, 1499, 1499, 1499, 1499, 1499, 1499, 1499, 1499, 1499, 1499, 1499, 1499], \"coloraxis\": \"coloraxis\", \"opacity\": 0.6}, \"name\": \"\", \"offsetgroup\": \"\", \"orientation\": \"v\", \"showlegend\": false, \"textposition\": \"auto\", \"type\": \"bar\", \"x\": [1, 2, 3, 4, 5, 6, 7, 8, 9, 10, 11, 12, 1, 2, 3, 4, 5, 6, 7, 8, 9, 10, 11, 12, 1, 2, 3, 4, 5, 6, 7, 8, 9, 10, 11, 12, 1, 2, 3, 4, 5, 6, 7, 8, 9, 10, 11, 12, 1, 2, 3, 4, 5, 6, 7, 8, 9, 10, 11, 12, 1, 2, 3, 4, 5, 6, 7, 8, 9, 10, 11, 12, 1, 2, 3, 4, 5, 6, 7, 8, 9, 10, 11, 12, 1, 2, 3, 4, 5, 6, 7, 8, 9, 10, 11, 12, 1, 2, 3, 4, 5, 6, 7, 8, 9, 10, 11, 12, 1, 2, 3, 4, 5, 6, 7, 8, 9, 10, 11, 12], \"xaxis\": \"x\", \"y\": [0.15839624404907227, 0.1456441879272461, 0.1370314657688141, 0.15858139097690582, 0.16568778455257416, 0.18582594394683838, 0.15902361273765564, 0.14984387159347534, 0.13588730990886688, 0.1347757875919342, 0.13547615706920624, 0.1805744469165802, 0.3325572609901428, 0.2785005271434784, 0.29737257957458496, 0.24200604856014252, 0.23618820309638977, 0.2222898006439209, 0.2447112798690796, 0.26218992471694946, 0.24062705039978027, 0.2917729318141937, 0.31522420048713684, 0.4228668510913849, 0.1924131065607071, 0.17796868085861206, 0.19311054050922394, 0.16295136511325836, 0.1655149757862091, 0.16656509041786194, 0.19567613303661346, 0.21145930886268616, 0.16400335729122162, 0.1582932472229004, 0.16638025641441345, 0.20906074345111847, 0.1951180398464203, 0.19278286397457123, 0.19799627363681793, 0.17492175102233887, 0.1710491180419922, 0.17719945311546326, 0.1888853758573532, 0.22032545506954193, 0.1804540455341339, 0.19252800941467285, 0.16857467591762543, 0.22178910672664642, 0.31165701150894165, 0.27626773715019226, 0.29606667160987854, 0.23470176756381989, 0.28383374214172363, 0.2910350561141968, 0.28709426522254944, 0.3110297620296478, 0.2560095191001892, 0.26607033610343933, 0.2991374135017395, 0.4412161707878113, 0.351329505443573, 0.3630581498146057, 0.36598387360572815, 0.3050471842288971, 0.27475854754447937, 0.2928284704685211, 0.283666729927063, 0.33017995953559875, 0.28668493032455444, 0.27663886547088623, 0.2933815121650696, 0.40964263677597046, 0.3249150812625885, 0.3277137279510498, 0.30209633708000183, 0.2517456114292145, 0.2534090280532837, 0.2602403461933136, 0.2522082030773163, 0.30371931195259094, 0.24421128630638123, 0.23329061269760132, 0.2205601930618286, 0.3439546525478363, 0.49991968274116516, 0.43190816044807434, 0.485887348651886, 0.4068472385406494, 0.42295289039611816, 0.46167752146720886, 0.41288092732429504, 0.48655638098716736, 0.4400430917739868, 0.4343622326850891, 0.46238094568252563, 0.6246893405914307, 0.3941691517829895, 0.4161212146282196, 0.4115952253341675, 0.3146553039550781, 0.32881537079811096, 0.33430853486061096, 0.30534684658050537, 0.3867792785167694, 0.3943038284778595, 0.34212011098861694, 0.4198015630245209, 0.5164004564285278, 0.5138033628463745, 0.4523817300796509, 0.4700530171394348, 0.3442552387714386, 0.385612428188324, 0.38901805877685547, 0.3404081463813782, 0.34659257531166077, 0.4738270342350006, 0.4109307825565338, 0.6085561513900757, 0.8382630944252014], \"yaxis\": \"y\"}],                        {\"annotations\": [{\"font\": {\"color\": \"black\", \"family\": \"droid-sans\", \"size\": 16}, \"showarrow\": false, \"text\": \"5%\", \"x\": 1, \"xref\": \"x\", \"y\": 0.07919812202453613, \"yref\": \"y\"}, {\"font\": {\"color\": \"black\", \"family\": \"droid-sans\", \"size\": 16}, \"showarrow\": false, \"text\": \"10%\", \"x\": 1, \"xref\": \"x\", \"y\": 0.3246748745441437, \"yref\": \"y\"}, {\"font\": {\"color\": \"black\", \"family\": \"droid-sans\", \"size\": 16}, \"showarrow\": false, \"text\": \"6%\", \"x\": 1, \"xref\": \"x\", \"y\": 0.5871600583195686, \"yref\": \"y\"}, {\"font\": {\"color\": \"black\", \"family\": \"droid-sans\", \"size\": 16}, \"showarrow\": false, \"text\": \"6%\", \"x\": 1, \"xref\": \"x\", \"y\": 0.7809256315231323, \"yref\": \"y\"}, {\"font\": {\"color\": \"black\", \"family\": \"droid-sans\", \"size\": 16}, \"showarrow\": false, \"text\": \"10%\", \"x\": 1, \"xref\": \"x\", \"y\": 1.0343131572008133, \"yref\": \"y\"}, {\"font\": {\"color\": \"black\", \"family\": \"droid-sans\", \"size\": 16}, \"showarrow\": false, \"text\": \"11%\", \"x\": 1, \"xref\": \"x\", \"y\": 1.3658064156770706, \"yref\": \"y\"}, {\"font\": {\"color\": \"black\", \"family\": \"droid-sans\", \"size\": 16}, \"showarrow\": false, \"text\": \"10%\", \"x\": 1, \"xref\": \"x\", \"y\": 1.7039287090301514, \"yref\": \"y\"}, {\"font\": {\"color\": \"black\", \"family\": \"droid-sans\", \"size\": 16}, \"showarrow\": false, \"text\": \"15%\", \"x\": 1, \"xref\": \"x\", \"y\": 2.116346091032028, \"yref\": \"y\"}, {\"font\": {\"color\": \"black\", \"family\": \"droid-sans\", \"size\": 16}, \"showarrow\": false, \"text\": \"12%\", \"x\": 1, \"xref\": \"x\", \"y\": 2.5633905082941055, \"yref\": \"y\"}, {\"font\": {\"color\": \"black\", \"family\": \"droid-sans\", \"size\": 16}, \"showarrow\": false, \"text\": \"16%\", \"x\": 1, \"xref\": \"x\", \"y\": 3.0173767656087875, \"yref\": \"y\"}, {\"font\": {\"color\": \"black\", \"family\": \"droid-sans\", \"size\": 16}, \"showarrow\": false, \"text\": \"5%\", \"x\": 2, \"xref\": \"x\", \"y\": 0.07282209396362305, \"yref\": \"y\"}, {\"font\": {\"color\": \"black\", \"family\": \"droid-sans\", \"size\": 16}, \"showarrow\": false, \"text\": \"9%\", \"x\": 2, \"xref\": \"x\", \"y\": 0.2848944514989853, \"yref\": \"y\"}, {\"font\": {\"color\": \"black\", \"family\": \"droid-sans\", \"size\": 16}, \"showarrow\": false, \"text\": \"6%\", \"x\": 2, \"xref\": \"x\", \"y\": 0.5131290555000305, \"yref\": \"y\"}, {\"font\": {\"color\": \"black\", \"family\": \"droid-sans\", \"size\": 16}, \"showarrow\": false, \"text\": \"6%\", \"x\": 2, \"xref\": \"x\", \"y\": 0.6985048279166222, \"yref\": \"y\"}, {\"font\": {\"color\": \"black\", \"family\": \"droid-sans\", \"size\": 16}, \"showarrow\": false, \"text\": \"9%\", \"x\": 2, \"xref\": \"x\", \"y\": 0.9330301284790039, \"yref\": \"y\"}, {\"font\": {\"color\": \"black\", \"family\": \"droid-sans\", \"size\": 16}, \"showarrow\": false, \"text\": \"12%\", \"x\": 2, \"xref\": \"x\", \"y\": 1.252693071961403, \"yref\": \"y\"}, {\"font\": {\"color\": \"black\", \"family\": \"droid-sans\", \"size\": 16}, \"showarrow\": false, \"text\": \"11%\", \"x\": 2, \"xref\": \"x\", \"y\": 1.5980790108442307, \"yref\": \"y\"}, {\"font\": {\"color\": \"black\", \"family\": \"droid-sans\", \"size\": 16}, \"showarrow\": false, \"text\": \"14%\", \"x\": 2, \"xref\": \"x\", \"y\": 1.9778899550437927, \"yref\": \"y\"}, {\"font\": {\"color\": \"black\", \"family\": \"droid-sans\", \"size\": 16}, \"showarrow\": false, \"text\": \"14%\", \"x\": 2, \"xref\": \"x\", \"y\": 2.4019046425819397, \"yref\": \"y\"}, {\"font\": {\"color\": \"black\", \"family\": \"droid-sans\", \"size\": 16}, \"showarrow\": false, \"text\": \"15%\", \"x\": 2, \"xref\": \"x\", \"y\": 2.836156114935875, \"yref\": \"y\"}, {\"font\": {\"color\": \"black\", \"family\": \"droid-sans\", \"size\": 16}, \"showarrow\": false, \"text\": \"4%\", \"x\": 3, \"xref\": \"x\", \"y\": 0.06851573288440704, \"yref\": \"y\"}, {\"font\": {\"color\": \"black\", \"family\": \"droid-sans\", \"size\": 16}, \"showarrow\": false, \"text\": \"9%\", \"x\": 3, \"xref\": \"x\", \"y\": 0.28571775555610657, \"yref\": \"y\"}, {\"font\": {\"color\": \"black\", \"family\": \"droid-sans\", \"size\": 16}, \"showarrow\": false, \"text\": \"6%\", \"x\": 3, \"xref\": \"x\", \"y\": 0.530959315598011, \"yref\": \"y\"}, {\"font\": {\"color\": \"black\", \"family\": \"droid-sans\", \"size\": 16}, \"showarrow\": false, \"text\": \"6%\", \"x\": 3, \"xref\": \"x\", \"y\": 0.726512722671032, \"yref\": \"y\"}, {\"font\": {\"color\": \"black\", \"family\": \"droid-sans\", \"size\": 16}, \"showarrow\": false, \"text\": \"9%\", \"x\": 3, \"xref\": \"x\", \"y\": 0.9735441952943802, \"yref\": \"y\"}, {\"font\": {\"color\": \"black\", \"family\": \"droid-sans\", \"size\": 16}, \"showarrow\": false, \"text\": \"12%\", \"x\": 3, \"xref\": \"x\", \"y\": 1.3045694679021835, \"yref\": \"y\"}, {\"font\": {\"color\": \"black\", \"family\": \"droid-sans\", \"size\": 16}, \"showarrow\": false, \"text\": \"10%\", \"x\": 3, \"xref\": \"x\", \"y\": 1.6386095732450485, \"yref\": \"y\"}, {\"font\": {\"color\": \"black\", \"family\": \"droid-sans\", \"size\": 16}, \"showarrow\": false, \"text\": \"15%\", \"x\": 3, \"xref\": \"x\", \"y\": 2.0326014161109924, \"yref\": \"y\"}, {\"font\": {\"color\": \"black\", \"family\": \"droid-sans\", \"size\": 16}, \"showarrow\": false, \"text\": \"13%\", \"x\": 3, \"xref\": \"x\", \"y\": 2.481342703104019, \"yref\": \"y\"}, {\"font\": {\"color\": \"black\", \"family\": \"droid-sans\", \"size\": 16}, \"showarrow\": false, \"text\": \"15%\", \"x\": 3, \"xref\": \"x\", \"y\": 2.9221668243408203, \"yref\": \"y\"}, {\"font\": {\"color\": \"black\", \"family\": \"droid-sans\", \"size\": 16}, \"showarrow\": false, \"text\": \"6%\", \"x\": 4, \"xref\": \"x\", \"y\": 0.07929069548845291, \"yref\": \"y\"}, {\"font\": {\"color\": \"black\", \"family\": \"droid-sans\", \"size\": 16}, \"showarrow\": false, \"text\": \"9%\", \"x\": 4, \"xref\": \"x\", \"y\": 0.2795844152569771, \"yref\": \"y\"}, {\"font\": {\"color\": \"black\", \"family\": \"droid-sans\", \"size\": 16}, \"showarrow\": false, \"text\": \"6%\", \"x\": 4, \"xref\": \"x\", \"y\": 0.4820631220936775, \"yref\": \"y\"}, {\"font\": {\"color\": \"black\", \"family\": \"droid-sans\", \"size\": 16}, \"showarrow\": false, \"text\": \"7%\", \"x\": 4, \"xref\": \"x\", \"y\": 0.6509996801614761, \"yref\": \"y\"}, {\"font\": {\"color\": \"black\", \"family\": \"droid-sans\", \"size\": 16}, \"showarrow\": false, \"text\": \"9%\", \"x\": 4, \"xref\": \"x\", \"y\": 0.8558114394545555, \"yref\": \"y\"}, {\"font\": {\"color\": \"black\", \"family\": \"droid-sans\", \"size\": 16}, \"showarrow\": false, \"text\": \"12%\", \"x\": 4, \"xref\": \"x\", \"y\": 1.125685915350914, \"yref\": \"y\"}, {\"font\": {\"color\": \"black\", \"family\": \"droid-sans\", \"size\": 16}, \"showarrow\": false, \"text\": \"10%\", \"x\": 4, \"xref\": \"x\", \"y\": 1.4040823131799698, \"yref\": \"y\"}, {\"font\": {\"color\": \"black\", \"family\": \"droid-sans\", \"size\": 16}, \"showarrow\": false, \"text\": \"16%\", \"x\": 4, \"xref\": \"x\", \"y\": 1.7333787381649017, \"yref\": \"y\"}, {\"font\": {\"color\": \"black\", \"family\": \"droid-sans\", \"size\": 16}, \"showarrow\": false, \"text\": \"12%\", \"x\": 4, \"xref\": \"x\", \"y\": 2.0941300094127655, \"yref\": \"y\"}, {\"font\": {\"color\": \"black\", \"family\": \"droid-sans\", \"size\": 16}, \"showarrow\": false, \"text\": \"13%\", \"x\": 4, \"xref\": \"x\", \"y\": 2.423585280776024, \"yref\": \"y\"}, {\"font\": {\"color\": \"black\", \"family\": \"droid-sans\", \"size\": 16}, \"showarrow\": false, \"text\": \"6%\", \"x\": 5, \"xref\": \"x\", \"y\": 0.08284389227628708, \"yref\": \"y\"}, {\"font\": {\"color\": \"black\", \"family\": \"droid-sans\", \"size\": 16}, \"showarrow\": false, \"text\": \"9%\", \"x\": 5, \"xref\": \"x\", \"y\": 0.28378188610076904, \"yref\": \"y\"}, {\"font\": {\"color\": \"black\", \"family\": \"droid-sans\", \"size\": 16}, \"showarrow\": false, \"text\": \"6%\", \"x\": 5, \"xref\": \"x\", \"y\": 0.4846334755420685, \"yref\": \"y\"}, {\"font\": {\"color\": \"black\", \"family\": \"droid-sans\", \"size\": 16}, \"showarrow\": false, \"text\": \"6%\", \"x\": 5, \"xref\": \"x\", \"y\": 0.6529155224561691, \"yref\": \"y\"}, {\"font\": {\"color\": \"black\", \"family\": \"droid-sans\", \"size\": 16}, \"showarrow\": false, \"text\": \"11%\", \"x\": 5, \"xref\": \"x\", \"y\": 0.880356952548027, \"yref\": \"y\"}, {\"font\": {\"color\": \"black\", \"family\": \"droid-sans\", \"size\": 16}, \"showarrow\": false, \"text\": \"10%\", \"x\": 5, \"xref\": \"x\", \"y\": 1.1596530973911285, \"yref\": \"y\"}, {\"font\": {\"color\": \"black\", \"family\": \"droid-sans\", \"size\": 16}, \"showarrow\": false, \"text\": \"9%\", \"x\": 5, \"xref\": \"x\", \"y\": 1.42373688519001, \"yref\": \"y\"}, {\"font\": {\"color\": \"black\", \"family\": \"droid-sans\", \"size\": 16}, \"showarrow\": false, \"text\": \"16%\", \"x\": 5, \"xref\": \"x\", \"y\": 1.761917844414711, \"yref\": \"y\"}, {\"font\": {\"color\": \"black\", \"family\": \"droid-sans\", \"size\": 16}, \"showarrow\": false, \"text\": \"12%\", \"x\": 5, \"xref\": \"x\", \"y\": 2.1378019750118256, \"yref\": \"y\"}, {\"font\": {\"color\": \"black\", \"family\": \"droid-sans\", \"size\": 16}, \"showarrow\": false, \"text\": \"14%\", \"x\": 5, \"xref\": \"x\", \"y\": 2.495015874505043, \"yref\": \"y\"}, {\"font\": {\"color\": \"black\", \"family\": \"droid-sans\", \"size\": 16}, \"showarrow\": false, \"text\": \"7%\", \"x\": 6, \"xref\": \"x\", \"y\": 0.09291297197341919, \"yref\": \"y\"}, {\"font\": {\"color\": \"black\", \"family\": \"droid-sans\", \"size\": 16}, \"showarrow\": false, \"text\": \"8%\", \"x\": 6, \"xref\": \"x\", \"y\": 0.29697084426879883, \"yref\": \"y\"}, {\"font\": {\"color\": \"black\", \"family\": \"droid-sans\", \"size\": 16}, \"showarrow\": false, \"text\": \"6%\", \"x\": 6, \"xref\": \"x\", \"y\": 0.49139828979969025, \"yref\": \"y\"}, {\"font\": {\"color\": \"black\", \"family\": \"droid-sans\", \"size\": 16}, \"showarrow\": false, \"text\": \"6%\", \"x\": 6, \"xref\": \"x\", \"y\": 0.6632805615663528, \"yref\": \"y\"}, {\"font\": {\"color\": \"black\", \"family\": \"droid-sans\", \"size\": 16}, \"showarrow\": false, \"text\": \"10%\", \"x\": 6, \"xref\": \"x\", \"y\": 0.8973978161811829, \"yref\": \"y\"}, {\"font\": {\"color\": \"black\", \"family\": \"droid-sans\", \"size\": 16}, \"showarrow\": false, \"text\": \"11%\", \"x\": 6, \"xref\": \"x\", \"y\": 1.1893295794725418, \"yref\": \"y\"}, {\"font\": {\"color\": \"black\", \"family\": \"droid-sans\", \"size\": 16}, \"showarrow\": false, \"text\": \"9%\", \"x\": 6, \"xref\": \"x\", \"y\": 1.4658639878034592, \"yref\": \"y\"}, {\"font\": {\"color\": \"black\", \"family\": \"droid-sans\", \"size\": 16}, \"showarrow\": false, \"text\": \"17%\", \"x\": 6, \"xref\": \"x\", \"y\": 1.8268229216337204, \"yref\": \"y\"}, {\"font\": {\"color\": \"black\", \"family\": \"droid-sans\", \"size\": 16}, \"showarrow\": false, \"text\": \"12%\", \"x\": 6, \"xref\": \"x\", \"y\": 2.2248159497976303, \"yref\": \"y\"}, {\"font\": {\"color\": \"black\", \"family\": \"droid-sans\", \"size\": 16}, \"showarrow\": false, \"text\": \"14%\", \"x\": 6, \"xref\": \"x\", \"y\": 2.5864792466163635, \"yref\": \"y\"}, {\"font\": {\"color\": \"black\", \"family\": \"droid-sans\", \"size\": 16}, \"showarrow\": false, \"text\": \"6%\", \"x\": 7, \"xref\": \"x\", \"y\": 0.07951180636882782, \"yref\": \"y\"}, {\"font\": {\"color\": \"black\", \"family\": \"droid-sans\", \"size\": 16}, \"showarrow\": false, \"text\": \"9%\", \"x\": 7, \"xref\": \"x\", \"y\": 0.28137925267219543, \"yref\": \"y\"}, {\"font\": {\"color\": \"black\", \"family\": \"droid-sans\", \"size\": 16}, \"showarrow\": false, \"text\": \"7%\", \"x\": 7, \"xref\": \"x\", \"y\": 0.501572959125042, \"yref\": \"y\"}, {\"font\": {\"color\": \"black\", \"family\": \"droid-sans\", \"size\": 16}, \"showarrow\": false, \"text\": \"7%\", \"x\": 7, \"xref\": \"x\", \"y\": 0.6938537135720253, \"yref\": \"y\"}, {\"font\": {\"color\": \"black\", \"family\": \"droid-sans\", \"size\": 16}, \"showarrow\": false, \"text\": \"11%\", \"x\": 7, \"xref\": \"x\", \"y\": 0.9318435341119766, \"yref\": \"y\"}, {\"font\": {\"color\": \"black\", \"family\": \"droid-sans\", \"size\": 16}, \"showarrow\": false, \"text\": \"11%\", \"x\": 7, \"xref\": \"x\", \"y\": 1.2172240316867828, \"yref\": \"y\"}, {\"font\": {\"color\": \"black\", \"family\": \"droid-sans\", \"size\": 16}, \"showarrow\": false, \"text\": \"9%\", \"x\": 7, \"xref\": \"x\", \"y\": 1.4851614981889725, \"yref\": \"y\"}, {\"font\": {\"color\": \"black\", \"family\": \"droid-sans\", \"size\": 16}, \"showarrow\": false, \"text\": \"15%\", \"x\": 7, \"xref\": \"x\", \"y\": 1.8177060633897781, \"yref\": \"y\"}, {\"font\": {\"color\": \"black\", \"family\": \"droid-sans\", \"size\": 16}, \"showarrow\": false, \"text\": \"11%\", \"x\": 7, \"xref\": \"x\", \"y\": 2.1768199503421783, \"yref\": \"y\"}, {\"font\": {\"color\": \"black\", \"family\": \"droid-sans\", \"size\": 16}, \"showarrow\": false, \"text\": \"13%\", \"x\": 7, \"xref\": \"x\", \"y\": 2.49969744682312, \"yref\": \"y\"}, {\"font\": {\"color\": \"black\", \"family\": \"droid-sans\", \"size\": 16}, \"showarrow\": false, \"text\": \"5%\", \"x\": 8, \"xref\": \"x\", \"y\": 0.07492193579673767, \"yref\": \"y\"}, {\"font\": {\"color\": \"black\", \"family\": \"droid-sans\", \"size\": 16}, \"showarrow\": false, \"text\": \"9%\", \"x\": 8, \"xref\": \"x\", \"y\": 0.2809388339519501, \"yref\": \"y\"}, {\"font\": {\"color\": \"black\", \"family\": \"droid-sans\", \"size\": 16}, \"showarrow\": false, \"text\": \"7%\", \"x\": 8, \"xref\": \"x\", \"y\": 0.5177634507417679, \"yref\": \"y\"}, {\"font\": {\"color\": \"black\", \"family\": \"droid-sans\", \"size\": 16}, \"showarrow\": false, \"text\": \"7%\", \"x\": 8, \"xref\": \"x\", \"y\": 0.7336558327078819, \"yref\": \"y\"}, {\"font\": {\"color\": \"black\", \"family\": \"droid-sans\", \"size\": 16}, \"showarrow\": false, \"text\": \"10%\", \"x\": 8, \"xref\": \"x\", \"y\": 0.9993334412574768, \"yref\": \"y\"}, {\"font\": {\"color\": \"black\", \"family\": \"droid-sans\", \"size\": 16}, \"showarrow\": false, \"text\": \"11%\", \"x\": 8, \"xref\": \"x\", \"y\": 1.3199383020401, \"yref\": \"y\"}, {\"font\": {\"color\": \"black\", \"family\": \"droid-sans\", \"size\": 16}, \"showarrow\": false, \"text\": \"10%\", \"x\": 8, \"xref\": \"x\", \"y\": 1.636887937784195, \"yref\": \"y\"}, {\"font\": {\"color\": \"black\", \"family\": \"droid-sans\", \"size\": 16}, \"showarrow\": false, \"text\": \"16%\", \"x\": 8, \"xref\": \"x\", \"y\": 2.032025784254074, \"yref\": \"y\"}, {\"font\": {\"color\": \"black\", \"family\": \"droid-sans\", \"size\": 16}, \"showarrow\": false, \"text\": \"13%\", \"x\": 8, \"xref\": \"x\", \"y\": 2.4686936140060425, \"yref\": \"y\"}, {\"font\": {\"color\": \"black\", \"family\": \"droid-sans\", \"size\": 16}, \"showarrow\": false, \"text\": \"12%\", \"x\": 8, \"xref\": \"x\", \"y\": 2.8353795409202576, \"yref\": \"y\"}, {\"font\": {\"color\": \"black\", \"family\": \"droid-sans\", \"size\": 16}, \"showarrow\": false, \"text\": \"5%\", \"x\": 9, \"xref\": \"x\", \"y\": 0.06794365495443344, \"yref\": \"y\"}, {\"font\": {\"color\": \"black\", \"family\": \"droid-sans\", \"size\": 16}, \"showarrow\": false, \"text\": \"9%\", \"x\": 9, \"xref\": \"x\", \"y\": 0.256200835108757, \"yref\": \"y\"}, {\"font\": {\"color\": \"black\", \"family\": \"droid-sans\", \"size\": 16}, \"showarrow\": false, \"text\": \"6%\", \"x\": 9, \"xref\": \"x\", \"y\": 0.45851603895425797, \"yref\": \"y\"}, {\"font\": {\"color\": \"black\", \"family\": \"droid-sans\", \"size\": 16}, \"showarrow\": false, \"text\": \"6%\", \"x\": 9, \"xref\": \"x\", \"y\": 0.6307447403669357, \"yref\": \"y\"}, {\"font\": {\"color\": \"black\", \"family\": \"droid-sans\", \"size\": 16}, \"showarrow\": false, \"text\": \"9%\", \"x\": 9, \"xref\": \"x\", \"y\": 0.8489765226840973, \"yref\": \"y\"}, {\"font\": {\"color\": \"black\", \"family\": \"droid-sans\", \"size\": 16}, \"showarrow\": false, \"text\": \"10%\", \"x\": 9, \"xref\": \"x\", \"y\": 1.1203237473964691, \"yref\": \"y\"}, {\"font\": {\"color\": \"black\", \"family\": \"droid-sans\", \"size\": 16}, \"showarrow\": false, \"text\": \"9%\", \"x\": 9, \"xref\": \"x\", \"y\": 1.385771855711937, \"yref\": \"y\"}, {\"font\": {\"color\": \"black\", \"family\": \"droid-sans\", \"size\": 16}, \"showarrow\": false, \"text\": \"16%\", \"x\": 9, \"xref\": \"x\", \"y\": 1.727899044752121, \"yref\": \"y\"}, {\"font\": {\"color\": \"black\", \"family\": \"droid-sans\", \"size\": 16}, \"showarrow\": false, \"text\": \"14%\", \"x\": 9, \"xref\": \"x\", \"y\": 2.145072504878044, \"yref\": \"y\"}, {\"font\": {\"color\": \"black\", \"family\": \"droid-sans\", \"size\": 16}, \"showarrow\": false, \"text\": \"17%\", \"x\": 9, \"xref\": \"x\", \"y\": 2.579137936234474, \"yref\": \"y\"}, {\"font\": {\"color\": \"black\", \"family\": \"droid-sans\", \"size\": 16}, \"showarrow\": false, \"text\": \"5%\", \"x\": 10, \"xref\": \"x\", \"y\": 0.0673878937959671, \"yref\": \"y\"}, {\"font\": {\"color\": \"black\", \"family\": \"droid-sans\", \"size\": 16}, \"showarrow\": false, \"text\": \"11%\", \"x\": 10, \"xref\": \"x\", \"y\": 0.28066225349903107, \"yref\": \"y\"}, {\"font\": {\"color\": \"black\", \"family\": \"droid-sans\", \"size\": 16}, \"showarrow\": false, \"text\": \"6%\", \"x\": 10, \"xref\": \"x\", \"y\": 0.5056953430175781, \"yref\": \"y\"}, {\"font\": {\"color\": \"black\", \"family\": \"droid-sans\", \"size\": 16}, \"showarrow\": false, \"text\": \"7%\", \"x\": 10, \"xref\": \"x\", \"y\": 0.6811059713363647, \"yref\": \"y\"}, {\"font\": {\"color\": \"black\", \"family\": \"droid-sans\", \"size\": 16}, \"showarrow\": false, \"text\": \"10%\", \"x\": 10, \"xref\": \"x\", \"y\": 0.9104051440954208, \"yref\": \"y\"}, {\"font\": {\"color\": \"black\", \"family\": \"droid-sans\", \"size\": 16}, \"showarrow\": false, \"text\": \"10%\", \"x\": 10, \"xref\": \"x\", \"y\": 1.1817597448825836, \"yref\": \"y\"}, {\"font\": {\"color\": \"black\", \"family\": \"droid-sans\", \"size\": 16}, \"showarrow\": false, \"text\": \"9%\", \"x\": 10, \"xref\": \"x\", \"y\": 1.4367244839668274, \"yref\": \"y\"}, {\"font\": {\"color\": \"black\", \"family\": \"droid-sans\", \"size\": 16}, \"showarrow\": false, \"text\": \"16%\", \"x\": 10, \"xref\": \"x\", \"y\": 1.7705509066581726, \"yref\": \"y\"}, {\"font\": {\"color\": \"black\", \"family\": \"droid-sans\", \"size\": 16}, \"showarrow\": false, \"text\": \"12%\", \"x\": 10, \"xref\": \"x\", \"y\": 2.1587920784950256, \"yref\": \"y\"}, {\"font\": {\"color\": \"black\", \"family\": \"droid-sans\", \"size\": 16}, \"showarrow\": false, \"text\": \"15%\", \"x\": 10, \"xref\": \"x\", \"y\": 2.535317525267601, \"yref\": \"y\"}, {\"font\": {\"color\": \"black\", \"family\": \"droid-sans\", \"size\": 16}, \"showarrow\": false, \"text\": \"4%\", \"x\": 11, \"xref\": \"x\", \"y\": 0.06773807853460312, \"yref\": \"y\"}, {\"font\": {\"color\": \"black\", \"family\": \"droid-sans\", \"size\": 16}, \"showarrow\": false, \"text\": \"10%\", \"x\": 11, \"xref\": \"x\", \"y\": 0.29308825731277466, \"yref\": \"y\"}, {\"font\": {\"color\": \"black\", \"family\": \"droid-sans\", \"size\": 16}, \"showarrow\": false, \"text\": \"5%\", \"x\": 11, \"xref\": \"x\", \"y\": 0.5338904857635498, \"yref\": \"y\"}, {\"font\": {\"color\": \"black\", \"family\": \"droid-sans\", \"size\": 16}, \"showarrow\": false, \"text\": \"5%\", \"x\": 11, \"xref\": \"x\", \"y\": 0.7013679519295692, \"yref\": \"y\"}, {\"font\": {\"color\": \"black\", \"family\": \"droid-sans\", \"size\": 16}, \"showarrow\": false, \"text\": \"10%\", \"x\": 11, \"xref\": \"x\", \"y\": 0.9352239966392517, \"yref\": \"y\"}, {\"font\": {\"color\": \"black\", \"family\": \"droid-sans\", \"size\": 16}, \"showarrow\": false, \"text\": \"9%\", \"x\": 11, \"xref\": \"x\", \"y\": 1.2314834594726562, \"yref\": \"y\"}, {\"font\": {\"color\": \"black\", \"family\": \"droid-sans\", \"size\": 16}, \"showarrow\": false, \"text\": \"7%\", \"x\": 11, \"xref\": \"x\", \"y\": 1.4884543120861053, \"yref\": \"y\"}, {\"font\": {\"color\": \"black\", \"family\": \"droid-sans\", \"size\": 16}, \"showarrow\": false, \"text\": \"15%\", \"x\": 11, \"xref\": \"x\", \"y\": 1.8299248814582825, \"yref\": \"y\"}, {\"font\": {\"color\": \"black\", \"family\": \"droid-sans\", \"size\": 16}, \"showarrow\": false, \"text\": \"14%\", \"x\": 11, \"xref\": \"x\", \"y\": 2.2710161358118057, \"yref\": \"y\"}, {\"font\": {\"color\": \"black\", \"family\": \"droid-sans\", \"size\": 16}, \"showarrow\": false, \"text\": \"20%\", \"x\": 11, \"xref\": \"x\", \"y\": 2.785194993019104, \"yref\": \"y\"}, {\"font\": {\"color\": \"black\", \"family\": \"droid-sans\", \"size\": 16}, \"showarrow\": false, \"text\": \"4%\", \"x\": 12, \"xref\": \"x\", \"y\": 0.0902872234582901, \"yref\": \"y\"}, {\"font\": {\"color\": \"black\", \"family\": \"droid-sans\", \"size\": 16}, \"showarrow\": false, \"text\": \"10%\", \"x\": 12, \"xref\": \"x\", \"y\": 0.39200787246227264, \"yref\": \"y\"}, {\"font\": {\"color\": \"black\", \"family\": \"droid-sans\", \"size\": 16}, \"showarrow\": false, \"text\": \"5%\", \"x\": 12, \"xref\": \"x\", \"y\": 0.7079716697335243, \"yref\": \"y\"}, {\"font\": {\"color\": \"black\", \"family\": \"droid-sans\", \"size\": 16}, \"showarrow\": false, \"text\": \"5%\", \"x\": 12, \"xref\": \"x\", \"y\": 0.9233965948224068, \"yref\": \"y\"}, {\"font\": {\"color\": \"black\", \"family\": \"droid-sans\", \"size\": 16}, \"showarrow\": false, \"text\": \"10%\", \"x\": 12, \"xref\": \"x\", \"y\": 1.2548992335796356, \"yref\": \"y\"}, {\"font\": {\"color\": \"black\", \"family\": \"droid-sans\", \"size\": 16}, \"showarrow\": false, \"text\": \"10%\", \"x\": 12, \"xref\": \"x\", \"y\": 1.6803286373615265, \"yref\": \"y\"}, {\"font\": {\"color\": \"black\", \"family\": \"droid-sans\", \"size\": 16}, \"showarrow\": false, \"text\": \"8%\", \"x\": 12, \"xref\": \"x\", \"y\": 2.05712728202343, \"yref\": \"y\"}, {\"font\": {\"color\": \"black\", \"family\": \"droid-sans\", \"size\": 16}, \"showarrow\": false, \"text\": \"15%\", \"x\": 12, \"xref\": \"x\", \"y\": 2.5414492785930634, \"yref\": \"y\"}, {\"font\": {\"color\": \"black\", \"family\": \"droid-sans\", \"size\": 16}, \"showarrow\": false, \"text\": \"12%\", \"x\": 12, \"xref\": \"x\", \"y\": 3.1119941771030426, \"yref\": \"y\"}, {\"font\": {\"color\": \"black\", \"family\": \"droid-sans\", \"size\": 16}, \"showarrow\": false, \"text\": \"20%\", \"x\": 12, \"xref\": \"x\", \"y\": 3.7893259525299072, \"yref\": \"y\"}], \"barmode\": \"relative\", \"coloraxis\": {\"colorbar\": {\"title\": {\"text\": \"Binned Item Price\"}}, \"colorscale\": [[0.0, \"rgb(12,51,131)\"], [0.25, \"rgb(10,136,186)\"], [0.5, \"rgb(242,211,56)\"], [0.75, \"rgb(242,143,56)\"], [1.0, \"rgb(217,30,30)\"]]}, \"height\": 800, \"legend\": {\"tracegroupgap\": 0}, \"margin\": {\"t\": 60}, \"template\": {\"data\": {\"bar\": [{\"error_x\": {\"color\": \"rgb(51,51,51)\"}, \"error_y\": {\"color\": \"rgb(51,51,51)\"}, \"marker\": {\"line\": {\"color\": \"rgb(237,237,237)\", \"width\": 0.5}}, \"type\": \"bar\"}], \"barpolar\": [{\"marker\": {\"line\": {\"color\": \"rgb(237,237,237)\", \"width\": 0.5}}, \"type\": \"barpolar\"}], \"carpet\": [{\"aaxis\": {\"endlinecolor\": \"rgb(51,51,51)\", \"gridcolor\": \"white\", \"linecolor\": \"white\", \"minorgridcolor\": \"white\", \"startlinecolor\": \"rgb(51,51,51)\"}, \"baxis\": {\"endlinecolor\": \"rgb(51,51,51)\", \"gridcolor\": \"white\", \"linecolor\": \"white\", \"minorgridcolor\": \"white\", \"startlinecolor\": \"rgb(51,51,51)\"}, \"type\": \"carpet\"}], \"choropleth\": [{\"colorbar\": {\"outlinewidth\": 0, \"tickcolor\": \"rgb(237,237,237)\", \"ticklen\": 6, \"ticks\": \"inside\"}, \"type\": \"choropleth\"}], \"contour\": [{\"colorbar\": {\"outlinewidth\": 0, \"tickcolor\": \"rgb(237,237,237)\", \"ticklen\": 6, \"ticks\": \"inside\"}, \"colorscale\": [[0, \"rgb(20,44,66)\"], [1, \"rgb(90,179,244)\"]], \"type\": \"contour\"}], \"contourcarpet\": [{\"colorbar\": {\"outlinewidth\": 0, \"tickcolor\": \"rgb(237,237,237)\", \"ticklen\": 6, \"ticks\": \"inside\"}, \"type\": \"contourcarpet\"}], \"heatmap\": [{\"colorbar\": {\"outlinewidth\": 0, \"tickcolor\": \"rgb(237,237,237)\", \"ticklen\": 6, \"ticks\": \"inside\"}, \"colorscale\": [[0, \"rgb(20,44,66)\"], [1, \"rgb(90,179,244)\"]], \"type\": \"heatmap\"}], \"heatmapgl\": [{\"colorbar\": {\"outlinewidth\": 0, \"tickcolor\": \"rgb(237,237,237)\", \"ticklen\": 6, \"ticks\": \"inside\"}, \"colorscale\": [[0, \"rgb(20,44,66)\"], [1, \"rgb(90,179,244)\"]], \"type\": \"heatmapgl\"}], \"histogram\": [{\"marker\": {\"colorbar\": {\"outlinewidth\": 0, \"tickcolor\": \"rgb(237,237,237)\", \"ticklen\": 6, \"ticks\": \"inside\"}}, \"type\": \"histogram\"}], \"histogram2d\": [{\"colorbar\": {\"outlinewidth\": 0, \"tickcolor\": \"rgb(237,237,237)\", \"ticklen\": 6, \"ticks\": \"inside\"}, \"colorscale\": [[0, \"rgb(20,44,66)\"], [1, \"rgb(90,179,244)\"]], \"type\": \"histogram2d\"}], \"histogram2dcontour\": [{\"colorbar\": {\"outlinewidth\": 0, \"tickcolor\": \"rgb(237,237,237)\", \"ticklen\": 6, \"ticks\": \"inside\"}, \"colorscale\": [[0, \"rgb(20,44,66)\"], [1, \"rgb(90,179,244)\"]], \"type\": \"histogram2dcontour\"}], \"mesh3d\": [{\"colorbar\": {\"outlinewidth\": 0, \"tickcolor\": \"rgb(237,237,237)\", \"ticklen\": 6, \"ticks\": \"inside\"}, \"type\": \"mesh3d\"}], \"parcoords\": [{\"line\": {\"colorbar\": {\"outlinewidth\": 0, \"tickcolor\": \"rgb(237,237,237)\", \"ticklen\": 6, \"ticks\": \"inside\"}}, \"type\": \"parcoords\"}], \"pie\": [{\"automargin\": true, \"type\": \"pie\"}], \"scatter\": [{\"marker\": {\"colorbar\": {\"outlinewidth\": 0, \"tickcolor\": \"rgb(237,237,237)\", \"ticklen\": 6, \"ticks\": \"inside\"}}, \"type\": \"scatter\"}], \"scatter3d\": [{\"line\": {\"colorbar\": {\"outlinewidth\": 0, \"tickcolor\": \"rgb(237,237,237)\", \"ticklen\": 6, \"ticks\": \"inside\"}}, \"marker\": {\"colorbar\": {\"outlinewidth\": 0, \"tickcolor\": \"rgb(237,237,237)\", \"ticklen\": 6, \"ticks\": \"inside\"}}, \"type\": \"scatter3d\"}], \"scattercarpet\": [{\"marker\": {\"colorbar\": {\"outlinewidth\": 0, \"tickcolor\": \"rgb(237,237,237)\", \"ticklen\": 6, \"ticks\": \"inside\"}}, \"type\": \"scattercarpet\"}], \"scattergeo\": [{\"marker\": {\"colorbar\": {\"outlinewidth\": 0, \"tickcolor\": \"rgb(237,237,237)\", \"ticklen\": 6, \"ticks\": \"inside\"}}, \"type\": \"scattergeo\"}], \"scattergl\": [{\"marker\": {\"colorbar\": {\"outlinewidth\": 0, \"tickcolor\": \"rgb(237,237,237)\", \"ticklen\": 6, \"ticks\": \"inside\"}}, \"type\": \"scattergl\"}], \"scattermapbox\": [{\"marker\": {\"colorbar\": {\"outlinewidth\": 0, \"tickcolor\": \"rgb(237,237,237)\", \"ticklen\": 6, \"ticks\": \"inside\"}}, \"type\": \"scattermapbox\"}], \"scatterpolar\": [{\"marker\": {\"colorbar\": {\"outlinewidth\": 0, \"tickcolor\": \"rgb(237,237,237)\", \"ticklen\": 6, \"ticks\": \"inside\"}}, \"type\": \"scatterpolar\"}], \"scatterpolargl\": [{\"marker\": {\"colorbar\": {\"outlinewidth\": 0, \"tickcolor\": \"rgb(237,237,237)\", \"ticklen\": 6, \"ticks\": \"inside\"}}, \"type\": \"scatterpolargl\"}], \"scatterternary\": [{\"marker\": {\"colorbar\": {\"outlinewidth\": 0, \"tickcolor\": \"rgb(237,237,237)\", \"ticklen\": 6, \"ticks\": \"inside\"}}, \"type\": \"scatterternary\"}], \"surface\": [{\"colorbar\": {\"outlinewidth\": 0, \"tickcolor\": \"rgb(237,237,237)\", \"ticklen\": 6, \"ticks\": \"inside\"}, \"colorscale\": [[0, \"rgb(20,44,66)\"], [1, \"rgb(90,179,244)\"]], \"type\": \"surface\"}], \"table\": [{\"cells\": {\"fill\": {\"color\": \"rgb(237,237,237)\"}, \"line\": {\"color\": \"white\"}}, \"header\": {\"fill\": {\"color\": \"rgb(217,217,217)\"}, \"line\": {\"color\": \"white\"}}, \"type\": \"table\"}]}, \"layout\": {\"annotationdefaults\": {\"arrowhead\": 0, \"arrowwidth\": 1}, \"coloraxis\": {\"colorbar\": {\"outlinewidth\": 0, \"tickcolor\": \"rgb(237,237,237)\", \"ticklen\": 6, \"ticks\": \"inside\"}}, \"colorscale\": {\"sequential\": [[0, \"rgb(20,44,66)\"], [1, \"rgb(90,179,244)\"]], \"sequentialminus\": [[0, \"rgb(20,44,66)\"], [1, \"rgb(90,179,244)\"]]}, \"colorway\": [\"#F8766D\", \"#A3A500\", \"#00BF7D\", \"#00B0F6\", \"#E76BF3\"], \"font\": {\"color\": \"rgb(51,51,51)\"}, \"geo\": {\"bgcolor\": \"white\", \"lakecolor\": \"white\", \"landcolor\": \"rgb(237,237,237)\", \"showlakes\": true, \"showland\": true, \"subunitcolor\": \"white\"}, \"hoverlabel\": {\"align\": \"left\"}, \"hovermode\": \"closest\", \"paper_bgcolor\": \"white\", \"plot_bgcolor\": \"rgb(237,237,237)\", \"polar\": {\"angularaxis\": {\"gridcolor\": \"white\", \"linecolor\": \"white\", \"showgrid\": true, \"tickcolor\": \"rgb(51,51,51)\", \"ticks\": \"outside\"}, \"bgcolor\": \"rgb(237,237,237)\", \"radialaxis\": {\"gridcolor\": \"white\", \"linecolor\": \"white\", \"showgrid\": true, \"tickcolor\": \"rgb(51,51,51)\", \"ticks\": \"outside\"}}, \"scene\": {\"xaxis\": {\"backgroundcolor\": \"rgb(237,237,237)\", \"gridcolor\": \"white\", \"gridwidth\": 2, \"linecolor\": \"white\", \"showbackground\": true, \"showgrid\": true, \"tickcolor\": \"rgb(51,51,51)\", \"ticks\": \"outside\", \"zerolinecolor\": \"white\"}, \"yaxis\": {\"backgroundcolor\": \"rgb(237,237,237)\", \"gridcolor\": \"white\", \"gridwidth\": 2, \"linecolor\": \"white\", \"showbackground\": true, \"showgrid\": true, \"tickcolor\": \"rgb(51,51,51)\", \"ticks\": \"outside\", \"zerolinecolor\": \"white\"}, \"zaxis\": {\"backgroundcolor\": \"rgb(237,237,237)\", \"gridcolor\": \"white\", \"gridwidth\": 2, \"linecolor\": \"white\", \"showbackground\": true, \"showgrid\": true, \"tickcolor\": \"rgb(51,51,51)\", \"ticks\": \"outside\", \"zerolinecolor\": \"white\"}}, \"shapedefaults\": {\"fillcolor\": \"black\", \"line\": {\"width\": 0}, \"opacity\": 0.3}, \"ternary\": {\"aaxis\": {\"gridcolor\": \"white\", \"linecolor\": \"white\", \"showgrid\": true, \"tickcolor\": \"rgb(51,51,51)\", \"ticks\": \"outside\"}, \"baxis\": {\"gridcolor\": \"white\", \"linecolor\": \"white\", \"showgrid\": true, \"tickcolor\": \"rgb(51,51,51)\", \"ticks\": \"outside\"}, \"bgcolor\": \"rgb(237,237,237)\", \"caxis\": {\"gridcolor\": \"white\", \"linecolor\": \"white\", \"showgrid\": true, \"tickcolor\": \"rgb(51,51,51)\", \"ticks\": \"outside\"}}, \"xaxis\": {\"automargin\": true, \"gridcolor\": \"white\", \"linecolor\": \"white\", \"showgrid\": true, \"tickcolor\": \"rgb(51,51,51)\", \"ticks\": \"outside\", \"title\": {\"standoff\": 15}, \"zerolinecolor\": \"white\"}, \"yaxis\": {\"automargin\": true, \"gridcolor\": \"white\", \"linecolor\": \"white\", \"showgrid\": true, \"tickcolor\": \"rgb(51,51,51)\", \"ticks\": \"outside\", \"title\": {\"standoff\": 15}, \"zerolinecolor\": \"white\"}}}, \"title\": {\"font\": {\"color\": \"darkslateblue\", \"size\": 20}, \"text\": \"Average Sales per Month and Binned Item Price\"}, \"width\": 800, \"xaxis\": {\"anchor\": \"y\", \"domain\": [0.0, 1.0], \"tickfont\": {\"size\": 16}, \"title\": {\"font\": {\"size\": 20}, \"text\": \"Month of Sale\"}}, \"yaxis\": {\"anchor\": \"x\", \"domain\": [0.0, 1.0], \"nticks\": 10, \"tickfont\": {\"size\": 16}, \"title\": {\"font\": {\"size\": 20}, \"text\": \"Avg Units Sold\"}}},                        {\"responsive\": true}                    ).then(function(){\n",
       "                            \n",
       "var gd = document.getElementById('e039fca2-31a9-499b-8078-eb9e1631cf83');\n",
       "var x = new MutationObserver(function (mutations, observer) {{\n",
       "        var display = window.getComputedStyle(gd).display;\n",
       "        if (!display || display === 'none') {{\n",
       "            console.log([gd, 'removed!']);\n",
       "            Plotly.purge(gd);\n",
       "            observer.disconnect();\n",
       "        }}\n",
       "}});\n",
       "\n",
       "// Listen for the removal of the full notebook cells\n",
       "var notebookContainer = gd.closest('#notebook-container');\n",
       "if (notebookContainer) {{\n",
       "    x.observe(notebookContainer, {childList: true});\n",
       "}}\n",
       "\n",
       "// Listen for the clearing of the current output cell\n",
       "var outputEl = gd.closest('.output');\n",
       "if (outputEl) {{\n",
       "    x.observe(outputEl, {childList: true});\n",
       "}}\n",
       "\n",
       "                        })                };                });            </script>        </div>"
      ]
     },
     "metadata": {},
     "output_type": "display_data"
    }
   ],
   "source": [
    "def plot_sales_per_bin(bin_edges):\n",
    "\n",
    "    vizdata = (\n",
    "        df.loc[df[\"train\"] == 1]\n",
    "        .groupby(by=[\"binned_item_price\", \"month\"], as_index=False)\n",
    "        .mean()\n",
    "    )\n",
    "    vizdata[\"binned_item_price\"] = vizdata[\"binned_item_price\"].map(bin_edges)\n",
    "\n",
    "    fig = go.Figure(\n",
    "        px.bar(\n",
    "            data_frame=vizdata,\n",
    "            y=\"item_cnt_month\",\n",
    "            x=\"month\",\n",
    "            labels={\"binned_item_price\": \"Binned Item Price\"},\n",
    "            opacity=0.6,\n",
    "            color=\"binned_item_price\",\n",
    "            color_continuous_scale=px.colors.diverging.Portland,\n",
    "            orientation=\"v\",\n",
    "        )\n",
    "    )\n",
    "\n",
    "    fig.update_xaxes(\n",
    "        title_text=\"Month of Sale\", titlefont=dict(size=20), tickfont=dict(size=16)\n",
    "    )\n",
    "    fig.update_yaxes(\n",
    "        title_text=\"Avg Units Sold\",\n",
    "        titlefont=dict(size=20),\n",
    "        tickfont=dict(size=16),\n",
    "        nticks=10,\n",
    "    )\n",
    "    fig.update_layout(\n",
    "        title=go.layout.Title(\n",
    "            text=\"Average Sales per Month and Binned Item Price\",\n",
    "            font=dict(size=20, color=\"darkslateblue\"),\n",
    "        )\n",
    "    )\n",
    "\n",
    "    annot = []\n",
    "\n",
    "    for x in set(vizdata[\"month\"]):\n",
    "        record = vizdata.loc[vizdata[\"month\"] == x]\n",
    "        yd = record[\"item_cnt_month\"].values\n",
    "\n",
    "        space = 0\n",
    "        for n in range(10):\n",
    "            annot.append(\n",
    "                dict(\n",
    "                    xref=\"x\",\n",
    "                    yref=\"y\",\n",
    "                    y=space + yd[n] / 2,\n",
    "                    x=x,\n",
    "                    text=\"{0:.0%}\".format(yd[n] / yd.sum()),\n",
    "                    font=dict(size=16, color=\"black\", family=\"droid-sans\"),\n",
    "                    showarrow=False,\n",
    "                )\n",
    "            )\n",
    "            space += yd[n]\n",
    "\n",
    "    fig.update_layout(\n",
    "        height=800,\n",
    "        width=800,\n",
    "        template=\"ggplot2\",\n",
    "        annotations=annot,\n",
    "    )\n",
    "\n",
    "    return fig\n",
    "\n",
    "\n",
    "plot_sales_per_bin(bin_edges).show()\n"
   ]
  },
  {
   "cell_type": "markdown",
   "metadata": {
    "papermill": {
     "duration": 0.065467,
     "end_time": "2020-10-20T12:38:33.481683",
     "exception": false,
     "start_time": "2020-10-20T12:38:33.416216",
     "status": "completed"
    },
    "tags": []
   },
   "source": [
    "It's quite interesting to see that the demand for the most expensive items increase considerably during winter/holiday season."
   ]
  },
  {
   "cell_type": "markdown",
   "metadata": {
    "papermill": {
     "duration": 0.066243,
     "end_time": "2020-10-20T12:38:33.614677",
     "exception": false,
     "start_time": "2020-10-20T12:38:33.548434",
     "status": "completed"
    },
    "tags": []
   },
   "source": [
    "Below I establish a new feature that indicates whether a sales record is the first sales for the item/shop combination. "
   ]
  },
  {
   "cell_type": "code",
   "execution_count": 39,
   "metadata": {
    "execution": {
     "iopub.execute_input": "2020-10-20T12:38:33.763982Z",
     "iopub.status.busy": "2020-10-20T12:38:33.763278Z",
     "iopub.status.idle": "2020-10-20T12:39:05.120642Z",
     "shell.execute_reply": "2020-10-20T12:39:05.120051Z"
    },
    "papermill": {
     "duration": 31.440367,
     "end_time": "2020-10-20T12:39:05.120787",
     "exception": false,
     "start_time": "2020-10-20T12:38:33.680420",
     "status": "completed"
    },
    "tags": []
   },
   "outputs": [],
   "source": [
    "def determine_first_sale(df):\n",
    "    # Determine whether a record indicates first sale for the item/shop\n",
    "    item_firstsale = (\n",
    "        df[df[\"item_cnt_month\"] > 0].groupby(by=[\"item_id\", \"shop_id\"])[\"date_block_num\"].min())\n",
    "    df[\"item_firstsale_month\"] = df.set_index([\"item_id\", \"shop_id\"]).index.map(item_firstsale)\n",
    "    \n",
    "    df[\"item_first_sale\"] = 0\n",
    "    df.loc[df[\"item_firstsale_month\"] == df[\"date_block_num\"], \"item_first_sale\"] = 1\n",
    "    df.drop(columns=[\"item_firstsale_month\"], inplace=True)\n",
    "    \n",
    "    return df\n",
    "\n",
    "\n",
    "df = determine_first_sale(df)"
   ]
  },
  {
   "cell_type": "markdown",
   "metadata": {
    "papermill": {
     "duration": 0.067613,
     "end_time": "2020-10-20T12:39:05.255515",
     "exception": false,
     "start_time": "2020-10-20T12:39:05.187902",
     "status": "completed"
    },
    "tags": []
   },
   "source": [
    "# Lag Features\n",
    "\n",
    "\n",
    "Creating lag features to capture previous months sales for the item/shop. <br>The intent here is to reframe/convert the problem from time-series forecasting to supervised learning."
   ]
  },
  {
   "cell_type": "code",
   "execution_count": 40,
   "metadata": {
    "execution": {
     "iopub.execute_input": "2020-10-20T12:39:05.404325Z",
     "iopub.status.busy": "2020-10-20T12:39:05.403603Z",
     "iopub.status.idle": "2020-10-20T12:40:13.215529Z",
     "shell.execute_reply": "2020-10-20T12:40:13.214599Z"
    },
    "papermill": {
     "duration": 67.894454,
     "end_time": "2020-10-20T12:40:13.215731",
     "exception": false,
     "start_time": "2020-10-20T12:39:05.321277",
     "status": "completed"
    },
    "tags": []
   },
   "outputs": [],
   "source": [
    "def set_lag_features(df):\n",
    "    '''\n",
    "    1) Sort DF ascending\n",
    "    2) Create 1,2,3,4,5,6,12 lag features for item/shop sales (same as item_cnt_month)\n",
    "        by shifting/pushing item_cnt_month down\n",
    "    3) Create 1,2,3 lag features for cat_shop_sales\n",
    "    4) Fill nan values with 0\n",
    "    5) Delete newly created features that are non-lag to prevent leak\n",
    "    '''\n",
    "    \n",
    "    \n",
    "    df[df[\"train\"] == 1] = df[df[\"train\"] == 1].sort_values(by=[\"date_block_num\"])\n",
    "    \n",
    "    df[\"item_shop_sales_t_1\"] = df.groupby(by=[\"item_id\", \"shop_id\"], sort=False)[\"item_cnt_month\"].shift(1).values\n",
    "    df[\"item_shop_sales_t_2\"] = df.groupby(by=[\"item_id\", \"shop_id\"], sort=False)[\"item_cnt_month\"].shift(2).values\n",
    "    df[\"item_shop_sales_t_3\"] = df.groupby(by=[\"item_id\", \"shop_id\"], sort=False)[\"item_cnt_month\"].shift(3).values\n",
    "    df[\"item_shop_sales_t_4\"] = df.groupby(by=[\"item_id\", \"shop_id\"], sort=False)[\"item_cnt_month\"].shift(4).values\n",
    "    df[\"item_shop_sales_t_5\"] = df.groupby(by=[\"item_id\", \"shop_id\"], sort=False)[\"item_cnt_month\"].shift(5).values\n",
    "    df[\"item_shop_sales_t_6\"] = df.groupby(by=[\"item_id\", \"shop_id\"], sort=False)[\"item_cnt_month\"].shift(6).values\n",
    "    df[\"item_shop_sales_t_12\"] = df.groupby(by=[\"item_id\", \"shop_id\"], sort=False)[\"item_cnt_month\"].shift(12).values\n",
    "    \n",
    "    category_shop_sales = df.groupby(by=['item_cat_id','shop_id','date_block_num'])[\"item_cnt_month\"].sum()\n",
    "    \n",
    "    df['cat_shop_sales'] = df.set_index(['item_cat_id','shop_id','date_block_num']).index.map(category_shop_sales)\n",
    "    \n",
    "    df[\"cat_shop_sales_t_1\"] = df.groupby(by=[\"item_id\", \"shop_id\"], sort=False)[\"cat_shop_sales\"].shift(1).values\n",
    "    df[\"cat_shop_sales_t_2\"] = df.groupby(by=[\"item_id\", \"shop_id\"], sort=False)[\"cat_shop_sales\"].shift(2).values\n",
    "    df[\"cat_shop_sales_t_3\"] = df.groupby(by=[\"item_id\", \"shop_id\"], sort=False)[\"cat_shop_sales\"].shift(3).values\n",
    "    df[\"cat_shop_sales_t_6\"] = df.groupby(by=[\"item_id\", \"shop_id\"], sort=False)[\"cat_shop_sales\"].shift(6).values\n",
    "    df[\"cat_shop_sales_t_12\"] = df.groupby(by=[\"item_id\", \"shop_id\"], sort=False)[\"cat_shop_sales\"].shift(12).values\n",
    "    \n",
    "    df = df.drop(columns=['cat_shop_sales'])\n",
    "    \n",
    "    return df.fillna(0)\n",
    "\n",
    "df = set_lag_features(df)"
   ]
  },
  {
   "cell_type": "markdown",
   "metadata": {
    "papermill": {
     "duration": 0.07315,
     "end_time": "2020-10-20T12:40:13.360584",
     "exception": false,
     "start_time": "2020-10-20T12:40:13.287434",
     "status": "completed"
    },
    "tags": []
   },
   "source": [
    "# Identify Similar Items\n",
    "\n",
    "Calculating cosine similarities of item descriptions.<br> The idea here is that the items with similar vector directions have similar descriptions, therefore they are similar items (and may share similar sales trends). This may be especially helpful for the model to forecast sales for items with no history."
   ]
  },
  {
   "cell_type": "code",
   "execution_count": 41,
   "metadata": {
    "execution": {
     "iopub.execute_input": "2020-10-20T12:40:13.519933Z",
     "iopub.status.busy": "2020-10-20T12:40:13.519076Z",
     "iopub.status.idle": "2020-10-20T12:40:58.223843Z",
     "shell.execute_reply": "2020-10-20T12:40:58.223075Z"
    },
    "papermill": {
     "duration": 44.792884,
     "end_time": "2020-10-20T12:40:58.223986",
     "exception": false,
     "start_time": "2020-10-20T12:40:13.431102",
     "status": "completed"
    },
    "tags": []
   },
   "outputs": [],
   "source": [
    "def set_similar_items(df):\n",
    "    \n",
    "    '''\n",
    "    1) Obtain a corpus of item descriptions\n",
    "    2) Vectorize each item description and calculate cosine similarity \n",
    "        between each item/item combination, then store that info in a matrix.\n",
    "    3) Pick the top 3 most similar items for each item\n",
    "    4) Append the similar item information back to our dataframe\n",
    "    \n",
    "    '''\n",
    "    \n",
    "    \n",
    "    itemstranslated = pd.read_csv(\"../input/filestranslated/items-translated.csv\")\n",
    "\n",
    "    itemdf = pd.DataFrame(\n",
    "        columns=[\"item_id\", \"item_description\"], data=itemstranslated.values\n",
    "    )\n",
    "\n",
    "    # \n",
    "    corpus = list(itemdf[\"item_description\"].values)\n",
    "\n",
    "\n",
    "    vectorizer = TfidfVectorizer()\n",
    "    X = vectorizer.fit_transform(corpus)\n",
    "    cosine_similarities = pd.DataFrame(\n",
    "        cosine_similarity(X), index=itemdf[\"item_id\"], columns=itemdf[\"item_id\"]\n",
    "    )\n",
    "\n",
    "\n",
    "    similar_items = []\n",
    "    for i in cosine_similarities.columns:\n",
    "        similar = np.append(cosine_similarities[i].nlargest(4)[1:].index.values, i)\n",
    "        similar_items.append(similar)\n",
    "    similar_items = pd.DataFrame(\n",
    "        np.vstack(similar_items),\n",
    "        columns=[\"similar_item1\", \"similar_item2\", \"similar_item3\", \"item_id\"],\n",
    "    )\n",
    "\n",
    "    sim1 = dict(zip(similar_items[\"item_id\"], similar_items[\"similar_item1\"]))\n",
    "    sim2 = dict(zip(similar_items[\"item_id\"], similar_items[\"similar_item2\"]))\n",
    "    sim3 = dict(zip(similar_items[\"item_id\"], similar_items[\"similar_item3\"]))\n",
    "    df[\"similar_item1\"] = df[\"item_id\"].map(sim1)\n",
    "    df[\"similar_item2\"] = df[\"item_id\"].map(sim2)\n",
    "    df[\"similar_item3\"] = df[\"item_id\"].map(sim3)\n",
    "\n",
    "    return df\n",
    "\n",
    "\n",
    "df = set_similar_items(df)\n"
   ]
  },
  {
   "cell_type": "code",
   "execution_count": 42,
   "metadata": {
    "execution": {
     "iopub.execute_input": "2020-10-20T12:40:58.369999Z",
     "iopub.status.busy": "2020-10-20T12:40:58.368509Z",
     "iopub.status.idle": "2020-10-20T12:41:07.881701Z",
     "shell.execute_reply": "2020-10-20T12:41:07.882575Z"
    },
    "papermill": {
     "duration": 9.590773,
     "end_time": "2020-10-20T12:41:07.882808",
     "exception": false,
     "start_time": "2020-10-20T12:40:58.292035",
     "status": "completed"
    },
    "tags": []
   },
   "outputs": [
    {
     "name": "stdout",
     "output_type": "stream",
     "text": [
      "Downcasting: \n",
      "                          before     after  reduction(%)\n",
      "Index                      128       128          0.00\n",
      "item_id               22256008  22256008          0.00\n",
      "shop_id               11128004  11128004          0.00\n",
      "date_block_num        11128004  11128004          0.00\n",
      "item_cnt_month        44512016  44512016          0.00\n",
      "item_price            44512016  44512016          0.00\n",
      "train                 11128004  11128004          0.00\n",
      "item_cat_id           11128004  11128004          0.00\n",
      "item_cat_name         89024032  89024032          0.00\n",
      "shop_name             89024032  89024032          0.00\n",
      "month                 11128004  11128004          0.00\n",
      "year                  22256008  22256008          0.00\n",
      "item_cat_group        89024032  89024032          0.00\n",
      "city                  89024032  89024032          0.00\n",
      "binned_item_price     89024032  44512016         50.00\n",
      "item_first_sale       89024032  11128004         87.50\n",
      "item_shop_sales_t_1   44512016  44512016          0.00\n",
      "item_shop_sales_t_2   44512016  44512016          0.00\n",
      "item_shop_sales_t_3   44512016  44512016          0.00\n",
      "item_shop_sales_t_4   44512016  44512016          0.00\n",
      "item_shop_sales_t_5   44512016  44512016          0.00\n",
      "item_shop_sales_t_6   44512016  44512016          0.00\n",
      "item_shop_sales_t_12  44512016  44512016          0.00\n",
      "cat_shop_sales_t_1    89024032  44512016         50.00\n",
      "cat_shop_sales_t_2    89024032  44512016         50.00\n",
      "cat_shop_sales_t_3    89024032  44512016         50.00\n",
      "cat_shop_sales_t_6    89024032  44512016         50.00\n",
      "cat_shop_sales_t_12   89024032  44512016         50.00\n",
      "similar_item1         89024032  22256008         75.00\n",
      "similar_item2         89024032  22256008         75.00\n",
      "similar_item3         89024032  22256008         75.00\n",
      "\n",
      "\n"
     ]
    }
   ],
   "source": [
    "df = downcast_df(df)"
   ]
  },
  {
   "cell_type": "markdown",
   "metadata": {
    "papermill": {
     "duration": 0.070218,
     "end_time": "2020-10-20T12:41:08.025057",
     "exception": false,
     "start_time": "2020-10-20T12:41:07.954839",
     "status": "completed"
    },
    "tags": []
   },
   "source": [
    "# Ordinal Encode the Categoricals"
   ]
  },
  {
   "cell_type": "code",
   "execution_count": 43,
   "metadata": {
    "execution": {
     "iopub.execute_input": "2020-10-20T12:41:08.174308Z",
     "iopub.status.busy": "2020-10-20T12:41:08.173587Z",
     "iopub.status.idle": "2020-10-20T12:41:56.905875Z",
     "shell.execute_reply": "2020-10-20T12:41:56.905235Z"
    },
    "papermill": {
     "duration": 48.811627,
     "end_time": "2020-10-20T12:41:56.905997",
     "exception": false,
     "start_time": "2020-10-20T12:41:08.094370",
     "status": "completed"
    },
    "tags": []
   },
   "outputs": [],
   "source": [
    "'''\n",
    "Ordinal encoding features such as month, year as well as item_id, item_cat_id\n",
    "because LGBM prefers contiguous range of integers started from zero\n",
    "'''\n",
    "\n",
    "oe = OrdinalEncoder()\n",
    "df[['item_id','similar_item1','item_cat_group',\n",
    "    'similar_item2','similar_item3','city',\n",
    "    'item_cat_id','shop_id','month','year']] = oe.fit_transform(df[['item_id','similar_item1','item_cat_group',\n",
    "                                                                    'similar_item2','similar_item3','city',\n",
    "                                                                    'item_cat_id','shop_id','month','year']])\n",
    "\n",
    "\n",
    "X_cols_to_drop = [\n",
    "    \"train\",\n",
    "    \"item_cnt_month\",\n",
    "    \"item_cat_name\",\n",
    "    \"shop_name\",\n",
    "    'binned_item_price'\n",
    "]"
   ]
  },
  {
   "cell_type": "markdown",
   "metadata": {
    "papermill": {
     "duration": 0.068134,
     "end_time": "2020-10-20T12:41:57.043743",
     "exception": false,
     "start_time": "2020-10-20T12:41:56.975609",
     "status": "completed"
    },
    "tags": []
   },
   "source": [
    "To mimic how the test set is created, I am setting aside the records with the date block num 33 for validation.<br> This is different than the usual way of establishing validation sets e.g. cross_val, train_test_split etc."
   ]
  },
  {
   "cell_type": "code",
   "execution_count": 44,
   "metadata": {
    "execution": {
     "iopub.execute_input": "2020-10-20T12:41:57.191576Z",
     "iopub.status.busy": "2020-10-20T12:41:57.190446Z",
     "iopub.status.idle": "2020-10-20T12:41:59.900220Z",
     "shell.execute_reply": "2020-10-20T12:41:59.899548Z"
    },
    "papermill": {
     "duration": 2.786554,
     "end_time": "2020-10-20T12:41:59.900334",
     "exception": false,
     "start_time": "2020-10-20T12:41:57.113780",
     "status": "completed"
    },
    "tags": []
   },
   "outputs": [],
   "source": [
    "def df_to_xy(df):\n",
    "\n",
    "    X_train = df[df[\"date_block_num\"] < 33].drop(columns=X_cols_to_drop)\n",
    "    X_val = df[df[\"date_block_num\"] == 33].drop(columns=X_cols_to_drop)\n",
    "\n",
    "    y_train = df.loc[df[\"date_block_num\"] < 33, \"item_cnt_month\"]\n",
    "    y_val = df.loc[df[\"date_block_num\"] == 33, \"item_cnt_month\"]\n",
    "\n",
    "    X_test = df[df[\"date_block_num\"] == 34].drop(columns=X_cols_to_drop)\n",
    "\n",
    "    return X_test, X_train, X_val, y_train, y_val\n",
    "\n",
    "\n",
    "X_test, X_train, X_val, y_train, y_val = df_to_xy(df)\n",
    "\n",
    "del df\n",
    "capture = gc.collect()"
   ]
  },
  {
   "cell_type": "markdown",
   "metadata": {
    "papermill": {
     "duration": 0.072934,
     "end_time": "2020-10-20T12:42:00.040512",
     "exception": false,
     "start_time": "2020-10-20T12:41:59.967578",
     "status": "completed"
    },
    "tags": []
   },
   "source": [
    "# Modeling, Feature Importances, and Final Submission"
   ]
  },
  {
   "cell_type": "markdown",
   "metadata": {
    "papermill": {
     "duration": 0.067151,
     "end_time": "2020-10-20T12:42:00.175284",
     "exception": false,
     "start_time": "2020-10-20T12:42:00.108133",
     "status": "completed"
    },
    "tags": []
   },
   "source": [
    "I am using XGB regressor for submission. The hyperparameter values are the result of a number of trial-and-errors.<br> I kept the tree relatively shallow with the intent of preventing overfitting.  "
   ]
  },
  {
   "cell_type": "code",
   "execution_count": 45,
   "metadata": {
    "execution": {
     "iopub.execute_input": "2020-10-20T12:42:00.322289Z",
     "iopub.status.busy": "2020-10-20T12:42:00.321553Z",
     "iopub.status.idle": "2020-10-20T12:42:28.905949Z",
     "shell.execute_reply": "2020-10-20T12:42:28.907078Z"
    },
    "papermill": {
     "duration": 28.664217,
     "end_time": "2020-10-20T12:42:28.907265",
     "exception": false,
     "start_time": "2020-10-20T12:42:00.243048",
     "status": "completed"
    },
    "tags": []
   },
   "outputs": [
    {
     "name": "stderr",
     "output_type": "stream",
     "text": [
      "/opt/conda/lib/python3.7/site-packages/lightgbm/basic.py:1295: UserWarning:\n",
      "\n",
      "categorical_feature in Dataset is overridden.\n",
      "New categorical_feature is ['city', 'date_block_num', 'item_cat_group', 'item_cat_id', 'item_id', 'shop_id', 'similar_item1', 'similar_item2', 'similar_item3']\n",
      "\n"
     ]
    },
    {
     "name": "stdout",
     "output_type": "stream",
     "text": [
      "[1]\tvalid_0's rmse: 1.08363\tvalid_0's l2: 1.17425\n",
      "Training until validation scores don't improve for 10 rounds\n",
      "[2]\tvalid_0's rmse: 1.04639\tvalid_0's l2: 1.09492\n",
      "[3]\tvalid_0's rmse: 1.01007\tvalid_0's l2: 1.02025\n",
      "[4]\tvalid_0's rmse: 0.984857\tvalid_0's l2: 0.969943\n",
      "[5]\tvalid_0's rmse: 0.972103\tvalid_0's l2: 0.944985\n",
      "[6]\tvalid_0's rmse: 0.937402\tvalid_0's l2: 0.878722\n",
      "[7]\tvalid_0's rmse: 0.918536\tvalid_0's l2: 0.843708\n",
      "[8]\tvalid_0's rmse: 0.90775\tvalid_0's l2: 0.82401\n",
      "[9]\tvalid_0's rmse: 0.892462\tvalid_0's l2: 0.796488\n",
      "[10]\tvalid_0's rmse: 0.890974\tvalid_0's l2: 0.793835\n",
      "[11]\tvalid_0's rmse: 0.882137\tvalid_0's l2: 0.778165\n",
      "[12]\tvalid_0's rmse: 0.877193\tvalid_0's l2: 0.769468\n",
      "[13]\tvalid_0's rmse: 0.877487\tvalid_0's l2: 0.769983\n",
      "[14]\tvalid_0's rmse: 0.875031\tvalid_0's l2: 0.765679\n",
      "[15]\tvalid_0's rmse: 0.872397\tvalid_0's l2: 0.761076\n",
      "[16]\tvalid_0's rmse: 0.872243\tvalid_0's l2: 0.760808\n",
      "[17]\tvalid_0's rmse: 0.871315\tvalid_0's l2: 0.759189\n",
      "[18]\tvalid_0's rmse: 0.869322\tvalid_0's l2: 0.75572\n",
      "[19]\tvalid_0's rmse: 0.871691\tvalid_0's l2: 0.759846\n",
      "[20]\tvalid_0's rmse: 0.871583\tvalid_0's l2: 0.759657\n",
      "[21]\tvalid_0's rmse: 0.873093\tvalid_0's l2: 0.762291\n",
      "[22]\tvalid_0's rmse: 0.87371\tvalid_0's l2: 0.76337\n",
      "[23]\tvalid_0's rmse: 0.874063\tvalid_0's l2: 0.763985\n",
      "[24]\tvalid_0's rmse: 0.86716\tvalid_0's l2: 0.751966\n",
      "[25]\tvalid_0's rmse: 0.866938\tvalid_0's l2: 0.751581\n",
      "[26]\tvalid_0's rmse: 0.868203\tvalid_0's l2: 0.753776\n",
      "[27]\tvalid_0's rmse: 0.869478\tvalid_0's l2: 0.755992\n",
      "[28]\tvalid_0's rmse: 0.869788\tvalid_0's l2: 0.756531\n",
      "[29]\tvalid_0's rmse: 0.871192\tvalid_0's l2: 0.758976\n",
      "[30]\tvalid_0's rmse: 0.871772\tvalid_0's l2: 0.759986\n",
      "[31]\tvalid_0's rmse: 0.872222\tvalid_0's l2: 0.760771\n",
      "[32]\tvalid_0's rmse: 0.873392\tvalid_0's l2: 0.762813\n",
      "[33]\tvalid_0's rmse: 0.874957\tvalid_0's l2: 0.76555\n",
      "[34]\tvalid_0's rmse: 0.87492\tvalid_0's l2: 0.765485\n",
      "[35]\tvalid_0's rmse: 0.876017\tvalid_0's l2: 0.767406\n",
      "Early stopping, best iteration is:\n",
      "[25]\tvalid_0's rmse: 0.866938\tvalid_0's l2: 0.751581\n"
     ]
    }
   ],
   "source": [
    "model_params = {\n",
    "    \"n_estimators\": 200,\n",
    "    \"num_leaves\": 40,\n",
    "    \"learning_rate\": 0.15,\n",
    "    \"min_child_weight\": 0.35,\n",
    "    \"colsample_bytree\": 0.27,\n",
    "    \"reg_alpha\": 0.83,\n",
    "    \"reg_lambda\": 0.56,\n",
    "}\n",
    "\n",
    "\n",
    "model = LGBMRegressor(**model_params)\n",
    "model.fit(\n",
    "    X_train,\n",
    "    y_train,\n",
    "    eval_metric=\"rmse\",\n",
    "    eval_set=(X_val, y_val),\n",
    "    early_stopping_rounds=10,\n",
    "    categorical_feature=[\n",
    "        \"item_id\",\"shop_id\",'city',\n",
    "        \"date_block_num\",\"item_cat_id\",'item_cat_group',\n",
    "        \"similar_item1\",\"similar_item2\",\"similar_item3\"\n",
    "    ]\n",
    ")\n",
    "\n",
    "# Clipping the target values once more before submission\n",
    "pred = model.predict(X_test).clip(0, 20)\n",
    "\n",
    "# Retrieving the submission IDs\n",
    "sub_ID = pd.read_csv(\"../input/competitive-data-science-predict-future-sales/test.csv\")[\n",
    "    \"ID\"\n",
    "].values\n",
    "\n",
    "submissionfile = pd.DataFrame(list(zip(sub_ID, pred)), columns=[\"ID\", \"item_cnt_month\"])"
   ]
  },
  {
   "cell_type": "markdown",
   "metadata": {
    "papermill": {
     "duration": 0.077008,
     "end_time": "2020-10-20T12:42:29.064088",
     "exception": false,
     "start_time": "2020-10-20T12:42:28.987080",
     "status": "completed"
    },
    "tags": []
   },
   "source": [
    "Visualizing feature importances."
   ]
  },
  {
   "cell_type": "code",
   "execution_count": 46,
   "metadata": {
    "execution": {
     "iopub.execute_input": "2020-10-20T12:42:29.236704Z",
     "iopub.status.busy": "2020-10-20T12:42:29.235984Z",
     "iopub.status.idle": "2020-10-20T12:42:29.610300Z",
     "shell.execute_reply": "2020-10-20T12:42:29.609657Z"
    },
    "papermill": {
     "duration": 0.466924,
     "end_time": "2020-10-20T12:42:29.610448",
     "exception": false,
     "start_time": "2020-10-20T12:42:29.143524",
     "status": "completed"
    },
    "tags": []
   },
   "outputs": [
    {
     "data": {
      "text/plain": [
       "<matplotlib.axes._subplots.AxesSubplot at 0x7fe1f17eff50>"
      ]
     },
     "execution_count": 46,
     "metadata": {},
     "output_type": "execute_result"
    },
    {
     "data": {
      "image/png": "[encoded data removed]",
      "text/plain": [
       "<Figure size 720x864 with 1 Axes>"
      ]
     },
     "metadata": {},
     "output_type": "display_data"
    }
   ],
   "source": [
    "params = {\n",
    "    \"axes.labelsize\": 20,\n",
    "    \"ytick.labelsize\": 16,\n",
    "    \"axes.titlesize\": 22,\n",
    "    \"axes.edgecolor\": \"#338F4B\",\n",
    "}\n",
    "plt.rcParams.update(params)\n",
    "\n",
    "fig, ax = plt.subplots(1, 1, figsize=(10, 12))\n",
    "\n",
    "plot_importance(model, height=0.8, ax=ax)"
   ]
  },
  {
   "cell_type": "markdown",
   "metadata": {
    "papermill": {
     "duration": 0.083327,
     "end_time": "2020-10-20T12:42:29.779390",
     "exception": false,
     "start_time": "2020-10-20T12:42:29.696063",
     "status": "completed"
    },
    "tags": []
   },
   "source": [
    "Submitting the results..."
   ]
  },
  {
   "cell_type": "code",
   "execution_count": 47,
   "metadata": {
    "execution": {
     "iopub.execute_input": "2020-10-20T12:42:29.948228Z",
     "iopub.status.busy": "2020-10-20T12:42:29.947566Z",
     "iopub.status.idle": "2020-10-20T12:42:30.776488Z",
     "shell.execute_reply": "2020-10-20T12:42:30.775704Z"
    },
    "papermill": {
     "duration": 0.916024,
     "end_time": "2020-10-20T12:42:30.776639",
     "exception": false,
     "start_time": "2020-10-20T12:42:29.860615",
     "status": "completed"
    },
    "tags": []
   },
   "outputs": [],
   "source": [
    "submissionfile.to_csv('submission.csv', index=False)"
   ]
  }
 ],
 "metadata": {
  "kernelspec": {
   "display_name": "Python 3.9.12 ('base')",
   "language": "python",
   "name": "python3"
  },
  "language_info": {
   "codemirror_mode": {
    "name": "ipython",
    "version": 3
   },
   "file_extension": ".py",
   "mimetype": "text/x-python",
   "name": "python",
   "nbconvert_exporter": "python",
   "pygments_lexer": "ipython3",
   "version": "3.9.12"
  },
  "papermill": {
   "duration": 358.137494,
   "end_time": "2020-10-20T12:42:31.872853",
   "environment_variables": {},
   "exception": null,
   "input_path": "__notebook__.ipynb",
   "output_path": "__notebook__.ipynb",
   "parameters": {},
   "start_time": "2020-10-20T12:36:33.735359",
   "version": "2.1.0"
  },
  "vscode": {
   "interpreter": {
    "hash": "40d3a090f54c6569ab1632332b64b2c03c39dcf918b08424e98f38b5ae0af88f"
   }
  }
 },
 "nbformat": 4,
 "nbformat_minor": 4
}
