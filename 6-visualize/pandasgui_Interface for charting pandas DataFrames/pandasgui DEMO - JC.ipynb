{
 "cells": [
  {
   "cell_type": "code",
   "execution_count": null,
   "metadata": {},
   "outputs": [],
   "source": [
    "# Open PandasGUI by passing one or more DataFrames to `show`. The name in the GUI will be matched to the variable name.\n",
    "import pandas as pd\n",
    "from pandasgui import show\n",
    "df = pd.DataFrame({'a': [1, 2, 3], 'b': [4, 5, 6], 'c': [7, 8, 9]})\n",
    "show(df)\n",
    "\n",
    "# PandasGUI comes with sample datasets which get downloaded on first import.\n",
    "# This includes `all_datasets` which is a dictionary of all the sample datasets like Dict[str, DataFrame]\n",
    "# You can pass DataFrames as kwargs to specify different names. This also works with dictionary unpacking\n",
    "from pandasgui.datasets import pokemon, mpg, multiindex, all_datasets\n",
    "show(pokemon_stats=pokemon, mi_example=multiindex)\n",
    "show(**all_datasets)\n",
    "\n",
    "# The only reserved argument name is `settings`, which accepts a dictionary of settings for the GUI.\n",
    "show(pokemon, settings={'theme':'dark', ''})\n",
    "# PandasGUI will attempt to convert any object you pass to `show` into a DataFrame\n",
    "show(test1={'a': [1, 2, 3]}, test2=[5, 6, 7, 8, 9])\n",
    "\n",
    "# Read DataFrames from the GUI using square brackets\n",
    "gui = show(pokemon, mpg)\n",
    "pokemon_new = gui['pokemon']\n",
    "\n",
    "# Use the `pg` IPython magic command to directly modify DataFrames in the GUI\n",
    "%pg pokemon['Null Type'] = pokemon['Type 1'].isna()"
   ]
  }
 ],
 "metadata": {
  "language_info": {
   "name": "python"
  },
  "orig_nbformat": 4
 },
 "nbformat": 4,
 "nbformat_minor": 2
}
