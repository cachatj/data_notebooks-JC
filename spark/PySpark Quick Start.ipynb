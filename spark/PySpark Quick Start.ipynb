{
 "cells": [
  {
   "cell_type": "code",
   "execution_count": null,
   "id": "167e6816",
   "metadata": {},
   "outputs": [],
   "source": [
    "import findspark\n",
    "findspark.init()\n",
    "findspark.find()\n",
    "\n",
    "from pyspark.sql import SparkSession"
   ]
  },
  {
   "cell_type": "code",
   "execution_count": null,
   "id": "c3a35578",
   "metadata": {},
   "outputs": [],
   "source": [
    "# Import PySpark\n",
    "from pyspark.sql import SparkSession"
   ]
  },
  {
   "cell_type": "code",
   "execution_count": null,
   "id": "d9adb6ea",
   "metadata": {},
   "outputs": [],
   "source": [
    "#Create SparkSession\n",
    "spark = spark = (SparkSession.builder\n",
    "  .master(\"local\")\n",
    "  .appName(\"SparkByExamples.com\")\n",
    "  .getOrCreate())"
   ]
  },
  {
   "cell_type": "code",
   "execution_count": null,
   "id": "43c11e54",
   "metadata": {},
   "outputs": [],
   "source": [
    "# Data\n",
    "data = [(\"Java\", \"20000\"), (\"Python\",\"100000\"), (\"Scala\", \"3000\")]\n",
    "# Columns\n",
    "columns = [\"language\",\"users count\" ]"
   ]
  },
  {
   "cell_type": "code",
   "execution_count": null,
   "id": "e3c6eedd",
   "metadata": {},
   "outputs": [],
   "source": [
    "# Create DataFrame\n",
    "df = spark.createDataFrame(data).toDF(*columns )"
   ]
  },
  {
   "cell_type": "code",
   "execution_count": null,
   "id": "5e1a0e1b",
   "metadata": {},
   "outputs": [],
   "source": [
    "# Print DataFrame\n",
    "df.show()"
   ]
  },
  {
   "cell_type": "code",
   "execution_count": null,
   "id": "a4374e59",
   "metadata": {},
   "outputs": [],
   "source": []
  }
 ],
 "metadata": {
  "kernelspec": {
   "display_name": "Python 3 (ipykernel)",
   "language": "python",
   "name": "python3"
  },
  "language_info": {
   "codemirror_mode": {
    "name": "ipython",
    "version": 3
   },
   "file_extension": ".py",
   "mimetype": "text/x-python",
   "name": "python",
   "nbconvert_exporter": "python",
   "pygments_lexer": "ipython3",
   "version": "3.7.13"
  },
  "vscode": {
   "interpreter": {
    "hash": "b41de25cedd26369ef0ca6c52c0129f6445921d8c1be8d98fe302f686962a74b"
   }
  }
 },
 "nbformat": 4,
 "nbformat_minor": 5
}
