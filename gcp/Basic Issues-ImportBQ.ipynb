{
 "cells": [
  {
   "cell_type": "markdown",
   "metadata": {},
   "source": [
    "# EXAMPLE CODE COMPONENTS\n",
    "\n",
    "#### see https://discuss.dizzycoding.com/write-a-pandas-dataframe-to-google-cloud-storage-or-bigquery/ for options"
   ]
  },
  {
   "cell_type": "code",
   "execution_count": 2,
   "metadata": {},
   "outputs": [
    {
     "ename": "ImportError",
     "evalue": "cannot import name 'storage' from 'google.cloud' (unknown location)",
     "output_type": "error",
     "traceback": [
      "\u001b[0;31m---------------------------------------------------------------------------\u001b[0m",
      "\u001b[0;31mImportError\u001b[0m                               Traceback (most recent call last)",
      "\u001b[1;32m/Users/jonathan.cachat/Library/CloudStorage/OneDrive-CardinalHealth/JupyterNB-JC/gcp/Basic Issues-ImportBQ.ipynb Cell 2\u001b[0m in \u001b[0;36m<cell line: 4>\u001b[0;34m()\u001b[0m\n\u001b[1;32m      <a href='vscode-notebook-cell:/Users/jonathan.cachat/Library/CloudStorage/OneDrive-CardinalHealth/JupyterNB-JC/gcp/Basic%20Issues-ImportBQ.ipynb#ch0000005?line=1'>2</a>\u001b[0m \u001b[39mimport\u001b[39;00m \u001b[39mnumpy\u001b[39;00m \u001b[39mas\u001b[39;00m \u001b[39mnp\u001b[39;00m\n\u001b[1;32m      <a href='vscode-notebook-cell:/Users/jonathan.cachat/Library/CloudStorage/OneDrive-CardinalHealth/JupyterNB-JC/gcp/Basic%20Issues-ImportBQ.ipynb#ch0000005?line=2'>3</a>\u001b[0m \u001b[39mimport\u001b[39;00m \u001b[39mgoogle\u001b[39;00m\u001b[39m.\u001b[39;00m\u001b[39mauth\u001b[39;00m\n\u001b[0;32m----> <a href='vscode-notebook-cell:/Users/jonathan.cachat/Library/CloudStorage/OneDrive-CardinalHealth/JupyterNB-JC/gcp/Basic%20Issues-ImportBQ.ipynb#ch0000005?line=3'>4</a>\u001b[0m \u001b[39mfrom\u001b[39;00m \u001b[39mgoogle\u001b[39;00m\u001b[39m.\u001b[39;00m\u001b[39mcloud\u001b[39;00m \u001b[39mimport\u001b[39;00m storage, bigquery\n\u001b[1;32m      <a href='vscode-notebook-cell:/Users/jonathan.cachat/Library/CloudStorage/OneDrive-CardinalHealth/JupyterNB-JC/gcp/Basic%20Issues-ImportBQ.ipynb#ch0000005?line=4'>5</a>\u001b[0m \u001b[39m# Set up our GCS, NL, and BigQuery clients\u001b[39;00m\n\u001b[1;32m      <a href='vscode-notebook-cell:/Users/jonathan.cachat/Library/CloudStorage/OneDrive-CardinalHealth/JupyterNB-JC/gcp/Basic%20Issues-ImportBQ.ipynb#ch0000005?line=5'>6</a>\u001b[0m storage_client \u001b[39m=\u001b[39m storage\u001b[39m.\u001b[39mClient()\n",
      "\u001b[0;31mImportError\u001b[0m: cannot import name 'storage' from 'google.cloud' (unknown location)"
     ]
    }
   ],
   "source": [
    "import pandas as pd\n",
    "import numpy as np\n",
    "import google.auth\n",
    "from google.cloud import bigquery\n",
    "from google.cloud import storage\n",
    "\n",
    "\n",
    "# Set up our GCS, NL, and BigQuery clients\n",
    "storage_client = storage.Client()\n",
    "# TODO: replace YOUR_PROJECT with your project id below\n",
    "bq_client = bigquery.Client(project='edd-trn-mdai-pr')\n",
    "dataset_ref = bq_client.dataset('D2_ML_MED_CUSTCHRN_NP_EXPM')\n",
    "dataset = bigquery.Dataset(dataset_ref)\n",
    "table_ref = dataset.table('US_COVID19_CASES_AND_DEATHS_BY_STATE_OVER_TIME ') # Update this if you used a different table name\n",
    "table = bq_client.get_table(table_ref)"
   ]
  },
  {
   "cell_type": "code",
   "execution_count": 1,
   "metadata": {},
   "outputs": [
    {
     "ename": "ImportError",
     "evalue": "cannot import name 'storage' from 'google.cloud' (unknown location)",
     "output_type": "error",
     "traceback": [
      "\u001b[0;31m---------------------------------------------------------------------------\u001b[0m",
      "\u001b[0;31mImportError\u001b[0m                               Traceback (most recent call last)",
      "\u001b[1;32m/Users/jonathan.cachat/Library/CloudStorage/OneDrive-CardinalHealth/JupyterNB-JC/gcp/Basic Issues-ImportBQ.ipynb Cell 2\u001b[0m in \u001b[0;36m<cell line: 5>\u001b[0;34m()\u001b[0m\n\u001b[1;32m      <a href='vscode-notebook-cell:/Users/jonathan.cachat/Library/CloudStorage/OneDrive-CardinalHealth/JupyterNB-JC/gcp/Basic%20Issues-ImportBQ.ipynb#ch0000001?line=2'>3</a>\u001b[0m \u001b[39mimport\u001b[39;00m \u001b[39mgoogle\u001b[39;00m\u001b[39m.\u001b[39;00m\u001b[39mauth\u001b[39;00m\n\u001b[1;32m      <a href='vscode-notebook-cell:/Users/jonathan.cachat/Library/CloudStorage/OneDrive-CardinalHealth/JupyterNB-JC/gcp/Basic%20Issues-ImportBQ.ipynb#ch0000001?line=3'>4</a>\u001b[0m \u001b[39mfrom\u001b[39;00m \u001b[39mgoogle\u001b[39;00m\u001b[39m.\u001b[39;00m\u001b[39mcloud\u001b[39;00m \u001b[39mimport\u001b[39;00m bigquery\n\u001b[0;32m----> <a href='vscode-notebook-cell:/Users/jonathan.cachat/Library/CloudStorage/OneDrive-CardinalHealth/JupyterNB-JC/gcp/Basic%20Issues-ImportBQ.ipynb#ch0000001?line=4'>5</a>\u001b[0m \u001b[39mfrom\u001b[39;00m \u001b[39mgoogle\u001b[39;00m\u001b[39m.\u001b[39;00m\u001b[39mcloud\u001b[39;00m \u001b[39mimport\u001b[39;00m storage\n\u001b[1;32m      <a href='vscode-notebook-cell:/Users/jonathan.cachat/Library/CloudStorage/OneDrive-CardinalHealth/JupyterNB-JC/gcp/Basic%20Issues-ImportBQ.ipynb#ch0000001?line=7'>8</a>\u001b[0m credentials, project_id \u001b[39m=\u001b[39m google\u001b[39m.\u001b[39mauth\u001b[39m.\u001b[39mdefault()\n\u001b[1;32m      <a href='vscode-notebook-cell:/Users/jonathan.cachat/Library/CloudStorage/OneDrive-CardinalHealth/JupyterNB-JC/gcp/Basic%20Issues-ImportBQ.ipynb#ch0000001?line=8'>9</a>\u001b[0m client \u001b[39m=\u001b[39m bigquery\u001b[39m.\u001b[39mClient(credentials\u001b[39m=\u001b[39mcredentials, project\u001b[39m=\u001b[39mproject_id)\n",
      "\u001b[0;31mImportError\u001b[0m: cannot import name 'storage' from 'google.cloud' (unknown location)"
     ]
    }
   ],
   "source": [
    "\n",
    "credentials, project_id = google.auth.default()\n",
    "client = bigquery.Client(credentials=credentials, project=project_id)\n",
    "query2 = \"\"\"\n",
    "     select * from `edna-datastg-pr-cah.D2_ML_MED_CUSTCHRN_NP_EXPM.Customer_master_combined_w_lag`\n",
    "\"\"\"\n",
    "query_job2 = client.query(\n",
    "    query2,\n",
    "    location=\"US\",\n",
    ") \n",
    "df = query_job2.to_dataframe()"
   ]
  },
  {
   "cell_type": "code",
   "execution_count": 2,
   "metadata": {},
   "outputs": [
    {
     "ename": "ImportError",
     "evalue": "cannot import name 'bigquery' from 'google.cloud' (unknown location)",
     "output_type": "error",
     "traceback": [
      "\u001b[0;31m---------------------------------------------------------------------------\u001b[0m",
      "\u001b[0;31mImportError\u001b[0m                               Traceback (most recent call last)",
      "\u001b[1;32m/Users/jonathan.cachat/Documents/Jupyter Notebook Repo/jcWorkbooks/Basic Issues-ImportBQ.ipynb Cell 2\u001b[0m in \u001b[0;36m<cell line: 3>\u001b[0;34m()\u001b[0m\n\u001b[1;32m      <a href='vscode-notebook-cell:/Users/jonathan.cachat/Documents/Jupyter%20Notebook%20Repo/jcWorkbooks/Basic%20Issues-ImportBQ.ipynb#ch0000001?line=0'>1</a>\u001b[0m \u001b[39mimport\u001b[39;00m \u001b[39mpandas\u001b[39;00m \u001b[39mas\u001b[39;00m \u001b[39mpd\u001b[39;00m\n\u001b[1;32m      <a href='vscode-notebook-cell:/Users/jonathan.cachat/Documents/Jupyter%20Notebook%20Repo/jcWorkbooks/Basic%20Issues-ImportBQ.ipynb#ch0000001?line=1'>2</a>\u001b[0m \u001b[39mimport\u001b[39;00m \u001b[39mnumpy\u001b[39;00m \u001b[39mas\u001b[39;00m \u001b[39mnp\u001b[39;00m\n\u001b[0;32m----> <a href='vscode-notebook-cell:/Users/jonathan.cachat/Documents/Jupyter%20Notebook%20Repo/jcWorkbooks/Basic%20Issues-ImportBQ.ipynb#ch0000001?line=2'>3</a>\u001b[0m \u001b[39mfrom\u001b[39;00m \u001b[39mgoogle\u001b[39;00m\u001b[39m.\u001b[39;00m\u001b[39mcloud\u001b[39;00m \u001b[39mimport\u001b[39;00m bigquery\n\u001b[1;32m      <a href='vscode-notebook-cell:/Users/jonathan.cachat/Documents/Jupyter%20Notebook%20Repo/jcWorkbooks/Basic%20Issues-ImportBQ.ipynb#ch0000001?line=3'>4</a>\u001b[0m \u001b[39mfrom\u001b[39;00m \u001b[39mgoogle\u001b[39;00m\u001b[39m.\u001b[39;00m\u001b[39mcloud\u001b[39;00m \u001b[39mimport\u001b[39;00m storage\n",
      "\u001b[0;31mImportError\u001b[0m: cannot import name 'bigquery' from 'google.cloud' (unknown location)"
     ]
    }
   ],
   "source": [
    "import pandas as pd\n",
    "import numpy as np\n",
    "from google.cloud import bigquery\n",
    "from google.cloud import storage"
   ]
  },
  {
   "cell_type": "code",
   "execution_count": null,
   "metadata": {},
   "outputs": [],
   "source": [
    "usCases = pd.read_csv(\"https://data.cdc.gov/api/views/9mfq-cb36/rows.csv?accessType=DOWNLOAD&bom=true&format=true\")\n",
    "\n",
    "usCases.head()"
   ]
  },
  {
   "cell_type": "code",
   "execution_count": null,
   "metadata": {},
   "outputs": [],
   "source": [
    "def upload_to_GCS_bucket(bucket,upload_blob):\n",
    "    storage_client = storage.Client()\n",
    "    bucket = storage_client.get_bucket(\"cah-eddie-trn-med-ai-custchrn-np/COVIDEmploymentDataJC\")\n",
    "    blob = bucket.blob(upload_blob)\n",
    "    blob.upload_from_filename(upload_blob)\n",
    "    print(\"file uploaded to gcs bucket 'cah-eddie-trn-med-ai-custchrn-np/COVIDEmploymentDataJC' is \",upload_blob)\n",
    "    \n",
    "\n",
    "bucket = 'cah-eddie-trn-med-ai-custchrn-np/COVIDEmploymentDataJC/'\n",
    "upload_blob = usCases\n",
    "\n",
    "\n",
    "upload_to_GCS_bucket(bucket,upload_blob)\n"
   ]
  }
 ],
 "metadata": {
  "kernelspec": {
   "display_name": "Python 3.9.13 ('data')",
   "language": "python",
   "name": "python3"
  },
  "language_info": {
   "codemirror_mode": {
    "name": "ipython",
    "version": 3
   },
   "file_extension": ".py",
   "mimetype": "text/x-python",
   "name": "python",
   "nbconvert_exporter": "python",
   "pygments_lexer": "ipython3",
   "version": "3.9.13"
  },
  "orig_nbformat": 4,
  "vscode": {
   "interpreter": {
    "hash": "61f816485507dc889ff66c817d3dfe3a5ba58d9e76a81eab42366b9b45bfe58a"
   }
  }
 },
 "nbformat": 4,
 "nbformat_minor": 2
}
