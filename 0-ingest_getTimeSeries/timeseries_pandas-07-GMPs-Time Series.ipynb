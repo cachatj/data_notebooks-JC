{
 "cells": [
  {
   "cell_type": "markdown",
   "metadata": {
    "cell_id": "398a3ed3-d69f-4135-9f5c-52d50c96ca98",
    "deepnote_cell_height": 477.578125,
    "deepnote_cell_type": "markdown"
   },
   "source": [
    "# Time-Series Data\n",
    "\n",
    "A time series is a measurement of one or more variables over a period of time and at a specific interval. Once a time series is captured, analysis is performed to identify patterns in the data, in essence, determining what is happening as time goes by.\n",
    "\n",
    "pandas provides extensive support for working with time-series data. When working with time-series data you are frequently required to perform a number of tasks such as the following:\n",
    "\n",
    "* Converting string-based dates and time into objects\n",
    "* Standardizing date and time values to specific time zones\n",
    "* Generating sequences of fixed-frequency dates and time intervals\n",
    "* Efficiently reading/writing the value at a specific time in series\n",
    "* Converting an existing time series to another with a new frequency of sampling\n",
    "* Computing relative dates, not only taking into account time zones, but also dealing with specific calendars based upon business days.\n",
    "* Identifying missing samples in a time series and determunung appropriate substitute values\n",
    "* Shifting dates and time forward or backward by a given anount\n",
    "* Calculating aggregate summaries of values as time changes."
   ]
  },
  {
   "cell_type": "markdown",
   "metadata": {
    "cell_id": "00001-2741694d-077c-4385-9ac7-27e6406870c9",
    "deepnote_cell_height": 54,
    "deepnote_cell_type": "markdown"
   },
   "source": [
    "#### Setting Up the Notebook"
   ]
  },
  {
   "cell_type": "code",
   "execution_count": null,
   "metadata": {
    "cell_id": "00002-32251d22-a947-4b4f-905a-907db95aae6e",
    "collapsed": true,
    "deepnote_cell_height": 318,
    "deepnote_cell_type": "code"
   },
   "outputs": [],
   "source": [
    "# import numpy, pandas and datetime\n",
    "import numpy as np\n",
    "import pandas as pd\n",
    "# needed for representing dates and times\n",
    "import datetime\n",
    "from datetime import datetime\n",
    "\n",
    "# Set some pandas options for controlling output\n",
    "pd.set_option('display.notebook_repr_html',False)\n",
    "pd.set_option('display.max_columns',10)\n",
    "pd.set_option('display.max_rows',10)\n",
    "\n",
    "# matplotlib and inline graphics\n",
    "import matplotlib.pyplot as plt\n",
    "%matplotlib inline"
   ]
  },
  {
   "cell_type": "markdown",
   "metadata": {
    "cell_id": "00003-650691b1-cc33-499b-9bef-04cec317f8f5",
    "deepnote_cell_height": 211.984375,
    "deepnote_cell_type": "markdown"
   },
   "source": [
    "## datetime, day and time objects\n",
    "\n",
    "The datetime object is part of the datetime library and not a part of pandas. This class can be utilized to construct objects representing a fixed point in time at a specific date and time or simply a date without time or time without a date component.\n",
    "\n",
    "With respect to pandas, the datetime objects do not have the accuracy needed for much of the mathematics involved in extensive calculations on time-series data. However they are commonly used to initialize pandas objects with pandas converting them into pandas timestamp objects behind the scenes."
   ]
  },
  {
   "cell_type": "code",
   "execution_count": null,
   "metadata": {
    "cell_id": "00004-c0e482d0-29b6-4b45-9d8e-720026ef417e",
    "deepnote_cell_height": 136.1875,
    "deepnote_cell_type": "code",
    "deepnote_output_heights": [
     21.1875
    ]
   },
   "outputs": [
    {
     "data": {
      "text/plain": [
       "datetime.datetime(2014, 12, 15, 0, 0)"
      ]
     },
     "execution_count": 2,
     "metadata": {},
     "output_type": "execute_result"
    }
   ],
   "source": [
    "# datetime object for Dec 12 2014\n",
    "datetime(2014,12,15)"
   ]
  },
  {
   "cell_type": "code",
   "execution_count": null,
   "metadata": {
    "cell_id": "00005-bbd69333-4e64-45ad-909a-e9adee3098e8",
    "deepnote_cell_height": 136.1875,
    "deepnote_cell_type": "code",
    "deepnote_output_heights": [
     21.1875
    ]
   },
   "outputs": [
    {
     "data": {
      "text/plain": [
       "datetime.datetime(2014, 12, 15, 17, 30)"
      ]
     },
     "execution_count": 4,
     "metadata": {},
     "output_type": "execute_result"
    }
   ],
   "source": [
    "# specific date and also with a time of 5:30 pm\n",
    "datetime(2014,12,15,17,30)"
   ]
  },
  {
   "cell_type": "code",
   "execution_count": null,
   "metadata": {
    "cell_id": "00006-a28c55f3-b1db-49a4-8281-fbd92ea86c93",
    "deepnote_cell_height": 154.1875,
    "deepnote_cell_type": "code",
    "deepnote_output_heights": [
     21.1875
    ]
   },
   "outputs": [
    {
     "data": {
      "text/plain": [
       "datetime.datetime(2017, 11, 12, 7, 3, 11, 989860)"
      ]
     },
     "execution_count": 5,
     "metadata": {},
     "output_type": "execute_result"
    }
   ],
   "source": [
    "# get the local \"now\" (date and time)\n",
    "# can take a time zone, but thats not demonstrated here\n",
    "datetime.now()"
   ]
  },
  {
   "cell_type": "code",
   "execution_count": null,
   "metadata": {
    "cell_id": "00007-38d7d021-ddcd-4468-9b78-23904a68d1b4",
    "deepnote_cell_height": 154.1875,
    "deepnote_cell_type": "code",
    "deepnote_output_heights": [
     21.1875
    ]
   },
   "outputs": [
    {
     "data": {
      "text/plain": [
       "datetime.date(2014, 12, 14)"
      ]
     },
     "execution_count": 7,
     "metadata": {},
     "output_type": "execute_result"
    }
   ],
   "source": [
    "# a date without time can be represented\n",
    "# by creating a date using a datetime object\n",
    "datetime.date(datetime(2014,12,14))"
   ]
  },
  {
   "cell_type": "code",
   "execution_count": null,
   "metadata": {
    "cell_id": "00008-0a6475f9-8fa2-4289-8e22-51c9c8b7bee7",
    "deepnote_cell_height": 136.1875,
    "deepnote_cell_type": "code",
    "deepnote_output_heights": [
     21.1875
    ]
   },
   "outputs": [
    {
     "data": {
      "text/plain": [
       "datetime.date(2017, 11, 12)"
      ]
     },
     "execution_count": 8,
     "metadata": {},
     "output_type": "execute_result"
    }
   ],
   "source": [
    "# get the current date\n",
    "datetime.now().date()"
   ]
  },
  {
   "cell_type": "code",
   "execution_count": null,
   "metadata": {
    "cell_id": "00009-a4e1184c-4638-40b4-ba03-461bb0153fcc",
    "deepnote_cell_height": 136.1875,
    "deepnote_cell_type": "code",
    "deepnote_output_heights": [
     21.1875
    ]
   },
   "outputs": [
    {
     "data": {
      "text/plain": [
       "datetime.time(15, 17, 30)"
      ]
     },
     "execution_count": 9,
     "metadata": {},
     "output_type": "execute_result"
    }
   ],
   "source": [
    "# get just a time from a datet ime\n",
    "datetime.time(datetime(2015,12,14,15,17,30))"
   ]
  },
  {
   "cell_type": "code",
   "execution_count": null,
   "metadata": {
    "cell_id": "00010-bf4bcc5e-306f-4709-8dc0-306bf7ce9ee0",
    "deepnote_cell_height": 136.1875,
    "deepnote_cell_type": "code",
    "deepnote_output_heights": [
     21.1875
    ]
   },
   "outputs": [
    {
     "data": {
      "text/plain": [
       "datetime.time(7, 5, 31, 889266)"
      ]
     },
     "execution_count": 10,
     "metadata": {},
     "output_type": "execute_result"
    }
   ],
   "source": [
    "# get current local time\n",
    "datetime.now().time()"
   ]
  },
  {
   "cell_type": "markdown",
   "metadata": {
    "cell_id": "00011-a7cc5779-d06d-4d98-a489-9e5555c73163",
    "deepnote_cell_height": 130.796875,
    "deepnote_cell_type": "markdown"
   },
   "source": [
    "## Timestamp Objects\n",
    "\n",
    "Specific dates and times in pandas are represented using the pandas.tslib.Timestamp class. Timestamp objects are generally interchangeable with datetime objects."
   ]
  },
  {
   "cell_type": "code",
   "execution_count": null,
   "metadata": {
    "cell_id": "00012-ca60e973-f6e7-4a3a-851e-ff2eb4269033",
    "deepnote_cell_height": 136.1875,
    "deepnote_cell_type": "code",
    "deepnote_output_heights": [
     21.1875
    ]
   },
   "outputs": [
    {
     "data": {
      "text/plain": [
       "Timestamp('2014-12-15 00:00:00')"
      ]
     },
     "execution_count": 11,
     "metadata": {},
     "output_type": "execute_result"
    }
   ],
   "source": [
    "# a timestamp representing a specific date\n",
    "pd.Timestamp('2014-12-15')"
   ]
  },
  {
   "cell_type": "code",
   "execution_count": null,
   "metadata": {
    "cell_id": "00013-b41d8a5b-28c4-4083-9649-f842a2b27b4a",
    "deepnote_cell_height": 136.1875,
    "deepnote_cell_type": "code",
    "deepnote_output_heights": [
     21.1875
    ]
   },
   "outputs": [
    {
     "data": {
      "text/plain": [
       "Timestamp('2014-12-14 17:30:00')"
      ]
     },
     "execution_count": 12,
     "metadata": {},
     "output_type": "execute_result"
    }
   ],
   "source": [
    "# a timestamp with both date and time\n",
    "pd.Timestamp('2014-12-14 17:30')"
   ]
  },
  {
   "cell_type": "code",
   "execution_count": null,
   "metadata": {
    "cell_id": "00014-b30698ae-128d-4cb8-86ad-35cda510dbe8",
    "deepnote_cell_height": 154.1875,
    "deepnote_cell_type": "code",
    "deepnote_output_heights": [
     21.1875
    ]
   },
   "outputs": [
    {
     "data": {
      "text/plain": [
       "Timestamp('2017-11-12 17:55:00')"
      ]
     },
     "execution_count": 13,
     "metadata": {},
     "output_type": "execute_result"
    }
   ],
   "source": [
    "# timestamp with just a time\n",
    "# which adds in the current local date\n",
    "pd.Timestamp('17:55')"
   ]
  },
  {
   "cell_type": "code",
   "execution_count": null,
   "metadata": {
    "cell_id": "00015-9414616b-5152-4c72-b4cb-b2169483545e",
    "deepnote_cell_height": 136.1875,
    "deepnote_cell_type": "code",
    "deepnote_output_heights": [
     21.1875
    ]
   },
   "outputs": [
    {
     "data": {
      "text/plain": [
       "Timestamp('2017-11-12 07:08:45.544382')"
      ]
     },
     "execution_count": 14,
     "metadata": {},
     "output_type": "execute_result"
    }
   ],
   "source": [
    "# get the current date and time (now)\n",
    "pd.Timestamp(\"now\")"
   ]
  },
  {
   "cell_type": "markdown",
   "metadata": {
    "cell_id": "00016-4f11f11f-d89b-4f1a-bcf7-ff702a6ec0b0",
    "deepnote_cell_height": 130.796875,
    "deepnote_cell_type": "markdown"
   },
   "source": [
    "## Timedelta\n",
    "\n",
    "A difference between two pandas Timestamp objects is represented by a timedelta object, which is a representation of an exact difference in time."
   ]
  },
  {
   "cell_type": "code",
   "execution_count": null,
   "metadata": {
    "cell_id": "00017-ebc7aaf0-dda5-42b5-938c-8779c59ede1d",
    "deepnote_cell_height": 172.1875,
    "deepnote_cell_type": "code",
    "deepnote_output_heights": [
     21.1875
    ]
   },
   "outputs": [
    {
     "data": {
      "text/plain": [
       "datetime.datetime(2014, 12, 1, 0, 0)"
      ]
     },
     "execution_count": 15,
     "metadata": {},
     "output_type": "execute_result"
    }
   ],
   "source": [
    "# what is one day from 2014-11-30?\n",
    "today = datetime(2014,11,30)\n",
    "tomorrow = today + pd.Timedelta(days=1)\n",
    "tomorrow"
   ]
  },
  {
   "cell_type": "code",
   "execution_count": null,
   "metadata": {
    "cell_id": "00018-691e1cd7-2848-4976-8ee7-00e107f17d07",
    "deepnote_cell_height": 172.1875,
    "deepnote_cell_type": "code",
    "deepnote_output_heights": [
     21.1875
    ]
   },
   "outputs": [
    {
     "data": {
      "text/plain": [
       "datetime.timedelta(4)"
      ]
     },
     "execution_count": 16,
     "metadata": {},
     "output_type": "execute_result"
    }
   ],
   "source": [
    "# how many days between two dates?\n",
    "date1 = datetime(2014,12,2)\n",
    "date2 = datetime(2014,11,28)\n",
    "date1 - date2"
   ]
  },
  {
   "cell_type": "markdown",
   "metadata": {
    "cell_id": "00019-b082713e-a0af-4529-a503-cd4dfa2f7f9b",
    "deepnote_cell_height": 189.59375,
    "deepnote_cell_type": "markdown"
   },
   "source": [
    "## Introducing Time-series data\n",
    "\n",
    "Due to its roots in finance, pandas excels in manipulating time-series data. Its abilities have been continuously refined over all of its versions to progressively increase its capabilities for time-series manipulation.\n",
    "\n",
    "The core of time-series functionality in pandas revolves around the use of specialized indexes that represents measurements of data at one or more timestamps. These indexes in pandas are referred to as DatetimeIndex objects."
   ]
  },
  {
   "cell_type": "markdown",
   "metadata": {
    "cell_id": "00020-42b3136a-a2a8-4af4-8ad5-c12a499e4a5e",
    "deepnote_cell_height": 62,
    "deepnote_cell_type": "markdown"
   },
   "source": [
    "### DatetimeIndex"
   ]
  },
  {
   "cell_type": "code",
   "execution_count": null,
   "metadata": {
    "cell_id": "00021-898262bb-58ba-413d-8c63-3736441368a5",
    "deepnote_cell_height": 228.578125,
    "deepnote_cell_type": "code",
    "deepnote_output_heights": [
     59.578125
    ]
   },
   "outputs": [
    {
     "data": {
      "text/plain": [
       "2014-08-01    2.80351\n",
       "2014-08-02    0.18116\n",
       "dtype: float64"
      ]
     },
     "execution_count": 17,
     "metadata": {},
     "output_type": "execute_result"
    }
   ],
   "source": [
    "# create a very simple time-series with two index labels\n",
    "# and random values\n",
    "dates = [datetime(2014,8,1),datetime(2014,8,2)]\n",
    "ts = pd.Series(np.random.randn(2),dates)\n",
    "ts"
   ]
  },
  {
   "cell_type": "code",
   "execution_count": null,
   "metadata": {
    "cell_id": "00022-fa1f3f34-88b0-4996-889a-4ba64a3c8dc0",
    "deepnote_cell_height": 136.1875,
    "deepnote_cell_type": "code",
    "deepnote_output_heights": [
     21.1875
    ]
   },
   "outputs": [
    {
     "data": {
      "text/plain": [
       "pandas.core.indexes.datetimes.DatetimeIndex"
      ]
     },
     "execution_count": 18,
     "metadata": {},
     "output_type": "execute_result"
    }
   ],
   "source": [
    "# what is the type of the index?\n",
    "type(ts.index)"
   ]
  },
  {
   "cell_type": "code",
   "execution_count": null,
   "metadata": {
    "cell_id": "00023-b7f34778-4f5a-4d3a-85ac-cd41139b5165",
    "deepnote_cell_height": 136.1875,
    "deepnote_cell_type": "code",
    "deepnote_output_heights": [
     21.1875
    ]
   },
   "outputs": [
    {
     "data": {
      "text/plain": [
       "pandas._libs.tslib.Timestamp"
      ]
     },
     "execution_count": 19,
     "metadata": {},
     "output_type": "execute_result"
    }
   ],
   "source": [
    "# and we can see it is a collection of timestamps\n",
    "type(ts.index[0])"
   ]
  },
  {
   "cell_type": "code",
   "execution_count": null,
   "metadata": {
    "cell_id": "00024-1f7fa4b2-a7b2-4565-8173-b3924eec73e7",
    "deepnote_cell_height": 228.578125,
    "deepnote_cell_type": "code",
    "deepnote_output_heights": [
     59.578125
    ]
   },
   "outputs": [
    {
     "data": {
      "text/plain": [
       "2014-08-01    0.469112\n",
       "2014-08-02   -0.282863\n",
       "dtype: float64"
      ]
     },
     "execution_count": 20,
     "metadata": {},
     "output_type": "execute_result"
    }
   ],
   "source": [
    "# create from just a list of dates as strings!\n",
    "np.random.seed(123456)\n",
    "dates = ['2014-08-01','2014-08-02']\n",
    "ts = pd.Series(np.random.randn(2),dates)\n",
    "ts"
   ]
  },
  {
   "cell_type": "code",
   "execution_count": null,
   "metadata": {
    "cell_id": "00025-b3993bec-760e-45ae-825b-40644d4a298e",
    "deepnote_cell_height": 206.78125,
    "deepnote_cell_type": "code"
   },
   "outputs": [
    {
     "name": "stdout",
     "output_type": "stream",
     "text": [
      "2014-08-01 00:00:00\n",
      "2014-08-02 00:00:00\n",
      "2014-08-03 00:00:00\n",
      "NaT\n"
     ]
    }
   ],
   "source": [
    "# convert a sequence of objects to a DatetimeIndex\n",
    "dti = pd.to_datetime(['Aug 1,2014','2014-08-2','2014.8.3',None])\n",
    "for l in dti: print(l)"
   ]
  },
  {
   "cell_type": "code",
   "execution_count": null,
   "metadata": {
    "cell_id": "00026-a0de78dd-c102-4576-8902-c7a36d7ea189",
    "deepnote_cell_height": 118.1875,
    "deepnote_cell_type": "code",
    "deepnote_output_heights": [
     21.1875
    ]
   },
   "outputs": [
    {
     "data": {
      "text/plain": [
       "str"
      ]
     },
     "execution_count": 23,
     "metadata": {},
     "output_type": "execute_result"
    }
   ],
   "source": [
    "type('dti')"
   ]
  },
  {
   "cell_type": "code",
   "execution_count": null,
   "metadata": {
    "cell_id": "00027-49b45d87-3e24-4140-826a-b1af33536d31",
    "deepnote_cell_height": 120,
    "deepnote_cell_type": "code"
   },
   "outputs": [],
   "source": [
    "# pandas fallback to NumPy array of objects if cannot\n",
    "# parse a value to Timestamp\n",
    "# this is a list of objects, not timestamps...\n",
    "# pd.to_datetime(['Aug 1, 2014','foo'])"
   ]
  },
  {
   "cell_type": "code",
   "execution_count": null,
   "metadata": {
    "cell_id": "00028-655b5179-57a0-4811-a9c1-8e6a14fbebbf",
    "deepnote_cell_height": 84,
    "deepnote_cell_type": "code"
   },
   "outputs": [],
   "source": [
    "# force the conversion, NaT for items that dont work\n",
    "# pd.to_datetime(['Aug 1, 2014','foo'],coerce=True)"
   ]
  },
  {
   "cell_type": "code",
   "execution_count": null,
   "metadata": {
    "cell_id": "00029-fc01cd32-64a7-4812-bd37-d44d4bea1cae",
    "deepnote_cell_height": 400.140625,
    "deepnote_cell_type": "code",
    "deepnote_output_heights": [
     213.140625
    ]
   },
   "outputs": [
    {
     "data": {
      "text/plain": [
       "2014-08-01    0.469112\n",
       "2014-08-02   -0.282863\n",
       "2014-08-03   -1.509059\n",
       "2014-08-04   -1.135632\n",
       "2014-08-05    1.212112\n",
       "2014-08-06   -0.173215\n",
       "2014-08-07    0.119209\n",
       "2014-08-08   -1.044236\n",
       "2014-08-09   -0.861849\n",
       "2014-08-10   -2.104569\n",
       "Freq: D, dtype: float64"
      ]
     },
     "execution_count": 31,
     "metadata": {},
     "output_type": "execute_result"
    }
   ],
   "source": [
    "# create a range of dates starting at a specific date\n",
    "# and for a specific number of days, creating a Series\n",
    "np.random.seed(123456)\n",
    "periods = pd.date_range('8/1/2014',periods=10)\n",
    "date_series = pd.Series(np.random.randn(10),index=periods)\n",
    "date_series"
   ]
  },
  {
   "cell_type": "code",
   "execution_count": null,
   "metadata": {
    "cell_id": "00030-9d353a6f-2e1b-4bcf-86b8-ab6dd4fedcbd",
    "deepnote_cell_height": 230.96875,
    "deepnote_cell_type": "code",
    "deepnote_output_heights": [
     97.96875
    ]
   },
   "outputs": [
    {
     "data": {
      "text/plain": [
       "2014-08-04   -1.135632\n",
       "2014-08-05    1.212112\n",
       "2014-08-06   -0.173215\n",
       "2014-08-07    0.119209\n",
       "Freq: D, dtype: float64"
      ]
     },
     "execution_count": 34,
     "metadata": {},
     "output_type": "execute_result"
    }
   ],
   "source": [
    "# slice by location\n",
    "subset = date_series[3:7]\n",
    "subset"
   ]
  },
  {
   "cell_type": "code",
   "execution_count": null,
   "metadata": {
    "cell_id": "00031-438cd0f5-3707-4d24-be20-7505fc80880c",
    "deepnote_cell_height": 230.96875,
    "deepnote_cell_type": "code",
    "deepnote_output_heights": [
     97.96875
    ]
   },
   "outputs": [
    {
     "data": {
      "text/plain": [
       "2014-08-04       10\n",
       "2014-08-05      100\n",
       "2014-08-06     1000\n",
       "2014-08-07    10000\n",
       "Freq: D, dtype: int64"
      ]
     },
     "execution_count": 35,
     "metadata": {},
     "output_type": "execute_result"
    }
   ],
   "source": [
    "# a series to demonstrate alignment\n",
    "s2 = pd.Series([10,100,1000,10000],subset.index)\n",
    "s2"
   ]
  },
  {
   "cell_type": "code",
   "execution_count": null,
   "metadata": {
    "cell_id": "00032-00b7ebe3-9436-49cf-887e-ca5d9520ab9e",
    "deepnote_cell_height": 328.140625,
    "deepnote_cell_type": "code",
    "deepnote_output_heights": [
     213.140625
    ]
   },
   "outputs": [
    {
     "data": {
      "text/plain": [
       "2014-08-01             NaN\n",
       "2014-08-02             NaN\n",
       "2014-08-03             NaN\n",
       "2014-08-04        8.864368\n",
       "2014-08-05      101.212112\n",
       "2014-08-06      999.826785\n",
       "2014-08-07    10000.119209\n",
       "2014-08-08             NaN\n",
       "2014-08-09             NaN\n",
       "2014-08-10             NaN\n",
       "Freq: D, dtype: float64"
      ]
     },
     "execution_count": 36,
     "metadata": {},
     "output_type": "execute_result"
    }
   ],
   "source": [
    "# demonstrate alignment by date on a subset of items\n",
    "date_series + s2"
   ]
  },
  {
   "cell_type": "code",
   "execution_count": null,
   "metadata": {
    "cell_id": "00033-079f0e74-1d67-4229-bef2-af01cf6c587d",
    "deepnote_cell_height": 136.1875,
    "deepnote_cell_type": "code",
    "deepnote_output_heights": [
     21.1875
    ]
   },
   "outputs": [
    {
     "data": {
      "text/plain": [
       "1.2121120250208506"
      ]
     },
     "execution_count": 37,
     "metadata": {},
     "output_type": "execute_result"
    }
   ],
   "source": [
    "# lookup item by a string representing a date\n",
    "date_series['2014-08-05']"
   ]
  },
  {
   "cell_type": "code",
   "execution_count": null,
   "metadata": {
    "cell_id": "00034-8b752ad2-a2fc-4e42-bcc9-b4e77c24944e",
    "deepnote_cell_height": 193.78125,
    "deepnote_cell_type": "code",
    "deepnote_output_heights": [
     78.78125
    ]
   },
   "outputs": [
    {
     "data": {
      "text/plain": [
       "2014-08-05    1.212112\n",
       "2014-08-06   -0.173215\n",
       "2014-08-07    0.119209\n",
       "Freq: D, dtype: float64"
      ]
     },
     "execution_count": 38,
     "metadata": {},
     "output_type": "execute_result"
    }
   ],
   "source": [
    "# slice between two dates specified by string representing dates\n",
    "date_series['2014-08-05':'2014-08-07']"
   ]
  },
  {
   "cell_type": "code",
   "execution_count": null,
   "metadata": {
    "cell_id": "00035-29247e3b-4761-4f94-b1ef-68c800192c42",
    "deepnote_cell_height": 383.34375,
    "deepnote_cell_type": "code"
   },
   "outputs": [
    {
     "data": {
      "text/plain": [
       "2013-01-01    0\n",
       "2013-01-02    0\n",
       "2013-01-03    0\n",
       "2013-01-04    0\n",
       "2013-01-05    0\n",
       "             ..\n",
       "2013-12-27    0\n",
       "2013-12-28    0\n",
       "2013-12-29    0\n",
       "2013-12-30    0\n",
       "2013-12-31    0\n",
       "Freq: D, Length: 365, dtype: int64"
      ]
     },
     "execution_count": 39,
     "metadata": {},
     "output_type": "execute_result"
    }
   ],
   "source": [
    "# a two year range of daily data in a Series\n",
    "# only select those in 2013\n",
    "s3 = pd.Series(0,pd.date_range('2013-01-01','2014-12-31'))\n",
    "s3['2013']"
   ]
  },
  {
   "cell_type": "code",
   "execution_count": null,
   "metadata": {
    "cell_id": "00036-4944269c-95ab-4bc8-8781-64362a817be2",
    "deepnote_cell_height": 347.34375,
    "deepnote_cell_type": "code",
    "deepnote_output_heights": [
     232.34375
    ]
   },
   "outputs": [
    {
     "data": {
      "text/plain": [
       "2014-05-01    0\n",
       "2014-05-02    0\n",
       "2014-05-03    0\n",
       "2014-05-04    0\n",
       "2014-05-05    0\n",
       "             ..\n",
       "2014-05-27    0\n",
       "2014-05-28    0\n",
       "2014-05-29    0\n",
       "2014-05-30    0\n",
       "2014-05-31    0\n",
       "Freq: D, Length: 31, dtype: int64"
      ]
     },
     "execution_count": 40,
     "metadata": {},
     "output_type": "execute_result"
    }
   ],
   "source": [
    "# 31 items for May 2014\n",
    "s3['2014-05']"
   ]
  },
  {
   "cell_type": "code",
   "execution_count": null,
   "metadata": {
    "cell_id": "00037-1a4b3b3a-7eb8-4393-84ff-66c50ac59ad9",
    "deepnote_cell_height": 347.34375,
    "deepnote_cell_type": "code",
    "deepnote_output_heights": [
     232.34375
    ]
   },
   "outputs": [
    {
     "data": {
      "text/plain": [
       "2014-08-01    0\n",
       "2014-08-02    0\n",
       "2014-08-03    0\n",
       "2014-08-04    0\n",
       "2014-08-05    0\n",
       "             ..\n",
       "2014-09-26    0\n",
       "2014-09-27    0\n",
       "2014-09-28    0\n",
       "2014-09-29    0\n",
       "2014-09-30    0\n",
       "Freq: D, Length: 61, dtype: int64"
      ]
     },
     "execution_count": 41,
     "metadata": {},
     "output_type": "execute_result"
    }
   ],
   "source": [
    "# items between two months\n",
    "s3['2014-08':'2014-09']"
   ]
  },
  {
   "cell_type": "markdown",
   "metadata": {
    "cell_id": "00038-66e476ff-bd57-4ff8-ab74-a792b51d72c3",
    "deepnote_cell_height": 70,
    "deepnote_cell_type": "markdown"
   },
   "source": [
    "## Creating time-series data with specific frequencies"
   ]
  },
  {
   "cell_type": "code",
   "execution_count": null,
   "metadata": {
    "cell_id": "00039-5954ef75-ce72-4a29-85f3-e06094c15019",
    "deepnote_cell_height": 383.34375,
    "deepnote_cell_type": "code",
    "deepnote_output_heights": [
     232.34375
    ]
   },
   "outputs": [
    {
     "data": {
      "text/plain": [
       "2014-08-01 00:00:00    0.469112\n",
       "2014-08-01 00:01:00   -0.282863\n",
       "2014-08-01 00:02:00   -1.509059\n",
       "2014-08-01 00:03:00   -1.135632\n",
       "2014-08-01 00:04:00    1.212112\n",
       "                         ...   \n",
       "2014-10-29 23:55:00   -0.563029\n",
       "2014-10-29 23:56:00    1.180497\n",
       "2014-10-29 23:57:00    1.850604\n",
       "2014-10-29 23:58:00   -1.589660\n",
       "2014-10-29 23:59:00    0.266429\n",
       "Freq: T, Length: 129600, dtype: float64"
      ]
     },
     "execution_count": 43,
     "metadata": {},
     "output_type": "execute_result"
    }
   ],
   "source": [
    "# generate a Series at one minute intervals\n",
    "np.random.seed(123456)\n",
    "bymin = pd.Series(np.random.randn(24*60*90),pd.date_range('2014-08-01','2014-10-29 23:59',freq='T'))\n",
    "bymin"
   ]
  },
  {
   "cell_type": "code",
   "execution_count": null,
   "metadata": {
    "cell_id": "00040-8932c028-99c8-4fca-b490-0b723e509081",
    "deepnote_cell_height": 308.953125,
    "deepnote_cell_type": "code",
    "deepnote_output_heights": [
     193.953125
    ]
   },
   "outputs": [
    {
     "data": {
      "text/plain": [
       "2014-08-01 00:02:00   -1.509059\n",
       "2014-08-01 00:03:00   -1.135632\n",
       "2014-08-01 00:04:00    1.212112\n",
       "2014-08-01 00:05:00   -0.173215\n",
       "2014-08-01 00:06:00    0.119209\n",
       "2014-08-01 00:07:00   -1.044236\n",
       "2014-08-01 00:08:00   -0.861849\n",
       "2014-08-01 00:09:00   -2.104569\n",
       "2014-08-01 00:10:00   -0.494929\n",
       "Freq: T, dtype: float64"
      ]
     },
     "execution_count": 44,
     "metadata": {},
     "output_type": "execute_result"
    }
   ],
   "source": [
    "# slice down to the minute\n",
    "bymin['2014-08-01 00:02':'2014-08-01 00:10']"
   ]
  },
  {
   "cell_type": "markdown",
   "metadata": {
    "cell_id": "00041-b860618a-0687-4852-a726-5a4c2e00bafa",
    "deepnote_cell_height": 359.171875,
    "deepnote_cell_type": "markdown"
   },
   "source": [
    "Some of the possible frequency values:\n",
    "\n",
    "| Alias         | Description                        |\n",
    "| ------------- |:----------------------------------:|\n",
    "| B             | Business Day Frequency             |\n",
    "| C             | Custom Business Day Frequency      |\n",
    "| D             | Calendar Day Frequency (default    |\n",
    "| W             | Weekly Frequency                   |\n",
    "| M             | Month End Frequency                |\n",
    "| BM            | Business Month End Frequency       |\n",
    "| CBM           | Custom Business Month End Frequency|\n",
    "| MS            | Month Start Frequency              |\n",
    "| BMS           | Business Month Start Frequency     |\n",
    "| CBMS          | Custom Business Month Start Freq   |\n",
    "| Q             | Quarter End Frequency              |\n"
   ]
  },
  {
   "cell_type": "code",
   "execution_count": null,
   "metadata": {
    "cell_id": "00042-e5f92cc0-21f4-4233-9c91-8f0a49db293b",
    "deepnote_cell_height": 246.171875,
    "deepnote_cell_type": "code"
   },
   "outputs": [
    {
     "name": "stdout",
     "output_type": "stream",
     "text": [
      "2014-08-29 00:00:00\n",
      "2014-09-01 00:00:00\n",
      "2014-09-02 00:00:00\n",
      "2014-09-03 00:00:00\n",
      "2014-09-04 00:00:00\n",
      "2014-09-05 00:00:00\n"
     ]
    }
   ],
   "source": [
    "# generate a series based upon business days\n",
    "days = pd.date_range('2014-08-29','2014-09-05',freq='B')\n",
    "for d in days: print(d)"
   ]
  },
  {
   "cell_type": "markdown",
   "metadata": {
    "cell_id": "00043-1f23c2fb-0c00-46aa-95aa-411ff2e9a6fd",
    "deepnote_cell_height": 133.59375,
    "deepnote_cell_type": "markdown"
   },
   "source": [
    "In this time series, we can see that two days were skipped as they were on the weekend, which would not have occured using a calendar-day  frequency.\n",
    "\n",
    "A range can be created starting at a particular date and time with a specific frequency and for a specific number of periods using the periods parameter."
   ]
  },
  {
   "cell_type": "code",
   "execution_count": null,
   "metadata": {
    "cell_id": "00044-6a6036e8-da9b-4e54-9b70-c46c977aca3b",
    "deepnote_cell_height": 232.171875,
    "deepnote_cell_type": "code",
    "deepnote_output_heights": [
     117.171875
    ]
   },
   "outputs": [
    {
     "data": {
      "text/plain": [
       "DatetimeIndex(['2014-08-01 12:10:01', '2014-08-01 12:10:02',\n",
       "               '2014-08-01 12:10:03', '2014-08-01 12:10:04',\n",
       "               '2014-08-01 12:10:05', '2014-08-01 12:10:06',\n",
       "               '2014-08-01 12:10:07', '2014-08-01 12:10:08',\n",
       "               '2014-08-01 12:10:09', '2014-08-01 12:10:10'],\n",
       "              dtype='datetime64[ns]', freq='S')"
      ]
     },
     "execution_count": 46,
     "metadata": {},
     "output_type": "execute_result"
    }
   ],
   "source": [
    "# periods will use the frequency as the increment\n",
    "pd.date_range('2014-08-01 12:10:01',freq='S',periods=10)"
   ]
  },
  {
   "cell_type": "markdown",
   "metadata": {
    "cell_id": "00045-d7ec6875-77b6-4c31-9aef-6a2479378d15",
    "deepnote_cell_height": 145.1875,
    "deepnote_cell_type": "markdown"
   },
   "source": [
    "### Calculating new dates using offsets\n",
    "\n",
    "Frequencies in pandas are represented using date offsets. We have touched on this concept at the beginning of the chapter when discussing Timedelta objects. pandas extends the capabilities of these using the concept of DateOffset objects, which represent knowledge of how to integrate time offsets and frequencies relative to DatetimeIndex objects."
   ]
  },
  {
   "cell_type": "markdown",
   "metadata": {
    "cell_id": "00046-0ca48299-7d1e-4d88-8751-a8b226bf6cff",
    "deepnote_cell_height": 54,
    "deepnote_cell_type": "markdown"
   },
   "source": [
    "##### Date Offsets"
   ]
  },
  {
   "cell_type": "markdown",
   "metadata": {
    "cell_id": "00047-7827ef45-6700-4329-890b-852934c2fe9a",
    "deepnote_cell_height": 155.984375,
    "deepnote_cell_type": "markdown"
   },
   "source": [
    "The use of DatetimeIndex and DateOffset objects provides the user of pandas great flexibility in calculating a new date/time from another using an offset other than one that represents a fixed period of time.\n",
    "\n",
    "A practical example would be to calculate the next day of business. This is not simply determined by adding one day to datetime. If a date represents a Friday, the next business day in the US financial marked is not Saturday but Monday. In some cases, one business day from a Friday may actually be Tuesday if Monday is a holiday."
   ]
  },
  {
   "cell_type": "code",
   "execution_count": null,
   "metadata": {
    "cell_id": "00048-40c74e44-ddbc-4cbe-aeb6-367a5b5c2788",
    "deepnote_cell_height": 174.578125,
    "deepnote_cell_type": "code",
    "deepnote_output_heights": [
     59.578125
    ]
   },
   "outputs": [
    {
     "data": {
      "text/plain": [
       "array(['2014-08-29T00:00:00.000000000', '2014-09-01T00:00:00.000000000',\n",
       "       '2014-09-02T00:00:00.000000000', '2014-09-03T00:00:00.000000000',\n",
       "       '2014-09-04T00:00:00.000000000', '2014-09-05T00:00:00.000000000'], dtype='datetime64[ns]')"
      ]
     },
     "execution_count": 47,
     "metadata": {},
     "output_type": "execute_result"
    }
   ],
   "source": [
    "dti = pd.date_range('2014-08-29','2014-09-05',freq='B')\n",
    "dti.values"
   ]
  },
  {
   "cell_type": "code",
   "execution_count": null,
   "metadata": {
    "cell_id": "00049-9e1f8d6f-8788-4481-ad4b-3a2a2abbd2d5",
    "deepnote_cell_height": 136.1875,
    "deepnote_cell_type": "code",
    "deepnote_output_heights": [
     21.1875
    ]
   },
   "outputs": [
    {
     "data": {
      "text/plain": [
       "<BusinessDay>"
      ]
     },
     "execution_count": 48,
     "metadata": {},
     "output_type": "execute_result"
    }
   ],
   "source": [
    "# check the frequency is BusinessDay\n",
    "dti.freq"
   ]
  },
  {
   "cell_type": "markdown",
   "metadata": {
    "cell_id": "00050-a8c7e43a-0baf-4621-b0bc-9a3ab5831419",
    "deepnote_cell_height": 217.1875,
    "deepnote_cell_type": "markdown"
   },
   "source": [
    "| Class         | Description                        |\n",
    "| ------------- |:----------------------------------:|\n",
    "| DateOffset    | Generic offset - default one cal   |\n",
    "| BDay          | Business Day     |\n",
    "| CDay          | Custom Business Day    |\n",
    "| Week          | one week,optionally anchored a day of the week                   |\n",
    "| WeekOfMonth   | The x-th day of the y-th week of each month|\n",
    "              |"
   ]
  },
  {
   "cell_type": "markdown",
   "metadata": {
    "cell_id": "00051-a5b03a70-ecea-4a95-ba63-ba17c9c582e0",
    "deepnote_cell_height": 220.78125,
    "deepnote_cell_type": "markdown"
   },
   "source": [
    "pandas takes this strategy of using DateOffset and its specializations to codify logic to calculate the next datetime from another datetime. This makes using these objects very flexible as well as powerful.\n",
    "\n",
    "* They can be added/subtracted to/from a datetime object to obtain a shifted date\n",
    "* They can be multiplied by an integer (positive or negative) so that the increment will be applied multiple times\n",
    "* They have rollforward and rollback methods to move a date forward or backward to the next or previous \"offset date\"\n",
    "\n",
    "DateOffset objects can be created by passing them a datetime object that represents a fixed duration of time or using a number of keyword arguments."
   ]
  },
  {
   "cell_type": "code",
   "execution_count": null,
   "metadata": {
    "cell_id": "00052-b1c24cab-9613-4713-9fb6-f0dbd3c78155",
    "deepnote_cell_height": 172.1875,
    "deepnote_cell_type": "code",
    "deepnote_output_heights": [
     21.1875
    ]
   },
   "outputs": [
    {
     "data": {
      "text/plain": [
       "Timestamp('2014-08-30 00:00:00')"
      ]
     },
     "execution_count": 49,
     "metadata": {},
     "output_type": "execute_result"
    }
   ],
   "source": [
    "# calculate a one day offset from 2014-8-29\n",
    "d = datetime(2014,8,29)\n",
    "do = pd.DateOffset(days = 1)\n",
    "d + do"
   ]
  },
  {
   "cell_type": "code",
   "execution_count": null,
   "metadata": {
    "cell_id": "00053-96a9fcfe-e2e8-4d41-a6a6-e38c8028ebd0",
    "deepnote_cell_height": 172.1875,
    "deepnote_cell_type": "code",
    "deepnote_output_heights": [
     21.1875
    ]
   },
   "outputs": [
    {
     "data": {
      "text/plain": [
       "Timestamp('2014-09-01 00:00:00')"
      ]
     },
     "execution_count": 50,
     "metadata": {},
     "output_type": "execute_result"
    }
   ],
   "source": [
    "# import the data offset types\n",
    "from pandas.tseries.offsets import *\n",
    "# calculate one business day from 2014-8-31\n",
    "d + BusinessDay()"
   ]
  },
  {
   "cell_type": "code",
   "execution_count": null,
   "metadata": {
    "cell_id": "00054-0e648257-0275-4bbe-9045-c31adcc55730",
    "deepnote_cell_height": 136.1875,
    "deepnote_cell_type": "code",
    "deepnote_output_heights": [
     21.1875
    ]
   },
   "outputs": [
    {
     "data": {
      "text/plain": [
       "Timestamp('2014-09-02 00:00:00')"
      ]
     },
     "execution_count": 51,
     "metadata": {},
     "output_type": "execute_result"
    }
   ],
   "source": [
    "# determine 2 business days from 2014-8-29\n",
    "d + 2 * BusinessDay()"
   ]
  },
  {
   "cell_type": "code",
   "execution_count": null,
   "metadata": {
    "cell_id": "00055-f6e33462-6d4d-4a9a-96a8-09a59181e1fd",
    "deepnote_cell_height": 154.1875,
    "deepnote_cell_type": "code",
    "deepnote_output_heights": [
     21.1875
    ]
   },
   "outputs": [
    {
     "data": {
      "text/plain": [
       "Timestamp('2014-09-30 00:00:00')"
      ]
     },
     "execution_count": 52,
     "metadata": {},
     "output_type": "execute_result"
    }
   ],
   "source": [
    "# what is the next business month end\n",
    "# from a specific date?\n",
    "d + BMonthEnd()"
   ]
  },
  {
   "cell_type": "code",
   "execution_count": null,
   "metadata": {
    "cell_id": "00056-82dd7516-0c2f-4b3a-82dc-c395a3e272e3",
    "deepnote_cell_height": 154.1875,
    "deepnote_cell_type": "code",
    "deepnote_output_heights": [
     21.1875
    ]
   },
   "outputs": [
    {
     "data": {
      "text/plain": [
       "Timestamp('2014-09-30 00:00:00')"
      ]
     },
     "execution_count": 53,
     "metadata": {},
     "output_type": "execute_result"
    }
   ],
   "source": [
    "# calculate the next month end by\n",
    "# rolling forward from a specific date\n",
    "BMonthEnd().rollforward(datetime(2014,9,15))"
   ]
  },
  {
   "cell_type": "code",
   "execution_count": null,
   "metadata": {
    "cell_id": "00057-5d1b1176-ebd9-43b6-9679-45e72155dd2b",
    "deepnote_cell_height": 154.1875,
    "deepnote_cell_type": "code",
    "deepnote_output_heights": [
     21.1875
    ]
   },
   "outputs": [
    {
     "data": {
      "text/plain": [
       "Timestamp('2014-08-26 00:00:00')"
      ]
     },
     "execution_count": 54,
     "metadata": {},
     "output_type": "execute_result"
    }
   ],
   "source": [
    "# calculate the date of the Tuesday previous\n",
    "# to a specified date\n",
    "d - Week(weekday = 1)"
   ]
  },
  {
   "cell_type": "markdown",
   "metadata": {
    "cell_id": "00058-ffcf7049-3aee-48e2-9b15-3f48b636e6d7",
    "deepnote_cell_height": 122.796875,
    "deepnote_cell_type": "markdown"
   },
   "source": [
    "### Anchored offsets\n",
    "\n",
    "pandas also supports the concept of anchored offsets, which are frequencies that can be specified using a specific suffix. One version of anchored offsets allows you to specify weekly intervals that fall on a specific day of the week."
   ]
  },
  {
   "cell_type": "code",
   "execution_count": null,
   "metadata": {
    "cell_id": "00059-a6ec7f55-6952-49ac-861c-190ba5b2e067",
    "deepnote_cell_height": 287.359375,
    "deepnote_cell_type": "code",
    "deepnote_output_heights": [
     136.359375
    ]
   },
   "outputs": [
    {
     "data": {
      "text/plain": [
       "array(['2014-06-04T00:00:00.000000000', '2014-06-11T00:00:00.000000000',\n",
       "       '2014-06-18T00:00:00.000000000', '2014-06-25T00:00:00.000000000',\n",
       "       '2014-07-02T00:00:00.000000000', '2014-07-09T00:00:00.000000000',\n",
       "       '2014-07-16T00:00:00.000000000', '2014-07-23T00:00:00.000000000',\n",
       "       '2014-07-30T00:00:00.000000000', '2014-08-06T00:00:00.000000000',\n",
       "       '2014-08-13T00:00:00.000000000', '2014-08-20T00:00:00.000000000',\n",
       "       '2014-08-27T00:00:00.000000000'], dtype='datetime64[ns]')"
      ]
     },
     "execution_count": 55,
     "metadata": {},
     "output_type": "execute_result"
    }
   ],
   "source": [
    "# calculate all Wednesdays between 2014-06-01\n",
    "# and 2014-08-31\n",
    "wednesdays = pd.date_range('2014-06-01','2014-08-31', freq='W-WED')\n",
    "wednesdays.values"
   ]
  },
  {
   "cell_type": "code",
   "execution_count": null,
   "metadata": {
    "cell_id": "00060-12f5a489-9525-4f0d-8469-c2cf9a81e280",
    "deepnote_cell_height": 191.390625,
    "deepnote_cell_type": "code",
    "deepnote_output_heights": [
     40.390625
    ]
   },
   "outputs": [
    {
     "data": {
      "text/plain": [
       "array(['2014-03-03T00:00:00.000000000', '2014-06-02T00:00:00.000000000',\n",
       "       '2014-09-01T00:00:00.000000000', '2014-12-01T00:00:00.000000000'], dtype='datetime64[ns]')"
      ]
     },
     "execution_count": 56,
     "metadata": {},
     "output_type": "execute_result"
    }
   ],
   "source": [
    "# what are all of the business quarterly end\n",
    "# dates in 2014?\n",
    "qends = pd.date_range('2014-01-01','2014-12-31',freq='BQS-JUN')\n",
    "qends.values"
   ]
  },
  {
   "cell_type": "markdown",
   "metadata": {
    "cell_id": "00061-119343e2-050a-4609-846e-533382929389",
    "deepnote_cell_height": 436.375,
    "deepnote_cell_type": "markdown"
   },
   "source": [
    "## Representing durations of time using Period objects\n",
    "Many useful mathematical operations on time-series data require that events within a specific time interval be analyzed. A simple example would be to determine how many financial transactions occured in a specific period.\n",
    "\n",
    "This can be performed using Timestamp and DateOffset, where the bounds are calculated and then items filtered based on these bounds. However, this becomes cumbersome when you need to deal with events that must be grouped into multiple periods of time as you start to need to manage sets of the Timestamp and DateOffset objects.\n",
    "\n",
    "To facilitate these types of data organization and calculations, pandas makes intervals of time a formal construct using the Period class.\n",
    "\n",
    "pandas also formalizes series of Period objects using Period Index, which provides capabilities of aligning data items based on the indexes associated period objects.\n",
    "\n",
    "### The Period object\n",
    "Period is created using a timestamp and a frequency where the timestamp represents the anchor used as a point of reference and the frequency is the duration of time."
   ]
  },
  {
   "cell_type": "code",
   "execution_count": null,
   "metadata": {
    "cell_id": "00062-3250a790-13bb-46a0-a1fa-41cea5fbf149",
    "deepnote_cell_height": 172.1875,
    "deepnote_cell_type": "code",
    "deepnote_output_heights": [
     21.1875
    ]
   },
   "outputs": [
    {
     "data": {
      "text/plain": [
       "Period('2014-08', 'M')"
      ]
     },
     "execution_count": 57,
     "metadata": {},
     "output_type": "execute_result"
    }
   ],
   "source": [
    "# create a period representing a month of time\n",
    "# starting in August 2014\n",
    "aug2014 = pd.Period('2014-08',freq='M')\n",
    "aug2014"
   ]
  },
  {
   "cell_type": "code",
   "execution_count": null,
   "metadata": {
    "cell_id": "00063-8c6c0ac2-4e46-4a1e-8d35-88e799aabbe2",
    "deepnote_cell_height": 136.1875,
    "deepnote_cell_type": "code",
    "deepnote_output_heights": [
     21.1875
    ]
   },
   "outputs": [
    {
     "data": {
      "text/plain": [
       "(Timestamp('2014-08-01 00:00:00'), Timestamp('2014-08-31 23:59:59.999999999'))"
      ]
     },
     "execution_count": 58,
     "metadata": {},
     "output_type": "execute_result"
    }
   ],
   "source": [
    "# examine the start and end times of this period\n",
    "aug2014.start_time, aug2014.end_time"
   ]
  },
  {
   "cell_type": "code",
   "execution_count": null,
   "metadata": {
    "cell_id": "00064-a692a34f-6de4-454a-8f95-6ad04b506945",
    "deepnote_cell_height": 190.1875,
    "deepnote_cell_type": "code",
    "deepnote_output_heights": [
     21.1875
    ]
   },
   "outputs": [
    {
     "data": {
      "text/plain": [
       "Period('2014-09', 'M')"
      ]
     },
     "execution_count": 59,
     "metadata": {},
     "output_type": "execute_result"
    }
   ],
   "source": [
    "# calculate the period that is one frequency\n",
    "# unit of aug2014 period further along in time\n",
    "# This happens to be September 2014\n",
    "sep2014 = aug2014 + 1\n",
    "sep2014"
   ]
  },
  {
   "cell_type": "markdown",
   "metadata": {
    "cell_id": "00065-e22b88f3-361c-4ea7-a74f-9e4746d75dae",
    "deepnote_cell_height": 97.1875,
    "deepnote_cell_type": "markdown"
   },
   "source": [
    "The concept of the shift is very important and powerful. The addition of 1 to this Period object informs it to shift in time one positive unit of whatever frequency is represented by the object. In this case, it shifts the period one month forward to September 2014."
   ]
  },
  {
   "cell_type": "code",
   "execution_count": null,
   "metadata": {
    "cell_id": "00066-2cfd95c1-a900-4cb2-bbfb-73a2d828926e",
    "deepnote_cell_height": 118.1875,
    "deepnote_cell_type": "code",
    "deepnote_output_heights": [
     21.1875
    ]
   },
   "outputs": [
    {
     "data": {
      "text/plain": [
       "(Timestamp('2014-09-01 00:00:00'), Timestamp('2014-09-30 23:59:59.999999999'))"
      ]
     },
     "execution_count": 60,
     "metadata": {},
     "output_type": "execute_result"
    }
   ],
   "source": [
    "sep2014.start_time, sep2014.end_time"
   ]
  },
  {
   "cell_type": "markdown",
   "metadata": {
    "cell_id": "00067-e067d855-d89c-483a-986a-3f61051a4bf7",
    "deepnote_cell_height": 74.796875,
    "deepnote_cell_type": "markdown"
   },
   "source": [
    "Note that Period has the intelligence to know that September is 30 days and not 31. This is part of the incredible intelligence behind the Period object that saves us a lot of coding.It is not simply adding 30 days but one unit frequency of the period."
   ]
  },
  {
   "cell_type": "markdown",
   "metadata": {
    "cell_id": "00068-8f97dac4-19d7-4aa0-8561-cfb3aec09b1a",
    "deepnote_cell_height": 145.1875,
    "deepnote_cell_type": "markdown"
   },
   "source": [
    "### PeriodIndex\n",
    "A series of Period objects can be combined into a special form of pandas index known as PeriodIndex. A PeriodIndex index is useful for being able to associate data to specific intervals of time and being able to slice and perform analysis on the events in each interval represented in PeriodIndex."
   ]
  },
  {
   "cell_type": "code",
   "execution_count": null,
   "metadata": {
    "cell_id": "00069-87de5efe-0ac7-482a-9878-bdc9a73f598a",
    "deepnote_cell_height": 210.578125,
    "deepnote_cell_type": "code",
    "deepnote_output_heights": [
     59.578125
    ]
   },
   "outputs": [
    {
     "data": {
      "text/plain": [
       "PeriodIndex(['2013-01', '2013-02', '2013-03', '2013-04', '2013-05', '2013-06',\n",
       "             '2013-07', '2013-08', '2013-09', '2013-10', '2013-11', '2013-12'],\n",
       "            dtype='period[M]', freq='M')"
      ]
     },
     "execution_count": 61,
     "metadata": {},
     "output_type": "execute_result"
    }
   ],
   "source": [
    "# create a period index representing\n",
    "# all monthly boundaries in 2013\n",
    "mp2013 = pd.period_range('1/1/2013','12/31/2013',freq='M')\n",
    "mp2013"
   ]
  },
  {
   "cell_type": "code",
   "execution_count": null,
   "metadata": {
    "cell_id": "00070-0c07cc48-1829-451c-b575-699f2870dbf4",
    "deepnote_cell_height": 382.34375,
    "deepnote_cell_type": "code"
   },
   "outputs": [
    {
     "name": "stdout",
     "output_type": "stream",
     "text": [
      "2013-01-01 00:00:00 2013-01-31 23:59:59.999999999\n",
      "2013-02-01 00:00:00 2013-02-28 23:59:59.999999999\n",
      "2013-03-01 00:00:00 2013-03-31 23:59:59.999999999\n",
      "2013-04-01 00:00:00 2013-04-30 23:59:59.999999999\n",
      "2013-05-01 00:00:00 2013-05-31 23:59:59.999999999\n",
      "2013-06-01 00:00:00 2013-06-30 23:59:59.999999999\n",
      "2013-07-01 00:00:00 2013-07-31 23:59:59.999999999\n",
      "2013-08-01 00:00:00 2013-08-31 23:59:59.999999999\n",
      "2013-09-01 00:00:00 2013-09-30 23:59:59.999999999\n",
      "2013-10-01 00:00:00 2013-10-31 23:59:59.999999999\n",
      "2013-11-01 00:00:00 2013-11-30 23:59:59.999999999\n",
      "2013-12-01 00:00:00 2013-12-31 23:59:59.999999999\n"
     ]
    }
   ],
   "source": [
    "# loop through all period objects in the index\n",
    "# printing start and end time of each\n",
    "for p in mp2013:\n",
    "    print(\"{0} {1}\".format(p.start_time,p.end_time))"
   ]
  },
  {
   "cell_type": "code",
   "execution_count": null,
   "metadata": {
    "cell_id": "00071-34b53431-1997-4944-8539-b8c5e8d94c47",
    "deepnote_cell_height": 383.34375,
    "deepnote_cell_type": "code",
    "deepnote_output_heights": [
     232.34375
    ]
   },
   "outputs": [
    {
     "data": {
      "text/plain": [
       "2013-01    0.469112\n",
       "2013-02   -0.282863\n",
       "2013-03   -1.509059\n",
       "2013-04   -1.135632\n",
       "2013-05    1.212112\n",
       "             ...   \n",
       "2013-08   -1.044236\n",
       "2013-09   -0.861849\n",
       "2013-10   -2.104569\n",
       "2013-11   -0.494929\n",
       "2013-12    1.071804\n",
       "Freq: M, Length: 12, dtype: float64"
      ]
     },
     "execution_count": 63,
     "metadata": {},
     "output_type": "execute_result"
    }
   ],
   "source": [
    "# create a Series with a PeriodIndex\n",
    "np.random.seed(123456)\n",
    "ps = pd.Series(np.random.randn(12),mp2013)\n",
    "ps"
   ]
  },
  {
   "cell_type": "code",
   "execution_count": null,
   "metadata": {
    "cell_id": "00072-5fd8ef38-994a-4e31-ab25-bc3f1b5486c0",
    "deepnote_cell_height": 401.34375,
    "deepnote_cell_type": "code",
    "deepnote_output_heights": [
     232.34375
    ]
   },
   "outputs": [
    {
     "data": {
      "text/plain": [
       "2013-01    0.469112\n",
       "2013-02   -0.282863\n",
       "2013-03   -1.509059\n",
       "2013-04   -1.135632\n",
       "2013-05    1.212112\n",
       "             ...   \n",
       "2014-08   -1.087401\n",
       "2014-09   -0.673690\n",
       "2014-10    0.113648\n",
       "2014-11   -1.478427\n",
       "2014-12    0.524988\n",
       "Freq: M, Length: 24, dtype: float64"
      ]
     },
     "execution_count": 65,
     "metadata": {},
     "output_type": "execute_result"
    }
   ],
   "source": [
    "# create a Series with a PeriodIndex and which\n",
    "# represents all calendar month period in 2013 and 2014\n",
    "np.random.seed(123456)\n",
    "ps = pd.Series(np.random.randn(24),pd.period_range('1/1/2013','12/31/2014',freq='M'))\n",
    "ps"
   ]
  },
  {
   "cell_type": "code",
   "execution_count": null,
   "metadata": {
    "cell_id": "00073-a023be46-3545-4255-a62d-57b1bd51e21a",
    "deepnote_cell_height": 136.1875,
    "deepnote_cell_type": "code",
    "deepnote_output_heights": [
     21.1875
    ]
   },
   "outputs": [
    {
     "data": {
      "text/plain": [
       "0.567020349793672"
      ]
     },
     "execution_count": 66,
     "metadata": {},
     "output_type": "execute_result"
    }
   ],
   "source": [
    "# get value for period represented by 2014-06\n",
    "ps['2014-06']"
   ]
  },
  {
   "cell_type": "code",
   "execution_count": null,
   "metadata": {
    "cell_id": "00074-78fbbcd0-992e-4df3-b9a3-06e59732f919",
    "deepnote_cell_height": 347.34375,
    "deepnote_cell_type": "code",
    "deepnote_output_heights": [
     232.34375
    ]
   },
   "outputs": [
    {
     "data": {
      "text/plain": [
       "2014-01    0.721555\n",
       "2014-02   -0.706771\n",
       "2014-03   -1.039575\n",
       "2014-04    0.271860\n",
       "2014-05   -0.424972\n",
       "             ...   \n",
       "2014-08   -1.087401\n",
       "2014-09   -0.673690\n",
       "2014-10    0.113648\n",
       "2014-11   -1.478427\n",
       "2014-12    0.524988\n",
       "Freq: M, Length: 12, dtype: float64"
      ]
     },
     "execution_count": 67,
     "metadata": {},
     "output_type": "execute_result"
    }
   ],
   "source": [
    "# get values for all periods in 2014\n",
    "ps['2014']"
   ]
  },
  {
   "cell_type": "code",
   "execution_count": null,
   "metadata": {
    "cell_id": "00075-056ae186-1405-45d7-b055-a42b1e8fc97e",
    "deepnote_cell_height": 212.96875,
    "deepnote_cell_type": "code",
    "deepnote_output_heights": [
     97.96875
    ]
   },
   "outputs": [
    {
     "data": {
      "text/plain": [
       "2014-03   -1.039575\n",
       "2014-04    0.271860\n",
       "2014-05   -0.424972\n",
       "2014-06    0.567020\n",
       "Freq: M, dtype: float64"
      ]
     },
     "execution_count": 68,
     "metadata": {},
     "output_type": "execute_result"
    }
   ],
   "source": [
    "# all values between (and including) March and June 2014\n",
    "ps['2014-03':'2014-06']"
   ]
  },
  {
   "cell_type": "markdown",
   "metadata": {
    "cell_id": "00076-537441e7-0af4-4989-a11d-0d74afc4d9d7",
    "deepnote_cell_height": 175.59375,
    "deepnote_cell_type": "markdown"
   },
   "source": [
    "## Handling holidays using calendars\n",
    "Earlier when we calculated the next business day from August 29,2014 we were told by pandas that this date is September 1,2014. This is actually not correct in the United States: September 1,2014 is a US federal holiday and banks and exchanges are closed on this day. The reason for this is that pandas uses a specific default calendar when calculating the next business day, and this default pandas calendar does not include September 1,2014 as a holiday."
   ]
  },
  {
   "cell_type": "code",
   "execution_count": null,
   "metadata": {
    "cell_id": "00077-e2ae4f54-df57-4b49-88f1-2a3d75c42bfb",
    "deepnote_cell_height": 396.953125,
    "deepnote_cell_type": "code"
   },
   "outputs": [
    {
     "name": "stdout",
     "output_type": "stream",
     "text": [
      "2014-01-01 00:00:00\n",
      "2014-01-20 00:00:00\n",
      "2014-02-17 00:00:00\n",
      "2014-05-26 00:00:00\n",
      "2014-07-04 00:00:00\n",
      "2014-09-01 00:00:00\n",
      "2014-10-13 00:00:00\n",
      "2014-11-11 00:00:00\n",
      "2014-11-27 00:00:00\n",
      "2014-12-25 00:00:00\n"
     ]
    }
   ],
   "source": [
    "# demonstrate using the US federal holiday calender\n",
    "# first need to import it\n",
    "from pandas.tseries.holiday import *\n",
    "# create it and show what it considers holidays\n",
    "cal = USFederalHolidayCalendar()\n",
    "for d in cal.holidays(start='2014-01-01', end='2014-12-31'):\n",
    "    print(d)"
   ]
  },
  {
   "cell_type": "code",
   "execution_count": null,
   "metadata": {
    "cell_id": "00078-f8f968c6-7d3b-4ec7-810f-4f6ca2273aeb",
    "deepnote_cell_height": 172.1875,
    "deepnote_cell_type": "code",
    "deepnote_output_heights": [
     21.1875
    ]
   },
   "outputs": [
    {
     "data": {
      "text/plain": [
       "Timestamp('2014-09-02 00:00:00')"
      ]
     },
     "execution_count": 70,
     "metadata": {},
     "output_type": "execute_result"
    }
   ],
   "source": [
    "# create CustomBusinessDay object based on the federal calendar\n",
    "cbd = CustomBusinessDay(holidays=cal.holidays())\n",
    "# now calc next business day from 2014-8-29\n",
    "datetime(2014,8,29) + cbd"
   ]
  },
  {
   "cell_type": "markdown",
   "metadata": {
    "cell_id": "00079-b45377f3-c9a6-4ed4-85f2-cc57c0343f17",
    "deepnote_cell_height": 153.1875,
    "deepnote_cell_type": "markdown"
   },
   "source": [
    "## Normalizing timestamps using time zones\n",
    "Time zone management can be one of the most complicated issues to deal with when working with time-series data. Data is ofter collected in different systems across the globe using local time and at some point, it will require coordination with data collected in other time zones."
   ]
  },
  {
   "cell_type": "code",
   "execution_count": null,
   "metadata": {
    "cell_id": "00080-9b6630e8-2f2b-442e-a1d1-945658d4b9b4",
    "deepnote_cell_height": 172.1875,
    "deepnote_cell_type": "code",
    "deepnote_output_heights": [
     21.1875
    ]
   },
   "outputs": [
    {
     "data": {
      "text/plain": [
       "(Timestamp('2017-11-12 21:14:03.419274'), True)"
      ]
     },
     "execution_count": 71,
     "metadata": {},
     "output_type": "execute_result"
    }
   ],
   "source": [
    "# get the current local time and demonstrate there is no\n",
    "# timezone info by default\n",
    "now = pd.Timestamp('now')\n",
    "now, now.tz is None"
   ]
  },
  {
   "cell_type": "code",
   "execution_count": null,
   "metadata": {
    "cell_id": "00081-df72c91b-69d6-44d1-9332-ce759d4706cb",
    "deepnote_cell_height": 172.1875,
    "deepnote_cell_type": "code",
    "deepnote_output_heights": [
     21.1875
    ]
   },
   "outputs": [
    {
     "data": {
      "text/plain": [
       "(True, True)"
      ]
     },
     "execution_count": 72,
     "metadata": {},
     "output_type": "execute_result"
    }
   ],
   "source": [
    "# default DatetimeIndex and its Timestamps do not have\n",
    "# time zone information\n",
    "rng = pd.date_range('3/6/2012 00:00', periods=15, freq='D')\n",
    "rng.tz is None, rng[0].tz is None"
   ]
  },
  {
   "cell_type": "code",
   "execution_count": null,
   "metadata": {
    "cell_id": "00082-12ff970e-32fa-4049-9767-5d0dee6d7df5",
    "deepnote_cell_height": 248.96875,
    "deepnote_cell_type": "code",
    "deepnote_output_heights": [
     97.96875
    ]
   },
   "outputs": [
    {
     "data": {
      "text/plain": [
       "['Africa/Abidjan',\n",
       " 'Africa/Accra',\n",
       " 'Africa/Addis_Ababa',\n",
       " 'Africa/Algiers',\n",
       " 'Africa/Asmara']"
      ]
     },
     "execution_count": 73,
     "metadata": {},
     "output_type": "execute_result"
    }
   ],
   "source": [
    "# import common timezones from pytz\n",
    "from pytz import common_timezones\n",
    "# report the first 5\n",
    "common_timezones[:5]"
   ]
  },
  {
   "cell_type": "code",
   "execution_count": null,
   "metadata": {
    "cell_id": "00083-dfc554c4-6e75-49d9-b0e6-378681730332",
    "deepnote_cell_height": 191.390625,
    "deepnote_cell_type": "code",
    "deepnote_output_heights": [
     40.390625
    ]
   },
   "outputs": [
    {
     "data": {
      "text/plain": [
       "(Timestamp('2017-11-12 21:16:55.341468'),\n",
       " Timestamp('2017-11-12 21:16:55.341468+0000', tz='UTC'))"
      ]
     },
     "execution_count": 74,
     "metadata": {},
     "output_type": "execute_result"
    }
   ],
   "source": [
    "# get now, and now localized to UTC\n",
    "now = Timestamp(\"now\")\n",
    "local_now = now.tz_localize('UTC')\n",
    "now, local_now"
   ]
  },
  {
   "cell_type": "code",
   "execution_count": null,
   "metadata": {
    "cell_id": "00084-e6b2cb40-d40f-48cc-8079-5837d6ebb477",
    "deepnote_cell_height": 154.1875,
    "deepnote_cell_type": "code",
    "deepnote_output_heights": [
     21.1875
    ]
   },
   "outputs": [
    {
     "data": {
      "text/plain": [
       "Timestamp('2014-08-01 12:00:00-0600', tz='US/Mountain')"
      ]
     },
     "execution_count": 76,
     "metadata": {},
     "output_type": "execute_result"
    }
   ],
   "source": [
    "# localize a timestamp to US/Mountain time zone\n",
    "tstamp = Timestamp('2014-08-01 12:00:00', tz='US/Mountain')\n",
    "tstamp"
   ]
  },
  {
   "cell_type": "code",
   "execution_count": null,
   "metadata": {
    "cell_id": "00085-8e4fb494-3957-486d-9bcf-7e1bf65c37b4",
    "deepnote_cell_height": 173.390625,
    "deepnote_cell_type": "code",
    "deepnote_output_heights": [
     40.390625
    ]
   },
   "outputs": [
    {
     "data": {
      "text/plain": [
       "(<DstTzInfo 'US/Mountain' LMT-1 day, 17:00:00 STD>,\n",
       " <DstTzInfo 'US/Mountain' MST-1 day, 17:00:00 STD>)"
      ]
     },
     "execution_count": 78,
     "metadata": {},
     "output_type": "execute_result"
    }
   ],
   "source": [
    "# create a DatetimeIndex using a time zone\n",
    "rng = pd.date_range('3/6/2012 00:00:00', periods=10,freq=\"D\",tz=\"US/Mountain\")\n",
    "rng.tz, rng[0].tz"
   ]
  },
  {
   "cell_type": "code",
   "execution_count": null,
   "metadata": {
    "cell_id": "00086-b873c8c0-2c3f-41e8-a177-d4388a899352",
    "deepnote_cell_height": 263.390625,
    "deepnote_cell_type": "code",
    "deepnote_output_heights": [
     40.390625
    ]
   },
   "outputs": [
    {
     "data": {
      "text/plain": [
       "(Timestamp('2017-11-12 21:16:55.341468-0700', tz='US/Mountain'),\n",
       " Timestamp('2017-11-12 21:16:55.341468-0500', tz='US/Eastern'))"
      ]
     },
     "execution_count": 79,
     "metadata": {},
     "output_type": "execute_result"
    }
   ],
   "source": [
    "# show use of time zone objects\n",
    "# need to reference pytz\n",
    "import pytz\n",
    "# create an object for two different time zones\n",
    "mountain_tz = pytz.timezone(\"US/Mountain\")\n",
    "eastern_tz = pytz.timezone(\"US/Eastern\")\n",
    "# apply each to 'now'\n",
    "mountain_tz.localize(now),eastern_tz.localize(now)"
   ]
  },
  {
   "cell_type": "code",
   "execution_count": null,
   "metadata": {
    "cell_id": "00087-936b2028-2d5e-42ca-bc3c-ac23ad1d4fcf",
    "deepnote_cell_height": 286.171875,
    "deepnote_cell_type": "code",
    "deepnote_output_heights": [
     117.171875
    ]
   },
   "outputs": [
    {
     "data": {
      "text/plain": [
       "2014-08-01 00:00:00-06:00    0\n",
       "2014-08-01 01:00:00-06:00    1\n",
       "2014-08-01 02:00:00-06:00    2\n",
       "2014-08-01 03:00:00-06:00    3\n",
       "2014-08-01 04:00:00-06:00    4\n",
       "Freq: H, dtype: int64"
      ]
     },
     "execution_count": 80,
     "metadata": {},
     "output_type": "execute_result"
    }
   ],
   "source": [
    "# create two Series, same start, same periods, same frequencies\n",
    "# each with a different time zone\n",
    "s_mountain = Series(np.arange(0,5),index=pd.date_range('2014-08-01', periods=5, freq=\"H\",tz=\"US/Mountain\"))\n",
    "s_eastern = Series(np.arange(0,5),index=pd.date_range('2014-08-01', periods=5, freq=\"H\",tz=\"US/Eastern\"))\n",
    "s_mountain"
   ]
  },
  {
   "cell_type": "code",
   "execution_count": null,
   "metadata": {
    "cell_id": "00088-ee499548-fae6-40d1-9ede-ab2343b27e32",
    "deepnote_cell_height": 214.171875,
    "deepnote_cell_type": "code",
    "deepnote_output_heights": [
     117.171875
    ]
   },
   "outputs": [
    {
     "data": {
      "text/plain": [
       "2014-08-01 00:00:00-04:00    0\n",
       "2014-08-01 01:00:00-04:00    1\n",
       "2014-08-01 02:00:00-04:00    2\n",
       "2014-08-01 03:00:00-04:00    3\n",
       "2014-08-01 04:00:00-04:00    4\n",
       "Freq: H, dtype: int64"
      ]
     },
     "execution_count": 81,
     "metadata": {},
     "output_type": "execute_result"
    }
   ],
   "source": [
    "s_eastern"
   ]
  },
  {
   "cell_type": "code",
   "execution_count": null,
   "metadata": {
    "cell_id": "00089-c89c6c20-7d95-4d87-9044-93c3abe923eb",
    "deepnote_cell_height": 288.5625,
    "deepnote_cell_type": "code",
    "deepnote_output_heights": [
     155.5625
    ]
   },
   "outputs": [
    {
     "data": {
      "text/plain": [
       "2014-08-01 04:00:00+00:00    NaN\n",
       "2014-08-01 05:00:00+00:00    NaN\n",
       "2014-08-01 06:00:00+00:00    2.0\n",
       "2014-08-01 07:00:00+00:00    4.0\n",
       "2014-08-01 08:00:00+00:00    6.0\n",
       "2014-08-01 09:00:00+00:00    NaN\n",
       "2014-08-01 10:00:00+00:00    NaN\n",
       "Freq: H, dtype: float64"
      ]
     },
     "execution_count": 82,
     "metadata": {},
     "output_type": "execute_result"
    }
   ],
   "source": [
    "# add the two series\n",
    "# This only results in three items being aligned\n",
    "s_eastern + s_mountain"
   ]
  },
  {
   "cell_type": "markdown",
   "metadata": {
    "cell_id": "00090-c1cc9c59-77ce-4164-818a-e6a9abb9b058",
    "deepnote_cell_height": 52.390625,
    "deepnote_cell_type": "markdown"
   },
   "source": [
    "Once a time zone is assigned to an object, that object can be converted to another time zone using the tz.convert() method."
   ]
  },
  {
   "cell_type": "code",
   "execution_count": null,
   "metadata": {
    "cell_id": "00091-56346ce1-7537-4984-bbc2-016ac3cf9763",
    "deepnote_cell_height": 250.171875,
    "deepnote_cell_type": "code",
    "deepnote_output_heights": [
     117.171875
    ]
   },
   "outputs": [
    {
     "data": {
      "text/plain": [
       "2014-07-31 21:00:00-07:00    0\n",
       "2014-07-31 22:00:00-07:00    1\n",
       "2014-07-31 23:00:00-07:00    2\n",
       "2014-08-01 00:00:00-07:00    3\n",
       "2014-08-01 01:00:00-07:00    4\n",
       "Freq: H, dtype: int64"
      ]
     },
     "execution_count": 84,
     "metadata": {},
     "output_type": "execute_result"
    }
   ],
   "source": [
    "# convert s1 from US/Eastern to US/Pacific\n",
    "s_pacific = s_eastern.tz_convert(\"US/Pacific\")\n",
    "s_pacific"
   ]
  },
  {
   "cell_type": "code",
   "execution_count": null,
   "metadata": {
    "cell_id": "00092-fd36518d-a07a-4a8c-8b1f-d8b2afc91844",
    "deepnote_cell_height": 288.5625,
    "deepnote_cell_type": "code",
    "deepnote_output_heights": [
     155.5625
    ]
   },
   "outputs": [
    {
     "data": {
      "text/plain": [
       "2014-08-01 04:00:00+00:00    NaN\n",
       "2014-08-01 05:00:00+00:00    NaN\n",
       "2014-08-01 06:00:00+00:00    2.0\n",
       "2014-08-01 07:00:00+00:00    4.0\n",
       "2014-08-01 08:00:00+00:00    6.0\n",
       "2014-08-01 09:00:00+00:00    NaN\n",
       "2014-08-01 10:00:00+00:00    NaN\n",
       "Freq: H, dtype: float64"
      ]
     },
     "execution_count": 85,
     "metadata": {},
     "output_type": "execute_result"
    }
   ],
   "source": [
    "# this will be the same result as s_eastern + s_mountain\n",
    "# as the time zones still get aligned to be the same\n",
    "s_mountain + s_pacific"
   ]
  },
  {
   "cell_type": "markdown",
   "metadata": {
    "cell_id": "00093-83f722de-c1b0-488d-bff9-400f07d46722",
    "deepnote_cell_height": 279.78125,
    "deepnote_cell_type": "markdown"
   },
   "source": [
    "## Manipulating the Timeseries Data\n",
    "\n",
    "Common operations that are performed on time-series data are realigning data, changing the frequency of the samples and their values and calculating aggregate results on continuously moving subsets of the data to determine the behavior of the values in the data as time changes.\n",
    "\n",
    "* Shifting and lagging values to calculate percentage changes\n",
    "* Changing the frequency of the data in the time series\n",
    "* Up and down sampling of the intervals and values in the time series\n",
    "* Performing rolling-window calculations"
   ]
  },
  {
   "cell_type": "markdown",
   "metadata": {
    "cell_id": "00094-ccef5658-a9d2-4d50-a79f-d8685169b21b",
    "deepnote_cell_height": 122.796875,
    "deepnote_cell_type": "markdown"
   },
   "source": [
    "### Shifting and Lagging\n",
    "\n",
    "A common operation on time-series data is to shift the values backward and forward in time. The pandas method for this is .shift(), which will shift values in Series or DataFrame a specified number of units of the index's frequency."
   ]
  },
  {
   "cell_type": "code",
   "execution_count": null,
   "metadata": {
    "cell_id": "00095-6a2fb4bb-9de4-4741-b520-fa902350e577",
    "deepnote_cell_height": 268.171875,
    "deepnote_cell_type": "code",
    "deepnote_output_heights": [
     117.171875
    ]
   },
   "outputs": [
    {
     "data": {
      "text/plain": [
       "2014-08-01    1.0\n",
       "2014-08-02    2.0\n",
       "2014-08-03    2.5\n",
       "2014-08-04    1.5\n",
       "2014-08-05    0.5\n",
       "Freq: D, dtype: float64"
      ]
     },
     "execution_count": 86,
     "metadata": {},
     "output_type": "execute_result"
    }
   ],
   "source": [
    "# create a series to work with\n",
    "np.random.seed(123456)\n",
    "ts = Series([1,2,2.5,1.5,0.5],pd.date_range('2014-08-01',periods=5))\n",
    "ts"
   ]
  },
  {
   "cell_type": "code",
   "execution_count": null,
   "metadata": {
    "cell_id": "00096-fe8668c6-64e7-4bf9-910c-820ee50fe844",
    "deepnote_cell_height": 232.171875,
    "deepnote_cell_type": "code",
    "deepnote_output_heights": [
     117.171875
    ]
   },
   "outputs": [
    {
     "data": {
      "text/plain": [
       "2014-08-01    NaN\n",
       "2014-08-02    1.0\n",
       "2014-08-03    2.0\n",
       "2014-08-04    2.5\n",
       "2014-08-05    1.5\n",
       "Freq: D, dtype: float64"
      ]
     },
     "execution_count": 87,
     "metadata": {},
     "output_type": "execute_result"
    }
   ],
   "source": [
    "# shift forward one day\n",
    "ts.shift(1)"
   ]
  },
  {
   "cell_type": "markdown",
   "metadata": {
    "cell_id": "00097-bedde2fe-d54b-40a7-81b8-9531de4447ca",
    "deepnote_cell_height": 111.1875,
    "deepnote_cell_type": "markdown"
   },
   "source": [
    "pandas has moved the values forward one unit of the index's frequency, which is one day. The index remains unchanged. There was no replacement data for 2014-08-01 so it is fulled with NaN.\n",
    "\n",
    "A lag is a shift in a negative direction. The following lags the Series by 2 days:"
   ]
  },
  {
   "cell_type": "code",
   "execution_count": null,
   "metadata": {
    "cell_id": "00098-82518a2f-1c93-4188-bc4b-bc52d8a5c3e1",
    "deepnote_cell_height": 232.171875,
    "deepnote_cell_type": "code",
    "deepnote_output_heights": [
     117.171875
    ]
   },
   "outputs": [
    {
     "data": {
      "text/plain": [
       "2014-08-01    2.5\n",
       "2014-08-02    1.5\n",
       "2014-08-03    0.5\n",
       "2014-08-04    NaN\n",
       "2014-08-05    NaN\n",
       "Freq: D, dtype: float64"
      ]
     },
     "execution_count": 88,
     "metadata": {},
     "output_type": "execute_result"
    }
   ],
   "source": [
    "# lag two days\n",
    "ts.shift(-2)"
   ]
  },
  {
   "cell_type": "markdown",
   "metadata": {
    "cell_id": "00099-d9d74678-5bf5-4422-a6d9-d7d81e785a60",
    "deepnote_cell_height": 74.796875,
    "deepnote_cell_type": "markdown"
   },
   "source": [
    "A common calculation that is performed using a shift is to calculate the percentage daily change in values. This can be performed by dividing a Series object by its values shifted by 1:"
   ]
  },
  {
   "cell_type": "code",
   "execution_count": null,
   "metadata": {
    "cell_id": "00100-74e3fff8-4723-4756-a163-aae8b3d734d8",
    "deepnote_cell_height": 232.171875,
    "deepnote_cell_type": "code",
    "deepnote_output_heights": [
     117.171875
    ]
   },
   "outputs": [
    {
     "data": {
      "text/plain": [
       "2014-08-01         NaN\n",
       "2014-08-02    2.000000\n",
       "2014-08-03    1.250000\n",
       "2014-08-04    0.600000\n",
       "2014-08-05    0.333333\n",
       "Freq: D, dtype: float64"
      ]
     },
     "execution_count": 89,
     "metadata": {},
     "output_type": "execute_result"
    }
   ],
   "source": [
    "# calculate daily percentage change\n",
    "ts / ts.shift(1)"
   ]
  },
  {
   "cell_type": "markdown",
   "metadata": {
    "cell_id": "00101-de77c6d3-0c8a-4604-987d-5b52d80b917a",
    "deepnote_cell_height": 74.796875,
    "deepnote_cell_type": "markdown"
   },
   "source": [
    "Shifts can be performed on different frequencies that that in the index. When this is performed, the index will be modified and the values remain the same. As an example, the following shifts the Series forward by one business day:"
   ]
  },
  {
   "cell_type": "code",
   "execution_count": null,
   "metadata": {
    "cell_id": "00102-8ee415db-d146-44e0-a802-8844351ccb34",
    "deepnote_cell_height": 232.171875,
    "deepnote_cell_type": "code",
    "deepnote_output_heights": [
     117.171875
    ]
   },
   "outputs": [
    {
     "data": {
      "text/plain": [
       "2014-08-04    1.0\n",
       "2014-08-04    2.0\n",
       "2014-08-04    2.5\n",
       "2014-08-05    1.5\n",
       "2014-08-06    0.5\n",
       "dtype: float64"
      ]
     },
     "execution_count": 90,
     "metadata": {},
     "output_type": "execute_result"
    }
   ],
   "source": [
    "# shift forward one business day\n",
    "ts.shift(1,freq=\"B\")"
   ]
  },
  {
   "cell_type": "code",
   "execution_count": null,
   "metadata": {
    "cell_id": "00103-ed491fd4-3fef-407f-951e-af64584f2241",
    "deepnote_cell_height": 232.171875,
    "deepnote_cell_type": "code",
    "deepnote_output_heights": [
     117.171875
    ]
   },
   "outputs": [
    {
     "data": {
      "text/plain": [
       "2014-08-01 05:00:00    1.0\n",
       "2014-08-02 05:00:00    2.0\n",
       "2014-08-03 05:00:00    2.5\n",
       "2014-08-04 05:00:00    1.5\n",
       "2014-08-05 05:00:00    0.5\n",
       "Freq: D, dtype: float64"
      ]
     },
     "execution_count": 91,
     "metadata": {},
     "output_type": "execute_result"
    }
   ],
   "source": [
    "# shift forward by 5 hours\n",
    "ts.tshift(5,freq=\"H\")"
   ]
  },
  {
   "cell_type": "code",
   "execution_count": null,
   "metadata": {
    "cell_id": "00104-598ace83-2036-4fc4-bbed-367594ba3705",
    "deepnote_cell_height": 232.171875,
    "deepnote_cell_type": "code",
    "deepnote_output_heights": [
     117.171875
    ]
   },
   "outputs": [
    {
     "data": {
      "text/plain": [
       "2014-08-01 00:00:30    1.0\n",
       "2014-08-02 00:00:30    2.0\n",
       "2014-08-03 00:00:30    2.5\n",
       "2014-08-04 00:00:30    1.5\n",
       "2014-08-05 00:00:30    0.5\n",
       "Freq: D, dtype: float64"
      ]
     },
     "execution_count": 92,
     "metadata": {},
     "output_type": "execute_result"
    }
   ],
   "source": [
    "# shift using a DateOffset\n",
    "ts.shift(1,DateOffset(minutes=0.5))"
   ]
  },
  {
   "cell_type": "markdown",
   "metadata": {
    "cell_id": "00105-dbf938f2-ef2a-43fc-9968-60d415c72b5a",
    "deepnote_cell_height": 74.796875,
    "deepnote_cell_type": "markdown"
   },
   "source": [
    "There is an alternative form of shifting provided by the .tshift() method. This method shifts the index labels by the specified units and a frequency specified by the freq paramater (which is required)."
   ]
  },
  {
   "cell_type": "code",
   "execution_count": null,
   "metadata": {
    "cell_id": "00106-d15b474c-95e9-45bf-923d-34bddc4c980a",
    "deepnote_cell_height": 232.171875,
    "deepnote_cell_type": "code",
    "deepnote_output_heights": [
     117.171875
    ]
   },
   "outputs": [
    {
     "data": {
      "text/plain": [
       "2014-07-31 23:00:00    1.0\n",
       "2014-08-01 23:00:00    2.0\n",
       "2014-08-02 23:00:00    2.5\n",
       "2014-08-03 23:00:00    1.5\n",
       "2014-08-04 23:00:00    0.5\n",
       "Freq: D, dtype: float64"
      ]
     },
     "execution_count": 93,
     "metadata": {},
     "output_type": "execute_result"
    }
   ],
   "source": [
    "# shift just the index values\n",
    "ts.tshift(-1,freq=\"H\")"
   ]
  },
  {
   "cell_type": "markdown",
   "metadata": {
    "cell_id": "00107-81c56d18-cf2b-4c45-9e8f-ce00cb71f69e",
    "deepnote_cell_height": 175.59375,
    "deepnote_cell_type": "markdown"
   },
   "source": [
    "## Frequency Conversion\n",
    "\n",
    "Frequency data can be converted in pandas using the .asfreq() method of a time-series object, such as Series or DataFrame. When converting frequency, a new Series object with a new DatetimeIndex object will be created. The Datetime Index of the new Series object starts at the first Timestamp of the original and progresses at the given frequency until the last Timestamp of the original. Values will then be aligned into the new Series."
   ]
  },
  {
   "cell_type": "code",
   "execution_count": null,
   "metadata": {
    "cell_id": "00108-d7c445e1-2267-4f97-b983-7fb689a9163b",
    "deepnote_cell_height": 401.34375,
    "deepnote_cell_type": "code",
    "deepnote_output_heights": [
     232.34375
    ]
   },
   "outputs": [
    {
     "data": {
      "text/plain": [
       "2014-08-01 00:00:00      0\n",
       "2014-08-01 02:00:00      1\n",
       "2014-08-01 04:00:00      2\n",
       "2014-08-01 06:00:00      3\n",
       "2014-08-01 08:00:00      4\n",
       "                      ... \n",
       "2014-10-01 14:00:00    739\n",
       "2014-10-01 16:00:00    740\n",
       "2014-10-01 18:00:00    741\n",
       "2014-10-01 20:00:00    742\n",
       "2014-10-01 22:00:00    743\n",
       "Freq: 2H, Length: 744, dtype: int64"
      ]
     },
     "execution_count": 95,
     "metadata": {},
     "output_type": "execute_result"
    }
   ],
   "source": [
    "# create a Series of incremental values\n",
    "# index by hour through all of August 2014\n",
    "periods = 31 * 24\n",
    "hourly = Series(np.arange(0,periods),pd.date_range('08-01-2014',freq=\"2H\",periods=periods))\n",
    "hourly"
   ]
  },
  {
   "cell_type": "code",
   "execution_count": null,
   "metadata": {
    "cell_id": "00109-9efcfe2e-2cbe-44d0-814f-08f7d994e5dd",
    "deepnote_cell_height": 383.34375,
    "deepnote_cell_type": "code",
    "deepnote_output_heights": [
     232.34375
    ]
   },
   "outputs": [
    {
     "data": {
      "text/plain": [
       "2014-08-01      0\n",
       "2014-08-02     12\n",
       "2014-08-03     24\n",
       "2014-08-04     36\n",
       "2014-08-05     48\n",
       "             ... \n",
       "2014-09-27    684\n",
       "2014-09-28    696\n",
       "2014-09-29    708\n",
       "2014-09-30    720\n",
       "2014-10-01    732\n",
       "Freq: D, Length: 62, dtype: int64"
      ]
     },
     "execution_count": 97,
     "metadata": {},
     "output_type": "execute_result"
    }
   ],
   "source": [
    "# convert to daily frequency\n",
    "# many items will be dropped due to alignment\n",
    "daily = hourly.asfreq('D')\n",
    "daily"
   ]
  },
  {
   "cell_type": "code",
   "execution_count": null,
   "metadata": {
    "cell_id": "00110-768de28e-b2cd-45d4-80a4-942c02e9ea1f",
    "deepnote_cell_height": 401.34375,
    "deepnote_cell_type": "code",
    "deepnote_output_heights": [
     232.34375
    ]
   },
   "outputs": [
    {
     "data": {
      "text/plain": [
       "2014-08-01 00:00:00      0.0\n",
       "2014-08-01 01:00:00      NaN\n",
       "2014-08-01 02:00:00      NaN\n",
       "2014-08-01 03:00:00      NaN\n",
       "2014-08-01 04:00:00      NaN\n",
       "                       ...  \n",
       "2014-09-30 20:00:00      NaN\n",
       "2014-09-30 21:00:00      NaN\n",
       "2014-09-30 22:00:00      NaN\n",
       "2014-09-30 23:00:00      NaN\n",
       "2014-10-01 00:00:00    732.0\n",
       "Freq: H, Length: 1465, dtype: float64"
      ]
     },
     "execution_count": 98,
     "metadata": {},
     "output_type": "execute_result"
    }
   ],
   "source": [
    "# convert back to hourly\n",
    "# results in many NaNs\n",
    "# as the new index has many labels that do not\n",
    "# align with the source\n",
    "daily.asfreq(\"H\")"
   ]
  },
  {
   "cell_type": "markdown",
   "metadata": {
    "cell_id": "00111-09e10de4-dcc0-4ab3-bbe6-c31e14c2c4cf",
    "deepnote_cell_height": 97.1875,
    "deepnote_cell_type": "markdown"
   },
   "source": [
    "The new index has Timestamp objects at hourly intervals, so only the timestamps at exact days align with the daily time series, resulting in 670 NaN values. This default behavior can be changed using the method parameter of the .asfreq() method. This value can be used for forward fill, reverse fill or to pad the NaN values."
   ]
  },
  {
   "cell_type": "code",
   "execution_count": null,
   "metadata": {
    "cell_id": "00112-99e84d2c-fc76-4ab6-8347-9f0ae72f1f42",
    "deepnote_cell_height": 329.34375,
    "deepnote_cell_type": "code",
    "deepnote_output_heights": [
     232.34375
    ]
   },
   "outputs": [
    {
     "data": {
      "text/plain": [
       "2014-08-01 00:00:00      0\n",
       "2014-08-01 01:00:00      0\n",
       "2014-08-01 02:00:00      0\n",
       "2014-08-01 03:00:00      0\n",
       "2014-08-01 04:00:00      0\n",
       "                      ... \n",
       "2014-09-30 20:00:00    720\n",
       "2014-09-30 21:00:00    720\n",
       "2014-09-30 22:00:00    720\n",
       "2014-09-30 23:00:00    720\n",
       "2014-10-01 00:00:00    732\n",
       "Freq: H, Length: 1465, dtype: int64"
      ]
     },
     "execution_count": 99,
     "metadata": {},
     "output_type": "execute_result"
    }
   ],
   "source": [
    "daily.asfreq('H',method='ffill')"
   ]
  },
  {
   "cell_type": "code",
   "execution_count": null,
   "metadata": {
    "cell_id": "00113-745dd87a-82ac-46a4-93e9-9ead0c81f1b1",
    "deepnote_cell_height": 329.34375,
    "deepnote_cell_type": "code",
    "deepnote_output_heights": [
     232.34375
    ]
   },
   "outputs": [
    {
     "data": {
      "text/plain": [
       "2014-08-01 00:00:00      0\n",
       "2014-08-01 01:00:00     12\n",
       "2014-08-01 02:00:00     12\n",
       "2014-08-01 03:00:00     12\n",
       "2014-08-01 04:00:00     12\n",
       "                      ... \n",
       "2014-09-30 20:00:00    732\n",
       "2014-09-30 21:00:00    732\n",
       "2014-09-30 22:00:00    732\n",
       "2014-09-30 23:00:00    732\n",
       "2014-10-01 00:00:00    732\n",
       "Freq: H, Length: 1465, dtype: int64"
      ]
     },
     "execution_count": 100,
     "metadata": {},
     "output_type": "execute_result"
    }
   ],
   "source": [
    "daily.asfreq('H',method='bfill')"
   ]
  },
  {
   "cell_type": "markdown",
   "metadata": {
    "cell_id": "00114-40ddbb9f-5cf9-4480-81c4-158315b3c6fb",
    "deepnote_cell_height": 211.984375,
    "deepnote_cell_type": "markdown"
   },
   "source": [
    "## Up and Down resampling\n",
    "Frequency conversion provides a basic way to convert the index in a time series to another frequency. Data in the new series is aligned with the old data and can result in many NaN values. This can be partially solved using a fill method, but that is limited in capabilities to fill with appropriate information.\n",
    "\n",
    "Resampling differs in that it does not perform a pure alignment. The values placed in the new series can use the same forward and reverse fill options, but they can also be specified using the other pandas-provided algorithms or with your own functions."
   ]
  },
  {
   "cell_type": "code",
   "execution_count": null,
   "metadata": {
    "cell_id": "00115-fd33e9f9-042b-4d4b-b93c-56a80c8dcfec",
    "deepnote_cell_height": 527.34375,
    "deepnote_cell_type": "code",
    "deepnote_output_heights": [
     232.34375
    ]
   },
   "outputs": [
    {
     "data": {
      "text/plain": [
       "2014-08-01 00:00:00      0.469112\n",
       "2014-08-01 00:00:01      0.186249\n",
       "2014-08-01 00:00:02     -1.322810\n",
       "2014-08-01 00:00:03     -2.458442\n",
       "2014-08-01 00:00:04     -1.246330\n",
       "                          ...    \n",
       "2014-08-05 23:59:55    456.529763\n",
       "2014-08-05 23:59:56    456.052131\n",
       "2014-08-05 23:59:57    455.202981\n",
       "2014-08-05 23:59:58    454.947362\n",
       "2014-08-05 23:59:59    456.191430\n",
       "Freq: S, Length: 432000, dtype: float64"
      ]
     },
     "execution_count": 101,
     "metadata": {},
     "output_type": "execute_result"
    }
   ],
   "source": [
    "# calculate a random walk five days long at one second intervals\n",
    "# these many items will be needed\n",
    "count = 24 * 60 * 60 * 5\n",
    "# create a series of values\n",
    "np.random.seed(123456)\n",
    "values = np.random.randn(count)\n",
    "ws = pd.Series(values)\n",
    "# calculate the walk\n",
    "walk = ws.cumsum()\n",
    "# patch the index\n",
    "walk.index = pd.date_range('2014-08-01',periods=count,freq=\"S\")\n",
    "walk"
   ]
  },
  {
   "cell_type": "markdown",
   "metadata": {
    "cell_id": "00116-0ee44e79-80f9-4aa4-bba5-17219af9ca85",
    "deepnote_cell_height": 97.1875,
    "deepnote_cell_type": "markdown"
   },
   "source": [
    "Resampling in pandas is accomplished using the .resample() method by passing it a new frequency.To demonstrate this the following resamples our by-the-second data to by-the-minute. This is a down sampling as the result has a lower frequency and results in less values:"
   ]
  },
  {
   "cell_type": "code",
   "execution_count": null,
   "metadata": {
    "cell_id": "00117-663a8098-0021-4178-bcfb-ab0b223d3742",
    "deepnote_cell_height": 84,
    "deepnote_cell_type": "code"
   },
   "outputs": [],
   "source": [
    "# resample to minute intervals\n",
    "walkmin = walk.resample(\"1Min\")"
   ]
  },
  {
   "cell_type": "markdown",
   "metadata": {
    "cell_id": "00118-fac6c6e3-d4f0-41ea-8ed5-7b617bf6d399",
    "deepnote_cell_height": 97.1875,
    "deepnote_cell_type": "markdown"
   },
   "source": [
    "A resampling will actually split the data into buckets of data based on new periods and then apply a particular operation to the data in each bucket. The default scenario is to calculate the mean of each bucket. This can be verified with the following, which slices the first minute of data from the walk and calculates its mean:"
   ]
  },
  {
   "cell_type": "code",
   "execution_count": null,
   "metadata": {
    "cell_id": "00119-c4780ea1-9758-43e0-9dbf-08a0d8cf9aa8",
    "deepnote_cell_height": 136.1875,
    "deepnote_cell_type": "code",
    "deepnote_output_heights": [
     21.1875
    ]
   },
   "outputs": [
    {
     "data": {
      "text/plain": [
       "-8.718220052832644"
      ]
     },
     "execution_count": 107,
     "metadata": {},
     "output_type": "execute_result"
    }
   ],
   "source": [
    "# calculate the mean of the first minute of the walk\n",
    "walk['2014-08-01 00:00'].mean()"
   ]
  },
  {
   "cell_type": "markdown",
   "metadata": {
    "cell_id": "00120-0dbcd68f-d6cf-4e8b-b719-184bf97a1a84",
    "deepnote_cell_height": 155.984375,
    "deepnote_cell_type": "markdown"
   },
   "source": [
    "In downsampling as the existing data is put into buckets based on the new intervals, there can often be a question of what values are on each end of the bucket. As an example, should the first interval in the previous resampling be from 2014-08-01 00:00:00 through 2014-08-01 23:59:59 or should it end at 2014-08-04 00:00:00 but start at 2014-08-03 23:59:59?\n",
    "\n",
    "The default is the former and it is referred to as a left close. To other scenario that excludes the left value and includes the right is a right close and can be performed by using the close=\"right\" parameter. "
   ]
  },
  {
   "cell_type": "code",
   "execution_count": null,
   "metadata": {
    "cell_id": "00121-293926db-b87c-4944-a9f1-6bfa38c35398",
    "deepnote_cell_height": 136.1875,
    "deepnote_cell_type": "code",
    "deepnote_output_heights": [
     21.1875
    ]
   },
   "outputs": [
    {
     "data": {
      "text/plain": [
       "DatetimeIndexResampler [freq=<Minute>, axis=0, closed=right, label=left, convention=start, base=0]"
      ]
     },
     "execution_count": 108,
     "metadata": {},
     "output_type": "execute_result"
    }
   ],
   "source": [
    "# use a right close\n",
    "walk.resample(\"1Min\", closed=\"right\")"
   ]
  },
  {
   "cell_type": "code",
   "execution_count": null,
   "metadata": {
    "cell_id": "00122-6fe1e7c9-cff9-4328-943b-3a8833b5ead1",
    "deepnote_cell_height": 347.34375,
    "deepnote_cell_type": "code",
    "deepnote_output_heights": [
     232.34375
    ]
   },
   "outputs": [
    {
     "data": {
      "text/plain": [
       "2014-08-01 00:00:00      0.469112\n",
       "2014-08-01 00:01:00    -10.886314\n",
       "2014-08-01 00:02:00    -13.374656\n",
       "2014-08-01 00:03:00     -7.647693\n",
       "2014-08-01 00:04:00     -4.482292\n",
       "                          ...    \n",
       "2014-08-05 23:55:00    452.900335\n",
       "2014-08-05 23:56:00    450.062374\n",
       "2014-08-05 23:57:00    449.582419\n",
       "2014-08-05 23:58:00    447.243014\n",
       "2014-08-05 23:59:00    446.877810\n",
       "Freq: T, Length: 7200, dtype: float64"
      ]
     },
     "execution_count": 110,
     "metadata": {},
     "output_type": "execute_result"
    }
   ],
   "source": [
    "# take the first value of each bucket\n",
    "walk.resample(\"1Min\").first()"
   ]
  },
  {
   "cell_type": "code",
   "execution_count": null,
   "metadata": {
    "cell_id": "00123-1a9935b2-314f-4c10-9a84-037ee35c7578",
    "deepnote_cell_height": 489.8125,
    "deepnote_cell_type": "code",
    "deepnote_output_heights": [
     null,
     232.34375
    ]
   },
   "outputs": [
    {
     "name": "stderr",
     "output_type": "stream",
     "text": [
      "/Users/cnc/anaconda/lib/python3.6/site-packages/ipykernel_launcher.py:3: FutureWarning: \n",
      ".resample() is now a deferred operation\n",
      "You called resample(...) on this deferred object which materialized it into a series\n",
      "by implicitly taking the mean.  Use .resample(...).mean() instead\n",
      "  This is separate from the ipykernel package so we can avoid doing imports until\n"
     ]
    },
    {
     "data": {
      "text/plain": [
       "2014-08-01 00:00:00     -8.718220\n",
       "2014-08-01 00:00:01           NaN\n",
       "2014-08-01 00:00:02           NaN\n",
       "2014-08-01 00:00:03           NaN\n",
       "2014-08-01 00:00:04           NaN\n",
       "                          ...    \n",
       "2014-08-05 23:58:56           NaN\n",
       "2014-08-05 23:58:57           NaN\n",
       "2014-08-05 23:58:58           NaN\n",
       "2014-08-05 23:58:59           NaN\n",
       "2014-08-05 23:59:00    453.837417\n",
       "Freq: S, Length: 431941, dtype: float64"
      ]
     },
     "execution_count": 112,
     "metadata": {},
     "output_type": "execute_result"
    }
   ],
   "source": [
    "# resample to 1 min intervals, then back to 1 sec\n",
    "bymin = walk.resample(\"1Min\")\n",
    "bymin.resample('S').mean()"
   ]
  },
  {
   "cell_type": "code",
   "execution_count": null,
   "metadata": {
    "cell_id": "00124-c8733177-2492-469f-8f36-fb76367a4596",
    "deepnote_cell_height": 471.8125,
    "deepnote_cell_type": "code",
    "deepnote_output_heights": [
     null,
     232.34375
    ]
   },
   "outputs": [
    {
     "name": "stderr",
     "output_type": "stream",
     "text": [
      "/Users/cnc/anaconda/lib/python3.6/site-packages/ipykernel_launcher.py:2: FutureWarning: \n",
      ".resample() is now a deferred operation\n",
      "You called resample(...) on this deferred object which materialized it into a series\n",
      "by implicitly taking the mean.  Use .resample(...).mean() instead\n",
      "  \n"
     ]
    },
    {
     "data": {
      "text/plain": [
       "2014-08-01 00:00:00     -8.718220\n",
       "2014-08-01 00:00:01    -15.239213\n",
       "2014-08-01 00:00:02    -15.239213\n",
       "2014-08-01 00:00:03    -15.239213\n",
       "2014-08-01 00:00:04    -15.239213\n",
       "                          ...    \n",
       "2014-08-05 23:58:56    453.837417\n",
       "2014-08-05 23:58:57    453.837417\n",
       "2014-08-05 23:58:58    453.837417\n",
       "2014-08-05 23:58:59    453.837417\n",
       "2014-08-05 23:59:00    453.837417\n",
       "Freq: S, Length: 431941, dtype: float64"
      ]
     },
     "execution_count": 114,
     "metadata": {},
     "output_type": "execute_result"
    }
   ],
   "source": [
    "# resample to 1 sec intervals using forward fill\n",
    "bymin.resample(\"S\").bfill()"
   ]
  },
  {
   "cell_type": "code",
   "execution_count": null,
   "metadata": {
    "cell_id": "00125-308895b0-9169-41a2-a57b-a00710ab12fa",
    "deepnote_cell_height": 489.8125,
    "deepnote_cell_type": "code",
    "deepnote_output_heights": [
     null,
     232.34375
    ]
   },
   "outputs": [
    {
     "name": "stderr",
     "output_type": "stream",
     "text": [
      "/Users/cnc/anaconda/lib/python3.6/site-packages/ipykernel_launcher.py:2: FutureWarning: \n",
      ".resample() is now a deferred operation\n",
      "You called resample(...) on this deferred object which materialized it into a series\n",
      "by implicitly taking the mean.  Use .resample(...).mean() instead\n",
      "  \n"
     ]
    },
    {
     "data": {
      "text/plain": [
       "2014-08-01 00:00:00     -8.718220\n",
       "2014-08-01 00:00:01     -8.826903\n",
       "2014-08-01 00:00:02     -8.935586\n",
       "2014-08-01 00:00:03     -9.044270\n",
       "2014-08-01 00:00:04     -9.152953\n",
       "                          ...    \n",
       "2014-08-05 23:58:56    453.224110\n",
       "2014-08-05 23:58:57    453.377437\n",
       "2014-08-05 23:58:58    453.530764\n",
       "2014-08-05 23:58:59    453.684090\n",
       "2014-08-05 23:59:00    453.837417\n",
       "Freq: S, Length: 431941, dtype: float64"
      ]
     },
     "execution_count": 115,
     "metadata": {},
     "output_type": "execute_result"
    }
   ],
   "source": [
    "# demo interpolating the NaN values\n",
    "interpolated = bymin.resample(\"S\").interpolate()\n",
    "interpolated"
   ]
  },
  {
   "cell_type": "code",
   "execution_count": null,
   "metadata": {
    "cell_id": "00126-e065f5c6-06d0-4d2f-9841-7e275ba75cfe",
    "deepnote_cell_height": 403.734375,
    "deepnote_cell_type": "code",
    "deepnote_output_heights": [
     270.734375
    ]
   },
   "outputs": [
    {
     "data": {
      "text/plain": [
       "                           open        high         low       close\n",
       "2014-08-01 00:00:00    0.469112    0.469112  -67.873166   -2.922520\n",
       "2014-08-01 01:00:00   -3.374321   23.793007  -56.585154  -55.101543\n",
       "2014-08-01 02:00:00  -54.276885    5.232441  -87.809456    1.913276\n",
       "2014-08-01 03:00:00    0.260576   17.124638  -65.820652  -38.530620\n",
       "2014-08-01 04:00:00  -38.436581    3.537231 -109.805294  -61.014553\n",
       "...                         ...         ...         ...         ...\n",
       "2014-08-05 19:00:00  437.652077  550.408942  430.549178  494.471788\n",
       "2014-08-05 20:00:00  496.539759  510.371745  456.365565  476.505765\n",
       "2014-08-05 21:00:00  476.025498  506.952877  425.472410  498.547578\n",
       "2014-08-05 22:00:00  497.941355  506.599652  411.119919  443.925832\n",
       "2014-08-05 23:00:00  443.017962  489.083657  426.062444  456.191430\n",
       "\n",
       "[120 rows x 4 columns]"
      ]
     },
     "execution_count": 117,
     "metadata": {},
     "output_type": "execute_result"
    }
   ],
   "source": [
    "# show ohlc resampling\n",
    "ohlc = walk.resample(\"H\").ohlc()\n",
    "ohlc"
   ]
  },
  {
   "cell_type": "markdown",
   "metadata": {
    "cell_id": "00127-254cf026-4928-45bc-9095-f2ebeb6bfad4",
    "deepnote_cell_height": 211.984375,
    "deepnote_cell_type": "markdown"
   },
   "source": [
    "## Time-series moving-window operations\n",
    "pandas provides a number of functions to compute moving (also known as rolling) statistics. In a rolling window, pandas computes the statistic on a window of data represented by a particular period of time. The window is then rolled along a certain interval, and the statistic is continually calculated on each window as long as the window fits within the dates of the time series.\n",
    "\n",
    "As a practical example, a rolling mean is commonly used to smooth out short-term fluctuations and highlight longer-term trends in data and is used quite commonly in financial time-series analysis."
   ]
  },
  {
   "cell_type": "code",
   "execution_count": null,
   "metadata": {
    "cell_id": "00128-e732f080-77fb-46e7-a7f4-876240702614",
    "deepnote_cell_height": 559.578125,
    "deepnote_cell_type": "code",
    "deepnote_output_heights": [
     null,
     265
    ]
   },
   "outputs": [
    {
     "name": "stderr",
     "output_type": "stream",
     "text": [
      "/Users/cnc/anaconda/lib/python3.6/site-packages/ipykernel_launcher.py:3: FutureWarning: pd.rolling_mean is deprecated for Series and will be removed in a future version, replace with \n",
      "\tSeries.rolling(window=5,center=False).mean()\n",
      "  This is separate from the ipykernel package so we can avoid doing imports until\n"
     ]
    },
    {
     "data": {
      "image/png": "[encoded data removed]",
      "text/plain": [
       "<matplotlib.figure.Figure at 0x1109a6978>"
      ]
     },
     "metadata": {
      "image/png": {
       "height": 263,
       "width": 380
      }
     },
     "output_type": "display_data"
    }
   ],
   "source": [
    "first_minute = walk['2014-08-01 00:00']\n",
    "# calculate a rolling mean window of 5 periods\n",
    "pd.rolling_mean(first_minute,5).plot()\n",
    "# plot it against the raw data\n",
    "first_minute.plot()\n",
    "# add a legend\n",
    "plt.legend(labels=['Rolling Mean','Raw']);"
   ]
  },
  {
   "cell_type": "markdown",
   "metadata": {
    "cell_id": "00129-074e957d-16e2-46eb-9f5c-6495fa1a0162",
    "deepnote_cell_height": 74.796875,
    "deepnote_cell_type": "markdown"
   },
   "source": [
    "It can be seen how rolling_mean provides a smoother representation of the underlying data. A larger window will create less variance and smaller windows will create more."
   ]
  },
  {
   "cell_type": "code",
   "execution_count": null,
   "metadata": {
    "cell_id": "00130-852ab08a-f68e-453e-8ff8-181a550f262b",
    "deepnote_cell_height": 695.75,
    "deepnote_cell_type": "code",
    "deepnote_output_heights": [
     null,
     265
    ]
   },
   "outputs": [
    {
     "name": "stderr",
     "output_type": "stream",
     "text": [
      "/Users/cnc/anaconda/lib/python3.6/site-packages/ipykernel_launcher.py:5: FutureWarning: pd.rolling_mean is deprecated for Series and will be removed in a future version, replace with \n",
      "\tSeries.rolling(window=2,center=False).mean()\n",
      "  \"\"\"\n",
      "/Users/cnc/anaconda/lib/python3.6/site-packages/ipykernel_launcher.py:6: FutureWarning: pd.rolling_mean is deprecated for Series and will be removed in a future version, replace with \n",
      "\tSeries.rolling(window=5,center=False).mean()\n",
      "  \n",
      "/Users/cnc/anaconda/lib/python3.6/site-packages/ipykernel_launcher.py:7: FutureWarning: pd.rolling_mean is deprecated for Series and will be removed in a future version, replace with \n",
      "\tSeries.rolling(window=10,center=False).mean()\n",
      "  import sys\n"
     ]
    },
    {
     "data": {
      "image/png": "[encoded data removed]",
      "text/plain": [
       "<matplotlib.figure.Figure at 0x118064898>"
      ]
     },
     "metadata": {
      "image/png": {
       "height": 263,
       "width": 380
      }
     },
     "output_type": "display_data"
    }
   ],
   "source": [
    "# demonstrate the difference between 2, 5 and 10 \n",
    "# interval rolling windows\n",
    "hlw = walk['2014-08-01 00:00']\n",
    "hlw.plot()\n",
    "pd.rolling_mean(hlw,2).plot()\n",
    "pd.rolling_mean(hlw,5).plot()\n",
    "pd.rolling_mean(hlw,10).plot()\n",
    "plt.legend(labels=['Raw','2-interval RM','5-interval RM','10-interval RM']);"
   ]
  },
  {
   "cell_type": "markdown",
   "metadata": {
    "cell_id": "00131-3aa5775e-8ecf-4235-a5eb-e7057c11a1a0",
    "deepnote_cell_height": 74.796875,
    "deepnote_cell_type": "markdown"
   },
   "source": [
    "Any function can be applied via a rolling window using the pd.rolling_apply function. The supplied function will be passed an array of values in the window and should return a single value, which pandas will aggregate with these results into a time series."
   ]
  },
  {
   "cell_type": "code",
   "execution_count": null,
   "metadata": {
    "cell_id": "00132-4fdd1430-d821-4a4d-98f3-f7ee160d3c6f",
    "deepnote_cell_height": 487.578125,
    "deepnote_cell_type": "code",
    "deepnote_output_heights": [
     null,
     265
    ]
   },
   "outputs": [
    {
     "name": "stderr",
     "output_type": "stream",
     "text": [
      "/Users/cnc/anaconda/lib/python3.6/site-packages/ipykernel_launcher.py:3: FutureWarning: pd.rolling_apply is deprecated for Series and will be removed in a future version, replace with \n",
      "\tSeries.rolling(window=5,center=False).apply(func=<function>,args=<tuple>,kwargs=<dict>)\n",
      "  This is separate from the ipykernel package so we can avoid doing imports until\n"
     ]
    },
    {
     "data": {
      "image/png": "[encoded data removed]",
      "text/plain": [
       "<matplotlib.figure.Figure at 0x1180d52e8>"
      ]
     },
     "metadata": {
      "image/png": {
       "height": 263,
       "width": 375
      }
     },
     "output_type": "display_data"
    }
   ],
   "source": [
    "# calculate mean average deviation with window of 5 intervals\n",
    "mean_abs_dev = lambda x: np.fabs(x-x.mean()).mean()\n",
    "pd.rolling_apply(hlw,5,mean_abs_dev).plot();"
   ]
  },
  {
   "cell_type": "markdown",
   "metadata": {
    "cell_id": "00133-160eb8af-dbd3-4476-b5e5-dda43629a3df",
    "deepnote_cell_height": 119.59375,
    "deepnote_cell_type": "markdown"
   },
   "source": [
    "An expanding window mean can be calculated using a slight variant of the use of the pd.rolling_mean function that repeatedly calculates the mean by always starting with the first value in the time series and for each iteration increases the window size by one. An expanding window mean will be more stable (less responsive) than a rolling window, because as the size of the window increases, the less the impact of the next value will be:"
   ]
  },
  {
   "cell_type": "code",
   "execution_count": null,
   "metadata": {
    "cell_id": "00134-8cc4ece1-6f73-47f6-87e7-619c337c532f",
    "deepnote_cell_height": 523.578125,
    "deepnote_cell_type": "code",
    "deepnote_output_heights": [
     null,
     265
    ]
   },
   "outputs": [
    {
     "name": "stderr",
     "output_type": "stream",
     "text": [
      "/Users/cnc/anaconda/lib/python3.6/site-packages/ipykernel_launcher.py:4: FutureWarning: pd.expanding_mean is deprecated for Series and will be removed in a future version, replace with \n",
      "\tSeries.expanding(min_periods=1).mean()\n",
      "  after removing the cwd from sys.path.\n"
     ]
    },
    {
     "data": {
      "image/png": "[encoded data removed]",
      "text/plain": [
       "<matplotlib.figure.Figure at 0x1180e69e8>"
      ]
     },
     "metadata": {
      "image/png": {
       "height": 263,
       "width": 380
      }
     },
     "output_type": "display_data"
    }
   ],
   "source": [
    "# calculate an expanding rolling mean\n",
    "expanding_mean = lambda x: pd.rolling_mean(x,len(x),min_periods=1)\n",
    "hlw.plot()\n",
    "pd.expanding_mean(hlw).plot()\n",
    "plt.legend(labels=['Expanding Mean','Raw']);"
   ]
  },
  {
   "cell_type": "markdown",
   "metadata": {
    "created_in_deepnote_cell": true,
    "deepnote_cell_type": "markdown",
    "tags": []
   },
   "source": [
    "<a style='text-decoration:none;line-height:16px;display:flex;color:#5B5B62;padding:10px;justify-content:end;' href='https://deepnote.com?utm_source=created-in-deepnote-cell&projectId=30b5f66f-e6a5-4e83-8134-c70f8eed277d' target=\"_blank\">\n",
    "<img alt='Created in deepnote.com' style='display:inline;max-height:16px;margin:0px;margin-right:7.5px;' src='data:image/svg+xml;base64,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' > </img>\n",
    "Created in <span style='font-weight:600;margin-left:4px;'>Deepnote</span></a>"
   ]
  }
 ],
 "metadata": {
  "deepnote": {},
  "deepnote_execution_queue": [],
  "deepnote_notebook_id": "b4ae5ac6-23c4-4716-940b-082beebe2a2d",
  "kernelspec": {
   "display_name": "Python 3.9.4 64-bit",
   "language": "python",
   "name": "python3"
  },
  "language_info": {
   "codemirror_mode": {
    "name": "ipython",
    "version": 3
   },
   "file_extension": ".py",
   "mimetype": "text/x-python",
   "name": "python",
   "nbconvert_exporter": "python",
   "pygments_lexer": "ipython3",
   "version": "3.9.4"
  },
  "vscode": {
   "interpreter": {
    "hash": "aee8b7b246df8f9039afb4144a1f6fd8d2ca17a180786b69acc140d282b71a49"
   }
  }
 },
 "nbformat": 4,
 "nbformat_minor": 2
}
