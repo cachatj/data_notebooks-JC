{
 "cells": [
  {
   "cell_type": "markdown",
   "source": "# Pandas\n\nPandas is a high-performance python library that provides a comprehensive set of data structures for manipulating tabular data, providing high-performance indexing, automatic alignment, reshaping, grouping, joining and statistical analyses capabilities.\n\nThe two primary data structures in pandas are the Series and the DataFrame objects.",
   "metadata": {
    "cell_id": "dd010688-3f40-4c23-88c6-7fc24d79f22f",
    "deepnote_cell_type": "markdown",
    "deepnote_cell_height": 179.1875
   }
  },
  {
   "cell_type": "markdown",
   "source": "## Series Object\n\nThe Series object is the fundamental building block of pandas. A Series represents an one-dimensional array based on the NumPy ndarray but with a labeled index that significantly helps to access the elements.\n\nA Series always has an index even if one is not specified, by default pandas will create an index that consists of sequential integers starting from zero. Access to elements is not by integer position but using values in the index referred as Labels.",
   "metadata": {
    "cell_id": "00001-f0c89f12-7003-472b-bcf8-731a88ff43e8",
    "deepnote_cell_type": "markdown",
    "deepnote_cell_height": 189.59375
   }
  },
  {
   "cell_type": "markdown",
   "source": "Importing pandas into the application is simple. It is common to import both pandas and numpy with their objects mapped into the pd and np namespaces respectively.",
   "metadata": {
    "cell_id": "00002-ee4bd0b2-c0df-4886-9942-52df61de8b30",
    "deepnote_cell_type": "markdown",
    "deepnote_cell_height": 74.796875
   }
  },
  {
   "cell_type": "code",
   "metadata": {
    "cell_id": "00003-a4926d75-871c-48f5-a7a3-5acbc63cfad9",
    "deepnote_cell_type": "code",
    "deepnote_cell_height": 154.1875,
    "deepnote_output_heights": [
     21.1875
    ]
   },
   "source": "import numpy as np\nimport pandas as pd\npd.__version__",
   "outputs": [
    {
     "data": {
      "text/plain": "'0.20.1'"
     },
     "execution_count": 1,
     "metadata": {},
     "output_type": "execute_result"
    }
   ],
   "execution_count": null
  },
  {
   "cell_type": "code",
   "metadata": {
    "cell_id": "00004-72a545a4-a3db-42b9-b8bc-418669a3ab34",
    "deepnote_cell_type": "code",
    "deepnote_cell_height": 118.1875,
    "deepnote_output_heights": [
     21.1875
    ]
   },
   "source": "np.__version__",
   "outputs": [
    {
     "data": {
      "text/plain": "'1.12.1'"
     },
     "execution_count": 2,
     "metadata": {},
     "output_type": "execute_result"
    }
   ],
   "execution_count": null
  },
  {
   "cell_type": "code",
   "metadata": {
    "collapsed": true,
    "cell_id": "00005-b9a13c8b-8c13-4a01-8cbe-451b2dcd1ec9",
    "deepnote_cell_type": "code",
    "deepnote_cell_height": 120
   },
   "source": "# set some options to control output display\npd.set_option('display.notebook_repr_html',False)\npd.set_option('display.max_columns',10)\npd.set_option('display.max_rows',10)",
   "outputs": [],
   "execution_count": null
  },
  {
   "cell_type": "markdown",
   "source": "### Creating Series\n\nA Series can be created and initialised by passing either a scalar value, a NumPy nd array, a Python list or a Python Dict as the data parameter of the Series constructor.",
   "metadata": {
    "cell_id": "00006-e97be747-67bb-4f50-84d9-5bc521d1e31c",
    "deepnote_cell_type": "markdown",
    "deepnote_cell_height": 122.796875
   }
  },
  {
   "cell_type": "code",
   "metadata": {
    "cell_id": "00007-6108ecdb-4bba-460a-9fb1-22ee16bfc6e9",
    "deepnote_cell_type": "code",
    "deepnote_cell_height": 173.390625,
    "deepnote_output_heights": [
     40.390625
    ]
   },
   "source": "# create one item series\ns1 = pd.Series(1)\ns1",
   "outputs": [
    {
     "data": {
      "text/plain": "0    1\ndtype: int64"
     },
     "execution_count": 4,
     "metadata": {},
     "output_type": "execute_result"
    }
   ],
   "execution_count": null
  },
  {
   "cell_type": "markdown",
   "source": "'0' is the index and '1' is the value. The data type (dtype) is also shown. We can also retrieve the value using the associated index.",
   "metadata": {
    "cell_id": "00008-8bb83c2d-1dbe-4229-b9c1-766e4b22ef35",
    "deepnote_cell_type": "markdown",
    "deepnote_cell_height": 52.390625
   }
  },
  {
   "cell_type": "code",
   "metadata": {
    "cell_id": "00009-9d5b66b5-af5e-4320-b78a-c4192c88d008",
    "deepnote_cell_type": "code",
    "deepnote_cell_height": 136.1875,
    "deepnote_output_heights": [
     21.1875
    ]
   },
   "source": "# get value with label 0\ns1[0]",
   "outputs": [
    {
     "data": {
      "text/plain": "1"
     },
     "execution_count": 5,
     "metadata": {},
     "output_type": "execute_result"
    }
   ],
   "execution_count": null
  },
  {
   "cell_type": "code",
   "metadata": {
    "cell_id": "00010-146f0fa2-20d4-4b40-a5cc-7be8e63d8485",
    "deepnote_cell_type": "code",
    "deepnote_cell_height": 250.171875,
    "deepnote_output_heights": [
     117.171875
    ]
   },
   "source": "# create from list\ns2 = pd.Series([1,2,3,4,5])\ns2",
   "outputs": [
    {
     "data": {
      "text/plain": "0    1\n1    2\n2    3\n3    4\n4    5\ndtype: int64"
     },
     "execution_count": 6,
     "metadata": {},
     "output_type": "execute_result"
    }
   ],
   "execution_count": null
  },
  {
   "cell_type": "code",
   "metadata": {
    "cell_id": "00011-8809987f-430f-477b-bc51-0449355ba8ca",
    "deepnote_cell_type": "code",
    "deepnote_cell_height": 136.1875,
    "deepnote_output_heights": [
     21.1875
    ]
   },
   "source": "# get the values in the series\ns2.values",
   "outputs": [
    {
     "data": {
      "text/plain": "array([1, 2, 3, 4, 5])"
     },
     "execution_count": 8,
     "metadata": {},
     "output_type": "execute_result"
    }
   ],
   "execution_count": null
  },
  {
   "cell_type": "code",
   "metadata": {
    "cell_id": "00012-ae70d19b-6b1e-4ddf-ac71-bee093b52a53",
    "deepnote_cell_type": "code",
    "deepnote_cell_height": 136.1875,
    "deepnote_output_heights": [
     21.1875
    ]
   },
   "source": "# get the index of the series\ns2.index",
   "outputs": [
    {
     "data": {
      "text/plain": "RangeIndex(start=0, stop=5, step=1)"
     },
     "execution_count": 9,
     "metadata": {},
     "output_type": "execute_result"
    }
   ],
   "execution_count": null
  },
  {
   "cell_type": "markdown",
   "source": "### Creating Series with named index\n\nPandas will create different index types based on the type of data identified in the index parameter. These different index types are optimized to perform indexing operations for that specific data type. To specify the index at the time of creation of the Series, use the index parameter of the constructor.",
   "metadata": {
    "cell_id": "00013-1e4075aa-745d-4265-ae67-4578417e91c6",
    "deepnote_cell_type": "markdown",
    "deepnote_cell_height": 145.1875
   }
  },
  {
   "cell_type": "code",
   "metadata": {
    "cell_id": "00014-d3ce92db-0aee-4993-a56e-ec276e27a7bb",
    "deepnote_cell_type": "code",
    "deepnote_cell_height": 229.78125,
    "deepnote_output_heights": [
     78.78125
    ]
   },
   "source": "# explicitly create an index\n# index is alpha, not an integer\ns3 = pd.Series([1,2,3], index=['a','b','c'])\ns3",
   "outputs": [
    {
     "data": {
      "text/plain": "a    1\nb    2\nc    3\ndtype: int64"
     },
     "execution_count": 13,
     "metadata": {},
     "output_type": "execute_result"
    }
   ],
   "execution_count": null
  },
  {
   "cell_type": "code",
   "metadata": {
    "cell_id": "00015-2c89cd12-bbe6-4ed8-b7f7-c9b3cf99a375",
    "deepnote_cell_type": "code",
    "deepnote_cell_height": 118.1875,
    "deepnote_output_heights": [
     21.1875
    ]
   },
   "source": "s3.index",
   "outputs": [
    {
     "data": {
      "text/plain": "Index(['a', 'b', 'c'], dtype='object')"
     },
     "execution_count": 14,
     "metadata": {},
     "output_type": "execute_result"
    }
   ],
   "execution_count": null
  },
  {
   "cell_type": "markdown",
   "source": "Please note the type of the index items. It is not string but 'object'.",
   "metadata": {
    "cell_id": "00016-06bcd1cc-f1bb-4b12-bac5-be277b5b9fa9",
    "deepnote_cell_type": "markdown",
    "deepnote_cell_height": 52.390625
   }
  },
  {
   "cell_type": "code",
   "metadata": {
    "cell_id": "00017-adc59202-e0d2-4729-876d-7dd510784c43",
    "deepnote_cell_type": "code",
    "deepnote_cell_height": 136.1875,
    "deepnote_output_heights": [
     21.1875
    ]
   },
   "source": "# look up by label value and not object position\ns3['b']",
   "outputs": [
    {
     "data": {
      "text/plain": "2"
     },
     "execution_count": 15,
     "metadata": {},
     "output_type": "execute_result"
    }
   ],
   "execution_count": null
  },
  {
   "cell_type": "code",
   "metadata": {
    "cell_id": "00018-cdbb55a0-8528-4ef2-90c6-3414da555c9b",
    "deepnote_cell_type": "code",
    "deepnote_cell_height": 136.1875,
    "deepnote_output_heights": [
     21.1875
    ]
   },
   "source": "# position also works\ns3[2]",
   "outputs": [
    {
     "data": {
      "text/plain": "3"
     },
     "execution_count": 18,
     "metadata": {},
     "output_type": "execute_result"
    }
   ],
   "execution_count": null
  },
  {
   "cell_type": "code",
   "metadata": {
    "cell_id": "00019-389eb14e-ada9-48b3-91e5-e111e7c916e4",
    "deepnote_cell_type": "code",
    "deepnote_cell_height": 268.171875,
    "deepnote_output_heights": [
     117.171875
    ]
   },
   "source": "# create series from an existing index\n# scalar value will be copied at each index label\ns4 = pd.Series(2,index=s2.index)\ns4",
   "outputs": [
    {
     "data": {
      "text/plain": "0    2\n1    2\n2    2\n3    2\n4    2\ndtype: int64"
     },
     "execution_count": 19,
     "metadata": {},
     "output_type": "execute_result"
    }
   ],
   "execution_count": null
  },
  {
   "cell_type": "markdown",
   "source": "It is a common practice to initialize the Series objects using NumPy ndarrays, and with various NumPy functions that create arrays. The following code creates a Series from five normally distributed values:",
   "metadata": {
    "cell_id": "00020-da274209-27a1-4d23-be94-52a3866b79c8",
    "deepnote_cell_type": "markdown",
    "deepnote_cell_height": 74.796875
   }
  },
  {
   "cell_type": "code",
   "metadata": {
    "cell_id": "00021-3bb35dc9-323c-47ad-9b22-6f0c0d5f328c",
    "deepnote_cell_type": "code",
    "deepnote_cell_height": 232.171875,
    "deepnote_output_heights": [
     117.171875
    ]
   },
   "source": "np.random.seed(123456)\npd.Series(np.random.randn(5))",
   "outputs": [
    {
     "data": {
      "text/plain": "0    0.469112\n1   -0.282863\n2   -1.509059\n3   -1.135632\n4    1.212112\ndtype: float64"
     },
     "execution_count": 20,
     "metadata": {},
     "output_type": "execute_result"
    }
   ],
   "execution_count": null
  },
  {
   "cell_type": "code",
   "metadata": {
    "cell_id": "00022-41bb65f0-9801-47f5-8b68-d279f2c5d6a6",
    "deepnote_cell_type": "code",
    "deepnote_cell_height": 328.140625,
    "deepnote_output_heights": [
     213.140625
    ]
   },
   "source": "# 0 through 9\npd.Series(np.linspace(0,9,10))",
   "outputs": [
    {
     "data": {
      "text/plain": "0    0.0\n1    1.0\n2    2.0\n3    3.0\n4    4.0\n5    5.0\n6    6.0\n7    7.0\n8    8.0\n9    9.0\ndtype: float64"
     },
     "execution_count": 22,
     "metadata": {},
     "output_type": "execute_result"
    }
   ],
   "execution_count": null
  },
  {
   "cell_type": "code",
   "metadata": {
    "cell_id": "00023-17d5f30a-abf5-4f92-9cb1-913178b4ca7a",
    "deepnote_cell_type": "code",
    "deepnote_cell_height": 308.953125,
    "deepnote_output_heights": [
     193.953125
    ]
   },
   "source": "# o through 8\npd.Series(np.arange(0,9))",
   "outputs": [
    {
     "data": {
      "text/plain": "0    0\n1    1\n2    2\n3    3\n4    4\n5    5\n6    6\n7    7\n8    8\ndtype: int64"
     },
     "execution_count": 23,
     "metadata": {},
     "output_type": "execute_result"
    }
   ],
   "execution_count": null
  },
  {
   "cell_type": "markdown",
   "source": "A Series can also be created from a Python dictionary. The keys of the dictionary are used as the index lables for the Series:",
   "metadata": {
    "cell_id": "00024-8b241391-76d7-4508-9535-34f69b3186ce",
    "deepnote_cell_type": "markdown",
    "deepnote_cell_height": 52.390625
   }
  },
  {
   "cell_type": "code",
   "metadata": {
    "cell_id": "00025-96689469-4427-49a3-9835-a0e6a7b933de",
    "deepnote_cell_type": "code",
    "deepnote_cell_height": 212.96875,
    "deepnote_output_heights": [
     97.96875
    ]
   },
   "source": "s6 = pd.Series({'a':1,'b':2,'c':3,'d':4})\ns6",
   "outputs": [
    {
     "data": {
      "text/plain": "a    1\nb    2\nc    3\nd    4\ndtype: int64"
     },
     "execution_count": 25,
     "metadata": {},
     "output_type": "execute_result"
    }
   ],
   "execution_count": null
  },
  {
   "cell_type": "markdown",
   "source": "### Size, Shape, Count and Uniqueness of Values",
   "metadata": {
    "cell_id": "00026-ed6c4d6b-bd74-4d29-b454-86f390dd538c",
    "deepnote_cell_type": "markdown",
    "deepnote_cell_height": 62
   }
  },
  {
   "cell_type": "code",
   "metadata": {
    "cell_id": "00027-01b7807f-36da-4911-93ca-49965c8f1e6f",
    "deepnote_cell_type": "code",
    "deepnote_cell_height": 346.140625,
    "deepnote_output_heights": [
     213.140625
    ]
   },
   "source": "# example series which also contains a NaN\ns = pd.Series([0,1,1,2,3,4,5,6,7,np.NaN])\ns",
   "outputs": [
    {
     "data": {
      "text/plain": "0    0.0\n1    1.0\n2    1.0\n3    2.0\n4    3.0\n5    4.0\n6    5.0\n7    6.0\n8    7.0\n9    NaN\ndtype: float64"
     },
     "execution_count": 26,
     "metadata": {},
     "output_type": "execute_result"
    }
   ],
   "execution_count": null
  },
  {
   "cell_type": "code",
   "metadata": {
    "cell_id": "00028-984e0767-1f47-497d-a9a0-f5552c8d0104",
    "deepnote_cell_type": "code",
    "deepnote_cell_height": 136.1875,
    "deepnote_output_heights": [
     21.1875
    ]
   },
   "source": "# length of the Series\nlen(s)",
   "outputs": [
    {
     "data": {
      "text/plain": "10"
     },
     "execution_count": 27,
     "metadata": {},
     "output_type": "execute_result"
    }
   ],
   "execution_count": null
  },
  {
   "cell_type": "code",
   "metadata": {
    "cell_id": "00029-15a0062d-9c2f-496e-870a-29212fb0105b",
    "deepnote_cell_type": "code",
    "deepnote_cell_height": 118.1875,
    "deepnote_output_heights": [
     21.1875
    ]
   },
   "source": "s.size",
   "outputs": [
    {
     "data": {
      "text/plain": "10"
     },
     "execution_count": 28,
     "metadata": {},
     "output_type": "execute_result"
    }
   ],
   "execution_count": null
  },
  {
   "cell_type": "code",
   "metadata": {
    "cell_id": "00030-17cd8cee-ddc5-400b-93d5-045b3edb06af",
    "deepnote_cell_type": "code",
    "deepnote_cell_height": 136.1875,
    "deepnote_output_heights": [
     21.1875
    ]
   },
   "source": "# shape is a tuple with one value\ns.shape",
   "outputs": [
    {
     "data": {
      "text/plain": "(10,)"
     },
     "execution_count": 29,
     "metadata": {},
     "output_type": "execute_result"
    }
   ],
   "execution_count": null
  },
  {
   "cell_type": "code",
   "metadata": {
    "cell_id": "00031-1a7adb5f-a62f-47ea-8eea-9004aca9f952",
    "deepnote_cell_type": "code",
    "deepnote_cell_height": 136.1875,
    "deepnote_output_heights": [
     21.1875
    ]
   },
   "source": "# number of values not part of NaN can be found using count() method\ns.count()",
   "outputs": [
    {
     "data": {
      "text/plain": "9"
     },
     "execution_count": 30,
     "metadata": {},
     "output_type": "execute_result"
    }
   ],
   "execution_count": null
  },
  {
   "cell_type": "code",
   "metadata": {
    "cell_id": "00032-53d75c23-d361-4995-aefb-4027f8e11251",
    "deepnote_cell_type": "code",
    "deepnote_cell_height": 136.1875,
    "deepnote_output_heights": [
     21.1875
    ]
   },
   "source": "# all unique values\ns.unique()",
   "outputs": [
    {
     "data": {
      "text/plain": "array([  0.,   1.,   2.,   3.,   4.,   5.,   6.,   7.,  nan])"
     },
     "execution_count": 31,
     "metadata": {},
     "output_type": "execute_result"
    }
   ],
   "execution_count": null
  },
  {
   "cell_type": "code",
   "metadata": {
    "cell_id": "00033-739f1a60-2a43-4799-bbb5-74ff7398effd",
    "deepnote_cell_type": "code",
    "deepnote_cell_height": 289.75,
    "deepnote_output_heights": [
     174.75
    ]
   },
   "source": "# count of non-NaN values, returned max to min order\ns.value_counts()",
   "outputs": [
    {
     "data": {
      "text/plain": "1.0    2\n7.0    1\n6.0    1\n5.0    1\n4.0    1\n3.0    1\n2.0    1\n0.0    1\ndtype: int64"
     },
     "execution_count": 32,
     "metadata": {},
     "output_type": "execute_result"
    }
   ],
   "execution_count": null
  },
  {
   "cell_type": "markdown",
   "source": "### Peeking at data with heads, tails and take\n\npandas provides the .head() and .tail() methods to examine just the first few or last records in a Series. By default, these return the first five or last rows respectively, but you can use the n parameter or just pass an integer to specify the number of rows:",
   "metadata": {
    "cell_id": "00034-e97898cb-c1bd-4407-a231-79ce7fc9eca6",
    "deepnote_cell_type": "markdown",
    "deepnote_cell_height": 122.796875
   }
  },
  {
   "cell_type": "code",
   "metadata": {
    "cell_id": "00035-8143a2fb-c878-4319-9e35-be44cbea962c",
    "deepnote_cell_type": "code",
    "deepnote_cell_height": 232.171875,
    "deepnote_output_heights": [
     117.171875
    ]
   },
   "source": "# first five\ns.head()",
   "outputs": [
    {
     "data": {
      "text/plain": "0    0.0\n1    1.0\n2    1.0\n3    2.0\n4    3.0\ndtype: float64"
     },
     "execution_count": 33,
     "metadata": {},
     "output_type": "execute_result"
    }
   ],
   "execution_count": null
  },
  {
   "cell_type": "code",
   "metadata": {
    "cell_id": "00036-f9e594c9-d21b-4256-b99a-bcaa4a1b3886",
    "deepnote_cell_type": "code",
    "deepnote_cell_height": 193.78125,
    "deepnote_output_heights": [
     78.78125
    ]
   },
   "source": "# first three\ns.head(3)",
   "outputs": [
    {
     "data": {
      "text/plain": "0    0.0\n1    1.0\n2    1.0\ndtype: float64"
     },
     "execution_count": 34,
     "metadata": {},
     "output_type": "execute_result"
    }
   ],
   "execution_count": null
  },
  {
   "cell_type": "code",
   "metadata": {
    "cell_id": "00037-9510af88-9b4a-49e2-8108-f69de0b96db4",
    "deepnote_cell_type": "code",
    "deepnote_cell_height": 232.171875,
    "deepnote_output_heights": [
     117.171875
    ]
   },
   "source": "# last five\ns.tail()",
   "outputs": [
    {
     "data": {
      "text/plain": "5    4.0\n6    5.0\n7    6.0\n8    7.0\n9    NaN\ndtype: float64"
     },
     "execution_count": 35,
     "metadata": {},
     "output_type": "execute_result"
    }
   ],
   "execution_count": null
  },
  {
   "cell_type": "code",
   "metadata": {
    "cell_id": "00038-3bde99cf-0420-46f1-ba1c-517edb959b12",
    "deepnote_cell_type": "code",
    "deepnote_cell_height": 174.578125,
    "deepnote_output_heights": [
     59.578125
    ]
   },
   "source": "# last 2\ns.tail(n=2) # equivalent to s.tail(2)",
   "outputs": [
    {
     "data": {
      "text/plain": "8    7.0\n9    NaN\ndtype: float64"
     },
     "execution_count": 36,
     "metadata": {},
     "output_type": "execute_result"
    }
   ],
   "execution_count": null
  },
  {
   "cell_type": "markdown",
   "source": "The .take() method will return the rows in a series that correspond to the zero-based positions specified in a list:",
   "metadata": {
    "cell_id": "00039-6ce5cf7c-7a6f-4cf9-8398-7ea9c9fe9ba9",
    "deepnote_cell_type": "markdown",
    "deepnote_cell_height": 52.390625
   }
  },
  {
   "cell_type": "code",
   "metadata": {
    "cell_id": "00040-4b2704e9-8d32-4d0d-a799-faf0feddb0a0",
    "deepnote_cell_type": "code",
    "deepnote_cell_height": 193.78125,
    "deepnote_output_heights": [
     78.78125
    ]
   },
   "source": "# only take specific items\ns.take([0,3,9])",
   "outputs": [
    {
     "data": {
      "text/plain": "0    0.0\n3    2.0\n9    NaN\ndtype: float64"
     },
     "execution_count": 37,
     "metadata": {},
     "output_type": "execute_result"
    }
   ],
   "execution_count": null
  },
  {
   "cell_type": "markdown",
   "source": "### Looking up values in Series\n\nValues in a Series object can be retrieved using the [] operator and passing either a single index label or a list of index labels.",
   "metadata": {
    "cell_id": "00041-e0586e64-e49a-4d86-a097-a3ad8e1304f0",
    "deepnote_cell_type": "markdown",
    "deepnote_cell_height": 100.390625
   }
  },
  {
   "cell_type": "code",
   "metadata": {
    "cell_id": "00042-47926e0b-8829-45d8-8767-9a79ced258e5",
    "deepnote_cell_type": "code",
    "deepnote_cell_height": 136.1875,
    "deepnote_output_heights": [
     21.1875
    ]
   },
   "source": "# single item lookup\ns3['a']",
   "outputs": [
    {
     "data": {
      "text/plain": "1"
     },
     "execution_count": 39,
     "metadata": {},
     "output_type": "execute_result"
    }
   ],
   "execution_count": null
  },
  {
   "cell_type": "code",
   "metadata": {
    "cell_id": "00043-1c2d7126-175b-4256-a87a-4a925aad2ea1",
    "deepnote_cell_type": "code",
    "deepnote_cell_height": 136.1875,
    "deepnote_output_heights": [
     21.1875
    ]
   },
   "source": "# lookup by position since index is not an integer\ns3[2]",
   "outputs": [
    {
     "data": {
      "text/plain": "3"
     },
     "execution_count": 40,
     "metadata": {},
     "output_type": "execute_result"
    }
   ],
   "execution_count": null
  },
  {
   "cell_type": "code",
   "metadata": {
    "cell_id": "00044-74fc8ac6-ba68-40b1-9d96-871a9bab6bad",
    "deepnote_cell_type": "code",
    "deepnote_cell_height": 174.578125,
    "deepnote_output_heights": [
     59.578125
    ]
   },
   "source": "# multiple items\ns3[['a','c']]",
   "outputs": [
    {
     "data": {
      "text/plain": "a    1\nc    3\ndtype: int64"
     },
     "execution_count": 42,
     "metadata": {},
     "output_type": "execute_result"
    }
   ],
   "execution_count": null
  },
  {
   "cell_type": "code",
   "metadata": {
    "cell_id": "00045-c7aab63f-39e0-420d-947a-d94e79b139e9",
    "deepnote_cell_type": "code",
    "deepnote_cell_height": 154.1875,
    "deepnote_output_heights": [
     21.1875
    ]
   },
   "source": "# series with an integer index but not starting with 0\ns5 = pd.Series([1,2,3], index =[11,12,13])\ns5[12]  # by value as value passed and index are both integer",
   "outputs": [
    {
     "data": {
      "text/plain": "2"
     },
     "execution_count": 43,
     "metadata": {},
     "output_type": "execute_result"
    }
   ],
   "execution_count": null
  },
  {
   "cell_type": "markdown",
   "source": "To alleviate the potential confusion in determining the label-based lookups versus position-based lookups, index based lookup can be enforced using the .loc[] accessor:",
   "metadata": {
    "cell_id": "00046-7663fb06-fcd8-4b04-a90d-f4695314826e",
    "deepnote_cell_type": "markdown",
    "deepnote_cell_height": 74.796875
   }
  },
  {
   "cell_type": "code",
   "metadata": {
    "cell_id": "00047-de4f2679-5177-48f4-baa1-cad977e85637",
    "deepnote_cell_type": "code",
    "deepnote_cell_height": 136.1875,
    "deepnote_output_heights": [
     21.1875
    ]
   },
   "source": "# force lookup by index label\ns5.loc[12]",
   "outputs": [
    {
     "data": {
      "text/plain": "2"
     },
     "execution_count": 44,
     "metadata": {},
     "output_type": "execute_result"
    }
   ],
   "execution_count": null
  },
  {
   "cell_type": "markdown",
   "source": "Lookup by position can be enforced using the iloc[] accessor:",
   "metadata": {
    "cell_id": "00048-1148035b-d171-4551-b831-ff92a8224084",
    "deepnote_cell_type": "markdown",
    "deepnote_cell_height": 52.390625
   }
  },
  {
   "cell_type": "code",
   "metadata": {
    "cell_id": "00049-9fe60858-bbeb-4348-bcd1-8ae07bab5e13",
    "deepnote_cell_type": "code",
    "deepnote_cell_height": 136.1875,
    "deepnote_output_heights": [
     21.1875
    ]
   },
   "source": "# force lookup by position or location\ns5.iloc[1]",
   "outputs": [
    {
     "data": {
      "text/plain": "2"
     },
     "execution_count": 45,
     "metadata": {},
     "output_type": "execute_result"
    }
   ],
   "execution_count": null
  },
  {
   "cell_type": "code",
   "metadata": {
    "cell_id": "00050-2e0976e8-23e7-4682-9919-68e65f5a5633",
    "deepnote_cell_type": "code",
    "deepnote_cell_height": 174.578125,
    "deepnote_output_heights": [
     59.578125
    ]
   },
   "source": "# multiple items by index label\ns5.loc[[12,10]]",
   "outputs": [
    {
     "data": {
      "text/plain": "12    2.0\n10    NaN\ndtype: float64"
     },
     "execution_count": 46,
     "metadata": {},
     "output_type": "execute_result"
    }
   ],
   "execution_count": null
  },
  {
   "cell_type": "code",
   "metadata": {
    "cell_id": "00051-1b5f525b-f436-4e93-858d-9a51d8f0418d",
    "deepnote_cell_type": "code",
    "deepnote_cell_height": 174.578125,
    "deepnote_output_heights": [
     59.578125
    ]
   },
   "source": "# multiple items by position or location\ns5.iloc[[1,2]]",
   "outputs": [
    {
     "data": {
      "text/plain": "12    2\n13    3\ndtype: int64"
     },
     "execution_count": 47,
     "metadata": {},
     "output_type": "execute_result"
    }
   ],
   "execution_count": null
  },
  {
   "cell_type": "markdown",
   "source": "If a location / position passed to .iloc[] in a list is out of bounds, an exception will be thrown. This is different than with .loc[], which if passed a label that does not exist, will return NaN as the value for that label:",
   "metadata": {
    "cell_id": "00052-c15fab29-7722-4b06-be34-cc05df0cb10b",
    "deepnote_cell_type": "markdown",
    "deepnote_cell_height": 74.796875
   }
  },
  {
   "cell_type": "code",
   "metadata": {
    "cell_id": "00053-5338fb7f-d80d-4e53-80be-7e1695f38283",
    "deepnote_cell_type": "code",
    "deepnote_cell_height": 175.78125,
    "deepnote_output_heights": [
     78.78125
    ]
   },
   "source": "s5.loc[[12,-1,15]]",
   "outputs": [
    {
     "data": {
      "text/plain": " 12    2.0\n-1     NaN\n 15    NaN\ndtype: float64"
     },
     "execution_count": 48,
     "metadata": {},
     "output_type": "execute_result"
    }
   ],
   "execution_count": null
  },
  {
   "cell_type": "markdown",
   "source": "A Series also has a property .ix that can be used to look up items either by label or by zero-based array position.",
   "metadata": {
    "cell_id": "00054-70217779-f15b-4236-a68d-ee9356e8bad3",
    "deepnote_cell_type": "markdown",
    "deepnote_cell_height": 52.390625
   }
  },
  {
   "cell_type": "code",
   "metadata": {
    "cell_id": "00055-0718207b-2de3-463d-9027-cbdf1dd6767f",
    "deepnote_cell_type": "code",
    "deepnote_cell_height": 175.78125,
    "deepnote_output_heights": [
     78.78125
    ]
   },
   "source": "s3",
   "outputs": [
    {
     "data": {
      "text/plain": "a    1\nb    2\nc    3\ndtype: int64"
     },
     "execution_count": 49,
     "metadata": {},
     "output_type": "execute_result"
    }
   ],
   "execution_count": null
  },
  {
   "cell_type": "code",
   "metadata": {
    "cell_id": "00056-263abf03-006f-487c-ab00-b5eb5843be1e",
    "deepnote_cell_type": "code",
    "deepnote_cell_height": 358.140625,
    "deepnote_output_heights": [
     null,
     59.578125
    ]
   },
   "source": "# label based lookup\ns3.ix[['a','b']]",
   "outputs": [
    {
     "name": "stderr",
     "output_type": "stream",
     "text": "/Users/cnc/anaconda/lib/python3.6/site-packages/ipykernel_launcher.py:2: DeprecationWarning: \n.ix is deprecated. Please use\n.loc for label based indexing or\n.iloc for positional indexing\n\nSee the documentation here:\nhttp://pandas.pydata.org/pandas-docs/stable/indexing.html#deprecate_ix\n  \n"
    },
    {
     "data": {
      "text/plain": "a    1\nb    2\ndtype: int64"
     },
     "execution_count": 50,
     "metadata": {},
     "output_type": "execute_result"
    }
   ],
   "execution_count": null
  },
  {
   "cell_type": "code",
   "metadata": {
    "cell_id": "00057-b02cede3-c8f4-4a4d-9c4e-66db9cd64de7",
    "deepnote_cell_type": "code",
    "deepnote_cell_height": 174.578125,
    "deepnote_output_heights": [
     59.578125
    ]
   },
   "source": "# position based lookup\ns3.ix[[1,2]]",
   "outputs": [
    {
     "data": {
      "text/plain": "b    2\nc    3\ndtype: int64"
     },
     "execution_count": 51,
     "metadata": {},
     "output_type": "execute_result"
    }
   ],
   "execution_count": null
  },
  {
   "cell_type": "markdown",
   "source": "This can become complicated if the indexes are integers and you pass a list of integers to ix. Since they are of the same type, the lookup will be by index label instead of position:",
   "metadata": {
    "cell_id": "00058-182b737e-2c03-49ae-b688-706cc30d6f08",
    "deepnote_cell_type": "markdown",
    "deepnote_cell_height": 74.796875
   }
  },
  {
   "cell_type": "code",
   "metadata": {
    "cell_id": "00059-884dac99-417a-4ce1-8dad-81a78bd80489",
    "deepnote_cell_type": "code",
    "deepnote_cell_height": 414.53125,
    "deepnote_output_heights": [
     null,
     97.96875
    ]
   },
   "source": "# this looks by label and not position\n# note that 1,2 have NaN as those labels do not exist in the index\ns5.ix[[1,2,10,11]]",
   "outputs": [
    {
     "name": "stderr",
     "output_type": "stream",
     "text": "/Users/cnc/anaconda/lib/python3.6/site-packages/ipykernel_launcher.py:3: DeprecationWarning: \n.ix is deprecated. Please use\n.loc for label based indexing or\n.iloc for positional indexing\n\nSee the documentation here:\nhttp://pandas.pydata.org/pandas-docs/stable/indexing.html#deprecate_ix\n  This is separate from the ipykernel package so we can avoid doing imports until\n"
    },
    {
     "data": {
      "text/plain": "1     NaN\n2     NaN\n10    NaN\n11    1.0\ndtype: float64"
     },
     "execution_count": 52,
     "metadata": {},
     "output_type": "execute_result"
    }
   ],
   "execution_count": null
  },
  {
   "cell_type": "markdown",
   "source": "### Alignment via index labels\n\nA fundamental difference between a NumPy ndarray and a pandas Series is the ability of a Series to automatically align data from another Series based on label values before performing an operation.",
   "metadata": {
    "cell_id": "00060-45ada401-0da4-4246-bc65-52c5c05234e8",
    "deepnote_cell_type": "markdown",
    "deepnote_cell_height": 122.796875
   }
  },
  {
   "cell_type": "code",
   "metadata": {
    "cell_id": "00061-ba92366d-f1e8-4670-a161-d4c46d064747",
    "deepnote_cell_type": "code",
    "deepnote_cell_height": 212.96875,
    "deepnote_output_heights": [
     97.96875
    ]
   },
   "source": "s6 = pd.Series([1,2,3,4], index=['a','b','c','d'])\ns6",
   "outputs": [
    {
     "data": {
      "text/plain": "a    1\nb    2\nc    3\nd    4\ndtype: int64"
     },
     "execution_count": 53,
     "metadata": {},
     "output_type": "execute_result"
    }
   ],
   "execution_count": null
  },
  {
   "cell_type": "code",
   "metadata": {
    "cell_id": "00062-1fd91adc-6985-4d5a-b5de-7d4f0b22ea09",
    "deepnote_cell_type": "code",
    "deepnote_cell_height": 212.96875,
    "deepnote_output_heights": [
     97.96875
    ]
   },
   "source": "s7 = pd.Series([4,3,2,1], index=['d','c','b','a'])\ns7",
   "outputs": [
    {
     "data": {
      "text/plain": "d    4\nc    3\nb    2\na    1\ndtype: int64"
     },
     "execution_count": 54,
     "metadata": {},
     "output_type": "execute_result"
    }
   ],
   "execution_count": null
  },
  {
   "cell_type": "code",
   "metadata": {
    "cell_id": "00063-faa47577-dcf8-40a9-9c73-69ef10984444",
    "deepnote_cell_type": "code",
    "deepnote_cell_height": 194.96875,
    "deepnote_output_heights": [
     97.96875
    ]
   },
   "source": "s6 + s7",
   "outputs": [
    {
     "data": {
      "text/plain": "a    2\nb    4\nc    6\nd    8\ndtype: int64"
     },
     "execution_count": 55,
     "metadata": {},
     "output_type": "execute_result"
    }
   ],
   "execution_count": null
  },
  {
   "cell_type": "markdown",
   "source": "This is a very different result that what it would have been if it were two pure NumPy arrays being added. A NumPy ndarray would add the items in identical positions of each array resulting in different values.",
   "metadata": {
    "cell_id": "00064-1befdd3f-53d2-4ece-b49f-b0f371c9a2ec",
    "deepnote_cell_type": "markdown",
    "deepnote_cell_height": 74.796875
   }
  },
  {
   "cell_type": "code",
   "metadata": {
    "cell_id": "00065-1e4dcac8-48cd-4e1a-a11d-738468e747bb",
    "deepnote_cell_type": "code",
    "deepnote_cell_height": 154.1875,
    "deepnote_output_heights": [
     21.1875
    ]
   },
   "source": "a1 = np.array([1,2,3,4,5])\na2 = np.array([5,4,3,2,1])\na1 + a2",
   "outputs": [
    {
     "data": {
      "text/plain": "array([6, 6, 6, 6, 6])"
     },
     "execution_count": 56,
     "metadata": {},
     "output_type": "execute_result"
    }
   ],
   "execution_count": null
  },
  {
   "cell_type": "markdown",
   "source": "The process of adding two Series objects differs from the process of addition of arrays as it first aligns data based on index label values instead of simply applying the operation to elements in the same position. This becomes significantly powerful when using pandas Series to combine data based on labels instead of having to first order the data manually.",
   "metadata": {
    "cell_id": "00066-01a66f28-7cc5-4674-abe3-1686208b77a1",
    "deepnote_cell_type": "markdown",
    "deepnote_cell_height": 97.1875
   }
  },
  {
   "cell_type": "markdown",
   "source": "## Arithmetic Operations\n\nArithemetic Operations <pre>(+,-,*,/)</pre> can be applied either to a Series or between 2 Series objects",
   "metadata": {
    "cell_id": "00067-d405397c-7d43-41ad-88a9-7966f1ccc69a",
    "deepnote_cell_type": "markdown",
    "deepnote_cell_height": 167.1875
   }
  },
  {
   "cell_type": "code",
   "metadata": {
    "cell_id": "00068-8ef5bab4-bf4e-4e6d-9a0e-c8f21405685f",
    "deepnote_cell_type": "code",
    "deepnote_cell_height": 193.78125,
    "deepnote_output_heights": [
     78.78125
    ]
   },
   "source": "# multiply all values in s3 by 2\ns3 * 2",
   "outputs": [
    {
     "data": {
      "text/plain": "a    2\nb    4\nc    6\ndtype: int64"
     },
     "execution_count": 57,
     "metadata": {},
     "output_type": "execute_result"
    }
   ],
   "execution_count": null
  },
  {
   "cell_type": "code",
   "metadata": {
    "cell_id": "00069-0d52ada5-8a89-4325-adac-4a1bc2de87e6",
    "deepnote_cell_type": "code",
    "deepnote_cell_height": 229.78125,
    "deepnote_output_heights": [
     78.78125
    ]
   },
   "source": "# scalar series using the s3's index\n# not efficient as it will no use vectorisation\nt = pd.Series(2,s3.index)\ns3 * t",
   "outputs": [
    {
     "data": {
      "text/plain": "a    2\nb    4\nc    6\ndtype: int64"
     },
     "execution_count": 58,
     "metadata": {},
     "output_type": "execute_result"
    }
   ],
   "execution_count": null
  },
  {
   "cell_type": "markdown",
   "source": "To reinforce the point that alignment is being performed when applying arithmetic operations across two Series objects, look at the following two Series as examples:",
   "metadata": {
    "cell_id": "00070-143c616d-fa85-4a40-9431-44cb9518a9ec",
    "deepnote_cell_type": "markdown",
    "deepnote_cell_height": 74.796875
   }
  },
  {
   "cell_type": "code",
   "metadata": {
    "cell_id": "00071-c12df2ee-cb6b-40e1-a0de-0b8fc98b1ffe",
    "deepnote_cell_type": "code",
    "deepnote_cell_height": 230.96875,
    "deepnote_output_heights": [
     97.96875
    ]
   },
   "source": "# we will add this to s9\ns8 = pd.Series({'a':1,'b':2,'c':3,'d':5})\ns8",
   "outputs": [
    {
     "data": {
      "text/plain": "a    1\nb    2\nc    3\nd    5\ndtype: int64"
     },
     "execution_count": 59,
     "metadata": {},
     "output_type": "execute_result"
    }
   ],
   "execution_count": null
  },
  {
   "cell_type": "code",
   "metadata": {
    "cell_id": "00072-63fdab6c-c8ec-4c33-bd96-38355bca250d",
    "deepnote_cell_type": "code",
    "deepnote_cell_height": 212.96875,
    "deepnote_output_heights": [
     97.96875
    ]
   },
   "source": "s9 = pd.Series({'b':6,'c':7,'d':9,'e':10})\ns9",
   "outputs": [
    {
     "data": {
      "text/plain": "b     6\nc     7\nd     9\ne    10\ndtype: int64"
     },
     "execution_count": 60,
     "metadata": {},
     "output_type": "execute_result"
    }
   ],
   "execution_count": null
  },
  {
   "cell_type": "code",
   "metadata": {
    "cell_id": "00073-b8519e37-8886-4ad5-9c06-5478ecba6399",
    "deepnote_cell_type": "code",
    "deepnote_cell_height": 232.171875,
    "deepnote_output_heights": [
     117.171875
    ]
   },
   "source": "# NaN's result for a and e demonstrates alignment\ns8 + s9",
   "outputs": [
    {
     "data": {
      "text/plain": "a     NaN\nb     8.0\nc    10.0\nd    14.0\ne     NaN\ndtype: float64"
     },
     "execution_count": 61,
     "metadata": {},
     "output_type": "execute_result"
    }
   ],
   "execution_count": null
  },
  {
   "cell_type": "code",
   "metadata": {
    "cell_id": "00074-756ec59c-7d78-4c58-b5bc-dd3719228182",
    "deepnote_cell_type": "code",
    "deepnote_cell_height": 193.78125,
    "deepnote_output_heights": [
     78.78125
    ]
   },
   "source": "s10 = pd.Series([1.0,2.0,3.0],index=['a','a','b'])\ns10",
   "outputs": [
    {
     "data": {
      "text/plain": "a    1.0\na    2.0\nb    3.0\ndtype: float64"
     },
     "execution_count": 62,
     "metadata": {},
     "output_type": "execute_result"
    }
   ],
   "execution_count": null
  },
  {
   "cell_type": "code",
   "metadata": {
    "cell_id": "00075-19b01201-4fd1-44d6-a1e1-7247752161ee",
    "deepnote_cell_type": "code",
    "deepnote_cell_height": 193.78125,
    "deepnote_output_heights": [
     78.78125
    ]
   },
   "source": "s11 = pd.Series([4.0,5.0,6.0], index=['a','a','c'])\ns11",
   "outputs": [
    {
     "data": {
      "text/plain": "a    4.0\na    5.0\nc    6.0\ndtype: float64"
     },
     "execution_count": 63,
     "metadata": {},
     "output_type": "execute_result"
    }
   ],
   "execution_count": null
  },
  {
   "cell_type": "code",
   "metadata": {
    "cell_id": "00076-cb6ca799-3467-4ebb-b32f-93719e5a1365",
    "deepnote_cell_type": "code",
    "deepnote_cell_height": 251.359375,
    "deepnote_output_heights": [
     136.359375
    ]
   },
   "source": "# will result in four 'a' index labels\ns10 + s11",
   "outputs": [
    {
     "data": {
      "text/plain": "a    5.0\na    6.0\na    6.0\na    7.0\nb    NaN\nc    NaN\ndtype: float64"
     },
     "execution_count": 64,
     "metadata": {},
     "output_type": "execute_result"
    }
   ],
   "execution_count": null
  },
  {
   "cell_type": "markdown",
   "source": "The reason for the above result is that during alignment, pandas actually performs a cartesian product of the sets of all the unique index labels in both Series objects, and then applies the specified operation on all items in the products.\n\nTo explain why there are four 'a' index values s10 contains two 'a' labels and s11 also contains two 'a' labels. Every combination of 'a' labels in each will be calculated resulting in four 'a' labels. There is one 'b' label from s10 and one 'c' label from s11. Since there is no matching label for either in the other Series object, they only result in a sing row in the resulting Series object.\n\nEach combination of values for 'a' in both Series are computed, resulting in the four values: 1+4,1+5,2+4 and 2+5.\n\nSo remember that an index can have duplicate labels, and during alignment this will result in a number of index labels equivalent to the products of the number of the labels in each Series.",
   "metadata": {
    "cell_id": "00077-4f770f76-f76d-4782-bba1-fcaf386bd97c",
    "deepnote_cell_type": "markdown",
    "deepnote_cell_height": 251.1875
   }
  },
  {
   "cell_type": "markdown",
   "source": "### The special case of Not-A-Number (NaN)\n\npandas mathematical operators and functions handle NaN in a special manner (compared to NumPy ndarray) that does not break the computations. pandas is lenient with missing data assuming that it is a common situation.",
   "metadata": {
    "cell_id": "00078-2cec1176-4414-412d-a592-092b0776940d",
    "deepnote_cell_type": "markdown",
    "deepnote_cell_height": 122.796875
   }
  },
  {
   "cell_type": "code",
   "metadata": {
    "cell_id": "00079-cdff9ad2-4403-45d6-8fc2-ad300925d9bb",
    "deepnote_cell_type": "code",
    "deepnote_cell_height": 136.1875,
    "deepnote_output_heights": [
     21.1875
    ]
   },
   "source": "nda = np.array([1,2,3,4,5])\nnda.mean()",
   "outputs": [
    {
     "data": {
      "text/plain": "3.0"
     },
     "execution_count": 65,
     "metadata": {},
     "output_type": "execute_result"
    }
   ],
   "execution_count": null
  },
  {
   "cell_type": "code",
   "metadata": {
    "cell_id": "00080-477650c2-a94c-4926-a9a1-ca620844d7bd",
    "deepnote_cell_type": "code"
   },
   "source": "# mean of numpy array values with a NaN\nnda = np.array([1,2,3,4,np.NaN])\nnda.mean()",
   "outputs": [
    {
     "data": {
      "text/plain": "nan"
     },
     "execution_count": 66,
     "metadata": {},
     "output_type": "execute_result"
    }
   ],
   "execution_count": null
  },
  {
   "cell_type": "code",
   "metadata": {
    "cell_id": "00081-69ba63b8-de6d-4fbd-99fd-fe96c274a0ff",
    "deepnote_cell_type": "code"
   },
   "source": "# Series object ignores NaN values - does not get factored\ns = pd.Series(nda)\ns.mean()",
   "outputs": [
    {
     "data": {
      "text/plain": "2.5"
     },
     "execution_count": 67,
     "metadata": {},
     "output_type": "execute_result"
    }
   ],
   "execution_count": null
  },
  {
   "cell_type": "code",
   "metadata": {
    "cell_id": "00082-7eb02d28-79e4-4f00-8a0a-deccf0f937b6",
    "deepnote_cell_type": "code"
   },
   "source": "# handle NaN values like Numpy\ns.mean(skipna=False)",
   "outputs": [
    {
     "data": {
      "text/plain": "nan"
     },
     "execution_count": 68,
     "metadata": {},
     "output_type": "execute_result"
    }
   ],
   "execution_count": null
  },
  {
   "cell_type": "markdown",
   "source": "## Boolean selection\n\nItems in a Series can be selected, based on the value instead of index labels, via the utilization of a Boolean selection.",
   "metadata": {
    "cell_id": "00083-ed580fab-e053-4f96-bf7a-407636cacc05",
    "deepnote_cell_type": "markdown"
   }
  },
  {
   "cell_type": "code",
   "metadata": {
    "cell_id": "00084-83fed9cf-0d7e-4f4a-905c-975a8c7e4a0d",
    "deepnote_cell_type": "code"
   },
   "source": "# which rows have values that are > 5\ns = pd.Series(np.arange(0,10))\ns > 5",
   "outputs": [
    {
     "data": {
      "text/plain": "0    False\n1    False\n2    False\n3    False\n4    False\n5    False\n6     True\n7     True\n8     True\n9     True\ndtype: bool"
     },
     "execution_count": 69,
     "metadata": {},
     "output_type": "execute_result"
    }
   ],
   "execution_count": null
  },
  {
   "cell_type": "code",
   "metadata": {
    "cell_id": "00085-6777b7c5-4dad-4a95-b940-fea351517932",
    "deepnote_cell_type": "code"
   },
   "source": "# select rows where values are > 5\n# overloading the Series object [] operator\nlogicalResults = s > 5\ns[logicalResults]",
   "outputs": [
    {
     "data": {
      "text/plain": "6    6\n7    7\n8    8\n9    9\ndtype: int64"
     },
     "execution_count": 71,
     "metadata": {},
     "output_type": "execute_result"
    }
   ],
   "execution_count": null
  },
  {
   "cell_type": "code",
   "metadata": {
    "cell_id": "00086-50526422-70c2-4964-b0d9-dcab024e09d2",
    "deepnote_cell_type": "code"
   },
   "source": "# a little shorter version\ns[s > 5]",
   "outputs": [
    {
     "data": {
      "text/plain": "6    6\n7    7\n8    8\n9    9\ndtype: int64"
     },
     "execution_count": 72,
     "metadata": {},
     "output_type": "execute_result"
    }
   ],
   "execution_count": null
  },
  {
   "cell_type": "code",
   "metadata": {
    "cell_id": "00087-ceb34808-2d75-46fb-aa3f-6d1417fdff0a",
    "deepnote_cell_type": "code"
   },
   "source": "# using & operator\ns[(s>5)&(s<9)]",
   "outputs": [
    {
     "data": {
      "text/plain": "6    6\n7    7\n8    8\ndtype: int64"
     },
     "execution_count": 73,
     "metadata": {},
     "output_type": "execute_result"
    }
   ],
   "execution_count": null
  },
  {
   "cell_type": "code",
   "metadata": {
    "cell_id": "00088-4bc8f724-102f-457e-9677-7e3fe5669248",
    "deepnote_cell_type": "code"
   },
   "source": "# using | operator\ns[(s > 3) | (s < 5)]",
   "outputs": [
    {
     "data": {
      "text/plain": "0    0\n1    1\n2    2\n3    3\n4    4\n5    5\n6    6\n7    7\n8    8\n9    9\ndtype: int64"
     },
     "execution_count": 74,
     "metadata": {},
     "output_type": "execute_result"
    }
   ],
   "execution_count": null
  },
  {
   "cell_type": "code",
   "metadata": {
    "cell_id": "00089-202d91ca-1272-4afc-81b4-1abefebfd8f8",
    "deepnote_cell_type": "code"
   },
   "source": "# are all items >= 0?\n(s >=0).all()",
   "outputs": [
    {
     "data": {
      "text/plain": "True"
     },
     "execution_count": 75,
     "metadata": {},
     "output_type": "execute_result"
    }
   ],
   "execution_count": null
  },
  {
   "cell_type": "code",
   "metadata": {
    "cell_id": "00090-d8a37272-2df0-4363-accd-3400f229aff3",
    "deepnote_cell_type": "code"
   },
   "source": "# are any items < 2\ns[s < 2].any()",
   "outputs": [
    {
     "data": {
      "text/plain": "True"
     },
     "execution_count": 76,
     "metadata": {},
     "output_type": "execute_result"
    }
   ],
   "execution_count": null
  },
  {
   "cell_type": "markdown",
   "source": "The result of these logical expressions is a Boolean selection, a Series of True and False values. The .sum() method of a Series, when given a series of Boolean values, will treat True as 1 and False as 0. The following demonstrates using this to determine the number of items in a Series that satisfy a given expression:",
   "metadata": {
    "cell_id": "00091-6133ff49-2c46-46d2-b199-e96ed1f037e4",
    "deepnote_cell_type": "markdown"
   }
  },
  {
   "cell_type": "code",
   "metadata": {
    "cell_id": "00092-321167bc-3f2f-4f33-ad85-322fc2a4bb64",
    "deepnote_cell_type": "code"
   },
   "source": "(s < 2).sum()",
   "outputs": [
    {
     "data": {
      "text/plain": "2"
     },
     "execution_count": 77,
     "metadata": {},
     "output_type": "execute_result"
    }
   ],
   "execution_count": null
  },
  {
   "cell_type": "markdown",
   "source": "## Reindexing a Series\n\nReindexing in pandas is a process that makes the data in a Series or DataFrame match a given set of labels.\n\nThis process of performing a reindex includes the following steps:\n1. Reordering existing data to match a set of labels.\n2. Inserting NaN markers where no data exists for a label.\n3. Possibly, filling missing data for a label using some type of logic",
   "metadata": {
    "cell_id": "00093-5c01d4d5-34b5-4fac-a9b1-63c0ca9f6acc",
    "deepnote_cell_type": "markdown"
   }
  },
  {
   "cell_type": "code",
   "metadata": {
    "cell_id": "00094-70a59925-380a-4868-84f4-8f4da213ec17",
    "deepnote_cell_type": "code"
   },
   "source": "# sample series of five items\ns = pd.Series(np.random.randn(5))\ns",
   "outputs": [
    {
     "data": {
      "text/plain": "0   -0.173215\n1    0.119209\n2   -1.044236\n3   -0.861849\n4   -2.104569\ndtype: float64"
     },
     "execution_count": 78,
     "metadata": {},
     "output_type": "execute_result"
    }
   ],
   "execution_count": null
  },
  {
   "cell_type": "code",
   "metadata": {
    "cell_id": "00095-b9e1d878-ebd8-4626-a8d5-eca02d416d1a",
    "deepnote_cell_type": "code"
   },
   "source": "# change the index\ns.index = ['a','b','c','d','e']\ns",
   "outputs": [
    {
     "data": {
      "text/plain": "a   -0.173215\nb    0.119209\nc   -1.044236\nd   -0.861849\ne   -2.104569\ndtype: float64"
     },
     "execution_count": 79,
     "metadata": {},
     "output_type": "execute_result"
    }
   ],
   "execution_count": null
  },
  {
   "cell_type": "code",
   "metadata": {
    "cell_id": "00096-b83b23e5-55a7-4a57-abad-44aee37b9f28",
    "deepnote_cell_type": "code"
   },
   "source": "# concat copies index values verbatim\n# potentially making duplicates\nnp.random.seed(123456)\ns1 = pd.Series(np.random.randn(3))\ns2 = pd.Series(np.random.randn(3))\ncombined = pd.concat([s1,s2])\ncombined",
   "outputs": [
    {
     "data": {
      "text/plain": "0    0.469112\n1   -0.282863\n2   -1.509059\n0   -1.135632\n1    1.212112\n2   -0.173215\ndtype: float64"
     },
     "execution_count": 80,
     "metadata": {},
     "output_type": "execute_result"
    }
   ],
   "execution_count": null
  },
  {
   "cell_type": "code",
   "metadata": {
    "cell_id": "00097-7835c6b3-256c-4e26-8578-ce300446a3c8",
    "deepnote_cell_type": "code"
   },
   "source": "# reset the index\ncombined.index = np.arange(0,len(combined))\ncombined",
   "outputs": [
    {
     "data": {
      "text/plain": "0    0.469112\n1   -0.282863\n2   -1.509059\n3   -1.135632\n4    1.212112\n5   -0.173215\ndtype: float64"
     },
     "execution_count": 81,
     "metadata": {},
     "output_type": "execute_result"
    }
   ],
   "execution_count": null
  },
  {
   "cell_type": "markdown",
   "source": "Greater flexibility in creating a new index is provided using the .reindex() method. An example of the flexibility of .reindex() over assigning the .index property directly is that the list provided to .reindex() can be of a different length than the number of rows in the Series:",
   "metadata": {
    "cell_id": "00098-e32a93e5-d1a6-4ad9-a0bd-3c60a573cade",
    "deepnote_cell_type": "markdown"
   }
  },
  {
   "cell_type": "code",
   "metadata": {
    "cell_id": "00099-4f314e10-bb1f-4f45-a802-977fda85fcf7",
    "deepnote_cell_type": "code"
   },
   "source": "np.random.seed(123456)\ns1 = pd.Series(np.random.randn(4),['a','b','c','d'])\n# reindex with different number of labels\n# results in dropped rows and/or NaN's\ns2 = s1.reindex(['a','c','g'])\ns2",
   "outputs": [
    {
     "data": {
      "text/plain": "a    0.469112\nc   -1.509059\ng         NaN\ndtype: float64"
     },
     "execution_count": 82,
     "metadata": {},
     "output_type": "execute_result"
    }
   ],
   "execution_count": null
  },
  {
   "cell_type": "markdown",
   "source": "There are several things here that are important to point out about .reindex() method.\n\n* First is that the result of .reindex() method is a new Series. This new Series has an index with labels that are provided as parameter to reindex().\n* For each item in the given parameter list, if the original Series contains that label, then the value is assigned to that label.\n* If that label does not exist in the original Series, pandas assigns a NaN value.\n* Rows in the Series without a label specified in the parameter of .reindex() is not included in the result.\n\nTo demonstrate that the result of .reindex() is a new Series object, changing a value in s2 does not change the values in s1:",
   "metadata": {
    "cell_id": "00100-d658cd58-e786-4869-ac82-98f10bd5e157",
    "deepnote_cell_type": "markdown"
   }
  },
  {
   "cell_type": "code",
   "metadata": {
    "cell_id": "00101-906b09ba-5481-42de-9f17-0d00d6527fcc",
    "deepnote_cell_type": "code"
   },
   "source": "# s2 is a different series than s1\ns2['a'] = 0\ns2",
   "outputs": [
    {
     "data": {
      "text/plain": "a    0.000000\nc   -1.509059\ng         NaN\ndtype: float64"
     },
     "execution_count": 83,
     "metadata": {},
     "output_type": "execute_result"
    }
   ],
   "execution_count": null
  },
  {
   "cell_type": "code",
   "metadata": {
    "collapsed": true,
    "cell_id": "00102-1bebb6d3-5a1a-41c8-a993-db518c40bd91",
    "deepnote_cell_type": "code"
   },
   "source": "# this did not modify s1\ns1",
   "execution_count": null,
   "outputs": []
  },
  {
   "cell_type": "markdown",
   "source": "Reindex is also useful when you want to align two Series to perform an operation on matching elements from each series; however, for some reason, the two Series has index labels that will not initially align.",
   "metadata": {
    "cell_id": "00103-24d819b9-b064-4238-8ef6-949199faecee",
    "deepnote_cell_type": "markdown"
   }
  },
  {
   "cell_type": "code",
   "metadata": {
    "cell_id": "00104-0c898d98-699a-4fa0-91f3-512c0eb3f5ba",
    "deepnote_cell_type": "code"
   },
   "source": "# different types for the same values of labels causes big issue\ns1 = pd.Series([0,1,2],index=[0,1,2])\ns2 = pd.Series([3,4,5],index=['0','1','2'])\ns1 + s2",
   "outputs": [
    {
     "data": {
      "text/plain": "0   NaN\n1   NaN\n2   NaN\n0   NaN\n1   NaN\n2   NaN\ndtype: float64"
     },
     "execution_count": 87,
     "metadata": {},
     "output_type": "execute_result"
    }
   ],
   "execution_count": null
  },
  {
   "cell_type": "markdown",
   "source": "The reason why this happens in pandas are as follows:\n\n1. pandas first tries to align by the indexes and finds no matches, so it copies the index labels from the first series and tries to append the indexes from the second Series.\n2. However, since they are different type, it defaults back to zero-based integer sequence that results in duplicate values.\n3. Finally, all values are NaN because the operation tries to add the item in the first Series with the integer label 0, which has a value of 0, but can't find the item in the other series and therefore the result in NaN.",
   "metadata": {
    "cell_id": "00105-f4d6ff47-b3c0-4c2d-bc3e-d389d230fd50",
    "deepnote_cell_type": "markdown"
   }
  },
  {
   "cell_type": "code",
   "metadata": {
    "cell_id": "00106-e0c8651e-4d89-443a-a489-1ed60fed1a44",
    "deepnote_cell_type": "code"
   },
   "source": "# reindex by casting the label types and we will get the desired result\ns2.index = s2.index.values.astype(int)\ns1 + s2",
   "outputs": [
    {
     "data": {
      "text/plain": "0    3\n1    5\n2    7\ndtype: int64"
     },
     "execution_count": 88,
     "metadata": {},
     "output_type": "execute_result"
    }
   ],
   "execution_count": null
  },
  {
   "cell_type": "markdown",
   "source": "The default action of inserting NaN as a missing value during reindexing can be changed by using the fill_value parameter of the method.",
   "metadata": {
    "cell_id": "00107-9fbb9fd7-d9a0-4e4f-b601-ea5898e5090c",
    "deepnote_cell_type": "markdown"
   }
  },
  {
   "cell_type": "code",
   "metadata": {
    "cell_id": "00108-63c8d0f4-834a-4c2d-92e3-588877bdf8a5",
    "deepnote_cell_type": "code"
   },
   "source": "# fill with 0 instead on NaN\ns2 = s.copy()\ns2.reindex(['a','f'],fill_value=0)",
   "outputs": [
    {
     "data": {
      "text/plain": "a   -0.173215\nf    0.000000\ndtype: float64"
     },
     "execution_count": 89,
     "metadata": {},
     "output_type": "execute_result"
    }
   ],
   "execution_count": null
  },
  {
   "cell_type": "markdown",
   "source": "When performing a reindex on ordered data such as a time series, it is possible to perform interpolation or filling of values. The following example demonstrates forward filling, often referred to as \"last known value\".",
   "metadata": {
    "cell_id": "00109-2a51f802-139b-4284-a4b9-bfaec68e5c15",
    "deepnote_cell_type": "markdown"
   }
  },
  {
   "cell_type": "code",
   "metadata": {
    "cell_id": "00110-3f619056-3292-4b90-ab1a-e8410a20fa82",
    "deepnote_cell_type": "code"
   },
   "source": "# create example to demonstrate fills\ns3 = pd.Series(['red','green','blue'],index=[0,3,5])\ns3",
   "outputs": [
    {
     "data": {
      "text/plain": "0      red\n3    green\n5     blue\ndtype: object"
     },
     "execution_count": 90,
     "metadata": {},
     "output_type": "execute_result"
    }
   ],
   "execution_count": null
  },
  {
   "cell_type": "code",
   "metadata": {
    "cell_id": "00111-91516426-5df4-4de6-8631-1e040a23f888",
    "deepnote_cell_type": "code"
   },
   "source": "# forward fill using ffill method\ns3.reindex(np.arange(0,7), method='ffill')",
   "outputs": [
    {
     "data": {
      "text/plain": "0      red\n1      red\n2      red\n3    green\n4    green\n5     blue\n6     blue\ndtype: object"
     },
     "execution_count": 91,
     "metadata": {},
     "output_type": "execute_result"
    }
   ],
   "execution_count": null
  },
  {
   "cell_type": "code",
   "metadata": {
    "cell_id": "00112-afe6b830-3146-4843-9b5b-e9cd7ddee70e",
    "deepnote_cell_type": "code"
   },
   "source": "# backward fill using bfill method\ns3.reindex(np.arange(0,7),method='bfill')",
   "outputs": [
    {
     "data": {
      "text/plain": "0      red\n1    green\n2    green\n3    green\n4     blue\n5     blue\n6      NaN\ndtype: object"
     },
     "execution_count": 92,
     "metadata": {},
     "output_type": "execute_result"
    }
   ],
   "execution_count": null
  },
  {
   "cell_type": "markdown",
   "source": "## Modifying a Series in-place\n\nThere are several ways that an existing Series can be modified in-place having either its values changed or having rows added or deleted.\n\nA new item can be added to a Series by assigning a value to an index label that does not already exist.",
   "metadata": {
    "cell_id": "00113-32ad31a9-42bc-404a-9fb0-8a805caddd48",
    "deepnote_cell_type": "markdown"
   }
  },
  {
   "cell_type": "code",
   "metadata": {
    "cell_id": "00114-5724002b-99db-481b-9f5c-e51810258520",
    "deepnote_cell_type": "code"
   },
   "source": "np.random.seed(123456)\ns = pd.Series(np.random.randn(3),index=['a','b','c'])\ns",
   "outputs": [
    {
     "data": {
      "text/plain": "a    0.469112\nb   -0.282863\nc   -1.509059\ndtype: float64"
     },
     "execution_count": 94,
     "metadata": {},
     "output_type": "execute_result"
    }
   ],
   "execution_count": null
  },
  {
   "cell_type": "code",
   "metadata": {
    "cell_id": "00115-87a30fae-0c51-4e19-b8c4-d1b4324bd756",
    "deepnote_cell_type": "code"
   },
   "source": "# change a value in the Series\n# this done in-place\n# a new Series is not returned that has a modified value\ns['d'] = 100\ns",
   "outputs": [
    {
     "data": {
      "text/plain": "a      0.469112\nb     -0.282863\nc     -1.509059\nd    100.000000\ndtype: float64"
     },
     "execution_count": 95,
     "metadata": {},
     "output_type": "execute_result"
    }
   ],
   "execution_count": null
  },
  {
   "cell_type": "code",
   "metadata": {
    "cell_id": "00116-c83ef7ab-0492-4dab-b67f-fc0371f1d731",
    "deepnote_cell_type": "code"
   },
   "source": "# value at a specific index label can be changed by assignment:\ns['d'] = -100\ns",
   "outputs": [
    {
     "data": {
      "text/plain": "a      0.469112\nb     -0.282863\nc     -1.509059\nd   -100.000000\ndtype: float64"
     },
     "execution_count": 96,
     "metadata": {},
     "output_type": "execute_result"
    }
   ],
   "execution_count": null
  },
  {
   "cell_type": "markdown",
   "source": "Items can be removed from a Series using the del() function and passing the index label(s) to be removed.",
   "metadata": {
    "cell_id": "00117-895a8a37-a1fb-481f-8ac2-c6e5243b0feb",
    "deepnote_cell_type": "markdown"
   }
  },
  {
   "cell_type": "code",
   "metadata": {
    "cell_id": "00118-d5f9e06f-cccf-481b-b456-30e3045ce477",
    "deepnote_cell_type": "code"
   },
   "source": "del(s['a'])\ns",
   "outputs": [
    {
     "data": {
      "text/plain": "b     -0.282863\nc     -1.509059\nd   -100.000000\ndtype: float64"
     },
     "execution_count": 97,
     "metadata": {},
     "output_type": "execute_result"
    }
   ],
   "execution_count": null
  },
  {
   "cell_type": "markdown",
   "source": "# Slicing a Series",
   "metadata": {
    "cell_id": "00119-1b12d873-3fbb-456b-869a-6ca612bb16c8",
    "deepnote_cell_type": "markdown"
   }
  },
  {
   "cell_type": "code",
   "metadata": {
    "cell_id": "00120-1105735e-4fb5-410f-b14e-4e238ce095c3",
    "deepnote_cell_type": "code"
   },
   "source": "# a series to use for slicing\n# using index labels not starting at 0 to demonstrate\n# position based slicing\n\ns = pd.Series(np.arange(100,110),index=np.arange(10,20))\ns",
   "outputs": [
    {
     "data": {
      "text/plain": "10    100\n11    101\n12    102\n13    103\n14    104\n15    105\n16    106\n17    107\n18    108\n19    109\ndtype: int64"
     },
     "execution_count": 98,
     "metadata": {},
     "output_type": "execute_result"
    }
   ],
   "execution_count": null
  },
  {
   "cell_type": "code",
   "metadata": {
    "cell_id": "00121-be8a0c2d-e50d-447c-9382-1b04434463a1",
    "deepnote_cell_type": "code"
   },
   "source": "# items at position 0,2,4\ns[0:6:2]",
   "outputs": [
    {
     "data": {
      "text/plain": "10    100\n12    102\n14    104\ndtype: int64"
     },
     "execution_count": 99,
     "metadata": {},
     "output_type": "execute_result"
    }
   ],
   "execution_count": null
  },
  {
   "cell_type": "code",
   "metadata": {
    "cell_id": "00122-7d3ed561-50e4-40f7-843d-e57bb60a1973",
    "deepnote_cell_type": "code"
   },
   "source": "# equivalent to\ns.iloc[[0,2,4]]",
   "outputs": [
    {
     "data": {
      "text/plain": "10    100\n12    102\n14    104\ndtype: int64"
     },
     "execution_count": 100,
     "metadata": {},
     "output_type": "execute_result"
    }
   ],
   "execution_count": null
  },
  {
   "cell_type": "code",
   "metadata": {
    "cell_id": "00123-aae6d650-c7bf-42eb-a17d-e5ef3aef2b60",
    "deepnote_cell_type": "code"
   },
   "source": "# first five by slicing, same as .head(5)\ns[:5]",
   "outputs": [
    {
     "data": {
      "text/plain": "10    100\n11    101\n12    102\n13    103\n14    104\ndtype: int64"
     },
     "execution_count": 101,
     "metadata": {},
     "output_type": "execute_result"
    }
   ],
   "execution_count": null
  },
  {
   "cell_type": "code",
   "metadata": {
    "cell_id": "00124-c8a41bef-c77a-4a09-9eb4-b275c0b024c5",
    "deepnote_cell_type": "code"
   },
   "source": "# fourth position to the end\ns[4:]",
   "outputs": [
    {
     "data": {
      "text/plain": "14    104\n15    105\n16    106\n17    107\n18    108\n19    109\ndtype: int64"
     },
     "execution_count": 102,
     "metadata": {},
     "output_type": "execute_result"
    }
   ],
   "execution_count": null
  },
  {
   "cell_type": "code",
   "metadata": {
    "cell_id": "00125-50094dc2-4667-4229-bff5-c93602c00ee9",
    "deepnote_cell_type": "code"
   },
   "source": "# every other item in the first five positions\ns[:5:2]",
   "outputs": [
    {
     "data": {
      "text/plain": "10    100\n12    102\n14    104\ndtype: int64"
     },
     "execution_count": 103,
     "metadata": {},
     "output_type": "execute_result"
    }
   ],
   "execution_count": null
  },
  {
   "cell_type": "code",
   "metadata": {
    "cell_id": "00126-d884e4e4-ad3c-4bfc-980b-2c59bf92177d",
    "deepnote_cell_type": "code"
   },
   "source": "# every other item starting at the fourth position\ns[4::2]",
   "outputs": [
    {
     "data": {
      "text/plain": "14    104\n16    106\n18    108\ndtype: int64"
     },
     "execution_count": 104,
     "metadata": {},
     "output_type": "execute_result"
    }
   ],
   "execution_count": null
  },
  {
   "cell_type": "code",
   "metadata": {
    "cell_id": "00127-be5adda0-47ee-4858-a391-6a83768264a3",
    "deepnote_cell_type": "code"
   },
   "source": "# reverse the series\ns[::-1]",
   "outputs": [
    {
     "data": {
      "text/plain": "19    109\n18    108\n17    107\n16    106\n15    105\n14    104\n13    103\n12    102\n11    101\n10    100\ndtype: int64"
     },
     "execution_count": 105,
     "metadata": {},
     "output_type": "execute_result"
    }
   ],
   "execution_count": null
  },
  {
   "cell_type": "code",
   "metadata": {
    "cell_id": "00128-9b74fd65-0502-4c47-ad21-eef32b77de73",
    "deepnote_cell_type": "code"
   },
   "source": "# every other starting at position 4, in reverse\ns[4::-2]",
   "outputs": [
    {
     "data": {
      "text/plain": "14    104\n12    102\n10    100\ndtype: int64"
     },
     "execution_count": 106,
     "metadata": {},
     "output_type": "execute_result"
    }
   ],
   "execution_count": null
  },
  {
   "cell_type": "code",
   "metadata": {
    "cell_id": "00129-693c5329-ed25-402b-9841-0b21cfc734fe",
    "deepnote_cell_type": "code"
   },
   "source": "# :-2 which means positions 0 through (10-2) which is [8]\ns[:-2]",
   "outputs": [
    {
     "data": {
      "text/plain": "10    100\n11    101\n12    102\n13    103\n14    104\n15    105\n16    106\n17    107\ndtype: int64"
     },
     "execution_count": 107,
     "metadata": {},
     "output_type": "execute_result"
    }
   ],
   "execution_count": null
  },
  {
   "cell_type": "code",
   "metadata": {
    "cell_id": "00130-7ef46ab1-049f-49cf-a816-4377b6381c25",
    "deepnote_cell_type": "code"
   },
   "source": "# last 3 items\n# equivalent to tail(3)\ns[-3:]",
   "outputs": [
    {
     "data": {
      "text/plain": "17    107\n18    108\n19    109\ndtype: int64"
     },
     "execution_count": 108,
     "metadata": {},
     "output_type": "execute_result"
    }
   ],
   "execution_count": null
  },
  {
   "cell_type": "code",
   "metadata": {
    "cell_id": "00131-37b8e170-f9b2-498b-bd7c-7ea4f2d70c34",
    "deepnote_cell_type": "code"
   },
   "source": "# equivalent to s.tail(4).head(3)\ns[-4:-1]",
   "outputs": [
    {
     "data": {
      "text/plain": "16    106\n17    107\n18    108\ndtype: int64"
     },
     "execution_count": 109,
     "metadata": {},
     "output_type": "execute_result"
    }
   ],
   "execution_count": null
  },
  {
   "cell_type": "markdown",
   "source": "An important thing to keep in mind when using slicing, is that the result of the slice is actually a view into the original Series. Modification of values through the result of the slice will modify the original Series.",
   "metadata": {
    "cell_id": "00132-fcd8e7b9-0afb-470c-b3fc-60c7fafe6144",
    "deepnote_cell_type": "markdown"
   }
  },
  {
   "cell_type": "code",
   "metadata": {
    "cell_id": "00133-884559c7-2bf2-400a-bfe4-9a666004b7e6",
    "deepnote_cell_type": "code"
   },
   "source": "# preserve s\n# slice with first 2 rows\ncopy = s.copy()\nslice = copy[:2]\nslice",
   "outputs": [
    {
     "data": {
      "text/plain": "10    100\n11    101\ndtype: int64"
     },
     "execution_count": 110,
     "metadata": {},
     "output_type": "execute_result"
    }
   ],
   "execution_count": null
  },
  {
   "cell_type": "markdown",
   "source": "Now the assignment of a value to an element of a slice will change the value in the original Series:",
   "metadata": {
    "cell_id": "00134-708952c1-2518-46bb-8adc-9301269136f5",
    "deepnote_cell_type": "markdown"
   }
  },
  {
   "cell_type": "code",
   "metadata": {
    "cell_id": "00135-cf68d22e-24ab-463f-92fb-f05222c88cfa",
    "deepnote_cell_type": "code"
   },
   "source": "slice[11] = 1000\ncopy",
   "outputs": [
    {
     "data": {
      "text/plain": "10     100\n11    1000\n12     102\n13     103\n14     104\n15     105\n16     106\n17     107\n18     108\n19     109\ndtype: int64"
     },
     "execution_count": 111,
     "metadata": {},
     "output_type": "execute_result"
    }
   ],
   "execution_count": null
  },
  {
   "cell_type": "markdown",
   "source": "Slicing can be performed on Series objects with a non-integer index.",
   "metadata": {
    "cell_id": "00136-3a8ab5ad-41eb-46f0-94d1-f5196ffa49da",
    "deepnote_cell_type": "markdown"
   }
  },
  {
   "cell_type": "code",
   "metadata": {
    "cell_id": "00137-17670a2c-d2e6-4bf2-90b1-0d669b4b8c89",
    "deepnote_cell_type": "code"
   },
   "source": "# used to demonstrate the next two slices\ns = pd.Series(np.arange(0,5),index=['a','b','c','d','e'])\ns",
   "outputs": [
    {
     "data": {
      "text/plain": "a    0\nb    1\nc    2\nd    3\ne    4\ndtype: int64"
     },
     "execution_count": 112,
     "metadata": {},
     "output_type": "execute_result"
    }
   ],
   "execution_count": null
  },
  {
   "cell_type": "code",
   "metadata": {
    "cell_id": "00138-279483c7-49ea-473f-b6c7-e25b26898d6d",
    "deepnote_cell_type": "code"
   },
   "source": "# slicing with integer values will extract items based on position:\ns[1:3]",
   "outputs": [
    {
     "data": {
      "text/plain": "b    1\nc    2\ndtype: int64"
     },
     "execution_count": 113,
     "metadata": {},
     "output_type": "execute_result"
    }
   ],
   "execution_count": null
  },
  {
   "cell_type": "code",
   "metadata": {
    "cell_id": "00139-b6d497dc-8b0f-4574-8fe1-dfc7d57bca57",
    "deepnote_cell_type": "code"
   },
   "source": "# with non-integer index, it is also possible to slice with values in the same type of the index:\ns['b':'d']",
   "outputs": [
    {
     "data": {
      "text/plain": "b    1\nc    2\nd    3\ndtype: int64"
     },
     "execution_count": 114,
     "metadata": {},
     "output_type": "execute_result"
    }
   ],
   "execution_count": null
  },
  {
   "cell_type": "markdown",
   "source": "<a style='text-decoration:none;line-height:16px;display:flex;color:#5B5B62;padding:10px;justify-content:end;' href='https://deepnote.com?utm_source=created-in-deepnote-cell&projectId=30b5f66f-e6a5-4e83-8134-c70f8eed277d' target=\"_blank\">\n<img alt='Created in deepnote.com' style='display:inline;max-height:16px;margin:0px;margin-right:7.5px;' src='data:image/svg+xml;base64,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' > </img>\nCreated in <span style='font-weight:600;margin-left:4px;'>Deepnote</span></a>",
   "metadata": {
    "tags": [],
    "created_in_deepnote_cell": true,
    "deepnote_cell_type": "markdown"
   }
  }
 ],
 "nbformat": 4,
 "nbformat_minor": 2,
 "metadata": {
  "kernelspec": {
   "display_name": "Python 3",
   "language": "python",
   "name": "python3"
  },
  "language_info": {
   "codemirror_mode": {
    "name": "ipython",
    "version": 3
   },
   "file_extension": ".py",
   "mimetype": "text/x-python",
   "name": "python",
   "nbconvert_exporter": "python",
   "pygments_lexer": "ipython3",
   "version": "3.6.1"
  },
  "deepnote_notebook_id": "249f02a0-7c54-4e3a-8f75-ff723b197067",
  "deepnote": {},
  "deepnote_execution_queue": []
 }
}