{
  "cells": [
    {
      "cell_type": "markdown",
      "metadata": {
        "id": "7b5217801c08"
      },
      "source": [
        "# BigQuery query magic\n",
        "\n",
        "Jupyter magics are notebook-specific shortcuts that allow you to run commands with minimal syntax. Jupyter notebooks come with many [built-in commands](https://ipython.readthedocs.io/en/stable/interactive/magics.html). The BigQuery client library, `google-cloud-bigquery`, provides a cell magic, `%%bigquery`. The `%%bigquery` magic runs a SQL query and returns the results as a pandas `DataFrame`."
      ]
    },
    {
      "cell_type": "markdown",
      "metadata": {
        "id": "0f347ed53f25"
      },
      "source": [
        "## Run a query on a public dataset\n",
        "\n",
        "The following example queries the BigQuery `usa_names` public dataset. `usa_names` is a Social Security Administration dataset that contains all names from Social Security card applications for births that occurred in the United States after 1879.\n",
        "\n",
        "The following example shows how to invoke the magic (`%%bigquery`), and how to pass in a standard SQL query in the body of the code cell. The results are displayed below the input cell as a pandas [`DataFrame`](http://pandas.pydata.org/pandas-docs/stable/generated/pandas.DataFrame.html)."
      ]
    },
    {
      "cell_type": "code",
      "execution_count": 1,
      "metadata": {},
      "outputs": [],
      "source": [
        "from google.cloud import bigquery\n",
        "import pandas as pd\n",
        "import numpy as np\n",
        "from google.oauth2 import service_account\n",
        "import google.oauth2.credentials\n",
        "import json\n",
        "from google_auth_oauthlib.helpers import credentials_from_session\n",
        "\n",
        "%load_ext google.cloud.bigquery\n",
        "\n",
        "#credentials = google.oauth2.credentials.Credentials('access_token')"
      ]
    },
    {
      "cell_type": "code",
      "execution_count": 7,
      "metadata": {},
      "outputs": [
        {
          "name": "stdout",
          "output_type": "stream",
          "text": [
            "Your browser has been opened to visit:\n",
            "\n",
            "    https://accounts.google.com/o/oauth2/auth?response_type=code&client_id=764086051850-6qr4p6gpi6hn506pt8ejuq83di341hur.apps.googleusercontent.com&redirect_uri=http%3A%2F%2Flocalhost%3A8085%2F&scope=openid+https%3A%2F%2Fwww.googleapis.com%2Fauth%2Fuserinfo.email+https%3A%2F%2Fwww.googleapis.com%2Fauth%2Fcloud-platform+https%3A%2F%2Fwww.googleapis.com%2Fauth%2Fsqlservice.login+https%3A%2F%2Fwww.googleapis.com%2Fauth%2Faccounts.reauth&state=ydTeSC0AfGUzMbMrz6g8n6tJwIlQ7v&access_type=offline&code_challenge=EWGJbKpuLU_DZ2-WOcRaJZSKB1kkSa-zl1T6JpDFQP8&code_challenge_method=S256\n",
            "\n",
            "^C\n",
            "\n",
            "\n",
            "Command killed by keyboard interrupt\n",
            "\n"
          ]
        }
      ],
      "source": [
        "!gcloud auth application-default login"
      ]
    },
    {
      "cell_type": "code",
      "execution_count": null,
      "metadata": {},
      "outputs": [],
      "source": [
        "## copy and paste into terminal\n",
        "\n",
        "#!gcloud config set project edd-trn-mdai-pr-cah"
      ]
    },
    {
      "cell_type": "code",
      "execution_count": null,
      "metadata": {},
      "outputs": [],
      "source": [
        "sql = \"\"\"\n",
        "    SELECT *\n",
        "    FROM `edd-trn-mdai-pr-cah.D2_ML_MED_CUSTCHRN_NP_EXPM.US_COVID19_CASES_AND_DEATHS_BY_STATE_OVER_TIME `\n",
        "    LIMIT 10\n",
        "\"\"\"\n",
        "\n",
        "df = pandas_gbq.read_gbq(sql)\n",
        "\n",
        "df.head()"
      ]
    },
    {
      "cell_type": "markdown",
      "metadata": {
        "id": "2f73f2520a66"
      },
      "source": [
        "## Display verbose output\n",
        "\n",
        "As the query job is running, status messages below the cell update with the query job ID and the amount of time the query has been running. By default, this output is erased and replaced with the results of the query. If you pass the `--verbose` flag, the output will remain below the cell after query completion."
      ]
    },
    {
      "cell_type": "code",
      "execution_count": 2,
      "metadata": {
        "id": "2f4d1d1258ab"
      },
      "outputs": [
        {
          "name": "stderr",
          "output_type": "stream",
          "text": [
            "/Users/jcachat/anaconda3/envs/base-gcp/lib/python3.9/site-packages/google/cloud/bigquery/job/query.py:1687: UserWarning: A progress bar was requested, but there was an error loading the tqdm library. Please install tqdm to use the progress bar functionality.\n",
            "  query_result = wait_for_query(self, progress_bar_type, max_results=max_results)\n",
            "/Users/jcachat/anaconda3/envs/base-gcp/lib/python3.9/site-packages/google/cloud/bigquery/table.py:2007: UserWarning: A progress bar was requested, but there was an error loading the tqdm library. Please install tqdm to use the progress bar functionality.\n",
            "  record_batch = self.to_arrow(\n"
          ]
        },
        {
          "data": {
            "text/html": [
              "<div>\n",
              "<style scoped>\n",
              "    .dataframe tbody tr th:only-of-type {\n",
              "        vertical-align: middle;\n",
              "    }\n",
              "\n",
              "    .dataframe tbody tr th {\n",
              "        vertical-align: top;\n",
              "    }\n",
              "\n",
              "    .dataframe thead th {\n",
              "        text-align: right;\n",
              "    }\n",
              "</style>\n",
              "<table border=\"1\" class=\"dataframe\">\n",
              "  <thead>\n",
              "    <tr style=\"text-align: right;\">\n",
              "      <th></th>\n",
              "      <th>name</th>\n",
              "      <th>count</th>\n",
              "    </tr>\n",
              "  </thead>\n",
              "  <tbody>\n",
              "    <tr>\n",
              "      <th>0</th>\n",
              "      <td>James</td>\n",
              "      <td>5054074</td>\n",
              "    </tr>\n",
              "    <tr>\n",
              "      <th>1</th>\n",
              "      <td>John</td>\n",
              "      <td>4910976</td>\n",
              "    </tr>\n",
              "    <tr>\n",
              "      <th>2</th>\n",
              "      <td>Robert</td>\n",
              "      <td>4763102</td>\n",
              "    </tr>\n",
              "    <tr>\n",
              "      <th>3</th>\n",
              "      <td>Michael</td>\n",
              "      <td>4396482</td>\n",
              "    </tr>\n",
              "    <tr>\n",
              "      <th>4</th>\n",
              "      <td>William</td>\n",
              "      <td>3939912</td>\n",
              "    </tr>\n",
              "    <tr>\n",
              "      <th>5</th>\n",
              "      <td>Mary</td>\n",
              "      <td>3757625</td>\n",
              "    </tr>\n",
              "    <tr>\n",
              "      <th>6</th>\n",
              "      <td>David</td>\n",
              "      <td>3631489</td>\n",
              "    </tr>\n",
              "    <tr>\n",
              "      <th>7</th>\n",
              "      <td>Joseph</td>\n",
              "      <td>2554530</td>\n",
              "    </tr>\n",
              "    <tr>\n",
              "      <th>8</th>\n",
              "      <td>Richard</td>\n",
              "      <td>2550606</td>\n",
              "    </tr>\n",
              "    <tr>\n",
              "      <th>9</th>\n",
              "      <td>Charles</td>\n",
              "      <td>2299419</td>\n",
              "    </tr>\n",
              "  </tbody>\n",
              "</table>\n",
              "</div>"
            ],
            "text/plain": [
              "      name    count\n",
              "0    James  5054074\n",
              "1     John  4910976\n",
              "2   Robert  4763102\n",
              "3  Michael  4396482\n",
              "4  William  3939912\n",
              "5     Mary  3757625\n",
              "6    David  3631489\n",
              "7   Joseph  2554530\n",
              "8  Richard  2550606\n",
              "9  Charles  2299419"
            ]
          },
          "execution_count": 2,
          "metadata": {},
          "output_type": "execute_result"
        }
      ],
      "source": [
        "%%bigquery\n",
        "SELECT name, SUM(number) as count\n",
        "FROM `bigquery-public-data.usa_names.usa_1910_current`\n",
        "GROUP BY name\n",
        "ORDER BY count DESC\n",
        "LIMIT 10"
      ]
    },
    {
      "cell_type": "markdown",
      "metadata": {
        "id": "4e68a66f7274"
      },
      "source": [
        "## Explicitly specify a project\n",
        "\n",
        "By default, the `%%bigquery` magic command uses your default project to run the query. You may also explicitly provide a project ID using the `--project` flag. Note that your credentials must have permissions to create query jobs in the project you specify."
      ]
    },
    {
      "cell_type": "code",
      "execution_count": null,
      "metadata": {
        "id": "7bab6b282f49"
      },
      "outputs": [],
      "source": [
        "project_id = \"your-project-id\""
      ]
    },
    {
      "cell_type": "code",
      "execution_count": null,
      "metadata": {
        "id": "8bee6a8c357d"
      },
      "outputs": [],
      "source": [
        "%%bigquery --project $project_id\n",
        "SELECT name, SUM(number) as count\n",
        "FROM `bigquery-public-data.usa_names.usa_1910_current`\n",
        "GROUP BY name\n",
        "ORDER BY count DESC\n",
        "LIMIT 10"
      ]
    },
    {
      "cell_type": "markdown",
      "metadata": {
        "id": "370dcec14c45"
      },
      "source": [
        "## Assign the query results to a variable\n",
        "\n",
        "To save the results of your query to a variable, provide a variable name as a parameter to `%%bigquery`. The following example saves the results of the query to a variable named `df`. Note that when a variable is provided, the results are not displayed below the cell that invokes the magic command."
      ]
    },
    {
      "cell_type": "code",
      "execution_count": null,
      "metadata": {
        "id": "5202caf63d17"
      },
      "outputs": [],
      "source": [
        "%%bigquery df\n",
        "SELECT name, SUM(number) as count\n",
        "FROM `bigquery-public-data.usa_names.usa_1910_current`\n",
        "GROUP BY name\n",
        "ORDER BY count DESC\n",
        "LIMIT 10"
      ]
    },
    {
      "cell_type": "code",
      "execution_count": null,
      "metadata": {
        "id": "cd3f7e739121"
      },
      "outputs": [],
      "source": [
        "df"
      ]
    },
    {
      "cell_type": "markdown",
      "metadata": {
        "id": "418f70a4f1db"
      },
      "source": [
        "## Run a parameterized query\n",
        "\n",
        "Parameterized queries are useful if you need to run a query with certain parameters that are calculated at run time. Note that the value types must be JSON serializable. The following example defines a parameters dictionary and passes it to the `--params` flag. The key of the dictionary is the name of the parameter, and the value of the dictionary is the value of the parameter."
      ]
    },
    {
      "cell_type": "code",
      "execution_count": null,
      "metadata": {
        "id": "2eb0942838ad"
      },
      "outputs": [],
      "source": [
        "params = {\"limit\": 10}"
      ]
    },
    {
      "cell_type": "code",
      "execution_count": null,
      "metadata": {
        "id": "1ff301a912e3"
      },
      "outputs": [],
      "source": [
        "%%bigquery --params $params\n",
        "SELECT name, SUM(number) as count\n",
        "FROM `bigquery-public-data.usa_names.usa_1910_current`\n",
        "GROUP BY name\n",
        "ORDER BY count DESC\n",
        "LIMIT @limit"
      ]
    }
  ],
  "metadata": {
    "colab": {
      "name": "bigquery_magic.ipynb",
      "toc_visible": true
    },
    "kernelspec": {
      "display_name": "Python 3.9.13 ('data')",
      "language": "python",
      "name": "python3"
    },
    "language_info": {
      "codemirror_mode": {
        "name": "ipython",
        "version": 3
      },
      "file_extension": ".py",
      "mimetype": "text/x-python",
      "name": "python",
      "nbconvert_exporter": "python",
      "pygments_lexer": "ipython3",
      "version": "3.9.16"
    },
    "vscode": {
      "interpreter": {
        "hash": "61f816485507dc889ff66c817d3dfe3a5ba58d9e76a81eab42366b9b45bfe58a"
      }
    }
  },
  "nbformat": 4,
  "nbformat_minor": 0
}
