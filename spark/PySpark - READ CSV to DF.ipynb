{
 "cells": [
  {
   "cell_type": "code",
   "execution_count": 1,
   "id": "167e6816",
   "metadata": {},
   "outputs": [],
   "source": [
    "import findspark\n",
    "findspark.init()\n",
    "findspark.find()\n",
    "\n",
    "# Import PySpark\n",
    "from pyspark.sql import SparkSession\n",
    "from pyspark.sql.types import *\n",
    "from pyspark.sql import functions as F"
   ]
  },
  {
   "cell_type": "code",
   "execution_count": null,
   "id": "d9adb6ea",
   "metadata": {},
   "outputs": [],
   "source": [
    "#Create SparkSession & Read CSV to DF\n",
    "spark = SparkSession.builder.appName(\"Rad CSV to DF\").getOrCreate()\n",
    "\n",
    "data = spark.read.csv(\"data/terpeneArray-mini.csv\", sep=',', inferSchema=True, header=True)\n",
    "\n",
    "df = data.toPandas()\n",
    "\n",
    "df.head()"
   ]
  },
  {
   "cell_type": "code",
   "execution_count": 2,
   "id": "57ad395f",
   "metadata": {},
   "outputs": [
    {
     "ename": "AttributeError",
     "evalue": "'Builder' object has no attribute 'getorCreate'",
     "output_type": "error",
     "traceback": [
      "\u001b[0;31m---------------------------------------------------------------------------\u001b[0m",
      "\u001b[0;31mAttributeError\u001b[0m                            Traceback (most recent call last)",
      "\u001b[0;32m/var/folders/yf/2p2449sx5bqgkh0scg505k040000gp/T/ipykernel_31207/643827861.py\u001b[0m in \u001b[0;36m<module>\u001b[0;34m\u001b[0m\n\u001b[1;32m      1\u001b[0m \u001b[0;31m#Create SparkSession & Read CSV to DF\u001b[0m\u001b[0;34m\u001b[0m\u001b[0;34m\u001b[0m\u001b[0;34m\u001b[0m\u001b[0m\n\u001b[0;32m----> 2\u001b[0;31m \u001b[0mspark\u001b[0m \u001b[0;34m=\u001b[0m \u001b[0mSparkSession\u001b[0m\u001b[0;34m.\u001b[0m\u001b[0mbuilder\u001b[0m\u001b[0;34m.\u001b[0m\u001b[0mappName\u001b[0m\u001b[0;34m(\u001b[0m\u001b[0;34m\"csvdata\"\u001b[0m\u001b[0;34m)\u001b[0m\u001b[0;34m.\u001b[0m\u001b[0mgetorCreate\u001b[0m\u001b[0;34m(\u001b[0m\u001b[0;34m)\u001b[0m\u001b[0;34m\u001b[0m\u001b[0;34m\u001b[0m\u001b[0m\n\u001b[0m\u001b[1;32m      3\u001b[0m \u001b[0;34m\u001b[0m\u001b[0m\n\u001b[1;32m      4\u001b[0m \u001b[0mdata\u001b[0m \u001b[0;34m=\u001b[0m \u001b[0;34m\"data/terpeneArray-mini.csv\"\u001b[0m\u001b[0;34m\u001b[0m\u001b[0;34m\u001b[0m\u001b[0m\n\u001b[1;32m      5\u001b[0m \u001b[0;34m\u001b[0m\u001b[0m\n",
      "\u001b[0;31mAttributeError\u001b[0m: 'Builder' object has no attribute 'getorCreate'"
     ]
    }
   ],
   "source": [
    "#Create SparkSession & Read CSV to DF\n",
    "spark = SparkSession.builder.appName(\"csvdata\").getorCreate()\n",
    "\n",
    "data = \"data/terpeneArray-mini.csv\"\n",
    "\n",
    "df = spark.read.format(\"csv\").option(\"header\",\"true\").option(\"delimiter\", \",\").option(\"inferSchema\", \"true\").load(data)\n",
    "\n",
    "df. show()"
   ]
  },
  {
   "cell_type": "code",
   "execution_count": null,
   "id": "fecd8453",
   "metadata": {},
   "outputs": [],
   "source": [
    "# Import pandas, pandas-profiling\n",
    "import pandas as pd\n",
    "from pandas_profiling import ProfileReport"
   ]
  }
 ],
 "metadata": {
  "kernelspec": {
   "display_name": "Python 3 (ipykernel)",
   "language": "python",
   "name": "python3"
  },
  "language_info": {
   "codemirror_mode": {
    "name": "ipython",
    "version": 3
   },
   "file_extension": ".py",
   "mimetype": "text/x-python",
   "name": "python",
   "nbconvert_exporter": "python",
   "pygments_lexer": "ipython3",
   "version": "3.7.13"
  },
  "vscode": {
   "interpreter": {
    "hash": "b41de25cedd26369ef0ca6c52c0129f6445921d8c1be8d98fe302f686962a74b"
   }
  }
 },
 "nbformat": 4,
 "nbformat_minor": 5
}
