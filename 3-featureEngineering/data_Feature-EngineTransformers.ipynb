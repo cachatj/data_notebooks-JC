{
 "cells": [
  {
   "cell_type": "code",
   "execution_count": 16,
   "metadata": {},
   "outputs": [],
   "source": [
    "import numpy as np\n",
    "import pandas as pd\n",
    "import matplotlib.pyplot as plt\n",
    "from sklearn.model_selection import train_test_split\n",
    "\n",
    "from feature_engine.imputation import MeanMedianImputer\n",
    "\n",
    "# Load dataset\n",
    "data = pd.read_csv('/Volumes/GoogleDrive/.shortcut-targets-by-id/1O_LCvBhBN7-B1UdZ58UM2h6cqnW4ZumD/JupyterNB-JC/00-data/timeseries_data-Temperature-Salinity.csv')"
   ]
  },
  {
   "cell_type": "code",
   "execution_count": 18,
   "metadata": {},
   "outputs": [
    {
     "data": {
      "text/plain": [
       "Index(['id', 'obs_id', 'year_month', 'temperatureSurface',\n",
       "       'temperature100_300', 'temperature300_400', 'temperature100_500',\n",
       "       'temperatureMaxDepth', 'salinitySurface', 'salinity100_300',\n",
       "       'salinity300_400', 'salinity100_500', 'salinityMaxDepth'],\n",
       "      dtype='object')"
      ]
     },
     "execution_count": 18,
     "metadata": {},
     "output_type": "execute_result"
    }
   ],
   "source": [
    "data.columns"
   ]
  },
  {
   "cell_type": "code",
   "execution_count": null,
   "metadata": {},
   "outputs": [],
   "source": [
    "# Separate into train and test sets\n",
    "X_train, X_test, y_train, y_test = train_test_split(\n",
    "    data.drop(['salinitySurface', 'salinityMaxDepth'], axis=1),\n",
    "    data['id'],\n",
    "    test_size=0.3,\n",
    "    random_state=0\n",
    ")\n",
    "\n",
    "# set up the imputer\n",
    "median_imputer = MeanMedianImputer(\n",
    "    imputation_method='median', variables=['temperature100_300', 'temperatureSurface']\n",
    "    )\n",
    "\n",
    "# fit the imputer\n",
    "median_imputer.fit(X_train)\n",
    "\n",
    "# transform the data\n",
    "train_t = median_imputer.transform(X_train)\n",
    "test_t = median_imputer.transform(X_test)\n",
    "\n",
    "fig = plt.figure()\n",
    "ax = fig.add_subplot(111)\n",
    "X_train['id'].plot(kind='kde', ax=ax)\n",
    "train_t['id'].plot(kind='kde', ax=ax, color='red')\n",
    "lines, labels = ax.get_legend_handles_labels()\n",
    "ax.legend(lines, labels, loc='best')"
   ]
  }
 ],
 "metadata": {
  "kernelspec": {
   "display_name": "Python 3.9.12 ('base')",
   "language": "python",
   "name": "python3"
  },
  "language_info": {
   "codemirror_mode": {
    "name": "ipython",
    "version": 3
   },
   "file_extension": ".py",
   "mimetype": "text/x-python",
   "name": "python",
   "nbconvert_exporter": "python",
   "pygments_lexer": "ipython3",
   "version": "3.9.12"
  },
  "orig_nbformat": 4,
  "vscode": {
   "interpreter": {
    "hash": "40d3a090f54c6569ab1632332b64b2c03c39dcf918b08424e98f38b5ae0af88f"
   }
  }
 },
 "nbformat": 4,
 "nbformat_minor": 2
}
