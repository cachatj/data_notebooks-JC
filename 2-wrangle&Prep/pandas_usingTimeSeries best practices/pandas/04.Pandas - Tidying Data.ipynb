{
 "cells": [
  {
   "cell_type": "markdown",
   "source": "# Tidying Data\n\nTidying of data is required for many reasons including these:\n\n* The names of the variables are different from what you require\n* Missing data\n* Values are not in units that you require\n* Period of sampling of records is not what you need\n* Variables are categorical and you neeed quantitative values\n* There is noise in the data\n* Information is of an incorrect type\n* Data is organized around incorrect axes\n* Data is at the wrong level of normalization\n* Data is duplicated\n\nMoving away from a list of problems with data that needs to be addressed, there are several characterisitics of data that can be considered good, tidy and ready for analysis which are as follows:\n\n* Each variable is in one column\n* Each observation of the variable is in a different row\n* There should be one table for each kind of variable\n* If multiple tables they should be relatable\n* Qualitative and categorical variables have mappings to values useful for analysis",
   "metadata": {
    "cell_id": "8796c2f8-0e20-4888-9486-2e64bb6d3fd3",
    "deepnote_cell_type": "markdown"
   }
  },
  {
   "cell_type": "markdown",
   "source": "### Setting up notebook",
   "metadata": {
    "cell_id": "00001-f7adf928-deb5-4724-abfa-905881c7a854",
    "deepnote_cell_type": "markdown"
   }
  },
  {
   "cell_type": "code",
   "metadata": {
    "cell_id": "00002-ebea279e-9b29-4a70-9c00-7e5040fc1d43",
    "deepnote_cell_type": "code"
   },
   "source": "# import pandas, numpy and datetime\nimport numpy as np\nimport pandas as pd\nimport datetime\n\n# set some pandas options for controlling output\npd.set_option('display.notebook_repr_html', False)\npd.set_option('display.max_columns',10)\npd.set_option('display.max_rows',10)",
   "outputs": [],
   "execution_count": null
  },
  {
   "cell_type": "markdown",
   "source": "## Working with Missing Data\n\nData is \"missing\" in pandas when it has a value of NaN (also seen as np.nan - the form from NumPy). The NaN value represents that in a particular Series that there is not a value specified for the particular index level.\n\nIn pandas, there are a number of reasons why a value can be NaN:\n\n* Join of two sets of data does not have matched values\n* Data that you retrieved from an external source is incomplete\n* NaN is not known at a give point in time and will be filled in later\n* There is a data collection error retrieving a value, but the event must still be recorded in the index\n* Reindexing of data has resulted in an index that does not have a value\n* Shape of a data has changed, there are new additional rows or columns",
   "metadata": {
    "cell_id": "00003-3fd9a407-9fea-4dcc-a5f1-5f66cb82aba6",
    "deepnote_cell_type": "markdown"
   }
  },
  {
   "cell_type": "code",
   "metadata": {
    "cell_id": "00004-9e898bbf-ac38-4d28-90c9-a9fe74eb66fe",
    "deepnote_cell_type": "code"
   },
   "source": "# create a DataFrame with 5 rows and 3 columns\ndf = pd.DataFrame(np.arange(0,15).reshape(5,3),index=['a','b','c','d','e'], columns=['col1','col2','col3'])\ndf",
   "outputs": [
    {
     "data": {
      "text/plain": "   col1  col2  col3\na     0     1     2\nb     3     4     5\nc     6     7     8\nd     9    10    11\ne    12    13    14"
     },
     "execution_count": 3,
     "metadata": {},
     "output_type": "execute_result"
    }
   ],
   "execution_count": null
  },
  {
   "cell_type": "code",
   "metadata": {
    "cell_id": "00005-99b88400-8287-4e5e-a1d6-5bdec1705346",
    "deepnote_cell_type": "code"
   },
   "source": "# add some columns and rows to the DataFrame\n# column c4 with NaN values\ndf['c4'] = np.nan\n# row 'f' with 15 through 18\ndf.loc['f'] = np.arange(15,19)\n# row 'g' with all NaN\ndf.loc['g'] = np.nan\n# column c5 with NaN's\ndf['c5'] = np.nan\n# change value in col 'c4' row 'a'\ndf['c4']['a']=20\ndf",
   "outputs": [
    {
     "data": {
      "text/plain": "   col1  col2  col3    c4  c5\na   0.0   1.0   2.0  20.0 NaN\nb   3.0   4.0   5.0   NaN NaN\nc   6.0   7.0   8.0   NaN NaN\nd   9.0  10.0  11.0   NaN NaN\ne  12.0  13.0  14.0   NaN NaN\nf  15.0  16.0  17.0  18.0 NaN\ng   NaN   NaN   NaN   NaN NaN"
     },
     "execution_count": 4,
     "metadata": {},
     "output_type": "execute_result"
    }
   ],
   "execution_count": null
  },
  {
   "cell_type": "markdown",
   "source": "This DataFrame object exhibits the following characteristics that will support most of the examples that follows:\n\n* One row consisting only of NaN values\n* One column is consisting only of NaN values\n* Several rows and columns consisting of both numeric and NaN values",
   "metadata": {
    "cell_id": "00006-4c1a7ec0-2878-47af-9a38-57d6f3abfb51",
    "deepnote_cell_type": "markdown"
   }
  },
  {
   "cell_type": "markdown",
   "source": "## Determining NaN values in Series and DataFrame objects",
   "metadata": {
    "cell_id": "00007-99335907-516a-475b-aa00-f2c76288b16a",
    "deepnote_cell_type": "markdown"
   }
  },
  {
   "cell_type": "code",
   "metadata": {
    "cell_id": "00008-29925455-3f2d-4046-9d70-c345f89881a0",
    "deepnote_cell_type": "code"
   },
   "source": "# which items are NaN?\ndf.isnull()",
   "outputs": [
    {
     "data": {
      "text/plain": "    col1   col2   col3     c4    c5\na  False  False  False  False  True\nb  False  False  False   True  True\nc  False  False  False   True  True\nd  False  False  False   True  True\ne  False  False  False   True  True\nf  False  False  False  False  True\ng   True   True   True   True  True"
     },
     "execution_count": 5,
     "metadata": {},
     "output_type": "execute_result"
    }
   ],
   "execution_count": null
  },
  {
   "cell_type": "code",
   "metadata": {
    "cell_id": "00009-01d57db2-2f10-4bd0-8a08-36b9a727b733",
    "deepnote_cell_type": "code"
   },
   "source": "# count the number of NaN values in each column\ndf.isnull().sum()",
   "outputs": [
    {
     "data": {
      "text/plain": "col1    1\ncol2    1\ncol3    1\nc4      5\nc5      7\ndtype: int64"
     },
     "execution_count": 6,
     "metadata": {},
     "output_type": "execute_result"
    }
   ],
   "execution_count": null
  },
  {
   "cell_type": "code",
   "metadata": {
    "cell_id": "00010-b1e877a5-5aa1-4671-bdb1-85002a1940d7",
    "deepnote_cell_type": "code"
   },
   "source": "# total count of NaN values\ndf.isnull().sum().sum()",
   "outputs": [
    {
     "data": {
      "text/plain": "15"
     },
     "execution_count": 7,
     "metadata": {},
     "output_type": "execute_result"
    }
   ],
   "execution_count": null
  },
  {
   "cell_type": "code",
   "metadata": {
    "cell_id": "00011-c11dc2af-df58-4f32-b5e0-88cc18ddb3f0",
    "deepnote_cell_type": "code"
   },
   "source": "# number of non-NaN values in each column\ndf.count()",
   "outputs": [
    {
     "data": {
      "text/plain": "col1    6\ncol2    6\ncol3    6\nc4      2\nc5      0\ndtype: int64"
     },
     "execution_count": 8,
     "metadata": {},
     "output_type": "execute_result"
    }
   ],
   "execution_count": null
  },
  {
   "cell_type": "code",
   "metadata": {
    "cell_id": "00012-bb1bf45b-43a4-4f14-8739-32ee88e58d3c",
    "deepnote_cell_type": "code"
   },
   "source": "# and can used for counting NaN values\n(len(df)-df.count()).sum()",
   "outputs": [
    {
     "data": {
      "text/plain": "15"
     },
     "execution_count": 9,
     "metadata": {},
     "output_type": "execute_result"
    }
   ],
   "execution_count": null
  },
  {
   "cell_type": "code",
   "metadata": {
    "cell_id": "00013-11f4a2f3-ddc3-4216-9f62-63b0d80391a6",
    "deepnote_cell_type": "code"
   },
   "source": "# which items are not null\ndf.notnull()",
   "outputs": [
    {
     "data": {
      "text/plain": "    col1   col2   col3     c4     c5\na   True   True   True   True  False\nb   True   True   True  False  False\nc   True   True   True  False  False\nd   True   True   True  False  False\ne   True   True   True  False  False\nf   True   True   True   True  False\ng  False  False  False  False  False"
     },
     "execution_count": 10,
     "metadata": {},
     "output_type": "execute_result"
    }
   ],
   "execution_count": null
  },
  {
   "cell_type": "markdown",
   "source": "## Selecting out or dropping missing data",
   "metadata": {
    "cell_id": "00014-655bfbc5-05fb-4849-80e1-72d9f7873e0d",
    "deepnote_cell_type": "markdown"
   }
  },
  {
   "cell_type": "code",
   "metadata": {
    "cell_id": "00015-84e39178-a1cc-443a-b744-1b4ddb0de565",
    "deepnote_cell_type": "code"
   },
   "source": "# select the non-NaN items in column c4\ndf.c4[df.c4.notnull()]",
   "outputs": [
    {
     "data": {
      "text/plain": "a    20.0\nf    18.0\nName: c4, dtype: float64"
     },
     "execution_count": 11,
     "metadata": {},
     "output_type": "execute_result"
    }
   ],
   "execution_count": null
  },
  {
   "cell_type": "code",
   "metadata": {
    "cell_id": "00016-2c20b513-4a76-4d4f-852e-eea6110ee07e",
    "deepnote_cell_type": "code"
   },
   "source": "# .dropna will also return non NaN values\n# this gets all non NaN items in column c4\ndf.c4.dropna()",
   "outputs": [
    {
     "data": {
      "text/plain": "a    20.0\nf    18.0\nName: c4, dtype: float64"
     },
     "execution_count": 12,
     "metadata": {},
     "output_type": "execute_result"
    }
   ],
   "execution_count": null
  },
  {
   "cell_type": "code",
   "metadata": {
    "cell_id": "00017-de8efef7-b1d9-421f-bc33-7554a7708357",
    "deepnote_cell_type": "code"
   },
   "source": "# dropna returns as copy with the values dropped\n# the source DataFrame / column is not changed\ndf.c4",
   "outputs": [
    {
     "data": {
      "text/plain": "a    20.0\nb     NaN\nc     NaN\nd     NaN\ne     NaN\nf    18.0\ng     NaN\nName: c4, dtype: float64"
     },
     "execution_count": 13,
     "metadata": {},
     "output_type": "execute_result"
    }
   ],
   "execution_count": null
  },
  {
   "cell_type": "markdown",
   "source": "When applied to a DataFrame object, dropna() will drop all rows froms a DataFrame object that have atleast one NaN value. If you want to drop only rows where all values are NaN, you can use the how=\"all\" parameter.",
   "metadata": {
    "cell_id": "00018-36a6b173-a47b-4116-a92a-452083f54fb8",
    "deepnote_cell_type": "markdown"
   }
  },
  {
   "cell_type": "code",
   "metadata": {
    "cell_id": "00019-79b460ce-c949-4bdc-a9e2-5921914f8197",
    "deepnote_cell_type": "code"
   },
   "source": "# on a dataframe this will drop entire rows\n# where there is atleast one NaN\n# in this case, all the rows\ndf.dropna()",
   "outputs": [
    {
     "data": {
      "text/plain": "Empty DataFrame\nColumns: [col1, col2, col3, c4, c5]\nIndex: []"
     },
     "execution_count": 14,
     "metadata": {},
     "output_type": "execute_result"
    }
   ],
   "execution_count": null
  },
  {
   "cell_type": "code",
   "metadata": {
    "cell_id": "00020-22f0b899-f9ba-4605-bcde-07f9b6985790",
    "deepnote_cell_type": "code"
   },
   "source": "# using how='all', only rows that have all values\n# as NaN will be dropped\ndf.dropna(how='all')",
   "outputs": [
    {
     "data": {
      "text/plain": "   col1  col2  col3    c4  c5\na   0.0   1.0   2.0  20.0 NaN\nb   3.0   4.0   5.0   NaN NaN\nc   6.0   7.0   8.0   NaN NaN\nd   9.0  10.0  11.0   NaN NaN\ne  12.0  13.0  14.0   NaN NaN\nf  15.0  16.0  17.0  18.0 NaN"
     },
     "execution_count": 15,
     "metadata": {},
     "output_type": "execute_result"
    }
   ],
   "execution_count": null
  },
  {
   "cell_type": "code",
   "metadata": {
    "cell_id": "00021-9ff94825-500a-4e24-8de7-2c3869e83df3",
    "deepnote_cell_type": "code"
   },
   "source": "# flip to drop columns instead of rows\ndf.dropna(how='all',axis=1) # c5 column will be dropped",
   "outputs": [
    {
     "data": {
      "text/plain": "   col1  col2  col3    c4\na   0.0   1.0   2.0  20.0\nb   3.0   4.0   5.0   NaN\nc   6.0   7.0   8.0   NaN\nd   9.0  10.0  11.0   NaN\ne  12.0  13.0  14.0   NaN\nf  15.0  16.0  17.0  18.0\ng   NaN   NaN   NaN   NaN"
     },
     "execution_count": 16,
     "metadata": {},
     "output_type": "execute_result"
    }
   ],
   "execution_count": null
  },
  {
   "cell_type": "code",
   "metadata": {
    "cell_id": "00022-90a8e045-f20c-4181-8ce9-9b5ad0747cc9",
    "deepnote_cell_type": "code"
   },
   "source": "# make a copy of df\ndf2 = df.copy()\n# replace two NaN cells with values\ndf2.loc['g'].col1=0\ndf2.loc['g'].col3=0\ndf2",
   "outputs": [
    {
     "data": {
      "text/plain": "   col1  col2  col3    c4  c5\na   0.0   1.0   2.0  20.0 NaN\nb   3.0   4.0   5.0   NaN NaN\nc   6.0   7.0   8.0   NaN NaN\nd   9.0  10.0  11.0   NaN NaN\ne  12.0  13.0  14.0   NaN NaN\nf  15.0  16.0  17.0  18.0 NaN\ng   0.0   NaN   0.0   NaN NaN"
     },
     "execution_count": 19,
     "metadata": {},
     "output_type": "execute_result"
    }
   ],
   "execution_count": null
  },
  {
   "cell_type": "code",
   "metadata": {
    "cell_id": "00023-7aa223e6-352e-466b-995c-fd0ea428867b",
    "deepnote_cell_type": "code"
   },
   "source": "# now drop columns with any NaN values\ndf2.dropna(how='any',axis=1)",
   "outputs": [
    {
     "data": {
      "text/plain": "   col1  col3\na   0.0   2.0\nb   3.0   5.0\nc   6.0   8.0\nd   9.0  11.0\ne  12.0  14.0\nf  15.0  17.0\ng   0.0   0.0"
     },
     "execution_count": 20,
     "metadata": {},
     "output_type": "execute_result"
    }
   ],
   "execution_count": null
  },
  {
   "cell_type": "code",
   "metadata": {
    "cell_id": "00024-ab4e8cbd-bdcf-46fb-b9f7-31bf2a435051",
    "deepnote_cell_type": "code"
   },
   "source": "# only drop columns with at least 5 NaN values\ndf.dropna(thresh=5,axis=1)",
   "outputs": [
    {
     "data": {
      "text/plain": "   col1  col2  col3\na   0.0   1.0   2.0\nb   3.0   4.0   5.0\nc   6.0   7.0   8.0\nd   9.0  10.0  11.0\ne  12.0  13.0  14.0\nf  15.0  16.0  17.0\ng   NaN   NaN   NaN"
     },
     "execution_count": 21,
     "metadata": {},
     "output_type": "execute_result"
    }
   ],
   "execution_count": null
  },
  {
   "cell_type": "markdown",
   "source": "Note that the .dropna() method returns a copy of the DataFrame object, and the data is dropped from that copy. If you want to drop the data in the actual DataFrame, use the inplace=True parameter.",
   "metadata": {
    "cell_id": "00025-6b019fcf-a7bd-4f4f-85cd-d964b2242f91",
    "deepnote_cell_type": "markdown"
   }
  },
  {
   "cell_type": "markdown",
   "source": "## How pandas handles NaN values in mathematical operations\n\nThe NaN values are handled differently in pandas than in NumPy. NumPy functions when encountering a NaN value, will return NaN. pandas functions will typically ignore the NaN values and continue processing the function as though the values were not part of the Series object.\n\nMore specifically the way that pandas handles NaN values is as follows:\n* Summing of data treats NaN as 0\n* If all values are NaN, the result is NaN\n* Methods like .cumsum() and .cumprod() ignore NaN values but preserve them in resulting arrays",
   "metadata": {
    "cell_id": "00026-62f04e01-f9c9-40a3-aed5-73f78d44a028",
    "deepnote_cell_type": "markdown"
   }
  },
  {
   "cell_type": "code",
   "metadata": {
    "cell_id": "00027-384634cf-dd98-45c7-aa8b-69c5546d6e78",
    "deepnote_cell_type": "code"
   },
   "source": "# create a NumPy array with one NaN value\na = np.array([1,2,np.nan,3])\n# create a Series from the array\ns = pd.Series(a)\n# the mean of each is different\na.mean(), s.mean()",
   "outputs": [
    {
     "data": {
      "text/plain": "(nan, 2.0)"
     },
     "execution_count": 22,
     "metadata": {},
     "output_type": "execute_result"
    }
   ],
   "execution_count": null
  },
  {
   "cell_type": "code",
   "metadata": {
    "cell_id": "00028-69d9d28c-f6d6-41d8-a7ca-25697beb870d",
    "deepnote_cell_type": "code"
   },
   "source": "# demonstrate sum,mean and cumsum handling of NaN\n# get one column\ns = df.c4\ns.sum()   # NaN values treated a 0",
   "outputs": [
    {
     "data": {
      "text/plain": "38.0"
     },
     "execution_count": 23,
     "metadata": {},
     "output_type": "execute_result"
    }
   ],
   "execution_count": null
  },
  {
   "cell_type": "code",
   "metadata": {
    "cell_id": "00029-00f3ba43-7a11-48fd-a5f3-9c26000dba29",
    "deepnote_cell_type": "code"
   },
   "source": "s.mean() # NaN treated as 0",
   "outputs": [
    {
     "data": {
      "text/plain": "19.0"
     },
     "execution_count": 24,
     "metadata": {},
     "output_type": "execute_result"
    }
   ],
   "execution_count": null
  },
  {
   "cell_type": "code",
   "metadata": {
    "cell_id": "00030-a3214534-9264-4246-90a1-bce35d3f6760",
    "deepnote_cell_type": "code"
   },
   "source": "# as 0 in the cumsum but NaN values preserved in result series\ns.cumsum()",
   "outputs": [
    {
     "data": {
      "text/plain": "a    20.0\nb     NaN\nc     NaN\nd     NaN\ne     NaN\nf    38.0\ng     NaN\nName: c4, dtype: float64"
     },
     "execution_count": 25,
     "metadata": {},
     "output_type": "execute_result"
    }
   ],
   "execution_count": null
  },
  {
   "cell_type": "code",
   "metadata": {
    "cell_id": "00031-dabc9a0f-5b4c-4fa5-9f73-99dcabd12a38",
    "deepnote_cell_type": "code"
   },
   "source": "# in arithmetic, a NaN value will result in NaN\ndf.c4 + 1",
   "outputs": [
    {
     "data": {
      "text/plain": "a    21.0\nb     NaN\nc     NaN\nd     NaN\ne     NaN\nf    19.0\ng     NaN\nName: c4, dtype: float64"
     },
     "execution_count": 26,
     "metadata": {},
     "output_type": "execute_result"
    }
   ],
   "execution_count": null
  },
  {
   "cell_type": "markdown",
   "source": "## Filling in missing data\n\nIf you prefer to replace the NaN values with a specific value, instead of having them propagated or flat out ignored, you can use the .fillna() method. The following code fills the NaN values with 0:",
   "metadata": {
    "cell_id": "00032-06197a79-e253-4d3c-9b0b-bbe5fd169828",
    "deepnote_cell_type": "markdown"
   }
  },
  {
   "cell_type": "code",
   "metadata": {
    "cell_id": "00033-e3ed3ddd-6556-4eb6-a402-f770fa570c00",
    "deepnote_cell_type": "code"
   },
   "source": "# return a new DataFrame with NaN values filled with 0\nfilled = df.fillna(0)\nfilled",
   "outputs": [
    {
     "data": {
      "text/plain": "   col1  col2  col3    c4   c5\na   0.0   1.0   2.0  20.0  0.0\nb   3.0   4.0   5.0   0.0  0.0\nc   6.0   7.0   8.0   0.0  0.0\nd   9.0  10.0  11.0   0.0  0.0\ne  12.0  13.0  14.0   0.0  0.0\nf  15.0  16.0  17.0  18.0  0.0\ng   0.0   0.0   0.0   0.0  0.0"
     },
     "execution_count": 27,
     "metadata": {},
     "output_type": "execute_result"
    }
   ],
   "execution_count": null
  },
  {
   "cell_type": "code",
   "metadata": {
    "cell_id": "00034-24f02353-9148-44df-b403-c2bb9c379f34",
    "deepnote_cell_type": "code"
   },
   "source": "# having replaced NaN with 0 can make\n# operations such as mean have different results\nfilled.mean()",
   "outputs": [
    {
     "data": {
      "text/plain": "col1    6.428571\ncol2    7.285714\ncol3    8.142857\nc4      5.428571\nc5      0.000000\ndtype: float64"
     },
     "execution_count": 28,
     "metadata": {},
     "output_type": "execute_result"
    }
   ],
   "execution_count": null
  },
  {
   "cell_type": "markdown",
   "source": "It is also possible to limit the number of times that the data will be filled using the limit parameter. Each time the NaN values are identified, pandas will fill the NaN values with the previous value up to the limit times in each group of NaN values.",
   "metadata": {
    "cell_id": "00035-cba5d4e5-297f-453e-9f83-3c99829c1651",
    "deepnote_cell_type": "markdown"
   }
  },
  {
   "cell_type": "code",
   "metadata": {
    "cell_id": "00036-d193dab2-ba60-4dc6-984f-29b0cd8dac20",
    "deepnote_cell_type": "code"
   },
   "source": "# only fills the first two NaN values in each row with 0\ndf.fillna(0,limit=2)",
   "outputs": [
    {
     "data": {
      "text/plain": "   col1  col2  col3    c4   c5\na   0.0   1.0   2.0  20.0  0.0\nb   3.0   4.0   5.0   0.0  0.0\nc   6.0   7.0   8.0   0.0  NaN\nd   9.0  10.0  11.0   NaN  NaN\ne  12.0  13.0  14.0   NaN  NaN\nf  15.0  16.0  17.0  18.0  NaN\ng   0.0   0.0   0.0   NaN  NaN"
     },
     "execution_count": 29,
     "metadata": {},
     "output_type": "execute_result"
    }
   ],
   "execution_count": null
  },
  {
   "cell_type": "markdown",
   "source": "#### Forward and Backward Filling of Missing Values\n\nGaps in data can be filled by propagating the non-NaN values forward or backward along a Series. To demonstrate this, the following example will \"fill forward\" the c4 column of DataFrame:",
   "metadata": {
    "cell_id": "00037-3e88d5ba-54ac-4bbc-ad9a-861375d758e1",
    "deepnote_cell_type": "markdown"
   }
  },
  {
   "cell_type": "code",
   "metadata": {
    "cell_id": "00038-e2f8c844-4036-445c-b932-391f5b646d57",
    "deepnote_cell_type": "code"
   },
   "source": "# extract the c4 column and fill NaNs forward\ndf.c4.fillna(method=\"ffill\")",
   "outputs": [
    {
     "data": {
      "text/plain": "a    20.0\nb    20.0\nc    20.0\nd    20.0\ne    20.0\nf    18.0\ng    18.0\nName: c4, dtype: float64"
     },
     "execution_count": 30,
     "metadata": {},
     "output_type": "execute_result"
    }
   ],
   "execution_count": null
  },
  {
   "cell_type": "code",
   "metadata": {
    "cell_id": "00039-06d0e0ae-75fc-4867-93f5-9a8303a7de6f",
    "deepnote_cell_type": "code"
   },
   "source": "# perform a backword fill\ndf.c4.fillna(method=\"bfill\")",
   "outputs": [
    {
     "data": {
      "text/plain": "a    20.0\nb    18.0\nc    18.0\nd    18.0\ne    18.0\nf    18.0\ng     NaN\nName: c4, dtype: float64"
     },
     "execution_count": 31,
     "metadata": {},
     "output_type": "execute_result"
    }
   ],
   "execution_count": null
  },
  {
   "cell_type": "markdown",
   "source": "You can also use the convenient functions pd.ffill() or pd.bfill()",
   "metadata": {
    "cell_id": "00040-beb8a5be-e9a8-4a57-93da-4bfa3b6654f9",
    "deepnote_cell_type": "markdown"
   }
  },
  {
   "cell_type": "markdown",
   "source": "## Filling Using index labels",
   "metadata": {
    "cell_id": "00041-de514d4e-e55b-4a06-8153-e2bce82cc873",
    "deepnote_cell_type": "markdown"
   }
  },
  {
   "cell_type": "code",
   "metadata": {
    "cell_id": "00042-9f4d7e96-a023-475c-a531-a4364903fc05",
    "deepnote_cell_type": "code"
   },
   "source": "# create a new series of values to be\n# used to fill NaN values where the index label matches\nfill_values = pd.Series([100,101,102], index=['a','e','g'])\nfill_values",
   "outputs": [
    {
     "data": {
      "text/plain": "a    100\ne    101\ng    102\ndtype: int64"
     },
     "execution_count": 33,
     "metadata": {},
     "output_type": "execute_result"
    }
   ],
   "execution_count": null
  },
  {
   "cell_type": "code",
   "metadata": {
    "cell_id": "00043-f5ff85ed-8b9a-40b8-b0c2-d2d9e6f7cb0e",
    "deepnote_cell_type": "code"
   },
   "source": "# using c4, fill using fill_values\n# a, e and g will be filled with matching values\ndf.c4.fillna(fill_values)",
   "outputs": [
    {
     "data": {
      "text/plain": "a     20.0\nb      NaN\nc      NaN\nd      NaN\ne    101.0\nf     18.0\ng    102.0\nName: c4, dtype: float64"
     },
     "execution_count": 34,
     "metadata": {},
     "output_type": "execute_result"
    }
   ],
   "execution_count": null
  },
  {
   "cell_type": "code",
   "metadata": {
    "cell_id": "00044-bc3ab4b6-eb78-4e8c-8ddb-1330656f5035",
    "deepnote_cell_type": "code"
   },
   "source": "# fill NaN values in each column with the\n# mean of the values in that column\ndf.fillna(df.mean())",
   "outputs": [
    {
     "data": {
      "text/plain": "   col1  col2  col3    c4  c5\na   0.0   1.0   2.0  20.0 NaN\nb   3.0   4.0   5.0  19.0 NaN\nc   6.0   7.0   8.0  19.0 NaN\nd   9.0  10.0  11.0  19.0 NaN\ne  12.0  13.0  14.0  19.0 NaN\nf  15.0  16.0  17.0  18.0 NaN\ng   7.5   8.5   9.5  19.0 NaN"
     },
     "execution_count": 35,
     "metadata": {},
     "output_type": "execute_result"
    }
   ],
   "execution_count": null
  },
  {
   "cell_type": "markdown",
   "source": "## Interpolation of missing values\n\nBoth DataFrame and Series have an .interpolate() method that will, by default, perform a linear interpolation of missing values:",
   "metadata": {
    "cell_id": "00045-44bc2970-580a-4871-a46d-2c9fc98f6abc",
    "deepnote_cell_type": "markdown"
   }
  },
  {
   "cell_type": "code",
   "metadata": {
    "cell_id": "00046-d212eea1-871a-4781-b391-a1303387c9e7",
    "deepnote_cell_type": "code"
   },
   "source": "# linear interpolate the NaN values from 1 through 2\ns = pd.Series([1,np.nan,np.nan,np.nan,2])\ns.interpolate()",
   "outputs": [
    {
     "data": {
      "text/plain": "0    1.00\n1    1.25\n2    1.50\n3    1.75\n4    2.00\ndtype: float64"
     },
     "execution_count": 36,
     "metadata": {},
     "output_type": "execute_result"
    }
   ],
   "execution_count": null
  },
  {
   "cell_type": "markdown",
   "source": "The value of interpolation is calculated by taking the first value before and after any sequence of NaN values and then incrementally adding that value from the start and substituting NaN values. In this case, 2.0 and 1.0 are the surrounding values resulting in (2.0-1.0)/(5-1)=0.25 which is then added incrementally through all the NaN values.\n\nThe interpolation method also has the ability to specify a specific method of interpolation, one of the common methods is to use time-based interpolation.",
   "metadata": {
    "cell_id": "00047-6179f2c9-7293-4cfe-a56a-3b9ba0792239",
    "deepnote_cell_type": "markdown"
   }
  },
  {
   "cell_type": "code",
   "metadata": {
    "cell_id": "00048-71ce0918-7788-4a43-bea3-9c93a9831c35",
    "deepnote_cell_type": "code"
   },
   "source": "# create a time series, but missing one date in the Series\nts = pd.Series([1,np.nan,3],index=[datetime.datetime(2014,1,1),datetime.datetime(2014,2,1),datetime.datetime(2014,4,1)])\nts",
   "outputs": [
    {
     "data": {
      "text/plain": "2014-01-01    1.0\n2014-02-01    NaN\n2014-04-01    3.0\ndtype: float64"
     },
     "execution_count": 37,
     "metadata": {},
     "output_type": "execute_result"
    }
   ],
   "execution_count": null
  },
  {
   "cell_type": "code",
   "metadata": {
    "cell_id": "00049-a9465797-2d5e-45c6-b536-a8efb1ed4e19",
    "deepnote_cell_type": "code"
   },
   "source": "ts.interpolate()",
   "outputs": [
    {
     "data": {
      "text/plain": "2014-01-01    1.0\n2014-02-01    2.0\n2014-04-01    3.0\ndtype: float64"
     },
     "execution_count": 38,
     "metadata": {},
     "output_type": "execute_result"
    }
   ],
   "execution_count": null
  },
  {
   "cell_type": "markdown",
   "source": "The important thing to note is that the series is missing an entry for 2014-03-01. If we were expecting to interpolate daily values, there would be two values calculated one for 2014-02-01 and another for 2014-03-01 resulting in one more value in the numerator of the interpolation.",
   "metadata": {
    "cell_id": "00050-4625b4a6-eca0-4d26-9875-a6295fc5be80",
    "deepnote_cell_type": "markdown"
   }
  },
  {
   "cell_type": "code",
   "metadata": {
    "cell_id": "00051-20e67a78-8a34-49d2-a978-744b5a723fcc",
    "deepnote_cell_type": "code"
   },
   "source": "# this accounts for the fact that we dont have\n# an entry for 2014-03-01\nts.interpolate(method=\"time\")",
   "outputs": [
    {
     "data": {
      "text/plain": "2014-01-01    1.000000\n2014-02-01    1.688889\n2014-04-01    3.000000\ndtype: float64"
     },
     "execution_count": 39,
     "metadata": {},
     "output_type": "execute_result"
    }
   ],
   "execution_count": null
  },
  {
   "cell_type": "markdown",
   "source": "Interpolation can also be specified to calculate values relative to the index values when using numeric index labels.",
   "metadata": {
    "cell_id": "00052-eb51cfc6-a557-419d-b066-8e85a6a1a321",
    "deepnote_cell_type": "markdown"
   }
  },
  {
   "cell_type": "code",
   "metadata": {
    "cell_id": "00053-1779a5bb-40d4-4c27-bdff-379939bf9379",
    "deepnote_cell_type": "code"
   },
   "source": "# a series to demonstrate index label based interpolation\ns = pd.Series([0,np.nan,100], index=[0,1,10])\ns",
   "outputs": [
    {
     "data": {
      "text/plain": "0       0.0\n1       NaN\n10    100.0\ndtype: float64"
     },
     "execution_count": 40,
     "metadata": {},
     "output_type": "execute_result"
    }
   ],
   "execution_count": null
  },
  {
   "cell_type": "code",
   "metadata": {
    "cell_id": "00054-33eec324-819e-47ac-be34-8f0af6e51a6d",
    "deepnote_cell_type": "code"
   },
   "source": "# linear interpolate\ns.interpolate()",
   "outputs": [
    {
     "data": {
      "text/plain": "0       0.0\n1      50.0\n10    100.0\ndtype: float64"
     },
     "execution_count": 41,
     "metadata": {},
     "output_type": "execute_result"
    }
   ],
   "execution_count": null
  },
  {
   "cell_type": "code",
   "metadata": {
    "cell_id": "00055-000fd249-bae4-468c-9307-facbd31b7c1a",
    "deepnote_cell_type": "code"
   },
   "source": "# interpolate based upon the values in the index\ns.interpolate(method=\"values\")",
   "outputs": [
    {
     "data": {
      "text/plain": "0       0.0\n1      10.0\n10    100.0\ndtype: float64"
     },
     "execution_count": 42,
     "metadata": {},
     "output_type": "execute_result"
    }
   ],
   "execution_count": null
  },
  {
   "cell_type": "markdown",
   "source": "Now the value calculated for NaN is interpolated using relative positioning based upon the labels in the index. The NaN value has a label of 1, which is one tenth of the way between 0 and 10 so the interpolated value will be\n0 + (100-0)/10 or 10.",
   "metadata": {
    "cell_id": "00056-4ef04af4-0c47-42d2-8b81-ffd29662d9fe",
    "deepnote_cell_type": "markdown"
   }
  },
  {
   "cell_type": "markdown",
   "source": "## Handling Duplicate Data\n\nOften it is considered best to erron the side of having duplicates instead of missing data, especially if the data is considered to be idempotent. However duplicate data can increase the size of the dataset and if it is not idempotent, then it would not be appropriate to process the duplicates.",
   "metadata": {
    "cell_id": "00057-0d0f39da-7566-46fe-a8ae-0d280171ea8a",
    "deepnote_cell_type": "markdown"
   }
  },
  {
   "cell_type": "code",
   "metadata": {
    "cell_id": "00058-053e63f2-8dfe-457c-bd2b-5fef3afef8a3",
    "deepnote_cell_type": "code"
   },
   "source": "# a DataFrame with lots of duplicate data\ndata = pd.DataFrame({'a':['x'] * 3 + ['y'] * 4,'b':[1,1,2,3,3,4,4]})\ndata",
   "outputs": [
    {
     "data": {
      "text/plain": "   a  b\n0  x  1\n1  x  1\n2  x  2\n3  y  3\n4  y  3\n5  y  4\n6  y  4"
     },
     "execution_count": 43,
     "metadata": {},
     "output_type": "execute_result"
    }
   ],
   "execution_count": null
  },
  {
   "cell_type": "code",
   "metadata": {
    "cell_id": "00059-48d8b3f1-5bd0-40c4-b0b5-ea4e1e3a7973",
    "deepnote_cell_type": "code"
   },
   "source": "# reports which rows are duplicates based upon\n# if the data in all columns was seen before\ndata.duplicated()",
   "outputs": [
    {
     "data": {
      "text/plain": "0    False\n1     True\n2    False\n3    False\n4     True\n5    False\n6     True\ndtype: bool"
     },
     "execution_count": 44,
     "metadata": {},
     "output_type": "execute_result"
    }
   ],
   "execution_count": null
  },
  {
   "cell_type": "code",
   "metadata": {
    "cell_id": "00060-ec932fb0-af2f-43ef-87e2-b56e9419704a",
    "deepnote_cell_type": "code"
   },
   "source": "# drop duplicate rows retaining first row of the duplicates\ndata.drop_duplicates()",
   "outputs": [
    {
     "data": {
      "text/plain": "   a  b\n0  x  1\n2  x  2\n3  y  3\n5  y  4"
     },
     "execution_count": 45,
     "metadata": {},
     "output_type": "execute_result"
    }
   ],
   "execution_count": null
  },
  {
   "cell_type": "markdown",
   "source": "The default operation is to keep the first row of the duplicates. If you want to keep the last row of duplicates, you can use the take_last=True parameter.",
   "metadata": {
    "cell_id": "00061-b2435886-8bd2-4152-a316-2bee622c885f",
    "deepnote_cell_type": "markdown"
   }
  },
  {
   "cell_type": "code",
   "metadata": {
    "cell_id": "00062-fcf2897d-3abf-4ef0-aab8-9cb665d694b7",
    "deepnote_cell_type": "code"
   },
   "source": "# drop duplicate rows only keeping the first instance of any data\ndata.drop_duplicates(keep=\"last\")",
   "outputs": [
    {
     "data": {
      "text/plain": "   a  b\n1  x  1\n2  x  2\n4  y  3\n6  y  4"
     },
     "execution_count": 49,
     "metadata": {},
     "output_type": "execute_result"
    }
   ],
   "execution_count": null
  },
  {
   "cell_type": "code",
   "metadata": {
    "cell_id": "00063-c293a060-354a-4437-a3d7-2701428c10f7",
    "deepnote_cell_type": "code"
   },
   "source": "# add a column c with values 0..6\n# this makes .duplicated() report no duplicate rows\ndata['c'] = range(7)\ndata.duplicated()",
   "outputs": [
    {
     "data": {
      "text/plain": "0    False\n1    False\n2    False\n3    False\n4    False\n5    False\n6    False\ndtype: bool"
     },
     "execution_count": 50,
     "metadata": {},
     "output_type": "execute_result"
    }
   ],
   "execution_count": null
  },
  {
   "cell_type": "code",
   "metadata": {
    "cell_id": "00064-4914ca7a-6887-4281-acac-62f2253109c7",
    "deepnote_cell_type": "code"
   },
   "source": "# but if we specify duplicates to be dropped in columns a & b\n# they will be dropped\ndata.drop_duplicates(['a','b'])",
   "outputs": [
    {
     "data": {
      "text/plain": "   a  b  c\n0  x  1  0\n2  x  2  2\n3  y  3  3\n5  y  4  5"
     },
     "execution_count": 51,
     "metadata": {},
     "output_type": "execute_result"
    }
   ],
   "execution_count": null
  },
  {
   "cell_type": "markdown",
   "source": "## Transforming Data\n\nTransformation is required for following reasons:\n* Values are not in the correct units\n* Values are qualitative and need to be converted to appropriate numeric values\n* Extraneous data that either wastes memory and processing time or can affect results simply by being included\n\nTo address these situations we can take one or more of the following actions:\n* Map values to other values using a table lookup process\n* Explicitly replace certain values with other values\n* Apply methods to transform the values based on an algorithm\n* Simple remove extraneous columns and rows\n\n### Mapping\n\npandas provides a generic ability to map values using a lookup table using the .map() method. This method performs the mapping by matching the values of the outer Series with the index labels of the inner Series returning a new Series with the index labels of the outer Series but the values from the inner Series:",
   "metadata": {
    "cell_id": "00065-1ef0e272-2fda-40ae-9248-2474cd8aab10",
    "deepnote_cell_type": "markdown"
   }
  },
  {
   "cell_type": "code",
   "metadata": {
    "cell_id": "00066-5b4cac32-839a-4718-8790-44146fd7348c",
    "deepnote_cell_type": "code"
   },
   "source": "# create two Series objects to demonstrate mapping\nx = pd.Series({\"one\":1,\"two\":2,\"three\":3})\ny = pd.Series({1:\"a\",2:\"b\",3:\"c\"})\nx",
   "outputs": [
    {
     "data": {
      "text/plain": "one      1\nthree    3\ntwo      2\ndtype: int64"
     },
     "execution_count": 52,
     "metadata": {},
     "output_type": "execute_result"
    }
   ],
   "execution_count": null
  },
  {
   "cell_type": "code",
   "metadata": {
    "cell_id": "00067-76ce663a-49da-45a6-8f3d-0eb956dfb9ae",
    "deepnote_cell_type": "code"
   },
   "source": "y",
   "outputs": [
    {
     "data": {
      "text/plain": "1    a\n2    b\n3    c\ndtype: object"
     },
     "execution_count": 53,
     "metadata": {},
     "output_type": "execute_result"
    }
   ],
   "execution_count": null
  },
  {
   "cell_type": "code",
   "metadata": {
    "cell_id": "00068-b6b4b071-3fdb-4336-a750-51ed82162dbb",
    "deepnote_cell_type": "code"
   },
   "source": "# map values in x to values in y\nx.map(y)",
   "outputs": [
    {
     "data": {
      "text/plain": "one      a\nthree    c\ntwo      b\ndtype: object"
     },
     "execution_count": 54,
     "metadata": {},
     "output_type": "execute_result"
    }
   ],
   "execution_count": null
  },
  {
   "cell_type": "code",
   "metadata": {
    "cell_id": "00069-c6602c47-784d-4ec3-9fd4-d121de987f52",
    "deepnote_cell_type": "code"
   },
   "source": "# three in x will not align / map to a value in y\nx = pd.Series({\"one\":1,\"two\":2,\"three\":3})\ny = pd.Series({1:\"a\",2:\"b\"})\nx.map(y)",
   "outputs": [
    {
     "data": {
      "text/plain": "one        a\nthree    NaN\ntwo        b\ndtype: object"
     },
     "execution_count": 55,
     "metadata": {},
     "output_type": "execute_result"
    }
   ],
   "execution_count": null
  },
  {
   "cell_type": "markdown",
   "source": "### Replacing Values",
   "metadata": {
    "cell_id": "00070-05e11f47-4aab-4937-ad31-837a9ec4ca9b",
    "deepnote_cell_type": "markdown"
   }
  },
  {
   "cell_type": "code",
   "metadata": {
    "cell_id": "00071-83604b16-cf03-4a89-ae6a-ed2d6da9d560",
    "deepnote_cell_type": "code"
   },
   "source": "# create a Series to demonstrate replace\ns = pd.Series([0.,1.,2.,3.,4.])\ns",
   "outputs": [
    {
     "data": {
      "text/plain": "0    0.0\n1    1.0\n2    2.0\n3    3.0\n4    4.0\ndtype: float64"
     },
     "execution_count": 56,
     "metadata": {},
     "output_type": "execute_result"
    }
   ],
   "execution_count": null
  },
  {
   "cell_type": "code",
   "metadata": {
    "cell_id": "00072-50450e58-b077-47a1-a445-ab2324b29f8f",
    "deepnote_cell_type": "code"
   },
   "source": "# replace all items with index label 2 with value 5\ns.replace(2,5)",
   "outputs": [
    {
     "data": {
      "text/plain": "0    0.0\n1    1.0\n2    5.0\n3    3.0\n4    4.0\ndtype: float64"
     },
     "execution_count": 57,
     "metadata": {},
     "output_type": "execute_result"
    }
   ],
   "execution_count": null
  },
  {
   "cell_type": "code",
   "metadata": {
    "cell_id": "00073-a771fe6a-a9c3-4419-aa98-454cba5c338b",
    "deepnote_cell_type": "code"
   },
   "source": "# replace all items with new values\ns.replace([0,1,2,3,4],[4,3,2,1,0])",
   "outputs": [
    {
     "data": {
      "text/plain": "0    4.0\n1    3.0\n2    2.0\n3    1.0\n4    0.0\ndtype: float64"
     },
     "execution_count": 58,
     "metadata": {},
     "output_type": "execute_result"
    }
   ],
   "execution_count": null
  },
  {
   "cell_type": "code",
   "metadata": {
    "cell_id": "00074-9e02a4b1-d2aa-4262-8043-d061706c9b9a",
    "deepnote_cell_type": "code"
   },
   "source": "# replace using entries in a dictionary\ns.replace({0:10,1:100})",
   "outputs": [
    {
     "data": {
      "text/plain": "0     10.0\n1    100.0\n2      2.0\n3      3.0\n4      4.0\ndtype: float64"
     },
     "execution_count": 59,
     "metadata": {},
     "output_type": "execute_result"
    }
   ],
   "execution_count": null
  },
  {
   "cell_type": "markdown",
   "source": "If using .replace() on a DataFrame, it is possible to specify different replacement values for each column. This is performed by passing a Python dictionary to the .replace() method, where the keys of the dictionary represent the names of the columns where replacement is to occur and the values of the dictionary are values that you want to replace. The second parameter to the method is the value that will be replaced where any matches are found.",
   "metadata": {
    "cell_id": "00075-610255d6-a108-4451-a50c-9282d968cddc",
    "deepnote_cell_type": "markdown"
   }
  },
  {
   "cell_type": "code",
   "metadata": {
    "cell_id": "00076-2aa1ebf2-bced-4331-bd3e-cb4d81a03095",
    "deepnote_cell_type": "code"
   },
   "source": "# DataFrame with two columns\ndf = pd.DataFrame({'a':[0,1,2,3,4],'b':[5,6,7,8,9]})\ndf",
   "outputs": [
    {
     "data": {
      "text/plain": "   a  b\n0  0  5\n1  1  6\n2  2  7\n3  3  8\n4  4  9"
     },
     "execution_count": 60,
     "metadata": {},
     "output_type": "execute_result"
    }
   ],
   "execution_count": null
  },
  {
   "cell_type": "code",
   "metadata": {
    "cell_id": "00077-eaceb5d6-37b3-42be-b8a8-2d6969e93782",
    "deepnote_cell_type": "code"
   },
   "source": "# specify different replacement values for each column\ndf.replace({'a':1,'b':8}, 100)",
   "outputs": [
    {
     "data": {
      "text/plain": "     a    b\n0    0    5\n1  100    6\n2    2    7\n3    3  100\n4    4    9"
     },
     "execution_count": 61,
     "metadata": {},
     "output_type": "execute_result"
    }
   ],
   "execution_count": null
  },
  {
   "cell_type": "markdown",
   "source": "Replacing specific values in each of the columns is very convenient, as it provides a shorthand for what otherwise would require coding a loop through all the columns.",
   "metadata": {
    "cell_id": "00078-97259b90-8976-41e2-968d-49e4f4e0faaf",
    "deepnote_cell_type": "markdown"
   }
  },
  {
   "cell_type": "code",
   "metadata": {
    "cell_id": "00079-22274e61-631b-4136-b5ed-feca19f97040",
    "deepnote_cell_type": "code"
   },
   "source": "# demonstrate replacement with pad method\n# set first item to 10, to have a distinct replacement value\ns[0] = 10\ns",
   "outputs": [
    {
     "data": {
      "text/plain": "0    10.0\n1     1.0\n2     2.0\n3     3.0\n4     4.0\ndtype: float64"
     },
     "execution_count": 64,
     "metadata": {},
     "output_type": "execute_result"
    }
   ],
   "execution_count": null
  },
  {
   "cell_type": "code",
   "metadata": {
    "cell_id": "00080-80f87732-4d14-4dbd-9f41-41017dc3bfdf",
    "deepnote_cell_type": "code"
   },
   "source": "# replace items with index label 1,2,3 using fill from the\n# most recent value prior to the specified labels (10)\ns.replace([1,2,3],method='pad')",
   "outputs": [
    {
     "data": {
      "text/plain": "0    10.0\n1    10.0\n2    10.0\n3    10.0\n4     4.0\ndtype: float64"
     },
     "execution_count": 65,
     "metadata": {},
     "output_type": "execute_result"
    }
   ],
   "execution_count": null
  },
  {
   "cell_type": "markdown",
   "source": "## Applying Functions to Transform Data\n\npandas provides the ability to apply functions to individual items, entire columns, entire rows providing incredible flexibility in transformation.\n\nFunctions can be applied using the conveniently named .apply() method, which given a Python function, will iteratively call the function passing in each value from a Series, or each Series representing a DataFrame column, or a list of values representing each row in a DataFrame.",
   "metadata": {
    "cell_id": "00081-7856d5bb-d0ce-41c0-a240-cf1ae93a1ce6",
    "deepnote_cell_type": "markdown"
   }
  },
  {
   "cell_type": "code",
   "metadata": {
    "cell_id": "00082-c439e96c-6e8a-42a6-9121-b6d8b955bb32",
    "deepnote_cell_type": "code"
   },
   "source": "# demonstrate applying a function to every item of a series\ns = pd.Series(np.arange(0,5))\ns.apply(lambda x: x * 2)",
   "outputs": [
    {
     "data": {
      "text/plain": "0    0\n1    2\n2    4\n3    6\n4    8\ndtype: int64"
     },
     "execution_count": 66,
     "metadata": {},
     "output_type": "execute_result"
    }
   ],
   "execution_count": null
  },
  {
   "cell_type": "code",
   "metadata": {
    "cell_id": "00083-160766a5-10ab-4c07-95c0-98e3538f87d5",
    "deepnote_cell_type": "code"
   },
   "source": "# demonstrate applying a sum on each column\ndf = pd.DataFrame(np.arange(12).reshape(4,3),columns=['a','b','c'])\ndf",
   "outputs": [
    {
     "data": {
      "text/plain": "   a   b   c\n0  0   1   2\n1  3   4   5\n2  6   7   8\n3  9  10  11"
     },
     "execution_count": 67,
     "metadata": {},
     "output_type": "execute_result"
    }
   ],
   "execution_count": null
  },
  {
   "cell_type": "code",
   "metadata": {
    "cell_id": "00084-1cb21a30-18d1-43c1-a409-db434961daf0",
    "deepnote_cell_type": "code"
   },
   "source": "# calculate cumulative sum of items in each column\ndf.apply(lambda col: col.sum())",
   "outputs": [
    {
     "data": {
      "text/plain": "a    18\nb    22\nc    26\ndtype: int64"
     },
     "execution_count": 68,
     "metadata": {},
     "output_type": "execute_result"
    }
   ],
   "execution_count": null
  },
  {
   "cell_type": "code",
   "metadata": {
    "cell_id": "00085-0592d0ae-e576-4138-b6f6-54885205862e",
    "deepnote_cell_type": "code"
   },
   "source": "# calculate the sum of items in each row\ndf.apply(lambda row: row.sum(),axis=1)",
   "outputs": [
    {
     "data": {
      "text/plain": "0     3\n1    12\n2    21\n3    30\ndtype: int64"
     },
     "execution_count": 69,
     "metadata": {},
     "output_type": "execute_result"
    }
   ],
   "execution_count": null
  },
  {
   "cell_type": "markdown",
   "source": "A common practice is to take result of an apply operation and add it as a new column of the DataFrame. This is convenient as you can add into the DataFrame the result of one or more successive calculations.",
   "metadata": {
    "cell_id": "00086-c601e3ab-18b8-45d2-95d0-909e2757e8c3",
    "deepnote_cell_type": "markdown"
   }
  },
  {
   "cell_type": "code",
   "metadata": {
    "cell_id": "00087-2ac1371a-5086-4b04-a51d-f717a17ac85b",
    "deepnote_cell_type": "code"
   },
   "source": "# create a new column 'interim' with a * b\ndf['interim'] = df.apply(lambda r: r.a * r.b,axis=1)\ndf",
   "outputs": [
    {
     "data": {
      "text/plain": "   a   b   c  interim\n0  0   1   2        0\n1  3   4   5       12\n2  6   7   8       42\n3  9  10  11       90"
     },
     "execution_count": 70,
     "metadata": {},
     "output_type": "execute_result"
    }
   ],
   "execution_count": null
  },
  {
   "cell_type": "code",
   "metadata": {
    "cell_id": "00088-b97be19b-df96-40ee-8bd0-8d3378f0a380",
    "deepnote_cell_type": "code"
   },
   "source": "# and now a 'result' column with 'interim' + 'c'\ndf['result'] = df.apply(lambda r: r.interim + r.c, axis=1)\ndf",
   "outputs": [
    {
     "data": {
      "text/plain": "   a   b   c  interim  result\n0  0   1   2        0       2\n1  3   4   5       12      17\n2  6   7   8       42      50\n3  9  10  11       90     101"
     },
     "execution_count": 72,
     "metadata": {},
     "output_type": "execute_result"
    }
   ],
   "execution_count": null
  },
  {
   "cell_type": "code",
   "metadata": {
    "cell_id": "00089-be276335-adde-4e81-83aa-d68e2eb1927b",
    "deepnote_cell_type": "code"
   },
   "source": "# replace column a with the sum of columns a,b and c\ndf.a = df.a + df.b + df.c\ndf",
   "outputs": [
    {
     "data": {
      "text/plain": "    a   b   c  interim  result\n0   3   1   2        0       2\n1  12   4   5       12      17\n2  21   7   8       42      50\n3  30  10  11       90     101"
     },
     "execution_count": 73,
     "metadata": {},
     "output_type": "execute_result"
    }
   ],
   "execution_count": null
  },
  {
   "cell_type": "markdown",
   "source": "Important point to note is that pandas DataFrame is not a spreadsheet where cells are assigned formulas and can be recalculated when cells that are referenced by the formula change. If you desire this to happen, you will need to execute the formulas whenever the dependent data changes. On the flip side, this is more efficient than with spreadsheets as every little change does not cause a cascade of operations to occur.\n\nThe .apply() method will always apply to the provided function to all of the items or rows or columns. If you want to apply the function to a subset of these, then first perform a Boolean selection to filter all the items you do not want to process.",
   "metadata": {
    "cell_id": "00090-3ad75656-afef-46a4-aa0d-34fc598c06ad",
    "deepnote_cell_type": "markdown"
   }
  },
  {
   "cell_type": "code",
   "metadata": {
    "cell_id": "00091-d09e2914-864e-4b96-90f0-c24b9357bbb2",
    "deepnote_cell_type": "code"
   },
   "source": "# create a 3 X 5 dataframe\ndf = pd.DataFrame(np.arange(0,15).reshape(3,5))\ndf.loc[1,2]= np.nan\ndf",
   "outputs": [
    {
     "data": {
      "text/plain": "    0   1     2   3   4\n0   0   1   2.0   3   4\n1   5   6   NaN   8   9\n2  10  11  12.0  13  14"
     },
     "execution_count": 75,
     "metadata": {},
     "output_type": "execute_result"
    }
   ],
   "execution_count": null
  },
  {
   "cell_type": "code",
   "metadata": {
    "cell_id": "00092-9f50867a-53ea-4277-a401-b6b8b66d6fd2",
    "deepnote_cell_type": "code"
   },
   "source": "# demonstrate applying a function to only rows having\n# a count of 0 NaN values\ndf.dropna().apply(lambda x:x.sum(), axis=1)",
   "outputs": [
    {
     "data": {
      "text/plain": "0    10.0\n2    60.0\ndtype: float64"
     },
     "execution_count": 76,
     "metadata": {},
     "output_type": "execute_result"
    }
   ],
   "execution_count": null
  },
  {
   "cell_type": "markdown",
   "source": "The .apply() method was always passed an entire row or column. If you desire to apply a function to every individual item in the DataFrame one by one then .applymap() is the method to use.",
   "metadata": {
    "cell_id": "00093-891bcbfd-a79f-437d-9b4d-0ee51fd8b587",
    "deepnote_cell_type": "markdown"
   }
  },
  {
   "cell_type": "code",
   "metadata": {
    "cell_id": "00094-dd7e0a84-ba7e-42e8-9dda-cddc2f391449",
    "deepnote_cell_type": "code"
   },
   "source": "# use applymap to format all items of the DataFrame\ndf.applymap(lambda x: '%.2f' % x)",
   "outputs": [
    {
     "data": {
      "text/plain": "       0      1      2      3      4\n0   0.00   1.00   2.00   3.00   4.00\n1   5.00   6.00    nan   8.00   9.00\n2  10.00  11.00  12.00  13.00  14.00"
     },
     "execution_count": 77,
     "metadata": {},
     "output_type": "execute_result"
    }
   ],
   "execution_count": null
  },
  {
   "cell_type": "markdown",
   "source": "<a style='text-decoration:none;line-height:16px;display:flex;color:#5B5B62;padding:10px;justify-content:end;' href='https://deepnote.com?utm_source=created-in-deepnote-cell&projectId=30b5f66f-e6a5-4e83-8134-c70f8eed277d' target=\"_blank\">\n<img alt='Created in deepnote.com' style='display:inline;max-height:16px;margin:0px;margin-right:7.5px;' src='data:image/svg+xml;base64,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' > </img>\nCreated in <span style='font-weight:600;margin-left:4px;'>Deepnote</span></a>",
   "metadata": {
    "tags": [],
    "created_in_deepnote_cell": true,
    "deepnote_cell_type": "markdown"
   }
  }
 ],
 "nbformat": 4,
 "nbformat_minor": 2,
 "metadata": {
  "kernelspec": {
   "display_name": "Python 3",
   "language": "python",
   "name": "python3"
  },
  "language_info": {
   "codemirror_mode": {
    "name": "ipython",
    "version": 3
   },
   "file_extension": ".py",
   "mimetype": "text/x-python",
   "name": "python",
   "nbconvert_exporter": "python",
   "pygments_lexer": "ipython3",
   "version": "3.6.1"
  },
  "deepnote_notebook_id": "11a0c913-fe7b-496b-9fe3-3827105f08f8",
  "deepnote": {},
  "deepnote_execution_queue": []
 }
}