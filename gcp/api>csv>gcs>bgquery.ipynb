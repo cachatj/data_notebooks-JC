{
 "cells": [
  {
   "cell_type": "markdown",
   "metadata": {},
   "source": [
    "# Pre steps before creating Datalab Notebook\n",
    "As this needs a GCP Project below steps were perfomed to create Environment for Development\n",
    "#Pre steps before creating Datalab VM\n",
    "* Signed up for GCP Trial with new e-mail address\n",
    "* Install Google cloud SDK tools on my machine\n",
    "* Open Google cloud SDK shell CLI\n",
    "* Cross check Gcloud config - gcloud config list\n",
    "* If not desired project and admin user account, who have permissions create resources - change this by running below commands\n",
    "* Run this command to change project - gloud config set project project_id \n",
    "* Run this command to change account - gcloud config set account user_account_name\n",
    "* Install Datalab components - gcloud components install datalab\n",
    "* Created Datalab instance named \"AICoinMarketCap\" - datalab create --zone us-east1-b AI-CoinMarketCap\n",
    "* If any authorization error comes then go to link provided and authorize to access the Project to give access to project.\n",
    "* Gcloud auth login – allowed access to Gcloud SDK\n",
    "* Created Datalab instance named \"AICoinMarketCap\" - datalab create --zone us-east1-b AI-CoinMarketCap\n",
    "* Go to http://localhost:8081/ as given on console\n",
    "* create a new Notebook CoinMarketCap_DataAnalytics_Solution\n",
    "\n"
   ]
  },
  {
   "cell_type": "markdown",
   "metadata": {},
   "source": [
    "# Create Storage bucket and BQ Dataset using API\n",
    "\n",
    "Check the Project context to make sure that we are using the correct Project"
   ]
  },
  {
   "cell_type": "code",
   "execution_count": 165,
   "metadata": {
    "collapsed": false
   },
   "outputs": [
    {
     "name": "stdout",
     "output_type": "stream",
     "text": [
      "casertachallenge\n"
     ]
    }
   ],
   "source": [
    "from google.datalab import Context\n",
    "\n",
    "project = Context.default().project_id\n",
    "print (project)\n"
   ]
  },
  {
   "cell_type": "markdown",
   "metadata": {},
   "source": [
    "Create bucket using storage API to store downloaded data files at this location"
   ]
  },
  {
   "cell_type": "code",
   "execution_count": 166,
   "metadata": {
    "collapsed": false
   },
   "outputs": [
    {
     "name": "stdout",
     "output_type": "stream",
     "text": [
      "Bucket already exists, name:  coin_market_cap_data_files\n"
     ]
    }
   ],
   "source": [
    "import google.datalab.storage as storage\n",
    "\n",
    "cmcd_bucket_name = 'coin_market_cap_data_files'\n",
    "bucket = storage.Bucket(cmcd_bucket_name)\n",
    "if(bucket.exists() <> True) :\n",
    "  bucket.create()\n",
    "  print cmcd_bucket_name, \" bucket is created\" \n",
    "else :\n",
    "    print \"Bucket already exists, name: \", cmcd_bucket_name\n"
   ]
  },
  {
   "cell_type": "markdown",
   "metadata": {},
   "source": [
    "Create BigQuery dataset using bigquery API to make data available for further analysis by using SQL syntax"
   ]
  },
  {
   "cell_type": "code",
   "execution_count": 168,
   "metadata": {
    "collapsed": false
   },
   "outputs": [
    {
     "name": "stdout",
     "output_type": "stream",
     "text": [
      "coin_market_cap_data  Dataset is created\n"
     ]
    }
   ],
   "source": [
    "import google.datalab.bigquery as bq\n",
    "\n",
    "cmcd_dataset_name = 'coin_market_cap_data'\n",
    "cmcd_dataset = bq.Dataset(cmcd_dataset_name)\n",
    "\n",
    "if(cmcd_dataset.exists() <> True) :\n",
    "  cmcd_dataset.create()\n",
    "  print cmcd_dataset_name, \" Dataset is created\" \n",
    "else :\n",
    "    print \"Dataset already exists, name: \", cmcd_dataset_name"
   ]
  },
  {
   "cell_type": "markdown",
   "metadata": {},
   "source": [
    "# Data ingestion script to Coin Market Cap Data\n",
    "\n",
    "CoinMarketAPI provid public API to download the data https://coinmarketcap.com/api/\n",
    "Summary of this API\n",
    "* \tListings (https://api.coinmarketcap.com/v2/listings/) – List all Bitcoin stock symbols. No parameters\n",
    "*\tTicker (https://api.coinmarketcap.com/v2/ticker/) – Fetches all stock ticker crrent data with limit 100 rows by Rank.\n",
    "    Parameters - start, limit, convert(value USD gives all the currencies in US Dollar amount)\n",
    "*\tTicker for Specific coin (https://api.coinmarketcap.com/v2/ticker/{id}) – Fetches stock ticker changes of specified id (No limit was mentioned; Assumption is we can get all data with one call). Listings API gives all ids data, then this endpoint can be called for specific coin data.\n",
    "*\tGlobal (https://api.coinmarketcap.com/v2/global/) – Global Market data (Gives summary). Parameters - convert(value USD gives all the currencies in US Dollar amount)\n",
    "\n",
    "Report Queries need data of all tickers with current chages with current price, market cap, supply, growth pecetages. All this data can be fetched using Ticker endpoint. And cost information must be USD (Most Likely Euro) - Defualt price was not in USD so use parameters and fetch all coin data in USD. And Ticker providing values in order of Rank, which might change every day but this does not matter as we iterate through get all the values. \n",
    "\n",
    "We can follow another method, by pulling Listings data first and then ticker data by coin id. This will result more number of calls so choosing earlier method as it suffices our Reporting needs.\n"
   ]
  },
  {
   "cell_type": "markdown",
   "metadata": {},
   "source": [
    "** Clean up script **\n",
    "Run this only when you would like to want to debug/ execute everything again."
   ]
  },
  {
   "cell_type": "code",
   "execution_count": 149,
   "metadata": {
    "collapsed": false
   },
   "outputs": [
    {
     "name": "stdout",
     "output_type": "stream",
     "text": [
      "All blobs in Bucket 'coin_market_cap_data_files' are deleted\n"
     ]
    }
   ],
   "source": [
    "# Delete all files from Bucket\n",
    "# Only for debugging purposes\n",
    "\n",
    "import google.datalab.storage as storage\n",
    "\n",
    "cmcd_bucket_name = 'coin_market_cap_data_files'\n",
    "bucket = storage.Bucket(cmcd_bucket_name)\n",
    "objectslist = storage.Objects(cmcd_bucket_name, \"\", ',', ) \n",
    "\n",
    "for eachobject in objectslist: \n",
    "  eachobject.delete()\n",
    "  \n",
    "print 'All blobs in Bucket \\'{0}\\' are deleted'.format(cmcd_bucket_name)"
   ]
  },
  {
   "cell_type": "markdown",
   "metadata": {},
   "source": [
    "**Data Ingeston Script** #start\n",
    "\n",
    "* As we would like to keep number of API endpoint calls to minimum. \n",
    "* This script will make calls to Ticker endpoint with parameters -- start, limit, convert(value USD)\n",
    "* Downloads Json part files and upload them to Storage bucket\n",
    "* At the end uploads combined csv file to Storage bucket\n",
    "\n",
    "**Steps**\n",
    "* Get total number of Crypto currencies in the Market\n",
    "* Iterate and get the Ticker data for all currencies\n",
    "* Save the json object to Bucket\n",
    "* Flatten json object and keep appending to Data frame\n",
    "* After getting all data, upload the csv to Bucket as well"
   ]
  },
  {
   "cell_type": "code",
   "execution_count": 182,
   "metadata": {
    "collapsed": false
   },
   "outputs": [
    {
     "name": "stdout",
     "output_type": "stream",
     "text": [
      "Total coins 1614\n",
      "Start 1 fetched with limit till 100\n",
      "Start 101 fetched with limit till 200\n",
      "Start 201 fetched with limit till 300\n",
      "Start 301 fetched with limit till 400\n",
      "Start 401 fetched with limit till 500\n",
      "Start 501 fetched with limit till 600\n",
      "Start 601 fetched with limit till 700\n",
      "Start 701 fetched with limit till 800\n",
      "Start 801 fetched with limit till 900\n",
      "Start 901 fetched with limit till 1000\n",
      "Start 1001 fetched with limit till 1100\n",
      "Start 1101 fetched with limit till 1200\n",
      "Start 1201 fetched with limit till 1300\n",
      "Start 1301 fetched with limit till 1400\n",
      "Start 1401 fetched with limit till 1500\n",
      "Start 1501 fetched with limit till 1600\n",
      "Start 1601 fetched with limit till 1700\n",
      "\n",
      "Number of json parted files generated:  17 files named as  cmc_ticker_data_details_partxxxx.json\n",
      "All json files uploaded to Bucket:  coin_market_cap_data_files\n",
      "\n",
      "Combined CSV file generated and uploaded to Bucket:  coin_market_cap_data_files file name:  cmc_ticker_data_details.csv\n"
     ]
    }
   ],
   "source": [
    "# Download all files to Bucket\n",
    "import json\n",
    "import pandas as pd\n",
    "import google.datalab.storage as storage\n",
    "\n",
    "cmcd_bucket_name = 'coin_market_cap_data_files'\n",
    "bucket = storage.Bucket(cmcd_bucket_name)\n",
    "\n",
    "# fetch parameter variables\n",
    "var_start= 1\n",
    "var_limit = 1\n",
    "var_convert = 'USD'\n",
    "var_blob_json_name_static = 'cmc_ticker_data_details_partxxxx.json'\n",
    "var_json_content_type = \"application/json\"\n",
    "var_blob_csv_name_static = 'cmc_ticker_data_details.csv'\n",
    "var_csv_content_type = \"application/csv\"\n",
    "var_file_num = 1\n",
    "var_fill_length = 4\n",
    "var_total_coins = 1 # Get actual value from API\n",
    "\n",
    "# get total number of coins to iterate\n",
    "fetch_parameters = { \"start\": var_start, \"limit\": var_limit, \"convert\": var_convert }\n",
    "response = requests.get(\"https://api.coinmarketcap.com/v2/ticker/\", params=fetch_parameters)\n",
    "data = response.json()\n",
    "var_total_coins = data[\"metadata\"][\"num_cryptocurrencies\"]\n",
    "# print(response.content) -- see what above request returning, top 1 object with metadata.\n",
    "# print(data[\"metadata\"][\"num_cryptocurrencies\"]) -- Returns 1614(Total number of coins)\n",
    "\n",
    "var_limit = 100\n",
    "var_fill_length = len(str(var_total_coins/var_limit))\n",
    "print \"Total coins\", var_total_coins\n",
    "\n",
    "converted_csv_df = pd.DataFrame()\n",
    "\n",
    "# Iterate to get all Ticker data of all coins\n",
    "while(var_start <= var_total_coins):\n",
    "  print \"Start\", var_start, \"fetched with limit till\", var_start+var_limit-1\n",
    "  fetch_parameters = { \"start\": var_start, \"limit\": var_limit, \"convert\": var_convert }\n",
    "  response_itr = requests.get(\"https://api.coinmarketcap.com/v2/ticker/\", params=fetch_parameters)\n",
    "  data_itr = response_itr.json()\n",
    "    \n",
    "  response_data_object = data_itr[\"data\"]\n",
    "  for objectss in response_data_object:\n",
    "    child_objects = json.loads(objectss)\n",
    "    flattened_coin_ticker_data = pd.io.json.json_normalize(response_data_object[str(child_objects)])\n",
    "    converted_csv_df = converted_csv_df.append(flattened_coin_ticker_data)\n",
    "  \n",
    "  var_blob_json_name_part = var_blob_json_name_static.replace('xxxx', str(var_file_num).zfill(var_fill_length))\n",
    "  blob_file_ref = bucket.object(var_blob_json_name_part)\n",
    "  blob_file_ref.write_stream(response_itr.content, var_json_content_type)\n",
    "  #print var_blob_json_name_part, \" uploaded\"\n",
    "  var_start = var_start + var_limit\n",
    "  var_file_num = var_file_num + 1\n",
    "\n",
    "converted_csv_df.columns = converted_csv_df.columns.str.replace(r\"[.]\", \"_\")\n",
    "blob_file_ref = bucket.object(var_blob_csv_name_static)\n",
    "blob_file_ref.write_stream(converted_csv_df.to_csv(None, ',', '', None, None, True, False, \"index\", 'w', 'UTF-8') , var_csv_content_type)\n",
    "\n",
    "print ''''''\n",
    "print 'Number of json parted files generated: ', (var_file_num - 1), 'files named as ', var_blob_json_name_static \n",
    "print 'All json files uploaded to Bucket: ', cmcd_bucket_name\n",
    "print ''''''\n",
    "print 'Combined CSV file generated and uploaded to Bucket: ', cmcd_bucket_name, 'file name: ', var_blob_csv_name_static\n",
    "# Get the response data as a python object.  Verify that it's a dictionary.\n",
    "#data = response.json()\n",
    "#print(type(data))\n",
    "#print(data)\n",
    "#print(response.headers)"
   ]
  },
  {
   "cell_type": "markdown",
   "metadata": {},
   "source": [
    "**Data Ingeston Script** #end"
   ]
  },
  {
   "cell_type": "markdown",
   "metadata": {},
   "source": [
    "# Upload csv file to BigQuery Dataset"
   ]
  },
  {
   "cell_type": "code",
   "execution_count": 206,
   "metadata": {
    "collapsed": false
   },
   "outputs": [
    {
     "name": "stdout",
     "output_type": "stream",
     "text": [
      "Coin Market cap Data load into BQ table 'cmc_ticker_data_details' is completed\n"
     ]
    }
   ],
   "source": [
    "import google.datalab.bigquery as bigquery\n",
    "import google.datalab.storage as storage\n",
    "from google.datalab import Context\n",
    "import pandas as pd\n",
    "from io import BytesIO\n",
    "\n",
    "#Bucket reference\n",
    "cmcd_bucket_name = 'coin_market_cap_data_files'\n",
    "cmcd_data_file_pattern = 'cmc_ticker_data_details.csv'\n",
    "var_bucket_prefix = \"gs://\"\n",
    "var_source_uri = (var_bucket_prefix + cmcd_bucket_name + '/' + cmcd_data_file_pattern)\n",
    "\n",
    "# Create table References\n",
    "project_id = Context.default().project_id\n",
    "cms_data_set_id = \"coin_market_cap_data\"\n",
    "cmc_ticker_data_table_id = \"cmc_ticker_data_details\"\n",
    "cmc_ticker_data_details_tbl_bq_name = bigquery.TableName(project_id, cms_data_set_id, cmc_ticker_data_table_id, None)\n",
    "cmc_ticker_data_details_bq_tbl = bigquery.Table(cmc_ticker_data_details_tbl_bq_name)\n",
    "\n",
    "# Create table if does not exists\n",
    "if(cmc_ticker_data_details_bq_tbl.exists() <> True):\n",
    "  csv_file_df = pd.read_csv(BytesIO(storage.Object(cmcd_bucket_name, \"cmc_ticker_data_details.csv\").download()), sep = ',')\n",
    "  cmc_ticker_data_details_tbl_bq_schema = bigquery.Schema.from_data(csv_file_df.head())\n",
    "  #print cmc_ticker_data_details_tbl_bq_schema\n",
    "  cmc_ticker_data_details_bq_tbl.create(cmc_ticker_data_details_tbl_bq_schema, False)\n",
    "\n",
    "# Options to load data into table\n",
    "var_csv_delimiter = ','\n",
    "var_csv_skip_leading_rows = 1\n",
    "var_csv_encoding = 'utf-8'\n",
    "var_csv_quote = '\"'\n",
    "var_csv_allow_quoted_newlines = False\n",
    "var_csvallow_jagged_rows =  False\n",
    "load_csv_options = bigquery.CSVOptions(var_csv_delimiter, var_csv_skip_leading_rows, var_csv_encoding, var_csv_quote, var_csv_allow_quoted_newlines, var_csvallow_jagged_rows)\n",
    "var_ignore_unknown_values = False\n",
    "var_max_bad_records = 0\n",
    "var_load_mode = 'overwrite'\n",
    "var_source_format = 'csv'\n",
    "\n",
    "cmc_ticker_data_details_bq_tbl.load(var_source_uri, var_load_mode, var_source_format, load_csv_options, var_ignore_unknown_values, var_max_bad_records)\n",
    "\n",
    "print \"Coin Market cap Data load into BQ table '{0}' is completed\".format(cmc_ticker_data_table_id)\n"
   ]
  },
  {
   "cell_type": "markdown",
   "metadata": {},
   "source": [
    "# Query the Data from Big Query table\n",
    "\n",
    "Queries to be Executed\n",
    "* How many coins have a USD price greater than 8000 Dollars?\n",
    "* What is the total market cap of the top 100 cryptocurrencies (in USD)?\n",
    "* Which coins have an available supply less than 5M Dollars?\n",
    "* Which 5 coins have seen the greatest percentage growth in the last week?\n",
    "* How many ticker symbols contain the letter \"X\" ?\n"
   ]
  },
  {
   "cell_type": "code",
   "execution_count": 208,
   "metadata": {
    "collapsed": true
   },
   "outputs": [],
   "source": [
    "%%bq query --name read_columns\n",
    "select * from `coin_market_cap_data.cmc_ticker_data_details` Limit 10"
   ]
  },
  {
   "cell_type": "code",
   "execution_count": 211,
   "metadata": {
    "collapsed": false
   },
   "outputs": [
    {
     "data": {
      "text/html": [
       "\n",
       "    <div class=\"bqtv\" id=\"1_152567572512\"><table><tr><th>circulating_supply</th><th>id</th><th>last_updated</th><th>max_supply</th><th>name</th><th>quotes_USD_market_cap</th><th>quotes_USD_percent_change_1h</th><th>quotes_USD_percent_change_24h</th><th>quotes_USD_percent_change_7d</th><th>quotes_USD_price</th><th>quotes_USD_volume_24h</th><th>rank</th><th>symbol</th><th>total_supply</th><th>website_slug</th></tr><tr><td>106019270.0</td><td>1421</td><td>1525602548.0</td><td>&nbsp;</td><td>JobsCoin</td><td>30432.0</td><td>&nbsp;</td><td>-1.98</td><td>55.1</td><td>0.000287045</td><td>&nbsp;</td><td>1295</td><td>JOBS</td><td>200019300.0</td><td>jobscoin</td></tr><tr><td>560000010.0</td><td>2694</td><td>1525540164.0</td><td>&nbsp;</td><td>Nexo</td><td>133042562.0</td><td>&nbsp;</td><td>&nbsp;</td><td>&nbsp;</td><td>0.237576</td><td>&nbsp;</td><td>1014</td><td>NEXO</td><td>1000000000.0</td><td>nexo</td></tr><tr><td>813229.0</td><td>1228</td><td>1525440248.0</td><td>5000000.0</td><td>Enigma</td><td>112413.0</td><td>&nbsp;</td><td>&nbsp;</td><td>&nbsp;</td><td>0.13823</td><td>&nbsp;</td><td>1223</td><td>XNG</td><td>1225570.0</td><td>enigma</td></tr><tr><td>390312753.0</td><td>833</td><td>1525671844.0</td><td>&nbsp;</td><td>GridCoin</td><td>19779021.0</td><td>-0.18</td><td>-5.1</td><td>-6.43</td><td>0.0506748</td><td>27752.3</td><td>402</td><td>GRC</td><td>390312753.0</td><td>gridcoin</td></tr><tr><td>24101381.0</td><td>671</td><td>1525671844.0</td><td>&nbsp;</td><td>GAIA</td><td>592949.0</td><td>-0.18</td><td>0.81</td><td>12.46</td><td>0.0246023</td><td>20.7324</td><td>1088</td><td>GAIA</td><td>24101381.0</td><td>gaia</td></tr><tr><td>20343100.0</td><td>656</td><td>1525671844.0</td><td>&nbsp;</td><td>Prime-XI</td><td>265410.0</td><td>-0.18</td><td>-4.57</td><td>32.23</td><td>0.0130467</td><td>526.124</td><td>957</td><td>PXI</td><td>20343100.0</td><td>prime-xi</td></tr><tr><td>19695124.0</td><td>654</td><td>1525671844.0</td><td>&nbsp;</td><td>DigitalPrice</td><td>2176823.0</td><td>-7.11</td><td>0.95</td><td>-1.15</td><td>0.110526</td><td>10579.4</td><td>770</td><td>DP</td><td>27195125.0</td><td>digitalprice</td></tr><tr><td>40710246.0</td><td>588</td><td>1525671844.0</td><td>&nbsp;</td><td>Ubiq</td><td>89968422.0</td><td>-0.43</td><td>-5.64</td><td>-0.23</td><td>2.20997</td><td>292817.0</td><td>179</td><td>UBQ</td><td>40710246.0</td><td>ubiq</td></tr><tr><td>4571021.0</td><td>633</td><td>1525671844.0</td><td>&nbsp;</td><td>ExclusiveCoin</td><td>5579343.0</td><td>-0.1</td><td>-4.91</td><td>-6.79</td><td>1.22059</td><td>66547.0</td><td>641</td><td>EXCL</td><td>4571021.0</td><td>exclusivecoin</td></tr><tr><td>573276226.0</td><td>638</td><td>1525671844.0</td><td>&nbsp;</td><td>Trollcoin</td><td>645016.0</td><td>1.74</td><td>1.25</td><td>-5.62</td><td>0.00112514</td><td>440.688</td><td>1085</td><td>TROLL</td><td>573276226.0</td><td>trollcoin</td></tr></table></div>\n",
       "    <br />(rows: 10, time: 0.1s, cached, job: job_G2XFTHL6-gHTpKUnUxOS9mL37H7z)<br />\n",
       "    <script src=\"/static/components/requirejs/require.js\"></script>\n",
       "    <script>\n",
       "      require.config({\n",
       "        paths: {\n",
       "          base: '/static/base',\n",
       "          d3: '//cdnjs.cloudflare.com/ajax/libs/d3/3.4.13/d3',\n",
       "          plotly: 'https://cdn.plot.ly/plotly-1.5.1.min.js?noext',\n",
       "          jquery: '//ajax.googleapis.com/ajax/libs/jquery/2.0.0/jquery.min'\n",
       "        },\n",
       "        map: {\n",
       "          '*': {\n",
       "            datalab: 'nbextensions/gcpdatalab'\n",
       "          }\n",
       "        },\n",
       "        shim: {\n",
       "          plotly: {\n",
       "            deps: ['d3', 'jquery'],\n",
       "            exports: 'plotly'\n",
       "          }\n",
       "        }\n",
       "      });\n",
       "\n",
       "      require(['datalab/charting', 'datalab/element!1_152567572512', 'base/js/events',\n",
       "          'datalab/style!/nbextensions/gcpdatalab/charting.css'],\n",
       "        function(charts, dom, events) {\n",
       "          charts.render('gcharts', dom, events, 'table', [], {\"rows\": [{\"c\": [{\"v\": 106019270.0}, {\"v\": 1421}, {\"v\": 1525602548.0}, {\"v\": null}, {\"v\": \"JobsCoin\"}, {\"v\": 30432.0}, {\"v\": null}, {\"v\": -1.98}, {\"v\": 55.1}, {\"v\": 0.000287045}, {\"v\": null}, {\"v\": 1295}, {\"v\": \"JOBS\"}, {\"v\": 200019300.0}, {\"v\": \"jobscoin\"}]}, {\"c\": [{\"v\": 560000010.0}, {\"v\": 2694}, {\"v\": 1525540164.0}, {\"v\": null}, {\"v\": \"Nexo\"}, {\"v\": 133042562.0}, {\"v\": null}, {\"v\": null}, {\"v\": null}, {\"v\": 0.237576}, {\"v\": null}, {\"v\": 1014}, {\"v\": \"NEXO\"}, {\"v\": 1000000000.0}, {\"v\": \"nexo\"}]}, {\"c\": [{\"v\": 813229.0}, {\"v\": 1228}, {\"v\": 1525440248.0}, {\"v\": 5000000.0}, {\"v\": \"Enigma\"}, {\"v\": 112413.0}, {\"v\": null}, {\"v\": null}, {\"v\": null}, {\"v\": 0.13823}, {\"v\": null}, {\"v\": 1223}, {\"v\": \"XNG\"}, {\"v\": 1225570.0}, {\"v\": \"enigma\"}]}, {\"c\": [{\"v\": 390312753.0}, {\"v\": 833}, {\"v\": 1525671844.0}, {\"v\": null}, {\"v\": \"GridCoin\"}, {\"v\": 19779021.0}, {\"v\": -0.18}, {\"v\": -5.1}, {\"v\": -6.43}, {\"v\": 0.0506748}, {\"v\": 27752.3}, {\"v\": 402}, {\"v\": \"GRC\"}, {\"v\": 390312753.0}, {\"v\": \"gridcoin\"}]}, {\"c\": [{\"v\": 24101381.0}, {\"v\": 671}, {\"v\": 1525671844.0}, {\"v\": null}, {\"v\": \"GAIA\"}, {\"v\": 592949.0}, {\"v\": -0.18}, {\"v\": 0.81}, {\"v\": 12.46}, {\"v\": 0.0246023}, {\"v\": 20.7324}, {\"v\": 1088}, {\"v\": \"GAIA\"}, {\"v\": 24101381.0}, {\"v\": \"gaia\"}]}, {\"c\": [{\"v\": 20343100.0}, {\"v\": 656}, {\"v\": 1525671844.0}, {\"v\": null}, {\"v\": \"Prime-XI\"}, {\"v\": 265410.0}, {\"v\": -0.18}, {\"v\": -4.57}, {\"v\": 32.23}, {\"v\": 0.0130467}, {\"v\": 526.124}, {\"v\": 957}, {\"v\": \"PXI\"}, {\"v\": 20343100.0}, {\"v\": \"prime-xi\"}]}, {\"c\": [{\"v\": 19695124.0}, {\"v\": 654}, {\"v\": 1525671844.0}, {\"v\": null}, {\"v\": \"DigitalPrice\"}, {\"v\": 2176823.0}, {\"v\": -7.11}, {\"v\": 0.95}, {\"v\": -1.15}, {\"v\": 0.110526}, {\"v\": 10579.4}, {\"v\": 770}, {\"v\": \"DP\"}, {\"v\": 27195125.0}, {\"v\": \"digitalprice\"}]}, {\"c\": [{\"v\": 40710246.0}, {\"v\": 588}, {\"v\": 1525671844.0}, {\"v\": null}, {\"v\": \"Ubiq\"}, {\"v\": 89968422.0}, {\"v\": -0.43}, {\"v\": -5.64}, {\"v\": -0.23}, {\"v\": 2.20997}, {\"v\": 292817.0}, {\"v\": 179}, {\"v\": \"UBQ\"}, {\"v\": 40710246.0}, {\"v\": \"ubiq\"}]}, {\"c\": [{\"v\": 4571021.0}, {\"v\": 633}, {\"v\": 1525671844.0}, {\"v\": null}, {\"v\": \"ExclusiveCoin\"}, {\"v\": 5579343.0}, {\"v\": -0.1}, {\"v\": -4.91}, {\"v\": -6.79}, {\"v\": 1.22059}, {\"v\": 66547.0}, {\"v\": 641}, {\"v\": \"EXCL\"}, {\"v\": 4571021.0}, {\"v\": \"exclusivecoin\"}]}, {\"c\": [{\"v\": 573276226.0}, {\"v\": 638}, {\"v\": 1525671844.0}, {\"v\": null}, {\"v\": \"Trollcoin\"}, {\"v\": 645016.0}, {\"v\": 1.74}, {\"v\": 1.25}, {\"v\": -5.62}, {\"v\": 0.00112514}, {\"v\": 440.688}, {\"v\": 1085}, {\"v\": \"TROLL\"}, {\"v\": 573276226.0}, {\"v\": \"trollcoin\"}]}], \"cols\": [{\"type\": \"number\", \"id\": \"circulating_supply\", \"label\": \"circulating_supply\"}, {\"type\": \"number\", \"id\": \"id\", \"label\": \"id\"}, {\"type\": \"number\", \"id\": \"last_updated\", \"label\": \"last_updated\"}, {\"type\": \"number\", \"id\": \"max_supply\", \"label\": \"max_supply\"}, {\"type\": \"string\", \"id\": \"name\", \"label\": \"name\"}, {\"type\": \"number\", \"id\": \"quotes_USD_market_cap\", \"label\": \"quotes_USD_market_cap\"}, {\"type\": \"number\", \"id\": \"quotes_USD_percent_change_1h\", \"label\": \"quotes_USD_percent_change_1h\"}, {\"type\": \"number\", \"id\": \"quotes_USD_percent_change_24h\", \"label\": \"quotes_USD_percent_change_24h\"}, {\"type\": \"number\", \"id\": \"quotes_USD_percent_change_7d\", \"label\": \"quotes_USD_percent_change_7d\"}, {\"type\": \"number\", \"id\": \"quotes_USD_price\", \"label\": \"quotes_USD_price\"}, {\"type\": \"number\", \"id\": \"quotes_USD_volume_24h\", \"label\": \"quotes_USD_volume_24h\"}, {\"type\": \"number\", \"id\": \"rank\", \"label\": \"rank\"}, {\"type\": \"string\", \"id\": \"symbol\", \"label\": \"symbol\"}, {\"type\": \"number\", \"id\": \"total_supply\", \"label\": \"total_supply\"}, {\"type\": \"string\", \"id\": \"website_slug\", \"label\": \"website_slug\"}]},\n",
       "            {\n",
       "              pageSize: 25,\n",
       "              cssClassNames:  {\n",
       "                tableRow: 'gchart-table-row',\n",
       "                headerRow: 'gchart-table-headerrow',\n",
       "                oddTableRow: 'gchart-table-oddrow',\n",
       "                selectedTableRow: 'gchart-table-selectedrow',\n",
       "                hoverTableRow: 'gchart-table-hoverrow',\n",
       "                tableCell: 'gchart-table-cell',\n",
       "                headerCell: 'gchart-table-headercell',\n",
       "                rowNumberCell: 'gchart-table-rownumcell'\n",
       "              }\n",
       "            },\n",
       "            {source_index: 0, fields: 'circulating_supply,id,last_updated,max_supply,name,quotes_USD_market_cap,quotes_USD_percent_change_1h,quotes_USD_percent_change_24h,quotes_USD_percent_change_7d,quotes_USD_price,quotes_USD_volume_24h,rank,symbol,total_supply,website_slug'},\n",
       "            0,\n",
       "            10);\n",
       "        }\n",
       "      );\n",
       "    </script>\n",
       "  "
      ],
      "text/plain": [
       "QueryResultsTable job_G2XFTHL6-gHTpKUnUxOS9mL37H7z"
      ]
     },
     "execution_count": 211,
     "metadata": {},
     "output_type": "execute_result"
    }
   ],
   "source": [
    "read_columns.execute().result()"
   ]
  },
  {
   "cell_type": "code",
   "execution_count": 233,
   "metadata": {
    "collapsed": false
   },
   "outputs": [],
   "source": [
    "%%bq query --name count_price_gt_8000\n",
    "Select count(1) count_price_gt_8000 from `coin_market_cap_data.cmc_ticker_data_details`\n",
    "where quotes_USD_price > 8000\n"
   ]
  },
  {
   "cell_type": "code",
   "execution_count": 234,
   "metadata": {
    "collapsed": false
   },
   "outputs": [
    {
     "data": {
      "text/html": [
       "\n",
       "    <div class=\"bqtv\" id=\"8_152567738188\"><table><tr><th>count_price_gt_8000</th></tr><tr><td>5</td></tr></table></div>\n",
       "    <br />(rows: 1, time: 0.9s,    12KB processed, job: job_Jr42Di7T6oiTqVZmx-6AChFIX6c6)<br />\n",
       "    <script src=\"/static/components/requirejs/require.js\"></script>\n",
       "    <script>\n",
       "      require.config({\n",
       "        paths: {\n",
       "          base: '/static/base',\n",
       "          d3: '//cdnjs.cloudflare.com/ajax/libs/d3/3.4.13/d3',\n",
       "          plotly: 'https://cdn.plot.ly/plotly-1.5.1.min.js?noext',\n",
       "          jquery: '//ajax.googleapis.com/ajax/libs/jquery/2.0.0/jquery.min'\n",
       "        },\n",
       "        map: {\n",
       "          '*': {\n",
       "            datalab: 'nbextensions/gcpdatalab'\n",
       "          }\n",
       "        },\n",
       "        shim: {\n",
       "          plotly: {\n",
       "            deps: ['d3', 'jquery'],\n",
       "            exports: 'plotly'\n",
       "          }\n",
       "        }\n",
       "      });\n",
       "\n",
       "      require(['datalab/charting', 'datalab/element!8_152567738188', 'base/js/events',\n",
       "          'datalab/style!/nbextensions/gcpdatalab/charting.css'],\n",
       "        function(charts, dom, events) {\n",
       "          charts.render('gcharts', dom, events, 'table', [], {\"rows\": [{\"c\": [{\"v\": 5}]}], \"cols\": [{\"type\": \"number\", \"id\": \"count_price_gt_8000\", \"label\": \"count_price_gt_8000\"}]},\n",
       "            {\n",
       "              pageSize: 25,\n",
       "              cssClassNames:  {\n",
       "                tableRow: 'gchart-table-row',\n",
       "                headerRow: 'gchart-table-headerrow',\n",
       "                oddTableRow: 'gchart-table-oddrow',\n",
       "                selectedTableRow: 'gchart-table-selectedrow',\n",
       "                hoverTableRow: 'gchart-table-hoverrow',\n",
       "                tableCell: 'gchart-table-cell',\n",
       "                headerCell: 'gchart-table-headercell',\n",
       "                rowNumberCell: 'gchart-table-rownumcell'\n",
       "              }\n",
       "            },\n",
       "            {source_index: 5, fields: 'count_price_gt_8000'},\n",
       "            0,\n",
       "            1);\n",
       "        }\n",
       "      );\n",
       "    </script>\n",
       "  "
      ],
      "text/plain": [
       "QueryResultsTable job_Jr42Di7T6oiTqVZmx-6AChFIX6c6"
      ]
     },
     "execution_count": 234,
     "metadata": {},
     "output_type": "execute_result"
    }
   ],
   "source": [
    "count_price_gt_8000.execute().result()"
   ]
  },
  {
   "cell_type": "code",
   "execution_count": 246,
   "metadata": {
    "collapsed": true
   },
   "outputs": [],
   "source": [
    "%%bq query --name coins_price_gt_8000\n",
    "Select symbol, name, quotes_USD_price from `coin_market_cap_data.cmc_ticker_data_details`\n",
    "where quotes_USD_price > 8000\n",
    "order by quotes_USD_price DESC"
   ]
  },
  {
   "cell_type": "code",
   "execution_count": 247,
   "metadata": {
    "collapsed": false
   },
   "outputs": [
    {
     "data": {
      "text/html": [
       "\n",
       "    <div class=\"bqtv\" id=\"13_152567755370\"><table><tr><th>symbol</th><th>name</th><th>quotes_USD_price</th></tr><tr><td>BTWTY</td><td>Bit20</td><td>871427.0</td></tr><tr><td>NANOX</td><td>Project-X</td><td>121148.0</td></tr><tr><td>42</td><td>42-coin</td><td>35059.6</td></tr><tr><td>BITBTC</td><td>bitBTC</td><td>11547.5</td></tr><tr><td>BTC</td><td>Bitcoin</td><td>9348.23</td></tr></table></div>\n",
       "    <br />(rows: 5, time: 0.9s,    39KB processed, job: job_0gqgMBphb3ygl2ESb2Dw5N3CKh6P)<br />\n",
       "    <script src=\"/static/components/requirejs/require.js\"></script>\n",
       "    <script>\n",
       "      require.config({\n",
       "        paths: {\n",
       "          base: '/static/base',\n",
       "          d3: '//cdnjs.cloudflare.com/ajax/libs/d3/3.4.13/d3',\n",
       "          plotly: 'https://cdn.plot.ly/plotly-1.5.1.min.js?noext',\n",
       "          jquery: '//ajax.googleapis.com/ajax/libs/jquery/2.0.0/jquery.min'\n",
       "        },\n",
       "        map: {\n",
       "          '*': {\n",
       "            datalab: 'nbextensions/gcpdatalab'\n",
       "          }\n",
       "        },\n",
       "        shim: {\n",
       "          plotly: {\n",
       "            deps: ['d3', 'jquery'],\n",
       "            exports: 'plotly'\n",
       "          }\n",
       "        }\n",
       "      });\n",
       "\n",
       "      require(['datalab/charting', 'datalab/element!13_152567755370', 'base/js/events',\n",
       "          'datalab/style!/nbextensions/gcpdatalab/charting.css'],\n",
       "        function(charts, dom, events) {\n",
       "          charts.render('gcharts', dom, events, 'table', [], {\"rows\": [{\"c\": [{\"v\": \"BTWTY\"}, {\"v\": \"Bit20\"}, {\"v\": 871427.0}]}, {\"c\": [{\"v\": \"NANOX\"}, {\"v\": \"Project-X\"}, {\"v\": 121148.0}]}, {\"c\": [{\"v\": \"42\"}, {\"v\": \"42-coin\"}, {\"v\": 35059.6}]}, {\"c\": [{\"v\": \"BITBTC\"}, {\"v\": \"bitBTC\"}, {\"v\": 11547.5}]}, {\"c\": [{\"v\": \"BTC\"}, {\"v\": \"Bitcoin\"}, {\"v\": 9348.23}]}], \"cols\": [{\"type\": \"string\", \"id\": \"symbol\", \"label\": \"symbol\"}, {\"type\": \"string\", \"id\": \"name\", \"label\": \"name\"}, {\"type\": \"number\", \"id\": \"quotes_USD_price\", \"label\": \"quotes_USD_price\"}]},\n",
       "            {\n",
       "              pageSize: 25,\n",
       "              cssClassNames:  {\n",
       "                tableRow: 'gchart-table-row',\n",
       "                headerRow: 'gchart-table-headerrow',\n",
       "                oddTableRow: 'gchart-table-oddrow',\n",
       "                selectedTableRow: 'gchart-table-selectedrow',\n",
       "                hoverTableRow: 'gchart-table-hoverrow',\n",
       "                tableCell: 'gchart-table-cell',\n",
       "                headerCell: 'gchart-table-headercell',\n",
       "                rowNumberCell: 'gchart-table-rownumcell'\n",
       "              }\n",
       "            },\n",
       "            {source_index: 8, fields: 'symbol,name,quotes_USD_price'},\n",
       "            0,\n",
       "            5);\n",
       "        }\n",
       "      );\n",
       "    </script>\n",
       "  "
      ],
      "text/plain": [
       "QueryResultsTable job_0gqgMBphb3ygl2ESb2Dw5N3CKh6P"
      ]
     },
     "execution_count": 247,
     "metadata": {},
     "output_type": "execute_result"
    }
   ],
   "source": [
    "coins_price_gt_8000.execute().result()"
   ]
  },
  {
   "cell_type": "code",
   "execution_count": 248,
   "metadata": {
    "collapsed": true
   },
   "outputs": [],
   "source": [
    "%%bq query --name total_market_cap_top_100\n",
    "Select (sum(quotes_USD_market_cap)) total_market_cap_top_100 from `coin_market_cap_data.cmc_ticker_data_details`\n",
    "where rank <= 100"
   ]
  },
  {
   "cell_type": "code",
   "execution_count": 249,
   "metadata": {
    "collapsed": false
   },
   "outputs": [
    {
     "data": {
      "text/html": [
       "\n",
       "    <div class=\"bqtv\" id=\"14_152567755603\"><table><tr><th>total_market_cap_top_100</th></tr><tr><td>4.13556281883e+11</td></tr></table></div>\n",
       "    <br />(rows: 1, time: 0.1s, cached, job: job_rjC118xDelUL87sqkdpOM4OTc5XG)<br />\n",
       "    <script src=\"/static/components/requirejs/require.js\"></script>\n",
       "    <script>\n",
       "      require.config({\n",
       "        paths: {\n",
       "          base: '/static/base',\n",
       "          d3: '//cdnjs.cloudflare.com/ajax/libs/d3/3.4.13/d3',\n",
       "          plotly: 'https://cdn.plot.ly/plotly-1.5.1.min.js?noext',\n",
       "          jquery: '//ajax.googleapis.com/ajax/libs/jquery/2.0.0/jquery.min'\n",
       "        },\n",
       "        map: {\n",
       "          '*': {\n",
       "            datalab: 'nbextensions/gcpdatalab'\n",
       "          }\n",
       "        },\n",
       "        shim: {\n",
       "          plotly: {\n",
       "            deps: ['d3', 'jquery'],\n",
       "            exports: 'plotly'\n",
       "          }\n",
       "        }\n",
       "      });\n",
       "\n",
       "      require(['datalab/charting', 'datalab/element!14_152567755603', 'base/js/events',\n",
       "          'datalab/style!/nbextensions/gcpdatalab/charting.css'],\n",
       "        function(charts, dom, events) {\n",
       "          charts.render('gcharts', dom, events, 'table', [], {\"rows\": [{\"c\": [{\"v\": 413556281883.0}]}], \"cols\": [{\"type\": \"number\", \"id\": \"total_market_cap_top_100\", \"label\": \"total_market_cap_top_100\"}]},\n",
       "            {\n",
       "              pageSize: 25,\n",
       "              cssClassNames:  {\n",
       "                tableRow: 'gchart-table-row',\n",
       "                headerRow: 'gchart-table-headerrow',\n",
       "                oddTableRow: 'gchart-table-oddrow',\n",
       "                selectedTableRow: 'gchart-table-selectedrow',\n",
       "                hoverTableRow: 'gchart-table-hoverrow',\n",
       "                tableCell: 'gchart-table-cell',\n",
       "                headerCell: 'gchart-table-headercell',\n",
       "                rowNumberCell: 'gchart-table-rownumcell'\n",
       "              }\n",
       "            },\n",
       "            {source_index: 4, fields: 'total_market_cap_top_100'},\n",
       "            0,\n",
       "            1);\n",
       "        }\n",
       "      );\n",
       "    </script>\n",
       "  "
      ],
      "text/plain": [
       "QueryResultsTable job_rjC118xDelUL87sqkdpOM4OTc5XG"
      ]
     },
     "execution_count": 249,
     "metadata": {},
     "output_type": "execute_result"
    }
   ],
   "source": [
    "total_market_cap_top_100.execute().result()"
   ]
  },
  {
   "cell_type": "markdown",
   "metadata": {},
   "source": [
    "Here we have three supply number (Circulating_suppply, max_supply, total_supply), In this total_supply is considered available supply as this designates as available for people to exchange/ transact with. Others are max_supply is that maximum that can be with its crypto currency algorithm, which can be mined. and circulating_supply is something that is in market and being exchanged in the Markets. So writing Query to pull this."
   ]
  },
  {
   "cell_type": "code",
   "execution_count": 250,
   "metadata": {
    "collapsed": true
   },
   "outputs": [],
   "source": [
    "%%bq query --name available_supply_gt_5M\n",
    "Select symbol, name, total_supply from `coin_market_cap_data.cmc_ticker_data_details`\n",
    "Where total_supply < 5000000\n",
    "order by total_supply ASC"
   ]
  },
  {
   "cell_type": "code",
   "execution_count": 251,
   "metadata": {
    "collapsed": false
   },
   "outputs": [
    {
     "data": {
      "text/html": [
       "\n",
       "    <div class=\"bqtv\" id=\"15_152567755820\"><table><tr><th>symbol</th><th>name</th><th>total_supply</th></tr><tr><td>NANOX</td><td>Project-X</td><td>1.0</td></tr><tr><td>BTWTY</td><td>Bit20</td><td>1.0</td></tr><tr><td>42</td><td>42-coin</td><td>42.0</td></tr><tr><td>BITBTC</td><td>bitBTC</td><td>51.0</td></tr><tr><td>BITGOLD</td><td>bitGold</td><td>189.0</td></tr><tr><td>300</td><td>300 Token</td><td>300.0</td></tr><tr><td>PBT</td><td>Primalbase Token</td><td>1250.0</td></tr><tr><td>IDXM</td><td>IDEX Membership</td><td>2000.0</td></tr><tr><td>RSGP</td><td>RSGPcoin</td><td>2160.0</td></tr><tr><td>KNC</td><td>KingN Coin</td><td>2509.0</td></tr><tr><td>HERO</td><td>Sovereign Hero</td><td>4773.0</td></tr><tr><td>CEFS</td><td>CryptopiaFeeShares</td><td>6300.0</td></tr><tr><td>RMC</td><td>Russian Miner Coin</td><td>10757.0</td></tr><tr><td>BITSILVER</td><td>bitSilver</td><td>21782.0</td></tr><tr><td>BTB</td><td>BitBar</td><td>37226.0</td></tr><tr><td>BTG</td><td>Bitgem</td><td>60770.0</td></tr><tr><td>TOPAZ</td><td>Topaz Coin</td><td>76682.0</td></tr><tr><td>FIRE</td><td>Firecoin</td><td>98412.0</td></tr><tr><td>BITEUR</td><td>bitEUR</td><td>107706.0</td></tr><tr><td>XBC</td><td>Bitcoin Plus</td><td>109302.0</td></tr><tr><td>TRI</td><td>Triangles</td><td>110243.0</td></tr><tr><td>ALT</td><td>Altcoin</td><td>134063.0</td></tr><tr><td>SDP</td><td>SydPak</td><td>160725.0</td></tr><tr><td>WBB</td><td>Wild Beast Block</td><td>181919.0</td></tr><tr><td>PR</td><td>Prototanium</td><td>196697.0</td></tr></table></div>\n",
       "    <br />(rows: 204, time: 0.1s, cached, job: job__eZklRJ5O0Wx800ce8a1GknYvFw-)<br />\n",
       "    <script src=\"/static/components/requirejs/require.js\"></script>\n",
       "    <script>\n",
       "      require.config({\n",
       "        paths: {\n",
       "          base: '/static/base',\n",
       "          d3: '//cdnjs.cloudflare.com/ajax/libs/d3/3.4.13/d3',\n",
       "          plotly: 'https://cdn.plot.ly/plotly-1.5.1.min.js?noext',\n",
       "          jquery: '//ajax.googleapis.com/ajax/libs/jquery/2.0.0/jquery.min'\n",
       "        },\n",
       "        map: {\n",
       "          '*': {\n",
       "            datalab: 'nbextensions/gcpdatalab'\n",
       "          }\n",
       "        },\n",
       "        shim: {\n",
       "          plotly: {\n",
       "            deps: ['d3', 'jquery'],\n",
       "            exports: 'plotly'\n",
       "          }\n",
       "        }\n",
       "      });\n",
       "\n",
       "      require(['datalab/charting', 'datalab/element!15_152567755820', 'base/js/events',\n",
       "          'datalab/style!/nbextensions/gcpdatalab/charting.css'],\n",
       "        function(charts, dom, events) {\n",
       "          charts.render('gcharts', dom, events, 'paged_table', [], {\"rows\": [{\"c\": [{\"v\": \"NANOX\"}, {\"v\": \"Project-X\"}, {\"v\": 1.0}]}, {\"c\": [{\"v\": \"BTWTY\"}, {\"v\": \"Bit20\"}, {\"v\": 1.0}]}, {\"c\": [{\"v\": \"42\"}, {\"v\": \"42-coin\"}, {\"v\": 42.0}]}, {\"c\": [{\"v\": \"BITBTC\"}, {\"v\": \"bitBTC\"}, {\"v\": 51.0}]}, {\"c\": [{\"v\": \"BITGOLD\"}, {\"v\": \"bitGold\"}, {\"v\": 189.0}]}, {\"c\": [{\"v\": \"300\"}, {\"v\": \"300 Token\"}, {\"v\": 300.0}]}, {\"c\": [{\"v\": \"PBT\"}, {\"v\": \"Primalbase Token\"}, {\"v\": 1250.0}]}, {\"c\": [{\"v\": \"IDXM\"}, {\"v\": \"IDEX Membership\"}, {\"v\": 2000.0}]}, {\"c\": [{\"v\": \"RSGP\"}, {\"v\": \"RSGPcoin\"}, {\"v\": 2160.0}]}, {\"c\": [{\"v\": \"KNC\"}, {\"v\": \"KingN Coin\"}, {\"v\": 2509.0}]}, {\"c\": [{\"v\": \"HERO\"}, {\"v\": \"Sovereign Hero\"}, {\"v\": 4773.0}]}, {\"c\": [{\"v\": \"CEFS\"}, {\"v\": \"CryptopiaFeeShares\"}, {\"v\": 6300.0}]}, {\"c\": [{\"v\": \"RMC\"}, {\"v\": \"Russian Miner Coin\"}, {\"v\": 10757.0}]}, {\"c\": [{\"v\": \"BITSILVER\"}, {\"v\": \"bitSilver\"}, {\"v\": 21782.0}]}, {\"c\": [{\"v\": \"BTB\"}, {\"v\": \"BitBar\"}, {\"v\": 37226.0}]}, {\"c\": [{\"v\": \"BTG\"}, {\"v\": \"Bitgem\"}, {\"v\": 60770.0}]}, {\"c\": [{\"v\": \"TOPAZ\"}, {\"v\": \"Topaz Coin\"}, {\"v\": 76682.0}]}, {\"c\": [{\"v\": \"FIRE\"}, {\"v\": \"Firecoin\"}, {\"v\": 98412.0}]}, {\"c\": [{\"v\": \"BITEUR\"}, {\"v\": \"bitEUR\"}, {\"v\": 107706.0}]}, {\"c\": [{\"v\": \"XBC\"}, {\"v\": \"Bitcoin Plus\"}, {\"v\": 109302.0}]}, {\"c\": [{\"v\": \"TRI\"}, {\"v\": \"Triangles\"}, {\"v\": 110243.0}]}, {\"c\": [{\"v\": \"ALT\"}, {\"v\": \"Altcoin\"}, {\"v\": 134063.0}]}, {\"c\": [{\"v\": \"SDP\"}, {\"v\": \"SydPak\"}, {\"v\": 160725.0}]}, {\"c\": [{\"v\": \"WBB\"}, {\"v\": \"Wild Beast Block\"}, {\"v\": 181919.0}]}, {\"c\": [{\"v\": \"PR\"}, {\"v\": \"Prototanium\"}, {\"v\": 196697.0}]}], \"cols\": [{\"type\": \"string\", \"id\": \"symbol\", \"label\": \"symbol\"}, {\"type\": \"string\", \"id\": \"name\", \"label\": \"name\"}, {\"type\": \"number\", \"id\": \"total_supply\", \"label\": \"total_supply\"}]},\n",
       "            {\n",
       "              pageSize: 25,\n",
       "              cssClassNames:  {\n",
       "                tableRow: 'gchart-table-row',\n",
       "                headerRow: 'gchart-table-headerrow',\n",
       "                oddTableRow: 'gchart-table-oddrow',\n",
       "                selectedTableRow: 'gchart-table-selectedrow',\n",
       "                hoverTableRow: 'gchart-table-hoverrow',\n",
       "                tableCell: 'gchart-table-cell',\n",
       "                headerCell: 'gchart-table-headercell',\n",
       "                rowNumberCell: 'gchart-table-rownumcell'\n",
       "              }\n",
       "            },\n",
       "            {source_index: 7, fields: 'symbol,name,total_supply'},\n",
       "            0,\n",
       "            204);\n",
       "        }\n",
       "      );\n",
       "    </script>\n",
       "  "
      ],
      "text/plain": [
       "QueryResultsTable job__eZklRJ5O0Wx800ce8a1GknYvFw-"
      ]
     },
     "execution_count": 251,
     "metadata": {},
     "output_type": "execute_result"
    }
   ],
   "source": [
    "available_supply_gt_5M.execute().result()"
   ]
  },
  {
   "cell_type": "code",
   "execution_count": 254,
   "metadata": {
    "collapsed": true
   },
   "outputs": [],
   "source": [
    "%%bq query --name highest_growth_past_week\n",
    "Select symbol, name, quotes_USD_percent_change_7d from `coin_market_cap_data.cmc_ticker_data_details`\n",
    "order by quotes_USD_percent_change_7d DESC limit 5"
   ]
  },
  {
   "cell_type": "code",
   "execution_count": 255,
   "metadata": {
    "collapsed": false
   },
   "outputs": [
    {
     "data": {
      "text/html": [
       "\n",
       "    <div class=\"bqtv\" id=\"16_152567762420\"><table><tr><th>symbol</th><th>name</th><th>quotes_USD_percent_change_7d</th></tr><tr><td>NOTE</td><td>DNotes</td><td>22240.7</td></tr><tr><td>UCASH</td><td>U.CASH</td><td>263.82</td></tr><tr><td>TCOIN</td><td>T-coin</td><td>187.54</td></tr><tr><td>XCN</td><td>Cryptonite</td><td>177.09</td></tr><tr><td>SOC</td><td>All Sports</td><td>174.38</td></tr></table></div>\n",
       "    <br />(rows: 5, time: 0.8s,    38KB processed, job: job_f--yy2Vuo51LPW9Mv6f50z7gKBrT)<br />\n",
       "    <script src=\"/static/components/requirejs/require.js\"></script>\n",
       "    <script>\n",
       "      require.config({\n",
       "        paths: {\n",
       "          base: '/static/base',\n",
       "          d3: '//cdnjs.cloudflare.com/ajax/libs/d3/3.4.13/d3',\n",
       "          plotly: 'https://cdn.plot.ly/plotly-1.5.1.min.js?noext',\n",
       "          jquery: '//ajax.googleapis.com/ajax/libs/jquery/2.0.0/jquery.min'\n",
       "        },\n",
       "        map: {\n",
       "          '*': {\n",
       "            datalab: 'nbextensions/gcpdatalab'\n",
       "          }\n",
       "        },\n",
       "        shim: {\n",
       "          plotly: {\n",
       "            deps: ['d3', 'jquery'],\n",
       "            exports: 'plotly'\n",
       "          }\n",
       "        }\n",
       "      });\n",
       "\n",
       "      require(['datalab/charting', 'datalab/element!16_152567762420', 'base/js/events',\n",
       "          'datalab/style!/nbextensions/gcpdatalab/charting.css'],\n",
       "        function(charts, dom, events) {\n",
       "          charts.render('gcharts', dom, events, 'table', [], {\"rows\": [{\"c\": [{\"v\": \"NOTE\"}, {\"v\": \"DNotes\"}, {\"v\": 22240.7}]}, {\"c\": [{\"v\": \"UCASH\"}, {\"v\": \"U.CASH\"}, {\"v\": 263.82}]}, {\"c\": [{\"v\": \"TCOIN\"}, {\"v\": \"T-coin\"}, {\"v\": 187.54}]}, {\"c\": [{\"v\": \"XCN\"}, {\"v\": \"Cryptonite\"}, {\"v\": 177.09}]}, {\"c\": [{\"v\": \"SOC\"}, {\"v\": \"All Sports\"}, {\"v\": 174.38}]}], \"cols\": [{\"type\": \"string\", \"id\": \"symbol\", \"label\": \"symbol\"}, {\"type\": \"string\", \"id\": \"name\", \"label\": \"name\"}, {\"type\": \"number\", \"id\": \"quotes_USD_percent_change_7d\", \"label\": \"quotes_USD_percent_change_7d\"}]},\n",
       "            {\n",
       "              pageSize: 25,\n",
       "              cssClassNames:  {\n",
       "                tableRow: 'gchart-table-row',\n",
       "                headerRow: 'gchart-table-headerrow',\n",
       "                oddTableRow: 'gchart-table-oddrow',\n",
       "                selectedTableRow: 'gchart-table-selectedrow',\n",
       "                hoverTableRow: 'gchart-table-hoverrow',\n",
       "                tableCell: 'gchart-table-cell',\n",
       "                headerCell: 'gchart-table-headercell',\n",
       "                rowNumberCell: 'gchart-table-rownumcell'\n",
       "              }\n",
       "            },\n",
       "            {source_index: 9, fields: 'symbol,name,quotes_USD_percent_change_7d'},\n",
       "            0,\n",
       "            5);\n",
       "        }\n",
       "      );\n",
       "    </script>\n",
       "  "
      ],
      "text/plain": [
       "QueryResultsTable job_f--yy2Vuo51LPW9Mv6f50z7gKBrT"
      ]
     },
     "execution_count": 255,
     "metadata": {},
     "output_type": "execute_result"
    }
   ],
   "source": [
    "highest_growth_past_week.execute().result()"
   ]
  },
  {
   "cell_type": "code",
   "execution_count": 260,
   "metadata": {
    "collapsed": true
   },
   "outputs": [],
   "source": [
    "%%bq query --name symbol_with_X\n",
    "Select symbol, name from `coin_market_cap_data.cmc_ticker_data_details`\n",
    "where REGEXP_CONTAINS(symbol, r'[x|X]')"
   ]
  },
  {
   "cell_type": "code",
   "execution_count": 261,
   "metadata": {
    "collapsed": false
   },
   "outputs": [
    {
     "data": {
      "text/html": [
       "\n",
       "    <div class=\"bqtv\" id=\"17_152567800375\"><table><tr><th>symbol</th><th>name</th></tr><tr><td>OX</td><td>OX Fina</td></tr><tr><td>PX</td><td>PX</td></tr><tr><td>TX</td><td>TransferCoin</td></tr><tr><td>X2</td><td>X2</td></tr><tr><td>XP</td><td>Experience Points</td></tr><tr><td>ADX</td><td>AdEx</td></tr><tr><td>AIX</td><td>Aigang</td></tr><tr><td>APX</td><td>APX</td></tr><tr><td>ATX</td><td>Artex Coin</td></tr><tr><td>AXP</td><td>aXpire</td></tr><tr><td>B2X</td><td>SegWit2x</td></tr><tr><td>BAX</td><td>BABB</td></tr><tr><td>BCX</td><td>BitcoinX</td></tr><tr><td>BIX</td><td>Bibox Token</td></tr><tr><td>BKX</td><td>Bankex</td></tr><tr><td>BNX</td><td>BnrtxCoin</td></tr><tr><td>BRX</td><td>Breakout Stake</td></tr><tr><td>BTX</td><td>Bitcore</td></tr><tr><td>BXC</td><td>Bitcedi</td></tr><tr><td>BXT</td><td>BitTokens</td></tr><tr><td>CBX</td><td>Bullion</td></tr><tr><td>CDX</td><td>Commodity Ad Network</td></tr><tr><td>CHX</td><td>Chainium</td></tr><tr><td>CNX</td><td>Cryptonex</td></tr><tr><td>CPX</td><td>Apex</td></tr></table></div>\n",
       "    <br />(rows: 200, time: 0.9s,    26KB processed, job: job_OFXaw7JtIylzkBGsZ6uAkNdyxwnz)<br />\n",
       "    <script src=\"/static/components/requirejs/require.js\"></script>\n",
       "    <script>\n",
       "      require.config({\n",
       "        paths: {\n",
       "          base: '/static/base',\n",
       "          d3: '//cdnjs.cloudflare.com/ajax/libs/d3/3.4.13/d3',\n",
       "          plotly: 'https://cdn.plot.ly/plotly-1.5.1.min.js?noext',\n",
       "          jquery: '//ajax.googleapis.com/ajax/libs/jquery/2.0.0/jquery.min'\n",
       "        },\n",
       "        map: {\n",
       "          '*': {\n",
       "            datalab: 'nbextensions/gcpdatalab'\n",
       "          }\n",
       "        },\n",
       "        shim: {\n",
       "          plotly: {\n",
       "            deps: ['d3', 'jquery'],\n",
       "            exports: 'plotly'\n",
       "          }\n",
       "        }\n",
       "      });\n",
       "\n",
       "      require(['datalab/charting', 'datalab/element!17_152567800375', 'base/js/events',\n",
       "          'datalab/style!/nbextensions/gcpdatalab/charting.css'],\n",
       "        function(charts, dom, events) {\n",
       "          charts.render('gcharts', dom, events, 'paged_table', [], {\"rows\": [{\"c\": [{\"v\": \"OX\"}, {\"v\": \"OX Fina\"}]}, {\"c\": [{\"v\": \"PX\"}, {\"v\": \"PX\"}]}, {\"c\": [{\"v\": \"TX\"}, {\"v\": \"TransferCoin\"}]}, {\"c\": [{\"v\": \"X2\"}, {\"v\": \"X2\"}]}, {\"c\": [{\"v\": \"XP\"}, {\"v\": \"Experience Points\"}]}, {\"c\": [{\"v\": \"ADX\"}, {\"v\": \"AdEx\"}]}, {\"c\": [{\"v\": \"AIX\"}, {\"v\": \"Aigang\"}]}, {\"c\": [{\"v\": \"APX\"}, {\"v\": \"APX\"}]}, {\"c\": [{\"v\": \"ATX\"}, {\"v\": \"Artex Coin\"}]}, {\"c\": [{\"v\": \"AXP\"}, {\"v\": \"aXpire\"}]}, {\"c\": [{\"v\": \"B2X\"}, {\"v\": \"SegWit2x\"}]}, {\"c\": [{\"v\": \"BAX\"}, {\"v\": \"BABB\"}]}, {\"c\": [{\"v\": \"BCX\"}, {\"v\": \"BitcoinX\"}]}, {\"c\": [{\"v\": \"BIX\"}, {\"v\": \"Bibox Token\"}]}, {\"c\": [{\"v\": \"BKX\"}, {\"v\": \"Bankex\"}]}, {\"c\": [{\"v\": \"BNX\"}, {\"v\": \"BnrtxCoin\"}]}, {\"c\": [{\"v\": \"BRX\"}, {\"v\": \"Breakout Stake\"}]}, {\"c\": [{\"v\": \"BTX\"}, {\"v\": \"Bitcore\"}]}, {\"c\": [{\"v\": \"BXC\"}, {\"v\": \"Bitcedi\"}]}, {\"c\": [{\"v\": \"BXT\"}, {\"v\": \"BitTokens\"}]}, {\"c\": [{\"v\": \"CBX\"}, {\"v\": \"Bullion\"}]}, {\"c\": [{\"v\": \"CDX\"}, {\"v\": \"Commodity Ad Network\"}]}, {\"c\": [{\"v\": \"CHX\"}, {\"v\": \"Chainium\"}]}, {\"c\": [{\"v\": \"CNX\"}, {\"v\": \"Cryptonex\"}]}, {\"c\": [{\"v\": \"CPX\"}, {\"v\": \"Apex\"}]}], \"cols\": [{\"type\": \"string\", \"id\": \"symbol\", \"label\": \"symbol\"}, {\"type\": \"string\", \"id\": \"name\", \"label\": \"name\"}]},\n",
       "            {\n",
       "              pageSize: 25,\n",
       "              cssClassNames:  {\n",
       "                tableRow: 'gchart-table-row',\n",
       "                headerRow: 'gchart-table-headerrow',\n",
       "                oddTableRow: 'gchart-table-oddrow',\n",
       "                selectedTableRow: 'gchart-table-selectedrow',\n",
       "                hoverTableRow: 'gchart-table-hoverrow',\n",
       "                tableCell: 'gchart-table-cell',\n",
       "                headerCell: 'gchart-table-headercell',\n",
       "                rowNumberCell: 'gchart-table-rownumcell'\n",
       "              }\n",
       "            },\n",
       "            {source_index: 10, fields: 'symbol,name'},\n",
       "            0,\n",
       "            200);\n",
       "        }\n",
       "      );\n",
       "    </script>\n",
       "  "
      ],
      "text/plain": [
       "QueryResultsTable job_OFXaw7JtIylzkBGsZ6uAkNdyxwnz"
      ]
     },
     "execution_count": 261,
     "metadata": {},
     "output_type": "execute_result"
    }
   ],
   "source": [
    "symbol_with_X.execute().result()"
   ]
  },
  {
   "cell_type": "markdown",
   "metadata": {},
   "source": [
    "Referred to \n",
    "https://google-cloud-python.readthedocs.io/en/latest/storage/blobs.html\n",
    "http://googledatalab.github.io/pydatalab/google.datalab.storage.html\n"
   ]
  }
 ],
 "metadata": {
  "kernelspec": {
   "display_name": "data-env",
   "language": "python",
   "name": "python3"
  },
  "language_info": {
   "codemirror_mode": {
    "name": "ipython",
    "version": 2
   },
   "file_extension": ".py",
   "mimetype": "text/x-python",
   "name": "python",
   "nbconvert_exporter": "python",
   "pygments_lexer": "ipython2",
   "version": "3.9.13"
  },
  "vscode": {
   "interpreter": {
    "hash": "3b289bfd3272fe87bbbb6290fa79a01e1c100045890ea5ed77d1c85f8da9ac8a"
   }
  }
 },
 "nbformat": 4,
 "nbformat_minor": 2
}
