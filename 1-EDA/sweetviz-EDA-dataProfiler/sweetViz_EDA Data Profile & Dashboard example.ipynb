{
  "cells": [
    {
      "cell_type": "markdown",
      "metadata": {},
      "source": [
        "# sweetViz EDA 2.0\n",
        "\n",
        "In addition to detailed feature analysis, it stands out from other EDA packages by providing:\n",
        "1.   **Target analysis:** shows how a target value (e.g. \"Survived\" in the Titanic dataset) relates to other features\n",
        "2.   **Dataset comparisons:** e.g. \"Train vs Test\" and intra-set \"Male vs Female\"\n",
        "3.   **Correlation/associations:** full integration of numerical and categorical data correlations and associations, all in one graph and table"
      ]
    },
    {
      "cell_type": "markdown",
      "metadata": {
        "id": "BvNj29K6D_9f"
      },
      "source": [
        "# Use - Generate sweetViz EDA Report"
      ]
    },
    {
      "cell_type": "markdown",
      "metadata": {},
      "source": [
        "1. Create a `DataframeReport` object using one of: `analyze()`, `compare()` or `compare_intra()`\n",
        "2. Use a `show_xxx()` function to render the report. You can now use either **html** or **notebook** report options, as well as apply **scaling**."
      ]
    },
    {
      "cell_type": "code",
      "execution_count": 1,
      "metadata": {
        "id": "83_s70ZqD3mM"
      },
      "outputs": [],
      "source": [
        "import sweetviz as sv\n",
        "import pandas as pd\n",
        "train_df = pd.read_csv('http://cooltiming.com/SV/train.csv')\n",
        "test_df = pd.read_csv('http://cooltiming.com/SV/test.csv')"
      ]
    },
    {
      "cell_type": "markdown",
      "metadata": {
        "id": "-L065Te5KnGV"
      },
      "source": [
        "We will start with a basic comparison of our training and testing sets, using the 2 steps mentioned above:"
      ]
    },
    {
      "cell_type": "code",
      "execution_count": 2,
      "metadata": {
        "colab": {
          "base_uri": "https://localhost:8080/",
          "height": 66,
          "referenced_widgets": [
            "5dd35c85002d4c07abba5480a1defb70",
            "902f3cd32d9049bcb6325af8a11fcd03",
            "dc4d8c1f44be451eaf548171a9756648",
            "eaf61b5011f34d68a8a86afa345808ef",
            "a2c097a5a8a14fdaab299b7f0a00280f",
            "ef1a684770134b50af7ae45488aacbf4",
            "7a8220d4ea9149869b498fd57be97b7a",
            "b84bf6681f4141f397dff6ea83b2be89",
            "dde15d3713994e5ab3a841fd5275b6e2",
            "217628c1898d4ce59b0aeb98522f4309",
            "cefaa2f851fe4a3ca3d3cedef74332ef"
          ]
        },
        "id": "-drQtvNdJHh8",
        "outputId": "711cb6fa-1667-4741-8abe-c552e59309b8"
      },
      "outputs": [
        {
          "data": {
            "application/vnd.jupyter.widget-view+json": {
              "model_id": "36e364fb07dd4adb94ec208f156de2b7",
              "version_major": 2,
              "version_minor": 0
            },
            "text/plain": [
              "                                             |          | [  0%]   00:00 -> (? left)"
            ]
          },
          "metadata": {},
          "output_type": "display_data"
        }
      ],
      "source": [
        "# Step 1: Generate the report\n",
        "# We are giving names to each dataset (optional), and specifying a target feature (optional also)\n",
        "# Specifying a target feature is extremely valuable as it will show how \"Survived\" is affected by each variable\n",
        "comparison_report = sv.compare([train_df,'Train'], [test_df,'Test'], target_feat='Survived')"
      ]
    },
    {
      "cell_type": "code",
      "execution_count": 4,
      "metadata": {
        "colab": {
          "base_uri": "https://localhost:8080/",
          "height": 771
        },
        "id": "dhlc0HU4JIor",
        "outputId": "2bdfb8b3-5449-4be8-f6f3-da8bc4265c4a"
      },
      "outputs": [
        {
          "name": "stdout",
          "output_type": "stream",
          "text": [
            "Report sweet_report.html was generated! NOTEBOOK/COLAB USERS: the web browser MAY not pop up, regardless, the report IS saved in your notebook/colab files.\n"
          ]
        }
      ],
      "source": [
        "# Step 2: Show the report\n",
        "# The report can be output as a standalone HTML file, OR embedded in this notebook.\n",
        "# For notebooks, we can specify the width, height of the window, as well as scaling of the report itself.\n",
        "\n",
        "#comparison_report.show_notebook() # Using the default values (w=\"100%\", h=750, layout=\"vertical\"), all can be overridden in an INI, see below)\n",
        "\n",
        "comparison_report.show_html('sweet_report.html')"
      ]
    },
    {
      "cell_type": "code",
      "execution_count": null,
      "metadata": {},
      "outputs": [],
      "source": []
    },
    {
      "cell_type": "markdown",
      "metadata": {
        "id": "goRVC1eeoGx8"
      },
      "source": [
        "# Report types: analyze(), compare(), compare_intra()\n",
        "Sweetviz provides these 3 report types. **Each report type can optionally include a \"target\" variable** that displays the distribution of a target feature over every other feature. Each also generates association/interaction stats and graphs."
      ]
    },
    {
      "cell_type": "markdown",
      "metadata": {
        "id": "Bzh32U31oqn-"
      },
      "source": [
        "# analyze()"
      ]
    },
    {
      "cell_type": "markdown",
      "metadata": {},
      "source": [
        "Use this version when there is only a single dataset to analyze, and you do **not** wish to compare subpopulations together (e.g. male vs female)\n",
        "```\n",
        "analyze(source: Union[pd.DataFrame, Tuple[pd.DataFrame, str]],\n",
        "        target_feat: str = None,\n",
        "        feat_cfg: FeatureConfig = None,\n",
        "        pairwise_analysis: str = 'auto'):\n",
        "```\n",
        "The analyze() function can take multiple other arguments:\n",
        "* **source**: either the data frame (as in the example) or a tuple containing the data frame and a name to show in the report. e.g. my_df or [my_df, \"Training\"]\n",
        "* **target_feat**: a string representing the name of the feature to be marked as \"target\". Only BOOLEAN and NUMERICAL features can be targets for now.\n",
        "* **pairwise_analysis**: Correlations and other associations can take quadratic time (n^2) to complete. The default setting (`\"auto\"`) will run without warning until a data set contains \"association_auto_threshold\" features. Past that threshold, you need to explicitly pass the parameter `pairwise_analysis=\"on\"` (or `=\"off\"`) since processing that many features would take a long time. This parameter also covers the generation of the association graphs (based on Drazen Zaric's concept) that will be covered below.\n",
        "\n",
        "* **feat_cfg**: a `sweetviz.FeatureConfig` object representing features to be skipped, or to be forced a certain type in the analysis. The arguments can either be a single string or list of strings. \n",
        "### Using `feat_cfg` to force data types or skip columns\n",
        "Possible parameters for the FeatureConfig parameters are:\n",
        "* skip\n",
        "* force_cat\n",
        "* force_num\n",
        "* force_text\n",
        "\n",
        "The \"force_\" arguments override the built-in type detection. They can be constructed as follows:\n",
        "```\n",
        "feature_config = sv.FeatureConfig(skip=\"PassengerId\", force_text=[\"Age\"])\n",
        "```\n"
      ]
    },
    {
      "cell_type": "code",
      "execution_count": null,
      "metadata": {
        "colab": {
          "base_uri": "https://localhost:8080/",
          "height": 520,
          "referenced_widgets": [
            "7c490bde12c2420fb6c1860b4750238c",
            "87dd6efd01644a968b5ac81e0dbdc9fd",
            "bb18ad4f10324dba8169aa11d47696e6",
            "2e1a72da9dda41b68f453eab555569a1",
            "882e0df42dab421584cc549b3733c6cd",
            "2188f899886c4fd8baa2cc22863db020",
            "172a6b6867754ab08ceb1f86fd09c725",
            "6957c080c62c4cbb8cd7dcf627ed3207",
            "f112571dbe0546698d629148db6d0042",
            "f9ab58e259b94cfeab4567fd513538f4",
            "cac5fcb9b1c2445d8a4a0097ec4b9898"
          ]
        },
        "id": "2mliCypzraOH",
        "outputId": "d440511e-91af-43a8-d8db-2fc96eeb22d7"
      },
      "outputs": [],
      "source": [
        "# Here is an example of feature_config to skip the PassengerId feature, and force age to be interpreted as categories:\n",
        "# -> Using a SMALL WINDOW just to show the concept!\n",
        "feature_config = sv.FeatureConfig(skip=\"PassengerId\", force_text=[\"Age\"])\n",
        "analyze_report = sv.analyze([train_df,'Train'], 'Survived',  feature_config)\n",
        "analyze_report.show_notebook(w=900, h=450, scale=0.8)"
      ]
    },
    {
      "cell_type": "markdown",
      "metadata": {
        "id": "F267JIlGqadA"
      },
      "source": [
        "# compare()"
      ]
    },
    {
      "cell_type": "markdown",
      "metadata": {},
      "source": [
        "Use this version when you have 2 data sets to compare together (e.g. Train versus Test). **This is a very useful report!**\n",
        "```\n",
        "compare(source: Union[pd.DataFrame, Tuple[pd.DataFrame, str]],\n",
        "            compare: Union[pd.DataFrame, Tuple[pd.DataFrame, str]],\n",
        "            target_feat: str = None,\n",
        "            feat_cfg: FeatureConfig = None,\n",
        "            pairwise_analysis: str = 'auto')\n",
        "```\n",
        "The parameters are the same as `analyze()`, with the addition of a `compare` parameter. Usage was demonstrated in the \"Basic Usage\" section at the beginning."
      ]
    },
    {
      "cell_type": "markdown",
      "metadata": {
        "id": "oMV8HHX4t1aA"
      },
      "source": [
        "# compare_intra()"
      ]
    },
    {
      "cell_type": "markdown",
      "metadata": {},
      "source": [
        "Use this when you want to compare 2 some populations within the **same** dataset. This is also a **very useful report**, especially when coupled with **target feature** analysis!\n",
        "\n",
        "In our Titanic example, we could use it to compare the male vs female populations, and see if survivability is affected by different factors that are ALSO gender-specific.\n",
        "\n",
        "```\n",
        "compare_intra(source_df: pd.DataFrame,\n",
        "                  condition_series: pd.Series,\n",
        "                  names: Tuple[str, str],\n",
        "                  target_feat: str = None,\n",
        "                  feat_cfg: FeatureConfig = None,\n",
        "                  pairwise_analysis: str = 'auto')\n",
        "```\n",
        "The parameters are once again similar, however this time you must also provide you provide a **boolean test** (`'condition_series'`) that splits the population (here we use `train[\"Sex\"] == 'male'`, to get a sense of the different gender populations), and give a name to each subpopulation.\n",
        "\n",
        "The `names` Tuple is for the populations given by the conditional series in order: [TRUE, FALSE]."
      ]
    },
    {
      "cell_type": "code",
      "execution_count": null,
      "metadata": {
        "colab": {
          "base_uri": "https://localhost:8080/",
          "height": 520,
          "referenced_widgets": [
            "f2fa1cfa777845d8a9ccb2b0ab3e4711",
            "151c773219e0457ba36312ac4816bb94",
            "bec83f1227d54206a685ad02e920f287",
            "321108a3f7a74417bad82fef79d40e34",
            "b5159f1c297c41939c699c38e6683a1a",
            "952e6901f3b8435b94270b3bc3579128",
            "e188b99fe0e14cb0b2ed8955a0c58890",
            "3b3b4a48f8484449b27c47bdb6d7c665",
            "94a81645c3c64ed8bd53b0ddfead0bec",
            "11e085add9ad4cb7bbf4a141061e04e4",
            "44be60e96a4e40bfa8a5ba31cc172a28"
          ]
        },
        "id": "3CgODGYbP_1A",
        "outputId": "4658d164-03c5-434a-d288-ea137538ef7d"
      },
      "outputs": [],
      "source": [
        "# Example comparing the male and female populations\n",
        "# -> Using SMALL WINDOW just to show the concept!\n",
        "intra_report = sv.compare_intra(train_df, train_df[\"Sex\"] == 'male', [\"Male\", \"Female\"], 'Survived')\n",
        "intra_report.show_notebook(w=900, h=450, scale=0.8)"
      ]
    },
    {
      "cell_type": "markdown",
      "metadata": {},
      "source": []
    },
    {
      "cell_type": "markdown",
      "metadata": {},
      "source": [
        "# Advanced Options"
      ]
    },
    {
      "cell_type": "markdown",
      "metadata": {
        "id": "FQ2TaARUQLtl"
      },
      "source": [
        "#### Vertical vs Widescreen layouts\n",
        "Both Notebook and HTML reports can use a vertical or widescreen layout. The same information is displayed, but in the vertical layout users must click on a specific feature to see the detail, whereas in widescreen mode, data is displayed as soon as the mouse goes over any feature and this view can be locked-in by clicking. Widescreen needs more horizontal real estate to work, though.\n",
        "\n",
        "We will get into the width and height options just below, but here is a quick example of both layouts:"
      ]
    },
    {
      "cell_type": "markdown",
      "metadata": {
        "id": "rFu15sRr32zU"
      },
      "source": [
        "### New layout options for show_html()\n",
        "Note that the function `show_html()` is still available in all cases, whether from notebooks or a regular IDE.\n",
        "\n",
        "In fact, `show_html()` has been upgraded with the same `scale` and `layout` options, so **regular HTML reports can now also be scaled and use a vertical layout**!"
      ]
    },
    {
      "cell_type": "code",
      "execution_count": null,
      "metadata": {
        "colab": {
          "base_uri": "https://localhost:8080/",
          "height": 625
        },
        "id": "XdxySa-7QxJS",
        "outputId": "febbe8c0-eb01-4ac1-eec8-ba90817d44f5"
      },
      "outputs": [],
      "source": [
        "# Using UNPRACTICALLY SMALL windows & scales, just to showcase the two layouts!\n",
        "comparison_report.show_notebook(layout='widescreen', w=1500, h=300, scale=0.90) \n",
        "comparison_report.show_notebook(layout='vertical', w=800, h=300, scale=0.90) "
      ]
    },
    {
      "cell_type": "code",
      "execution_count": null,
      "metadata": {
        "colab": {
          "base_uri": "https://localhost:8080/",
          "height": 721
        },
        "id": "C-oQkEXAPMsd",
        "outputId": "0243b25c-8804-42de-9c1f-9c2755547aa8"
      },
      "outputs": [],
      "source": [
        "# Compact window, with compact report!\n",
        "comparison_report.show_notebook(w=900, h=700, scale=0.8) "
      ]
    },
    {
      "cell_type": "markdown",
      "metadata": {},
      "source": [
        "### .INI file overrides: setting defautlts and other options"
      ]
    },
    {
      "cell_type": "markdown",
      "metadata": {
        "id": "A6OC933cMA2n"
      },
      "source": [
        "The package contains an INI file for configuration. You can override any setting by providing your own then calling this before creating a report:\n",
        "```\n",
        "sv.config_parser.read(\"Override.ini\")\n",
        "```\n",
        "**IMPORTANT #1**: it is best to load overrides before any other command, as many of the INI options are used in the report generation.\n",
        "\n",
        "**IMPORTANT #2**: values in the INI are separated with a header (e.g. `[General]`). **Always** set the header before the value, otherwise there will be an error.\n",
        "\n",
        "**IMPORTANT #3**: note the double '%' if specifying a percentage string (see `notebook_width` below).\n",
        "\n",
        "You can look into the file `sweetviz_defaults.ini` for what can be overriden (warning: much of it is a work in progress and not well documented), but the most useful overrides are as follows."
      ]
    },
    {
      "cell_type": "markdown",
      "metadata": {
        "id": "ci0pYvhKM2RB"
      },
      "source": [
        "```\n",
        "[General]\n",
        "; Set this to 1 to support Chinese, Japanese, Korean characters better\n",
        "use_cjk_font = 0\n",
        "association_min_to_bold = 0.1\n",
        "\n",
        "[Output_Defaults]\n",
        "html_layout = widescreen\n",
        "html_scale = 1.0\n",
        "notebook_layout = vertical\n",
        "notebook_scale = 1.0\n",
        "notebook_width = 100%%\n",
        "notebook_height = 750\n",
        "\n",
        "[Layout]\n",
        "show_logo = 1\n",
        "\n",
        "[Type_Detection]\n",
        "; Numeric columns will be considered CATEGORICAL if fewer than this many distinct\n",
        "max_numeric_distinct_to_be_categorical = 10\n",
        "; Text columns will be considered TEXT if more than this many distinct (CATEGORICAL otherwise)\n",
        "max_text_distinct_to_be_categorical = 101\n",
        "; Text columns will be considered TEXT if more than this fraction are distinct\n",
        "max_text_fraction_distinct_to_be_categorical = 0.33\n",
        "```"
      ]
    },
    {
      "cell_type": "markdown",
      "metadata": {
        "id": "3tfSjjJjNUvP"
      },
      "source": [
        "Note that your `Override.ini` **does not need to contain every value**, and could be something like:"
      ]
    },
    {
      "cell_type": "markdown",
      "metadata": {
        "id": "smo6kyC7NfOt"
      },
      "source": [
        "```\n",
        "[General]\n",
        "use_cjk_font = 0\n",
        "\n",
        "[Output_Defaults]\n",
        "notebook_layout = widescreen\n",
        "notebook_scale = 0.8\n",
        "```\n"
      ]
    }
  ],
  "metadata": {
    "colab": {
      "name": "Fast & powerful EDA in notebooks using Sweetviz 2.0",
      "provenance": []
    },
    "kernelspec": {
      "display_name": "Python 3.9.12 ('base')",
      "language": "python",
      "name": "python3"
    },
    "language_info": {
      "codemirror_mode": {
        "name": "ipython",
        "version": 3
      },
      "file_extension": ".py",
      "mimetype": "text/x-python",
      "name": "python",
      "nbconvert_exporter": "python",
      "pygments_lexer": "ipython3",
      "version": "3.9.12"
    },
    "vscode": {
      "interpreter": {
        "hash": "40d3a090f54c6569ab1632332b64b2c03c39dcf918b08424e98f38b5ae0af88f"
      }
    },
    "widgets": {
      "application/vnd.jupyter.widget-state+json": {
        "11e085add9ad4cb7bbf4a141061e04e4": {
          "model_module": "@jupyter-widgets/controls",
          "model_module_version": "1.5.0",
          "model_name": "DescriptionStyleModel",
          "state": {
            "_model_module": "@jupyter-widgets/controls",
            "_model_module_version": "1.5.0",
            "_model_name": "DescriptionStyleModel",
            "_view_count": null,
            "_view_module": "@jupyter-widgets/base",
            "_view_module_version": "1.2.0",
            "_view_name": "StyleView",
            "description_width": ""
          }
        },
        "151c773219e0457ba36312ac4816bb94": {
          "model_module": "@jupyter-widgets/base",
          "model_module_version": "1.2.0",
          "model_name": "LayoutModel",
          "state": {
            "_model_module": "@jupyter-widgets/base",
            "_model_module_version": "1.2.0",
            "_model_name": "LayoutModel",
            "_view_count": null,
            "_view_module": "@jupyter-widgets/base",
            "_view_module_version": "1.2.0",
            "_view_name": "LayoutView",
            "align_content": null,
            "align_items": null,
            "align_self": null,
            "border": null,
            "bottom": null,
            "display": "inline-flex",
            "flex": null,
            "flex_flow": "row wrap",
            "grid_area": null,
            "grid_auto_columns": null,
            "grid_auto_flow": null,
            "grid_auto_rows": null,
            "grid_column": null,
            "grid_gap": null,
            "grid_row": null,
            "grid_template_areas": null,
            "grid_template_columns": null,
            "grid_template_rows": null,
            "height": null,
            "justify_content": null,
            "justify_items": null,
            "left": null,
            "margin": null,
            "max_height": null,
            "max_width": null,
            "min_height": null,
            "min_width": null,
            "object_fit": null,
            "object_position": null,
            "order": null,
            "overflow": null,
            "overflow_x": null,
            "overflow_y": null,
            "padding": null,
            "right": null,
            "top": null,
            "visibility": null,
            "width": "100%"
          }
        },
        "172a6b6867754ab08ceb1f86fd09c725": {
          "model_module": "@jupyter-widgets/base",
          "model_module_version": "1.2.0",
          "model_name": "LayoutModel",
          "state": {
            "_model_module": "@jupyter-widgets/base",
            "_model_module_version": "1.2.0",
            "_model_name": "LayoutModel",
            "_view_count": null,
            "_view_module": "@jupyter-widgets/base",
            "_view_module_version": "1.2.0",
            "_view_name": "LayoutView",
            "align_content": null,
            "align_items": null,
            "align_self": null,
            "border": null,
            "bottom": null,
            "display": null,
            "flex": null,
            "flex_flow": null,
            "grid_area": null,
            "grid_auto_columns": null,
            "grid_auto_flow": null,
            "grid_auto_rows": null,
            "grid_column": null,
            "grid_gap": null,
            "grid_row": null,
            "grid_template_areas": null,
            "grid_template_columns": null,
            "grid_template_rows": null,
            "height": null,
            "justify_content": null,
            "justify_items": null,
            "left": null,
            "margin": null,
            "max_height": null,
            "max_width": null,
            "min_height": null,
            "min_width": null,
            "object_fit": null,
            "object_position": null,
            "order": null,
            "overflow": null,
            "overflow_x": null,
            "overflow_y": null,
            "padding": null,
            "right": null,
            "top": null,
            "visibility": null,
            "width": null
          }
        },
        "217628c1898d4ce59b0aeb98522f4309": {
          "model_module": "@jupyter-widgets/controls",
          "model_module_version": "1.5.0",
          "model_name": "DescriptionStyleModel",
          "state": {
            "_model_module": "@jupyter-widgets/controls",
            "_model_module_version": "1.5.0",
            "_model_name": "DescriptionStyleModel",
            "_view_count": null,
            "_view_module": "@jupyter-widgets/base",
            "_view_module_version": "1.2.0",
            "_view_name": "StyleView",
            "description_width": ""
          }
        },
        "2188f899886c4fd8baa2cc22863db020": {
          "model_module": "@jupyter-widgets/controls",
          "model_module_version": "1.5.0",
          "model_name": "DescriptionStyleModel",
          "state": {
            "_model_module": "@jupyter-widgets/controls",
            "_model_module_version": "1.5.0",
            "_model_name": "DescriptionStyleModel",
            "_view_count": null,
            "_view_module": "@jupyter-widgets/base",
            "_view_module_version": "1.2.0",
            "_view_name": "StyleView",
            "description_width": ""
          }
        },
        "2e1a72da9dda41b68f453eab555569a1": {
          "model_module": "@jupyter-widgets/controls",
          "model_module_version": "1.5.0",
          "model_name": "FloatProgressModel",
          "state": {
            "_dom_classes": [],
            "_model_module": "@jupyter-widgets/controls",
            "_model_module_version": "1.5.0",
            "_model_name": "FloatProgressModel",
            "_view_count": null,
            "_view_module": "@jupyter-widgets/controls",
            "_view_module_version": "1.5.0",
            "_view_name": "ProgressView",
            "bar_style": "success",
            "description": "",
            "description_tooltip": null,
            "layout": "IPY_MODEL_f112571dbe0546698d629148db6d0042",
            "max": 1,
            "min": 0,
            "orientation": "horizontal",
            "style": "IPY_MODEL_6957c080c62c4cbb8cd7dcf627ed3207",
            "value": 1
          }
        },
        "321108a3f7a74417bad82fef79d40e34": {
          "model_module": "@jupyter-widgets/controls",
          "model_module_version": "1.5.0",
          "model_name": "FloatProgressModel",
          "state": {
            "_dom_classes": [],
            "_model_module": "@jupyter-widgets/controls",
            "_model_module_version": "1.5.0",
            "_model_name": "FloatProgressModel",
            "_view_count": null,
            "_view_module": "@jupyter-widgets/controls",
            "_view_module_version": "1.5.0",
            "_view_name": "ProgressView",
            "bar_style": "success",
            "description": "",
            "description_tooltip": null,
            "layout": "IPY_MODEL_94a81645c3c64ed8bd53b0ddfead0bec",
            "max": 1,
            "min": 0,
            "orientation": "horizontal",
            "style": "IPY_MODEL_3b3b4a48f8484449b27c47bdb6d7c665",
            "value": 1
          }
        },
        "3b3b4a48f8484449b27c47bdb6d7c665": {
          "model_module": "@jupyter-widgets/controls",
          "model_module_version": "1.5.0",
          "model_name": "ProgressStyleModel",
          "state": {
            "_model_module": "@jupyter-widgets/controls",
            "_model_module_version": "1.5.0",
            "_model_name": "ProgressStyleModel",
            "_view_count": null,
            "_view_module": "@jupyter-widgets/base",
            "_view_module_version": "1.2.0",
            "_view_name": "StyleView",
            "bar_color": null,
            "description_width": ""
          }
        },
        "44be60e96a4e40bfa8a5ba31cc172a28": {
          "model_module": "@jupyter-widgets/base",
          "model_module_version": "1.2.0",
          "model_name": "LayoutModel",
          "state": {
            "_model_module": "@jupyter-widgets/base",
            "_model_module_version": "1.2.0",
            "_model_name": "LayoutModel",
            "_view_count": null,
            "_view_module": "@jupyter-widgets/base",
            "_view_module_version": "1.2.0",
            "_view_name": "LayoutView",
            "align_content": null,
            "align_items": null,
            "align_self": null,
            "border": null,
            "bottom": null,
            "display": null,
            "flex": null,
            "flex_flow": null,
            "grid_area": null,
            "grid_auto_columns": null,
            "grid_auto_flow": null,
            "grid_auto_rows": null,
            "grid_column": null,
            "grid_gap": null,
            "grid_row": null,
            "grid_template_areas": null,
            "grid_template_columns": null,
            "grid_template_rows": null,
            "height": null,
            "justify_content": null,
            "justify_items": null,
            "left": null,
            "margin": null,
            "max_height": null,
            "max_width": null,
            "min_height": null,
            "min_width": null,
            "object_fit": null,
            "object_position": null,
            "order": null,
            "overflow": null,
            "overflow_x": null,
            "overflow_y": null,
            "padding": null,
            "right": null,
            "top": null,
            "visibility": null,
            "width": null
          }
        },
        "5dd35c85002d4c07abba5480a1defb70": {
          "model_module": "@jupyter-widgets/controls",
          "model_module_version": "1.5.0",
          "model_name": "HBoxModel",
          "state": {
            "_dom_classes": [],
            "_model_module": "@jupyter-widgets/controls",
            "_model_module_version": "1.5.0",
            "_model_name": "HBoxModel",
            "_view_count": null,
            "_view_module": "@jupyter-widgets/controls",
            "_view_module_version": "1.5.0",
            "_view_name": "HBoxView",
            "box_style": "",
            "children": [
              "IPY_MODEL_dc4d8c1f44be451eaf548171a9756648",
              "IPY_MODEL_eaf61b5011f34d68a8a86afa345808ef",
              "IPY_MODEL_a2c097a5a8a14fdaab299b7f0a00280f"
            ],
            "layout": "IPY_MODEL_902f3cd32d9049bcb6325af8a11fcd03"
          }
        },
        "6957c080c62c4cbb8cd7dcf627ed3207": {
          "model_module": "@jupyter-widgets/controls",
          "model_module_version": "1.5.0",
          "model_name": "ProgressStyleModel",
          "state": {
            "_model_module": "@jupyter-widgets/controls",
            "_model_module_version": "1.5.0",
            "_model_name": "ProgressStyleModel",
            "_view_count": null,
            "_view_module": "@jupyter-widgets/base",
            "_view_module_version": "1.2.0",
            "_view_name": "StyleView",
            "bar_color": null,
            "description_width": ""
          }
        },
        "7a8220d4ea9149869b498fd57be97b7a": {
          "model_module": "@jupyter-widgets/base",
          "model_module_version": "1.2.0",
          "model_name": "LayoutModel",
          "state": {
            "_model_module": "@jupyter-widgets/base",
            "_model_module_version": "1.2.0",
            "_model_name": "LayoutModel",
            "_view_count": null,
            "_view_module": "@jupyter-widgets/base",
            "_view_module_version": "1.2.0",
            "_view_name": "LayoutView",
            "align_content": null,
            "align_items": null,
            "align_self": null,
            "border": null,
            "bottom": null,
            "display": null,
            "flex": null,
            "flex_flow": null,
            "grid_area": null,
            "grid_auto_columns": null,
            "grid_auto_flow": null,
            "grid_auto_rows": null,
            "grid_column": null,
            "grid_gap": null,
            "grid_row": null,
            "grid_template_areas": null,
            "grid_template_columns": null,
            "grid_template_rows": null,
            "height": null,
            "justify_content": null,
            "justify_items": null,
            "left": null,
            "margin": null,
            "max_height": null,
            "max_width": null,
            "min_height": null,
            "min_width": null,
            "object_fit": null,
            "object_position": null,
            "order": null,
            "overflow": null,
            "overflow_x": null,
            "overflow_y": null,
            "padding": null,
            "right": null,
            "top": null,
            "visibility": null,
            "width": null
          }
        },
        "7c490bde12c2420fb6c1860b4750238c": {
          "model_module": "@jupyter-widgets/controls",
          "model_module_version": "1.5.0",
          "model_name": "HBoxModel",
          "state": {
            "_dom_classes": [],
            "_model_module": "@jupyter-widgets/controls",
            "_model_module_version": "1.5.0",
            "_model_name": "HBoxModel",
            "_view_count": null,
            "_view_module": "@jupyter-widgets/controls",
            "_view_module_version": "1.5.0",
            "_view_name": "HBoxView",
            "box_style": "",
            "children": [
              "IPY_MODEL_bb18ad4f10324dba8169aa11d47696e6",
              "IPY_MODEL_2e1a72da9dda41b68f453eab555569a1",
              "IPY_MODEL_882e0df42dab421584cc549b3733c6cd"
            ],
            "layout": "IPY_MODEL_87dd6efd01644a968b5ac81e0dbdc9fd"
          }
        },
        "87dd6efd01644a968b5ac81e0dbdc9fd": {
          "model_module": "@jupyter-widgets/base",
          "model_module_version": "1.2.0",
          "model_name": "LayoutModel",
          "state": {
            "_model_module": "@jupyter-widgets/base",
            "_model_module_version": "1.2.0",
            "_model_name": "LayoutModel",
            "_view_count": null,
            "_view_module": "@jupyter-widgets/base",
            "_view_module_version": "1.2.0",
            "_view_name": "LayoutView",
            "align_content": null,
            "align_items": null,
            "align_self": null,
            "border": null,
            "bottom": null,
            "display": "inline-flex",
            "flex": null,
            "flex_flow": "row wrap",
            "grid_area": null,
            "grid_auto_columns": null,
            "grid_auto_flow": null,
            "grid_auto_rows": null,
            "grid_column": null,
            "grid_gap": null,
            "grid_row": null,
            "grid_template_areas": null,
            "grid_template_columns": null,
            "grid_template_rows": null,
            "height": null,
            "justify_content": null,
            "justify_items": null,
            "left": null,
            "margin": null,
            "max_height": null,
            "max_width": null,
            "min_height": null,
            "min_width": null,
            "object_fit": null,
            "object_position": null,
            "order": null,
            "overflow": null,
            "overflow_x": null,
            "overflow_y": null,
            "padding": null,
            "right": null,
            "top": null,
            "visibility": null,
            "width": "100%"
          }
        },
        "882e0df42dab421584cc549b3733c6cd": {
          "model_module": "@jupyter-widgets/controls",
          "model_module_version": "1.5.0",
          "model_name": "HTMLModel",
          "state": {
            "_dom_classes": [],
            "_model_module": "@jupyter-widgets/controls",
            "_model_module_version": "1.5.0",
            "_model_name": "HTMLModel",
            "_view_count": null,
            "_view_module": "@jupyter-widgets/controls",
            "_view_module_version": "1.5.0",
            "_view_name": "HTMLView",
            "description": "",
            "description_tooltip": null,
            "layout": "IPY_MODEL_cac5fcb9b1c2445d8a4a0097ec4b9898",
            "placeholder": "​",
            "style": "IPY_MODEL_f9ab58e259b94cfeab4567fd513538f4",
            "value": " [100%]   00:00 -&gt; (00:00 left)"
          }
        },
        "902f3cd32d9049bcb6325af8a11fcd03": {
          "model_module": "@jupyter-widgets/base",
          "model_module_version": "1.2.0",
          "model_name": "LayoutModel",
          "state": {
            "_model_module": "@jupyter-widgets/base",
            "_model_module_version": "1.2.0",
            "_model_name": "LayoutModel",
            "_view_count": null,
            "_view_module": "@jupyter-widgets/base",
            "_view_module_version": "1.2.0",
            "_view_name": "LayoutView",
            "align_content": null,
            "align_items": null,
            "align_self": null,
            "border": null,
            "bottom": null,
            "display": "inline-flex",
            "flex": null,
            "flex_flow": "row wrap",
            "grid_area": null,
            "grid_auto_columns": null,
            "grid_auto_flow": null,
            "grid_auto_rows": null,
            "grid_column": null,
            "grid_gap": null,
            "grid_row": null,
            "grid_template_areas": null,
            "grid_template_columns": null,
            "grid_template_rows": null,
            "height": null,
            "justify_content": null,
            "justify_items": null,
            "left": null,
            "margin": null,
            "max_height": null,
            "max_width": null,
            "min_height": null,
            "min_width": null,
            "object_fit": null,
            "object_position": null,
            "order": null,
            "overflow": null,
            "overflow_x": null,
            "overflow_y": null,
            "padding": null,
            "right": null,
            "top": null,
            "visibility": null,
            "width": "100%"
          }
        },
        "94a81645c3c64ed8bd53b0ddfead0bec": {
          "model_module": "@jupyter-widgets/base",
          "model_module_version": "1.2.0",
          "model_name": "LayoutModel",
          "state": {
            "_model_module": "@jupyter-widgets/base",
            "_model_module_version": "1.2.0",
            "_model_name": "LayoutModel",
            "_view_count": null,
            "_view_module": "@jupyter-widgets/base",
            "_view_module_version": "1.2.0",
            "_view_name": "LayoutView",
            "align_content": null,
            "align_items": null,
            "align_self": null,
            "border": null,
            "bottom": null,
            "display": null,
            "flex": "2",
            "flex_flow": null,
            "grid_area": null,
            "grid_auto_columns": null,
            "grid_auto_flow": null,
            "grid_auto_rows": null,
            "grid_column": null,
            "grid_gap": null,
            "grid_row": null,
            "grid_template_areas": null,
            "grid_template_columns": null,
            "grid_template_rows": null,
            "height": null,
            "justify_content": null,
            "justify_items": null,
            "left": null,
            "margin": null,
            "max_height": null,
            "max_width": null,
            "min_height": null,
            "min_width": null,
            "object_fit": null,
            "object_position": null,
            "order": null,
            "overflow": null,
            "overflow_x": null,
            "overflow_y": null,
            "padding": null,
            "right": null,
            "top": null,
            "visibility": null,
            "width": null
          }
        },
        "952e6901f3b8435b94270b3bc3579128": {
          "model_module": "@jupyter-widgets/controls",
          "model_module_version": "1.5.0",
          "model_name": "DescriptionStyleModel",
          "state": {
            "_model_module": "@jupyter-widgets/controls",
            "_model_module_version": "1.5.0",
            "_model_name": "DescriptionStyleModel",
            "_view_count": null,
            "_view_module": "@jupyter-widgets/base",
            "_view_module_version": "1.2.0",
            "_view_name": "StyleView",
            "description_width": ""
          }
        },
        "a2c097a5a8a14fdaab299b7f0a00280f": {
          "model_module": "@jupyter-widgets/controls",
          "model_module_version": "1.5.0",
          "model_name": "HTMLModel",
          "state": {
            "_dom_classes": [],
            "_model_module": "@jupyter-widgets/controls",
            "_model_module_version": "1.5.0",
            "_model_name": "HTMLModel",
            "_view_count": null,
            "_view_module": "@jupyter-widgets/controls",
            "_view_module_version": "1.5.0",
            "_view_name": "HTMLView",
            "description": "",
            "description_tooltip": null,
            "layout": "IPY_MODEL_cefaa2f851fe4a3ca3d3cedef74332ef",
            "placeholder": "​",
            "style": "IPY_MODEL_217628c1898d4ce59b0aeb98522f4309",
            "value": " [100%]   00:01 -&gt; (00:00 left)"
          }
        },
        "b5159f1c297c41939c699c38e6683a1a": {
          "model_module": "@jupyter-widgets/controls",
          "model_module_version": "1.5.0",
          "model_name": "HTMLModel",
          "state": {
            "_dom_classes": [],
            "_model_module": "@jupyter-widgets/controls",
            "_model_module_version": "1.5.0",
            "_model_name": "HTMLModel",
            "_view_count": null,
            "_view_module": "@jupyter-widgets/controls",
            "_view_module_version": "1.5.0",
            "_view_name": "HTMLView",
            "description": "",
            "description_tooltip": null,
            "layout": "IPY_MODEL_44be60e96a4e40bfa8a5ba31cc172a28",
            "placeholder": "​",
            "style": "IPY_MODEL_11e085add9ad4cb7bbf4a141061e04e4",
            "value": " [100%]   00:01 -&gt; (00:00 left)"
          }
        },
        "b84bf6681f4141f397dff6ea83b2be89": {
          "model_module": "@jupyter-widgets/controls",
          "model_module_version": "1.5.0",
          "model_name": "ProgressStyleModel",
          "state": {
            "_model_module": "@jupyter-widgets/controls",
            "_model_module_version": "1.5.0",
            "_model_name": "ProgressStyleModel",
            "_view_count": null,
            "_view_module": "@jupyter-widgets/base",
            "_view_module_version": "1.2.0",
            "_view_name": "StyleView",
            "bar_color": null,
            "description_width": ""
          }
        },
        "bb18ad4f10324dba8169aa11d47696e6": {
          "model_module": "@jupyter-widgets/controls",
          "model_module_version": "1.5.0",
          "model_name": "HTMLModel",
          "state": {
            "_dom_classes": [],
            "_model_module": "@jupyter-widgets/controls",
            "_model_module_version": "1.5.0",
            "_model_name": "HTMLModel",
            "_view_count": null,
            "_view_module": "@jupyter-widgets/controls",
            "_view_module_version": "1.5.0",
            "_view_name": "HTMLView",
            "description": "",
            "description_tooltip": null,
            "layout": "IPY_MODEL_172a6b6867754ab08ceb1f86fd09c725",
            "placeholder": "​",
            "style": "IPY_MODEL_2188f899886c4fd8baa2cc22863db020",
            "value": "Done! Use &#x27;show&#x27; commands to display/save.   "
          }
        },
        "bec83f1227d54206a685ad02e920f287": {
          "model_module": "@jupyter-widgets/controls",
          "model_module_version": "1.5.0",
          "model_name": "HTMLModel",
          "state": {
            "_dom_classes": [],
            "_model_module": "@jupyter-widgets/controls",
            "_model_module_version": "1.5.0",
            "_model_name": "HTMLModel",
            "_view_count": null,
            "_view_module": "@jupyter-widgets/controls",
            "_view_module_version": "1.5.0",
            "_view_name": "HTMLView",
            "description": "",
            "description_tooltip": null,
            "layout": "IPY_MODEL_e188b99fe0e14cb0b2ed8955a0c58890",
            "placeholder": "​",
            "style": "IPY_MODEL_952e6901f3b8435b94270b3bc3579128",
            "value": "Done! Use &#x27;show&#x27; commands to display/save.   "
          }
        },
        "cac5fcb9b1c2445d8a4a0097ec4b9898": {
          "model_module": "@jupyter-widgets/base",
          "model_module_version": "1.2.0",
          "model_name": "LayoutModel",
          "state": {
            "_model_module": "@jupyter-widgets/base",
            "_model_module_version": "1.2.0",
            "_model_name": "LayoutModel",
            "_view_count": null,
            "_view_module": "@jupyter-widgets/base",
            "_view_module_version": "1.2.0",
            "_view_name": "LayoutView",
            "align_content": null,
            "align_items": null,
            "align_self": null,
            "border": null,
            "bottom": null,
            "display": null,
            "flex": null,
            "flex_flow": null,
            "grid_area": null,
            "grid_auto_columns": null,
            "grid_auto_flow": null,
            "grid_auto_rows": null,
            "grid_column": null,
            "grid_gap": null,
            "grid_row": null,
            "grid_template_areas": null,
            "grid_template_columns": null,
            "grid_template_rows": null,
            "height": null,
            "justify_content": null,
            "justify_items": null,
            "left": null,
            "margin": null,
            "max_height": null,
            "max_width": null,
            "min_height": null,
            "min_width": null,
            "object_fit": null,
            "object_position": null,
            "order": null,
            "overflow": null,
            "overflow_x": null,
            "overflow_y": null,
            "padding": null,
            "right": null,
            "top": null,
            "visibility": null,
            "width": null
          }
        },
        "cefaa2f851fe4a3ca3d3cedef74332ef": {
          "model_module": "@jupyter-widgets/base",
          "model_module_version": "1.2.0",
          "model_name": "LayoutModel",
          "state": {
            "_model_module": "@jupyter-widgets/base",
            "_model_module_version": "1.2.0",
            "_model_name": "LayoutModel",
            "_view_count": null,
            "_view_module": "@jupyter-widgets/base",
            "_view_module_version": "1.2.0",
            "_view_name": "LayoutView",
            "align_content": null,
            "align_items": null,
            "align_self": null,
            "border": null,
            "bottom": null,
            "display": null,
            "flex": null,
            "flex_flow": null,
            "grid_area": null,
            "grid_auto_columns": null,
            "grid_auto_flow": null,
            "grid_auto_rows": null,
            "grid_column": null,
            "grid_gap": null,
            "grid_row": null,
            "grid_template_areas": null,
            "grid_template_columns": null,
            "grid_template_rows": null,
            "height": null,
            "justify_content": null,
            "justify_items": null,
            "left": null,
            "margin": null,
            "max_height": null,
            "max_width": null,
            "min_height": null,
            "min_width": null,
            "object_fit": null,
            "object_position": null,
            "order": null,
            "overflow": null,
            "overflow_x": null,
            "overflow_y": null,
            "padding": null,
            "right": null,
            "top": null,
            "visibility": null,
            "width": null
          }
        },
        "dc4d8c1f44be451eaf548171a9756648": {
          "model_module": "@jupyter-widgets/controls",
          "model_module_version": "1.5.0",
          "model_name": "HTMLModel",
          "state": {
            "_dom_classes": [],
            "_model_module": "@jupyter-widgets/controls",
            "_model_module_version": "1.5.0",
            "_model_name": "HTMLModel",
            "_view_count": null,
            "_view_module": "@jupyter-widgets/controls",
            "_view_module_version": "1.5.0",
            "_view_name": "HTMLView",
            "description": "",
            "description_tooltip": null,
            "layout": "IPY_MODEL_7a8220d4ea9149869b498fd57be97b7a",
            "placeholder": "​",
            "style": "IPY_MODEL_ef1a684770134b50af7ae45488aacbf4",
            "value": "Done! Use &#x27;show&#x27; commands to display/save.   "
          }
        },
        "dde15d3713994e5ab3a841fd5275b6e2": {
          "model_module": "@jupyter-widgets/base",
          "model_module_version": "1.2.0",
          "model_name": "LayoutModel",
          "state": {
            "_model_module": "@jupyter-widgets/base",
            "_model_module_version": "1.2.0",
            "_model_name": "LayoutModel",
            "_view_count": null,
            "_view_module": "@jupyter-widgets/base",
            "_view_module_version": "1.2.0",
            "_view_name": "LayoutView",
            "align_content": null,
            "align_items": null,
            "align_self": null,
            "border": null,
            "bottom": null,
            "display": null,
            "flex": "2",
            "flex_flow": null,
            "grid_area": null,
            "grid_auto_columns": null,
            "grid_auto_flow": null,
            "grid_auto_rows": null,
            "grid_column": null,
            "grid_gap": null,
            "grid_row": null,
            "grid_template_areas": null,
            "grid_template_columns": null,
            "grid_template_rows": null,
            "height": null,
            "justify_content": null,
            "justify_items": null,
            "left": null,
            "margin": null,
            "max_height": null,
            "max_width": null,
            "min_height": null,
            "min_width": null,
            "object_fit": null,
            "object_position": null,
            "order": null,
            "overflow": null,
            "overflow_x": null,
            "overflow_y": null,
            "padding": null,
            "right": null,
            "top": null,
            "visibility": null,
            "width": null
          }
        },
        "e188b99fe0e14cb0b2ed8955a0c58890": {
          "model_module": "@jupyter-widgets/base",
          "model_module_version": "1.2.0",
          "model_name": "LayoutModel",
          "state": {
            "_model_module": "@jupyter-widgets/base",
            "_model_module_version": "1.2.0",
            "_model_name": "LayoutModel",
            "_view_count": null,
            "_view_module": "@jupyter-widgets/base",
            "_view_module_version": "1.2.0",
            "_view_name": "LayoutView",
            "align_content": null,
            "align_items": null,
            "align_self": null,
            "border": null,
            "bottom": null,
            "display": null,
            "flex": null,
            "flex_flow": null,
            "grid_area": null,
            "grid_auto_columns": null,
            "grid_auto_flow": null,
            "grid_auto_rows": null,
            "grid_column": null,
            "grid_gap": null,
            "grid_row": null,
            "grid_template_areas": null,
            "grid_template_columns": null,
            "grid_template_rows": null,
            "height": null,
            "justify_content": null,
            "justify_items": null,
            "left": null,
            "margin": null,
            "max_height": null,
            "max_width": null,
            "min_height": null,
            "min_width": null,
            "object_fit": null,
            "object_position": null,
            "order": null,
            "overflow": null,
            "overflow_x": null,
            "overflow_y": null,
            "padding": null,
            "right": null,
            "top": null,
            "visibility": null,
            "width": null
          }
        },
        "eaf61b5011f34d68a8a86afa345808ef": {
          "model_module": "@jupyter-widgets/controls",
          "model_module_version": "1.5.0",
          "model_name": "FloatProgressModel",
          "state": {
            "_dom_classes": [],
            "_model_module": "@jupyter-widgets/controls",
            "_model_module_version": "1.5.0",
            "_model_name": "FloatProgressModel",
            "_view_count": null,
            "_view_module": "@jupyter-widgets/controls",
            "_view_module_version": "1.5.0",
            "_view_name": "ProgressView",
            "bar_style": "success",
            "description": "",
            "description_tooltip": null,
            "layout": "IPY_MODEL_dde15d3713994e5ab3a841fd5275b6e2",
            "max": 1,
            "min": 0,
            "orientation": "horizontal",
            "style": "IPY_MODEL_b84bf6681f4141f397dff6ea83b2be89",
            "value": 1
          }
        },
        "ef1a684770134b50af7ae45488aacbf4": {
          "model_module": "@jupyter-widgets/controls",
          "model_module_version": "1.5.0",
          "model_name": "DescriptionStyleModel",
          "state": {
            "_model_module": "@jupyter-widgets/controls",
            "_model_module_version": "1.5.0",
            "_model_name": "DescriptionStyleModel",
            "_view_count": null,
            "_view_module": "@jupyter-widgets/base",
            "_view_module_version": "1.2.0",
            "_view_name": "StyleView",
            "description_width": ""
          }
        },
        "f112571dbe0546698d629148db6d0042": {
          "model_module": "@jupyter-widgets/base",
          "model_module_version": "1.2.0",
          "model_name": "LayoutModel",
          "state": {
            "_model_module": "@jupyter-widgets/base",
            "_model_module_version": "1.2.0",
            "_model_name": "LayoutModel",
            "_view_count": null,
            "_view_module": "@jupyter-widgets/base",
            "_view_module_version": "1.2.0",
            "_view_name": "LayoutView",
            "align_content": null,
            "align_items": null,
            "align_self": null,
            "border": null,
            "bottom": null,
            "display": null,
            "flex": "2",
            "flex_flow": null,
            "grid_area": null,
            "grid_auto_columns": null,
            "grid_auto_flow": null,
            "grid_auto_rows": null,
            "grid_column": null,
            "grid_gap": null,
            "grid_row": null,
            "grid_template_areas": null,
            "grid_template_columns": null,
            "grid_template_rows": null,
            "height": null,
            "justify_content": null,
            "justify_items": null,
            "left": null,
            "margin": null,
            "max_height": null,
            "max_width": null,
            "min_height": null,
            "min_width": null,
            "object_fit": null,
            "object_position": null,
            "order": null,
            "overflow": null,
            "overflow_x": null,
            "overflow_y": null,
            "padding": null,
            "right": null,
            "top": null,
            "visibility": null,
            "width": null
          }
        },
        "f2fa1cfa777845d8a9ccb2b0ab3e4711": {
          "model_module": "@jupyter-widgets/controls",
          "model_module_version": "1.5.0",
          "model_name": "HBoxModel",
          "state": {
            "_dom_classes": [],
            "_model_module": "@jupyter-widgets/controls",
            "_model_module_version": "1.5.0",
            "_model_name": "HBoxModel",
            "_view_count": null,
            "_view_module": "@jupyter-widgets/controls",
            "_view_module_version": "1.5.0",
            "_view_name": "HBoxView",
            "box_style": "",
            "children": [
              "IPY_MODEL_bec83f1227d54206a685ad02e920f287",
              "IPY_MODEL_321108a3f7a74417bad82fef79d40e34",
              "IPY_MODEL_b5159f1c297c41939c699c38e6683a1a"
            ],
            "layout": "IPY_MODEL_151c773219e0457ba36312ac4816bb94"
          }
        },
        "f9ab58e259b94cfeab4567fd513538f4": {
          "model_module": "@jupyter-widgets/controls",
          "model_module_version": "1.5.0",
          "model_name": "DescriptionStyleModel",
          "state": {
            "_model_module": "@jupyter-widgets/controls",
            "_model_module_version": "1.5.0",
            "_model_name": "DescriptionStyleModel",
            "_view_count": null,
            "_view_module": "@jupyter-widgets/base",
            "_view_module_version": "1.2.0",
            "_view_name": "StyleView",
            "description_width": ""
          }
        }
      }
    }
  },
  "nbformat": 4,
  "nbformat_minor": 0
}
