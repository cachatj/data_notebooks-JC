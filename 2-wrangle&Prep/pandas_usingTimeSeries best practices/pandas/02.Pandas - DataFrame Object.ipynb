{
 "cells": [
  {
   "cell_type": "markdown",
   "source": "# DataFrame Object\n\nThe pandas DataFrame object extends the capabilities of the Series object into 2-dimensions. A Series object adds an index to a NumPy array but can only associate a single data item per index label, a DataFrame integrates multiple Series objects by aligning them along common index labels.\n\nA DataFrame object can be thought of as a dictionary-like container of one or more Series objects or as a spreadsheet or even to a database table.\n\nA DataFrame also introduces the concept of multiple axes, specifically the horizontal and vertical axis. Functions from Pandas can then be applied to either axis and the operation can be applied horizontally to alll the values in the rows or up and down each column.",
   "metadata": {
    "cell_id": "7c7d54a2-27b5-42ab-a8b6-0e731fda3e14",
    "deepnote_cell_type": "markdown"
   }
  },
  {
   "cell_type": "markdown",
   "source": "## Creating DataFrame",
   "metadata": {
    "cell_id": "00001-b8129c8f-0ed2-4415-980c-014cf0083665",
    "deepnote_cell_type": "markdown"
   }
  },
  {
   "cell_type": "code",
   "metadata": {
    "collapsed": true,
    "cell_id": "00002-a501d8d9-795d-486c-beae-47cd026cec86",
    "deepnote_cell_type": "code"
   },
   "source": "# import NumPy and pandas\nimport numpy as np\nimport pandas as pd\n\n# set some pandas options\npd.set_option('display.notebook_repr_html', False)\npd.set_option('display.max_columns', 10)\npd.set_option('display.max_rows',10)",
   "outputs": [],
   "execution_count": null
  },
  {
   "cell_type": "code",
   "metadata": {
    "cell_id": "00003-8ed91038-e252-469b-8afd-3094000395c8",
    "deepnote_cell_type": "code"
   },
   "source": "# create a DataFrame from a 2-d array\npd.DataFrame(np.array([[10,11],[20,21]]))",
   "outputs": [
    {
     "data": {
      "text/plain": "    0   1\n0  10  11\n1  20  21"
     },
     "execution_count": 3,
     "metadata": {},
     "output_type": "execute_result"
    }
   ],
   "execution_count": null
  },
  {
   "cell_type": "code",
   "metadata": {
    "cell_id": "00004-6020509f-7e16-4e59-882b-34fe503aa77a",
    "deepnote_cell_type": "code"
   },
   "source": "# create a DataFrame from a list of Series objects\ndf1 = pd.DataFrame([pd.Series(np.arange(10,15)),pd.Series(np.arange(15,20))])\ndf1",
   "outputs": [
    {
     "data": {
      "text/plain": "    0   1   2   3   4\n0  10  11  12  13  14\n1  15  16  17  18  19"
     },
     "execution_count": 4,
     "metadata": {},
     "output_type": "execute_result"
    }
   ],
   "execution_count": null
  },
  {
   "cell_type": "code",
   "metadata": {
    "cell_id": "00005-110fcc1f-d173-4a6c-9a6a-59d270104c02",
    "deepnote_cell_type": "code"
   },
   "source": "# what is the shape of the data frame\ndf1.shape",
   "outputs": [
    {
     "data": {
      "text/plain": "(2, 5)"
     },
     "execution_count": 5,
     "metadata": {},
     "output_type": "execute_result"
    }
   ],
   "execution_count": null
  },
  {
   "cell_type": "code",
   "metadata": {
    "cell_id": "00006-901bda4f-08f5-4339-bafc-c66cc46327f4",
    "deepnote_cell_type": "code"
   },
   "source": "# specify column names\ndf = pd.DataFrame(np.array([[10,11],[20,21]]), columns=['a','b'])\ndf",
   "outputs": [
    {
     "data": {
      "text/plain": "    a   b\n0  10  11\n1  20  21"
     },
     "execution_count": 7,
     "metadata": {},
     "output_type": "execute_result"
    }
   ],
   "execution_count": null
  },
  {
   "cell_type": "code",
   "metadata": {
    "cell_id": "00007-4b1fec78-7221-496e-b0f8-1208e1ee720d",
    "deepnote_cell_type": "code"
   },
   "source": "# what are the name of he columns\ndf.columns",
   "outputs": [
    {
     "data": {
      "text/plain": "Index(['a', 'b'], dtype='object')"
     },
     "execution_count": 9,
     "metadata": {},
     "output_type": "execute_result"
    }
   ],
   "execution_count": null
  },
  {
   "cell_type": "code",
   "metadata": {
    "cell_id": "00008-460c115b-d2d9-416e-827b-271cf1aca8a0",
    "deepnote_cell_type": "code"
   },
   "source": "# retrieve just the names of the columns by position\n\"{0},{1}\".format(df.columns[0],df.columns[1])",
   "outputs": [
    {
     "data": {
      "text/plain": "'a,b'"
     },
     "execution_count": 10,
     "metadata": {},
     "output_type": "execute_result"
    }
   ],
   "execution_count": null
  },
  {
   "cell_type": "code",
   "metadata": {
    "cell_id": "00009-4804ec15-7ee7-4875-805b-cfadf05a59ca",
    "deepnote_cell_type": "code"
   },
   "source": "# rename the columns\ndf.columns = ['c','d']\ndf",
   "outputs": [
    {
     "data": {
      "text/plain": "    c   d\n0  10  11\n1  20  21"
     },
     "execution_count": 11,
     "metadata": {},
     "output_type": "execute_result"
    }
   ],
   "execution_count": null
  },
  {
   "cell_type": "code",
   "metadata": {
    "cell_id": "00010-886871ee-5846-4eba-aad2-15f8ea5f5670",
    "deepnote_cell_type": "code"
   },
   "source": "# create a dataframe with named rows and columns\ndf = pd.DataFrame(np.array([[10,11],[20,21]]),columns=['col1','col2'],index=['row1','row2'])\ndf",
   "outputs": [
    {
     "data": {
      "text/plain": "      col1  col2\nrow1    10    11\nrow2    20    21"
     },
     "execution_count": 13,
     "metadata": {},
     "output_type": "execute_result"
    }
   ],
   "execution_count": null
  },
  {
   "cell_type": "code",
   "metadata": {
    "cell_id": "00011-677d0f7a-8f72-4b88-907f-c0f625967074",
    "deepnote_cell_type": "code"
   },
   "source": "df.index",
   "outputs": [
    {
     "data": {
      "text/plain": "Index(['row1', 'row2'], dtype='object')"
     },
     "execution_count": 14,
     "metadata": {},
     "output_type": "execute_result"
    }
   ],
   "execution_count": null
  },
  {
   "cell_type": "code",
   "metadata": {
    "cell_id": "00012-4cf81069-20bd-40be-bbd5-ea847cc3f86d",
    "deepnote_cell_type": "code"
   },
   "source": "# create a dataframe with 2 series objects\n# and a dictionary\ns1 = pd.Series(np.arange(1,6,1))\ns2 = pd.Series(np.arange(6,11,1))\npd.DataFrame({'c1':s1,'c2':s2})",
   "outputs": [
    {
     "data": {
      "text/plain": "   c1  c2\n0   1   6\n1   2   7\n2   3   8\n3   4   9\n4   5  10"
     },
     "execution_count": 15,
     "metadata": {},
     "output_type": "execute_result"
    }
   ],
   "execution_count": null
  },
  {
   "cell_type": "markdown",
   "source": "A DataFrame also performs automatic alignment of the data for each Series passed in by a dictionary. For example, the following code adds a third column in the DataFrame initialisation.",
   "metadata": {
    "cell_id": "00013-3536befd-6a02-4294-b3b0-5f574ce9b75e",
    "deepnote_cell_type": "markdown"
   }
  },
  {
   "cell_type": "code",
   "metadata": {
    "cell_id": "00014-2a17ab60-6e60-4558-b24f-754fa716a15a",
    "deepnote_cell_type": "code"
   },
   "source": "# demonstrate alignment during creation\ns3 = pd.Series(np.arange(12,14),index=[1,2])\ndf = pd.DataFrame({'c1':s1,'c2':s2,'c3':s3})\ndf",
   "outputs": [
    {
     "data": {
      "text/plain": "   c1  c2    c3\n0   1   6   NaN\n1   2   7  12.0\n2   3   8  13.0\n3   4   9   NaN\n4   5  10   NaN"
     },
     "execution_count": 16,
     "metadata": {},
     "output_type": "execute_result"
    }
   ],
   "execution_count": null
  },
  {
   "cell_type": "markdown",
   "source": "In the above example, first two Series did not have an index specified so they were indexed with default labels 0..4. The third Series has index values, and therefore the values for those indexes are placed in DataFrame in the row with the matching index from the previous columns.",
   "metadata": {
    "cell_id": "00015-b73cdedd-0934-4c0c-9c20-1e7a101a4e14",
    "deepnote_cell_type": "markdown"
   }
  },
  {
   "cell_type": "markdown",
   "source": "# Example Dataset\n\nS&P500 is a sample file from Yahoo! Finance. ",
   "metadata": {
    "collapsed": true,
    "cell_id": "00016-d026843e-4fb1-4964-8f0a-60c08e21021e",
    "deepnote_cell_type": "markdown"
   }
  },
  {
   "cell_type": "code",
   "metadata": {
    "cell_id": "00017-8820d10c-1363-40a6-8c82-74ddf3d405da",
    "deepnote_cell_type": "code"
   },
   "source": "# show the first 3 lines of the file\n!head -n 3 ../../data/sp500.csv",
   "outputs": [
    {
     "name": "stdout",
     "output_type": "stream",
     "text": "Symbol,Name,Sector,Price,Dividend Yield,Price/Earnings,Earnings/Share,Book Value,52 week low,52 week high,Market Cap,EBITDA,Price/Sales,Price/Book,SEC Filings\r\r\nMMM,3M Co.,Industrials,141.14,2.12,20.33,6.90,26.668,107.15,143.37,92.345,8.121,2.95,5.26,http://www.sec.gov/cgi-bin/browse-edgar?action=getcompany&CIK=MMM\r\r\nABT,Abbott Laboratories,Health Care,39.60,1.82,25.93,1.529,15.573,32.70,40.49,59.477,4.359,2.74,2.55,http://www.sec.gov/cgi-bin/browse-edgar?action=getcompany&CIK=ABT\r\r\n"
    }
   ],
   "execution_count": null
  },
  {
   "cell_type": "code",
   "metadata": {
    "cell_id": "00018-64933f56-6d11-4982-b987-ea540751be60",
    "deepnote_cell_type": "code"
   },
   "source": "sp500 = pd.read_csv(\"../../data/sp500.csv\",index_col='Symbol',usecols=[0,2,3,7])\n# first five rows\nsp500.head()",
   "outputs": [
    {
     "data": {
      "text/plain": "                        Sector   Price  Book Value\nSymbol                                            \nMMM                Industrials  141.14      26.668\nABT                Health Care   39.60      15.573\nABBV               Health Care   53.95       2.954\nACN     Information Technology   79.79       8.326\nACE                 Financials  102.91      86.897"
     },
     "execution_count": 28,
     "metadata": {},
     "output_type": "execute_result"
    }
   ],
   "execution_count": null
  },
  {
   "cell_type": "code",
   "metadata": {
    "cell_id": "00019-4651e57f-ce55-45c7-8264-15103d4fee72",
    "deepnote_cell_type": "code"
   },
   "source": "# last 5 rows\nsp500.tail()",
   "outputs": [
    {
     "data": {
      "text/plain": "                        Sector   Price  Book Value\nSymbol                                            \nYHOO    Information Technology   35.02      12.768\nYUM     Consumer Discretionary   74.77       5.147\nZMH                Health Care  101.84      37.181\nZION                Financials   28.43      30.191\nZTS                Health Care   30.53       2.150"
     },
     "execution_count": 20,
     "metadata": {},
     "output_type": "execute_result"
    }
   ],
   "execution_count": null
  },
  {
   "cell_type": "code",
   "metadata": {
    "cell_id": "00020-0825365b-5f15-4a1c-a450-72ca340fe4e3",
    "deepnote_cell_type": "code"
   },
   "source": "# how many rows of data\nlen(sp500)",
   "outputs": [
    {
     "data": {
      "text/plain": "500"
     },
     "execution_count": 21,
     "metadata": {},
     "output_type": "execute_result"
    }
   ],
   "execution_count": null
  },
  {
   "cell_type": "code",
   "metadata": {
    "cell_id": "00021-868ad4a0-cfcf-4d76-b172-7999f5e8c47b",
    "deepnote_cell_type": "code"
   },
   "source": "# examine the index\nsp500.index",
   "outputs": [
    {
     "data": {
      "text/plain": "Index(['MMM', 'ABT', 'ABBV', 'ACN', 'ACE', 'ACT', 'ADBE', 'AES', 'AET', 'AFL',\n       ...\n       'XEL', 'XRX', 'XLNX', 'XL', 'XYL', 'YHOO', 'YUM', 'ZMH', 'ZION', 'ZTS'],\n      dtype='object', name='Symbol', length=500)"
     },
     "execution_count": 42,
     "metadata": {},
     "output_type": "execute_result"
    }
   ],
   "execution_count": null
  },
  {
   "cell_type": "code",
   "metadata": {
    "cell_id": "00022-99259368-aab1-48ca-949e-4069d56e6232",
    "deepnote_cell_type": "code"
   },
   "source": "# get the columns\nsp500.columns",
   "outputs": [
    {
     "data": {
      "text/plain": "Index(['Sector', 'Price', 'Book Value'], dtype='object')"
     },
     "execution_count": 23,
     "metadata": {},
     "output_type": "execute_result"
    }
   ],
   "execution_count": null
  },
  {
   "cell_type": "code",
   "metadata": {
    "cell_id": "00023-ee87a76e-325f-4deb-ad83-c36f52195846",
    "deepnote_cell_type": "code"
   },
   "source": "# second dataset\n!head -n 3 ../../data/omh.csv",
   "outputs": [
    {
     "name": "stdout",
     "output_type": "stream",
     "text": "Date,MSFT,AAPL\r\n2014-12-01,48.62,115.07\r\n2014-12-02,48.46,114.63\r\n"
    }
   ],
   "execution_count": null
  },
  {
   "cell_type": "code",
   "metadata": {
    "cell_id": "00024-ddb1d928-ccfb-4fcd-9537-f8305a92ee86",
    "deepnote_cell_type": "code"
   },
   "source": "# read in the data\none_mon_hist = pd.read_csv(\"../../data/omh.csv\")\none_mon_hist[:3]",
   "outputs": [
    {
     "data": {
      "text/plain": "         Date   MSFT    AAPL\n0  2014-12-01  48.62  115.07\n1  2014-12-02  48.46  114.63\n2  2014-12-03  48.08  115.93"
     },
     "execution_count": 25,
     "metadata": {},
     "output_type": "execute_result"
    }
   ],
   "execution_count": null
  },
  {
   "cell_type": "markdown",
   "source": "## Selecting Columns of a DataFrame",
   "metadata": {
    "cell_id": "00025-734b19fb-ffd5-4e04-a238-8d2861a4b97b",
    "deepnote_cell_type": "markdown"
   }
  },
  {
   "cell_type": "code",
   "metadata": {
    "cell_id": "00026-47291fd6-cee1-49b6-ac68-7709c6b53bee",
    "deepnote_cell_type": "code"
   },
   "source": "# get first and second columns by position or location\nsp500.columns",
   "outputs": [
    {
     "data": {
      "text/plain": "Index(['Sector', 'Price', 'Book Value'], dtype='object')"
     },
     "execution_count": 36,
     "metadata": {},
     "output_type": "execute_result"
    }
   ],
   "execution_count": null
  },
  {
   "cell_type": "code",
   "metadata": {
    "cell_id": "00027-34b92b2c-3766-409b-89c1-2c35134533d6",
    "deepnote_cell_type": "code"
   },
   "source": "type(sp500)",
   "outputs": [
    {
     "data": {
      "text/plain": "pandas.core.frame.DataFrame"
     },
     "execution_count": 47,
     "metadata": {},
     "output_type": "execute_result"
    }
   ],
   "execution_count": null
  },
  {
   "cell_type": "code",
   "metadata": {
    "cell_id": "00028-d584ba39-be3a-4d8a-9372-933a395979d8",
    "deepnote_cell_type": "code"
   },
   "source": "sp500[sp500.columns[1]].head()",
   "outputs": [
    {
     "data": {
      "text/plain": "Symbol\nMMM     141.14\nABT      39.60\nABBV     53.95\nACN      79.79\nACE     102.91\nName: Price, dtype: float64"
     },
     "execution_count": 62,
     "metadata": {},
     "output_type": "execute_result"
    }
   ],
   "execution_count": null
  },
  {
   "cell_type": "code",
   "metadata": {
    "cell_id": "00029-8c87f489-55cb-4e89-8b58-a72051bcdfd6",
    "deepnote_cell_type": "code"
   },
   "source": "df = sp500['Price']\ndf",
   "outputs": [
    {
     "data": {
      "text/plain": "Symbol\nMMM     141.14\nABT      39.60\nABBV     53.95\nACN      79.79\nACE     102.91\n         ...  \nYHOO     35.02\nYUM      74.77\nZMH     101.84\nZION     28.43\nZTS      30.53\nName: Price, Length: 500, dtype: float64"
     },
     "execution_count": 50,
     "metadata": {},
     "output_type": "execute_result"
    }
   ],
   "execution_count": null
  },
  {
   "cell_type": "code",
   "metadata": {
    "cell_id": "00030-5773bf40-1737-4c99-8978-f474b463193a",
    "deepnote_cell_type": "code"
   },
   "source": "# create a new dataframe with integers as the columns names\n# make sure to use .copy() or change will be in-place\ndf = sp500.copy()\ndf.columns = [0,1,2]\ndf.head()",
   "outputs": [
    {
     "data": {
      "text/plain": "                             0       1       2\nSymbol                                        \nMMM                Industrials  141.14  26.668\nABT                Health Care   39.60  15.573\nABBV               Health Care   53.95   2.954\nACN     Information Technology   79.79   8.326\nACE                 Financials  102.91  86.897"
     },
     "execution_count": 64,
     "metadata": {},
     "output_type": "execute_result"
    }
   ],
   "execution_count": null
  },
  {
   "cell_type": "code",
   "metadata": {
    "cell_id": "00031-a9238d78-5fc4-483c-a723-aa606e228814",
    "deepnote_cell_type": "code"
   },
   "source": "# because the column names are actually integers\n# and therefore [1] is found as a column\ndf[1]",
   "outputs": [
    {
     "data": {
      "text/plain": "Symbol\nMMM     141.14\nABT      39.60\nABBV     53.95\nACN      79.79\nACE     102.91\n         ...  \nYHOO     35.02\nYUM      74.77\nZMH     101.84\nZION     28.43\nZTS      30.53\nName: 1, Length: 500, dtype: float64"
     },
     "execution_count": 66,
     "metadata": {},
     "output_type": "execute_result"
    }
   ],
   "execution_count": null
  },
  {
   "cell_type": "code",
   "metadata": {
    "cell_id": "00032-37d08553-a07d-4a69-bc1f-41e13b0e4f38",
    "deepnote_cell_type": "code"
   },
   "source": "df.columns",
   "outputs": [
    {
     "data": {
      "text/plain": "Int64Index([0, 1, 2], dtype='int64')"
     },
     "execution_count": 67,
     "metadata": {},
     "output_type": "execute_result"
    }
   ],
   "execution_count": null
  },
  {
   "cell_type": "code",
   "metadata": {
    "cell_id": "00033-1e0df9d7-a6b8-4a6b-9f35-50259c153232",
    "deepnote_cell_type": "code"
   },
   "source": "# get price column by name\n# result is a series\nsp500['Price']",
   "outputs": [
    {
     "data": {
      "text/plain": "Symbol\nMMM     141.14\nABT      39.60\nABBV     53.95\nACN      79.79\nACE     102.91\n         ...  \nYHOO     35.02\nYUM      74.77\nZMH     101.84\nZION     28.43\nZTS      30.53\nName: Price, Length: 500, dtype: float64"
     },
     "execution_count": 68,
     "metadata": {},
     "output_type": "execute_result"
    }
   ],
   "execution_count": null
  },
  {
   "cell_type": "code",
   "metadata": {
    "cell_id": "00034-0b24314b-77b2-4fdc-9aa0-79c1aaa2a22b",
    "deepnote_cell_type": "code"
   },
   "source": "# get price and sector columns\n# since a list is passed, the result is a DataFrame\nsp500[['Price','Sector']]",
   "outputs": [
    {
     "data": {
      "text/plain": "         Price                  Sector\nSymbol                                \nMMM     141.14             Industrials\nABT      39.60             Health Care\nABBV     53.95             Health Care\nACN      79.79  Information Technology\nACE     102.91              Financials\n...        ...                     ...\nYHOO     35.02  Information Technology\nYUM      74.77  Consumer Discretionary\nZMH     101.84             Health Care\nZION     28.43              Financials\nZTS      30.53             Health Care\n\n[500 rows x 2 columns]"
     },
     "execution_count": 70,
     "metadata": {},
     "output_type": "execute_result"
    }
   ],
   "execution_count": null
  },
  {
   "cell_type": "code",
   "metadata": {
    "cell_id": "00035-9fd0fc21-365e-4a8b-9fd3-79fe53591fff",
    "deepnote_cell_type": "code"
   },
   "source": "# attribute access of the column by name\nsp500.Price",
   "outputs": [
    {
     "data": {
      "text/plain": "Symbol\nMMM     141.14\nABT      39.60\nABBV     53.95\nACN      79.79\nACE     102.91\n         ...  \nYHOO     35.02\nYUM      74.77\nZMH     101.84\nZION     28.43\nZTS      30.53\nName: Price, Length: 500, dtype: float64"
     },
     "execution_count": 71,
     "metadata": {},
     "output_type": "execute_result"
    }
   ],
   "execution_count": null
  },
  {
   "cell_type": "code",
   "metadata": {
    "cell_id": "00036-a5467ab4-8606-4c02-b7cd-17e68115391f",
    "deepnote_cell_type": "code"
   },
   "source": "loc = sp500.columns.get_loc('Price')\nloc",
   "outputs": [
    {
     "data": {
      "text/plain": "1"
     },
     "execution_count": 72,
     "metadata": {},
     "output_type": "execute_result"
    }
   ],
   "execution_count": null
  },
  {
   "cell_type": "markdown",
   "source": "### Selecting rows and values of a DataFrame using the index",
   "metadata": {
    "cell_id": "00037-1f15cdbf-4140-4750-8f1a-5bb73eab2c76",
    "deepnote_cell_type": "markdown"
   }
  },
  {
   "cell_type": "code",
   "metadata": {
    "cell_id": "00038-45e177e0-36e4-4509-9055-5ea333f2edc7",
    "deepnote_cell_type": "code"
   },
   "source": "# first five rows\nsp500[:5]",
   "outputs": [
    {
     "data": {
      "text/plain": "                        Sector   Price  Book Value\nSymbol                                            \nMMM                Industrials  141.14      26.668\nABT                Health Care   39.60      15.573\nABBV               Health Care   53.95       2.954\nACN     Information Technology   79.79       8.326\nACE                 Financials  102.91      86.897"
     },
     "execution_count": 73,
     "metadata": {},
     "output_type": "execute_result"
    }
   ],
   "execution_count": null
  },
  {
   "cell_type": "code",
   "metadata": {
    "cell_id": "00039-c6df8e98-8b62-4ddc-ac78-7a610766831b",
    "deepnote_cell_type": "code"
   },
   "source": "sp500['ABT':'ACN']",
   "outputs": [
    {
     "data": {
      "text/plain": "                        Sector  Price  Book Value\nSymbol                                           \nABT                Health Care  39.60      15.573\nABBV               Health Care  53.95       2.954\nACN     Information Technology  79.79       8.326"
     },
     "execution_count": 74,
     "metadata": {},
     "output_type": "execute_result"
    }
   ],
   "execution_count": null
  },
  {
   "cell_type": "code",
   "metadata": {
    "cell_id": "00040-a5ae838f-daaa-403b-ae44-36bad40f964f",
    "deepnote_cell_type": "code"
   },
   "source": "sp500.loc['ACN']",
   "outputs": [
    {
     "data": {
      "text/plain": "Sector        Information Technology\nPrice                          79.79\nBook Value                     8.326\nName: ACN, dtype: object"
     },
     "execution_count": 75,
     "metadata": {},
     "output_type": "execute_result"
    }
   ],
   "execution_count": null
  },
  {
   "cell_type": "code",
   "metadata": {
    "cell_id": "00041-185f9959-5de3-4a8e-879a-3139d8e167c6",
    "deepnote_cell_type": "code"
   },
   "source": "sp500.loc[['MMM','MSFT']]",
   "outputs": [
    {
     "data": {
      "text/plain": "                        Sector   Price  Book Value\nSymbol                                            \nMMM                Industrials  141.14      26.668\nMSFT    Information Technology   40.12      10.584"
     },
     "execution_count": 78,
     "metadata": {},
     "output_type": "execute_result"
    }
   ],
   "execution_count": null
  },
  {
   "cell_type": "code",
   "metadata": {
    "cell_id": "00042-8e535e67-88ab-461d-85cf-c61d30b0d862",
    "deepnote_cell_type": "code"
   },
   "source": "# get rows in locations 0 and 2\nsp500.iloc[[0,2]]",
   "outputs": [
    {
     "data": {
      "text/plain": "             Sector   Price  Book Value\nSymbol                                 \nMMM     Industrials  141.14      26.668\nABBV    Health Care   53.95       2.954"
     },
     "execution_count": 79,
     "metadata": {},
     "output_type": "execute_result"
    }
   ],
   "execution_count": null
  },
  {
   "cell_type": "code",
   "metadata": {
    "cell_id": "00043-9f64bbe7-7b73-4070-9a5f-3ce7a0db9efc",
    "deepnote_cell_type": "code"
   },
   "source": "# get the location of MMM and A in the index\ni1 = sp500.index.get_loc('MMM')\ni2 = sp500.index.get_loc('A')\n\"{0},{1}\".format(i1,i2)",
   "outputs": [
    {
     "data": {
      "text/plain": "'0,10'"
     },
     "execution_count": 80,
     "metadata": {},
     "output_type": "execute_result"
    }
   ],
   "execution_count": null
  },
  {
   "cell_type": "code",
   "metadata": {
    "cell_id": "00044-3a5d7822-ba7f-478e-8138-215b5b4bde9b",
    "deepnote_cell_type": "code"
   },
   "source": "# and get the rows\nsp500.iloc[[i1,i2]]",
   "outputs": [
    {
     "data": {
      "text/plain": "             Sector   Price  Book Value\nSymbol                                 \nMMM     Industrials  141.14      26.668\nA       Health Care   56.18      16.928"
     },
     "execution_count": 81,
     "metadata": {},
     "output_type": "execute_result"
    }
   ],
   "execution_count": null
  },
  {
   "cell_type": "markdown",
   "source": "### Selecting rows by index label and/or location: .ix[]",
   "metadata": {
    "cell_id": "00045-8ec636ba-98c4-422c-90bd-71c60071b570",
    "deepnote_cell_type": "markdown"
   }
  },
  {
   "cell_type": "code",
   "metadata": {
    "cell_id": "00046-c1b4cc8e-f0a0-4b81-b654-a2eb296d3f4d",
    "deepnote_cell_type": "code"
   },
   "source": "# by label\nsp500.ix[['MSFT','ZTS']]",
   "outputs": [
    {
     "name": "stderr",
     "output_type": "stream",
     "text": "/Users/cnc/anaconda/lib/python3.6/site-packages/ipykernel_launcher.py:2: DeprecationWarning: \n.ix is deprecated. Please use\n.loc for label based indexing or\n.iloc for positional indexing\n\nSee the documentation here:\nhttp://pandas.pydata.org/pandas-docs/stable/indexing.html#deprecate_ix\n  \n"
    },
    {
     "data": {
      "text/plain": "                        Sector  Price  Book Value\nSymbol                                           \nMSFT    Information Technology  40.12      10.584\nZTS                Health Care  30.53       2.150"
     },
     "execution_count": 82,
     "metadata": {},
     "output_type": "execute_result"
    }
   ],
   "execution_count": null
  },
  {
   "cell_type": "markdown",
   "source": "### Scalar lookup by label or location using .at[] and iat[]",
   "metadata": {
    "cell_id": "00047-c9e87afe-47fe-4ed7-b8d2-a1d479f700c5",
    "deepnote_cell_type": "markdown"
   }
  },
  {
   "cell_type": "code",
   "metadata": {
    "cell_id": "00048-b8276213-0164-4b63-a4e4-c28e6aa72d44",
    "deepnote_cell_type": "code"
   },
   "source": "# by label in both the index and column\nsp500.at['MMM','Price']",
   "outputs": [
    {
     "data": {
      "text/plain": "141.13999999999999"
     },
     "execution_count": 84,
     "metadata": {},
     "output_type": "execute_result"
    }
   ],
   "execution_count": null
  },
  {
   "cell_type": "code",
   "metadata": {
    "cell_id": "00049-5218eb4b-82c4-4898-9d37-daae651edb89",
    "deepnote_cell_type": "code"
   },
   "source": "# by location. Row 0, column 1\nsp500.iat[0,1]",
   "outputs": [
    {
     "data": {
      "text/plain": "141.13999999999999"
     },
     "execution_count": 85,
     "metadata": {},
     "output_type": "execute_result"
    }
   ],
   "execution_count": null
  },
  {
   "cell_type": "markdown",
   "source": "### Selecting rows of a DataFrame by Boolean selection",
   "metadata": {
    "cell_id": "00050-9e2234c3-7af3-4a67-98c9-fe1402a749c4",
    "deepnote_cell_type": "markdown"
   }
  },
  {
   "cell_type": "code",
   "metadata": {
    "cell_id": "00051-997ad476-fcbe-42f9-92cd-7480b57d53a0",
    "deepnote_cell_type": "code"
   },
   "source": "# what rows have a price < 100 ?\nsp500.Price < 100",
   "outputs": [
    {
     "data": {
      "text/plain": "Symbol\nMMM     False\nABT      True\nABBV     True\nACN      True\nACE     False\n        ...  \nYHOO     True\nYUM      True\nZMH     False\nZION     True\nZTS      True\nName: Price, Length: 500, dtype: bool"
     },
     "execution_count": 87,
     "metadata": {},
     "output_type": "execute_result"
    }
   ],
   "execution_count": null
  },
  {
   "cell_type": "code",
   "metadata": {
    "cell_id": "00052-bd86830d-2cd5-4c41-bcab-5e8acb630a7f",
    "deepnote_cell_type": "code"
   },
   "source": "# get only the Price where price is < 10 and > 0\nr = sp500[(sp500.Price < 10) & (sp500.Price > 0)] [['Price']]\nr",
   "outputs": [
    {
     "data": {
      "text/plain": "        Price\nSymbol       \nFTR      5.81\nHCBK     9.80\nHBAN     9.10\nSLM      8.82\nWIN      9.38"
     },
     "execution_count": 88,
     "metadata": {},
     "output_type": "execute_result"
    }
   ],
   "execution_count": null
  },
  {
   "cell_type": "markdown",
   "source": "### Modifying the structure and content of DataFrame",
   "metadata": {
    "cell_id": "00053-d2abef44-db94-4994-8f08-98faedb5640c",
    "deepnote_cell_type": "markdown"
   }
  },
  {
   "cell_type": "code",
   "metadata": {
    "cell_id": "00054-f2ae3abc-490a-402a-8f59-9e573debd342",
    "deepnote_cell_type": "code"
   },
   "source": "# rename the Book Value colun to not have a space\n# this returns a copy with the column renamed\ndf = sp500.rename(columns={'Book Value':'BookValue'})\n# print first 2 rows\ndf[:2]",
   "outputs": [
    {
     "data": {
      "text/plain": "             Sector   Price  BookValue\nSymbol                                \nMMM     Industrials  141.14     26.668\nABT     Health Care   39.60     15.573"
     },
     "execution_count": 89,
     "metadata": {},
     "output_type": "execute_result"
    }
   ],
   "execution_count": null
  },
  {
   "cell_type": "code",
   "metadata": {
    "cell_id": "00055-6859a7f3-15fa-4448-a2fe-699d3390e203",
    "deepnote_cell_type": "code"
   },
   "source": "df.columns",
   "outputs": [
    {
     "data": {
      "text/plain": "Index(['Sector', 'Price', 'BookValue'], dtype='object')"
     },
     "execution_count": 90,
     "metadata": {},
     "output_type": "execute_result"
    }
   ],
   "execution_count": null
  },
  {
   "cell_type": "code",
   "metadata": {
    "cell_id": "00056-6c3125e9-b8b7-4e0e-a073-74f03d2fcfd3",
    "deepnote_cell_type": "code"
   },
   "source": "# old dataframe remains intact\nsp500.columns",
   "outputs": [
    {
     "data": {
      "text/plain": "Index(['Sector', 'Price', 'Book Value'], dtype='object')"
     },
     "execution_count": 91,
     "metadata": {},
     "output_type": "execute_result"
    }
   ],
   "execution_count": null
  },
  {
   "cell_type": "code",
   "metadata": {
    "cell_id": "00057-54d99c2d-1ac5-43a9-bba7-3c1ad0aad602",
    "deepnote_cell_type": "code"
   },
   "source": "# this changes the column in-place\nsp500.rename(columns={'Book Value':'BookValue'},inplace=True)\nsp500.columns",
   "outputs": [
    {
     "data": {
      "text/plain": "Index(['Sector', 'Price', 'BookValue'], dtype='object')"
     },
     "execution_count": 93,
     "metadata": {},
     "output_type": "execute_result"
    }
   ],
   "execution_count": null
  },
  {
   "cell_type": "code",
   "metadata": {
    "cell_id": "00058-9e71f1ca-dccf-4be6-ad9d-c79173d62a0d",
    "deepnote_cell_type": "code"
   },
   "source": "sp500.BookValue[:5]",
   "outputs": [
    {
     "data": {
      "text/plain": "Symbol\nMMM     26.668\nABT     15.573\nABBV     2.954\nACN      8.326\nACE     86.897\nName: BookValue, dtype: float64"
     },
     "execution_count": 94,
     "metadata": {},
     "output_type": "execute_result"
    }
   ],
   "execution_count": null
  },
  {
   "cell_type": "markdown",
   "source": "### Adding and Inserting Columns",
   "metadata": {
    "cell_id": "00059-f7669de2-3b16-42cc-96e6-56e33e861366",
    "deepnote_cell_type": "markdown"
   }
  },
  {
   "cell_type": "code",
   "metadata": {
    "cell_id": "00060-e750bff8-3ab8-4062-a1a7-17393cd4f2f5",
    "deepnote_cell_type": "code"
   },
   "source": "# make a copy\ncopy = sp500.copy()\ncopy['TwicePrice'] = sp500.Price * 2\ncopy[:2]",
   "outputs": [
    {
     "data": {
      "text/plain": "             Sector   Price  BookValue  TwicePrice\nSymbol                                            \nMMM     Industrials  141.14     26.668      282.28\nABT     Health Care   39.60     15.573       79.20"
     },
     "execution_count": 95,
     "metadata": {},
     "output_type": "execute_result"
    }
   ],
   "execution_count": null
  },
  {
   "cell_type": "code",
   "metadata": {
    "cell_id": "00061-09b9bf33-ebee-442b-8c04-3f3e52622759",
    "deepnote_cell_type": "code"
   },
   "source": "copy = sp500.copy()\ncopy.insert(2,'TwicePrice',sp500.Price*2)\ncopy[:2]",
   "outputs": [
    {
     "data": {
      "text/plain": "             Sector   Price  TwicePrice  BookValue\nSymbol                                            \nMMM     Industrials  141.14      282.28     26.668\nABT     Health Care   39.60       79.20     15.573"
     },
     "execution_count": 96,
     "metadata": {},
     "output_type": "execute_result"
    }
   ],
   "execution_count": null
  },
  {
   "cell_type": "markdown",
   "source": "It is important to remember that this is not simply inserting a column into the DataFrame. The alignment process used here is performing a left join of the DataFrame and the Series by their index labels and then creating the column and populating data in the appropriate cell in the DataFrame.",
   "metadata": {
    "cell_id": "00062-ce05fd0a-7187-4d63-9df2-9130162ad1fc",
    "deepnote_cell_type": "markdown"
   }
  },
  {
   "cell_type": "code",
   "metadata": {
    "cell_id": "00063-1673ce98-5734-4138-9b30-ba61fd6b2b68",
    "deepnote_cell_type": "code"
   },
   "source": "# extract the first 4 rows and Price column\nrcopy = sp500[0:3][['Price']].copy()\nrcopy",
   "outputs": [
    {
     "data": {
      "text/plain": "         Price\nSymbol        \nMMM     141.14\nABT      39.60\nABBV     53.95"
     },
     "execution_count": 97,
     "metadata": {},
     "output_type": "execute_result"
    }
   ],
   "execution_count": null
  },
  {
   "cell_type": "code",
   "metadata": {
    "cell_id": "00064-9e118b5d-28bd-47dc-a350-65eda03a0e95",
    "deepnote_cell_type": "code"
   },
   "source": "# create a new series to merge as a column\n# one label exists in rcopy(MSFT) and MM does not\ns = pd.Series({'MMM':'Is in the DataFrame','MSFT':'Is not in the DataFrame'})\ns",
   "outputs": [
    {
     "data": {
      "text/plain": "MMM         Is in the DataFrame\nMSFT    Is not in the DataFrame\ndtype: object"
     },
     "execution_count": 100,
     "metadata": {},
     "output_type": "execute_result"
    }
   ],
   "execution_count": null
  },
  {
   "cell_type": "code",
   "metadata": {
    "cell_id": "00065-d27b9b94-b827-4076-93c3-4f0eb1c769a5",
    "deepnote_cell_type": "code"
   },
   "source": "rcopy['Comment'] = s\nrcopy",
   "outputs": [
    {
     "data": {
      "text/plain": "         Price              Comment\nSymbol                             \nMMM     141.14  Is in the DataFrame\nABT      39.60                  NaN\nABBV     53.95                  NaN"
     },
     "execution_count": 101,
     "metadata": {},
     "output_type": "execute_result"
    }
   ],
   "execution_count": null
  },
  {
   "cell_type": "markdown",
   "source": "### Replacing the contents of a column",
   "metadata": {
    "cell_id": "00066-1a301405-dbc7-44a2-9005-d1bd07e2a0ef",
    "deepnote_cell_type": "markdown"
   }
  },
  {
   "cell_type": "code",
   "metadata": {
    "cell_id": "00067-06dbd033-7b32-47d4-aa16-d0c5b4f5b665",
    "deepnote_cell_type": "code"
   },
   "source": "# replace the Price column data with the new values\n# instead of adding a new column\ncopy = sp500.copy()\ncopy.Price = sp500.Price * 2\ncopy[:5]",
   "outputs": [
    {
     "data": {
      "text/plain": "                        Sector   Price  BookValue\nSymbol                                           \nMMM                Industrials  282.28     26.668\nABT                Health Care   79.20     15.573\nABBV               Health Care  107.90      2.954\nACN     Information Technology  159.58      8.326\nACE                 Financials  205.82     86.897"
     },
     "execution_count": 102,
     "metadata": {},
     "output_type": "execute_result"
    }
   ],
   "execution_count": null
  },
  {
   "cell_type": "code",
   "metadata": {
    "cell_id": "00068-e2c03038-0f77-4e73-8d84-b158407cd339",
    "deepnote_cell_type": "code"
   },
   "source": "# copy all 500 rows\ncopy = sp500.copy()\nprices = sp500.iloc[[3,1,0]].Price.copy()\n# examine the extracted prices\nprices",
   "outputs": [
    {
     "data": {
      "text/plain": "Symbol\nACN     79.79\nABT     39.60\nMMM    141.14\nName: Price, dtype: float64"
     },
     "execution_count": 103,
     "metadata": {},
     "output_type": "execute_result"
    }
   ],
   "execution_count": null
  },
  {
   "cell_type": "code",
   "metadata": {
    "cell_id": "00069-65e6f6a2-7891-490b-a661-09dc52480d2b",
    "deepnote_cell_type": "code"
   },
   "source": "# now replace the Price column with prices\ncopy.Price = prices\n# it is not really simple insertion, it is alignment\n# values are put in the correct place according to labels\ncopy",
   "outputs": [
    {
     "data": {
      "text/plain": "                        Sector   Price  BookValue\nSymbol                                           \nMMM                Industrials  141.14     26.668\nABT                Health Care   39.60     15.573\nABBV               Health Care     NaN      2.954\nACN     Information Technology   79.79      8.326\nACE                 Financials     NaN     86.897\n...                        ...     ...        ...\nYHOO    Information Technology     NaN     12.768\nYUM     Consumer Discretionary     NaN      5.147\nZMH                Health Care     NaN     37.181\nZION                Financials     NaN     30.191\nZTS                Health Care     NaN      2.150\n\n[500 rows x 3 columns]"
     },
     "execution_count": 104,
     "metadata": {},
     "output_type": "execute_result"
    }
   ],
   "execution_count": null
  },
  {
   "cell_type": "markdown",
   "source": "### Deleting Columns in a DataFrame\n\nColumns can be deleted from a DataFrame by using the **del** keyword, the **pop(column)** method of the DataFrame, or by calling the drop() method of the DataFrame.\n\n* del will simply delete the series from the dataframe\n* pop() will both delete the series and return the series as a result (also in-place)\n* drop(labels,axis=1) will return a new dataframe with the column(s) removed, original DataFrame object will not be modified)",
   "metadata": {
    "cell_id": "00070-673840bc-3dc1-4c5d-8c7a-81e8bf087cd5",
    "deepnote_cell_type": "markdown"
   }
  },
  {
   "cell_type": "markdown",
   "source": "#### Using del",
   "metadata": {
    "cell_id": "00071-aedd5f55-83f1-4236-9e00-239a99286bd2",
    "deepnote_cell_type": "markdown"
   }
  },
  {
   "cell_type": "code",
   "metadata": {
    "cell_id": "00072-803878d9-1c57-4db8-8016-0cf13b5694bc",
    "deepnote_cell_type": "code"
   },
   "source": "# Example of using del to delete a column\n# make a copy of a subset of the data frame\ncopy = sp500[:2].copy()\ncopy",
   "outputs": [
    {
     "data": {
      "text/plain": "             Sector   Price  BookValue\nSymbol                                \nMMM     Industrials  141.14     26.668\nABT     Health Care   39.60     15.573"
     },
     "execution_count": 105,
     "metadata": {},
     "output_type": "execute_result"
    }
   ],
   "execution_count": null
  },
  {
   "cell_type": "code",
   "metadata": {
    "cell_id": "00073-68d8f8dc-cad1-4561-bdf2-6c70c25d1f9a",
    "deepnote_cell_type": "code"
   },
   "source": "del copy['BookValue']\ncopy",
   "outputs": [
    {
     "data": {
      "text/plain": "             Sector   Price\nSymbol                     \nMMM     Industrials  141.14\nABT     Health Care   39.60"
     },
     "execution_count": 106,
     "metadata": {},
     "output_type": "execute_result"
    }
   ],
   "execution_count": null
  },
  {
   "cell_type": "markdown",
   "source": "#### Using pop",
   "metadata": {
    "cell_id": "00074-4268349b-0221-43ae-95c1-ae3785cf07fc",
    "deepnote_cell_type": "markdown"
   }
  },
  {
   "cell_type": "code",
   "metadata": {
    "cell_id": "00075-ee05782f-818a-4e16-bc97-f8d593fbea87",
    "deepnote_cell_type": "code"
   },
   "source": "# Example of using pop to remove a column from a DataFrame\n# first make a copy of a subset of the data frame\n# pop works in-place\ncopy = sp500[:2].copy()\npopped = copy.pop('Sector')\ncopy",
   "outputs": [
    {
     "data": {
      "text/plain": "         Price  BookValue\nSymbol                   \nMMM     141.14     26.668\nABT      39.60     15.573"
     },
     "execution_count": 108,
     "metadata": {},
     "output_type": "execute_result"
    }
   ],
   "execution_count": null
  },
  {
   "cell_type": "code",
   "metadata": {
    "cell_id": "00076-ae122048-3f9f-42f4-a029-2646ea9131b6",
    "deepnote_cell_type": "code"
   },
   "source": "# and we have the Sector column as the result of the pop\npopped",
   "outputs": [
    {
     "data": {
      "text/plain": "Symbol\nMMM    Industrials\nABT    Health Care\nName: Sector, dtype: object"
     },
     "execution_count": 110,
     "metadata": {},
     "output_type": "execute_result"
    }
   ],
   "execution_count": null
  },
  {
   "cell_type": "markdown",
   "source": "#### Using drop\n\nThe drop() method can be used to remove both rows and columns. To use it to remove a column, specify axis=1:",
   "metadata": {
    "cell_id": "00077-240643d2-518b-46bd-b772-8c5f1cfd8308",
    "deepnote_cell_type": "markdown"
   }
  },
  {
   "cell_type": "code",
   "metadata": {
    "cell_id": "00078-fbfbbdd2-1d69-414b-b791-aea46b25e21b",
    "deepnote_cell_type": "code"
   },
   "source": "# Example of using drop to remove a column\n# make a copy of a subset of the DataFrame\ncopy = sp500[:2].copy()\nafterdrop = copy.drop(['Sector'],axis=1)\nafterdrop",
   "outputs": [
    {
     "data": {
      "text/plain": "         Price  BookValue\nSymbol                   \nMMM     141.14     26.668\nABT      39.60     15.573"
     },
     "execution_count": 111,
     "metadata": {},
     "output_type": "execute_result"
    }
   ],
   "execution_count": null
  },
  {
   "cell_type": "markdown",
   "source": "### Adding rows to a DataFrame\n\n* Appending a DataFrame to another\n* Concatenation of two DataFrame objects\n* Setting with enlargement",
   "metadata": {
    "cell_id": "00079-2fe65a6b-72bd-4fa2-a8df-5598daca566c",
    "deepnote_cell_type": "markdown"
   }
  },
  {
   "cell_type": "markdown",
   "source": "#### Appending rows with .append()\n\nNote: Appending does not perform alignment and can result in duplicate index values.",
   "metadata": {
    "cell_id": "00080-7936a422-0563-43f5-88d2-3aa5faaa9ec9",
    "deepnote_cell_type": "markdown"
   }
  },
  {
   "cell_type": "code",
   "metadata": {
    "cell_id": "00081-c827ed2f-945e-4fdf-bca7-7d1963718e9a",
    "deepnote_cell_type": "code"
   },
   "source": "# copy the first three rows of sp500\ndf1 = sp500.iloc[0:3].copy()\n# copy the 10th and 11th rows\ndf2 = sp500.iloc[[10,11,2]]\n# append df1 and df2\nappended = df1.append(df2)\n# the result is the rows of the first followed by those in the second\nappended",
   "outputs": [
    {
     "data": {
      "text/plain": "             Sector   Price  BookValue\nSymbol                                \nMMM     Industrials  141.14     26.668\nABT     Health Care   39.60     15.573\nABBV    Health Care   53.95      2.954\nA       Health Care   56.18     16.928\nGAS       Utilities   52.98     32.462\nABBV    Health Care   53.95      2.954"
     },
     "execution_count": 115,
     "metadata": {},
     "output_type": "execute_result"
    }
   ],
   "execution_count": null
  },
  {
   "cell_type": "markdown",
   "source": "The set of columns of the DataFrame objects being appended do not need to be the same. The resulting DataFrame will consist of the union of the columns in both and where either did not have a columns, NaN will be used as the value.",
   "metadata": {
    "cell_id": "00082-f99ec12f-56aa-4d1f-b348-3a3f6a2de312",
    "deepnote_cell_type": "markdown"
   }
  },
  {
   "cell_type": "code",
   "metadata": {
    "cell_id": "00083-df52800a-063a-4785-a5e6-64b7c4a3c283",
    "deepnote_cell_type": "code"
   },
   "source": "# DataFrame using df1.index and just a PER columns\n# also a good example of using a scalar value\n# to initialize multiple rows.\ndf3 = pd.DataFrame(0.0,index=df1.index,columns=['PER'])\ndf3",
   "outputs": [
    {
     "data": {
      "text/plain": "        PER\nSymbol     \nMMM     0.0\nABT     0.0\nABBV    0.0"
     },
     "execution_count": 117,
     "metadata": {},
     "output_type": "execute_result"
    }
   ],
   "execution_count": null
  },
  {
   "cell_type": "code",
   "metadata": {
    "cell_id": "00084-40c2a5ca-37b3-40cf-98fd-916c9bb9811b",
    "deepnote_cell_type": "code"
   },
   "source": "# append df1 and df3\n# each has three rows, so 6 rows is the result\n# df1 had no PER column, so NaN for those rows\n# df3 had no BookValue, Price or Sector, so NaN values\ndf1.append(df3)",
   "outputs": [
    {
     "data": {
      "text/plain": "        BookValue  PER   Price       Sector\nSymbol                                     \nMMM        26.668  NaN  141.14  Industrials\nABT        15.573  NaN   39.60  Health Care\nABBV        2.954  NaN   53.95  Health Care\nMMM           NaN  0.0     NaN          NaN\nABT           NaN  0.0     NaN          NaN\nABBV          NaN  0.0     NaN          NaN"
     },
     "execution_count": 118,
     "metadata": {},
     "output_type": "execute_result"
    }
   ],
   "execution_count": null
  },
  {
   "cell_type": "markdown",
   "source": "To append without forcing the index to be taken from either DataFrame, you can use the **ignore_index=True** parameter.",
   "metadata": {
    "cell_id": "00085-902c084e-1f97-4fae-9285-5eb81a6daecc",
    "deepnote_cell_type": "markdown"
   }
  },
  {
   "cell_type": "code",
   "metadata": {
    "cell_id": "00086-1cffc8cd-1bba-448a-8b7f-059f9f0a6567",
    "deepnote_cell_type": "code"
   },
   "source": "# ignore index labels, create default index\ndf1.append(df3,ignore_index=True)",
   "outputs": [
    {
     "data": {
      "text/plain": "   BookValue  PER   Price       Sector\n0     26.668  NaN  141.14  Industrials\n1     15.573  NaN   39.60  Health Care\n2      2.954  NaN   53.95  Health Care\n3        NaN  0.0     NaN          NaN\n4        NaN  0.0     NaN          NaN\n5        NaN  0.0     NaN          NaN"
     },
     "execution_count": 120,
     "metadata": {},
     "output_type": "execute_result"
    }
   ],
   "execution_count": null
  },
  {
   "cell_type": "markdown",
   "source": "### Concatenating DataFrame objects with pd.concat()\n\nThis function functions similarly to the .append() method but also adds the ability to specify an axis (appending can be row or column based)\n\nThe default is row based similar to append() method.",
   "metadata": {
    "cell_id": "00087-9e9c52e4-18ff-484e-ab37-448915b8c9fd",
    "deepnote_cell_type": "markdown"
   }
  },
  {
   "cell_type": "code",
   "metadata": {
    "cell_id": "00088-87fe5121-3413-4727-936d-20640d1d56e1",
    "deepnote_cell_type": "code"
   },
   "source": "# copy the first 3 rows of sp500\ndf1 = sp500.iloc[0:3].copy()\n# copy 10th and 11th rows\ndf2 = sp500.iloc[[10,11,2]]\n## pass them as a list\npd.concat([df1,df2])",
   "outputs": [
    {
     "data": {
      "text/plain": "             Sector   Price  BookValue\nSymbol                                \nMMM     Industrials  141.14     26.668\nABT     Health Care   39.60     15.573\nABBV    Health Care   53.95      2.954\nA       Health Care   56.18     16.928\nGAS       Utilities   52.98     32.462\nABBV    Health Care   53.95      2.954"
     },
     "execution_count": 121,
     "metadata": {},
     "output_type": "execute_result"
    }
   ],
   "execution_count": null
  },
  {
   "cell_type": "markdown",
   "source": "Actually, pandas calculates the sorted union of distinct column names across all supplied objects and uses those as the columns and then appends data along the rows for each object in the order given in the list.",
   "metadata": {
    "cell_id": "00089-60a3f794-8570-4bfd-857b-eeee0d371aaf",
    "deepnote_cell_type": "markdown"
   }
  },
  {
   "cell_type": "code",
   "metadata": {
    "cell_id": "00090-49e40696-f751-4f69-a3dc-66da81bc0d22",
    "deepnote_cell_type": "code"
   },
   "source": "# copy df2\ndf2_2 = df2.copy()\n# add column to df2_2 that is not in df1\ndf2_2.insert(3,'Foo',pd.Series(0,index=df2.index))\ndf2_2",
   "outputs": [
    {
     "data": {
      "text/plain": "             Sector  Price  BookValue  Foo\nSymbol                                    \nA       Health Care  56.18     16.928    0\nGAS       Utilities  52.98     32.462    0\nABBV    Health Care  53.95      2.954    0"
     },
     "execution_count": 122,
     "metadata": {},
     "output_type": "execute_result"
    }
   ],
   "execution_count": null
  },
  {
   "cell_type": "code",
   "metadata": {
    "cell_id": "00091-ed8207ba-3e02-4836-81bf-9e9555b4cfd8",
    "deepnote_cell_type": "code"
   },
   "source": "# now concatenate\npd.concat([df1,df2_2])",
   "outputs": [
    {
     "data": {
      "text/plain": "        BookValue  Foo   Price       Sector\nSymbol                                     \nMMM        26.668  NaN  141.14  Industrials\nABT        15.573  NaN   39.60  Health Care\nABBV        2.954  NaN   53.95  Health Care\nA          16.928  0.0   56.18  Health Care\nGAS        32.462  0.0   52.98    Utilities\nABBV        2.954  0.0   53.95  Health Care"
     },
     "execution_count": 123,
     "metadata": {},
     "output_type": "execute_result"
    }
   ],
   "execution_count": null
  },
  {
   "cell_type": "markdown",
   "source": "Using the keys parameter, it is possible to differentiate the pandas objects from which the rows originated. The following code adds a level to the index which represents the source object.",
   "metadata": {
    "cell_id": "00092-8582a081-8fc4-4fdb-be36-784ff82c1ea1",
    "deepnote_cell_type": "markdown"
   }
  },
  {
   "cell_type": "code",
   "metadata": {
    "cell_id": "00093-6d0365ad-4485-4eb7-9459-67f73e27c4d4",
    "deepnote_cell_type": "code"
   },
   "source": "# specify keys\nr = pd.concat([df1,df2_2],keys=['df1','df2'])\nr",
   "outputs": [
    {
     "data": {
      "text/plain": "            BookValue  Foo   Price       Sector\n    Symbol                                     \ndf1 MMM        26.668  NaN  141.14  Industrials\n    ABT        15.573  NaN   39.60  Health Care\n    ABBV        2.954  NaN   53.95  Health Care\ndf2 A          16.928  0.0   56.18  Health Care\n    GAS        32.462  0.0   52.98    Utilities\n    ABBV        2.954  0.0   53.95  Health Care"
     },
     "execution_count": 124,
     "metadata": {},
     "output_type": "execute_result"
    }
   ],
   "execution_count": null
  },
  {
   "cell_type": "markdown",
   "source": "We can change the axis of the concatenation to work along the columns by specifying axis = 1, which will calculate the sorted union of the distinct index labels from the rows and then append columns and their data from the specified objects.",
   "metadata": {
    "cell_id": "00094-bd14b3fc-4b64-4964-93c2-50cc46b7a5ba",
    "deepnote_cell_type": "markdown"
   }
  },
  {
   "cell_type": "code",
   "metadata": {
    "cell_id": "00095-70ed5be5-537c-45b9-b989-07e435409b6e",
    "deepnote_cell_type": "code"
   },
   "source": "# first three rows, columns 0 and 1\n# causing error => df3 = sp500[:3][[0,1]]\ndf3 = sp500[:3][['Price','Sector']]\ndf3",
   "outputs": [
    {
     "data": {
      "text/plain": "         Price       Sector\nSymbol                     \nMMM     141.14  Industrials\nABT      39.60  Health Care\nABBV     53.95  Health Care"
     },
     "execution_count": 131,
     "metadata": {},
     "output_type": "execute_result"
    }
   ],
   "execution_count": null
  },
  {
   "cell_type": "code",
   "metadata": {
    "cell_id": "00096-6a6fa02a-e1c6-449d-8809-9df2e0f839ce",
    "deepnote_cell_type": "code"
   },
   "source": "df4 = sp500[:3][['BookValue']]\ndf4",
   "outputs": [
    {
     "data": {
      "text/plain": "        BookValue\nSymbol           \nMMM        26.668\nABT        15.573\nABBV        2.954"
     },
     "execution_count": 132,
     "metadata": {},
     "output_type": "execute_result"
    }
   ],
   "execution_count": null
  },
  {
   "cell_type": "code",
   "metadata": {
    "cell_id": "00097-98bad022-773c-47f2-bb81-88872d801384",
    "deepnote_cell_type": "code"
   },
   "source": "# put them back together\npd.concat([df3,df4],axis=1)",
   "outputs": [
    {
     "data": {
      "text/plain": "         Price       Sector  BookValue\nSymbol                                \nMMM     141.14  Industrials     26.668\nABT      39.60  Health Care     15.573\nABBV     53.95  Health Care      2.954"
     },
     "execution_count": 133,
     "metadata": {},
     "output_type": "execute_result"
    }
   ],
   "execution_count": null
  },
  {
   "cell_type": "markdown",
   "source": "We can further examing this operation by adding a column to the second DataFrame that has a duplicate name to a column in the first. The result will have duplicate columns, as they are blindly appended.",
   "metadata": {
    "cell_id": "00098-c2b5fe02-7e4d-4c12-a153-56c7abf95f34",
    "deepnote_cell_type": "markdown"
   }
  },
  {
   "cell_type": "code",
   "metadata": {
    "cell_id": "00099-b5fb4938-ded9-4284-9d78-49929970af6c",
    "deepnote_cell_type": "code"
   },
   "source": "# make a copy of df4\ndf4_2 = df4.copy()\n# add a column to df4_2, that is also in df3\ndf4_2.insert(1,'Sector',pd.Series(1,index=df4_2.index))\ndf4_2",
   "outputs": [
    {
     "data": {
      "text/plain": "        BookValue  Sector\nSymbol                   \nMMM        26.668       1\nABT        15.573       1\nABBV        2.954       1"
     },
     "execution_count": 134,
     "metadata": {},
     "output_type": "execute_result"
    }
   ],
   "execution_count": null
  },
  {
   "cell_type": "code",
   "metadata": {
    "cell_id": "00100-439c05a7-244b-4b0b-9083-f2f4cdaa035f",
    "deepnote_cell_type": "code"
   },
   "source": "# demonstrate duplicate columns\npd.concat([df3,df4_2],axis=1)",
   "outputs": [
    {
     "data": {
      "text/plain": "         Price       Sector  BookValue  Sector\nSymbol                                        \nMMM     141.14  Industrials     26.668       1\nABT      39.60  Health Care     15.573       1\nABBV     53.95  Health Care      2.954       1"
     },
     "execution_count": 135,
     "metadata": {},
     "output_type": "execute_result"
    }
   ],
   "execution_count": null
  },
  {
   "cell_type": "markdown",
   "source": "pandas is performing an outer join along the labels of the specified axis. An inner join can be specified using the join='inner' parameter.",
   "metadata": {
    "cell_id": "00101-c5742b8e-0735-41c3-a269-70601c4a5b90",
    "deepnote_cell_type": "markdown"
   }
  },
  {
   "cell_type": "code",
   "metadata": {
    "cell_id": "00102-3ce681a3-9c4f-431b-8612-d9d3ef63d4d2",
    "deepnote_cell_type": "code"
   },
   "source": "# first three rows and first two columns\ndf5 = sp500[:3][['Sector','Price']]\ndf5",
   "outputs": [
    {
     "data": {
      "text/plain": "             Sector   Price\nSymbol                     \nMMM     Industrials  141.14\nABT     Health Care   39.60\nABBV    Health Care   53.95"
     },
     "execution_count": 137,
     "metadata": {},
     "output_type": "execute_result"
    }
   ],
   "execution_count": null
  },
  {
   "cell_type": "code",
   "metadata": {
    "cell_id": "00103-4bae76f7-4bf0-4d5e-95c2-163f09c89f82",
    "deepnote_cell_type": "code"
   },
   "source": "# row 2 through 4 and first tow columns\ndf6 = sp500[2:5][['Sector','Price']]\ndf6",
   "outputs": [
    {
     "data": {
      "text/plain": "                        Sector   Price\nSymbol                                \nABBV               Health Care   53.95\nACN     Information Technology   79.79\nACE                 Financials  102.91"
     },
     "execution_count": 138,
     "metadata": {},
     "output_type": "execute_result"
    }
   ],
   "execution_count": null
  },
  {
   "cell_type": "code",
   "metadata": {
    "cell_id": "00104-b44bef2b-cfe9-4be4-83f8-59381ef4338c",
    "deepnote_cell_type": "code"
   },
   "source": "# inner join on index labels will return in only one row\npd.concat([df5,df6],join='inner',axis=1)",
   "outputs": [
    {
     "data": {
      "text/plain": "             Sector  Price       Sector  Price\nSymbol                                        \nABBV    Health Care  53.95  Health Care  53.95"
     },
     "execution_count": 139,
     "metadata": {},
     "output_type": "execute_result"
    }
   ],
   "execution_count": null
  },
  {
   "cell_type": "markdown",
   "source": "### Adding rows (and columns) via setting with enlargement\n\nRows can also be added to a DataFrame through the oloc property. This technique is referred to as setting with enlargement.",
   "metadata": {
    "cell_id": "00105-43163cba-07b2-4c07-bc74-4c3ca09c5850",
    "deepnote_cell_type": "markdown"
   }
  },
  {
   "cell_type": "code",
   "metadata": {
    "cell_id": "00106-b72db7d5-64ad-4331-84f2-5ce7ad17c5de",
    "deepnote_cell_type": "code"
   },
   "source": "# get a email subset of the sp500\n# make sure to copy the slice to make a copy\nss = sp500[:3].copy()\n# create a new row with index lable FOO\n# and assign some values to the columns via a list\nss.loc['FOO'] = ['the sector',100,110]\nss",
   "outputs": [
    {
     "data": {
      "text/plain": "             Sector   Price  BookValue\nSymbol                                \nMMM     Industrials  141.14     26.668\nABT     Health Care   39.60     15.573\nABBV    Health Care   53.95      2.954\nFOO      the sector  100.00    110.000"
     },
     "execution_count": 140,
     "metadata": {},
     "output_type": "execute_result"
    }
   ],
   "execution_count": null
  },
  {
   "cell_type": "markdown",
   "source": "Note that the change is made in-place. If FOO already exists as an index label, then the column data would be replaced. This is one of the means of updating data in a DataFrame in-place as .loc not only retrieves row(s), but also lets you modify the results that are returned.",
   "metadata": {
    "cell_id": "00107-5c71b7b3-13c8-46d9-b1ff-3d74b27215cc",
    "deepnote_cell_type": "markdown"
   }
  },
  {
   "cell_type": "markdown",
   "source": "It is also possible to add columns in this manner.",
   "metadata": {
    "cell_id": "00108-a93951bb-b3d4-4e9b-87e6-d841d99930b4",
    "deepnote_cell_type": "markdown"
   }
  },
  {
   "cell_type": "code",
   "metadata": {
    "cell_id": "00109-d320f9e7-e372-4f61-abbc-d073554a1d31",
    "deepnote_cell_type": "code"
   },
   "source": "# copy of the subset/ slice\nss = sp500[:3].copy()\n# add the new column initialized to 0\nss.loc[:,'PER'] = 0\nss",
   "outputs": [
    {
     "data": {
      "text/plain": "             Sector   Price  BookValue  PER\nSymbol                                     \nMMM     Industrials  141.14     26.668    0\nABT     Health Care   39.60     15.573    0\nABBV    Health Care   53.95      2.954    0"
     },
     "execution_count": 141,
     "metadata": {},
     "output_type": "execute_result"
    }
   ],
   "execution_count": null
  },
  {
   "cell_type": "markdown",
   "source": "### Removing rows from a DataFrame\n\nRemoving rows from a DataFrame object is normally performed using oe of the three techniques:\n\n* Using the drop() method\n* Boolean selection\n* Selection using a slice.\n\nTechnicall only the .drop() method removes rows in-place on the source object.",
   "metadata": {
    "cell_id": "00110-11ece93c-5ac1-40a4-9297-991697a16568",
    "deepnote_cell_type": "markdown"
   }
  },
  {
   "cell_type": "markdown",
   "source": "#### Removing rows using .drop()\n\nTo remove rows from a DataFrame by the index label, you can use the .drop() method of the DataFrame.",
   "metadata": {
    "cell_id": "00111-61c8841c-bef5-406f-a0f1-b5dc3f6b6eb5",
    "deepnote_cell_type": "markdown"
   }
  },
  {
   "cell_type": "code",
   "metadata": {
    "cell_id": "00112-3c0df029-953e-44b9-baba-95a8fd7212cc",
    "deepnote_cell_type": "code"
   },
   "source": "# get a copy of the first 5 rows of sp500\nss = sp500[:5].copy()\nss",
   "outputs": [
    {
     "data": {
      "text/plain": "                        Sector   Price  BookValue\nSymbol                                           \nMMM                Industrials  141.14     26.668\nABT                Health Care   39.60     15.573\nABBV               Health Care   53.95      2.954\nACN     Information Technology   79.79      8.326\nACE                 Financials  102.91     86.897"
     },
     "execution_count": 142,
     "metadata": {},
     "output_type": "execute_result"
    }
   ],
   "execution_count": null
  },
  {
   "cell_type": "code",
   "metadata": {
    "cell_id": "00113-ecccf2ec-fcf0-44cf-9da5-2d4702ca5c3f",
    "deepnote_cell_type": "code"
   },
   "source": "# drop rows with labels ABT and ACN\nafterdrop = ss.drop(['ABT','ACN'])\nafterdrop",
   "outputs": [
    {
     "data": {
      "text/plain": "             Sector   Price  BookValue\nSymbol                                \nMMM     Industrials  141.14     26.668\nABBV    Health Care   53.95      2.954\nACE      Financials  102.91     86.897"
     },
     "execution_count": 143,
     "metadata": {},
     "output_type": "execute_result"
    }
   ],
   "execution_count": null
  },
  {
   "cell_type": "code",
   "metadata": {
    "cell_id": "00114-755eea5c-7f27-4132-915a-d1457f444a4c",
    "deepnote_cell_type": "code"
   },
   "source": "# note that ss is not modified\nss",
   "outputs": [
    {
     "data": {
      "text/plain": "                        Sector   Price  BookValue\nSymbol                                           \nMMM                Industrials  141.14     26.668\nABT                Health Care   39.60     15.573\nABBV               Health Care   53.95      2.954\nACN     Information Technology   79.79      8.326\nACE                 Financials  102.91     86.897"
     },
     "execution_count": 144,
     "metadata": {},
     "output_type": "execute_result"
    }
   ],
   "execution_count": null
  },
  {
   "cell_type": "markdown",
   "source": "#### Removing rows using Boolean selection\n\nBoolean selection can be used to remove rows from a DataFrame by creating a new DataFrame without the desired rows.",
   "metadata": {
    "cell_id": "00115-7ad585fc-080b-4480-801b-5483342dac2c",
    "deepnote_cell_type": "markdown"
   }
  },
  {
   "cell_type": "code",
   "metadata": {
    "cell_id": "00116-eb2ae0bc-43f1-417f-9b9a-a981df78207e",
    "deepnote_cell_type": "code"
   },
   "source": "# determine the rows where Price > 300\nselection = sp500.Price > 300\n# to make the output shorter, report the # of row returned (500),\n# and the sum of those where Price > 300 (which is 10)\n\"{0} {1}\".format(len(selection),selection.sum())",
   "outputs": [
    {
     "data": {
      "text/plain": "'500 10'"
     },
     "execution_count": 145,
     "metadata": {},
     "output_type": "execute_result"
    }
   ],
   "execution_count": null
  },
  {
   "cell_type": "code",
   "metadata": {
    "cell_id": "00117-c0a36828-3176-411a-8621-5466d1a864b8",
    "deepnote_cell_type": "code"
   },
   "source": "# select the complement\nwithPriceLessThan300 = sp500[~selection]\nwithPriceLessThan300",
   "outputs": [
    {
     "data": {
      "text/plain": "                        Sector   Price  BookValue\nSymbol                                           \nMMM                Industrials  141.14     26.668\nABT                Health Care   39.60     15.573\nABBV               Health Care   53.95      2.954\nACN     Information Technology   79.79      8.326\nACE                 Financials  102.91     86.897\n...                        ...     ...        ...\nYHOO    Information Technology   35.02     12.768\nYUM     Consumer Discretionary   74.77      5.147\nZMH                Health Care  101.84     37.181\nZION                Financials   28.43     30.191\nZTS                Health Care   30.53      2.150\n\n[490 rows x 3 columns]"
     },
     "execution_count": 146,
     "metadata": {},
     "output_type": "execute_result"
    }
   ],
   "execution_count": null
  },
  {
   "cell_type": "markdown",
   "source": "#### Removing rows using a slice\n\nSlicing is also often used to remove the records from a DataFrame. It is a process similar to Boolean selection, where we select out all of the rows, except for the ones you want deleted.",
   "metadata": {
    "cell_id": "00118-818d597b-89bf-4409-9127-d90a17a05689",
    "deepnote_cell_type": "markdown"
   }
  },
  {
   "cell_type": "code",
   "metadata": {
    "cell_id": "00119-c4574c8e-8e8e-4acb-8069-cbc80f184765",
    "deepnote_cell_type": "code"
   },
   "source": "# get only the first 3 rows\nonlyfirstthree = sp500[:3]\nonlyfirstthree",
   "outputs": [
    {
     "data": {
      "text/plain": "             Sector   Price  BookValue\nSymbol                                \nMMM     Industrials  141.14     26.668\nABT     Health Care   39.60     15.573\nABBV    Health Care   53.95      2.954"
     },
     "execution_count": 147,
     "metadata": {},
     "output_type": "execute_result"
    }
   ],
   "execution_count": null
  },
  {
   "cell_type": "code",
   "metadata": {
    "cell_id": "00120-3b701619-9ab5-429a-a9da-b6b20247a5c4",
    "deepnote_cell_type": "code"
   },
   "source": "# first three but a copy of them\n# get only the first 3 rows\nonlyfirstthree = sp500[:3].copy()\nonlyfirstthree",
   "outputs": [
    {
     "data": {
      "text/plain": "             Sector   Price  BookValue\nSymbol                                \nMMM     Industrials  141.14     26.668\nABT     Health Care   39.60     15.573\nABBV    Health Care   53.95      2.954"
     },
     "execution_count": 148,
     "metadata": {},
     "output_type": "execute_result"
    }
   ],
   "execution_count": null
  },
  {
   "cell_type": "markdown",
   "source": "#### Changing scalar values in a DataFrame\n\nScalar values in a DataFrame can be changed by assignment of the new value to the result of the value lookup using the .ix,.iloc and .loc attributes.",
   "metadata": {
    "cell_id": "00121-9e19dbfd-0eb4-41f8-8e44-e6ad1b957245",
    "deepnote_cell_type": "markdown"
   }
  },
  {
   "cell_type": "code",
   "metadata": {
    "cell_id": "00122-86948e25-f873-48f7-a1da-2363b6ae7439",
    "deepnote_cell_type": "code"
   },
   "source": "# get a subset / copy of the data\nsubset = sp500[:3].copy()\nsubset",
   "outputs": [
    {
     "data": {
      "text/plain": "             Sector   Price  BookValue\nSymbol                                \nMMM     Industrials  141.14     26.668\nABT     Health Care   39.60     15.573\nABBV    Health Care   53.95      2.954"
     },
     "execution_count": 149,
     "metadata": {},
     "output_type": "execute_result"
    }
   ],
   "execution_count": null
  },
  {
   "cell_type": "code",
   "metadata": {
    "cell_id": "00123-30832b4e-b9c0-4bd6-a7da-f2ef7d573dac",
    "deepnote_cell_type": "code"
   },
   "source": "# change scalar by label on row and column\nsubset.ix['MMM','Price'] = 0\nsubset",
   "outputs": [
    {
     "name": "stderr",
     "output_type": "stream",
     "text": "/Users/cnc/anaconda/lib/python3.6/site-packages/ipykernel_launcher.py:2: DeprecationWarning: \n.ix is deprecated. Please use\n.loc for label based indexing or\n.iloc for positional indexing\n\nSee the documentation here:\nhttp://pandas.pydata.org/pandas-docs/stable/indexing.html#deprecate_ix\n  \n"
    },
    {
     "data": {
      "text/plain": "             Sector  Price  BookValue\nSymbol                               \nMMM     Industrials   0.00     26.668\nABT     Health Care  39.60     15.573\nABBV    Health Care  53.95      2.954"
     },
     "execution_count": 150,
     "metadata": {},
     "output_type": "execute_result"
    }
   ],
   "execution_count": null
  },
  {
   "cell_type": "markdown",
   "source": ".loc may suffer from lower performance as compared to .iloc due to the possibility of needing to map the label values into locations.",
   "metadata": {
    "cell_id": "00124-96559f57-2749-4cc4-a69d-9d583b9aa751",
    "deepnote_cell_type": "markdown"
   }
  },
  {
   "cell_type": "code",
   "metadata": {
    "cell_id": "00125-0fa0f200-1372-410f-b8be-dd4f77defb1b",
    "deepnote_cell_type": "code"
   },
   "source": "# subset of first three rows\nsubset = sp500[:3].copy()\n# get the location of the Price column\nprice_loc = sp500.columns.get_loc('Price')\n# get the location of the MMM row\nabt_row_loc = sp500.index.get_loc('ABT')\n# change the price\nsubset.iloc[abt_row_loc,price_loc] = 1000\nsubset",
   "outputs": [
    {
     "data": {
      "text/plain": "             Sector    Price  BookValue\nSymbol                                 \nMMM     Industrials   141.14     26.668\nABT     Health Care  1000.00     15.573\nABBV    Health Care    53.95      2.954"
     },
     "execution_count": 152,
     "metadata": {},
     "output_type": "execute_result"
    }
   ],
   "execution_count": null
  },
  {
   "cell_type": "markdown",
   "source": "## Arithmetic on a DataFrame",
   "metadata": {
    "cell_id": "00126-8832552a-1cdf-4bf0-9744-7e4b68bba1b1",
    "deepnote_cell_type": "markdown"
   }
  },
  {
   "cell_type": "code",
   "metadata": {
    "cell_id": "00127-f66960c4-21ce-4358-9364-43b07d7595bc",
    "deepnote_cell_type": "code"
   },
   "source": "# set the seed to allow replicatable results\nnp.random.seed(123456)\n# create the data frame\ndf = pd.DataFrame(np.random.randn(5,4), columns=['A','B','C','D'])\ndf",
   "outputs": [
    {
     "data": {
      "text/plain": "          A         B         C         D\n0  0.469112 -0.282863 -1.509059 -1.135632\n1  1.212112 -0.173215  0.119209 -1.044236\n2 -0.861849 -2.104569 -0.494929  1.071804\n3  0.721555 -0.706771 -1.039575  0.271860\n4 -0.424972  0.567020  0.276232 -1.087401"
     },
     "execution_count": 153,
     "metadata": {},
     "output_type": "execute_result"
    }
   ],
   "execution_count": null
  },
  {
   "cell_type": "code",
   "metadata": {
    "cell_id": "00128-73057912-3330-4757-8ea4-eebb7bbf4a06",
    "deepnote_cell_type": "code"
   },
   "source": "# multiply everything by 2\ndf * 2",
   "outputs": [
    {
     "data": {
      "text/plain": "          A         B         C         D\n0  0.938225 -0.565727 -3.018117 -2.271265\n1  2.424224 -0.346429  0.238417 -2.088472\n2 -1.723698 -4.209138 -0.989859  2.143608\n3  1.443110 -1.413542 -2.079150  0.543720\n4 -0.849945  1.134041  0.552464 -2.174801"
     },
     "execution_count": 154,
     "metadata": {},
     "output_type": "execute_result"
    }
   ],
   "execution_count": null
  },
  {
   "cell_type": "code",
   "metadata": {
    "cell_id": "00129-ab5fb584-eb3a-4ffe-ac4a-c78890f5349c",
    "deepnote_cell_type": "code"
   },
   "source": "# get first row\ns = df.iloc[0]\n# subtract first row from every row of the dataframe\ndiff = df - s\ndiff",
   "outputs": [
    {
     "data": {
      "text/plain": "          A         B         C         D\n0  0.000000  0.000000  0.000000  0.000000\n1  0.743000  0.109649  1.628267  0.091396\n2 -1.330961 -1.821706  1.014129  2.207436\n3  0.252443 -0.423908  0.469484  1.407492\n4 -0.894085  0.849884  1.785291  0.048232"
     },
     "execution_count": 155,
     "metadata": {},
     "output_type": "execute_result"
    }
   ],
   "execution_count": null
  },
  {
   "cell_type": "markdown",
   "source": "When performing an operation between a DataFrame and a Series, pandax will align the Series index along the DataFrame columns performing what is referred to as a row-wise broadcast.",
   "metadata": {
    "cell_id": "00130-41dac6db-bbd4-4305-8198-af50205e99c5",
    "deepnote_cell_type": "markdown"
   }
  },
  {
   "cell_type": "code",
   "metadata": {
    "cell_id": "00131-1cbb763b-da51-4038-b234-ff798ebb7002",
    "deepnote_cell_type": "code"
   },
   "source": "# subtract dataframe from series\ndiff = s - df\ndiff",
   "outputs": [
    {
     "data": {
      "text/plain": "          A         B         C         D\n0  0.000000  0.000000  0.000000  0.000000\n1 -0.743000 -0.109649 -1.628267 -0.091396\n2  1.330961  1.821706 -1.014129 -2.207436\n3 -0.252443  0.423908 -0.469484 -1.407492\n4  0.894085 -0.849884 -1.785291 -0.048232"
     },
     "execution_count": 157,
     "metadata": {},
     "output_type": "execute_result"
    }
   ],
   "execution_count": null
  },
  {
   "cell_type": "markdown",
   "source": "The set of columns returned will be the union of the labels in the index of both the series and columns index of the DataFrame object. If a label representing the result column is not found in either the Series of the DataFrame object, then the values will be NaN filled.\n\nThe following code demonstrates, by creating a series with an index representing a subset of the column in the DataFrame, but also with an additional label.",
   "metadata": {
    "cell_id": "00132-c36c1bba-0d7b-4952-9794-079a83fce183",
    "deepnote_cell_type": "markdown"
   }
  },
  {
   "cell_type": "code",
   "metadata": {
    "cell_id": "00133-3d456747-7739-441a-a197-3b32cb80e57c",
    "deepnote_cell_type": "code"
   },
   "source": "# B, C\ns2 = s[1:3]\n# add E\ns2['E'] = 0\n# see how alignment is applied in math\ndf + s2",
   "outputs": [
    {
     "data": {
      "text/plain": "    A         B         C   D   E\n0 NaN -0.565727 -3.018117 NaN NaN\n1 NaN -0.456078 -1.389850 NaN NaN\n2 NaN -2.387433 -2.003988 NaN NaN\n3 NaN -0.989634 -2.548633 NaN NaN\n4 NaN  0.284157 -1.232826 NaN NaN"
     },
     "execution_count": 159,
     "metadata": {},
     "output_type": "execute_result"
    }
   ],
   "execution_count": null
  },
  {
   "cell_type": "code",
   "metadata": {
    "cell_id": "00134-a822f50a-9e9f-46d1-af8f-248471b305ef",
    "deepnote_cell_type": "code"
   },
   "source": "# get rows 1 through three and only B,C columns\nsubframe = df[1:4][['B','C']]\n# we have extracted a little square in the middle of the df\nsubframe",
   "outputs": [
    {
     "data": {
      "text/plain": "          B         C\n1 -0.173215  0.119209\n2 -2.104569 -0.494929\n3 -0.706771 -1.039575"
     },
     "execution_count": 160,
     "metadata": {},
     "output_type": "execute_result"
    }
   ],
   "execution_count": null
  },
  {
   "cell_type": "code",
   "metadata": {
    "cell_id": "00135-17e1e70a-c0eb-49ba-ae2b-43f7b0937005",
    "deepnote_cell_type": "code"
   },
   "source": "# demonstrate the alignment of the subtraction\ndf - subframe",
   "outputs": [
    {
     "data": {
      "text/plain": "    A    B    C   D\n0 NaN  NaN  NaN NaN\n1 NaN  0.0  0.0 NaN\n2 NaN  0.0  0.0 NaN\n3 NaN  0.0  0.0 NaN\n4 NaN  NaN  NaN NaN"
     },
     "execution_count": 161,
     "metadata": {},
     "output_type": "execute_result"
    }
   ],
   "execution_count": null
  },
  {
   "cell_type": "code",
   "metadata": {
    "cell_id": "00136-7fabce7e-5c8d-443f-b564-7ce209411909",
    "deepnote_cell_type": "code"
   },
   "source": "# get the A column\na_col = df['A']\ndf.sub(a_col, axis=0)",
   "outputs": [
    {
     "data": {
      "text/plain": "     A         B         C         D\n0  0.0 -0.751976 -1.978171 -1.604745\n1  0.0 -1.385327 -1.092903 -2.256348\n2  0.0 -1.242720  0.366920  1.933653\n3  0.0 -1.428326 -1.761130 -0.449695\n4  0.0  0.991993  0.701204 -0.662428"
     },
     "execution_count": 162,
     "metadata": {},
     "output_type": "execute_result"
    }
   ],
   "execution_count": null
  },
  {
   "cell_type": "markdown",
   "source": "## Resetting and Reindexing\n\nA DataFrame can have its index reset by using the .reset_index() method. A common use of this, to move the contents of a DataFrame object's index into one or more columns.",
   "metadata": {
    "cell_id": "00137-8615a2d6-b358-4501-a6cb-85044a7c173d",
    "deepnote_cell_type": "markdown"
   }
  },
  {
   "cell_type": "code",
   "metadata": {
    "cell_id": "00138-7b7ccc0f-4ceb-45cf-88c3-f259d97fa940",
    "deepnote_cell_type": "code"
   },
   "source": "# reset the index, moving it into a column\nreset_sp500 = sp500.reset_index()\nreset_sp500",
   "outputs": [
    {
     "data": {
      "text/plain": "    Symbol                  Sector   Price  BookValue\n0      MMM             Industrials  141.14     26.668\n1      ABT             Health Care   39.60     15.573\n2     ABBV             Health Care   53.95      2.954\n3      ACN  Information Technology   79.79      8.326\n4      ACE              Financials  102.91     86.897\n..     ...                     ...     ...        ...\n495   YHOO  Information Technology   35.02     12.768\n496    YUM  Consumer Discretionary   74.77      5.147\n497    ZMH             Health Care  101.84     37.181\n498   ZION              Financials   28.43     30.191\n499    ZTS             Health Care   30.53      2.150\n\n[500 rows x 4 columns]"
     },
     "execution_count": 163,
     "metadata": {},
     "output_type": "execute_result"
    }
   ],
   "execution_count": null
  },
  {
   "cell_type": "markdown",
   "source": "One or more columns can also be moved into the inext. We can use the set_index() method for this.",
   "metadata": {
    "cell_id": "00139-0b2f3e9c-c888-4d93-9989-608f8d9b5111",
    "deepnote_cell_type": "markdown"
   }
  },
  {
   "cell_type": "code",
   "metadata": {
    "cell_id": "00140-22f31c62-4fb9-4005-8d34-f4e4f86e091f",
    "deepnote_cell_type": "code"
   },
   "source": "reset_sp500.set_index('Symbol')",
   "outputs": [
    {
     "data": {
      "text/plain": "                        Sector   Price  BookValue\nSymbol                                           \nMMM                Industrials  141.14     26.668\nABT                Health Care   39.60     15.573\nABBV               Health Care   53.95      2.954\nACN     Information Technology   79.79      8.326\nACE                 Financials  102.91     86.897\n...                        ...     ...        ...\nYHOO    Information Technology   35.02     12.768\nYUM     Consumer Discretionary   74.77      5.147\nZMH                Health Care  101.84     37.181\nZION                Financials   28.43     30.191\nZTS                Health Care   30.53      2.150\n\n[500 rows x 3 columns]"
     },
     "execution_count": 164,
     "metadata": {},
     "output_type": "execute_result"
    }
   ],
   "execution_count": null
  },
  {
   "cell_type": "code",
   "metadata": {
    "cell_id": "00141-2eebccbc-7587-4e8a-971b-aecf45213b56",
    "deepnote_cell_type": "code"
   },
   "source": "# get first four rows\nsubset = sp500[:4].copy()\nsubset",
   "outputs": [
    {
     "data": {
      "text/plain": "                        Sector   Price  BookValue\nSymbol                                           \nMMM                Industrials  141.14     26.668\nABT                Health Care   39.60     15.573\nABBV               Health Care   53.95      2.954\nACN     Information Technology   79.79      8.326"
     },
     "execution_count": 165,
     "metadata": {},
     "output_type": "execute_result"
    }
   ],
   "execution_count": null
  },
  {
   "cell_type": "code",
   "metadata": {
    "cell_id": "00142-1bb5c1c4-f49d-4e83-b6dd-9af2b686f1c3",
    "deepnote_cell_type": "code"
   },
   "source": "# reindex to have MMM,ABBV and FOO index labels\nreindexed = subset.reindex(index=['MMM','ABBV','FOO'])\n# not that ABT and ACN are dropped and FOO has NaN values\nreindexed",
   "outputs": [
    {
     "data": {
      "text/plain": "             Sector   Price  BookValue\nSymbol                                \nMMM     Industrials  141.14     26.668\nABBV    Health Care   53.95      2.954\nFOO             NaN     NaN        NaN"
     },
     "execution_count": 166,
     "metadata": {},
     "output_type": "execute_result"
    }
   ],
   "execution_count": null
  },
  {
   "cell_type": "markdown",
   "source": "Reindexing can also be done upon the columns.",
   "metadata": {
    "cell_id": "00143-c7fd8c3c-3477-4e15-bf2a-1e572a62e894",
    "deepnote_cell_type": "markdown"
   }
  },
  {
   "cell_type": "code",
   "metadata": {
    "cell_id": "00144-1e5ad374-1166-4ed7-b6cd-c0b00883e070",
    "deepnote_cell_type": "code"
   },
   "source": "# reindex columns\nsubset.reindex(columns=['Price','BookValue','New_Column'])",
   "outputs": [
    {
     "data": {
      "text/plain": "         Price  BookValue  New_Column\nSymbol                               \nMMM     141.14     26.668         NaN\nABT      39.60     15.573         NaN\nABBV     53.95      2.954         NaN\nACN      79.79      8.326         NaN"
     },
     "execution_count": 169,
     "metadata": {},
     "output_type": "execute_result"
    }
   ],
   "execution_count": null
  },
  {
   "cell_type": "markdown",
   "source": "### Hierarchical Indexing\n\nHierarchical Indexing is a feature of pandas that allows specifying 2 or more index levels on an axis. A pandas index that has multiple levels of hierarchy is referred to as a MultiIndex.",
   "metadata": {
    "cell_id": "00145-956f10bb-b148-455d-be5b-2b11057f1256",
    "deepnote_cell_type": "markdown"
   }
  },
  {
   "cell_type": "code",
   "metadata": {
    "cell_id": "00146-dbeb4080-816b-4f27-b079-05e69a659435",
    "deepnote_cell_type": "code"
   },
   "source": "# first push symbol into a column\nreindexed = sp500.reset_index()\n# and now index sp500 by sector and symbol\nmulti_fi = reindexed.set_index(['Sector','Symbol'])\nmulti_fi",
   "outputs": [
    {
     "data": {
      "text/plain": "                                Price  BookValue\nSector                 Symbol                   \nIndustrials            MMM     141.14     26.668\nHealth Care            ABT      39.60     15.573\n                       ABBV     53.95      2.954\nInformation Technology ACN      79.79      8.326\nFinancials             ACE     102.91     86.897\n...                               ...        ...\nInformation Technology YHOO     35.02     12.768\nConsumer Discretionary YUM      74.77      5.147\nHealth Care            ZMH     101.84     37.181\nFinancials             ZION     28.43     30.191\nHealth Care            ZTS      30.53      2.150\n\n[500 rows x 2 columns]"
     },
     "execution_count": 170,
     "metadata": {},
     "output_type": "execute_result"
    }
   ],
   "execution_count": null
  },
  {
   "cell_type": "code",
   "metadata": {
    "cell_id": "00147-4a2827a1-f5c8-4874-9179-c9bfd091207a",
    "deepnote_cell_type": "code"
   },
   "source": "# the index is a multiindex\n# examine the index\ntype(multi_fi.index)",
   "outputs": [
    {
     "data": {
      "text/plain": "pandas.core.indexes.multi.MultiIndex"
     },
     "execution_count": 171,
     "metadata": {},
     "output_type": "execute_result"
    }
   ],
   "execution_count": null
  },
  {
   "cell_type": "code",
   "metadata": {
    "cell_id": "00148-5e72b58e-d1d1-4312-8844-a110b8be97f9",
    "deepnote_cell_type": "code"
   },
   "source": "# examine the index\nmulti_fi.index",
   "outputs": [
    {
     "data": {
      "text/plain": "MultiIndex(levels=[['Consumer Discretionary', 'Consumer Discretionary ', 'Consumer Staples', 'Consumer Staples ', 'Energy', 'Financials', 'Health Care', 'Industrials', 'Industries', 'Information Technology', 'Materials', 'Telecommunications Services', 'Utilities'], ['A', 'AA', 'AAPL', 'ABBV', 'ABC', 'ABT', 'ACE', 'ACN', 'ACT', 'ADBE', 'ADI', 'ADM', 'ADP', 'ADS', 'ADSK', 'ADT', 'AEE', 'AEP', 'AES', 'AET', 'AFL', 'AGN', 'AIG', 'AIV', 'AIZ', 'AKAM', 'ALL', 'ALLE', 'ALTR', 'ALXN', 'AMAT', 'AME', 'AMGN', 'AMP', 'AMT', 'AMZN', 'AN', 'AON', 'APA', 'APC', 'APD', 'APH', 'ARG', 'ATI', 'AVB', 'AVP', 'AVY', 'AXP', 'AZO', 'BA', 'BAC', 'BAX', 'BBBY', 'BBT', 'BBY', 'BCR', 'BDX', 'BEAM', 'BEN', 'BF-B', 'BHI', 'BIIB', 'BK', 'BLK', 'BLL', 'BMS', 'BMY', 'BRCM', 'BRK-B', 'BSX', 'BTU', 'BWA', 'BXP', 'C', 'CA', 'CAG', 'CAH', 'CAM', 'CAT', 'CB', 'CBG', 'CBS', 'CCE', 'CCI', 'CCL', 'CELG', 'CERN', 'CF', 'CFN', 'CHK', 'CHRW', 'CI', 'CINF', 'CL', 'CLF', 'CLX', 'CMA', 'CMCSA', 'CME', 'CMG', 'CMI', 'CMS', 'CNP', 'CNX', 'COF', 'COG', 'COH', 'COL', 'COP', 'COST', 'COV', 'CPB', 'CRM', 'CSC', 'CSCO', 'CSX', 'CTAS', 'CTL', 'CTSH', 'CTXS', 'CVC', 'CVS', 'CVX', 'D', 'DAL', 'DD', 'DE', 'DFS', 'DG', 'DGX', 'DHI', 'DHR', 'DIS', 'DISCA', 'DLPH', 'DLTR', 'DNB', 'DNR', 'DO', 'DOV', 'DOW', 'DPS', 'DRI', 'DTE', 'DTV', 'DUK', 'DVA', 'DVN', 'EA', 'EBAY', 'ECL', 'ED', 'EFX', 'EIX', 'EL', 'EMC', 'EMN', 'EMR', 'EOG', 'EQR', 'EQT', 'ESRX', 'ESV', 'ETFC', 'ETN', 'ETR', 'EW', 'EXC', 'EXPD', 'EXPE', 'F', 'FAST', 'FB', 'FCX', 'FDO', 'FDX', 'FE', 'FFIV', 'FIS', 'FISV', 'FITB', 'FLIR', 'FLR', 'FLS', 'FMC', 'FOSL', 'FOXA', 'FRX', 'FSLR', 'FTI', 'FTR', 'GAS', 'GCI', 'GD', 'GE', 'GGP', 'GHC', 'GILD', 'GIS', 'GLW', 'GM', 'GMCR', 'GME', 'GNW', 'GOOG', 'GPC', 'GPS', 'GRMN', 'GS', 'GT', 'GWW', 'HAL', 'HAR', 'HAS', 'HBAN', 'HCBK', 'HCN', 'HCP', 'HD', 'HES', 'HIG', 'HOG', 'HON', 'HOT', 'HP', 'HPQ', 'HRB', 'HRL', 'HRS', 'HSP', 'HST', 'HSY', 'HUM', 'IBM', 'ICE', 'IFF', 'IGT', 'INTC', 'INTU', 'IP', 'IPG', 'IR', 'IRM', 'ISRG', 'ITW', 'IVZ', 'JBL', 'JCI', 'JEC', 'JNJ', 'JNPR', 'JOY', 'JPM', 'JWN', 'K', 'KEY', 'KIM', 'KLAC', 'KMB', 'KMI', 'KMX', 'KO', 'KORS', 'KR', 'KRFT', 'KSS', 'KSU', 'L', 'LB', 'LEG', 'LEN', 'LH', 'LLL', 'LLTC', 'LLY', 'LM', 'LMT', 'LNC', 'LO', 'LOW', 'LRCX', 'LSI', 'LUK', 'LUV', 'LYB', 'M', 'MA', 'MAC', 'MAR', 'MAS', 'MAT', 'MCD', 'MCHP', 'MCK', 'MCO', 'MDLZ', 'MDT', 'MET', 'MHFI', 'MHK', 'MJN', 'MKC', 'MMC', 'MMM', 'MNST', 'MO', 'MON', 'MOS', 'MPC', 'MRK', 'MRO', 'MS', 'MSFT', 'MSI', 'MTB', 'MU', 'MUR', 'MWV', 'MYL', 'NBL', 'NBR', 'NDAQ', 'NE', 'NEE', 'NEM', 'NFLX', 'NFX', 'NI', 'NKE', 'NLSN', 'NOC', 'NOV', 'NRG', 'NSC', 'NTAP', 'NTRS', 'NU', 'NUE', 'NVDA', 'NWL', 'NWSA', 'OI', 'OKE', 'OMC', 'ORCL', 'ORLY', 'OXY', 'PAYX', 'PBCT', 'PBI', 'PCAR', 'PCG', 'PCL', 'PCLN', 'PCP', 'PDCO', 'PEG', 'PEP', 'PETM', 'PFE', 'PFG', 'PG', 'PGR', 'PH', 'PHM', 'PKI', 'PLD', 'PLL', 'PM', 'PNC', 'PNR', 'PNW', 'POM', 'PPG', 'PPL', 'PRGO', 'PRU', 'PSA', 'PSX', 'PVH', 'PWR', 'PX', 'PXD', 'QCOM', 'QEP', 'R', 'RAI', 'RDC', 'REGN', 'RF', 'RHI', 'RHT', 'RIG', 'RL', 'ROK', 'ROP', 'ROST', 'RRC', 'RSG', 'RTN', 'SBUX', 'SCG', 'SCHW', 'SE', 'SEE', 'SHW', 'SIAL', 'SJM', 'SLB', 'SLM', 'SNA', 'SNDK', 'SNI', 'SO', 'SPG', 'SPLS', 'SRCL', 'SRE', 'STI', 'STJ', 'STT', 'STX', 'STZ', 'SWK', 'SWN', 'SWY', 'SYK', 'SYMC', 'SYY', 'T', 'TAP', 'TDC', 'TE', 'TEG', 'TEL', 'TGT', 'THC', 'TIF', 'TJX', 'TMK', 'TMO', 'TRIP', 'TROW', 'TRV', 'TSCO', 'TSN', 'TSO', 'TSS', 'TWC', 'TWX', 'TXN', 'TXT', 'TYC', 'UNH', 'UNM', 'UNP', 'UPS', 'URBN', 'USB', 'UTX', 'V', 'VAR', 'VFC', 'VIAB', 'VLO', 'VMC', 'VNO', 'VRSN', 'VRTX', 'VTR', 'VZ', 'WAG', 'WAT', 'WDC', 'WEC', 'WFC', 'WFM', 'WHR', 'WIN', 'WLP', 'WM', 'WMB', 'WMT', 'WU', 'WY', 'WYN', 'WYNN', 'X', 'XEL', 'XL', 'XLNX', 'XOM', 'XRAY', 'XRX', 'XYL', 'YHOO', 'YUM', 'ZION', 'ZMH', 'ZTS']],\n           labels=[[7, 6, 6, 9, 5, 6, 9, 12, 6, 5, 6, 12, 10, 10, 9, 10, 6, 10, 7, 6, 9, 5, 9, 2, 0, 12, 12, 5, 5, 5, 5, 6, 9, 6, 7, 4, 9, 5, 4, 5, 9, 9, 2, 5, 11, 9, 9, 0, 0, 5, 7, 2, 4, 10, 5, 6, 6, 5, 0, 6, 0, 10, 5, 0, 6, 5, 0, 7, 0, 5, 6, 6, 9, 2, 9, 0, 4, 4, 2, 5, 6, 6, 0, 0, 7, 5, 0, 6, 12, 11, 6, 10, 7, 4, 4, 0, 5, 6, 5, 7, 9, 5, 9, 10, 2, 5, 12, 0, 2, 2, 9, 2, 0, 5, 9, 2, 4, 4, 12, 2, 7, 2, 6, 11, 7, 7, 2, 7, 0, 6, 7, 0, 7, 4, 6, 4, 4, 0, 5, 0, 0, 0, 12, 7, 10, 2, 12, 12, 7, 5, 10, 10, 7, 9, 10, 12, 6, 9, 9, 7, 4, 12, 4, 12, 5, 5, 2, 12, 0, 7, 6, 4, 9, 9, 0, 7, 7, 9, 5, 7, 12, 9, 9, 7, 7, 10, 4, 0, 6, 0, 5, 10, 11, 0, 0, 0, 0, 7, 7, 5, 2, 0, 0, 5, 6, 5, 0, 9, 0, 7, 4, 0, 0, 9, 5, 0, 5, 5, 4, 2, 4, 9, 0, 7, 2, 0, 6, 5, 5, 6, 5, 7, 7, 12, 9, 5, 0, 9, 10, 0, 10, 9, 6, 5, 7, 9, 7, 6, 0, 7, 5, 9, 7, 2, 3, 5, 2, 5, 4, 9, 0, 2, 2, 0, 7, 6, 9, 5, 0, 0, 5, 6, 5, 9, 7, 5, 2, 0, 9, 10, 5, 5, 0, 4, 4, 0, 5, 7, 9, 0, 2, 0, 5, 6, 2, 10, 6, 6, 5, 0, 9, 9, 9, 0, 2, 2, 10, 2, 5, 5, 10, 9, 4, 6, 4, 5, 4, 9, 9, 0, 4, 10, 0, 12, 8, 0, 12, 4, 4, 0, 7, 12, 5, 7, 12, 10, 9, 0, 4, 0, 12, 9, 10, 7, 7, 7, 6, 9, 4, 7, 5, 12, 2, 6, 6, 0, 6, 12, 2, 4, 12, 4, 7, 5, 5, 10, 12, 10, 7, 7, 5, 2, 5, 5, 5, 12, 5, 0, 0, 12, 9, 7, 6, 0, 4, 7, 9, 6, 5, 7, 2, 7, 7, 7, 7, 0, 4, 7, 2, 9, 9, 12, 4, 5, 0, 9, 10, 12, 0, 10, 5, 5, 2, 0, 12, 7, 4, 4, 6, 0, 0, 0, 0, 5, 7, 6, 5, 9, 2, 5, 0, 9, 12, 6, 9, 4, 9, 7, 7, 5, 4, 6, 0, 0, 0, 0, 5, 9, 1, 4, 5, 0, 0, 7, 2, 7, 7, 10, 7, 6, 5, 0, 5, 4, 6, 5, 9, 11, 6, 0, 0, 9, 5, 10, 2, 2, 0, 7, 6, 6, 5, 9, 9, 5, 0, 2, 11, 12, 0, 0, 12, 9, 9, 5, 7, 9, 0, 6, 5, 6], [303, 5, 3, 7, 6, 8, 9, 18, 19, 20, 0, 191, 40, 42, 25, 1, 29, 43, 27, 21, 13, 26, 28, 305, 35, 16, 17, 47, 22, 34, 33, 4, 31, 32, 41, 39, 10, 37, 38, 23, 2, 30, 11, 24, 429, 14, 12, 36, 48, 44, 46, 45, 60, 64, 50, 55, 51, 53, 57, 56, 52, 65, 68, 54, 61, 63, 226, 49, 71, 72, 69, 66, 67, 59, 74, 120, 105, 77, 111, 104, 76, 88, 260, 84, 78, 80, 81, 85, 102, 117, 86, 87, 90, 89, 122, 99, 79, 91, 92, 116, 114, 73, 119, 94, 95, 98, 101, 106, 261, 82, 118, 93, 97, 96, 113, 75, 108, 103, 151, 422, 199, 109, 110, 83, 115, 100, 121, 131, 142, 146, 126, 134, 124, 137, 492, 147, 138, 144, 127, 133, 128, 135, 123, 139, 140, 141, 143, 145, 136, 163, 125, 156, 164, 149, 150, 153, 166, 148, 155, 157, 162, 165, 158, 160, 152, 159, 154, 167, 169, 168, 161, 491, 177, 172, 174, 171, 175, 178, 180, 188, 176, 179, 181, 183, 182, 184, 189, 170, 187, 185, 58, 173, 190, 202, 192, 206, 207, 193, 194, 195, 198, 200, 205, 203, 197, 208, 209, 204, 196, 210, 211, 221, 212, 228, 220, 213, 217, 216, 224, 231, 219, 225, 218, 222, 227, 130, 229, 230, 215, 232, 214, 244, 241, 433, 237, 234, 240, 233, 235, 236, 239, 238, 243, 245, 242, 246, 248, 249, 247, 251, 252, 250, 266, 254, 201, 255, 258, 256, 259, 257, 265, 264, 263, 268, 272, 271, 280, 275, 269, 270, 282, 274, 277, 273, 276, 267, 278, 279, 281, 284, 314, 287, 285, 310, 308, 288, 302, 289, 286, 290, 301, 291, 298, 293, 300, 317, 296, 309, 297, 262, 292, 315, 312, 299, 430, 295, 306, 304, 294, 311, 307, 313, 316, 318, 320, 321, 331, 334, 325, 339, 326, 324, 340, 323, 329, 328, 327, 322, 319, 253, 333, 336, 335, 330, 332, 337, 338, 345, 346, 343, 342, 344, 341, 350, 367, 363, 355, 347, 70, 370, 348, 372, 357, 365, 375, 358, 359, 351, 368, 378, 371, 382, 349, 352, 369, 373, 374, 381, 354, 353, 360, 361, 362, 366, 376, 356, 377, 364, 379, 384, 383, 380, 129, 393, 397, 399, 391, 388, 389, 398, 386, 390, 394, 107, 395, 396, 387, 385, 425, 112, 411, 401, 408, 402, 412, 421, 404, 417, 405, 406, 414, 409, 407, 410, 413, 283, 424, 403, 419, 423, 415, 400, 223, 420, 416, 426, 418, 427, 428, 442, 435, 434, 432, 436, 431, 446, 450, 451, 15, 62, 481, 440, 437, 448, 449, 438, 439, 447, 444, 392, 443, 441, 186, 452, 445, 455, 456, 487, 459, 453, 454, 457, 458, 464, 461, 469, 467, 470, 468, 462, 463, 460, 466, 465, 482, 471, 132, 480, 472, 479, 475, 473, 483, 484, 477, 476, 478, 474, 485, 486, 488, 493, 490, 489, 494, 495, 496, 498, 497, 499]],\n           names=['Sector', 'Symbol'])"
     },
     "execution_count": 175,
     "metadata": {},
     "output_type": "execute_result"
    }
   ],
   "execution_count": null
  },
  {
   "cell_type": "code",
   "metadata": {
    "cell_id": "00149-560f8b9a-302e-447b-b411-0d5f7a3f7dfb",
    "deepnote_cell_type": "code"
   },
   "source": "# this has 2 levels\nlen(multi_fi.index.levels)",
   "outputs": [
    {
     "data": {
      "text/plain": "2"
     },
     "execution_count": 176,
     "metadata": {},
     "output_type": "execute_result"
    }
   ],
   "execution_count": null
  },
  {
   "cell_type": "code",
   "metadata": {
    "cell_id": "00150-1f8ced27-0eca-4cca-aa7e-46fb96f25021",
    "deepnote_cell_type": "code"
   },
   "source": "# each index level is an index\nmulti_fi.index.levels[0]",
   "outputs": [
    {
     "data": {
      "text/plain": "Index(['Consumer Discretionary', 'Consumer Discretionary ', 'Consumer Staples',\n       'Consumer Staples ', 'Energy', 'Financials', 'Health Care',\n       'Industrials', 'Industries', 'Information Technology', 'Materials',\n       'Telecommunications Services', 'Utilities'],\n      dtype='object', name='Sector')"
     },
     "execution_count": 177,
     "metadata": {},
     "output_type": "execute_result"
    }
   ],
   "execution_count": null
  },
  {
   "cell_type": "markdown",
   "source": "Values of the index, at a specific level for every row, can be retrieved by the .get_level_values() method:",
   "metadata": {
    "cell_id": "00151-98ceaa23-d277-4af7-bda1-13d55e0b672f",
    "deepnote_cell_type": "markdown"
   }
  },
  {
   "cell_type": "code",
   "metadata": {
    "cell_id": "00152-afb8cc35-0408-4313-bdc5-b7fec2738079",
    "deepnote_cell_type": "code"
   },
   "source": "# values of the index level 0\nmulti_fi.index.get_level_values(0)",
   "outputs": [
    {
     "data": {
      "text/plain": "Index(['Industrials', 'Health Care', 'Health Care', 'Information Technology',\n       'Financials', 'Health Care', 'Information Technology', 'Utilities',\n       'Health Care', 'Financials',\n       ...\n       'Utilities', 'Information Technology', 'Information Technology',\n       'Financials', 'Industrials', 'Information Technology',\n       'Consumer Discretionary', 'Health Care', 'Financials', 'Health Care'],\n      dtype='object', name='Sector', length=500)"
     },
     "execution_count": 178,
     "metadata": {},
     "output_type": "execute_result"
    }
   ],
   "execution_count": null
  },
  {
   "cell_type": "code",
   "metadata": {
    "cell_id": "00153-109bf534-2ee3-4e9d-8597-d787a30415e6",
    "deepnote_cell_type": "code"
   },
   "source": "# get all the stocks that are industrials\n# note the result drops level 0 of the index\nmulti_fi.xs('Industrials')",
   "outputs": [
    {
     "data": {
      "text/plain": "         Price  BookValue\nSymbol                   \nMMM     141.14     26.668\nALLE     52.46      0.000\nAPH      95.71     18.315\nAVY      48.20     15.616\nBA      132.41     19.870\n...        ...        ...\nUNP     196.26     46.957\nUPS     102.73      6.790\nUTX     115.54     35.252\nWM       43.37     12.330\nXYL      38.42     12.127\n\n[64 rows x 2 columns]"
     },
     "execution_count": 179,
     "metadata": {},
     "output_type": "execute_result"
    }
   ],
   "execution_count": null
  },
  {
   "cell_type": "code",
   "metadata": {
    "cell_id": "00154-0aecfbde-7236-4cd3-8733-32a2e744383d",
    "deepnote_cell_type": "code"
   },
   "source": "# select rows where level 1 is ALLE\n# note that the sector level is dropped from the result\nmulti_fi.xs('ALLE', level=1)",
   "outputs": [
    {
     "data": {
      "text/plain": "             Price  BookValue\nSector                       \nIndustrials  52.46        0.0"
     },
     "execution_count": 181,
     "metadata": {},
     "output_type": "execute_result"
    }
   ],
   "execution_count": null
  },
  {
   "cell_type": "code",
   "metadata": {
    "cell_id": "00155-ffa5597c-d87a-4335-b0ec-406930315d9a",
    "deepnote_cell_type": "code"
   },
   "source": "# Industrials, without dropping the level\nmulti_fi.xs('Industrials', drop_level=False)",
   "outputs": [
    {
     "data": {
      "text/plain": "                     Price  BookValue\nSector      Symbol                   \nIndustrials MMM     141.14     26.668\n            ALLE     52.46      0.000\n            APH      95.71     18.315\n            AVY      48.20     15.616\n            BA      132.41     19.870\n...                    ...        ...\n            UNP     196.26     46.957\n            UPS     102.73      6.790\n            UTX     115.54     35.252\n            WM       43.37     12.330\n            XYL      38.42     12.127\n\n[64 rows x 2 columns]"
     },
     "execution_count": 182,
     "metadata": {},
     "output_type": "execute_result"
    }
   ],
   "execution_count": null
  },
  {
   "cell_type": "code",
   "metadata": {
    "cell_id": "00156-7a5d64f6-e382-4efd-8791-d394568a1068",
    "deepnote_cell_type": "code"
   },
   "source": "# drill through the levels\nmulti_fi.xs('Industrials').xs('UPS')",
   "outputs": [
    {
     "data": {
      "text/plain": "Price        102.73\nBookValue      6.79\nName: UPS, dtype: float64"
     },
     "execution_count": 183,
     "metadata": {},
     "output_type": "execute_result"
    }
   ],
   "execution_count": null
  },
  {
   "cell_type": "code",
   "metadata": {
    "cell_id": "00157-7de23bd8-aa42-4e2e-b4b0-e1800bfb321d",
    "deepnote_cell_type": "code"
   },
   "source": "# drill through using tuples\nmulti_fi.xs(('Industrials','UPS'))",
   "outputs": [
    {
     "data": {
      "text/plain": "Price        102.73\nBookValue      6.79\nName: (Industrials, UPS), dtype: float64"
     },
     "execution_count": 185,
     "metadata": {},
     "output_type": "execute_result"
    }
   ],
   "execution_count": null
  },
  {
   "cell_type": "markdown",
   "source": "## Summarized data and descriptive statistics\n\npandas provides several classes of statistical operations that can be applied to a Series or DataFrame object. These reductive methods, when applied to a Series, result in a single value.\n\nWhen applied to a DataFrame, an axis can be specified and the method will then be either applied to each column or row and results in a Series.",
   "metadata": {
    "cell_id": "00158-81f5738f-c0d3-4eb5-86af-eb054537af3b",
    "deepnote_cell_type": "markdown"
   }
  },
  {
   "cell_type": "code",
   "metadata": {
    "cell_id": "00159-36345666-a29f-4dcc-9654-52cbe11999a4",
    "deepnote_cell_type": "code"
   },
   "source": "# calc the mean of the values in each column\none_mon_hist.mean()",
   "outputs": [
    {
     "data": {
      "text/plain": "MSFT     47.493182\nAAPL    112.411364\ndtype: float64"
     },
     "execution_count": 186,
     "metadata": {},
     "output_type": "execute_result"
    }
   ],
   "execution_count": null
  },
  {
   "cell_type": "code",
   "metadata": {
    "cell_id": "00160-1e31d18c-fd0e-4ce0-8aa9-2c4046a9cdb6",
    "deepnote_cell_type": "code"
   },
   "source": "# calc the mean of the values in each row\none_mon_hist.mean(axis=1)",
   "outputs": [
    {
     "data": {
      "text/plain": "0     81.845\n1     81.545\n2     82.005\n3     82.165\n4     81.710\n       ...  \n17    80.075\n18    80.935\n19    80.680\n20    79.770\n21    78.415\nLength: 22, dtype: float64"
     },
     "execution_count": 187,
     "metadata": {},
     "output_type": "execute_result"
    }
   ],
   "execution_count": null
  },
  {
   "cell_type": "code",
   "metadata": {
    "cell_id": "00161-aa4cc427-7624-4503-b232-c8bd4a5ec5ca",
    "deepnote_cell_type": "code"
   },
   "source": "# calc the variance of the values in each column\none_mon_hist.var()",
   "outputs": [
    {
     "data": {
      "text/plain": "MSFT    0.870632\nAAPL    5.706231\ndtype: float64"
     },
     "execution_count": 188,
     "metadata": {},
     "output_type": "execute_result"
    }
   ],
   "execution_count": null
  },
  {
   "cell_type": "code",
   "metadata": {
    "cell_id": "00162-6a3fcfe9-a807-474a-983e-645f16546e67",
    "deepnote_cell_type": "code"
   },
   "source": "# calc the median of the values in each column\none_mon_hist.median()",
   "outputs": [
    {
     "data": {
      "text/plain": "MSFT     47.625\nAAPL    112.530\ndtype: float64"
     },
     "execution_count": 189,
     "metadata": {},
     "output_type": "execute_result"
    }
   ],
   "execution_count": null
  },
  {
   "cell_type": "code",
   "metadata": {
    "cell_id": "00163-4386880a-7750-446a-91e5-454a57885eb3",
    "deepnote_cell_type": "code"
   },
   "source": "# location of min price for both stocks\none_mon_hist[['MSFT','AAPL']].min()",
   "outputs": [
    {
     "data": {
      "text/plain": "MSFT     45.16\nAAPL    106.75\ndtype: float64"
     },
     "execution_count": 190,
     "metadata": {},
     "output_type": "execute_result"
    }
   ],
   "execution_count": null
  },
  {
   "cell_type": "code",
   "metadata": {
    "cell_id": "00164-84233fdd-ddba-409a-af05-16f177d0695e",
    "deepnote_cell_type": "code"
   },
   "source": "# and location of the max\none_mon_hist[['MSFT','AAPL']].max()",
   "outputs": [
    {
     "data": {
      "text/plain": "MSFT     48.84\nAAPL    115.93\ndtype: float64"
     },
     "execution_count": 191,
     "metadata": {},
     "output_type": "execute_result"
    }
   ],
   "execution_count": null
  },
  {
   "cell_type": "markdown",
   "source": "Some pandas statistical methods are referred to as indirect statistics, for example, .idxmin() and .idxmax() return the index location where the minimum and maximum values exist respectively.",
   "metadata": {
    "cell_id": "00165-6458ca4c-833f-48f8-a8b7-31aa8e03823a",
    "deepnote_cell_type": "markdown"
   }
  },
  {
   "cell_type": "code",
   "metadata": {
    "cell_id": "00166-cd8b04e5-de5f-48a7-973a-1c6d59aa02cb",
    "deepnote_cell_type": "code"
   },
   "source": "# location of the min price for both stocks\none_mon_hist[['MSFT','AAPL']].idxmin()",
   "outputs": [
    {
     "data": {
      "text/plain": "MSFT    11\nAAPL    11\ndtype: int64"
     },
     "execution_count": 192,
     "metadata": {},
     "output_type": "execute_result"
    }
   ],
   "execution_count": null
  },
  {
   "cell_type": "code",
   "metadata": {
    "cell_id": "00167-90989143-93fe-4d1c-ab78-22e5182e83c6",
    "deepnote_cell_type": "code"
   },
   "source": "one_mon_hist[['MSFT','AAPL']].idxmax()",
   "outputs": [
    {
     "data": {
      "text/plain": "MSFT    3\nAAPL    2\ndtype: int64"
     },
     "execution_count": 193,
     "metadata": {},
     "output_type": "execute_result"
    }
   ],
   "execution_count": null
  },
  {
   "cell_type": "code",
   "metadata": {
    "cell_id": "00168-c699477a-e6d5-482a-b4d9-1ce9efbe7cb6",
    "deepnote_cell_type": "code"
   },
   "source": "# find the mode of the Series\ns = pd.Series([1,2,3,3,5])\ns.mode()",
   "outputs": [
    {
     "data": {
      "text/plain": "0    3\ndtype: int64"
     },
     "execution_count": 195,
     "metadata": {},
     "output_type": "execute_result"
    }
   ],
   "execution_count": null
  },
  {
   "cell_type": "code",
   "metadata": {
    "cell_id": "00169-1ae77211-2422-4a03-b695-7d24cacbdb7d",
    "deepnote_cell_type": "code"
   },
   "source": "# there can be more than one mode\ns = pd.Series([1,2,3,3,5,1])\ns.mode()",
   "outputs": [
    {
     "data": {
      "text/plain": "0    1\n1    3\ndtype: int64"
     },
     "execution_count": 196,
     "metadata": {},
     "output_type": "execute_result"
    }
   ],
   "execution_count": null
  },
  {
   "cell_type": "markdown",
   "source": "Accumulations in pandas are statistical methods that determine a value by continuously applying the next value in a Series to the current result.",
   "metadata": {
    "cell_id": "00170-5517bc72-3cf0-48f8-85e6-16830be1d1cb",
    "deepnote_cell_type": "markdown"
   }
  },
  {
   "cell_type": "code",
   "metadata": {
    "cell_id": "00171-c2f09ce6-fbf3-419e-be49-7b0fd3e92c78",
    "deepnote_cell_type": "code"
   },
   "source": "# calculate a cumulative product\npd.Series([1,2,3,4]).cumprod()",
   "outputs": [
    {
     "data": {
      "text/plain": "0     1\n1     2\n2     6\n3    24\ndtype: int64"
     },
     "execution_count": 197,
     "metadata": {},
     "output_type": "execute_result"
    }
   ],
   "execution_count": null
  },
  {
   "cell_type": "code",
   "metadata": {
    "cell_id": "00172-9d6c3cae-6d84-4c62-866d-65940658cdec",
    "deepnote_cell_type": "code"
   },
   "source": "# calculate a cumulative sum\npd.Series([1,2,3,4]).cumsum()",
   "outputs": [
    {
     "data": {
      "text/plain": "0     1\n1     3\n2     6\n3    10\ndtype: int64"
     },
     "execution_count": 198,
     "metadata": {},
     "output_type": "execute_result"
    }
   ],
   "execution_count": null
  },
  {
   "cell_type": "code",
   "metadata": {
    "cell_id": "00173-123681d7-b5e7-4c05-99f0-e88688fc7247",
    "deepnote_cell_type": "code"
   },
   "source": "# summary statistics\none_mon_hist.describe()",
   "outputs": [
    {
     "data": {
      "text/plain": "            MSFT        AAPL\ncount  22.000000   22.000000\nmean   47.493182  112.411364\nstd     0.933077    2.388772\nmin    45.160000  106.750000\n25%    46.967500  111.660000\n50%    47.625000  112.530000\n75%    48.125000  114.087500\nmax    48.840000  115.930000"
     },
     "execution_count": 199,
     "metadata": {},
     "output_type": "execute_result"
    }
   ],
   "execution_count": null
  },
  {
   "cell_type": "markdown",
   "source": "Non-numerical will result in a slightly different set of summary statistics.",
   "metadata": {
    "cell_id": "00174-237430c3-e5fb-448a-afe6-6eee14581f48",
    "deepnote_cell_type": "markdown"
   }
  },
  {
   "cell_type": "code",
   "metadata": {
    "cell_id": "00175-d92d6c55-6be3-4130-b43d-f08599f0a2c3",
    "deepnote_cell_type": "code"
   },
   "source": "# get summary statistics on non-numeric data\ns = pd.Series(['a','a','b','c',np.NaN])\ns.describe()",
   "outputs": [
    {
     "data": {
      "text/plain": "count     4\nunique    3\ntop       a\nfreq      2\ndtype: object"
     },
     "execution_count": 202,
     "metadata": {},
     "output_type": "execute_result"
    }
   ],
   "execution_count": null
  },
  {
   "cell_type": "code",
   "metadata": {
    "cell_id": "00176-fd7fa588-a33a-4c32-9930-c9da6a81b9c7",
    "deepnote_cell_type": "code"
   },
   "source": "# get summary stats of non-numeric data\ns.count()",
   "outputs": [
    {
     "data": {
      "text/plain": "3"
     },
     "execution_count": 201,
     "metadata": {},
     "output_type": "execute_result"
    }
   ],
   "execution_count": null
  },
  {
   "cell_type": "code",
   "metadata": {
    "cell_id": "00177-f0e8c75a-f94c-458d-a891-4ccf21bde7d5",
    "deepnote_cell_type": "code"
   },
   "source": "# return a list of unique items\ns.unique()",
   "outputs": [
    {
     "data": {
      "text/plain": "array(['a', 'b', 'c', nan], dtype=object)"
     },
     "execution_count": 203,
     "metadata": {},
     "output_type": "execute_result"
    }
   ],
   "execution_count": null
  },
  {
   "cell_type": "code",
   "metadata": {
    "cell_id": "00178-9659f258-6d3d-46d0-af4e-fb7c207a66bc",
    "deepnote_cell_type": "code"
   },
   "source": "# number of occurences of each unique value\ns.value_counts()",
   "outputs": [
    {
     "data": {
      "text/plain": "a    2\nb    1\nc    1\ndtype: int64"
     },
     "execution_count": 204,
     "metadata": {},
     "output_type": "execute_result"
    }
   ],
   "execution_count": null
  },
  {
   "cell_type": "markdown",
   "source": "<a style='text-decoration:none;line-height:16px;display:flex;color:#5B5B62;padding:10px;justify-content:end;' href='https://deepnote.com?utm_source=created-in-deepnote-cell&projectId=30b5f66f-e6a5-4e83-8134-c70f8eed277d' target=\"_blank\">\n<img alt='Created in deepnote.com' style='display:inline;max-height:16px;margin:0px;margin-right:7.5px;' src='data:image/svg+xml;base64,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' > </img>\nCreated in <span style='font-weight:600;margin-left:4px;'>Deepnote</span></a>",
   "metadata": {
    "tags": [],
    "created_in_deepnote_cell": true,
    "deepnote_cell_type": "markdown"
   }
  }
 ],
 "nbformat": 4,
 "nbformat_minor": 2,
 "metadata": {
  "kernelspec": {
   "display_name": "Python 3",
   "language": "python",
   "name": "python3"
  },
  "language_info": {
   "codemirror_mode": {
    "name": "ipython",
    "version": 3
   },
   "file_extension": ".py",
   "mimetype": "text/x-python",
   "name": "python",
   "nbconvert_exporter": "python",
   "pygments_lexer": "ipython3",
   "version": "3.6.1"
  },
  "deepnote_notebook_id": "a0d0bae4-bb01-4906-9a17-3b902c3c18eb",
  "deepnote": {},
  "deepnote_execution_queue": []
 }
}