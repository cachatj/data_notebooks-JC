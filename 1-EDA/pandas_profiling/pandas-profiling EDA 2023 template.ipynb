{
 "cells": [
  {
   "attachments": {},
   "cell_type": "markdown",
   "metadata": {},
   "source": [
    "# pandas_profiling EDA Report Generator (v2023)"
   ]
  },
  {
   "attachments": {},
   "cell_type": "markdown",
   "metadata": {},
   "source": [
    "### Profile 1 - Single parquet files into pandas profile"
   ]
  },
  {
   "cell_type": "code",
   "execution_count": null,
   "metadata": {},
   "outputs": [],
   "source": [
    "# Local Working Directory\n",
    "import os\n",
    "\t\n",
    "def current_path():\n",
    "\tprint(\"Current working directory before\")\n",
    "\tprint(os.getcwd())\n",
    "\tprint()\n",
    "\t\n",
    "# Changing the Working Dir = CH MacBook Pro (Work)\n",
    "os.chdir('')\n",
    "\n",
    "# Printing CWD after\n",
    "current_path()"
   ]
  },
  {
   "cell_type": "code",
   "execution_count": null,
   "metadata": {},
   "outputs": [],
   "source": [
    "# imports & notebook features.\n",
    "\n",
    "import pandas as pd\n",
    "import numpy as np\n",
    "import matplotlib.pyplot as plt\n",
    "import pyarrow.parquet as pq\n",
    "import pyarrow as pa\n",
    "from pandas_profiling import ProfileReport\n",
    "\n",
    "%load_ext autoreload\n",
    "%autoreload 2\n",
    "%matplotlib inline"
   ]
  },
  {
   "cell_type": "code",
   "execution_count": null,
   "metadata": {},
   "outputs": [],
   "source": [
    "# Set pandas-profiling configuration YAML\n",
    "### located @ ~/anaconda3/envs/data-env/lib/python3.9/site-packages/pandas_profiling\n",
    "\n",
    "# --config_file default.yaml \n",
    "# --config_file minimal.yaml\n",
    "\n",
    "--config_file config_spruce_profile.yaml"
   ]
  },
  {
   "cell_type": "code",
   "execution_count": null,
   "metadata": {},
   "outputs": [],
   "source": [
    "## run pandas profiling on standard CSV via CLI\n",
    "! pandas_profiling --title \"Name of Report\" --config_file default.yaml data.csv EDAreport.html\n",
    "\n",
    "df = pd.read_csv('')\n",
    "df.head()"
   ]
  },
  {
   "attachments": {},
   "cell_type": "markdown",
   "metadata": {},
   "source": [
    "# Prepare Dataframe"
   ]
  },
  {
   "cell_type": "code",
   "execution_count": null,
   "metadata": {},
   "outputs": [],
   "source": [
    "## prepare dataframe from Parquet Files \n",
    "### pyarrow\n",
    "#table = pq.read_table('example.parquet')\n",
    "\n",
    "## pandas\n",
    "sprucedata = pd.read_parquet('')\n",
    "\n",
    "sprucedata.head()"
   ]
  },
  {
   "attachments": {},
   "cell_type": "markdown",
   "metadata": {},
   "source": [
    "# Create pandas_profile report"
   ]
  },
  {
   "cell_type": "code",
   "execution_count": null,
   "metadata": {},
   "outputs": [],
   "source": [
    "spruceProfile = ProfileReport(sprucedata, title=\"EDA Profile Report\", html={'style': {'full_width': True}})\n",
    "\n",
    "# Show EDA profile in iframe or widget\n",
    "spruceProfile.to_notebook_iframe() #HTML\n",
    "#dfProfile.to_widgets() #to widgets (collapsed in NB)"
   ]
  },
  {
   "attachments": {},
   "cell_type": "markdown",
   "metadata": {},
   "source": [
    "### export profile to file"
   ]
  },
  {
   "cell_type": "code",
   "execution_count": null,
   "metadata": {},
   "outputs": [],
   "source": [
    "# to save/ output the file \n",
    "dfProfile.to_file(output_file=\"\")\n"
   ]
  },
  {
   "attachments": {},
   "cell_type": "markdown",
   "metadata": {},
   "source": [
    "## Phase 2 - Stack all parquet files into single table, run pandas profiling"
   ]
  },
  {
   "cell_type": "markdown",
   "metadata": {},
   "source": []
  },
  {
   "attachments": {},
   "cell_type": "markdown",
   "metadata": {},
   "source": [
    "# Interpret Results"
   ]
  },
  {
   "attachments": {},
   "cell_type": "markdown",
   "metadata": {},
   "source": [
    "### Alerts Table Definitions - https://pandas-profiling.ydata.ai/docs/master/pages/getting_started/concepts.html\n",
    "\n",
    "<table class=\"colwidths-given docutils align-default\">\n",
    "<colgroup>\n",
    "<col style=\"width: 13%\">\n",
    "<col style=\"width: 88%\">\n",
    "</colgroup>\n",
    "<thead>\n",
    "<tr class=\"row-odd\"><th class=\"head\"><p><strong>Alert</strong></p></th>\n",
    "<th class=\"head\"><p><strong>Description</strong></p></th>\n",
    "</tr>\n",
    "</thead>\n",
    "<tbody>\n",
    "<tr class=\"row-even\"><td><p><code class=\"docutils literal notranslate\"><span class=\"pre\">Constant</span></code></p></td>\n",
    "<td><p>Column only contains one value</p></td>\n",
    "</tr>\n",
    "<tr class=\"row-odd\"><td><p><code class=\"docutils literal notranslate\"><span class=\"pre\">Zeros</span></code></p></td>\n",
    "<td><p>Column only contains zeros</p></td>\n",
    "</tr>\n",
    "<tr class=\"row-even\"><td><p><code class=\"docutils literal notranslate\"><span class=\"pre\">High</span> <span class=\"pre\">Correlation</span></code></p></td>\n",
    "<td><p>Correlations (either Spearman, Cramer, Pearson, Kendall, 𝜙k) are above the warning threshold (configurable).</p></td>\n",
    "</tr>\n",
    "<tr class=\"row-odd\"><td><p><code class=\"docutils literal notranslate\"><span class=\"pre\">High</span> <span class=\"pre\">Cardinality</span></code></p></td>\n",
    "<td><p>Whether the column has more than 50 distinct values. Threshold is configurable.</p></td>\n",
    "</tr>\n",
    "<tr class=\"row-even\"><td><p><code class=\"docutils literal notranslate\"><span class=\"pre\">Skewness</span></code></p></td>\n",
    "<td><p>Column’s univariate distribution presents skewness. Threshold value is configurable.</p></td>\n",
    "</tr>\n",
    "<tr class=\"row-odd\"><td><p><code class=\"docutils literal notranslate\"><span class=\"pre\">Missing</span> <span class=\"pre\">Values</span></code></p></td>\n",
    "<td><p>Column has missing values</p></td>\n",
    "</tr>\n",
    "<tr class=\"row-even\"><td><p><code class=\"docutils literal notranslate\"><span class=\"pre\">Infinite</span> <span class=\"pre\">Values</span></code></p></td>\n",
    "<td><p>Column has infinite values (either <code class=\"docutils literal notranslate\"><span class=\"pre\">np.inf</span></code> or <code class=\"docutils literal notranslate\"><span class=\"pre\">-np.inf</span></code>)</p></td>\n",
    "</tr>\n",
    "<tr class=\"row-odd\"><td><p><code class=\"docutils literal notranslate\"><span class=\"pre\">Unique</span> <span class=\"pre\">Values</span></code></p></td>\n",
    "<td><p>All values of the column are unique (count of unique values equals column’s length)</p></td>\n",
    "</tr>\n",
    "<tr class=\"row-even\"><td><p><code class=\"docutils literal notranslate\"><span class=\"pre\">Date</span></code></p></td>\n",
    "<td><p>Column (likely/mostly) contains Date or Datetime records</p></td>\n",
    "</tr>\n",
    "<tr class=\"row-odd\"><td><p><code class=\"docutils literal notranslate\"><span class=\"pre\">Uniform</span></code></p></td>\n",
    "<td><p>Column follows a uniform distribution (Chi-squared test score &gt; 0.999, threshold score is configrable)</p></td>\n",
    "</tr>\n",
    "<tr class=\"row-even\"><td><p><code class=\"docutils literal notranslate\"><span class=\"pre\">Constant</span> <span class=\"pre\">length</span></code></p></td>\n",
    "<td><p>For strings/date/datetimes columns whose entries all have the same length</p></td>\n",
    "</tr>\n",
    "<tr class=\"row-odd\"><td><p><code class=\"docutils literal notranslate\"><span class=\"pre\">Rejected</span></code></p></td>\n",
    "<td><p>Variable has mixed types or is constant (thus not suitable for meaningful analysis)</p></td>\n",
    "</tr>\n",
    "<tr class=\"row-even\"><td><p><code class=\"docutils literal notranslate\"><span class=\"pre\">Unsupported</span></code></p></td>\n",
    "<td><p>Column can’t be analysed (type is not supported, has mixed types, has <code class=\"docutils literal notranslate\"><span class=\"pre\">lists</span></code>/<code class=\"docutils literal notranslate\"><span class=\"pre\">dicts</span></code>/<code class=\"docutils literal notranslate\"><span class=\"pre\">tuples</span></code>, is \n",
    "empty, wrongly formatted)</p></td>\n",
    "</tr>\n",
    "<tr class=\"row-odd\"><td><p><code class=\"docutils literal notranslate\"><span class=\"pre\">Duplicates</span></code></p></td>\n",
    "<td><p>Dataset-level warning signaling the presence of more than 10 duplicated records.</p></td>\n",
    "</tr>\n",
    "<tr class=\"row-even\"><td><p><code class=\"docutils literal notranslate\"><span class=\"pre\">Empty</span></code></p></td>\n",
    "<td><p>Dataset-level warning signaling there’s no data to be analysed.</p></td>\n",
    "</tr>\n",
    "</tbody>\n",
    "</table>"
   ]
  }
 ],
 "metadata": {
  "kernelspec": {
   "display_name": "torchlight",
   "language": "python",
   "name": "python3"
  },
  "language_info": {
   "codemirror_mode": {
    "name": "ipython",
    "version": 3
   },
   "file_extension": ".py",
   "mimetype": "text/x-python",
   "name": "python",
   "nbconvert_exporter": "python",
   "pygments_lexer": "ipython3",
   "version": "3.9.13"
  },
  "orig_nbformat": 4,
  "vscode": {
   "interpreter": {
    "hash": "ebd9b1eba2f70f8ba984a56a824b117f9708e5bebc384826750679d9d8e09922"
   }
  }
 },
 "nbformat": 4,
 "nbformat_minor": 2
}
