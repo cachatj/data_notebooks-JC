{
 "cells": [
  {
   "cell_type": "code",
   "execution_count": null,
   "id": "66f47ccb-7355-4886-b484-6fe0e524242d",
   "metadata": {
    "collapsed": true,
    "jupyter": {
     "outputs_hidden": true
    },
    "tags": []
   },
   "outputs": [],
   "source": [
    "!pip install google-cloud-bigquery==1.25.0 --use-feature=2020-resolver"
   ]
  },
  {
   "cell_type": "code",
   "execution_count": 1,
   "id": "a61ba20b-94df-4a0f-b7fc-f498daa43322",
   "metadata": {},
   "outputs": [
    {
     "name": "stderr",
     "output_type": "stream",
     "text": [
      "UsageError: Cell magic `%%bigquery` not found.\n"
     ]
    }
   ],
   "source": [
    "%%bigquery df\n",
    "SELECT\n",
    "  depdelay as departure_delay,\n",
    "  COUNT(1) AS num_flights,\n",
    "  APPROX_QUANTILES(arrdelay, 10) AS arrival_delay_deciles\n",
    "FROM\n",
    "  `cloud-training-demos.airline_ontime_data.flights`\n",
    "WHERE\n",
    " depdelay is not null\n",
    "GROUP BY\n",
    "  depdelay\n",
    "HAVING\n",
    "  num_flights > 100\n",
    "ORDER BY\n",
    "  depdelay ASC"
   ]
  },
  {
   "cell_type": "code",
   "execution_count": null,
   "id": "5c988392-0881-4e28-a3c2-b9e6cd0c60b1",
   "metadata": {},
   "outputs": [],
   "source": [
    "df.head()"
   ]
  },
  {
   "cell_type": "code",
   "execution_count": null,
   "id": "59dd8906-8163-4e24-b21f-eddb6534e556",
   "metadata": {},
   "outputs": [],
   "source": [
    "import pandas as pd\n",
    "percentiles = df['arrival_delay_deciles'].apply(pd.Series)\n",
    "percentiles.rename(columns = lambda x : '{0}%'.format(x*10), inplace=True)\n",
    "percentiles.head()"
   ]
  },
  {
   "cell_type": "code",
   "execution_count": null,
   "id": "6cfe503c-caeb-4573-8965-6bc1fe7d01f1",
   "metadata": {},
   "outputs": [],
   "source": [
    "df = pd.concat([df['departure_delay'], percentiles], axis=1)\n",
    "df.head()"
   ]
  },
  {
   "cell_type": "code",
   "execution_count": null,
   "id": "5162afa9-b32c-4a83-9018-d0bd0ecec7e1",
   "metadata": {},
   "outputs": [],
   "source": [
    "df.drop(labels=['0%', '100%'], axis=1, inplace=True)\n",
    "df.plot(x='departure_delay', xlim=(-30,50), ylim=(-50,50));"
   ]
  },
  {
   "cell_type": "code",
   "execution_count": null,
   "id": "0d11371f-44f6-4148-bfe2-d3adb4f7d79d",
   "metadata": {},
   "outputs": [],
   "source": []
  }
 ],
 "metadata": {
  "environment": {
   "kernel": "python3",
   "name": "common-cu110.m94",
   "type": "gcloud",
   "uri": "gcr.io/deeplearning-platform-release/base-cu110:m94"
  },
  "kernelspec": {
   "display_name": "Python 3.9.13 ('data')",
   "language": "python",
   "name": "python3"
  },
  "language_info": {
   "codemirror_mode": {
    "name": "ipython",
    "version": 3
   },
   "file_extension": ".py",
   "mimetype": "text/x-python",
   "name": "python",
   "nbconvert_exporter": "python",
   "pygments_lexer": "ipython3",
   "version": "3.8.16"
  },
  "vscode": {
   "interpreter": {
    "hash": "61f816485507dc889ff66c817d3dfe3a5ba58d9e76a81eab42366b9b45bfe58a"
   }
  }
 },
 "nbformat": 4,
 "nbformat_minor": 5
}
