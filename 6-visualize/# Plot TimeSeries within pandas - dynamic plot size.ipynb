{
 "cells": [
  {
   "cell_type": "markdown",
   "metadata": {},
   "source": [
    "# Plot TimeSeries within pandas - dynamic plot size"
   ]
  },
  {
   "cell_type": "code",
   "execution_count": null,
   "metadata": {},
   "outputs": [],
   "source": [
    "from google.cloud import bigquery\n",
    "import google.auth\n",
    "import pandas as pd\n",
    "from datetime import datetime, timedelta\n",
    "\n",
    "#Enable BigQuery Magic\n",
    "%load_ext google.cloud.bigquery\n",
    "\n",
    "pd.set_option('display.float_format', lambda x: '%.3f' % x)"
   ]
  },
  {
   "cell_type": "code",
   "execution_count": null,
   "metadata": {
    "id": "xwVPZP3fap97"
   },
   "outputs": [],
   "source": [
    "%%bigquery dfhistorical --project $PROJECT_ID \n",
    "\n",
    "SELECT \n",
    "    * \n",
    "FROM \n",
    "    edna-datastg-pr-cah.D2_ML_CORP_DNA_FRANCIS_SALK_NP_EXPM.bqmlforecast_training"
   ]
  },
  {
   "cell_type": "code",
   "execution_count": null,
   "metadata": {},
   "outputs": [],
   "source": [
    "\n",
    "dfhistorical.head()"
   ]
  },
  {
   "cell_type": "markdown",
   "metadata": {
    "id": "JiRjcr-Uap99"
   },
   "source": [
    "Using the training data, plot the sales histories of the target liquor products:"
   ]
  },
  {
   "cell_type": "code",
   "execution_count": null,
   "metadata": {
    "colab": {
     "base_uri": "https://localhost:8080/",
     "height": 1000
    },
    "id": "hCvY292Xap9-",
    "outputId": "3b464686-cc5a-4ad7-f860-860ffd919f17"
   },
   "outputs": [],
   "source": [
    "kitlist = list(dfhistorical.Material.unique())\n",
    "\n",
    "for item in kitlist:\n",
    "    \n",
    "    datah = dfhistorical[dfhistorical.Material==item]\n",
    "    plot_historical_and_forecast(input_timeseries = datah, \n",
    "                                 timestamp_col_name = \"DEMAND_DATE_WEEK\", \n",
    "                                 data_col_name = \"DEMAND_QTY_BASEUOM\", \n",
    "                                 forecast_output = None, \n",
    "                                 actual = None,\n",
    "                                 title = item)"
   ]
  }
 ],
 "metadata": {
  "kernelspec": {
   "display_name": "Python 3.9.13 ('timeseries-darts')",
   "language": "python",
   "name": "python3"
  },
  "language_info": {
   "codemirror_mode": {
    "name": "ipython",
    "version": 3
   },
   "file_extension": ".py",
   "mimetype": "text/x-python",
   "name": "python",
   "nbconvert_exporter": "python",
   "pygments_lexer": "ipython3",
   "version": "3.9.13"
  },
  "orig_nbformat": 4,
  "vscode": {
   "interpreter": {
    "hash": "588f18b55e094a3c1e8f3ca16dbc02670dfc8833cb600942b899ea40d3c780d1"
   }
  }
 },
 "nbformat": 4,
 "nbformat_minor": 2
}
