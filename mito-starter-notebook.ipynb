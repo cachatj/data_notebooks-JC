{
 "cells": [
  {
   "cell_type": "code",
   "execution_count": 2,
   "id": "c0957234-ba57-4199-adfa-9d17ede0b8f9",
   "metadata": {
    "scrolled": true
   },
   "outputs": [
    {
     "data": {
      "application/vnd.jupyter.widget-view+json": {
       "model_id": "97fdb9f9de894f6aaa0943f7af41abc9",
       "version_major": 2,
       "version_minor": 0
      },
      "text/plain": [
       "MitoWidget(analysis_data_json='{\"analysisName\": \"id-yfvckfdtik\", \"analysisToReplay\": {\"analysisName\": \"id-ldzs…"
      ]
     },
     "metadata": {},
     "output_type": "display_data"
    }
   ],
   "source": [
    "# Run this cell to render a mitosheet\n",
    "# See mito's documentation here: https://docs.trymito.io/how-to/creating-a-mitosheet\n",
    "# Join our Discord for support here: https://discord.gg/XdJSZyejJU\n",
    "\n",
    "import mitosheet\n",
    "mitosheet.sheet(analysis_to_replay=\"id-ldzsoggsqh\")"
   ]
  },
  {
   "cell_type": "code",
   "execution_count": null,
   "id": "15a5106c",
   "metadata": {},
   "outputs": [],
   "source": [
    "from mitosheet import *; register_analysis(\"id-ldzsoggsqh\");\n",
    "    \n",
    "# Imported us_gasoline.csv\n",
    "import pandas as pd\n",
    "us_gasoline = pd.read_csv(r'/Users/JCachat/Google Drive/data_notebooks-JC/00-data/timeseries-datasets/us_gasoline.csv')\n",
    "\n",
    "# Imported us_gasoline.csv\n",
    "import pandas as pd\n",
    "us_gasoline_1 = pd.read_csv(r'/Users/JCachat/Google Drive/data_notebooks-JC/00-data/timeseries-datasets/us_gasoline.csv')\n",
    "\n",
    "# Deleted us_gasoline_1\n",
    "del us_gasoline_1\n",
    "\n",
    "# Sorted Week in descending order\n",
    "us_gasoline = us_gasoline.sort_values(by='Week', ascending=False, na_position='last')\n",
    "\n",
    "# Changed Week to dtype datetime\n",
    "import pandas as pd\n",
    "us_gasoline['Week'] = pd.to_datetime(us_gasoline['Week'], infer_datetime_format=True, errors='coerce')\n",
    "\n",
    "# Sorted Week in ascending order\n",
    "us_gasoline = us_gasoline.sort_values(by='Week', ascending=True, na_position='first')\n",
    "\n",
    "# Pivoted into us_gasoline\n",
    "us_gasoline_pivot = pd.DataFrame(data={})\n",
    "\n",
    "# Imported waterTemp-timeseries.csv\n",
    "import pandas as pd\n",
    "waterTemp_timeseries = pd.read_csv(r'/Users/JCachat/Google Drive/data_notebooks-JC/data/waterTemp-timeseries.csv')\n",
    "\n",
    "# Changed year_month to dtype datetime\n",
    "import pandas as pd\n",
    "waterTemp_timeseries['year_month'] = pd.to_datetime(waterTemp_timeseries['year_month'], infer_datetime_format=True, errors='coerce')\n",
    "\n",
    "# Imported terpeneArray-mini.csv\n",
    "import pandas as pd\n",
    "terpeneArray_mini = pd.read_csv(r'/Users/JCachat/Google Drive/data_notebooks-JC/data/terpeneArray-mini.csv')\n",
    "\n",
    "# Deleted us_gasoline_pivot\n",
    "del us_gasoline_pivot\n",
    "\n",
    "# Deleted terpeneArray_mini\n",
    "del terpeneArray_mini\n",
    "\n",
    "# Imported btc.csv\n",
    "import pandas as pd\n",
    "btc = pd.read_csv(r'/Users/JCachat/Google Drive/data_notebooks-JC/data/btc.csv')\n",
    "\n",
    "# Added column new-column-fhyh\n",
    "btc.insert(1, 'new-column-fhyh', 0)\n",
    "\n",
    "# Renamed columns Date_Year\n",
    "btc.rename(columns={'new-column-fhyh': 'Date_Year'}, inplace=True)\n",
    "\n",
    "# Set formula of Date_Year\n",
    "btc['Date_Year'] = YEAR(btc['Date'])\n",
    "\n",
    "# Changed Date_Year to dtype datetime\n",
    "import pandas as pd\n",
    "btc['Date_Year'] = pd.to_datetime(btc['Date_Year'], unit='s', errors='coerce')\n",
    "\n",
    "# Changed Date to dtype datetime\n",
    "import pandas as pd\n",
    "btc['Date'] = pd.to_datetime(btc['Date'], infer_datetime_format=True, errors='coerce')\n",
    "\n",
    "# Set formula of Date_Year\n",
    "btc['Date_Year'] = YEAR(btc['Date'])\n",
    "\n",
    "# Concatenated 0 into dataframes into df4\n",
    "df4 = pd.DataFrame()\n",
    "\n",
    "# Deleted df4\n",
    "del df4\n"
   ]
  }
 ],
 "metadata": {
  "kernelspec": {
   "display_name": "Python 3 (ipykernel)",
   "language": "python",
   "name": "python3"
  },
  "language_info": {
   "codemirror_mode": {
    "name": "ipython",
    "version": 3
   },
   "file_extension": ".py",
   "mimetype": "text/x-python",
   "name": "python",
   "nbconvert_exporter": "python",
   "pygments_lexer": "ipython3",
   "version": "3.9.13"
  },
  "widgets": {
   "application/vnd.jupyter.widget-state+json": {
    "state": {},
    "version_major": 2,
    "version_minor": 0
   }
  }
 },
 "nbformat": 4,
 "nbformat_minor": 5
}
